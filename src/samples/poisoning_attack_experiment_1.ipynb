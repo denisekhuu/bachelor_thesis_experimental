{
 "cells": [
  {
   "cell_type": "markdown",
   "id": "1fe4f3d4-0a22-45ee-8666-ecfb51812149",
   "metadata": {},
   "source": [
    "# Poisoning Attack in Federated Learning Experiment 1"
   ]
  },
  {
   "cell_type": "markdown",
   "id": "fffab25b-d49e-4c49-832a-f96723b48671",
   "metadata": {},
   "source": [
    "Purpose: \n",
    "- What is the performance loss induced through the different poisoning attack? \n",
    "- What is the performance of the global model without poisoning?\n"
   ]
  },
  {
   "cell_type": "code",
   "execution_count": 3,
   "id": "466d7488-718e-4275-b3ca-ceb4bfc32f23",
   "metadata": {},
   "outputs": [],
   "source": [
    "from federated_learning.utils import SHAPUtil, experiment_util\n",
    "from federated_learning import ClientPlane, Configuration, ObserverConfiguration\n",
    "from federated_learning.server import Server\n",
    "from datetime import datetime"
   ]
  },
  {
   "cell_type": "markdown",
   "id": "3350261c-a693-4ee1-aae2-3b1b68addad4",
   "metadata": {},
   "source": [
    "## Additional Functions"
   ]
  },
  {
   "cell_type": "code",
   "execution_count": 13,
   "id": "ef2cd015-f2b1-4d07-a9c2-ecb49c38db25",
   "metadata": {},
   "outputs": [],
   "source": [
    "class Experiment():\n",
    "    def __init__(self, num_p_clients, from_label, to_label, natural_label ):\n",
    "        self.num_p_clients = num_p_clients\n",
    "        self.from_label = from_label\n",
    "        self.to_label = to_label\n",
    "        self.neutral_label = natural_label\n",
    "        self.accuracy = []\n",
    "        self.recall = {}\n",
    "        self.initialize_recall()\n",
    "\n",
    "    def initialize_recall(self):\n",
    "        self.recall[self.from_label] = []\n",
    "        self.recall[self.to_label] = []\n",
    "        self.recall[self.neutral_label] = []\n",
    "        "
   ]
  },
  {
   "cell_type": "code",
   "execution_count": null,
   "id": "77c6b825-9314-449c-9f7a-8224e57baa31",
   "metadata": {},
   "outputs": [],
   "source": [
    "experiments = []"
   ]
  },
  {
   "cell_type": "code",
   "execution_count": 9,
   "id": "e53cd9e1-7430-43c1-a6a2-be102463d227",
   "metadata": {},
   "outputs": [],
   "source": [
    "def add_round_to_experiment(experiment, recall, accuracy, from_label, to_label, neutral_label): \n",
    "    experiment.accuracy.append(accuracy)\n",
    "    experiment.recall[from_label].append(recall[from_label])\n",
    "    experiment.recall[to_label].append(recall[to_label])\n",
    "    experiment.recall[neutral_label].append(recall[neutral_label])"
   ]
  },
  {
   "cell_type": "markdown",
   "id": "8600156e-91dd-4a11-a8aa-f0efda25abce",
   "metadata": {
    "tags": []
   },
   "source": [
    "## Experiment 1.0: MNIST(5,4)"
   ]
  },
  {
   "cell_type": "code",
   "execution_count": null,
   "id": "caf2c6d0-14e1-45e0-902c-b844823597f4",
   "metadata": {
    "tags": []
   },
   "outputs": [],
   "source": [
    "from federated_learning.nets import MNISTCNN\n",
    "from federated_learning.dataset import MNISTDataset\n",
    "config = Configuration()\n",
    "config.FROM_LABEL = 5\n",
    "config.TO_LABEL = 4\n",
    "config.POISONED_CLIENTS = 0\n",
    "config.DATA_POISONING_PERCENTAGE = 1\n",
    "config.DATASET = MNISTDataset\n",
    "config.MODELNAME = config.MNIST_NAME\n",
    "config.NETWORK = MNISTCNN\n",
    "observer_config = ObserverConfiguration()\n",
    "observer_config.experiment_type = \"shap_fl_poisoned\"\n",
    "observer_config.experiment_id = 1\n",
    "observer_config.test = False\n",
    "observer_config.datasetObserverConfiguration = \"MNIST\"\n",
    "neutral_label_label = 2"
   ]
  },
  {
   "cell_type": "code",
   "execution_count": null,
   "id": "b4ce109f-9cf1-45ef-a893-4ebbe4d8d6a8",
   "metadata": {},
   "outputs": [],
   "source": [
    "data = config.DATASET(config)\n",
    "shap_util = SHAPUtil(data.test_dataloader) "
   ]
  },
  {
   "cell_type": "code",
   "execution_count": null,
   "id": "9ca9f211-36c6-49fc-a5ce-bec4420134b6",
   "metadata": {},
   "outputs": [],
   "source": [
    "server = Server(config, observer_config,data.train_dataloader, data.test_dataloader, shap_util)\n",
    "client_plane = ClientPlane(config, observer_config, data, shap_util)"
   ]
  },
  {
   "cell_type": "code",
   "execution_count": null,
   "id": "2eef9ecf-7e5a-4c3d-a06c-64ba662b68bf",
   "metadata": {
    "scrolled": true,
    "tags": []
   },
   "outputs": [],
   "source": [
    "import numpy as np\n",
    "import copy\n",
    "for num_p_clients in [0, 10, 25, 50,75, 100, 200]:\n",
    "    client_plane.reset_default_client_nets()\n",
    "    server.reset_to_default_net()\n",
    "    client_plane.reset_poisoning_attack()\n",
    "    config.POISONED_CLIENTS = num_p_clients\n",
    "    experiment = Experiment(num_p_clients, config.FROM_LABEL, config.TO_LABEL, neutral_label)\n",
    "    experiment_util.update_configs(client_plane, server, config, observer_config)\n",
    "    client_plane.poison_clients()\n",
    "    server.test()\n",
    "    recall, precision, accuracy = server.analize_test()\n",
    "    add_round_to_experiment(experiment, recall, accuracy, config.FROM_LABEL, config.TO_LABEL, neutral_label)\n",
    "    for i in range(200):\n",
    "        experiment_util.set_rounds(client_plane, server, i+1)\n",
    "        experiment_util.run_round(client_plane, server, i+1)\n",
    "        if (i+1)%10 == 0:\n",
    "            server.test()\n",
    "            recall, precision, accuracy = server.analize_test()\n",
    "            add_round_to_experiment(experiment, recall, accuracy, config.FROM_LABEL, config.TO_LABEL, neutral_label)\n",
    "            print(\"Round {} finished\".format(i+1))\n",
    "    print(experiment.accuracy)\n",
    "    print(experiment.recall[config.FROM_LABEL])\n",
    "    print(experiment.recall[config.TO_LABEL])\n",
    "    print(experiment.recall[natural_label])\n",
    "    experiments.append(copy.deepcopy(experiment))"
   ]
  },
  {
   "cell_type": "code",
   "execution_count": null,
   "id": "3ca65987-118d-45df-974e-6d0248b360b0",
   "metadata": {
    "scrolled": true,
    "tags": []
   },
   "outputs": [],
   "source": [
    "for e in experiments: \n",
    "    print(e.accuracyracy)\n",
    "    print(e.recall[config.FROM_LABEL])\n",
    "    print(e.recall[config.TO_LABEL])\n",
    "    print(e.recall[neutral_label])"
   ]
  },
  {
   "cell_type": "markdown",
   "id": "a6f621ea-1b3a-4c2a-9ad7-03ec54c9ed46",
   "metadata": {},
   "source": [
    "# Experiment 1.0: Fashion MNIST(5,4)"
   ]
  },
  {
   "cell_type": "code",
   "execution_count": 10,
   "id": "0eeb61a0-2d44-4d93-be81-7e23b6fd8d6b",
   "metadata": {},
   "outputs": [],
   "source": [
    "from federated_learning.nets import FMNISTCNN\n",
    "from federated_learning.dataset import FMNISTDataset\n",
    "config = Configuration()\n",
    "config.FROM_LABEL = 5\n",
    "config.TO_LABEL = 4\n",
    "config.POISONED_CLIENTS = 0\n",
    "config.DATA_POISONING_PERCENTAGE = 1\n",
    "config.DATASET = FMNISTDataset\n",
    "config.MODELNAME = config.FMNIST_NAME\n",
    "config.NETWORK = FMNISTCNN\n",
    "observer_config = ObserverConfiguration()\n",
    "observer_config.experiment_type = \"shap_fl_poisoned\"\n",
    "observer_config.experiment_id = 1\n",
    "observer_config.test = False\n",
    "observer_config.dataset = \"FMNIST\"\n",
    "neutral_label = 2"
   ]
  },
  {
   "cell_type": "code",
   "execution_count": 11,
   "id": "8a322c77-87bf-45e1-819e-35c2e5dd799a",
   "metadata": {},
   "outputs": [
    {
     "name": "stdout",
     "output_type": "stream",
     "text": [
      "FashionMnist training data loaded.\n",
      "FashionMnist training data loaded.\n",
      "Create 200 clients with dataset of size 300\n"
     ]
    }
   ],
   "source": [
    "data = config.DATASET(config)\n",
    "shap_util = SHAPUtil(data.test_dataloader) \n",
    "server = Server(config, observer_config,data.train_dataloader, data.test_dataloader, shap_util)\n",
    "client_plane = ClientPlane(config, observer_config, data, shap_util)\n",
    "experiments_fmnist = []"
   ]
  },
  {
   "cell_type": "code",
   "execution_count": null,
   "id": "0091bc85-8f15-465a-87f3-ba7bcebd212b",
   "metadata": {},
   "outputs": [
    {
     "name": "stdout",
     "output_type": "stream",
     "text": [
      "Load default model successfully\n",
      "No poisoning due to 0. poisoned clients\n"
     ]
    },
    {
     "name": "stderr",
     "output_type": "stream",
     "text": [
      "dropout2d: Received a 2-D input to dropout2d, which is deprecated and will result in an error in a future release. To retain the behavior and silence this warning, please use dropout instead. Note that dropout2d exists to provide channel-wise dropout on inputs with 2 spatial dimensions, a channel dimension, and an optional batch dimension (i.e. 3D or 4D inputs).\n"
     ]
    },
    {
     "name": "stdout",
     "output_type": "stream",
     "text": [
      "\n",
      "Test set: Average loss: 0.0023, Accuracy: 1252/10000 (13%)\n",
      "\n",
      "\n",
      "Test set: Average loss: 0.0005, Accuracy: 8162/10000 (82%)\n",
      "\n",
      "Round 10 finished\n",
      "\n",
      "Test set: Average loss: 0.0005, Accuracy: 8411/10000 (84%)\n",
      "\n",
      "Round 20 finished\n",
      "\n",
      "Test set: Average loss: 0.0004, Accuracy: 8540/10000 (85%)\n",
      "\n",
      "Round 30 finished\n"
     ]
    }
   ],
   "source": [
    "import numpy as np\n",
    "import copy\n",
    "for num_p_clients in [0, 10, 25, 50, 75, 100, 200]:\n",
    "    client_plane.reset_default_client_nets()\n",
    "    server.reset_to_default_net()\n",
    "    client_plane.reset_poisoning_attack()\n",
    "    config.POISONED_CLIENTS = num_p_clients\n",
    "    experiment = Experiment(num_p_clients, config.FROM_LABEL, config.TO_LABEL, neutral_label)\n",
    "    experiment_util.update_configs(client_plane, server, config, observer_config)\n",
    "    client_plane.poison_clients()\n",
    "    server.test()\n",
    "    recall, precision, accuracy = server.analize_test()\n",
    "    add_round_to_experiment(experiment, recall, accuracy, config.FROM_LABEL, config.TO_LABEL, neutral_label)\n",
    "    for i in range(200):\n",
    "        experiment_util.set_rounds(client_plane, server, i+1)\n",
    "        experiment_util.run_round(client_plane, server, i+1)\n",
    "        if (i+1)%10 == 0:\n",
    "            server.test()\n",
    "            recall, precision, accuracy = server.analize_test()\n",
    "            add_round_to_experiment(experiment, recall, accuracy, config.FROM_LABEL, config.TO_LABEL, neutral_label)\n",
    "            print(\"Round {} finished\".format(i+1))\n",
    "    print(experiment.accuracy)\n",
    "    print(experiment.recall[config.FROM_LABEL])\n",
    "    print(experiment.recall[config.TO_LABEL])\n",
    "    print(experiment.recall[natural_label])\n",
    "    experiments_fmnist.append(copy.deepcopy(experiment))"
   ]
  }
 ],
 "metadata": {
  "kernelspec": {
   "display_name": "Python 3 (ipykernel)",
   "language": "python",
   "name": "python3"
  },
  "language_info": {
   "codemirror_mode": {
    "name": "ipython",
    "version": 3
   },
   "file_extension": ".py",
   "mimetype": "text/x-python",
   "name": "python",
   "nbconvert_exporter": "python",
   "pygments_lexer": "ipython3",
   "version": "3.9.12"
  }
 },
 "nbformat": 4,
 "nbformat_minor": 5
}
