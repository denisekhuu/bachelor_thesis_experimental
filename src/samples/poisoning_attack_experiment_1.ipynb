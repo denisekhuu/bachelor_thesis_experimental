{
 "cells": [
  {
   "cell_type": "markdown",
   "id": "1fe4f3d4-0a22-45ee-8666-ecfb51812149",
   "metadata": {},
   "source": [
    "# Poisoning Attack in Federated Learning"
   ]
  },
  {
   "cell_type": "markdown",
   "id": "fffab25b-d49e-4c49-832a-f96723b48671",
   "metadata": {},
   "source": [
    "Purpose: \n",
    "- What is the performance loss induced through the different poisoning attack? \n",
    "- What is the performance of the global model without poisoning?\n"
   ]
  },
  {
   "cell_type": "code",
   "execution_count": null,
   "id": "466d7488-718e-4275-b3ca-ceb4bfc32f23",
   "metadata": {},
   "outputs": [],
   "source": [
    "from federated_learning.utils import SHAPUtil, experiment_util\n",
    "from federated_learning import ClientPlane, Configuration\n",
    "from federated_learning.server import Server\n",
    "from datetime import datetime"
   ]
  },
  {
   "cell_type": "code",
   "execution_count": null,
   "id": "b4ce109f-9cf1-45ef-a893-4ebbe4d8d6a8",
   "metadata": {},
   "outputs": [],
   "source": []
  }
 ],
 "metadata": {
  "kernelspec": {
   "display_name": "Python 3 (ipykernel)",
   "language": "python",
   "name": "python3"
  },
  "language_info": {
   "codemirror_mode": {
    "name": "ipython",
    "version": 3
   },
   "file_extension": ".py",
   "mimetype": "text/x-python",
   "name": "python",
   "nbconvert_exporter": "python",
   "pygments_lexer": "ipython3",
   "version": "3.9.12"
  }
 },
 "nbformat": 4,
 "nbformat_minor": 5
}
