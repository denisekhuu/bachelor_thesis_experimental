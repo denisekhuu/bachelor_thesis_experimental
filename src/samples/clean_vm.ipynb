{
 "cells": [
  {
   "cell_type": "code",
   "execution_count": 1,
   "id": "9d706749-5811-4675-9170-8464a40e3800",
   "metadata": {},
   "outputs": [],
   "source": [
    "from federated_learning.utils import VMUtil\n",
    "from federated_learning import ClientPlane, Configuration"
   ]
  },
  {
   "cell_type": "code",
   "execution_count": 2,
   "id": "447646b8-adc2-456e-b035-cdefceb436a7",
   "metadata": {},
   "outputs": [
    {
     "name": "stdout",
     "output_type": "stream",
     "text": [
      "Delete old metrics from client_accuracy with None\n",
      "Delete old metrics from client_recall with None\n",
      "Delete old metrics from client_precision with None\n",
      "Delete old metrics from client_shap_pos with None\n",
      "Delete old metrics from client_shap_neg with None\n",
      "Delete old metrics from client_shap_mean with None\n",
      "Delete old metrics from client_test with None\n"
     ]
    }
   ],
   "source": [
    "configs = Configuration()\n",
    "vm = VMUtil(configs)\n",
    "vm.delete_old_metrics('client', [\"accuracy\", \"recall\", \"precision\", \"shap_pos\", \"shap_neg\", \"shap_mean\", \"test\"])"
   ]
  }
 ],
 "metadata": {
  "kernelspec": {
   "display_name": "Python 3 (ipykernel)",
   "language": "python",
   "name": "python3"
  },
  "language_info": {
   "codemirror_mode": {
    "name": "ipython",
    "version": 3
   },
   "file_extension": ".py",
   "mimetype": "text/x-python",
   "name": "python",
   "nbconvert_exporter": "python",
   "pygments_lexer": "ipython3",
   "version": "3.9.12"
  }
 },
 "nbformat": 4,
 "nbformat_minor": 5
}
