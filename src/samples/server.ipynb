{
 "cells": [
  {
   "cell_type": "code",
   "execution_count": 1,
   "id": "46e6b672-725f-4550-b39b-7fe6c6a1ea3a",
   "metadata": {},
   "outputs": [],
   "source": [
    "from federated_learning.utils import SHAPUtil\n",
    "from federated_learning import ClientPlane, Configuration\n",
    "from federated_learning.server import Server"
   ]
  },
  {
   "cell_type": "code",
   "execution_count": 2,
   "id": "b4146637-5eb6-4413-994a-6868b4aa167f",
   "metadata": {},
   "outputs": [],
   "source": [
    "class ObserverConfiguration():\n",
    "    experiment_type = \"shap_clean_run\"\n",
    "    experiment_id = 0\n",
    "    test = True\n",
    "    dataset_type = \"MNIST\"\n",
    "    \n",
    "    # Client Configurations \n",
    "    client_name = \"client\"\n",
    "    client_type = \"client\""
   ]
  },
  {
   "cell_type": "code",
   "execution_count": 3,
   "id": "b6df18c1-38ee-481e-8f48-0bff26fa1e19",
   "metadata": {},
   "outputs": [
    {
     "name": "stdout",
     "output_type": "stream",
     "text": [
      "MNIST training data loaded.\n",
      "MNIST test data loaded.\n"
     ]
    }
   ],
   "source": [
    "config = Configuration()\n",
    "data = config.DATASET(config)\n",
    "shap_util = SHAPUtil(data.test_dataloader)\n",
    "observer_config = ObserverConfiguration()"
   ]
  },
  {
   "cell_type": "code",
   "execution_count": 4,
   "id": "4521dba2-fe32-4230-988f-da6b8f85f515",
   "metadata": {},
   "outputs": [
    {
     "name": "stdout",
     "output_type": "stream",
     "text": [
      "Load model successfully\n",
      "Create 200 clients with dataset of size 300\n"
     ]
    }
   ],
   "source": [
    "server = Server(config, shap_util)\n",
    "client_plane = ClientPlane(config, observer_config, data, shap_util)\n",
    "\n",
    "def run_round():\n",
    "    client_plane.update_clients(server.get_nn_parameters())\n",
    "    selected_clients = server.select_clients()\n",
    "    client_parameters = client_plane.train_selected_clients(selected_clients)\n",
    "    server.aggregate_model(client_parameters)\n",
    "    \n",
    "for i in range(10):\n",
    "    client_plane.set_rounds(i)\n",
    "    server.set_rounds(i)\n",
    "    run_round()"
   ]
  }
 ],
 "metadata": {
  "kernelspec": {
   "display_name": "Python 3 (ipykernel)",
   "language": "python",
   "name": "python3"
  },
  "language_info": {
   "codemirror_mode": {
    "name": "ipython",
    "version": 3
   },
   "file_extension": ".py",
   "mimetype": "text/x-python",
   "name": "python",
   "nbconvert_exporter": "python",
   "pygments_lexer": "ipython3",
   "version": "3.9.12"
  }
 },
 "nbformat": 4,
 "nbformat_minor": 5
}
