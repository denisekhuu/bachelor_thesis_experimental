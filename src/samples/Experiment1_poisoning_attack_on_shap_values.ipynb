{
 "cells": [
  {
   "cell_type": "markdown",
   "id": "7d947a1d-e8a9-4f69-9eac-b7be9b81d818",
   "metadata": {},
   "source": [
    "# Experiment 1: SHAP values in different dataset sizes"
   ]
  },
  {
   "cell_type": "markdown",
   "id": "c21be896-deac-4efe-8181-e210bc7be583",
   "metadata": {},
   "source": [
    "This experiment should show the changes in shap values as dataset size get reduced to help us understand how SHAP values change independently from an poisoning attack. \n",
    "Since in Federated Learning the size is drastically reduced due to the missing step of data aggregation. \n"
   ]
  },
  {
   "cell_type": "markdown",
   "id": "728a80cf-ca23-4fbf-8d2c-cea0bb4132c9",
   "metadata": {},
   "source": [
    "Experimental Setup:\n",
    "\n",
    "\n",
    "* datasets: MNIST(FFNNCLient, nll-loss), FMNIST(CNNCLient, cross entropy)\n",
    "* number of clients: (1, 10, 50, 100, 200)\n",
    "* dataset size respectively: (60000, 6000, 1200, 600, 300)"
   ]
  },
  {
   "cell_type": "code",
   "execution_count": 4,
   "id": "c5fd0762-b997-41e1-8505-aa9befb42fb3",
   "metadata": {},
   "outputs": [],
   "source": [
    "from federated_learning.utils import SHAPUtil, VMUtil\n",
    "from federated_learning import ClientPlane, Configuration"
   ]
  },
  {
   "cell_type": "code",
   "execution_count": 6,
   "id": "ffc8cf98-fb85-4a23-bb03-17121531bcf9",
   "metadata": {},
   "outputs": [
    {
     "name": "stdout",
     "output_type": "stream",
     "text": [
      "MNIST training data loaded.\n",
      "MNIST test data loaded.\n",
      "1\n",
      "10\n",
      "50\n",
      "100\n",
      "200\n"
     ]
    }
   ],
   "source": [
    "config = Configuration()\n",
    "data = config.DATASET(config)\n",
    "shap_util = SHAPUtil(data.test_dataloader)\n",
    "\n",
    "for number_client in [1, 10, 50, 100, 200]:\n",
    "    config.NUMBER_OF_CLIENTS = number_client\n",
    "    client_plane = ClientPlane(config, data, shap_util)\n",
    "    client_plane.clients[0].test()\n",
    "    for epoch in range(1, config.N_EPOCHS + 1):\n",
    "        client_plane.clients[0].train(epoch)\n",
    "        client_plane.clients[0].test()\n",
    "    client_plane.clients[0].analize()\n",
    "    client_plane.clients[0].get_shap_values()\n",
    "    client_plane.clients[0].analize_shap_values()"
   ]
  },
  {
   "cell_type": "code",
   "execution_count": null,
   "id": "1f0218a3-e27b-414b-9c04-e8a8d662716c",
   "metadata": {},
   "outputs": [],
   "source": []
  },
  {
   "cell_type": "markdown",
   "id": "50c82999-3ff2-4a79-8b48-5daeef5e5226",
   "metadata": {},
   "source": [
    "Configurations: \n",
    "\n",
    "class Configuration():\n",
    "    \n",
    "    # Dataset Config\n",
    "    BATCH_SIZE_TRAIN = 64\n",
    "    BATCH_SIZE_TEST = 1000\n",
    "    DATASET = MNISTDataset\n",
    "    \n",
    "    #MNIST_FASHION_DATASET Configurations\n",
    "    MNIST_FASHION_DATASET_PATH = os.path.join('./data/mnist_fashion')\n",
    "    MNIST_FASHION_LABELS = ['T-shirt/top', 'Trouser', 'Pullover', 'Dress', 'Coat', 'Sandal', 'Shirt', 'Sneaker',  'Bag', 'Ankle Boot']\n",
    "    \n",
    "    #MNIST_DATASET Configurations\n",
    "    MNIST_DATASET_PATH = os.path.join('./data/mnist')\n",
    "    \n",
    "    #CIFAR_DATASET Configurations\n",
    "    CIFAR10_DATASET_PATH = os.path.join('./data/cifar10')\n",
    "    CIFAR10_LABELS = ['Plane', 'Car', 'Bird', 'Cat','Deer', 'Dog', 'Frog', 'Horse', 'Ship', 'Truck']\n",
    "    \n",
    "    #Model Training Configurations\n",
    "    N_EPOCHS = 10\n",
    "    LEARNING_RATE = 0.01\n",
    "    MOMENTUM = 0.5\n",
    "    LOG_INTERVAL = 10\n",
    "    CRITERION = nn.CrossEntropyLoss\n",
    "    NETWORK = MNISTFFNN\n",
    "    NUMBER_TARGETS = 10\n",
    "    \n",
    "    #Local Environment Configurations\n",
    "    NUMBER_OF_CLIENTS = 200\n",
    "    CLIENT_TYPE = FFNNClient\n",
    "    DEVICE = device('cpu')\n",
    "    \n",
    "    #Label Flipping Attack\n",
    "    DATA_POISONING_PERCENTAGE = 1\n",
    "    FROM_LABEL = 5\n",
    "    TO_LABEL = 4\n",
    "    \n",
    "    #Victoria Metrics Configurations\n",
    "    VM_URL = os.getenv('VM_URL') #URL settings in docker-compose.yml"
   ]
  }
 ],
 "metadata": {
  "kernelspec": {
   "display_name": "Python 3 (ipykernel)",
   "language": "python",
   "name": "python3"
  },
  "language_info": {
   "codemirror_mode": {
    "name": "ipython",
    "version": 3
   },
   "file_extension": ".py",
   "mimetype": "text/x-python",
   "name": "python",
   "nbconvert_exporter": "python",
   "pygments_lexer": "ipython3",
   "version": "3.9.12"
  }
 },
 "nbformat": 4,
 "nbformat_minor": 5
}
