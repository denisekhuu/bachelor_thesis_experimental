{
 "cells": [
  {
   "cell_type": "code",
   "execution_count": 1,
   "id": "d91c5a86-2173-4938-b072-60b6b688e75a",
   "metadata": {},
   "outputs": [],
   "source": [
    "from federated_learning.dataloader import FashionMNISTDataloader\n",
    "from federated_learning.configuration import Configuration\n",
    "import torch \n"
   ]
  },
  {
   "cell_type": "code",
   "execution_count": 2,
   "id": "a4f3037c-68f9-4a6d-af05-97b8aba74f0d",
   "metadata": {},
   "outputs": [],
   "source": [
    "%load_ext autoreload\n",
    "%autoreload 2"
   ]
  },
  {
   "cell_type": "code",
   "execution_count": 3,
   "id": "2a6f3d4e-5db9-4b39-80ee-23b0429a2f57",
   "metadata": {},
   "outputs": [
    {
     "data": {
      "text/plain": [
       "<torch._C.Generator at 0x7fe2fb326110>"
      ]
     },
     "execution_count": 3,
     "metadata": {},
     "output_type": "execute_result"
    }
   ],
   "source": [
    "# Configuration \n",
    "\n",
    "n_epochs = 3\n",
    "batch_size_train = 64\n",
    "batch_size_test = 1000\n",
    "learning_rate = 0.01\n",
    "momentum = 0.5\n",
    "log_interval = 10\n",
    "device = torch.device('cpu')\n",
    "random_seed = 1\n",
    "torch.backends.cudnn.enabled = False\n",
    "torch.manual_seed(random_seed)"
   ]
  },
  {
   "cell_type": "code",
   "execution_count": 4,
   "id": "2e6d65b2-1ccf-444b-8bd8-3646431804cf",
   "metadata": {},
   "outputs": [
    {
     "name": "stdout",
     "output_type": "stream",
     "text": [
      "FashionMnist training loader loaded.\n",
      "FashionMnist training loader loaded.\n"
     ]
    },
    {
     "data": {
      "text/plain": [
       "torch.Size([1000, 1, 28, 28])"
      ]
     },
     "execution_count": 4,
     "metadata": {},
     "output_type": "execute_result"
    }
   ],
   "source": [
    "config = Configuration()\n",
    "mnist = FashionMNISTDataloader(config)\n",
    "examples = enumerate(mnist.test_dataloader)\n",
    "batch_idx, (example_data, example_targets) = next(examples)\n",
    "example_data.shape\n"
   ]
  },
  {
   "cell_type": "code",
   "execution_count": 5,
   "id": "cfbc5dde-946d-4eb7-912c-f795032455f5",
   "metadata": {},
   "outputs": [
    {
     "data": {
      "image/png": "[encoded data removed]",
      "text/plain": [
       "<Figure size 432x288 with 6 Axes>"
      ]
     },
     "metadata": {},
     "output_type": "display_data"
    }
   ],
   "source": [
    "import matplotlib.pyplot as plt\n",
    "\n",
    "fig = plt.figure()\n",
    "for i in range(6):\n",
    "    plt.subplot(2,3,i+1)\n",
    "    plt.tight_layout()\n",
    "    plt.imshow(example_data[i][0], cmap='gray', interpolation='none')\n",
    "    plt.title(\"Ground Truth: {}\".format(mnist.labels[example_targets[i]]))\n",
    "    plt.xticks([])\n",
    "    plt.yticks([])"
   ]
  },
  {
   "cell_type": "markdown",
   "id": "72b0095f-268d-4547-a439-0db4b9dd722c",
   "metadata": {},
   "source": [
    "# Train Model"
   ]
  },
  {
   "cell_type": "markdown",
   "id": "dbdcea48-257a-4b31-8f64-85c8f56fa051",
   "metadata": {},
   "source": [
    "## Network"
   ]
  },
  {
   "cell_type": "code",
   "execution_count": 6,
   "id": "93547285-24f5-4945-91da-19242a7e1808",
   "metadata": {},
   "outputs": [],
   "source": [
    "import torch.nn as nn\n",
    "import torch.nn.functional as F\n",
    "import torch.optim as optim"
   ]
  },
  {
   "cell_type": "code",
   "execution_count": 7,
   "id": "c0c8f6f4-dcd0-4ecf-acf3-33d05518a22a",
   "metadata": {},
   "outputs": [],
   "source": [
    "class FashionMNISTCNN(nn.Module):\n",
    "\n",
    "    def __init__(self):\n",
    "        super(FashionMNISTCNN, self).__init__()\n",
    "\n",
    "        self.layer1 = nn.Sequential(\n",
    "            nn.Conv2d(1, 16, kernel_size=5, padding=2),\n",
    "            nn.BatchNorm2d(16),\n",
    "            nn.ReLU(),\n",
    "            nn.MaxPool2d(2))\n",
    "        self.layer2 = nn.Sequential(\n",
    "            nn.Conv2d(16, 32, kernel_size=5, padding=2),\n",
    "            nn.BatchNorm2d(32),\n",
    "            nn.ReLU(),\n",
    "            nn.MaxPool2d(2))\n",
    "\n",
    "        self.fc = nn.Linear(7*7*32, 10)\n",
    "\n",
    "    def forward(self, x):\n",
    "        x = self.layer1(x)\n",
    "        x = self.layer2(x)\n",
    "\n",
    "        x = x.view(x.size(0), -1)\n",
    "\n",
    "        x = self.fc(x)\n",
    "\n",
    "        return x\n"
   ]
  },
  {
   "cell_type": "code",
   "execution_count": 8,
   "id": "310f1903-285c-4320-ad7c-efb84f65649c",
   "metadata": {},
   "outputs": [],
   "source": [
    "network = FashionMNISTCNN()\n",
    "optimizer = optim.SGD(network.parameters(), lr=learning_rate,\n",
    "                      momentum=momentum)\n",
    "criterion = nn.CrossEntropyLoss()"
   ]
  },
  {
   "cell_type": "code",
   "execution_count": 9,
   "id": "10292430-56cb-4518-9d0e-022c75e60d66",
   "metadata": {},
   "outputs": [],
   "source": [
    "train_losses = []\n",
    "train_counter = []\n",
    "test_losses = []\n",
    "test_counter = [i*len(mnist.train_dataloader.dataset) for i in range(n_epochs)]"
   ]
  },
  {
   "cell_type": "code",
   "execution_count": 10,
   "id": "9d179f4d-4d8e-4c25-8437-591f9773fbe8",
   "metadata": {},
   "outputs": [],
   "source": [
    "# Train and Test Funktions\n",
    "def train(epoch):\n",
    "    network.train()\n",
    "    for batch_idx, (data, target) in enumerate(mnist.train_dataloader):\n",
    "        optimizer.zero_grad()\n",
    "        output = network(data)\n",
    "        loss = criterion(output, target)\n",
    "        loss.backward()\n",
    "        optimizer.step()\n",
    "        if batch_idx % log_interval == 0:\n",
    "            print('Train Epoch: {} [{}/{} ({:.0f}%)]\\tLoss: {:.6f}'.format(epoch, batch_idx * len(data), len(mnist.train_dataloader.dataset),100. * batch_idx / len(mnist.train_dataloader), loss.item()))\n",
    "            train_losses.append(loss.item())\n",
    "            train_counter.append((batch_idx*64) + ((epoch-1)*len(mnist.train_dataloader.dataset)))\n",
    "            torch.save(network.state_dict(), './results/model.pth')\n",
    "            torch.save(optimizer.state_dict(), './results/optimizer.pth')\n",
    "\n",
    "def test():\n",
    "    network.eval()\n",
    "    test_loss = 0\n",
    "    correct = 0\n",
    "    with torch.no_grad():\n",
    "        for data, target in mnist.test_dataloader:\n",
    "            output = network(data)\n",
    "            test_loss += F.nll_loss(output, target, size_average=False).item()\n",
    "            pred = output.data.max(1, keepdim=True)[1]\n",
    "            correct += pred.eq(target.data.view_as(pred)).sum()\n",
    "    test_loss /= len(mnist.test_dataloader.dataset)\n",
    "    test_losses.append(test_loss)\n",
    "    print('\\nTest set: Avg. loss: {:.4f}, Accuracy: {}/{} ({:.0f}%)\\n'.format(test_loss, correct, len(mnist.test_dataloader.dataset), 100. * correct / len(mnist.test_dataloader.dataset)))"
   ]
  },
  {
   "cell_type": "code",
   "execution_count": 11,
   "id": "a14f163a-1390-4d7e-a71a-4207362cbccf",
   "metadata": {},
   "outputs": [
    {
     "data": {
      "text/plain": [
       "60000"
      ]
     },
     "execution_count": 11,
     "metadata": {},
     "output_type": "execute_result"
    }
   ],
   "source": [
    "len(mnist.train_dataloader.dataset)"
   ]
  },
  {
   "cell_type": "code",
   "execution_count": 12,
   "id": "fa074b8f-a5d5-4e19-8307-244a6a5f55bc",
   "metadata": {},
   "outputs": [
    {
     "data": {
      "text/plain": [
       "10000"
      ]
     },
     "execution_count": 12,
     "metadata": {},
     "output_type": "execute_result"
    }
   ],
   "source": [
    "len(mnist.test_dataloader.dataset)"
   ]
  },
  {
   "cell_type": "code",
   "execution_count": 13,
   "id": "cd299bbf-63fd-40af-a08e-42e931300747",
   "metadata": {},
   "outputs": [
    {
     "name": "stderr",
     "output_type": "stream",
     "text": [
      "/opt/conda/lib/python3.9/site-packages/torch/nn/_reduction.py:42: UserWarning: size_average and reduce args will be deprecated, please use reduction='sum' instead.\n",
      "  warnings.warn(warning.format(ret))\n"
     ]
    },
    {
     "name": "stdout",
     "output_type": "stream",
     "text": [
      "\n",
      "Test set: Avg. loss: 0.0203, Accuracy: 1165/10000 (12%)\n",
      "\n",
      "Train Epoch: 1 [0/60000 (0%)]\tLoss: 2.508733\n",
      "Train Epoch: 1 [640/60000 (1%)]\tLoss: 0.932304\n",
      "Train Epoch: 1 [1280/60000 (2%)]\tLoss: 0.832750\n",
      "Train Epoch: 1 [1920/60000 (3%)]\tLoss: 0.777540\n",
      "Train Epoch: 1 [2560/60000 (4%)]\tLoss: 0.499330\n",
      "Train Epoch: 1 [3200/60000 (5%)]\tLoss: 0.643123\n",
      "Train Epoch: 1 [3840/60000 (6%)]\tLoss: 0.665555\n",
      "Train Epoch: 1 [4480/60000 (7%)]\tLoss: 0.490500\n",
      "Train Epoch: 1 [5120/60000 (9%)]\tLoss: 0.576491\n",
      "Train Epoch: 1 [5760/60000 (10%)]\tLoss: 0.470025\n",
      "Train Epoch: 1 [6400/60000 (11%)]\tLoss: 0.364508\n",
      "Train Epoch: 1 [7040/60000 (12%)]\tLoss: 0.500435\n",
      "Train Epoch: 1 [7680/60000 (13%)]\tLoss: 0.549524\n",
      "Train Epoch: 1 [8320/60000 (14%)]\tLoss: 0.367398\n",
      "Train Epoch: 1 [8960/60000 (15%)]\tLoss: 0.510224\n",
      "Train Epoch: 1 [9600/60000 (16%)]\tLoss: 0.661135\n",
      "Train Epoch: 1 [10240/60000 (17%)]\tLoss: 0.626770\n",
      "Train Epoch: 1 [10880/60000 (18%)]\tLoss: 0.763485\n",
      "Train Epoch: 1 [11520/60000 (19%)]\tLoss: 0.647742\n",
      "Train Epoch: 1 [12160/60000 (20%)]\tLoss: 0.373838\n",
      "Train Epoch: 1 [12800/60000 (21%)]\tLoss: 0.547389\n",
      "Train Epoch: 1 [13440/60000 (22%)]\tLoss: 0.389690\n",
      "Train Epoch: 1 [14080/60000 (23%)]\tLoss: 0.499348\n",
      "Train Epoch: 1 [14720/60000 (25%)]\tLoss: 0.385777\n",
      "Train Epoch: 1 [15360/60000 (26%)]\tLoss: 0.427671\n",
      "Train Epoch: 1 [16000/60000 (27%)]\tLoss: 0.433151\n",
      "Train Epoch: 1 [16640/60000 (28%)]\tLoss: 0.588053\n",
      "Train Epoch: 1 [17280/60000 (29%)]\tLoss: 0.410269\n",
      "Train Epoch: 1 [17920/60000 (30%)]\tLoss: 0.215954\n",
      "Train Epoch: 1 [18560/60000 (31%)]\tLoss: 0.308565\n",
      "Train Epoch: 1 [19200/60000 (32%)]\tLoss: 0.204274\n",
      "Train Epoch: 1 [19840/60000 (33%)]\tLoss: 0.402561\n",
      "Train Epoch: 1 [20480/60000 (34%)]\tLoss: 0.459690\n",
      "Train Epoch: 1 [21120/60000 (35%)]\tLoss: 0.425735\n",
      "Train Epoch: 1 [21760/60000 (36%)]\tLoss: 0.609803\n",
      "Train Epoch: 1 [22400/60000 (37%)]\tLoss: 0.390789\n",
      "Train Epoch: 1 [23040/60000 (38%)]\tLoss: 0.454066\n",
      "Train Epoch: 1 [23680/60000 (39%)]\tLoss: 0.466906\n",
      "Train Epoch: 1 [24320/60000 (41%)]\tLoss: 0.359866\n",
      "Train Epoch: 1 [24960/60000 (42%)]\tLoss: 0.465650\n",
      "Train Epoch: 1 [25600/60000 (43%)]\tLoss: 0.432196\n",
      "Train Epoch: 1 [26240/60000 (44%)]\tLoss: 0.350278\n",
      "Train Epoch: 1 [26880/60000 (45%)]\tLoss: 0.413582\n",
      "Train Epoch: 1 [27520/60000 (46%)]\tLoss: 0.382003\n",
      "Train Epoch: 1 [28160/60000 (47%)]\tLoss: 0.336841\n",
      "Train Epoch: 1 [28800/60000 (48%)]\tLoss: 0.590509\n",
      "Train Epoch: 1 [29440/60000 (49%)]\tLoss: 0.489563\n",
      "Train Epoch: 1 [30080/60000 (50%)]\tLoss: 0.320490\n",
      "Train Epoch: 1 [30720/60000 (51%)]\tLoss: 0.373929\n",
      "Train Epoch: 1 [31360/60000 (52%)]\tLoss: 0.494472\n",
      "Train Epoch: 1 [32000/60000 (53%)]\tLoss: 0.502640\n",
      "Train Epoch: 1 [32640/60000 (54%)]\tLoss: 0.300184\n",
      "Train Epoch: 1 [33280/60000 (55%)]\tLoss: 0.320801\n",
      "Train Epoch: 1 [33920/60000 (57%)]\tLoss: 0.441671\n",
      "Train Epoch: 1 [34560/60000 (58%)]\tLoss: 0.378237\n",
      "Train Epoch: 1 [35200/60000 (59%)]\tLoss: 0.428636\n",
      "Train Epoch: 1 [35840/60000 (60%)]\tLoss: 0.265608\n",
      "Train Epoch: 1 [36480/60000 (61%)]\tLoss: 0.403666\n",
      "Train Epoch: 1 [37120/60000 (62%)]\tLoss: 0.446533\n",
      "Train Epoch: 1 [37760/60000 (63%)]\tLoss: 0.571263\n",
      "Train Epoch: 1 [38400/60000 (64%)]\tLoss: 0.412401\n",
      "Train Epoch: 1 [39040/60000 (65%)]\tLoss: 0.337003\n",
      "Train Epoch: 1 [39680/60000 (66%)]\tLoss: 0.377432\n",
      "Train Epoch: 1 [40320/60000 (67%)]\tLoss: 0.573873\n",
      "Train Epoch: 1 [40960/60000 (68%)]\tLoss: 0.622130\n",
      "Train Epoch: 1 [41600/60000 (69%)]\tLoss: 0.469440\n",
      "Train Epoch: 1 [42240/60000 (70%)]\tLoss: 0.355892\n",
      "Train Epoch: 1 [42880/60000 (71%)]\tLoss: 0.337941\n",
      "Train Epoch: 1 [43520/60000 (72%)]\tLoss: 0.527372\n",
      "Train Epoch: 1 [44160/60000 (74%)]\tLoss: 0.426972\n",
      "Train Epoch: 1 [44800/60000 (75%)]\tLoss: 0.258990\n",
      "Train Epoch: 1 [45440/60000 (76%)]\tLoss: 0.343111\n",
      "Train Epoch: 1 [46080/60000 (77%)]\tLoss: 0.429396\n",
      "Train Epoch: 1 [46720/60000 (78%)]\tLoss: 0.535026\n",
      "Train Epoch: 1 [47360/60000 (79%)]\tLoss: 0.323469\n",
      "Train Epoch: 1 [48000/60000 (80%)]\tLoss: 0.293316\n",
      "Train Epoch: 1 [48640/60000 (81%)]\tLoss: 0.325383\n",
      "Train Epoch: 1 [49280/60000 (82%)]\tLoss: 0.434652\n",
      "Train Epoch: 1 [49920/60000 (83%)]\tLoss: 0.339694\n",
      "Train Epoch: 1 [50560/60000 (84%)]\tLoss: 0.298061\n",
      "Train Epoch: 1 [51200/60000 (85%)]\tLoss: 0.122944\n",
      "Train Epoch: 1 [51840/60000 (86%)]\tLoss: 0.299136\n",
      "Train Epoch: 1 [52480/60000 (87%)]\tLoss: 0.427336\n",
      "Train Epoch: 1 [53120/60000 (88%)]\tLoss: 0.457773\n",
      "Train Epoch: 1 [53760/60000 (90%)]\tLoss: 0.418786\n",
      "Train Epoch: 1 [54400/60000 (91%)]\tLoss: 0.487601\n",
      "Train Epoch: 1 [55040/60000 (92%)]\tLoss: 0.400754\n",
      "Train Epoch: 1 [55680/60000 (93%)]\tLoss: 0.304062\n",
      "Train Epoch: 1 [56320/60000 (94%)]\tLoss: 0.399555\n",
      "Train Epoch: 1 [56960/60000 (95%)]\tLoss: 0.270914\n",
      "Train Epoch: 1 [57600/60000 (96%)]\tLoss: 0.424631\n",
      "Train Epoch: 1 [58240/60000 (97%)]\tLoss: 0.199837\n",
      "Train Epoch: 1 [58880/60000 (98%)]\tLoss: 0.580046\n",
      "Train Epoch: 1 [59520/60000 (99%)]\tLoss: 0.287873\n",
      "\n",
      "Test set: Avg. loss: -7.3629, Accuracy: 8692/10000 (87%)\n",
      "\n",
      "Train Epoch: 2 [0/60000 (0%)]\tLoss: 0.309556\n",
      "Train Epoch: 2 [640/60000 (1%)]\tLoss: 0.220411\n",
      "Train Epoch: 2 [1280/60000 (2%)]\tLoss: 0.233249\n",
      "Train Epoch: 2 [1920/60000 (3%)]\tLoss: 0.238971\n",
      "Train Epoch: 2 [2560/60000 (4%)]\tLoss: 0.251300\n",
      "Train Epoch: 2 [3200/60000 (5%)]\tLoss: 0.221402\n",
      "Train Epoch: 2 [3840/60000 (6%)]\tLoss: 0.288279\n",
      "Train Epoch: 2 [4480/60000 (7%)]\tLoss: 0.366827\n",
      "Train Epoch: 2 [5120/60000 (9%)]\tLoss: 0.520421\n",
      "Train Epoch: 2 [5760/60000 (10%)]\tLoss: 0.373365\n",
      "Train Epoch: 2 [6400/60000 (11%)]\tLoss: 0.191234\n",
      "Train Epoch: 2 [7040/60000 (12%)]\tLoss: 0.268081\n",
      "Train Epoch: 2 [7680/60000 (13%)]\tLoss: 0.245370\n",
      "Train Epoch: 2 [8320/60000 (14%)]\tLoss: 0.544805\n",
      "Train Epoch: 2 [8960/60000 (15%)]\tLoss: 0.311450\n",
      "Train Epoch: 2 [9600/60000 (16%)]\tLoss: 0.314008\n",
      "Train Epoch: 2 [10240/60000 (17%)]\tLoss: 0.239395\n",
      "Train Epoch: 2 [10880/60000 (18%)]\tLoss: 0.451628\n",
      "Train Epoch: 2 [11520/60000 (19%)]\tLoss: 0.401109\n",
      "Train Epoch: 2 [12160/60000 (20%)]\tLoss: 0.321110\n",
      "Train Epoch: 2 [12800/60000 (21%)]\tLoss: 0.290427\n",
      "Train Epoch: 2 [13440/60000 (22%)]\tLoss: 0.329769\n",
      "Train Epoch: 2 [14080/60000 (23%)]\tLoss: 0.482285\n",
      "Train Epoch: 2 [14720/60000 (25%)]\tLoss: 0.193030\n",
      "Train Epoch: 2 [15360/60000 (26%)]\tLoss: 0.454373\n",
      "Train Epoch: 2 [16000/60000 (27%)]\tLoss: 0.187865\n",
      "Train Epoch: 2 [16640/60000 (28%)]\tLoss: 0.288405\n",
      "Train Epoch: 2 [17280/60000 (29%)]\tLoss: 0.256558\n",
      "Train Epoch: 2 [17920/60000 (30%)]\tLoss: 0.243713\n",
      "Train Epoch: 2 [18560/60000 (31%)]\tLoss: 0.274972\n",
      "Train Epoch: 2 [19200/60000 (32%)]\tLoss: 0.459088\n",
      "Train Epoch: 2 [19840/60000 (33%)]\tLoss: 0.334059\n",
      "Train Epoch: 2 [20480/60000 (34%)]\tLoss: 0.529489\n",
      "Train Epoch: 2 [21120/60000 (35%)]\tLoss: 0.203210\n",
      "Train Epoch: 2 [21760/60000 (36%)]\tLoss: 0.627467\n",
      "Train Epoch: 2 [22400/60000 (37%)]\tLoss: 0.293775\n",
      "Train Epoch: 2 [23040/60000 (38%)]\tLoss: 0.310429\n",
      "Train Epoch: 2 [23680/60000 (39%)]\tLoss: 0.579422\n",
      "Train Epoch: 2 [24320/60000 (41%)]\tLoss: 0.364162\n",
      "Train Epoch: 2 [24960/60000 (42%)]\tLoss: 0.238686\n",
      "Train Epoch: 2 [25600/60000 (43%)]\tLoss: 0.295536\n",
      "Train Epoch: 2 [26240/60000 (44%)]\tLoss: 0.310852\n",
      "Train Epoch: 2 [26880/60000 (45%)]\tLoss: 0.234691\n",
      "Train Epoch: 2 [27520/60000 (46%)]\tLoss: 0.367727\n",
      "Train Epoch: 2 [28160/60000 (47%)]\tLoss: 0.440818\n",
      "Train Epoch: 2 [28800/60000 (48%)]\tLoss: 0.276519\n",
      "Train Epoch: 2 [29440/60000 (49%)]\tLoss: 0.274368\n",
      "Train Epoch: 2 [30080/60000 (50%)]\tLoss: 0.303288\n",
      "Train Epoch: 2 [30720/60000 (51%)]\tLoss: 0.267985\n",
      "Train Epoch: 2 [31360/60000 (52%)]\tLoss: 0.388705\n",
      "Train Epoch: 2 [32000/60000 (53%)]\tLoss: 0.260013\n",
      "Train Epoch: 2 [32640/60000 (54%)]\tLoss: 0.342953\n",
      "Train Epoch: 2 [33280/60000 (55%)]\tLoss: 0.306566\n",
      "Train Epoch: 2 [33920/60000 (57%)]\tLoss: 0.202471\n",
      "Train Epoch: 2 [34560/60000 (58%)]\tLoss: 0.380088\n",
      "Train Epoch: 2 [35200/60000 (59%)]\tLoss: 0.397678\n",
      "Train Epoch: 2 [35840/60000 (60%)]\tLoss: 0.298741\n",
      "Train Epoch: 2 [36480/60000 (61%)]\tLoss: 0.381438\n",
      "Train Epoch: 2 [37120/60000 (62%)]\tLoss: 0.256145\n",
      "Train Epoch: 2 [37760/60000 (63%)]\tLoss: 0.280830\n",
      "Train Epoch: 2 [38400/60000 (64%)]\tLoss: 0.174722\n",
      "Train Epoch: 2 [39040/60000 (65%)]\tLoss: 0.264972\n",
      "Train Epoch: 2 [39680/60000 (66%)]\tLoss: 0.360708\n",
      "Train Epoch: 2 [40320/60000 (67%)]\tLoss: 0.252391\n",
      "Train Epoch: 2 [40960/60000 (68%)]\tLoss: 0.302808\n",
      "Train Epoch: 2 [41600/60000 (69%)]\tLoss: 0.392911\n",
      "Train Epoch: 2 [42240/60000 (70%)]\tLoss: 0.379574\n",
      "Train Epoch: 2 [42880/60000 (71%)]\tLoss: 0.424565\n",
      "Train Epoch: 2 [43520/60000 (72%)]\tLoss: 0.356891\n",
      "Train Epoch: 2 [44160/60000 (74%)]\tLoss: 0.223693\n",
      "Train Epoch: 2 [44800/60000 (75%)]\tLoss: 0.143348\n",
      "Train Epoch: 2 [45440/60000 (76%)]\tLoss: 0.299419\n",
      "Train Epoch: 2 [46080/60000 (77%)]\tLoss: 0.349064\n",
      "Train Epoch: 2 [46720/60000 (78%)]\tLoss: 0.254243\n",
      "Train Epoch: 2 [47360/60000 (79%)]\tLoss: 0.390440\n",
      "Train Epoch: 2 [48000/60000 (80%)]\tLoss: 0.203891\n",
      "Train Epoch: 2 [48640/60000 (81%)]\tLoss: 0.402250\n",
      "Train Epoch: 2 [49280/60000 (82%)]\tLoss: 0.266840\n",
      "Train Epoch: 2 [49920/60000 (83%)]\tLoss: 0.270590\n",
      "Train Epoch: 2 [50560/60000 (84%)]\tLoss: 0.192842\n",
      "Train Epoch: 2 [51200/60000 (85%)]\tLoss: 0.548949\n",
      "Train Epoch: 2 [51840/60000 (86%)]\tLoss: 0.333122\n",
      "Train Epoch: 2 [52480/60000 (87%)]\tLoss: 0.317273\n",
      "Train Epoch: 2 [53120/60000 (88%)]\tLoss: 0.394753\n",
      "Train Epoch: 2 [53760/60000 (90%)]\tLoss: 0.311307\n",
      "Train Epoch: 2 [54400/60000 (91%)]\tLoss: 0.294538\n",
      "Train Epoch: 2 [55040/60000 (92%)]\tLoss: 0.200553\n",
      "Train Epoch: 2 [55680/60000 (93%)]\tLoss: 0.172791\n",
      "Train Epoch: 2 [56320/60000 (94%)]\tLoss: 0.324711\n",
      "Train Epoch: 2 [56960/60000 (95%)]\tLoss: 0.183198\n",
      "Train Epoch: 2 [57600/60000 (96%)]\tLoss: 0.312301\n",
      "Train Epoch: 2 [58240/60000 (97%)]\tLoss: 0.146512\n",
      "Train Epoch: 2 [58880/60000 (98%)]\tLoss: 0.492300\n",
      "Train Epoch: 2 [59520/60000 (99%)]\tLoss: 0.217303\n",
      "\n",
      "Test set: Avg. loss: -8.5233, Accuracy: 8885/10000 (89%)\n",
      "\n",
      "Train Epoch: 3 [0/60000 (0%)]\tLoss: 0.151065\n",
      "Train Epoch: 3 [640/60000 (1%)]\tLoss: 0.189729\n",
      "Train Epoch: 3 [1280/60000 (2%)]\tLoss: 0.209377\n",
      "Train Epoch: 3 [1920/60000 (3%)]\tLoss: 0.235007\n",
      "Train Epoch: 3 [2560/60000 (4%)]\tLoss: 0.313222\n",
      "Train Epoch: 3 [3200/60000 (5%)]\tLoss: 0.263331\n",
      "Train Epoch: 3 [3840/60000 (6%)]\tLoss: 0.291976\n",
      "Train Epoch: 3 [4480/60000 (7%)]\tLoss: 0.252026\n",
      "Train Epoch: 3 [5120/60000 (9%)]\tLoss: 0.365551\n",
      "Train Epoch: 3 [5760/60000 (10%)]\tLoss: 0.235352\n",
      "Train Epoch: 3 [6400/60000 (11%)]\tLoss: 0.245569\n",
      "Train Epoch: 3 [7040/60000 (12%)]\tLoss: 0.083813\n",
      "Train Epoch: 3 [7680/60000 (13%)]\tLoss: 0.257066\n",
      "Train Epoch: 3 [8320/60000 (14%)]\tLoss: 0.380880\n",
      "Train Epoch: 3 [8960/60000 (15%)]\tLoss: 0.144364\n",
      "Train Epoch: 3 [9600/60000 (16%)]\tLoss: 0.251528\n",
      "Train Epoch: 3 [10240/60000 (17%)]\tLoss: 0.437838\n",
      "Train Epoch: 3 [10880/60000 (18%)]\tLoss: 0.373455\n",
      "Train Epoch: 3 [11520/60000 (19%)]\tLoss: 0.257730\n",
      "Train Epoch: 3 [12160/60000 (20%)]\tLoss: 0.299002\n",
      "Train Epoch: 3 [12800/60000 (21%)]\tLoss: 0.165642\n",
      "Train Epoch: 3 [13440/60000 (22%)]\tLoss: 0.214548\n",
      "Train Epoch: 3 [14080/60000 (23%)]\tLoss: 0.230751\n",
      "Train Epoch: 3 [14720/60000 (25%)]\tLoss: 0.256603\n",
      "Train Epoch: 3 [15360/60000 (26%)]\tLoss: 0.171122\n",
      "Train Epoch: 3 [16000/60000 (27%)]\tLoss: 0.209793\n",
      "Train Epoch: 3 [16640/60000 (28%)]\tLoss: 0.215297\n",
      "Train Epoch: 3 [17280/60000 (29%)]\tLoss: 0.312827\n",
      "Train Epoch: 3 [17920/60000 (30%)]\tLoss: 0.159007\n",
      "Train Epoch: 3 [18560/60000 (31%)]\tLoss: 0.155238\n",
      "Train Epoch: 3 [19200/60000 (32%)]\tLoss: 0.172693\n",
      "Train Epoch: 3 [19840/60000 (33%)]\tLoss: 0.174915\n",
      "Train Epoch: 3 [20480/60000 (34%)]\tLoss: 0.345325\n",
      "Train Epoch: 3 [21120/60000 (35%)]\tLoss: 0.167766\n",
      "Train Epoch: 3 [21760/60000 (36%)]\tLoss: 0.319825\n",
      "Train Epoch: 3 [22400/60000 (37%)]\tLoss: 0.178323\n",
      "Train Epoch: 3 [23040/60000 (38%)]\tLoss: 0.297607\n",
      "Train Epoch: 3 [23680/60000 (39%)]\tLoss: 0.299468\n",
      "Train Epoch: 3 [24320/60000 (41%)]\tLoss: 0.113982\n",
      "Train Epoch: 3 [24960/60000 (42%)]\tLoss: 0.266327\n",
      "Train Epoch: 3 [25600/60000 (43%)]\tLoss: 0.354587\n",
      "Train Epoch: 3 [26240/60000 (44%)]\tLoss: 0.193362\n",
      "Train Epoch: 3 [26880/60000 (45%)]\tLoss: 0.245297\n",
      "Train Epoch: 3 [27520/60000 (46%)]\tLoss: 0.222418\n",
      "Train Epoch: 3 [28160/60000 (47%)]\tLoss: 0.258852\n",
      "Train Epoch: 3 [28800/60000 (48%)]\tLoss: 0.332932\n",
      "Train Epoch: 3 [29440/60000 (49%)]\tLoss: 0.286716\n",
      "Train Epoch: 3 [30080/60000 (50%)]\tLoss: 0.127462\n",
      "Train Epoch: 3 [30720/60000 (51%)]\tLoss: 0.142236\n",
      "Train Epoch: 3 [31360/60000 (52%)]\tLoss: 0.160765\n",
      "Train Epoch: 3 [32000/60000 (53%)]\tLoss: 0.317489\n",
      "Train Epoch: 3 [32640/60000 (54%)]\tLoss: 0.127400\n",
      "Train Epoch: 3 [33280/60000 (55%)]\tLoss: 0.387079\n",
      "Train Epoch: 3 [33920/60000 (57%)]\tLoss: 0.298462\n",
      "Train Epoch: 3 [34560/60000 (58%)]\tLoss: 0.197047\n",
      "Train Epoch: 3 [35200/60000 (59%)]\tLoss: 0.249614\n",
      "Train Epoch: 3 [35840/60000 (60%)]\tLoss: 0.408539\n",
      "Train Epoch: 3 [36480/60000 (61%)]\tLoss: 0.284031\n",
      "Train Epoch: 3 [37120/60000 (62%)]\tLoss: 0.227958\n",
      "Train Epoch: 3 [37760/60000 (63%)]\tLoss: 0.180592\n",
      "Train Epoch: 3 [38400/60000 (64%)]\tLoss: 0.375454\n",
      "Train Epoch: 3 [39040/60000 (65%)]\tLoss: 0.247127\n",
      "Train Epoch: 3 [39680/60000 (66%)]\tLoss: 0.171589\n",
      "Train Epoch: 3 [40320/60000 (67%)]\tLoss: 0.267211\n",
      "Train Epoch: 3 [40960/60000 (68%)]\tLoss: 0.238613\n",
      "Train Epoch: 3 [41600/60000 (69%)]\tLoss: 0.130481\n",
      "Train Epoch: 3 [42240/60000 (70%)]\tLoss: 0.164591\n",
      "Train Epoch: 3 [42880/60000 (71%)]\tLoss: 0.520990\n",
      "Train Epoch: 3 [43520/60000 (72%)]\tLoss: 0.114327\n",
      "Train Epoch: 3 [44160/60000 (74%)]\tLoss: 0.259574\n",
      "Train Epoch: 3 [44800/60000 (75%)]\tLoss: 0.314739\n",
      "Train Epoch: 3 [45440/60000 (76%)]\tLoss: 0.280472\n",
      "Train Epoch: 3 [46080/60000 (77%)]\tLoss: 0.249881\n",
      "Train Epoch: 3 [46720/60000 (78%)]\tLoss: 0.134563\n",
      "Train Epoch: 3 [47360/60000 (79%)]\tLoss: 0.439780\n",
      "Train Epoch: 3 [48000/60000 (80%)]\tLoss: 0.372857\n",
      "Train Epoch: 3 [48640/60000 (81%)]\tLoss: 0.363746\n",
      "Train Epoch: 3 [49280/60000 (82%)]\tLoss: 0.272963\n",
      "Train Epoch: 3 [49920/60000 (83%)]\tLoss: 0.187901\n",
      "Train Epoch: 3 [50560/60000 (84%)]\tLoss: 0.220155\n",
      "Train Epoch: 3 [51200/60000 (85%)]\tLoss: 0.380296\n",
      "Train Epoch: 3 [51840/60000 (86%)]\tLoss: 0.237267\n",
      "Train Epoch: 3 [52480/60000 (87%)]\tLoss: 0.172719\n",
      "Train Epoch: 3 [53120/60000 (88%)]\tLoss: 0.281567\n",
      "Train Epoch: 3 [53760/60000 (90%)]\tLoss: 0.157730\n",
      "Train Epoch: 3 [54400/60000 (91%)]\tLoss: 0.303041\n",
      "Train Epoch: 3 [55040/60000 (92%)]\tLoss: 0.309080\n",
      "Train Epoch: 3 [55680/60000 (93%)]\tLoss: 0.304109\n",
      "Train Epoch: 3 [56320/60000 (94%)]\tLoss: 0.199296\n",
      "Train Epoch: 3 [56960/60000 (95%)]\tLoss: 0.169585\n",
      "Train Epoch: 3 [57600/60000 (96%)]\tLoss: 0.290477\n",
      "Train Epoch: 3 [58240/60000 (97%)]\tLoss: 0.196499\n",
      "Train Epoch: 3 [58880/60000 (98%)]\tLoss: 0.193294\n",
      "Train Epoch: 3 [59520/60000 (99%)]\tLoss: 0.436492\n",
      "\n",
      "Test set: Avg. loss: -8.5659, Accuracy: 8835/10000 (88%)\n",
      "\n"
     ]
    }
   ],
   "source": [
    "test()\n",
    "for epoch in range(1, n_epochs + 1):\n",
    "    train(epoch)\n",
    "    test()"
   ]
  },
  {
   "cell_type": "code",
   "execution_count": null,
   "id": "1a5e1056-241f-4035-9c09-8de12562e074",
   "metadata": {},
   "outputs": [],
   "source": []
  }
 ],
 "metadata": {
  "kernelspec": {
   "display_name": "Python 3 (ipykernel)",
   "language": "python",
   "name": "python3"
  },
  "language_info": {
   "codemirror_mode": {
    "name": "ipython",
    "version": 3
   },
   "file_extension": ".py",
   "mimetype": "text/x-python",
   "name": "python",
   "nbconvert_exporter": "python",
   "pygments_lexer": "ipython3",
   "version": "3.9.12"
  }
 },
 "nbformat": 4,
 "nbformat_minor": 5
}
