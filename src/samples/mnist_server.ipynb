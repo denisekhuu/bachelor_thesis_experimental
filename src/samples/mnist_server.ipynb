{
 "cells": [
  {
   "cell_type": "code",
   "execution_count": 1,
   "id": "381fa028-ac8d-48bb-9635-216c009c6340",
   "metadata": {},
   "outputs": [],
   "source": [
    "from federated_learning.utils import SHAPUtil\n",
    "from federated_learning import ClientPlane, Configuration"
   ]
  },
  {
   "cell_type": "code",
   "execution_count": 2,
   "id": "9e279c57-4bca-4e60-84d7-7276ccc58f1a",
   "metadata": {},
   "outputs": [],
   "source": [
    "class ObserverConfiguration():\n",
    "    experiment_type = \"datasize_shap\"\n",
    "    experiment_id = 0\n",
    "    test = True\n",
    "    dataset_type = \"MNIST\"\n",
    "    \n",
    "    # Client Configurations \n",
    "    client_name = \"client\"\n",
    "    client_type = \"client\""
   ]
  },
  {
   "cell_type": "code",
   "execution_count": 3,
   "id": "1a1257b9-be96-4362-8ac0-508bc2081836",
   "metadata": {},
   "outputs": [
    {
     "name": "stdout",
     "output_type": "stream",
     "text": [
      "MNIST training data loaded.\n",
      "MNIST test data loaded.\n",
      "Create 200 clients with dataset of size 300\n",
      "Flip 100.0% of the 5 labels to 4\n",
      "20/50 clients poisoned\n",
      "40/50 clients poisoned\n"
     ]
    }
   ],
   "source": [
    "config = Configuration()\n",
    "data = config.DATASET(config)\n",
    "shap_util = SHAPUtil(data.test_dataloader)\n",
    "observer_config = ObserverConfiguration()\n",
    "config.NUMBER_OF_CLIENTS = 200\n",
    "observer_config.experiment_id = 0\n",
    "client_plane = ClientPlane(config, observer_config, data, shap_util)\n",
    "client_plane.random_client_ids()\n",
    "client_plane.poison_clients()\n",
    "client_plane.clients[client_plane.poisoned_clients[0]].observer.poisoned"
   ]
  },
  {
   "cell_type": "code",
   "execution_count": null,
   "id": "7d7fec40-a8b3-4726-9905-dc7702e2a6fa",
   "metadata": {},
   "outputs": [],
   "source": [
    "client_plane.clients[0].test()\n",
    "for epoch in range(1, config.N_EPOCHS + 1):\n",
    "    client_plane.clients[0].train(epoch)\n",
    "    client_plane.clients[0].test()\n",
    "client_plane.clients[0].push_metrics()"
   ]
  }
 ],
 "metadata": {
  "kernelspec": {
   "display_name": "Python 3 (ipykernel)",
   "language": "python",
   "name": "python3"
  },
  "language_info": {
   "codemirror_mode": {
    "name": "ipython",
    "version": 3
   },
   "file_extension": ".py",
   "mimetype": "text/x-python",
   "name": "python",
   "nbconvert_exporter": "python",
   "pygments_lexer": "ipython3",
   "version": "3.9.12"
  }
 },
 "nbformat": 4,
 "nbformat_minor": 5
}
