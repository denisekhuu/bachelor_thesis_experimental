{
 "cells": [
  {
   "cell_type": "code",
   "execution_count": null,
   "id": "3db421bc-2ae0-4e48-98cb-c44ec74a9a7f",
   "metadata": {},
   "outputs": [],
   "source": [
    "from federated_learning import Configuration\n",
    "from federated_learning import Client"
   ]
  },
  {
   "cell_type": "code",
   "execution_count": null,
   "id": "05c43d39-94e1-45bb-a1fb-79a072a7003b",
   "metadata": {},
   "outputs": [],
   "source": [
    "config = Configuration()\n",
    "dataloader = config.DATALOADER(config)\n",
    "client = Client(config, dataloader.train_dataloader, dataloader.test_dataloader)"
   ]
  },
  {
   "cell_type": "code",
   "execution_count": null,
   "id": "bc901735-a893-4350-9475-c2cf1aab5c57",
   "metadata": {},
   "outputs": [],
   "source": [
    "client.test()\n",
    "for epoch in range(1, config.N_EPOCHS + 1):\n",
    "    client.train(epoch)\n",
    "    client.test()"
   ]
  },
  {
   "cell_type": "code",
   "execution_count": null,
   "id": "2804ca9e-8c20-448d-bb83-252ea61c6b20",
   "metadata": {},
   "outputs": [],
   "source": [
    "\n",
    "evens = list(range(0, len(trainset), 2))\n",
    "odds = list(range(1, len(trainset), 2))\n",
    "trainset_1 = torch.utils.data.Subset(trainset, evens)\n",
    "trainset_2 = torch.utils.data.Subset(trainset, odds)"
   ]
  }
 ],
 "metadata": {
  "kernelspec": {
   "display_name": "Python 3 (ipykernel)",
   "language": "python",
   "name": "python3"
  },
  "language_info": {
   "codemirror_mode": {
    "name": "ipython",
    "version": 3
   },
   "file_extension": ".py",
   "mimetype": "text/x-python",
   "name": "python",
   "nbconvert_exporter": "python",
   "pygments_lexer": "ipython3",
   "version": "3.9.12"
  }
 },
 "nbformat": 4,
 "nbformat_minor": 5
}
