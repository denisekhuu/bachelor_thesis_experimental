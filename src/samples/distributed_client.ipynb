{
 "cells": [
  {
   "cell_type": "code",
   "execution_count": 1,
   "id": "3db421bc-2ae0-4e48-98cb-c44ec74a9a7f",
   "metadata": {},
   "outputs": [],
   "source": [
    "from federated_learning import Configuration\n",
    "from federated_learning import Client"
   ]
  },
  {
   "cell_type": "code",
   "execution_count": 2,
   "id": "05c43d39-94e1-45bb-a1fb-79a072a7003b",
   "metadata": {},
   "outputs": [
    {
     "name": "stdout",
     "output_type": "stream",
     "text": [
      "MNIST training data loaded.\n",
      "MNIST test data loaded.\n"
     ]
    }
   ],
   "source": [
    "config = Configuration()\n",
    "data = config.DATASET(config)\n",
    "client = Client(config, data.train_dataloader, data.test_dataloader)"
   ]
  },
  {
   "cell_type": "code",
   "execution_count": 7,
   "id": "2804ca9e-8c20-448d-bb83-252ea61c6b20",
   "metadata": {},
   "outputs": [],
   "source": [
    "import torch\n",
    "evens = list(range(0, len(data.train_dataset), 2))\n",
    "odds = list(range(1, len(data.train_dataset), 2))\n",
    "trainset_1 = torch.utils.data.Subset(data.train_dataset, evens)\n",
    "trainset_2 = torch.utils.data.Subset(data.train_dataset, odds)\n",
    "trainloader_1 = torch.utils.data.DataLoader(trainset_1, batch_size=config.BATCH_SIZE_TRAIN,\n",
    "                                            shuffle=True, num_workers=2)\n",
    "trainloader_2 = torch.utils.data.DataLoader(trainset_2, batch_size=config.BATCH_SIZE_TRAIN,\n",
    "                                            shuffle=True, num_workers=2)"
   ]
  },
  {
   "cell_type": "code",
   "execution_count": 12,
   "id": "363409e6-1a05-46b5-b770-490473913475",
   "metadata": {},
   "outputs": [
    {
     "name": "stdout",
     "output_type": "stream",
     "text": [
      "938\n",
      "469\n"
     ]
    },
    {
     "data": {
      "text/plain": [
       "torch.Size([64, 1, 28, 28])"
      ]
     },
     "execution_count": 12,
     "metadata": {},
     "output_type": "execute_result"
    }
   ],
   "source": [
    "print(len(data.train_dataloader))\n",
    "print(len(trainloader_1))\n",
    "examples = enumerate(trainloader_1)\n",
    "batch_idx, (example_data, example_targets) = next(examples)\n",
    "example_data.shape"
   ]
  },
  {
   "cell_type": "code",
   "execution_count": 9,
   "id": "0a3402c2-84f9-4c25-aa07-e31f34e478f5",
   "metadata": {},
   "outputs": [
    {
     "data": {
      "image/png": "[encoded data removed]",
      "text/plain": [
       "<Figure size 432x288 with 6 Axes>"
      ]
     },
     "metadata": {},
     "output_type": "display_data"
    }
   ],
   "source": [
    "import matplotlib.pyplot as plt\n",
    "\n",
    "fig = plt.figure()\n",
    "for i in range(6):\n",
    "    plt.subplot(2,3,i+1)\n",
    "    plt.tight_layout()\n",
    "    plt.imshow(example_data[i][0], cmap='gray', interpolation='none')\n",
    "    plt.title(\"Ground Truth: {}\".format(example_targets[i]))\n",
    "    plt.xticks([])\n",
    "    plt.yticks([])"
   ]
  },
  {
   "cell_type": "code",
   "execution_count": null,
   "id": "f3c8fca3-9bd9-4d54-b3e9-12c450fde124",
   "metadata": {},
   "outputs": [],
   "source": []
  }
 ],
 "metadata": {
  "kernelspec": {
   "display_name": "Python 3 (ipykernel)",
   "language": "python",
   "name": "python3"
  },
  "language_info": {
   "codemirror_mode": {
    "name": "ipython",
    "version": 3
   },
   "file_extension": ".py",
   "mimetype": "text/x-python",
   "name": "python",
   "nbconvert_exporter": "python",
   "pygments_lexer": "ipython3",
   "version": "3.9.12"
  }
 },
 "nbformat": 4,
 "nbformat_minor": 5
}
