{
 "cells": [
  {
   "cell_type": "markdown",
   "id": "a05202e4-f9a8-434c-b0e3-1cf780d1d06c",
   "metadata": {},
   "source": [
    "# MNIST Handwritten Digit Recognition in PyTorch\n",
    "[Click Here for the tutorial](https://nextjournal.com/gkoehler/pytorch-mnist)"
   ]
  },
  {
   "cell_type": "code",
   "execution_count": 1,
   "id": "de9f7a3f-685f-47f5-8b8c-9a7466cef429",
   "metadata": {},
   "outputs": [],
   "source": [
    "import torch\n",
    "import torchvision"
   ]
  },
  {
   "cell_type": "code",
   "execution_count": 2,
   "id": "8a2093dd-3661-438e-9b0a-905e72db77d9",
   "metadata": {},
   "outputs": [
    {
     "data": {
      "text/plain": [
       "<torch._C.Generator at 0x7fd50c082e70>"
      ]
     },
     "execution_count": 2,
     "metadata": {},
     "output_type": "execute_result"
    }
   ],
   "source": [
    "# Configuration \n",
    "\n",
    "n_epochs = 3\n",
    "batch_size_train = 64\n",
    "batch_size_test = 1000\n",
    "learning_rate = 0.01\n",
    "momentum = 0.5\n",
    "log_interval = 10\n",
    "\n",
    "random_seed = 1\n",
    "torch.backends.cudnn.enabled = False\n",
    "torch.manual_seed(random_seed)"
   ]
  },
  {
   "cell_type": "code",
   "execution_count": 3,
   "id": "70b84093-19e3-4134-affa-a7ea8ba0ff4d",
   "metadata": {},
   "outputs": [],
   "source": [
    "# Dataloaders\n",
    "train_loader = torch.utils.data.DataLoader(\n",
    "  torchvision.datasets.MNIST('mnist_data', train=True, download=True,\n",
    "                             transform=torchvision.transforms.Compose([\n",
    "                               torchvision.transforms.ToTensor(),\n",
    "                               torchvision.transforms.Normalize(\n",
    "                                 (0.1307,), (0.3081,))\n",
    "                             ])),\n",
    "  batch_size=batch_size_train, shuffle=True)\n",
    "\n",
    "test_loader = torch.utils.data.DataLoader(\n",
    "  torchvision.datasets.MNIST('mnist_data', train=False, download=True,\n",
    "                             transform=torchvision.transforms.Compose([\n",
    "                               torchvision.transforms.ToTensor(),\n",
    "                               torchvision.transforms.Normalize(\n",
    "                                 (0.1307,), (0.3081,))\n",
    "                             ])),\n",
    "  batch_size=batch_size_test, shuffle=True)"
   ]
  },
  {
   "cell_type": "code",
   "execution_count": 4,
   "id": "c5e6fb5d-0b98-4d99-8226-c42e101bb80d",
   "metadata": {},
   "outputs": [],
   "source": [
    "examples = enumerate(test_loader)\n",
    "batch_idx, (example_data, example_targets) = next(examples)"
   ]
  },
  {
   "cell_type": "code",
   "execution_count": 5,
   "id": "f5ab71ab-7f6f-4e05-bf40-213d71fed7af",
   "metadata": {},
   "outputs": [
    {
     "data": {
      "text/plain": [
       "torch.Size([1000, 1, 28, 28])"
      ]
     },
     "execution_count": 5,
     "metadata": {},
     "output_type": "execute_result"
    }
   ],
   "source": [
    "example_data.shape"
   ]
  },
  {
   "cell_type": "code",
   "execution_count": 21,
   "id": "57457121-0b3b-47bc-90cd-fe234c5da5cc",
   "metadata": {},
   "outputs": [
    {
     "data": {
      "image/png": "[encoded data removed]",
      "text/plain": [
       "<Figure size 432x288 with 6 Axes>"
      ]
     },
     "metadata": {},
     "output_type": "display_data"
    }
   ],
   "source": [
    "import matplotlib.pyplot as plt\n",
    "\n",
    "fig = plt.figure()\n",
    "for i in range(6):\n",
    "    plt.subplot(2,3,i+1)\n",
    "    plt.tight_layout()\n",
    "    plt.imshow(example_data[i][0], cmap='gray', interpolation='none')\n",
    "    plt.title(\"Ground Truth: {}\".format(example_targets[i]))\n",
    "    plt.xticks([])\n",
    "    plt.yticks([])"
   ]
  },
  {
   "cell_type": "markdown",
   "id": "5ce1f237-4f43-4447-9b3b-8d9a5e4f02f8",
   "metadata": {},
   "source": [
    "# Network"
   ]
  },
  {
   "cell_type": "code",
   "execution_count": 7,
   "id": "6ce07969-60ee-466b-8196-f4579c6ca77f",
   "metadata": {},
   "outputs": [],
   "source": [
    "import torch.nn as nn\n",
    "import torch.nn.functional as F\n",
    "import torch.optim as optim"
   ]
  },
  {
   "cell_type": "code",
   "execution_count": 8,
   "id": "a86473f5-0851-4874-aa7b-f94588beafc5",
   "metadata": {},
   "outputs": [],
   "source": [
    "class Net(nn.Module):\n",
    "    def __init__(self):\n",
    "        super(Net, self).__init__()\n",
    "        self.conv1 = nn.Conv2d(1, 10, kernel_size=5)\n",
    "        self.conv2 = nn.Conv2d(10, 20, kernel_size=5)\n",
    "        self.conv2_drop = nn.Dropout2d()\n",
    "        self.fc1 = nn.Linear(320, 50)\n",
    "        self.fc2 = nn.Linear(50, 10)\n",
    "\n",
    "    def forward(self, x):\n",
    "        x = F.relu(F.max_pool2d(self.conv1(x), 2))\n",
    "        x = F.relu(F.max_pool2d(self.conv2_drop(self.conv2(x)), 2))\n",
    "        x = x.view(-1, 320)\n",
    "        x = F.relu(self.fc1(x))\n",
    "        x = F.dropout(x, training=self.training)\n",
    "        x = self.fc2(x)\n",
    "        return F.log_softmax(x)"
   ]
  },
  {
   "cell_type": "code",
   "execution_count": 9,
   "id": "8ef2d44d-afd1-4eb3-b710-332c8cd5a979",
   "metadata": {},
   "outputs": [],
   "source": [
    "network = Net()\n",
    "optimizer = optim.SGD(network.parameters(), lr=learning_rate,\n",
    "                      momentum=momentum)"
   ]
  },
  {
   "cell_type": "code",
   "execution_count": 10,
   "id": "1c47099d-9510-424e-b651-023a88c806b5",
   "metadata": {},
   "outputs": [],
   "source": [
    "train_losses = []\n",
    "train_counter = []\n",
    "test_losses = []\n",
    "test_counter = [i*len(train_loader.dataset) for i in range(n_epochs)]"
   ]
  },
  {
   "cell_type": "code",
   "execution_count": 11,
   "id": "d9acdae3-723e-400a-901c-2c2982052dd5",
   "metadata": {},
   "outputs": [],
   "source": [
    "# Train and Test Funktions\n",
    "def train(epoch):\n",
    "    network.train()\n",
    "    for batch_idx, (data, target) in enumerate(train_loader):\n",
    "        optimizer.zero_grad()\n",
    "        output = network(data)\n",
    "        loss = F.nll_loss(output, target)\n",
    "        loss.backward()\n",
    "        optimizer.step()\n",
    "        if batch_idx % log_interval == 0:\n",
    "            print('Train Epoch: {} [{}/{} ({:.0f}%)]\\tLoss: {:.6f}'.format(epoch, batch_idx * len(data), len(train_loader.dataset),100. * batch_idx / len(train_loader), loss.item()))\n",
    "            train_losses.append(loss.item())\n",
    "            train_counter.append((batch_idx*64) + ((epoch-1)*len(train_loader.dataset)))\n",
    "            torch.save(network.state_dict(), './results/model.pth')\n",
    "            torch.save(optimizer.state_dict(), './results/optimizer.pth')\n",
    "\n",
    "def test():\n",
    "    network.eval()\n",
    "    test_loss = 0\n",
    "    correct = 0\n",
    "    with torch.no_grad():\n",
    "        for data, target in test_loader:\n",
    "            output = network(data)\n",
    "            test_loss += F.nll_loss(output, target, size_average=False).item()\n",
    "            pred = output.data.max(1, keepdim=True)[1]\n",
    "            correct += pred.eq(target.data.view_as(pred)).sum()\n",
    "    test_loss /= len(test_loader.dataset)\n",
    "    test_losses.append(test_loss)\n",
    "    print('\\nTest set: Avg. loss: {:.4f}, Accuracy: {}/{} ({:.0f}%)\\n'.format(test_loss, correct, len(test_loader.dataset), 100. * correct / len(test_loader.dataset)))"
   ]
  },
  {
   "cell_type": "code",
   "execution_count": 12,
   "id": "93fdd7d1-4167-405f-aab0-7e6a2c075c96",
   "metadata": {},
   "outputs": [
    {
     "name": "stderr",
     "output_type": "stream",
     "text": [
      "/tmp/ipykernel_1230/161431047.py:17: UserWarning: Implicit dimension choice for log_softmax has been deprecated. Change the call to include dim=X as an argument.\n",
      "  return F.log_softmax(x)\n",
      "/opt/conda/lib/python3.9/site-packages/torch/nn/_reduction.py:42: UserWarning: size_average and reduce args will be deprecated, please use reduction='sum' instead.\n",
      "  warnings.warn(warning.format(ret))\n"
     ]
    },
    {
     "name": "stdout",
     "output_type": "stream",
     "text": [
      "\n",
      "Test set: Avg. loss: 2.3096, Accuracy: 924/10000 (9%)\n",
      "\n",
      "Train Epoch: 1 [0/60000 (0%)]\tLoss: 2.313179\n",
      "Train Epoch: 1 [640/60000 (1%)]\tLoss: 2.300776\n",
      "Train Epoch: 1 [1280/60000 (2%)]\tLoss: 2.298872\n",
      "Train Epoch: 1 [1920/60000 (3%)]\tLoss: 2.276723\n",
      "Train Epoch: 1 [2560/60000 (4%)]\tLoss: 2.241102\n",
      "Train Epoch: 1 [3200/60000 (5%)]\tLoss: 2.248662\n",
      "Train Epoch: 1 [3840/60000 (6%)]\tLoss: 2.189547\n",
      "Train Epoch: 1 [4480/60000 (7%)]\tLoss: 2.146399\n",
      "Train Epoch: 1 [5120/60000 (9%)]\tLoss: 2.107701\n",
      "Train Epoch: 1 [5760/60000 (10%)]\tLoss: 2.011356\n",
      "Train Epoch: 1 [6400/60000 (11%)]\tLoss: 1.843857\n",
      "Train Epoch: 1 [7040/60000 (12%)]\tLoss: 1.758839\n",
      "Train Epoch: 1 [7680/60000 (13%)]\tLoss: 1.672644\n",
      "Train Epoch: 1 [8320/60000 (14%)]\tLoss: 1.687645\n",
      "Train Epoch: 1 [8960/60000 (15%)]\tLoss: 1.426628\n",
      "Train Epoch: 1 [9600/60000 (16%)]\tLoss: 1.284204\n",
      "Train Epoch: 1 [10240/60000 (17%)]\tLoss: 1.318824\n",
      "Train Epoch: 1 [10880/60000 (18%)]\tLoss: 1.445287\n",
      "Train Epoch: 1 [11520/60000 (19%)]\tLoss: 1.140686\n",
      "Train Epoch: 1 [12160/60000 (20%)]\tLoss: 1.152914\n",
      "Train Epoch: 1 [12800/60000 (21%)]\tLoss: 1.054201\n",
      "Train Epoch: 1 [13440/60000 (22%)]\tLoss: 0.900051\n",
      "Train Epoch: 1 [14080/60000 (23%)]\tLoss: 1.192117\n",
      "Train Epoch: 1 [14720/60000 (25%)]\tLoss: 0.944671\n",
      "Train Epoch: 1 [15360/60000 (26%)]\tLoss: 0.883143\n",
      "Train Epoch: 1 [16000/60000 (27%)]\tLoss: 0.846327\n",
      "Train Epoch: 1 [16640/60000 (28%)]\tLoss: 0.773429\n",
      "Train Epoch: 1 [17280/60000 (29%)]\tLoss: 0.760332\n",
      "Train Epoch: 1 [17920/60000 (30%)]\tLoss: 0.813500\n",
      "Train Epoch: 1 [18560/60000 (31%)]\tLoss: 0.890023\n",
      "Train Epoch: 1 [19200/60000 (32%)]\tLoss: 0.797666\n",
      "Train Epoch: 1 [19840/60000 (33%)]\tLoss: 0.903690\n",
      "Train Epoch: 1 [20480/60000 (34%)]\tLoss: 0.582573\n",
      "Train Epoch: 1 [21120/60000 (35%)]\tLoss: 0.689915\n",
      "Train Epoch: 1 [21760/60000 (36%)]\tLoss: 0.625811\n",
      "Train Epoch: 1 [22400/60000 (37%)]\tLoss: 0.770786\n",
      "Train Epoch: 1 [23040/60000 (38%)]\tLoss: 0.730335\n",
      "Train Epoch: 1 [23680/60000 (39%)]\tLoss: 0.636302\n",
      "Train Epoch: 1 [24320/60000 (41%)]\tLoss: 0.662824\n",
      "Train Epoch: 1 [24960/60000 (42%)]\tLoss: 0.831556\n",
      "Train Epoch: 1 [25600/60000 (43%)]\tLoss: 0.855463\n",
      "Train Epoch: 1 [26240/60000 (44%)]\tLoss: 0.622609\n",
      "Train Epoch: 1 [26880/60000 (45%)]\tLoss: 0.622195\n",
      "Train Epoch: 1 [27520/60000 (46%)]\tLoss: 0.684112\n",
      "Train Epoch: 1 [28160/60000 (47%)]\tLoss: 0.591477\n",
      "Train Epoch: 1 [28800/60000 (48%)]\tLoss: 0.548008\n",
      "Train Epoch: 1 [29440/60000 (49%)]\tLoss: 0.817349\n",
      "Train Epoch: 1 [30080/60000 (50%)]\tLoss: 0.740777\n",
      "Train Epoch: 1 [30720/60000 (51%)]\tLoss: 0.629410\n",
      "Train Epoch: 1 [31360/60000 (52%)]\tLoss: 0.647893\n",
      "Train Epoch: 1 [32000/60000 (53%)]\tLoss: 0.718166\n",
      "Train Epoch: 1 [32640/60000 (54%)]\tLoss: 0.442519\n",
      "Train Epoch: 1 [33280/60000 (55%)]\tLoss: 0.588815\n",
      "Train Epoch: 1 [33920/60000 (57%)]\tLoss: 0.574275\n",
      "Train Epoch: 1 [34560/60000 (58%)]\tLoss: 0.662196\n",
      "Train Epoch: 1 [35200/60000 (59%)]\tLoss: 0.580778\n",
      "Train Epoch: 1 [35840/60000 (60%)]\tLoss: 0.553067\n",
      "Train Epoch: 1 [36480/60000 (61%)]\tLoss: 0.629271\n",
      "Train Epoch: 1 [37120/60000 (62%)]\tLoss: 0.809432\n",
      "Train Epoch: 1 [37760/60000 (63%)]\tLoss: 0.570094\n",
      "Train Epoch: 1 [38400/60000 (64%)]\tLoss: 0.634350\n",
      "Train Epoch: 1 [39040/60000 (65%)]\tLoss: 0.536298\n",
      "Train Epoch: 1 [39680/60000 (66%)]\tLoss: 0.611505\n",
      "Train Epoch: 1 [40320/60000 (67%)]\tLoss: 0.319130\n",
      "Train Epoch: 1 [40960/60000 (68%)]\tLoss: 0.338970\n",
      "Train Epoch: 1 [41600/60000 (69%)]\tLoss: 0.378129\n",
      "Train Epoch: 1 [42240/60000 (70%)]\tLoss: 0.302535\n",
      "Train Epoch: 1 [42880/60000 (71%)]\tLoss: 0.399301\n",
      "Train Epoch: 1 [43520/60000 (72%)]\tLoss: 0.437053\n",
      "Train Epoch: 1 [44160/60000 (74%)]\tLoss: 0.458948\n",
      "Train Epoch: 1 [44800/60000 (75%)]\tLoss: 0.613736\n",
      "Train Epoch: 1 [45440/60000 (76%)]\tLoss: 0.534721\n",
      "Train Epoch: 1 [46080/60000 (77%)]\tLoss: 0.509241\n",
      "Train Epoch: 1 [46720/60000 (78%)]\tLoss: 0.378560\n",
      "Train Epoch: 1 [47360/60000 (79%)]\tLoss: 0.492423\n",
      "Train Epoch: 1 [48000/60000 (80%)]\tLoss: 0.551985\n",
      "Train Epoch: 1 [48640/60000 (81%)]\tLoss: 0.412021\n",
      "Train Epoch: 1 [49280/60000 (82%)]\tLoss: 0.389087\n",
      "Train Epoch: 1 [49920/60000 (83%)]\tLoss: 0.528081\n",
      "Train Epoch: 1 [50560/60000 (84%)]\tLoss: 0.440354\n",
      "Train Epoch: 1 [51200/60000 (85%)]\tLoss: 0.695467\n",
      "Train Epoch: 1 [51840/60000 (86%)]\tLoss: 0.504333\n",
      "Train Epoch: 1 [52480/60000 (87%)]\tLoss: 0.679154\n",
      "Train Epoch: 1 [53120/60000 (88%)]\tLoss: 0.530636\n",
      "Train Epoch: 1 [53760/60000 (90%)]\tLoss: 0.547840\n",
      "Train Epoch: 1 [54400/60000 (91%)]\tLoss: 0.639777\n",
      "Train Epoch: 1 [55040/60000 (92%)]\tLoss: 0.446539\n",
      "Train Epoch: 1 [55680/60000 (93%)]\tLoss: 0.547571\n",
      "Train Epoch: 1 [56320/60000 (94%)]\tLoss: 0.553342\n",
      "Train Epoch: 1 [56960/60000 (95%)]\tLoss: 0.364321\n",
      "Train Epoch: 1 [57600/60000 (96%)]\tLoss: 0.319422\n",
      "Train Epoch: 1 [58240/60000 (97%)]\tLoss: 0.301750\n",
      "Train Epoch: 1 [58880/60000 (98%)]\tLoss: 0.726317\n",
      "Train Epoch: 1 [59520/60000 (99%)]\tLoss: 0.385519\n",
      "\n",
      "Test set: Avg. loss: 0.1852, Accuracy: 9437/10000 (94%)\n",
      "\n",
      "Train Epoch: 2 [0/60000 (0%)]\tLoss: 0.435553\n",
      "Train Epoch: 2 [640/60000 (1%)]\tLoss: 0.422284\n",
      "Train Epoch: 2 [1280/60000 (2%)]\tLoss: 0.504132\n",
      "Train Epoch: 2 [1920/60000 (3%)]\tLoss: 0.514450\n",
      "Train Epoch: 2 [2560/60000 (4%)]\tLoss: 0.303290\n",
      "Train Epoch: 2 [3200/60000 (5%)]\tLoss: 0.165539\n",
      "Train Epoch: 2 [3840/60000 (6%)]\tLoss: 0.482845\n",
      "Train Epoch: 2 [4480/60000 (7%)]\tLoss: 0.415261\n",
      "Train Epoch: 2 [5120/60000 (9%)]\tLoss: 0.386932\n",
      "Train Epoch: 2 [5760/60000 (10%)]\tLoss: 0.653475\n",
      "Train Epoch: 2 [6400/60000 (11%)]\tLoss: 0.565642\n",
      "Train Epoch: 2 [7040/60000 (12%)]\tLoss: 0.312165\n",
      "Train Epoch: 2 [7680/60000 (13%)]\tLoss: 0.435066\n",
      "Train Epoch: 2 [8320/60000 (14%)]\tLoss: 0.640515\n",
      "Train Epoch: 2 [8960/60000 (15%)]\tLoss: 0.484415\n",
      "Train Epoch: 2 [9600/60000 (16%)]\tLoss: 0.447055\n",
      "Train Epoch: 2 [10240/60000 (17%)]\tLoss: 0.312484\n",
      "Train Epoch: 2 [10880/60000 (18%)]\tLoss: 0.502417\n",
      "Train Epoch: 2 [11520/60000 (19%)]\tLoss: 0.320459\n",
      "Train Epoch: 2 [12160/60000 (20%)]\tLoss: 0.319849\n",
      "Train Epoch: 2 [12800/60000 (21%)]\tLoss: 0.481722\n",
      "Train Epoch: 2 [13440/60000 (22%)]\tLoss: 0.466049\n",
      "Train Epoch: 2 [14080/60000 (23%)]\tLoss: 0.494342\n",
      "Train Epoch: 2 [14720/60000 (25%)]\tLoss: 0.370758\n",
      "Train Epoch: 2 [15360/60000 (26%)]\tLoss: 0.202816\n",
      "Train Epoch: 2 [16000/60000 (27%)]\tLoss: 0.254719\n",
      "Train Epoch: 2 [16640/60000 (28%)]\tLoss: 0.359696\n",
      "Train Epoch: 2 [17280/60000 (29%)]\tLoss: 0.429964\n",
      "Train Epoch: 2 [17920/60000 (30%)]\tLoss: 0.323470\n",
      "Train Epoch: 2 [18560/60000 (31%)]\tLoss: 0.333969\n",
      "Train Epoch: 2 [19200/60000 (32%)]\tLoss: 0.494617\n",
      "Train Epoch: 2 [19840/60000 (33%)]\tLoss: 0.343844\n",
      "Train Epoch: 2 [20480/60000 (34%)]\tLoss: 0.370357\n",
      "Train Epoch: 2 [21120/60000 (35%)]\tLoss: 0.351595\n",
      "Train Epoch: 2 [21760/60000 (36%)]\tLoss: 0.493641\n",
      "Train Epoch: 2 [22400/60000 (37%)]\tLoss: 0.611309\n",
      "Train Epoch: 2 [23040/60000 (38%)]\tLoss: 0.475866\n",
      "Train Epoch: 2 [23680/60000 (39%)]\tLoss: 0.346702\n",
      "Train Epoch: 2 [24320/60000 (41%)]\tLoss: 0.405033\n",
      "Train Epoch: 2 [24960/60000 (42%)]\tLoss: 0.207610\n",
      "Train Epoch: 2 [25600/60000 (43%)]\tLoss: 0.208425\n",
      "Train Epoch: 2 [26240/60000 (44%)]\tLoss: 0.386333\n",
      "Train Epoch: 2 [26880/60000 (45%)]\tLoss: 0.296394\n",
      "Train Epoch: 2 [27520/60000 (46%)]\tLoss: 0.222638\n",
      "Train Epoch: 2 [28160/60000 (47%)]\tLoss: 0.171814\n",
      "Train Epoch: 2 [28800/60000 (48%)]\tLoss: 0.258764\n",
      "Train Epoch: 2 [29440/60000 (49%)]\tLoss: 0.529934\n",
      "Train Epoch: 2 [30080/60000 (50%)]\tLoss: 0.291935\n",
      "Train Epoch: 2 [30720/60000 (51%)]\tLoss: 0.321726\n",
      "Train Epoch: 2 [31360/60000 (52%)]\tLoss: 0.444505\n",
      "Train Epoch: 2 [32000/60000 (53%)]\tLoss: 0.664015\n",
      "Train Epoch: 2 [32640/60000 (54%)]\tLoss: 0.301049\n",
      "Train Epoch: 2 [33280/60000 (55%)]\tLoss: 0.279719\n",
      "Train Epoch: 2 [33920/60000 (57%)]\tLoss: 0.433172\n",
      "Train Epoch: 2 [34560/60000 (58%)]\tLoss: 0.399301\n",
      "Train Epoch: 2 [35200/60000 (59%)]\tLoss: 0.450129\n",
      "Train Epoch: 2 [35840/60000 (60%)]\tLoss: 0.454099\n",
      "Train Epoch: 2 [36480/60000 (61%)]\tLoss: 0.342815\n",
      "Train Epoch: 2 [37120/60000 (62%)]\tLoss: 0.479580\n",
      "Train Epoch: 2 [37760/60000 (63%)]\tLoss: 0.434187\n",
      "Train Epoch: 2 [38400/60000 (64%)]\tLoss: 0.281787\n",
      "Train Epoch: 2 [39040/60000 (65%)]\tLoss: 0.203848\n",
      "Train Epoch: 2 [39680/60000 (66%)]\tLoss: 0.413018\n",
      "Train Epoch: 2 [40320/60000 (67%)]\tLoss: 0.208032\n",
      "Train Epoch: 2 [40960/60000 (68%)]\tLoss: 0.488326\n",
      "Train Epoch: 2 [41600/60000 (69%)]\tLoss: 0.143319\n",
      "Train Epoch: 2 [42240/60000 (70%)]\tLoss: 0.342127\n",
      "Train Epoch: 2 [42880/60000 (71%)]\tLoss: 0.468007\n",
      "Train Epoch: 2 [43520/60000 (72%)]\tLoss: 0.278124\n",
      "Train Epoch: 2 [44160/60000 (74%)]\tLoss: 0.402119\n",
      "Train Epoch: 2 [44800/60000 (75%)]\tLoss: 0.225591\n",
      "Train Epoch: 2 [45440/60000 (76%)]\tLoss: 0.499377\n",
      "Train Epoch: 2 [46080/60000 (77%)]\tLoss: 0.286281\n",
      "Train Epoch: 2 [46720/60000 (78%)]\tLoss: 0.282271\n",
      "Train Epoch: 2 [47360/60000 (79%)]\tLoss: 0.194812\n",
      "Train Epoch: 2 [48000/60000 (80%)]\tLoss: 0.264442\n",
      "Train Epoch: 2 [48640/60000 (81%)]\tLoss: 0.377066\n",
      "Train Epoch: 2 [49280/60000 (82%)]\tLoss: 0.460277\n",
      "Train Epoch: 2 [49920/60000 (83%)]\tLoss: 0.276843\n",
      "Train Epoch: 2 [50560/60000 (84%)]\tLoss: 0.331728\n",
      "Train Epoch: 2 [51200/60000 (85%)]\tLoss: 0.448583\n",
      "Train Epoch: 2 [51840/60000 (86%)]\tLoss: 0.309067\n",
      "Train Epoch: 2 [52480/60000 (87%)]\tLoss: 0.344969\n",
      "Train Epoch: 2 [53120/60000 (88%)]\tLoss: 0.258448\n",
      "Train Epoch: 2 [53760/60000 (90%)]\tLoss: 0.242776\n",
      "Train Epoch: 2 [54400/60000 (91%)]\tLoss: 0.193418\n",
      "Train Epoch: 2 [55040/60000 (92%)]\tLoss: 0.476697\n",
      "Train Epoch: 2 [55680/60000 (93%)]\tLoss: 0.192841\n",
      "Train Epoch: 2 [56320/60000 (94%)]\tLoss: 0.368571\n",
      "Train Epoch: 2 [56960/60000 (95%)]\tLoss: 0.224625\n",
      "Train Epoch: 2 [57600/60000 (96%)]\tLoss: 0.548600\n",
      "Train Epoch: 2 [58240/60000 (97%)]\tLoss: 0.500375\n",
      "Train Epoch: 2 [58880/60000 (98%)]\tLoss: 0.262608\n",
      "Train Epoch: 2 [59520/60000 (99%)]\tLoss: 0.287482\n",
      "\n",
      "Test set: Avg. loss: 0.1165, Accuracy: 9631/10000 (96%)\n",
      "\n",
      "Train Epoch: 3 [0/60000 (0%)]\tLoss: 0.200927\n",
      "Train Epoch: 3 [640/60000 (1%)]\tLoss: 0.238077\n",
      "Train Epoch: 3 [1280/60000 (2%)]\tLoss: 0.404609\n",
      "Train Epoch: 3 [1920/60000 (3%)]\tLoss: 0.254483\n",
      "Train Epoch: 3 [2560/60000 (4%)]\tLoss: 0.264305\n",
      "Train Epoch: 3 [3200/60000 (5%)]\tLoss: 0.326934\n",
      "Train Epoch: 3 [3840/60000 (6%)]\tLoss: 0.269591\n",
      "Train Epoch: 3 [4480/60000 (7%)]\tLoss: 0.478226\n",
      "Train Epoch: 3 [5120/60000 (9%)]\tLoss: 0.495589\n",
      "Train Epoch: 3 [5760/60000 (10%)]\tLoss: 0.400744\n",
      "Train Epoch: 3 [6400/60000 (11%)]\tLoss: 0.315193\n",
      "Train Epoch: 3 [7040/60000 (12%)]\tLoss: 0.339390\n",
      "Train Epoch: 3 [7680/60000 (13%)]\tLoss: 0.254680\n",
      "Train Epoch: 3 [8320/60000 (14%)]\tLoss: 0.156384\n",
      "Train Epoch: 3 [8960/60000 (15%)]\tLoss: 0.254962\n",
      "Train Epoch: 3 [9600/60000 (16%)]\tLoss: 0.237743\n",
      "Train Epoch: 3 [10240/60000 (17%)]\tLoss: 0.285840\n",
      "Train Epoch: 3 [10880/60000 (18%)]\tLoss: 0.290105\n",
      "Train Epoch: 3 [11520/60000 (19%)]\tLoss: 0.424470\n",
      "Train Epoch: 3 [12160/60000 (20%)]\tLoss: 0.215448\n",
      "Train Epoch: 3 [12800/60000 (21%)]\tLoss: 0.456076\n",
      "Train Epoch: 3 [13440/60000 (22%)]\tLoss: 0.337035\n",
      "Train Epoch: 3 [14080/60000 (23%)]\tLoss: 0.343440\n",
      "Train Epoch: 3 [14720/60000 (25%)]\tLoss: 0.313794\n",
      "Train Epoch: 3 [15360/60000 (26%)]\tLoss: 0.327939\n",
      "Train Epoch: 3 [16000/60000 (27%)]\tLoss: 0.804896\n",
      "Train Epoch: 3 [16640/60000 (28%)]\tLoss: 0.546087\n",
      "Train Epoch: 3 [17280/60000 (29%)]\tLoss: 0.457715\n",
      "Train Epoch: 3 [17920/60000 (30%)]\tLoss: 0.317390\n",
      "Train Epoch: 3 [18560/60000 (31%)]\tLoss: 0.298974\n",
      "Train Epoch: 3 [19200/60000 (32%)]\tLoss: 0.354275\n",
      "Train Epoch: 3 [19840/60000 (33%)]\tLoss: 0.369350\n",
      "Train Epoch: 3 [20480/60000 (34%)]\tLoss: 0.195023\n",
      "Train Epoch: 3 [21120/60000 (35%)]\tLoss: 0.180506\n",
      "Train Epoch: 3 [21760/60000 (36%)]\tLoss: 0.335523\n",
      "Train Epoch: 3 [22400/60000 (37%)]\tLoss: 0.236900\n",
      "Train Epoch: 3 [23040/60000 (38%)]\tLoss: 0.457164\n",
      "Train Epoch: 3 [23680/60000 (39%)]\tLoss: 0.219391\n",
      "Train Epoch: 3 [24320/60000 (41%)]\tLoss: 0.260490\n",
      "Train Epoch: 3 [24960/60000 (42%)]\tLoss: 0.172653\n",
      "Train Epoch: 3 [25600/60000 (43%)]\tLoss: 0.429652\n",
      "Train Epoch: 3 [26240/60000 (44%)]\tLoss: 0.197768\n",
      "Train Epoch: 3 [26880/60000 (45%)]\tLoss: 0.209392\n",
      "Train Epoch: 3 [27520/60000 (46%)]\tLoss: 0.196368\n",
      "Train Epoch: 3 [28160/60000 (47%)]\tLoss: 0.320325\n",
      "Train Epoch: 3 [28800/60000 (48%)]\tLoss: 0.486096\n",
      "Train Epoch: 3 [29440/60000 (49%)]\tLoss: 0.159255\n",
      "Train Epoch: 3 [30080/60000 (50%)]\tLoss: 0.276285\n",
      "Train Epoch: 3 [30720/60000 (51%)]\tLoss: 0.231652\n",
      "Train Epoch: 3 [31360/60000 (52%)]\tLoss: 0.226510\n",
      "Train Epoch: 3 [32000/60000 (53%)]\tLoss: 0.439572\n",
      "Train Epoch: 3 [32640/60000 (54%)]\tLoss: 0.340659\n",
      "Train Epoch: 3 [33280/60000 (55%)]\tLoss: 0.175740\n",
      "Train Epoch: 3 [33920/60000 (57%)]\tLoss: 0.444665\n",
      "Train Epoch: 3 [34560/60000 (58%)]\tLoss: 0.249835\n",
      "Train Epoch: 3 [35200/60000 (59%)]\tLoss: 0.324814\n",
      "Train Epoch: 3 [35840/60000 (60%)]\tLoss: 0.477391\n",
      "Train Epoch: 3 [36480/60000 (61%)]\tLoss: 0.189627\n",
      "Train Epoch: 3 [37120/60000 (62%)]\tLoss: 0.200568\n",
      "Train Epoch: 3 [37760/60000 (63%)]\tLoss: 0.304952\n",
      "Train Epoch: 3 [38400/60000 (64%)]\tLoss: 0.453039\n",
      "Train Epoch: 3 [39040/60000 (65%)]\tLoss: 0.367598\n",
      "Train Epoch: 3 [39680/60000 (66%)]\tLoss: 0.203454\n",
      "Train Epoch: 3 [40320/60000 (67%)]\tLoss: 0.234783\n",
      "Train Epoch: 3 [40960/60000 (68%)]\tLoss: 0.460696\n",
      "Train Epoch: 3 [41600/60000 (69%)]\tLoss: 0.325963\n",
      "Train Epoch: 3 [42240/60000 (70%)]\tLoss: 0.375837\n",
      "Train Epoch: 3 [42880/60000 (71%)]\tLoss: 0.183380\n",
      "Train Epoch: 3 [43520/60000 (72%)]\tLoss: 0.223830\n",
      "Train Epoch: 3 [44160/60000 (74%)]\tLoss: 0.300615\n",
      "Train Epoch: 3 [44800/60000 (75%)]\tLoss: 0.179466\n",
      "Train Epoch: 3 [45440/60000 (76%)]\tLoss: 0.251096\n",
      "Train Epoch: 3 [46080/60000 (77%)]\tLoss: 0.329295\n",
      "Train Epoch: 3 [46720/60000 (78%)]\tLoss: 0.210257\n",
      "Train Epoch: 3 [47360/60000 (79%)]\tLoss: 0.381647\n",
      "Train Epoch: 3 [48000/60000 (80%)]\tLoss: 0.334461\n",
      "Train Epoch: 3 [48640/60000 (81%)]\tLoss: 0.222316\n",
      "Train Epoch: 3 [49280/60000 (82%)]\tLoss: 0.226160\n",
      "Train Epoch: 3 [49920/60000 (83%)]\tLoss: 0.469820\n",
      "Train Epoch: 3 [50560/60000 (84%)]\tLoss: 0.434823\n",
      "Train Epoch: 3 [51200/60000 (85%)]\tLoss: 0.441919\n",
      "Train Epoch: 3 [51840/60000 (86%)]\tLoss: 0.244335\n",
      "Train Epoch: 3 [52480/60000 (87%)]\tLoss: 0.509064\n",
      "Train Epoch: 3 [53120/60000 (88%)]\tLoss: 0.211093\n",
      "Train Epoch: 3 [53760/60000 (90%)]\tLoss: 0.193763\n",
      "Train Epoch: 3 [54400/60000 (91%)]\tLoss: 0.392738\n",
      "Train Epoch: 3 [55040/60000 (92%)]\tLoss: 0.318800\n",
      "Train Epoch: 3 [55680/60000 (93%)]\tLoss: 0.174418\n",
      "Train Epoch: 3 [56320/60000 (94%)]\tLoss: 0.273762\n",
      "Train Epoch: 3 [56960/60000 (95%)]\tLoss: 0.334415\n",
      "Train Epoch: 3 [57600/60000 (96%)]\tLoss: 0.557228\n",
      "Train Epoch: 3 [58240/60000 (97%)]\tLoss: 0.375889\n",
      "Train Epoch: 3 [58880/60000 (98%)]\tLoss: 0.113949\n",
      "Train Epoch: 3 [59520/60000 (99%)]\tLoss: 0.317345\n",
      "\n",
      "Test set: Avg. loss: 0.0991, Accuracy: 9688/10000 (97%)\n",
      "\n"
     ]
    }
   ],
   "source": [
    "test()\n",
    "for epoch in range(1, n_epochs + 1):\n",
    "    train(epoch)\n",
    "    test()"
   ]
  },
  {
   "cell_type": "markdown",
   "id": "c5d89519-b272-4cda-869e-19defe3674f6",
   "metadata": {},
   "source": [
    "# Evaluation"
   ]
  },
  {
   "cell_type": "code",
   "execution_count": 26,
   "id": "085ea988-f8d2-4e17-bf5e-418cf99d9b2d",
   "metadata": {},
   "outputs": [
    {
     "data": {
      "image/png": "[encoded data removed]",
      "text/plain": [
       "<Figure size 432x288 with 1 Axes>"
      ]
     },
     "execution_count": 26,
     "metadata": {},
     "output_type": "execute_result"
    },
    {
     "data": {
      "image/png": "[encoded data removed]",
      "text/plain": [
       "<Figure size 432x288 with 1 Axes>"
      ]
     },
     "metadata": {
      "needs_background": "light"
     },
     "output_type": "display_data"
    }
   ],
   "source": [
    "fig = plt.figure()\n",
    "plt.plot(train_counter, train_losses, color='blue')\n",
    "plt.scatter(test_counter, test_losses, color='red')\n",
    "plt.legend(['Train Loss', 'Test Loss'], loc='upper right')\n",
    "plt.xlabel('number of training examples seen')\n",
    "plt.ylabel('negative log likelihood loss')\n",
    "fig"
   ]
  },
  {
   "cell_type": "code",
   "execution_count": 14,
   "id": "bdb1af92-9b06-4982-8301-c161e4f0e21f",
   "metadata": {},
   "outputs": [
    {
     "name": "stderr",
     "output_type": "stream",
     "text": [
      "/tmp/ipykernel_1230/161431047.py:17: UserWarning: Implicit dimension choice for log_softmax has been deprecated. Change the call to include dim=X as an argument.\n",
      "  return F.log_softmax(x)\n"
     ]
    }
   ],
   "source": [
    "with torch.no_grad():\n",
    "    output = network(example_data)"
   ]
  },
  {
   "cell_type": "code",
   "execution_count": 22,
   "id": "a50d618b-dee1-49a4-991d-7c3d1052f68a",
   "metadata": {},
   "outputs": [
    {
     "data": {
      "image/png": "[encoded data removed]",
      "text/plain": [
       "<Figure size 432x288 with 6 Axes>"
      ]
     },
     "metadata": {},
     "output_type": "display_data"
    }
   ],
   "source": [
    "fig = plt.figure()\n",
    "for i in range(6):\n",
    "    plt.subplot(2,3,i+1)\n",
    "    plt.tight_layout()\n",
    "    plt.imshow(example_data[i][0], cmap='gray', interpolation='none')\n",
    "    plt.title(\"Prediction: {}\".format(output.data.max(1, keepdim=True)[1][i].item()))\n",
    "    plt.xticks([])\n",
    "    plt.yticks([])"
   ]
  },
  {
   "cell_type": "markdown",
   "id": "b1eebbd3-275d-405b-87cc-370de37e0db0",
   "metadata": {},
   "source": [
    "# Continued Training from Checkpoints"
   ]
  },
  {
   "cell_type": "code",
   "execution_count": 16,
   "id": "e4d4e24b-f35b-4152-9170-c74a63949bc6",
   "metadata": {},
   "outputs": [],
   "source": [
    "continued_network = Net()\n",
    "continued_optimizer = optim.SGD(network.parameters(), lr=learning_rate,\n",
    "                                momentum=momentum)"
   ]
  },
  {
   "cell_type": "code",
   "execution_count": 17,
   "id": "38908145-2447-4c95-8e63-3788028c1f51",
   "metadata": {},
   "outputs": [],
   "source": [
    "network_state_dict = torch.load('./results/model.pth')\n",
    "continued_network.load_state_dict(network_state_dict)\n",
    "\n",
    "optimizer_state_dict = torch.load('./results/optimizer.pth')\n",
    "continued_optimizer.load_state_dict(optimizer_state_dict)"
   ]
  },
  {
   "cell_type": "code",
   "execution_count": 19,
   "id": "c0256aa9-9c94-4577-9fbe-2b3d8b9eee63",
   "metadata": {},
   "outputs": [
    {
     "name": "stderr",
     "output_type": "stream",
     "text": [
      "/tmp/ipykernel_1230/161431047.py:17: UserWarning: Implicit dimension choice for log_softmax has been deprecated. Change the call to include dim=X as an argument.\n",
      "  return F.log_softmax(x)\n"
     ]
    },
    {
     "name": "stdout",
     "output_type": "stream",
     "text": [
      "Train Epoch: 4 [0/60000 (0%)]\tLoss: 0.256139\n",
      "Train Epoch: 4 [640/60000 (1%)]\tLoss: 0.208838\n",
      "Train Epoch: 4 [1280/60000 (2%)]\tLoss: 0.124234\n",
      "Train Epoch: 4 [1920/60000 (3%)]\tLoss: 0.142067\n",
      "Train Epoch: 4 [2560/60000 (4%)]\tLoss: 0.291429\n",
      "Train Epoch: 4 [3200/60000 (5%)]\tLoss: 0.160054\n",
      "Train Epoch: 4 [3840/60000 (6%)]\tLoss: 0.354002\n",
      "Train Epoch: 4 [4480/60000 (7%)]\tLoss: 0.106335\n",
      "Train Epoch: 4 [5120/60000 (9%)]\tLoss: 0.347414\n",
      "Train Epoch: 4 [5760/60000 (10%)]\tLoss: 0.236921\n",
      "Train Epoch: 4 [6400/60000 (11%)]\tLoss: 0.428335\n",
      "Train Epoch: 4 [7040/60000 (12%)]\tLoss: 0.244940\n",
      "Train Epoch: 4 [7680/60000 (13%)]\tLoss: 0.283613\n",
      "Train Epoch: 4 [8320/60000 (14%)]\tLoss: 0.240021\n",
      "Train Epoch: 4 [8960/60000 (15%)]\tLoss: 0.643099\n",
      "Train Epoch: 4 [9600/60000 (16%)]\tLoss: 0.318984\n",
      "Train Epoch: 4 [10240/60000 (17%)]\tLoss: 0.260273\n",
      "Train Epoch: 4 [10880/60000 (18%)]\tLoss: 0.169397\n",
      "Train Epoch: 4 [11520/60000 (19%)]\tLoss: 0.219055\n",
      "Train Epoch: 4 [12160/60000 (20%)]\tLoss: 0.270612\n",
      "Train Epoch: 4 [12800/60000 (21%)]\tLoss: 0.245778\n",
      "Train Epoch: 4 [13440/60000 (22%)]\tLoss: 0.248390\n",
      "Train Epoch: 4 [14080/60000 (23%)]\tLoss: 0.188685\n",
      "Train Epoch: 4 [14720/60000 (25%)]\tLoss: 0.213717\n",
      "Train Epoch: 4 [15360/60000 (26%)]\tLoss: 0.213097\n",
      "Train Epoch: 4 [16000/60000 (27%)]\tLoss: 0.184532\n",
      "Train Epoch: 4 [16640/60000 (28%)]\tLoss: 0.344969\n",
      "Train Epoch: 4 [17280/60000 (29%)]\tLoss: 0.178223\n",
      "Train Epoch: 4 [17920/60000 (30%)]\tLoss: 0.334077\n",
      "Train Epoch: 4 [18560/60000 (31%)]\tLoss: 0.283977\n",
      "Train Epoch: 4 [19200/60000 (32%)]\tLoss: 0.183156\n",
      "Train Epoch: 4 [19840/60000 (33%)]\tLoss: 0.219919\n",
      "Train Epoch: 4 [20480/60000 (34%)]\tLoss: 0.201333\n",
      "Train Epoch: 4 [21120/60000 (35%)]\tLoss: 0.262399\n",
      "Train Epoch: 4 [21760/60000 (36%)]\tLoss: 0.385814\n",
      "Train Epoch: 4 [22400/60000 (37%)]\tLoss: 0.199396\n",
      "Train Epoch: 4 [23040/60000 (38%)]\tLoss: 0.240060\n",
      "Train Epoch: 4 [23680/60000 (39%)]\tLoss: 0.116636\n",
      "Train Epoch: 4 [24320/60000 (41%)]\tLoss: 0.189164\n",
      "Train Epoch: 4 [24960/60000 (42%)]\tLoss: 0.363680\n",
      "Train Epoch: 4 [25600/60000 (43%)]\tLoss: 0.207171\n",
      "Train Epoch: 4 [26240/60000 (44%)]\tLoss: 0.270881\n",
      "Train Epoch: 4 [26880/60000 (45%)]\tLoss: 0.401327\n",
      "Train Epoch: 4 [27520/60000 (46%)]\tLoss: 0.288370\n",
      "Train Epoch: 4 [28160/60000 (47%)]\tLoss: 0.074367\n",
      "Train Epoch: 4 [28800/60000 (48%)]\tLoss: 0.158865\n",
      "Train Epoch: 4 [29440/60000 (49%)]\tLoss: 0.245099\n",
      "Train Epoch: 4 [30080/60000 (50%)]\tLoss: 0.322589\n",
      "Train Epoch: 4 [30720/60000 (51%)]\tLoss: 0.107364\n",
      "Train Epoch: 4 [31360/60000 (52%)]\tLoss: 0.265088\n",
      "Train Epoch: 4 [32000/60000 (53%)]\tLoss: 0.270544\n",
      "Train Epoch: 4 [32640/60000 (54%)]\tLoss: 0.083975\n",
      "Train Epoch: 4 [33280/60000 (55%)]\tLoss: 0.425319\n",
      "Train Epoch: 4 [33920/60000 (57%)]\tLoss: 0.104118\n",
      "Train Epoch: 4 [34560/60000 (58%)]\tLoss: 0.150185\n",
      "Train Epoch: 4 [35200/60000 (59%)]\tLoss: 0.082001\n",
      "Train Epoch: 4 [35840/60000 (60%)]\tLoss: 0.260012\n",
      "Train Epoch: 4 [36480/60000 (61%)]\tLoss: 0.138532\n",
      "Train Epoch: 4 [37120/60000 (62%)]\tLoss: 0.248063\n",
      "Train Epoch: 4 [37760/60000 (63%)]\tLoss: 0.174492\n",
      "Train Epoch: 4 [38400/60000 (64%)]\tLoss: 0.220319\n",
      "Train Epoch: 4 [39040/60000 (65%)]\tLoss: 0.269751\n",
      "Train Epoch: 4 [39680/60000 (66%)]\tLoss: 0.337481\n",
      "Train Epoch: 4 [40320/60000 (67%)]\tLoss: 0.189896\n",
      "Train Epoch: 4 [40960/60000 (68%)]\tLoss: 0.445954\n",
      "Train Epoch: 4 [41600/60000 (69%)]\tLoss: 0.296773\n",
      "Train Epoch: 4 [42240/60000 (70%)]\tLoss: 0.120129\n",
      "Train Epoch: 4 [42880/60000 (71%)]\tLoss: 0.176252\n",
      "Train Epoch: 4 [43520/60000 (72%)]\tLoss: 0.210216\n",
      "Train Epoch: 4 [44160/60000 (74%)]\tLoss: 0.402372\n",
      "Train Epoch: 4 [44800/60000 (75%)]\tLoss: 0.356145\n",
      "Train Epoch: 4 [45440/60000 (76%)]\tLoss: 0.167067\n",
      "Train Epoch: 4 [46080/60000 (77%)]\tLoss: 0.195532\n",
      "Train Epoch: 4 [46720/60000 (78%)]\tLoss: 0.202192\n",
      "Train Epoch: 4 [47360/60000 (79%)]\tLoss: 0.110140\n",
      "Train Epoch: 4 [48000/60000 (80%)]\tLoss: 0.340583\n",
      "Train Epoch: 4 [48640/60000 (81%)]\tLoss: 0.113436\n",
      "Train Epoch: 4 [49280/60000 (82%)]\tLoss: 0.199067\n",
      "Train Epoch: 4 [49920/60000 (83%)]\tLoss: 0.213293\n",
      "Train Epoch: 4 [50560/60000 (84%)]\tLoss: 0.376161\n",
      "Train Epoch: 4 [51200/60000 (85%)]\tLoss: 0.150389\n",
      "Train Epoch: 4 [51840/60000 (86%)]\tLoss: 0.279486\n",
      "Train Epoch: 4 [52480/60000 (87%)]\tLoss: 0.149062\n",
      "Train Epoch: 4 [53120/60000 (88%)]\tLoss: 0.163072\n",
      "Train Epoch: 4 [53760/60000 (90%)]\tLoss: 0.098992\n",
      "Train Epoch: 4 [54400/60000 (91%)]\tLoss: 0.219630\n",
      "Train Epoch: 4 [55040/60000 (92%)]\tLoss: 0.197060\n",
      "Train Epoch: 4 [55680/60000 (93%)]\tLoss: 0.062451\n",
      "Train Epoch: 4 [56320/60000 (94%)]\tLoss: 0.121388\n",
      "Train Epoch: 4 [56960/60000 (95%)]\tLoss: 0.231416\n",
      "Train Epoch: 4 [57600/60000 (96%)]\tLoss: 0.123406\n",
      "Train Epoch: 4 [58240/60000 (97%)]\tLoss: 0.254370\n",
      "Train Epoch: 4 [58880/60000 (98%)]\tLoss: 0.324985\n",
      "Train Epoch: 4 [59520/60000 (99%)]\tLoss: 0.144930\n",
      "\n",
      "Test set: Avg. loss: 0.0749, Accuracy: 9749/10000 (97%)\n",
      "\n"
     ]
    }
   ],
   "source": [
    "for i in range(4,5):\n",
    "    test_counter.append(i*len(train_loader.dataset))\n",
    "    train(i)\n",
    "    test()"
   ]
  },
  {
   "cell_type": "code",
   "execution_count": 24,
   "id": "feadd5b7-79c6-498e-b39d-605a8a7b68a2",
   "metadata": {},
   "outputs": [
    {
     "data": {
      "image/png": "[encoded data removed]",
      "text/plain": [
       "<Figure size 432x288 with 1 Axes>"
      ]
     },
     "execution_count": 24,
     "metadata": {},
     "output_type": "execute_result"
    },
    {
     "data": {
      "image/png": "[encoded data removed]",
      "text/plain": [
       "<Figure size 432x288 with 1 Axes>"
      ]
     },
     "metadata": {
      "needs_background": "light"
     },
     "output_type": "display_data"
    }
   ],
   "source": [
    "fig = plt.figure()\n",
    "plt.plot(train_counter, train_losses, color='blue')\n",
    "plt.scatter(test_counter, test_losses, color='red')\n",
    "plt.legend(['Train Loss', 'Test Loss'], loc='upper right')\n",
    "plt.xlabel('number of training examples seen')\n",
    "plt.ylabel('negative log likelihood loss')\n",
    "fig"
   ]
  }
 ],
 "metadata": {
  "kernelspec": {
   "display_name": "Python 3 (ipykernel)",
   "language": "python",
   "name": "python3"
  },
  "language_info": {
   "codemirror_mode": {
    "name": "ipython",
    "version": 3
   },
   "file_extension": ".py",
   "mimetype": "text/x-python",
   "name": "python",
   "nbconvert_exporter": "python",
   "pygments_lexer": "ipython3",
   "version": "3.9.12"
  }
 },
 "nbformat": 4,
 "nbformat_minor": 5
}
