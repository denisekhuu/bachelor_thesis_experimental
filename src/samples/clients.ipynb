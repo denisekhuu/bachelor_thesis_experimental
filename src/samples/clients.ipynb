{
 "cells": [
  {
   "cell_type": "code",
   "execution_count": 1,
   "id": "dd782513-9618-4496-9fad-406c37954eb0",
   "metadata": {},
   "outputs": [],
   "source": [
    "from federated_learning import Configuration\n",
    "from federated_learning import LocalEnvironment"
   ]
  },
  {
   "cell_type": "code",
   "execution_count": 2,
   "id": "66988a17-4c65-4131-96a0-f5d03cc37bc4",
   "metadata": {},
   "outputs": [],
   "source": [
    "%load_ext autoreload\n",
    "%autoreload 2"
   ]
  },
  {
   "cell_type": "code",
   "execution_count": 12,
   "id": "57261292-e359-4c1f-9af7-15d9da02997c",
   "metadata": {},
   "outputs": [
    {
     "name": "stdout",
     "output_type": "stream",
     "text": [
      "MNIST training data loaded.\n",
      "MNIST test data loaded.\n",
      "Create Clients\n",
      "<torch.utils.data.dataset.Subset object at 0x7f73dacef490>\n"
     ]
    }
   ],
   "source": [
    "config = Configuration()\n",
    "data = config.DATASET(config)\n",
    "sim_env = LocalEnvironment(config, data)\n"
   ]
  },
  {
   "cell_type": "code",
   "execution_count": null,
   "id": "35ce30d6-197e-42d3-9f0e-63687abf46c6",
   "metadata": {},
   "outputs": [],
   "source": [
    "sim_env.clients[0].test()\n",
    "for epoch in range(1, config.N_EPOCHS + 1):\n",
    "    sim_env.clients[0].train(epoch)\n",
    "    sim_env.clients[0].test()"
   ]
  }
 ],
 "metadata": {
  "kernelspec": {
   "display_name": "Python 3 (ipykernel)",
   "language": "python",
   "name": "python3"
  },
  "language_info": {
   "codemirror_mode": {
    "name": "ipython",
    "version": 3
   },
   "file_extension": ".py",
   "mimetype": "text/x-python",
   "name": "python",
   "nbconvert_exporter": "python",
   "pygments_lexer": "ipython3",
   "version": "3.9.12"
  }
 },
 "nbformat": 4,
 "nbformat_minor": 5
}
