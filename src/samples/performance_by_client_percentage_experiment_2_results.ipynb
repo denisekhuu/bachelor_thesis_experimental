{
 "cells": [
  {
   "cell_type": "code",
   "execution_count": 3,
   "id": "5fc13952-12ff-446b-b883-bbfca67dfe1f",
   "metadata": {},
   "outputs": [],
   "source": [
    "from torch import tensor"
   ]
  },
  {
   "cell_type": "code",
   "execution_count": 4,
   "id": "42633bef-5ce2-4e6f-864d-3f8067b3a817",
   "metadata": {},
   "outputs": [],
   "source": [
    "results = [\n",
    "    {\n",
    "        \"recall\" : tensor([0.9918, 0.9903, 0.9767, 0.9653, 0.9888, 0.9865, 0.9843, 0.9689, 0.9538, 0.9574]),\n",
    "        \"accuracy\": 0.9764,\n",
    "        \"poisoned_clients\": 0,\n",
    "    },\n",
    "    {\n",
    "        \"recall\": tensor([0.9929, 0.9938, 0.9777, 0.9723, 0.9756, 0.9619, 0.9843, 0.9611, 0.9651, 0.9683]),  \n",
    "        \"accuracy\": 0.9756,\n",
    "        \"poisoned_clients\": 1,\n",
    "    },\n",
    "    {\n",
    "        \"recall\": tensor([0.9908, 0.9868, 0.9806, 0.9743, 0.9664, 0.9608, 0.9802, 0.9621, 0.9682, 0.9713]), \n",
    "        \"accuracy\": 0.9756,\n",
    "        \"poisoned_clients\": 2,\n",
    "    },\n",
    "    {\n",
    "        \"recall\": tensor([0.9929, 0.9930, 0.9787, 0.9723, 0.9776, 0.0975, 0.9802, 0.9621, 0.9528, 0.9584]),\n",
    "        \"accuracy\": 0.8962,\n",
    "        \"poisoned_clients\": 3,\n",
    "    },\n",
    "    {\n",
    "        \"recall\": tensor([0.9918, 0.9938, 0.9845, 0.9752, 0.9776, 0.0022, 0.9843, 0.9543, 0.9559, 0.9613]), \n",
    "        \"accuracy\": 0.8888,\n",
    "        \"poisoned_clients\": 4,\n",
    "    },\n",
    "    {\n",
    "        \"recall\": tensor([0.9908, 0.9877, 0.9826, 0.9713, 0.9705, 0.0000, 0.9781, 0.9611, 0.9548, 0.9703]), \n",
    "        \"accuracy\": 0.8874,\n",
    "        \"poisoned_clients\": 5,\n",
    "    }\n",
    "    \n",
    "]"
   ]
  },
  {
   "cell_type": "code",
   "execution_count": null,
   "id": "bc236481-b63d-4529-a47f-00d5c11dc591",
   "metadata": {},
   "outputs": [],
   "source": []
  }
 ],
 "metadata": {
  "kernelspec": {
   "display_name": "Python 3 (ipykernel)",
   "language": "python",
   "name": "python3"
  },
  "language_info": {
   "codemirror_mode": {
    "name": "ipython",
    "version": 3
   },
   "file_extension": ".py",
   "mimetype": "text/x-python",
   "name": "python",
   "nbconvert_exporter": "python",
   "pygments_lexer": "ipython3",
   "version": "3.9.12"
  }
 },
 "nbformat": 4,
 "nbformat_minor": 5
}
