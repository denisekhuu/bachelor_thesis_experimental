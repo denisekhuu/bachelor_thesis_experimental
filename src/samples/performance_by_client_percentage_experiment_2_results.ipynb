{
 "cells": [
  {
   "cell_type": "code",
   "execution_count": 3,
   "id": "5fc13952-12ff-446b-b883-bbfca67dfe1f",
   "metadata": {},
   "outputs": [],
   "source": [
    "from torch import tensor"
   ]
  },
  {
   "cell_type": "code",
   "execution_count": null,
   "id": "7cac98f4-c2ec-40ee-9a52-e1eb8bd9c7f4",
   "metadata": {},
   "outputs": [],
   "source": []
  },
  {
   "cell_type": "markdown",
   "id": "3b794b9a-d535-4a50-8d64-28ccaeadfcd7",
   "metadata": {},
   "source": [
    "## MNIST 5 -> 4 Run 1\n",
    "* from = 5\n",
    "* to = 4\n",
    "* natural = 2"
   ]
  },
  {
   "cell_type": "code",
   "execution_count": null,
   "id": "42633bef-5ce2-4e6f-864d-3f8067b3a817",
   "metadata": {},
   "outputs": [],
   "source": [
    "results = [\n",
    "    {\n",
    "        \"recall\" : tensor([0.9918, 0.9903, 0.9767, 0.9653, 0.9888, 0.9865, 0.9843, 0.9689, 0.9538, 0.9574]),\n",
    "        \"accuracy\": 0.9764,\n",
    "        \"poisoned_clients\": 0,\n",
    "    },\n",
    "    {\n",
    "        \"recall\": tensor([0.9929, 0.9938, 0.9777, 0.9723, 0.9756, 0.9619, 0.9843, 0.9611, 0.9651, 0.9683]),  \n",
    "        \"accuracy\": 0.9756,\n",
    "        \"poisoned_clients\": 1,\n",
    "    },\n",
    "    {\n",
    "        \"recall\": tensor([0.9908, 0.9868, 0.9806, 0.9743, 0.9664, 0.9608, 0.9802, 0.9621, 0.9682, 0.9713]), \n",
    "        \"accuracy\": 0.9756,\n",
    "        \"poisoned_clients\": 2,\n",
    "    },\n",
    "    {\n",
    "        \"recall\": tensor([0.9929, 0.9930, 0.9787, 0.9723, 0.9776, 0.0975, 0.9802, 0.9621, 0.9528, 0.9584]),\n",
    "        \"accuracy\": 0.8962,\n",
    "        \"poisoned_clients\": 3,\n",
    "    },\n",
    "    {\n",
    "        \"recall\": tensor([0.9918, 0.9938, 0.9845, 0.9752, 0.9776, 0.0022, 0.9843, 0.9543, 0.9559, 0.9613]), \n",
    "        \"accuracy\": 0.8888,\n",
    "        \"poisoned_clients\": 4,\n",
    "    },\n",
    "    {\n",
    "        \"recall\": tensor([0.9908, 0.9877, 0.9826, 0.9713, 0.9705, 0.0000, 0.9781, 0.9611, 0.9548, 0.9703]), \n",
    "        \"accuracy\": 0.8874,\n",
    "        \"poisoned_clients\": 5,\n",
    "    }\n",
    "    \n",
    "]"
   ]
  },
  {
   "cell_type": "code",
   "execution_count": null,
   "id": "9afc912c-8fcc-4413-9ef0-5be3b2bd4a3f",
   "metadata": {},
   "outputs": [],
   "source": []
  },
  {
   "cell_type": "code",
   "execution_count": 120,
   "id": "139af04c-8ff4-4c9a-b4fb-4187aec875e9",
   "metadata": {},
   "outputs": [
    {
     "data": {
      "text/plain": [
       "0.07999999999999996"
      ]
     },
     "execution_count": 120,
     "metadata": {},
     "output_type": "execute_result"
    }
   ],
   "source": [
    "0.97 - 0.89"
   ]
  },
  {
   "cell_type": "code",
   "execution_count": 76,
   "id": "6b330fa8-8b9a-442d-bfba-c05c0c794484",
   "metadata": {},
   "outputs": [
    {
     "name": "stdout",
     "output_type": "stream",
     "text": [
      "[0.9764, 0.9756, 0.9756, 0.8962, 0.8888, 0.8874]\n"
     ]
    }
   ],
   "source": [
    "accuracy = []\n",
    "poisoned_clients = []\n",
    "recall = {0:[], 1:[], 2:[]}\n",
    "for result in results:\n",
    "    accuracy = [*accuracy, result[\"accuracy\"]]\n",
    "    poisoned_clients = [*poisoned_clients, result[\"poisoned_clients\"]]\n",
    "    recall[0] = [*recall[0], result[\"recall\"][5].item()]\n",
    "    recall[1] = [*recall[1], result[\"recall\"][4].item()]\n",
    "    recall[2] = [*recall[2], result[\"recall\"][2].item()]\n",
    "    \n",
    "print(accuracy)"
   ]
  },
  {
   "cell_type": "code",
   "execution_count": null,
   "id": "7ced6260-0221-4d0a-ba0a-20ba3779cd86",
   "metadata": {},
   "outputs": [],
   "source": [
    "import matplotlib.pyplot as plt \n",
    "import numpy as np\n",
    "\n",
    "%matplotlib inline \n",
    "\n",
    "plt.title('Accuracy after Label Flipping with MNIST')\n",
    "y = accuracy \n",
    "x = poisoned_clients\n",
    "plt.plot(x,y, label=\"{} poisoned clients\".format(result[\"poisoned_clients\"]))\n",
    "plt.ylim([0.7, 1])\n",
    "plt.ylabel(\"Accuracy\")\n",
    "plt.xlabel(\"number of poisoned clients\")\n",
    "plt.legend()\n",
    "plt.savefig('accuracy_mnist_5_4_ex1.pdf')\n",
    "plt.show()"
   ]
  },
  {
   "cell_type": "code",
   "execution_count": null,
   "id": "79689098-5810-4c7e-a40a-4c3eba0947d8",
   "metadata": {},
   "outputs": [],
   "source": [
    "import matplotlib.pyplot as plt \n",
    "import numpy as np\n",
    "\n",
    "%matplotlib inline \n",
    "\n",
    "y = accuracy \n",
    "x = poisoned_clients\n",
    "plt.plot(x,recall[0], label=\"label 5\")\n",
    "plt.title('Recall of Class c=5 after Label Flipping with Fashion MNIST')\n",
    "for i, ax in enumerate(axs):\n",
    "    axs[i].set_xlabel('number of poisoned clients')\n",
    "    axs[i].set_ylabel('Recall')"
   ]
  },
  {
   "cell_type": "markdown",
   "id": "2421e8ac-2689-4fa3-a312-232dcf052525",
   "metadata": {},
   "source": [
    "## Fashion MNIST 5 -> 4 Run 1\n",
    "* from = 5\n",
    "* to = 4\n",
    "* natural = 2"
   ]
  },
  {
   "cell_type": "code",
   "execution_count": 67,
   "id": "bc236481-b63d-4529-a47f-00d5c11dc591",
   "metadata": {},
   "outputs": [],
   "source": [
    "\n",
    "f_results = [\n",
    "    {\n",
    "        \"recall\" : tensor([0.9080, 0.9880, 0.8840, 0.8890, 0.8530, 0.9620, 0.5670, 0.9660, 0.9760, 0.9630]), \n",
    "        \"accuracy\": 0.8956,\n",
    "        \"poisoned_clients\": 0,\n",
    "    },\n",
    "    {\n",
    "        \"recall\" :tensor([0.8150, 0.9790, 0.7950, 0.8850, 0.8630, 0.9240, 0.7410, 0.9750, 0.9750, 0.9600]),\n",
    "        \"accuracy\": 0.8912,\n",
    "        \"poisoned_clients\": 1,\n",
    "    },\n",
    "    {\n",
    "        \"recall\" :tensor([0.8840, 0.9790, 0.8650, 0.9140, 0.8770, 0.8580, 0.5810, 0.9670, 0.9780, 0.9630]),\n",
    "        \"accuracy\": 0.8866,\n",
    "        \"poisoned_clients\": 2,\n",
    "    },\n",
    "    {\n",
    "        \"recall\" :tensor([0.8980, 0.9770, 0.8810, 0.8700, 0.8250, 0.2800, 0.6000, 0.9660, 0.9790, 0.9650]), \n",
    "        \"accuracy\": 0.8241,\n",
    "        \"poisoned_clients\": 3,\n",
    "    },\n",
    "    {\n",
    "        \"recall\" :tensor([0.8660, 0.9750, 0.8130, 0.9160, 0.7800, 0.0100, 0.7020, 0.9870, 0.9760, 0.9420]), \n",
    "        \"accuracy\": 0.7967,\n",
    "        \"poisoned_clients\": 4,\n",
    "    },\n",
    "    {\n",
    "        \"recall\" :tensor([0.8630, 0.9670, 0.8530, 0.8940, 0.8370, 0.0000, 0.6700, 0.9760, 0.9770, 0.9590]) ,\n",
    "        \"accuracy\": 0.7996,\n",
    "        \"poisoned_clients\": 5,\n",
    "    },\n",
    "]"
   ]
  },
  {
   "cell_type": "code",
   "execution_count": 121,
   "id": "cd3436e5-e913-4472-be98-e6be8d5f7add",
   "metadata": {},
   "outputs": [
    {
     "data": {
      "text/plain": [
       "0.07000000000000006"
      ]
     },
     "execution_count": 121,
     "metadata": {},
     "output_type": "execute_result"
    }
   ],
   "source": [
    "0.89 - 0.82"
   ]
  },
  {
   "cell_type": "code",
   "execution_count": 81,
   "id": "9f21be34-8a16-4a4c-a3fa-208b414e4754",
   "metadata": {},
   "outputs": [
    {
     "name": "stdout",
     "output_type": "stream",
     "text": [
      "[0.8956, 0.8912, 0.8866, 0.8241, 0.7967, 0.7996]\n",
      "[0.9764, 0.9756, 0.9756, 0.8962, 0.8888, 0.8874]\n"
     ]
    }
   ],
   "source": [
    "f_accuracy = []\n",
    "f_poisoned_clients = []\n",
    "f_recall = {0:[], 1:[], 2:[]}\n",
    "for result in f_results:\n",
    "    f_accuracy = [*f_accuracy, result[\"accuracy\"]]\n",
    "    f_poisoned_clients = [*poisoned_clients, result[\"poisoned_clients\"]]\n",
    "    f_recall[0] = [*f_recall[0], result[\"recall\"][5].item()]\n",
    "    f_recall[1] = [*f_recall[1], result[\"recall\"][4].item()]\n",
    "    f_recall[2] = [*f_recall[2], result[\"recall\"][2].item()]\n",
    "    \n",
    "print(f_accuracy)\n",
    "print(accuracy)"
   ]
  },
  {
   "cell_type": "code",
   "execution_count": 1,
   "id": "574a6bea-5240-4822-929a-7d1565a14497",
   "metadata": {},
   "outputs": [
    {
     "ename": "NameError",
     "evalue": "name 'poisoned_clients' is not defined",
     "output_type": "error",
     "traceback": [
      "\u001b[0;31m---------------------------------------------------------------------------\u001b[0m",
      "\u001b[0;31mNameError\u001b[0m                                 Traceback (most recent call last)",
      "Input \u001b[0;32mIn [1]\u001b[0m, in \u001b[0;36m<cell line: 8>\u001b[0;34m()\u001b[0m\n\u001b[1;32m      6\u001b[0m plt\u001b[38;5;241m.\u001b[39mtitle(\u001b[38;5;124m'\u001b[39m\u001b[38;5;124mAccuracy after Label Flipping by Number of Clients\u001b[39m\u001b[38;5;124m'\u001b[39m)\n\u001b[1;32m      7\u001b[0m y \u001b[38;5;241m=\u001b[39m [\u001b[38;5;241m0.977\u001b[39m, \u001b[38;5;241m0.9742\u001b[39m, \u001b[38;5;241m0.957\u001b[39m, \u001b[38;5;241m0.9189\u001b[39m, \u001b[38;5;241m0.9112\u001b[39m, \u001b[38;5;241m0.8892\u001b[39m]\n\u001b[0;32m----> 8\u001b[0m x \u001b[38;5;241m=\u001b[39m \u001b[43mpoisoned_clients\u001b[49m\n\u001b[1;32m      9\u001b[0m x_axis \u001b[38;5;241m=\u001b[39m np\u001b[38;5;241m.\u001b[39marange(\u001b[38;5;28mlen\u001b[39m(x))\n\u001b[1;32m     10\u001b[0m plt\u001b[38;5;241m.\u001b[39mxticks(x_axis\u001b[38;5;241m+\u001b[39m\u001b[38;5;241m0.15\u001b[39m,x)\n",
      "\u001b[0;31mNameError\u001b[0m: name 'poisoned_clients' is not defined"
     ]
    },
    {
     "data": {
      "image/png": "[encoded data removed]",
      "text/plain": [
       "<Figure size 432x288 with 1 Axes>"
      ]
     },
     "metadata": {
      "needs_background": "light"
     },
     "output_type": "display_data"
    }
   ],
   "source": [
    "import matplotlib.pyplot as plt \n",
    "import numpy as np\n",
    "\n",
    "%matplotlib inline \n",
    "\n",
    "plt.title('Accuracy after Label Flipping by Number of Clients')\n",
    "y = accuracy \n",
    "x = poisoned_clients\n",
    "x_axis = np.arange(len(x))\n",
    "plt.xticks(x_axis+0.15,x)\n",
    "plt.bar(x_axis+0.3,accuracy, width=0.3, label=\"MNIST\")\n",
    "plt.bar(x_axis,f_accuracy, width=0.3, label=\"Fashion MNIST\")\n",
    "plt.ylim([0.7, 1])\n",
    "plt.ylabel(\"Accuracy\")\n",
    "plt.xlabel(\"number of poisoned clients\")\n",
    "plt.legend()\n",
    "plt.savefig('accuracy_5_4_ex2.pdf')\n",
    "plt.show()"
   ]
  },
  {
   "cell_type": "code",
   "execution_count": 118,
   "id": "bd9f597a-7c3f-4f3f-8434-acb98f498275",
   "metadata": {},
   "outputs": [
    {
     "data": {
      "image/png": "[encoded data removed]",
      "text/plain": [
       "<Figure size 432x288 with 1 Axes>"
      ]
     },
     "metadata": {
      "needs_background": "light"
     },
     "output_type": "display_data"
    }
   ],
   "source": [
    "import matplotlib.pyplot as plt \n",
    "import numpy as np\n",
    "\n",
    "%matplotlib inline \n",
    "\n",
    "y = f_recall[0]\n",
    "x = poisoned_clients\n",
    "x_axis = np.arange(len(x))\n",
    "plt.xticks(x_axis+0.15,x)\n",
    "plt.bar(x_axis +0.3,recall[0],width=0.3, label=\"MNIST\")\n",
    "plt.bar(x_axis ,f_recall[0],width=0.3, label=\"Fashion MNIST\")\n",
    "plt.ylabel(\"Recall\")\n",
    "plt.xlabel(\"number of poisoned clients\")\n",
    "plt.legend()\n",
    "plt.title('Recall after Label Flipping by Number of Clients')\n",
    "plt.savefig('recall_5_4_ex2.pdf')\n",
    "plt.show()"
   ]
  }
 ],
 "metadata": {
  "kernelspec": {
   "display_name": "Python 3 (ipykernel)",
   "language": "python",
   "name": "python3"
  },
  "language_info": {
   "codemirror_mode": {
    "name": "ipython",
    "version": 3
   },
   "file_extension": ".py",
   "mimetype": "text/x-python",
   "name": "python",
   "nbconvert_exporter": "python",
   "pygments_lexer": "ipython3",
   "version": "3.9.12"
  }
 },
 "nbformat": 4,
 "nbformat_minor": 5
}
