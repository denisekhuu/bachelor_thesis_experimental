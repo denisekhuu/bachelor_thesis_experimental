{
 "cells": [
  {
   "cell_type": "code",
   "execution_count": 11,
   "id": "982a5cb5-7f63-407c-b5a3-1e92cb5c71b0",
   "metadata": {},
   "outputs": [],
   "source": [
    "from federated_learning.utils import SHAPUtil, VMUtil\n",
    "from federated_learning import ClientPlane, ObserverConfiguration"
   ]
  },
  {
   "cell_type": "code",
   "execution_count": 8,
   "id": "c20732c1-677c-4778-ab0b-2950be50dfee",
   "metadata": {},
   "outputs": [],
   "source": [
    "%load_ext autoreload\n",
    "%autoreload 2"
   ]
  },
  {
   "cell_type": "markdown",
   "id": "f829f89f-d235-4be5-af3a-17a0156d2d20",
   "metadata": {},
   "source": [
    "# Configuration"
   ]
  },
  {
   "cell_type": "code",
   "execution_count": 6,
   "id": "1e1bb005-5450-4fe9-af0e-2c44d8ffc592",
   "metadata": {},
   "outputs": [],
   "source": [
    "import os\n",
    "import torch.nn as nn\n",
    "from torch import device\n",
    "from federated_learning.nets import MNISTFFNN, FMNISTCNN, FashionMNISTCNN\n",
    "from federated_learning.dataset import MNISTDataset, FashionMNISTDataset\n",
    "from federated_learning.client import FFNNClient, CNNClient"
   ]
  },
  {
   "cell_type": "code",
   "execution_count": 12,
   "id": "947c7765-fc39-4ee8-98bf-66f72ea743ca",
   "metadata": {},
   "outputs": [],
   "source": [
    "class Configuration():\n",
    "    \n",
    "    # Dataset Config\n",
    "    BATCH_SIZE_TRAIN = 64\n",
    "    BATCH_SIZE_TEST = 1000\n",
    "    DATASET = MNISTDataset\n",
    "    \n",
    "    #MNIST_FASHION_DATASET Configurations\n",
    "    MNIST_FASHION_DATASET_PATH = os.path.join('./data/mnist_fashion')\n",
    "    MNIST_FASHION_LABELS = ['T-shirt/top', 'Trouser', 'Pullover', 'Dress', 'Coat', 'Sandal', 'Shirt', 'Sneaker',  'Bag', 'Ankle Boot']\n",
    "    \n",
    "    #MNIST_DATASET Configurations\n",
    "    MNIST_DATASET_PATH = os.path.join('./data/mnist')\n",
    "    \n",
    "    #CIFAR_DATASET Configurations\n",
    "    CIFAR10_DATASET_PATH = os.path.join('./data/cifar10')\n",
    "    CIFAR10_LABELS = ['Plane', 'Car', 'Bird', 'Cat','Deer', 'Dog', 'Frog', 'Horse', 'Ship', 'Truck']\n",
    "    \n",
    "    #Model Training Configurations\n",
    "    N_EPOCHS = 4\n",
    "    LEARNING_RATE = 0.01\n",
    "    MOMENTUM = 0.5\n",
    "    LOG_INTERVAL = 2\n",
    "    CRITERION = nn.CrossEntropyLoss\n",
    "    NETWORK = MNISTFFNN\n",
    "    NUMBER_TARGETS = 10\n",
    "    \n",
    "    #Local Environment Configurations\n",
    "    NUMBER_OF_CLIENTS = 1\n",
    "    CLIENT_TYPE = FFNNClient\n",
    "    DEVICE = device('cpu')\n",
    "    \n",
    "    #Label Flipping Attack\n",
    "    POISONED = False\n",
    "    POISONED_CLIENTS = 0\n",
    "    DATA_POISONING_PERCENTAGE = 1\n",
    "    FROM_LABEL = 5\n",
    "    TO_LABEL = 4\n",
    "    \n",
    "    #Victoria Metrics Configurations\n",
    "    VM_URL = os.getenv('VM_URL') #URL settings in docker-compose.yml"
   ]
  },
  {
   "cell_type": "markdown",
   "id": "16187c8c-1798-4bb3-bf0d-3976d01e5dae",
   "metadata": {},
   "source": [
    "# Monitoring"
   ]
  },
  {
   "cell_type": "code",
   "execution_count": null,
   "id": "46f4f32f-f848-4429-89cd-7fb47811bef9",
   "metadata": {},
   "outputs": [],
   "source": [
    "class ObserverConfigurations():\n",
    "    experiment_type = \"datasize_shap\"\n",
    "    experiment_id = 0\n",
    "    test = True\n",
    "    \n",
    "    # Client Configurations \n",
    "    client_name = \"client\"\n",
    "    client_type = \"client\"\n",
    "    \n",
    "    \n"
   ]
  },
  {
   "cell_type": "code",
   "execution_count": null,
   "id": "c6210a2e-feb8-4c80-9599-7d396320a66b",
   "metadata": {},
   "outputs": [],
   "source": [
    "class Observer(VMUtil):\n",
    "    def __init__(self, config, observer_config):\n",
    "        super(Observer, self).__init__(config)\n",
    "        self.config = config\n",
    "        self.observer_config = observer_config\n",
    "        self.experiment_type = self.observer_config.experiment_type\n",
    "        self.experiment_id = self.observer_config.experiment_id\n",
    "        self.poisoned_clients = self.config.POISONED_CLIENTS\n",
    "        self.test = self.observer_config.test"
   ]
  },
  {
   "cell_type": "code",
   "execution_count": null,
   "id": "1cc63734-22d5-40b4-8bfd-3b327ab1fee7",
   "metadata": {},
   "outputs": [],
   "source": [
    "from datetime import datetime\n",
    "\n",
    "class ClientObserver(Observer):\n",
    "    def __init__(self, config, observer_config, client_id, poisoned, dataset_size):\n",
    "        super(ClientObserver, self).__init__(config, observer_config)\n",
    "        self.name = self.observer_config.client_name \n",
    "        self.client_id = client_id\n",
    "        self.poisoned = poisoned\n",
    "        self.poisoned_data = self.config.DATA_POISONING_PERCENTAGE\n",
    "        self.dataset_size = dataset_size\n",
    "        self.type = self.observer_config.client_type\n",
    "        self.metric_labels = { \n",
    "            \"accuracy\": \"\",\n",
    "            \"recall\" : \",target={}\",\n",
    "            \"precision\" : \",target={}\",\n",
    "            \"shap_pos\": \",target={},source={}\",\n",
    "            \"shap_neg\": \",target={},source={}\",\n",
    "            \"shap_mean\": \",target={},source={}\"\n",
    "        }\n",
    "        self.metrics = [\"accuracy\", \"recall\", \"precision\", \"shap_pos\", \"shap_neg\", \"shap_mean\"]\n",
    "    \n",
    "    def get_labels(self): \n",
    "        return \"client_id={},test={},poisoned={},poisoned_data={},dataset_size={},type={},experiment_type={},experiment_id={},poisoned_clients={}\".format(\n",
    "            self.client_id,\n",
    "            self.test,\n",
    "            self.poisoned,\n",
    "            self.poisoned_data,\n",
    "            self.dataset_size,\n",
    "            self.type,\n",
    "            self.experiment_type,\n",
    "            self.experiment_id,\n",
    "            self.poisoned_clients,\n",
    "        )\n",
    "    \n",
    "    def get_datastr(self, accuracy, recall, precision, shap_pos, shap_neg, shap_mean):\n",
    "        timestamp = int(datetime.timestamp(datetime.now()))\n",
    "        data = []\n",
    "        labels = self.get_labels()\n",
    "        datastr = \"{},{} {} {}\"\n",
    "        data.append(datastr.format(self.name, labels, \"accuracy=%f\"%(accuracy), timestamp))\n",
    "        for i in range(self.config.NUMBER_TARGETS): \n",
    "            data.append(datastr.format(self.name, labels + self.metric_labels[\"recall\"].format(i), \"recall=%f\"%(recall[i]), timestamp))\n",
    "            data.append(datastr.format(self.name, labels + self.metric_labels[\"precision\"].format(i), \"precision=%f\"%(precision[i]), timestamp))\n",
    "            for j in range(self.config.NUMBER_TARGETS): \n",
    "                data.append(datastr.format(self.name, labels + self.metric_labels[\"shap_pos\"].format(i, j), \"shap_pos=%f\"%(shap_pos[i][j]), timestamp))\n",
    "                data.append(datastr.format(self.name, labels + self.metric_labels[\"shap_neg\"].format(i, j), \"shap_neg=%f\"%(shap_neg[i][j]), timestamp))\n",
    "                data.append(datastr.format(self.name, labels + self.metric_labels[\"shap_mean\"].format(i, j), \"shap_mean=%f\"%(shap_mean[i][j]), timestamp))\n",
    "        return data\n",
    "    \n",
    "    def push_metrics(self, accuracy, recall, precision, shap_pos, shap_neg, shap_mean):\n",
    "        data = self.get_datastr(accuracy, recall, precision, shap_pos, shap_neg, shap_mean)\n",
    "        print(data[0])\n",
    "        for d in data:\n",
    "            self.push_data(d)\n",
    "        print(\"Successfully pushed client data to victoria metrics\")\n",
    "        \n",
    "        \n",
    "        \n",
    "                \n",
    "                \n",
    "        \n",
    "        \n",
    "    "
   ]
  },
  {
   "cell_type": "code",
   "execution_count": null,
   "id": "8f33859c-736f-45ff-a098-8faa074873cd",
   "metadata": {},
   "outputs": [],
   "source": []
  },
  {
   "cell_type": "code",
   "execution_count": 13,
   "id": "dd52cba4-5166-46dc-83ec-4177a16d0225",
   "metadata": {},
   "outputs": [
    {
     "name": "stdout",
     "output_type": "stream",
     "text": [
      "MNIST training data loaded.\n",
      "MNIST test data loaded.\n",
      "Create 1 clients with dataset of size 60000\n"
     ]
    }
   ],
   "source": [
    "config = Configuration()\n",
    "data = config.DATASET(config)\n",
    "shap_util = SHAPUtil(data.test_dataloader)\n",
    "observer_config = ObserverConfiguration()\n",
    "client_plane = ClientPlane(config, observer_config, data, shap_util)"
   ]
  },
  {
   "cell_type": "code",
   "execution_count": null,
   "id": "8ab72e19-1bbe-4ee3-a63a-83d60cc7898d",
   "metadata": {},
   "outputs": [],
   "source": [
    "client_plane.clients[0].test()\n",
    "for epoch in range(1, config.N_EPOCHS + 1):\n",
    "    client_plane.clients[0].train(epoch)\n",
    "    client_plane.clients[0].test()"
   ]
  },
  {
   "cell_type": "code",
   "execution_count": null,
   "id": "6fe4a635-3298-44f0-91ee-bd7fa94cf868",
   "metadata": {},
   "outputs": [],
   "source": [
    "client_plane.clients[0].analize()"
   ]
  },
  {
   "cell_type": "code",
   "execution_count": null,
   "id": "efa7a0d9-b83a-40f9-b303-3aea124cb2df",
   "metadata": {},
   "outputs": [],
   "source": [
    "client_plane.clients[0].get_shap_values()"
   ]
  },
  {
   "cell_type": "code",
   "execution_count": null,
   "id": "0a309fc0-f836-43b1-9d2b-e244245ccd85",
   "metadata": {},
   "outputs": [],
   "source": [
    "client_plane.clients[0].analize_shap_values()"
   ]
  },
  {
   "cell_type": "code",
   "execution_count": 15,
   "id": "86eb9585-351f-42a8-abbb-9af622a2f588",
   "metadata": {},
   "outputs": [
    {
     "name": "stdout",
     "output_type": "stream",
     "text": [
      "Delete old metrics from client_accuracy with test = 'True'\n",
      "Delete old metrics from client_recall with test = 'True'\n",
      "Delete old metrics from client_precision with test = 'True'\n",
      "Delete old metrics from client_shap_pos with test = 'True'\n",
      "Delete old metrics from client_shap_neg with test = 'True'\n",
      "Delete old metrics from client_shap_mean with test = 'True'\n"
     ]
    }
   ],
   "source": [
    "vm = VMUtil(config) \n",
    "vm.delete_old_metrics('client', [\"accuracy\", \"recall\",\"precision\", \"shap_pos\", \"shap_neg\", \"shap_mean\"], \"test = 'True'\")"
   ]
  },
  {
   "cell_type": "code",
   "execution_count": null,
   "id": "e85fb3a2-d51c-4f19-8022-7e4c248646e0",
   "metadata": {},
   "outputs": [],
   "source": [
    "import numpy as np\n",
    "array = np.array(client_plane.clients[0].positive_shap)/(28*28)\n",
    "array.round(2)"
   ]
  },
  {
   "cell_type": "code",
   "execution_count": null,
   "id": "d8a63929-cf6f-4328-b6bb-51453c18cc8b",
   "metadata": {},
   "outputs": [],
   "source": [
    "obser_config = ObserverConfigurations()\n",
    "observer = ClientObserver(config, obser_config, 0, False, 7500)"
   ]
  },
  {
   "cell_type": "code",
   "execution_count": null,
   "id": "1d84f7b5-aa1c-479f-978c-a7c73f1668fa",
   "metadata": {},
   "outputs": [],
   "source": [
    "observer.push_metrics(client_plane.clients[0].accuracy, client_plane.clients[0].recall, client_plane.clients[0].precision, client_plane.clients[0].positive_shap, client_plane.clients[0].negative_shap, client_plane.clients[0].non_zero_mean)"
   ]
  },
  {
   "cell_type": "code",
   "execution_count": null,
   "id": "f144d503-f382-4bae-9e46-7a5dc7ba0400",
   "metadata": {},
   "outputs": [],
   "source": []
  }
 ],
 "metadata": {
  "kernelspec": {
   "display_name": "Python 3 (ipykernel)",
   "language": "python",
   "name": "python3"
  },
  "language_info": {
   "codemirror_mode": {
    "name": "ipython",
    "version": 3
   },
   "file_extension": ".py",
   "mimetype": "text/x-python",
   "name": "python",
   "nbconvert_exporter": "python",
   "pygments_lexer": "ipython3",
   "version": "3.9.12"
  }
 },
 "nbformat": 4,
 "nbformat_minor": 5
}
