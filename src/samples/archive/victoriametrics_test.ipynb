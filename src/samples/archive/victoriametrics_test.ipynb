{
 "cells": [
  {
   "cell_type": "code",
   "execution_count": 20,
   "id": "60d05001-b09a-4466-a625-9b84a8498a0f",
   "metadata": {},
   "outputs": [
    {
     "name": "stdout",
     "output_type": "stream",
     "text": [
      "victoria_metrics:8428\n",
      "200 OK {\"status\":\"success\",\"data\":{\"resultType\":\"matrix\",\"result\":[{\"metric\":{\"__name__\":\"npn_downloads\",\"artifactid\":\"testid\",\"organization\":\"testorganization\"},\"values\":[[1653342036,\"1234\"],[1653343239,\"1234\"],[1653559922,\"1234\"],[1653560727,\"1234\"],[1653561830,\"1239\"],[1653561905,\"1251\"]]}]}}\n"
     ]
    }
   ],
   "source": [
    "from urllib.request import Request, urlopen\n",
    "from urllib.error import HTTPError\n",
    "import os\n",
    "db_url = os.getenv('VM_URL')\n",
    "print(db_url)\n",
    "#target_url = \"http://\"+ db_url + \"/write?precision=s\"\n",
    "#target_url = \"http://\"+ db_url\n",
    "target_url = \"http://\"+ db_url +\"/api/v1/query?query=npn_downloads{}[2y]\"\n",
    "data_str = \"npm,organization=testorganization,artifactid=testid downloads=1234 timestamp\"\n",
    "#request = Request(target_url, data=data_str.encode('ascii', 'ignore'))\n",
    "request = Request(target_url)\n",
    "response = urlopen(request)\n",
    "print(response.status, response.msg, response.read().decode(\"utf-8\"))\n"
   ]
  },
  {
   "cell_type": "code",
   "execution_count": null,
   "id": "a7750408-4eb6-4de1-bda1-826cc5fe15ab",
   "metadata": {},
   "outputs": [],
   "source": []
  },
  {
   "cell_type": "code",
   "execution_count": 19,
   "id": "87258560-de05-4840-986e-a8045cf1b728",
   "metadata": {},
   "outputs": [
    {
     "name": "stdout",
     "output_type": "stream",
     "text": [
      "victoria_metrics:8428\n",
      "b'npn,organization=testorganization,artifactid=testid downloads=1251 1653561905'\n",
      "204 No Content \n"
     ]
    }
   ],
   "source": [
    "import os\n",
    "from datetime import datetime, date\n",
    "from urllib.request import Request, urlopen\n",
    "from urllib.error import HTTPError\n",
    "\n",
    "db_url = os.getenv('VM_URL')\n",
    "timestamp = int(datetime.timestamp(datetime.now()))\n",
    "print(db_url)\n",
    "target_url = \"http://\"+ db_url + \"/write?precision=s\"\n",
    "data_str = \"npn,organization=testorganization,artifactid=testid downloads=1251 {}\".format(timestamp)\n",
    "request = Request(target_url, data=data_str.encode('ascii', 'ignore'))\n",
    "response = urlopen(request)\n",
    "print(request.data)\n",
    "print(response.status, response.msg, response.read().decode('ascii'))"
   ]
  }
 ],
 "metadata": {
  "kernelspec": {
   "display_name": "Python 3 (ipykernel)",
   "language": "python",
   "name": "python3"
  },
  "language_info": {
   "codemirror_mode": {
    "name": "ipython",
    "version": 3
   },
   "file_extension": ".py",
   "mimetype": "text/x-python",
   "name": "python",
   "nbconvert_exporter": "python",
   "pygments_lexer": "ipython3",
   "version": "3.9.12"
  }
 },
 "nbformat": 4,
 "nbformat_minor": 5
}
