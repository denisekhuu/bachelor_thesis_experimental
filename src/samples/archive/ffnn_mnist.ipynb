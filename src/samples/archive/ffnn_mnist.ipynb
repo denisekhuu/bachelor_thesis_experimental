{
 "cells": [
  {
   "cell_type": "code",
   "execution_count": null,
   "id": "982a5cb5-7f63-407c-b5a3-1e92cb5c71b0",
   "metadata": {},
   "outputs": [],
   "source": [
    "from federated_learning.utils import SHAPUtil\n",
    "from federated_learning import ClientPlane"
   ]
  },
  {
   "cell_type": "code",
   "execution_count": null,
   "id": "c20732c1-677c-4778-ab0b-2950be50dfee",
   "metadata": {},
   "outputs": [],
   "source": [
    "%load_ext autoreload\n",
    "%autoreload 2"
   ]
  },
  {
   "cell_type": "code",
   "execution_count": null,
   "id": "1e1bb005-5450-4fe9-af0e-2c44d8ffc592",
   "metadata": {},
   "outputs": [],
   "source": [
    "import os\n",
    "import torch.nn as nn\n",
    "from torch import device\n",
    "from federated_learning.nets import MNISTCNN, FashionMNISTCNN, MNISTFFNN\n",
    "from federated_learning.dataset import MNISTDataset, FashionMNISTDataset\n",
    "from federated_learning.client.ffnn_client import FFNNClient"
   ]
  },
  {
   "cell_type": "code",
   "execution_count": null,
   "id": "947c7765-fc39-4ee8-98bf-66f72ea743ca",
   "metadata": {},
   "outputs": [],
   "source": [
    "class Configuration():\n",
    "    \n",
    "    # Dataset Config\n",
    "    BATCH_SIZE_TRAIN = 132\n",
    "    BATCH_SIZE_TEST = 1000\n",
    "    DATASET = MNISTDataset\n",
    "    \n",
    "    #MNIST_FASHION_DATASET Configurations\n",
    "    MNIST_FASHION_DATASET_PATH = os.path.join('./data/mnist_fashion')\n",
    "    MNIST_FASHION_LABELS = ['T-shirt/top', 'Trouser', 'Pullover', 'Dress', 'Coat', 'Sandal', 'Shirt', 'Sneaker',  'Bag', 'Ankle Boot']\n",
    "    \n",
    "    #MNIST_DATASET Configurations\n",
    "    MNIST_DATASET_PATH = os.path.join('./data/mnist')\n",
    "    \n",
    "    #CIFAR_DATASET Configurations\n",
    "    CIFAR10_DATASET_PATH = os.path.join('./data/cifar10')\n",
    "    CIFAR10_LABELS = ['Plane', 'Car', 'Bird', 'Cat','Deer', 'Dog', 'Frog', 'Horse', 'Ship', 'Truck']\n",
    "    \n",
    "    #Model Training Configurations\n",
    "    N_EPOCHS = 4\n",
    "    LEARNING_RATE = 0.01\n",
    "    MOMENTUM = 0.5\n",
    "    LOG_INTERVAL = 10\n",
    "    CRITERION = nn.CrossEntropyLoss\n",
    "    NETWORK = MNISTFFNN\n",
    "    NUMBER_TARGETS = 10\n",
    "    \n",
    "    #Local Environment Configurations\n",
    "    NUMBER_OF_CLIENTS = 3\n",
    "    CLIENT_TYPE = FFNNClient\n",
    "    DEVICE = device('cpu')\n",
    "    \n",
    "    #Label Flipping Attack\n",
    "    DATA_POISONING_PERCENTAGE = 1\n",
    "    FROM_LABEL = 5\n",
    "    TO_LABEL = 4"
   ]
  },
  {
   "cell_type": "code",
   "execution_count": null,
   "id": "dd52cba4-5166-46dc-83ec-4177a16d0225",
   "metadata": {},
   "outputs": [],
   "source": [
    "config = Configuration()\n",
    "data = config.DATASET(config)\n",
    "client_plane = ClientPlane(config, data)"
   ]
  },
  {
   "cell_type": "code",
   "execution_count": null,
   "id": "8ab72e19-1bbe-4ee3-a63a-83d60cc7898d",
   "metadata": {},
   "outputs": [],
   "source": [
    "client_plane.clients[0].test()\n",
    "for epoch in range(1, config.N_EPOCHS + 1):\n",
    "    client_plane.clients[0].train(epoch)\n",
    "    client_plane.clients[0].test()"
   ]
  },
  {
   "cell_type": "code",
   "execution_count": null,
   "id": "3f55d84a-b1c5-4f09-84ea-6ba57b8384a4",
   "metadata": {},
   "outputs": [],
   "source": [
    "client_plane.reset_client_nets()\n",
    "client_plane.poison_clients()"
   ]
  },
  {
   "cell_type": "code",
   "execution_count": null,
   "id": "955d805f-7b2f-4906-bbd2-28e21a17398e",
   "metadata": {},
   "outputs": [],
   "source": [
    "client_plane.clients[0].test()\n",
    "for epoch in range(1, config.N_EPOCHS + 1):\n",
    "    client_plane.clients[0].train(epoch)\n",
    "    client_plane.clients[0].test()"
   ]
  }
 ],
 "metadata": {
  "kernelspec": {
   "display_name": "Python 3 (ipykernel)",
   "language": "python",
   "name": "python3"
  },
  "language_info": {
   "codemirror_mode": {
    "name": "ipython",
    "version": 3
   },
   "file_extension": ".py",
   "mimetype": "text/x-python",
   "name": "python",
   "nbconvert_exporter": "python",
   "pygments_lexer": "ipython3",
   "version": "3.9.12"
  }
 },
 "nbformat": 4,
 "nbformat_minor": 5
}
