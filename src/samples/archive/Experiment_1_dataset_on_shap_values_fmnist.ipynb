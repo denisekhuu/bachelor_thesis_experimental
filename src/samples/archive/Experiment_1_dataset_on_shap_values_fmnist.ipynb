{
 "cells": [
  {
   "cell_type": "markdown",
   "id": "7d947a1d-e8a9-4f69-9eac-b7be9b81d818",
   "metadata": {
    "tags": []
   },
   "source": [
    "# Experiment 1: SHAP values in different dataset sizes"
   ]
  },
  {
   "cell_type": "markdown",
   "id": "c21be896-deac-4efe-8181-e210bc7be583",
   "metadata": {},
   "source": [
    "This experiment should show the changes in shap values as dataset size get reduced to help us understand how SHAP values change independently from an poisoning attack. \n",
    "Since in Federated Learning the size is drastically reduced due to the missing step of data aggregation. \n"
   ]
  },
  {
   "cell_type": "markdown",
   "id": "728a80cf-ca23-4fbf-8d2c-cea0bb4132c9",
   "metadata": {},
   "source": [
    "Experimental Setup:\n",
    "\n",
    "\n",
    "* datasets: MNIST(FFNNCLient, nll-loss), FMNIST(CNNCLient, cross entropy)\n",
    "* number of clients: (1, 10, 50, 100, 200)\n",
    "* dataset size respectively: (60000, 6000, 1200, 600, 300)"
   ]
  },
  {
   "cell_type": "code",
   "execution_count": null,
   "id": "c5fd0762-b997-41e1-8505-aa9befb42fb3",
   "metadata": {},
   "outputs": [],
   "source": [
    "from federated_learning.utils import SHAPUtil\n",
    "from federated_learning import ClientPlane, Configuration\n",
    "from federated_learning.server import Server"
   ]
  },
  {
   "cell_type": "code",
   "execution_count": null,
   "id": "1f3d3d50-4f56-4ee0-b957-946e55975843",
   "metadata": {},
   "outputs": [],
   "source": [
    "%load_ext autoreload\n",
    "%autoreload 2"
   ]
  },
  {
   "cell_type": "code",
   "execution_count": null,
   "id": "525e39c8-192b-4811-9b88-8281df762f0e",
   "metadata": {},
   "outputs": [],
   "source": [
    "class ObserverConfiguration():\n",
    "    experiment_type = \"datasize_shap\"\n",
    "    experiment_id = 0\n",
    "    dataset_type = \"FMNIST\"\n",
    "    test = True\n",
    "    \n",
    "    # Client Configurations \n",
    "    client_name = \"client\"\n",
    "    client_type = \"client\"\n",
    "    \n",
    "    # Server Configurations \n",
    "    server_name = \"server\"\n",
    "    server_type = \"server\"\n",
    "    server_id = 0"
   ]
  },
  {
   "cell_type": "code",
   "execution_count": null,
   "id": "c81a6817-fa49-4070-86a7-bc8279aaa9e2",
   "metadata": {},
   "outputs": [],
   "source": [
    "from federated_learning.nets import CIFAR10CNN\n",
    "from federated_learning.datasetimport CIFAR10Dataset\n",
    "config = Configuration() \n",
    "# Data Type Configurations\n",
    "config.DATASET = CIFAR10Dataset\n",
    "config.MODELNAME = config.CIFAR10_NAME\n",
    "config.NETWORK = CIFAR10CNN\n",
    "config.BATCH_SIZE_TRAIN = 64\n",
    "config.N_EPOCHS = 10"
   ]
  },
  {
   "cell_type": "code",
   "execution_count": null,
   "id": "0b29c301-f85d-429d-8fdf-907764acd2fc",
   "metadata": {},
   "outputs": [],
   "source": [
    "from federated_learning.nets import FMNISTCNN\n",
    "from federated_learning.dataset import FMNISTDataset\n",
    "config = Configuration() \n",
    "# Data Type Configurations\n",
    "config.DATASET = FMNISTDataset\n",
    "config.MODELNAME = config.FMNIST_NAME\n",
    "config.NETWORK = FMNISTCNN\n",
    "config.BATCH_SIZE_TRAIN = 64\n",
    "config.N_EPOCHS = 10"
   ]
  },
  {
   "cell_type": "code",
   "execution_count": null,
   "id": "c2135889-38ae-4221-8025-69e3a91729b5",
   "metadata": {},
   "outputs": [],
   "source": [
    "from federated_learning.nets import MNISTCNN\n",
    "from federated_learning.dataset import MNISTDataset\n",
    "config = Configuration() \n",
    "# Data Type Configurations\n",
    "config.DATASET = MNISTDataset\n",
    "config.MODELNAME = config.MNIST_NAME\n",
    "config.NETWORK = MNISTCNN\n",
    "config.BATCH_SIZE_TRAIN = 64\n",
    "config.N_EPOCHS = 10"
   ]
  },
  {
   "cell_type": "code",
   "execution_count": null,
   "id": "819aede8-6099-426c-b0ec-1406ad21d2c1",
   "metadata": {},
   "outputs": [],
   "source": [
    "data = config.DATASET(config)\n",
    "shap_util = SHAPUtil(data.test_dataloader)\n",
    "observer_config = ObserverConfiguration()\n",
    "server = Server(config, observer_config,data.train_dataloader, data.test_dataloader, shap_util)"
   ]
  },
  {
   "cell_type": "code",
   "execution_count": null,
   "id": "ffc8cf98-fb85-4a23-bb03-17121531bcf9",
   "metadata": {},
   "outputs": [],
   "source": [
    "for i in range(1):\n",
    "    for number_client in [1]:\n",
    "        config.NUMBER_OF_CLIENTS = number_client\n",
    "        observer_config.experiment_id = i\n",
    "        client_plane = ClientPlane(config, observer_config, data, shap_util)\n",
    "        client_plane.clients[0].test()\n",
    "        for epoch in range(1, config.N_EPOCHS + 1):\n",
    "            client_plane.clients[0].train(epoch)\n",
    "            client_plane.clients[0].test()"
   ]
  }
 ],
 "metadata": {
  "kernelspec": {
   "display_name": "Python 3 (ipykernel)",
   "language": "python",
   "name": "python3"
  },
  "language_info": {
   "codemirror_mode": {
    "name": "ipython",
    "version": 3
   },
   "file_extension": ".py",
   "mimetype": "text/x-python",
   "name": "python",
   "nbconvert_exporter": "python",
   "pygments_lexer": "ipython3",
   "version": "3.9.12"
  }
 },
 "nbformat": 4,
 "nbformat_minor": 5
}
