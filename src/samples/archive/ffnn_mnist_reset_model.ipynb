{
 "cells": [
  {
   "cell_type": "code",
   "execution_count": 1,
   "id": "982a5cb5-7f63-407c-b5a3-1e92cb5c71b0",
   "metadata": {},
   "outputs": [],
   "source": [
    "from federated_learning.utils import SHAPUtil\n",
    "from federated_learning import ClientPlane"
   ]
  },
  {
   "cell_type": "code",
   "execution_count": 2,
   "id": "c20732c1-677c-4778-ab0b-2950be50dfee",
   "metadata": {},
   "outputs": [],
   "source": [
    "%load_ext autoreload\n",
    "%autoreload 2"
   ]
  },
  {
   "cell_type": "code",
   "execution_count": 3,
   "id": "1e1bb005-5450-4fe9-af0e-2c44d8ffc592",
   "metadata": {},
   "outputs": [],
   "source": [
    "import os\n",
    "import torch.nn as nn\n",
    "from torch import device\n",
    "from federated_learning.nets import MNISTCNN, FashionMNISTCNN, MNISTFFNN\n",
    "from federated_learning.dataset import MNISTDataset, FashionMNISTDataset\n",
    "from federated_learning.client.ffnn_client import FFNNClient"
   ]
  },
  {
   "cell_type": "code",
   "execution_count": 4,
   "id": "947c7765-fc39-4ee8-98bf-66f72ea743ca",
   "metadata": {},
   "outputs": [],
   "source": [
    "class Configuration():\n",
    "    \n",
    "    # Dataset Config\n",
    "    BATCH_SIZE_TRAIN = 132\n",
    "    BATCH_SIZE_TEST = 1000\n",
    "    DATASET = MNISTDataset\n",
    "    \n",
    "    #MNIST_FASHION_DATASET Configurations\n",
    "    MNIST_FASHION_DATASET_PATH = os.path.join('./data/mnist_fashion')\n",
    "    MNIST_FASHION_LABELS = ['T-shirt/top', 'Trouser', 'Pullover', 'Dress', 'Coat', 'Sandal', 'Shirt', 'Sneaker',  'Bag', 'Ankle Boot']\n",
    "    \n",
    "    #MNIST_DATASET Configurations\n",
    "    MNIST_DATASET_PATH = os.path.join('./data/mnist')\n",
    "    \n",
    "    #CIFAR_DATASET Configurations\n",
    "    CIFAR10_DATASET_PATH = os.path.join('./data/cifar10')\n",
    "    CIFAR10_LABELS = ['Plane', 'Car', 'Bird', 'Cat','Deer', 'Dog', 'Frog', 'Horse', 'Ship', 'Truck']\n",
    "    \n",
    "    #Model Training Configurations\n",
    "    N_EPOCHS = 4\n",
    "    LEARNING_RATE = 0.01\n",
    "    MOMENTUM = 0.5\n",
    "    LOG_INTERVAL = 10\n",
    "    CRITERION = nn.CrossEntropyLoss\n",
    "    NETWORK = MNISTFFNN\n",
    "    NUMBER_TARGETS = 10\n",
    "    \n",
    "    #Local Environment Configurations\n",
    "    NUMBER_OF_CLIENTS = 3\n",
    "    CLIENT_TYPE = FFNNClient\n",
    "    DEVICE = device('cpu')\n",
    "    \n",
    "    #Label Flipping Attack\n",
    "    DATA_POISONING_PERCENTAGE = 1\n",
    "    FROM_LABEL = 5\n",
    "    TO_LABEL = 4"
   ]
  },
  {
   "cell_type": "code",
   "execution_count": 5,
   "id": "dd52cba4-5166-46dc-83ec-4177a16d0225",
   "metadata": {},
   "outputs": [
    {
     "name": "stdout",
     "output_type": "stream",
     "text": [
      "MNIST training data loaded.\n",
      "MNIST test data loaded.\n",
      "Create 1 clients\n"
     ]
    }
   ],
   "source": [
    "config = Configuration()\n",
    "data = config.DATASET(config)\n",
    "sim_env = ClientPlane(config, data)"
   ]
  },
  {
   "cell_type": "code",
   "execution_count": 6,
   "id": "8ab72e19-1bbe-4ee3-a63a-83d60cc7898d",
   "metadata": {},
   "outputs": [
    {
     "name": "stdout",
     "output_type": "stream",
     "text": [
      "\n",
      "Test set: Average loss: 0.0023, Accuracy: 1019/10000 (10%)\n",
      "\n",
      "Train Epoch: 1 [0/60000 (0%)]\tLoss: 2.310663\n",
      "Train Epoch: 1 [13200/60000 (22%)]\tLoss: 2.229863\n",
      "Train Epoch: 1 [26400/60000 (44%)]\tLoss: 1.528902\n",
      "Train Epoch: 1 [39600/60000 (66%)]\tLoss: 1.021563\n",
      "Train Epoch: 1 [52800/60000 (88%)]\tLoss: 0.711420\n",
      "\n",
      "Test set: Average loss: 0.0007, Accuracy: 8807/10000 (88%)\n",
      "\n",
      "Train Epoch: 2 [0/60000 (0%)]\tLoss: 0.874490\n",
      "Train Epoch: 2 [13200/60000 (22%)]\tLoss: 0.663664\n",
      "Train Epoch: 2 [26400/60000 (44%)]\tLoss: 0.579851\n",
      "Train Epoch: 2 [39600/60000 (66%)]\tLoss: 0.542916\n",
      "Train Epoch: 2 [52800/60000 (88%)]\tLoss: 0.558071\n",
      "\n",
      "Test set: Average loss: 0.0004, Accuracy: 9303/10000 (93%)\n",
      "\n",
      "Train Epoch: 3 [0/60000 (0%)]\tLoss: 0.539103\n",
      "Train Epoch: 3 [13200/60000 (22%)]\tLoss: 0.549283\n",
      "Train Epoch: 3 [26400/60000 (44%)]\tLoss: 0.472087\n",
      "Train Epoch: 3 [39600/60000 (66%)]\tLoss: 0.501826\n",
      "Train Epoch: 3 [52800/60000 (88%)]\tLoss: 0.396956\n",
      "\n",
      "Test set: Average loss: 0.0003, Accuracy: 9469/10000 (95%)\n",
      "\n",
      "Train Epoch: 4 [0/60000 (0%)]\tLoss: 0.386512\n",
      "Train Epoch: 4 [13200/60000 (22%)]\tLoss: 0.423275\n",
      "Train Epoch: 4 [26400/60000 (44%)]\tLoss: 0.314742\n",
      "Train Epoch: 4 [39600/60000 (66%)]\tLoss: 0.233756\n",
      "Train Epoch: 4 [52800/60000 (88%)]\tLoss: 0.421492\n",
      "\n",
      "Test set: Average loss: 0.0002, Accuracy: 9565/10000 (96%)\n",
      "\n"
     ]
    }
   ],
   "source": [
    "sim_env.clients[0].test()\n",
    "for epoch in range(1, config.N_EPOCHS + 1):\n",
    "    sim_env.clients[0].train(epoch)\n",
    "    sim_env.clients[0].test()"
   ]
  },
  {
   "cell_type": "code",
   "execution_count": null,
   "id": "79a56e37-80d4-440e-bedb-f39d5941a4cc",
   "metadata": {},
   "outputs": [],
   "source": []
  },
  {
   "cell_type": "code",
   "execution_count": 7,
   "id": "3f55d84a-b1c5-4f09-84ea-6ba57b8384a4",
   "metadata": {},
   "outputs": [
    {
     "name": "stdout",
     "output_type": "stream",
     "text": [
      "Reset network successfully\n",
      "1/1 clients poisoned\n",
      "Label Flipping 100.0% from 5 to 4\n"
     ]
    }
   ],
   "source": [
    "sim_env.reset_client_nets()\n",
    "sim_env.poison_clients()"
   ]
  },
  {
   "cell_type": "code",
   "execution_count": 8,
   "id": "955d805f-7b2f-4906-bbd2-28e21a17398e",
   "metadata": {},
   "outputs": [
    {
     "name": "stdout",
     "output_type": "stream",
     "text": [
      "\n",
      "Test set: Average loss: 0.0023, Accuracy: 899/10000 (9%)\n",
      "\n",
      "Train Epoch: 1 [0/60000 (0%)]\tLoss: 2.304253\n",
      "Train Epoch: 1 [13200/60000 (22%)]\tLoss: 2.153661\n",
      "Train Epoch: 1 [26400/60000 (44%)]\tLoss: 1.438527\n",
      "Train Epoch: 1 [39600/60000 (66%)]\tLoss: 1.085756\n",
      "Train Epoch: 1 [52800/60000 (88%)]\tLoss: 0.616266\n",
      "\n",
      "Test set: Average loss: 0.0010, Accuracy: 8194/10000 (82%)\n",
      "\n",
      "Train Epoch: 2 [0/60000 (0%)]\tLoss: 0.619142\n",
      "Train Epoch: 2 [13200/60000 (22%)]\tLoss: 0.766555\n",
      "Train Epoch: 2 [26400/60000 (44%)]\tLoss: 0.509456\n",
      "Train Epoch: 2 [39600/60000 (66%)]\tLoss: 0.601975\n",
      "Train Epoch: 2 [52800/60000 (88%)]\tLoss: 0.484176\n",
      "\n",
      "Test set: Average loss: 0.0010, Accuracy: 8450/10000 (84%)\n",
      "\n",
      "Train Epoch: 3 [0/60000 (0%)]\tLoss: 0.362059\n",
      "Train Epoch: 3 [13200/60000 (22%)]\tLoss: 0.701436\n",
      "Train Epoch: 3 [26400/60000 (44%)]\tLoss: 0.395474\n",
      "Train Epoch: 3 [39600/60000 (66%)]\tLoss: 0.511629\n",
      "Train Epoch: 3 [52800/60000 (88%)]\tLoss: 0.584317\n",
      "\n",
      "Test set: Average loss: 0.0010, Accuracy: 8593/10000 (86%)\n",
      "\n",
      "Train Epoch: 4 [0/60000 (0%)]\tLoss: 0.388518\n",
      "Train Epoch: 4 [13200/60000 (22%)]\tLoss: 0.397388\n",
      "Train Epoch: 4 [26400/60000 (44%)]\tLoss: 0.367065\n",
      "Train Epoch: 4 [39600/60000 (66%)]\tLoss: 0.484399\n",
      "Train Epoch: 4 [52800/60000 (88%)]\tLoss: 0.363157\n",
      "\n",
      "Test set: Average loss: 0.0010, Accuracy: 8685/10000 (87%)\n",
      "\n"
     ]
    }
   ],
   "source": [
    "sim_env.clients[0].test()\n",
    "for epoch in range(1, config.N_EPOCHS + 1):\n",
    "    sim_env.clients[0].train(epoch)\n",
    "    sim_env.clients[0].test()"
   ]
  }
 ],
 "metadata": {
  "kernelspec": {
   "display_name": "Python 3 (ipykernel)",
   "language": "python",
   "name": "python3"
  },
  "language_info": {
   "codemirror_mode": {
    "name": "ipython",
    "version": 3
   },
   "file_extension": ".py",
   "mimetype": "text/x-python",
   "name": "python",
   "nbconvert_exporter": "python",
   "pygments_lexer": "ipython3",
   "version": "3.9.12"
  }
 },
 "nbformat": 4,
 "nbformat_minor": 5
}
