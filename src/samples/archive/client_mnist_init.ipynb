{
 "cells": [
  {
   "cell_type": "code",
   "execution_count": null,
   "id": "4568c356-9d09-460b-acf6-9ba56eee7924",
   "metadata": {},
   "outputs": [],
   "source": [
    "from federated_learning import Configuration"
   ]
  },
  {
   "cell_type": "code",
   "execution_count": null,
   "id": "469e1888-5b69-4730-a281-96faeaec49ac",
   "metadata": {},
   "outputs": [],
   "source": [
    "import torch\n",
    "import torch.optim as optim\n",
    "import torch.nn as nn\n",
    "\n",
    "class Client(): \n",
    "    def __init__(self, configs: Configuration, train_dataloader, test_dataloader):\n",
    "        self.configs = configs\n",
    "        self.net = self.configs.NETWORK()\n",
    "        self.train_dataloader = train_dataloader\n",
    "        self.test_dataloader = test_dataloader\n",
    "        self.optimizer = optim.SGD(self.net.parameters(), lr=self.configs.LEARNING_RATE, momentum=self.configs.MOMENTUM)\n",
    "        self.criterion = nn.CrossEntropyLoss()\n",
    "        self.train_losses = []\n",
    "        self.train_counter = []\n",
    "        self.test_losses = []\n",
    "        self.test_counter = [i*len(self.train_dataloader.dataset) for i in range(self.configs.N_EPOCHS)]\n",
    "        \n",
    "    def train(self, epoch):\n",
    "        self.net.train()\n",
    "        for batch_idx, (data, target) in enumerate(self.train_dataloader):\n",
    "            self.optimizer.zero_grad()\n",
    "            output = self.net(data)\n",
    "            loss = self.criterion(output, target)\n",
    "            loss.backward()\n",
    "            self.optimizer.step()\n",
    "            if batch_idx % self.configs.LOG_INTERVAL == 0:\n",
    "                print('Train Epoch: {} [{}/{} ({:.0f}%)]\\tLoss: {:.6f}'.format(epoch, batch_idx * len(data), len(self.train_dataloader.dataset),100. * batch_idx / len(self.train_dataloader), loss.item()))\n",
    "                self.train_losses.append(loss.item())\n",
    "                self.train_counter.append((batch_idx*64) + ((epoch-1)*len(self.train_dataloader.dataset)))\n",
    "                #self.torch.save(self.net.state_dict(), './results/model.pth')\n",
    "                #torch.save(optimizer.state_dict(), './results/optimizer.pth')\n",
    "    \n",
    "    def test(self):\n",
    "        self.net.eval()\n",
    "        test_loss = 0\n",
    "        correct = 0\n",
    "        total = 0\n",
    "        with torch.no_grad():\n",
    "            for data, target in self.test_dataloader:\n",
    "                output = self.net(data)\n",
    "                loss = self.criterion(output, target)\n",
    "                test_loss += loss.item()\n",
    "                pred = output.data.max(1, keepdim=True)[1]\n",
    "                correct += pred.eq(target.data.view_as(pred)).sum()\n",
    "                total += 1\n",
    "        test_loss /= total\n",
    "        self.test_losses.append(test_loss)\n",
    "        print('\\nTest set: Avg. loss: {:.4f}, Accuracy: {}/{} ({:.0f}%)\\n'.format(test_loss, correct, len(self.test_dataloader.dataset), 100. * correct / len(self.test_dataloader.dataset)))"
   ]
  },
  {
   "cell_type": "markdown",
   "id": "9cb87906-a731-45ac-a791-1487378132af",
   "metadata": {},
   "source": [
    "# Network and Dataloader"
   ]
  },
  {
   "cell_type": "code",
   "execution_count": null,
   "id": "dd22762c-cec4-4b1e-9c98-64f904887d5c",
   "metadata": {},
   "outputs": [],
   "source": [
    "config = Configuration()\n",
    "mnist = config.DATALOADER(config)\n",
    "client = Client(config, mnist.train_dataloader, mnist.test_dataloader)"
   ]
  },
  {
   "cell_type": "code",
   "execution_count": null,
   "id": "de2f2fb0-7cbd-44c1-9062-61320527e61c",
   "metadata": {},
   "outputs": [],
   "source": [
    "client.test()\n",
    "for epoch in range(1, config.N_EPOCHS + 1):\n",
    "    client.train(epoch)\n",
    "    client.test()"
   ]
  }
 ],
 "metadata": {
  "kernelspec": {
   "display_name": "Python 3 (ipykernel)",
   "language": "python",
   "name": "python3"
  },
  "language_info": {
   "codemirror_mode": {
    "name": "ipython",
    "version": 3
   },
   "file_extension": ".py",
   "mimetype": "text/x-python",
   "name": "python",
   "nbconvert_exporter": "python",
   "pygments_lexer": "ipython3",
   "version": "3.9.12"
  }
 },
 "nbformat": 4,
 "nbformat_minor": 5
}
