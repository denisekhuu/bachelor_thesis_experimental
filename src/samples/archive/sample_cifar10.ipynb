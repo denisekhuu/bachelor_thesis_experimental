{
 "cells": [
  {
   "cell_type": "markdown",
   "id": "36bc73d9-2eb4-4049-a43a-931395920c8e",
   "metadata": {},
   "source": [
    "# CIFAR 10 Example"
   ]
  },
  {
   "cell_type": "markdown",
   "id": "e4bc97c5-166a-4bda-a7a1-8cf3cee42833",
   "metadata": {},
   "source": [
    "## Folder Structure"
   ]
  },
  {
   "cell_type": "code",
   "execution_count": null,
   "id": "0270f3d6-aea9-421a-a478-57a02d012742",
   "metadata": {},
   "outputs": [],
   "source": [
    "import os \n",
    "CIFAR10_DATASET_PATH = os.path.join('./data/cifar10')"
   ]
  },
  {
   "cell_type": "markdown",
   "id": "2d13c855-f76e-48c4-8c7d-1e7404348ac2",
   "metadata": {},
   "source": [
    "# Libraries"
   ]
  },
  {
   "cell_type": "code",
   "execution_count": null,
   "id": "483d1b2f-f209-46a5-ae47-419e5ada8ba2",
   "metadata": {},
   "outputs": [],
   "source": [
    "import torch, torchvision"
   ]
  },
  {
   "cell_type": "markdown",
   "id": "736393d7-5eaf-42b7-94e2-830b985c0347",
   "metadata": {},
   "source": [
    "## Configuration"
   ]
  },
  {
   "cell_type": "code",
   "execution_count": null,
   "id": "cde8c93d-d3d9-45a9-a2a2-848f7dd52c81",
   "metadata": {},
   "outputs": [],
   "source": [
    "# Configuration \n",
    "\n",
    "n_epochs = 3\n",
    "batch_size_train = 64\n",
    "batch_size_test = 1000\n",
    "learning_rate = 0.01\n",
    "momentum = 0.5\n",
    "log_interval = 10\n",
    "\n",
    "random_seed = 1\n",
    "torch.backends.cudnn.enabled = False\n",
    "torch.manual_seed(random_seed)\n",
    "\n"
   ]
  },
  {
   "cell_type": "code",
   "execution_count": null,
   "id": "4ed6e558-a4ea-464d-8a1f-3ff23d34dd70",
   "metadata": {},
   "outputs": [],
   "source": [
    "classes = ('plane', 'car', 'bird', 'cat',\n",
    "           'deer', 'dog', 'frog', 'horse', 'ship', 'truck')"
   ]
  },
  {
   "cell_type": "markdown",
   "id": "a0af6b32-de7d-4d02-adb8-2fca9dcb0f9e",
   "metadata": {},
   "source": [
    "## Dataloader"
   ]
  },
  {
   "cell_type": "code",
   "execution_count": null,
   "id": "12d6d9c1-500e-4928-9d16-6e2e51ed7e7e",
   "metadata": {},
   "outputs": [],
   "source": [
    "train_loader = torch.utils.data.DataLoader(\n",
    "  torchvision.datasets.CIFAR10(CIFAR10_DATASET_PATH, train=True, download=True,\n",
    "                             transform=torchvision.transforms.Compose([\n",
    "                               torchvision.transforms.ToTensor(),\n",
    "                             ])),\n",
    "  batch_size=batch_size_train, shuffle=True)\n",
    "\n",
    "test_loader = torch.utils.data.DataLoader(\n",
    "  torchvision.datasets.CIFAR10(CIFAR10_DATASET_PATH, train=False, download=True,\n",
    "                             transform=torchvision.transforms.Compose([\n",
    "                               torchvision.transforms.ToTensor(),\n",
    "                             ])),\n",
    "  batch_size=batch_size_test, shuffle=True)"
   ]
  },
  {
   "cell_type": "code",
   "execution_count": null,
   "id": "f38e1eaa-d3b6-48d0-b1cf-cad1d1d25509",
   "metadata": {},
   "outputs": [],
   "source": [
    "examples = enumerate(test_loader)\n",
    "batch_idx, (example_data, example_targets) = next(examples)"
   ]
  },
  {
   "cell_type": "code",
   "execution_count": null,
   "id": "2dd4d896-e560-4787-984f-e472c96c70f4",
   "metadata": {},
   "outputs": [],
   "source": [
    "example_data.shape"
   ]
  },
  {
   "cell_type": "code",
   "execution_count": null,
   "id": "7bbb594a-8ac9-4d1d-b851-cd7bd6417c9c",
   "metadata": {},
   "outputs": [],
   "source": [
    "import matplotlib.pyplot as plt\n",
    "import numpy as np\n",
    "\n",
    "fig = plt.figure()\n",
    "\n",
    "def imshow(img):\n",
    "    img = img / 2 + 0.5     # unnormalize\n",
    "    npimg = img.numpy()\n",
    "    plt.imshow(np.transpose(npimg, (1, 2, 0)))\n",
    "\n",
    "dataiter = iter(train_loader)\n",
    "images, labels = dataiter.next()\n",
    "\n",
    "for i in range(6):\n",
    "    plt.subplot(2,3,i+1)\n",
    "    img = torchvision.utils.make_grid(images[i])\n",
    "    imshow(img)\n",
    "    plt.title(\"Ground Truth: {}\".format(classes[labels[i]]))\n",
    "    plt.xticks([])\n",
    "    plt.yticks([])"
   ]
  },
  {
   "cell_type": "code",
   "execution_count": null,
   "id": "734663da-4ac0-47a0-82d0-6f0ff86fe422",
   "metadata": {},
   "outputs": [],
   "source": []
  },
  {
   "cell_type": "code",
   "execution_count": null,
   "id": "a52d97c9-f713-4088-805d-49593ef49217",
   "metadata": {},
   "outputs": [],
   "source": []
  }
 ],
 "metadata": {
  "kernelspec": {
   "display_name": "Python 3 (ipykernel)",
   "language": "python",
   "name": "python3"
  },
  "language_info": {
   "codemirror_mode": {
    "name": "ipython",
    "version": 3
   },
   "file_extension": ".py",
   "mimetype": "text/x-python",
   "name": "python",
   "nbconvert_exporter": "python",
   "pygments_lexer": "ipython3",
   "version": "3.9.12"
  }
 },
 "nbformat": 4,
 "nbformat_minor": 5
}
