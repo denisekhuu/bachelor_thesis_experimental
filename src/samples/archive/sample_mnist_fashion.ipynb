{
 "cells": [
  {
   "cell_type": "markdown",
   "id": "0061f74a-06ce-4378-aedc-7ed341c11e17",
   "metadata": {},
   "source": [
    "# MNIST Fashion Example"
   ]
  },
  {
   "cell_type": "markdown",
   "id": "103a8a2b-be62-4b55-bd94-f26558cc6d04",
   "metadata": {},
   "source": [
    "## Folder Structure \n"
   ]
  },
  {
   "cell_type": "code",
   "execution_count": null,
   "id": "2bc294b1-b2e6-40a4-b03e-920758812f46",
   "metadata": {},
   "outputs": [],
   "source": [
    "import os"
   ]
  },
  {
   "cell_type": "code",
   "execution_count": null,
   "id": "428195b2-e6a0-4a95-8b55-4300e6b0290d",
   "metadata": {},
   "outputs": [],
   "source": [
    "MNIST_FASHION_DATASET_PATH = os.path.join('./data/mnist_fashion')"
   ]
  },
  {
   "cell_type": "markdown",
   "id": "208e6a47-2e31-44b1-aece-e5bbcb1696dd",
   "metadata": {},
   "source": [
    "# Libraries"
   ]
  },
  {
   "cell_type": "code",
   "execution_count": null,
   "id": "74afec19-6bf2-4ab2-8969-271c67f26ae2",
   "metadata": {},
   "outputs": [],
   "source": [
    "import torch, torchvision"
   ]
  },
  {
   "cell_type": "markdown",
   "id": "af6b2eac-674c-48a2-ae5d-558ed2962520",
   "metadata": {},
   "source": [
    "## Configuration"
   ]
  },
  {
   "cell_type": "code",
   "execution_count": null,
   "id": "0c62be55-b743-42f4-b3f6-d3a1e27fd20e",
   "metadata": {},
   "outputs": [],
   "source": [
    "# Configuration \n",
    "\n",
    "n_epochs = 3\n",
    "batch_size_train = 64\n",
    "batch_size_test = 1000\n",
    "learning_rate = 0.01\n",
    "momentum = 0.5\n",
    "log_interval = 10\n",
    "\n",
    "random_seed = 1\n",
    "torch.backends.cudnn.enabled = False\n",
    "torch.manual_seed(random_seed)"
   ]
  },
  {
   "cell_type": "markdown",
   "id": "a83b69eb-1682-47e7-8a26-463b2c429ab8",
   "metadata": {},
   "source": [
    "## Dataloader"
   ]
  },
  {
   "cell_type": "code",
   "execution_count": null,
   "id": "d45a8232-5a2a-4da3-8bd1-d82fa7da6d4d",
   "metadata": {},
   "outputs": [],
   "source": [
    "train_loader = torch.utils.data.DataLoader(\n",
    "  torchvision.datasets.FashionMNIST(MNIST_FASHION_DATASET_PATH, train=True, download=True,\n",
    "                             transform=torchvision.transforms.Compose([\n",
    "                               torchvision.transforms.ToTensor(),\n",
    "                             ])),\n",
    "  batch_size=batch_size_train, shuffle=True)\n",
    "\n",
    "test_loader = torch.utils.data.DataLoader(\n",
    "  torchvision.datasets.FashionMNIST(MNIST_FASHION_DATASET_PATH, train=False, download=True,\n",
    "                             transform=torchvision.transforms.Compose([\n",
    "                               torchvision.transforms.ToTensor(),\n",
    "                             ])),\n",
    "  batch_size=batch_size_test, shuffle=True)"
   ]
  },
  {
   "cell_type": "code",
   "execution_count": null,
   "id": "921cfde8-3f4d-4254-a82e-ba990f789540",
   "metadata": {},
   "outputs": [],
   "source": [
    "examples = enumerate(test_loader)\n",
    "batch_idx, (example_data, example_targets) = next(examples)"
   ]
  },
  {
   "cell_type": "code",
   "execution_count": null,
   "id": "31e5ecec-81a7-43fe-b5ae-cdc2dfbfd248",
   "metadata": {},
   "outputs": [],
   "source": [
    "example_data.shape"
   ]
  },
  {
   "cell_type": "code",
   "execution_count": null,
   "id": "05027970-1559-4694-94c8-80587be2b58f",
   "metadata": {},
   "outputs": [],
   "source": [
    "import matplotlib.pyplot as plt\n",
    "\n",
    "fig = plt.figure()\n",
    "for i in range(6):\n",
    "    plt.subplot(2,3,i+1)\n",
    "    plt.tight_layout()\n",
    "    plt.imshow(example_data[i][0], cmap='gray', interpolation='none')\n",
    "    plt.title(\"Ground Truth: {}\".format(example_targets[i]))\n",
    "    plt.xticks([])\n",
    "    plt.yticks([])"
   ]
  }
 ],
 "metadata": {
  "kernelspec": {
   "display_name": "Python 3 (ipykernel)",
   "language": "python",
   "name": "python3"
  },
  "language_info": {
   "codemirror_mode": {
    "name": "ipython",
    "version": 3
   },
   "file_extension": ".py",
   "mimetype": "text/x-python",
   "name": "python",
   "nbconvert_exporter": "python",
   "pygments_lexer": "ipython3",
   "version": "3.9.12"
  }
 },
 "nbformat": 4,
 "nbformat_minor": 5
}
