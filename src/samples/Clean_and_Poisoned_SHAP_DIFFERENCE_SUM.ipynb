{
 "cells": [
  {
   "cell_type": "code",
   "execution_count": 1,
   "id": "3cd970ef-a100-441b-993b-5ffc0866af2e",
   "metadata": {},
   "outputs": [],
   "source": [
    "from federated_learning.utils import SHAPUtil, experiment_util, Visualizer\n",
    "from federated_learning import ClientPlane, Configuration, ObserverConfiguration\n",
    "from federated_learning.server import Server\n",
    "from datetime import datetime\n",
    "import random"
   ]
  },
  {
   "cell_type": "code",
   "execution_count": null,
   "id": "9c5eba9f-31ca-4fbc-bd88-f8c8c9c7e76e",
   "metadata": {},
   "outputs": [],
   "source": [
    "class ExperimentalSummary():"
   ]
  },
  {
   "cell_type": "code",
   "execution_count": 15,
   "id": "bfcb3382-d87c-409a-b8fb-699a53d32c5a",
   "metadata": {},
   "outputs": [],
   "source": [
    "import numpy as np\n",
    "def diag_mean_values(shap_values, server_shap = False):\n",
    "    diag_mean = []\n",
    "    diag_diff_mean = []\n",
    "    for row_idx, row in enumerate(shap_values):\n",
    "        for img_idx, image in enumerate(row):\n",
    "            if row_idx == img_idx:\n",
    "                diag_mean.append(np.median(shap_values[row_idx][img_idx][np.nonzero(shap_values[row_idx][img_idx])]))\n",
    "                if server_shap:\n",
    "                    arr = np.subtract(image, server_shap[row_idx][img_idx])\n",
    "                    diag_diff_mean.append(np.median(arr[np.nonzero(arr)]))\n",
    "    print(diag_mean)\n",
    "    print(diag_diff_mean)\n",
    "    \n",
    "def convolve_values(s_client, s_server):\n",
    "    convolution = []\n",
    "    shap_subtract = np.subtract(s_client, s_server)\n",
    "    norms = np.linalg.norm(shap_subtract, axis=1)\n",
    "    normed_shap = np.subtract(s_client, s_server)\n",
    "    for row_idx, row in enumerate(shap_subtract):\n",
    "        for img_idx, image in enumerate(row):\n",
    "            if row_idx == img_idx:\n",
    "                convolution.append(np.sum(image.flatten()))\n",
    "    print(convolution)\n",
    "\n",
    "    \n"
   ]
  },
  {
   "cell_type": "markdown",
   "id": "61c85f51-2d2d-4199-bf96-97b61c3a462c",
   "metadata": {},
   "source": [
    "## Configurations"
   ]
  },
  {
   "cell_type": "code",
   "execution_count": 7,
   "id": "0e5726a0-45ec-41cc-aa85-1242984fddce",
   "metadata": {},
   "outputs": [
    {
     "name": "stdout",
     "output_type": "stream",
     "text": [
      "MNIST training data loaded.\n",
      "MNIST test data loaded.\n"
     ]
    }
   ],
   "source": [
    "config = Configuration()\n",
    "config.FROM_LABEL = 4\n",
    "config.TO_LABEL = 5\n",
    "config.POISONED_CLIENTS = 10\n",
    "data = config.DATASET(config)\n",
    "shap_util = SHAPUtil(data.test_dataloader)\n",
    "observer_config = ObserverConfiguration()\n",
    "visualizer = Visualizer(shap_util)"
   ]
  },
  {
   "cell_type": "markdown",
   "id": "f1675afc-7902-42b1-8d8c-d63f277a6d02",
   "metadata": {},
   "source": [
    "## Experimental Setup"
   ]
  },
  {
   "cell_type": "code",
   "execution_count": 8,
   "id": "d83c37ae-601e-421a-a0f7-3947c7f37a79",
   "metadata": {},
   "outputs": [
    {
     "name": "stdout",
     "output_type": "stream",
     "text": [
      "Create 200 clients with dataset of size 300\n",
      "Poison 10/200 clients\n",
      "Flip 100.0% of the 4 labels to 5\n",
      "[ 75 196  77  87 137  97  55 159  31  37]\n",
      "[108, 16, 121, 162, 29, 175, 104, 127, 91, 48]\n"
     ]
    }
   ],
   "source": [
    "server = Server(config, observer_config,data.train_dataloader, data.test_dataloader, shap_util)\n",
    "client_plane = ClientPlane(config, observer_config, data, shap_util)\n",
    "client_plane.poison_clients()\n",
    "clean_idx = experiment_util.select_random_clean(client_plane, config, 10)\n",
    "poisoned_idx = experiment_util.select_poisoned(client_plane, 10)\n",
    "print(clean_idx)"
   ]
  },
  {
   "cell_type": "code",
   "execution_count": null,
   "id": "e1246c5d-79eb-4d07-bc7f-42b596dff256",
   "metadata": {},
   "outputs": [],
   "source": [
    "#len(client_plane.clients[0].train_dataloader.dataset.dataset.targets[client_plane.clients[0].train_dataloader.dataset.dataset.targets == 5])"
   ]
  },
  {
   "cell_type": "markdown",
   "id": "78097ba0-ee32-4f32-a789-cb8a1e557d2f",
   "metadata": {},
   "source": [
    "## Experiment"
   ]
  },
  {
   "cell_type": "code",
   "execution_count": 16,
   "id": "4ddc69c5-a6e1-4f83-b691-a7fa1511a74c",
   "metadata": {
    "tags": []
   },
   "outputs": [
    {
     "name": "stdout",
     "output_type": "stream",
     "text": [
      "\n",
      "Test set: Average loss: 0.0003, Accuracy: 9415/10000 (94%)\n",
      "\n",
      "Server 1\n",
      "Client Clean 1\n",
      "[-0.004380190790798322, -0.20036727593768427, -0.004485519679174016, -0.302339301003963, -0.0003993992544772951, 0.010438596160126878, -0.012211120367652484, -0.04504875549427023, 0.03665115551720932, -0.03939160862273189]\n",
      "Client Poisoned 1\n",
      "[-0.000816721596110126, -0.2057804693262631, -0.0022164908827472813, 0.049921215988741, -0.7903016121173079, -0.13275992653938307, -0.08305722087333756, -0.1777078956162419, -0.0889569565577264, -0.11322076118135027]\n",
      "Round 1 finished\n",
      "\n",
      "Test set: Average loss: 0.0003, Accuracy: 9404/10000 (94%)\n",
      "\n",
      "Server 2\n",
      "Client Clean 2\n",
      "[-0.012109553039119092, -0.1625669348169787, -0.013338611212023732, -0.30611625270340515, -0.03818214033859979, -0.012931845540720133, -0.09032663451926481, -0.10528357900504126, -0.2070120151794086, 0.003908809871264296]\n",
      "Client Poisoned 2\n",
      "[0.0004764699953390128, -0.027580840326681733, -0.02191239834535308, 0.0702014855760753, -0.6960191056289224, -0.10670651625397215, -0.0029139568582632336, -0.13923772682238367, 0.029592599777959805, -0.10766772695309612]\n",
      "Round 2 finished\n",
      "\n",
      "Test set: Average loss: 0.0003, Accuracy: 9426/10000 (94%)\n",
      "\n",
      "Server 3\n",
      "Client Clean 3\n",
      "[-0.012989984678230537, 0.03334378957381556, -0.008379146953091277, -0.238812982444486, 0.04391345085765125, -0.02239482813305238, -0.09744396447760861, -0.05603783042692889, -0.18858275353698062, 0.026020784796111807]\n",
      "Client Poisoned 3\n",
      "[5.943746596459576e-06, -0.05002171292318236, -0.003349521372817188, 0.02969260292951259, -0.7223260031047015, -0.11109632505621958, -0.010642280765091883, -0.24918659166575896, 0.04902958179770067, -0.008018934095087138]\n",
      "Round 3 finished\n",
      "\n",
      "Test set: Average loss: 0.0003, Accuracy: 9413/10000 (94%)\n",
      "\n",
      "Server 4\n",
      "Client Clean 4\n",
      "[-0.002170092798476908, 0.03765343727147297, -0.024439871841545724, -0.26454533395359103, 0.0013435900063126574, -0.007061367052644485, -0.0008870890732319836, -0.16266111536605465, -0.10944413341118597, -0.10000019473256572]\n",
      "Client Poisoned 4\n",
      "[-0.00026097003762171056, -0.031140263383832245, -0.004473831899376668, 0.09536756177152439, -0.6996071106124974, -0.13570820476415124, -0.029632542792130075, -0.05850054238893965, -0.059949337445878825, -0.09439515585653524]\n",
      "Round 4 finished\n",
      "\n",
      "Test set: Average loss: 0.0003, Accuracy: 9423/10000 (94%)\n",
      "\n",
      "Server 5\n",
      "Client Clean 5\n",
      "[-0.003933799085782397, -0.019733890293737844, -0.0020862121579861004, -0.3248563773641724, -0.0047611054446042855, 0.010531626335254396, -0.022394049793694887, 0.02697899517089919, -0.1040820688873092, -0.044297968929652765]\n",
      "Client Poisoned 5\n",
      "[-0.002377952086639379, -0.18469651188441016, -0.03635073884129203, 0.06519885283816507, -0.770640972333221, -0.14006864497078264, -0.08080998516135374, -0.0347933617820928, 0.07394091144253956, -0.08279471448874132]\n",
      "Round 5 finished\n"
     ]
    }
   ],
   "source": [
    "#for i in range(15):\n",
    "#    experiment_util.run_round(client_plane, server, i+1)\n",
    "for i in range(5):\n",
    "    experiment_util.run_round(client_plane, server, i+1)\n",
    "    server.test()\n",
    "    print(\"Server {}\".format(i+1))\n",
    "    server_shap = server.get_shap_values()\n",
    "    #visualizer.plot_shap_values(server_shap)\n",
    "    client_plane.update_clients(server.get_nn_parameters())\n",
    "    for j in range(1):\n",
    "        print(\"Client Clean {}\".format(i+1))\n",
    "        client_plane.clients[clean_idx[j]].train(i+1)\n",
    "        clean_client_shap = client_plane.clients[clean_idx[j]].get_shap_values()\n",
    "        convolve_values(clean_client_shap, server_shap)\n",
    "        #visualizer.plot_shap_values(clean_client_shap)\n",
    "        #visualizer.compare_shap_values(clean_client_shap, server_shap)\n",
    "    client_plane.update_clients(server.get_nn_parameters())    \n",
    "    for j in range(1):\n",
    "        print(\"Client Poisoned {}\".format(i+1))\n",
    "        client_plane.clients[poisoned_idx[j]].train(i+1)\n",
    "        poisoned_client_shap = client_plane.clients[poisoned_idx[j]].get_shap_values()\n",
    "        #visualizer.plot_shap_values(poisoned_client_shap)\n",
    "        #visualizer.compare_shap_values(poisoned_client_shap, server_shap)\n",
    "        convolve_values(poisoned_client_shap, server_shap)\n",
    "    print(\"Round {} finished\".format(i+1))"
   ]
  },
  {
   "cell_type": "code",
   "execution_count": null,
   "id": "d2efc8e3-efb5-4ce3-af6a-5244fe623768",
   "metadata": {},
   "outputs": [],
   "source": []
  }
 ],
 "metadata": {
  "kernelspec": {
   "display_name": "Python 3 (ipykernel)",
   "language": "python",
   "name": "python3"
  },
  "language_info": {
   "codemirror_mode": {
    "name": "ipython",
    "version": 3
   },
   "file_extension": ".py",
   "mimetype": "text/x-python",
   "name": "python",
   "nbconvert_exporter": "python",
   "pygments_lexer": "ipython3",
   "version": "3.9.12"
  }
 },
 "nbformat": 4,
 "nbformat_minor": 5
}
