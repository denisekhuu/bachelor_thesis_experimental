{
 "cells": [
  {
   "cell_type": "markdown",
   "id": "b12f31ea-c88e-4255-a6e3-ff8ea7c255e4",
   "metadata": {},
   "source": [
    "# Experiment 3: Poisoning Attacks in Federated Learning"
   ]
  },
  {
   "cell_type": "markdown",
   "id": "0506f7ba-cafc-45dc-95df-ecf1e9de0bf1",
   "metadata": {},
   "source": [
    "* Poisoning of\n",
    "    * experiment_id = 1; label flipping 5 -> 4,  poisoned_clients[10, 25, 50, 75, 100, 125], rounds 50\n",
    "    * experiment_id = 0; label flipping 5 -> 4,  poisoned_clients[0, 10, 25, 50, 75, 100] rounds 200"
   ]
  },
  {
   "cell_type": "code",
   "execution_count": null,
   "id": "bded64ba-e5ec-444b-af5e-8e969fb11ce8",
   "metadata": {},
   "outputs": [],
   "source": [
    "from federated_learning.utils import SHAPUtil\n",
    "from federated_learning import ClientPlane, Configuration\n",
    "from federated_learning.server import Server\n",
    "from datetime import datetime\n",
    "import random"
   ]
  },
  {
   "cell_type": "code",
   "execution_count": null,
   "id": "b4146637-5eb6-4413-994a-6868b4aa167f",
   "metadata": {},
   "outputs": [],
   "source": [
    "class ObserverConfiguration():\n",
    "    experiment_type = \"shap_fl_poisoned\"\n",
    "    experiment_id = 0\n",
    "    test = False\n",
    "    dataset_type = \"MNIST\"\n",
    "    \n",
    "    # Client Configurations \n",
    "    client_name = \"client\"\n",
    "    client_type = \"client\"\n",
    "    \n",
    "    # Server Configurations \n",
    "    server_name = \"server\"\n",
    "    server_type = \"server\"\n",
    "    server_id = 0"
   ]
  },
  {
   "cell_type": "code",
   "execution_count": null,
   "id": "b6df18c1-38ee-481e-8f48-0bff26fa1e19",
   "metadata": {},
   "outputs": [],
   "source": [
    "config = Configuration()\n",
    "config.FROM_LABEL = 5\n",
    "config.TO_LABEL = 4\n",
    "data = config.DATASET(config)\n",
    "shap_util = SHAPUtil(data.test_dataloader)\n",
    "observer_config = ObserverConfiguration()"
   ]
  },
  {
   "cell_type": "code",
   "execution_count": null,
   "id": "14b7759e-dfd2-49a4-a719-4ddd72f002d7",
   "metadata": {},
   "outputs": [],
   "source": [
    "def set_rounds(rounds):\n",
    "    client_plane.set_rounds(rounds)\n",
    "    server.set_rounds(rounds)\n",
    "    \n",
    "def update_configs():\n",
    "    client_plane.update_config(config, observer_config)\n",
    "    server.update_config(config, observer_config)\n",
    "    \n",
    "def run_round(rounds):\n",
    "    # Federated Learning Round \n",
    "    client_plane.update_clients(server.get_nn_parameters())\n",
    "    selected_clients = server.select_clients()\n",
    "    client_parameters = client_plane.train_selected_clients(selected_clients)\n",
    "    server.aggregate_model(client_parameters)\n",
    "\n",
    "def select_random_clean():\n",
    "    idx = 0\n",
    "    while idx in client_plane.poisoned_clients:\n",
    "        idx = random.randint(0,config.NUMBER_OF_CLIENTS)\n",
    "    return idx\n",
    "\n",
    "def train_poisoned_client_only(rounds): \n",
    "    client_plane.clients[client_plane.poisoned_clients[0]].train(rounds)\n",
    "    client_plane.clients[client_plane.poisoned_clients[0]].push_metrics()\n",
    "    if rounds == 5: \n",
    "        print(client_plane.clients[client_plane.poisoned_clients[0]].train_dataloader.dataset.dataset.targets[client_plane.clients[client_plane.poisoned_clients[0]].poisoned_indices][0])\n",
    "    \n",
    "def train_clean_client_only(idx, rounds): \n",
    "    client_plane.clients[idx].train(rounds)\n",
    "    client_plane.clients[idx].push_metrics()"
   ]
  },
  {
   "cell_type": "code",
   "execution_count": null,
   "id": "a5331f1e-3526-499d-bf05-650a562582dd",
   "metadata": {},
   "outputs": [],
   "source": [
    "server = Server(config, observer_config, data.test_dataloader, shap_util)\n",
    "server.create_default_model()\n",
    "client_plane = ClientPlane(config, observer_config, data, shap_util)"
   ]
  },
  {
   "cell_type": "code",
   "execution_count": null,
   "id": "4521dba2-fe32-4230-988f-da6b8f85f515",
   "metadata": {},
   "outputs": [],
   "source": [
    "for num_p_clients in [0, 10, 25, 50, 75, 100]:\n",
    "    server = Server(config, observer_config, data.test_dataloader, shap_util)\n",
    "    client_plane = ClientPlane(config, observer_config, data, shap_util)\n",
    "    config.POISONED_CLIENTS = num_p_clients\n",
    "    update_configs()\n",
    "    client_plane.poison_clients()\n",
    "    clean_idx = select_random_clean()\n",
    "    \n",
    "    for i in range(200):\n",
    "        set_rounds(i+1)\n",
    "        run_round(i+1)\n",
    "        if (i+1)%5 == 0:\n",
    "            server.test()\n",
    "            server.push_metrics()\n",
    "            client_plane.update_clients(server.get_nn_parameters())\n",
    "            if num_p_clients > 0:\n",
    "                train_poisoned_client_only(i+1)\n",
    "            train_clean_client_only(clean_idx, i+1)\n",
    "        print(\"Round {} finished\".format(i+1))\n",
    "        \n",
    "        # Monitor a poisoned client \n",
    "    server.load_default_model()\n",
    "    client_plane.load_default_client_nets()\n",
    "    client_plane.reset_poisoning_attack()"
   ]
  },
  {
   "cell_type": "code",
   "execution_count": null,
   "id": "8e78aed1-4b36-4b4c-bd3f-187006e5e29a",
   "metadata": {},
   "outputs": [],
   "source": [
    "server.get_shap_values()"
   ]
  }
 ],
 "metadata": {
  "kernelspec": {
   "display_name": "Python 3 (ipykernel)",
   "language": "python",
   "name": "python3"
  },
  "language_info": {
   "codemirror_mode": {
    "name": "ipython",
    "version": 3
   },
   "file_extension": ".py",
   "mimetype": "text/x-python",
   "name": "python",
   "nbconvert_exporter": "python",
   "pygments_lexer": "ipython3",
   "version": "3.9.12"
  }
 },
 "nbformat": 4,
 "nbformat_minor": 5
}
