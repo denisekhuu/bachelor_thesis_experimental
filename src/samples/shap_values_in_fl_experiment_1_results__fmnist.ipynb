{
 "cells": [
  {
   "cell_type": "markdown",
   "id": "844e4ae3-fc8b-45e1-ae4c-35d64d6ac36c",
   "metadata": {
    "jp-MarkdownHeadingCollapsed": true,
    "tags": []
   },
   "source": [
    "## alpha(5,4)"
   ]
  },
  {
   "cell_type": "code",
   "execution_count": null,
   "id": "3a7b51e1-7051-444b-a520-2e97b2d101f0",
   "metadata": {},
   "outputs": [],
   "source": [
    "# SHAP values FMNIST 5-4 accuracy\n",
    "accuracy_5_4 = [\n",
    "    [0.8968, 0.89, 0.8806, 0.8405, 0.7823, 0.7836],\n",
    "    [0.8965, 0.8866, 0.883, 0.8512, 0.791, 0.7906],\n",
    "    [0.8965, 0.8919, 0.8825, 0.8136, 0.7888, 0.7901],\n",
    "    [0.8931, 0.8937, 0.8853, 0.8222, 0.7925, 0.7902],\n",
    "    [0.8955, 0.8926, 0.8851, 0.8476, 0.8031, 0.7869],\n",
    "]"
   ]
  },
  {
   "cell_type": "code",
   "execution_count": 10,
   "id": "8e8279b0-8126-4911-8a92-3284d5cef9b6",
   "metadata": {},
   "outputs": [],
   "source": [
    "from torch import tensor\n",
    "# SHAP values FMNIST 5-4 recall\n",
    "recalls_54 = [\n",
    "  [tensor([0.8470, 0.9740, 0.8110, 0.9000, 0.8610, 0.9800, 0.6990, 0.9510, 0.9790,\n",
    "        0.9660]), tensor([0.8340, 0.9810, 0.7870, 0.8770, 0.9170, 0.9370, 0.6550, 0.9780, 0.9830,\n",
    "        0.9510]), tensor([0.8410, 0.9720, 0.8210, 0.8870, 0.9240, 0.8720, 0.5770, 0.9740, 0.9790,\n",
    "        0.9590]), tensor([0.8200, 0.9770, 0.8240, 0.8490, 0.9100, 0.4820, 0.6470, 0.9700, 0.9600,\n",
    "        0.9660]), tensor([0.9140, 0.9690, 0.8370, 0.8720, 0.9170, 0.0040, 0.4400, 0.9560, 0.9740,\n",
    "        0.9400]), tensor([0.8250, 0.9660, 0.7470, 0.8780, 0.9230, 0.0000, 0.6240, 0.9400, 0.9660,\n",
    "        0.9670])],\n",
    "    [tensor([0.8370, 0.9730, 0.8310, 0.9040, 0.8470, 0.9520, 0.7090, 0.9660, 0.9820,\n",
    "            0.9640]), tensor([0.8620, 0.9720, 0.8510, 0.8720, 0.8360, 0.8990, 0.6650, 0.9780, 0.9770,\n",
    "            0.9540]), tensor([0.8740, 0.9700, 0.7710, 0.8500, 0.8990, 0.8620, 0.6870, 0.9730, 0.9790,\n",
    "            0.9650]), tensor([0.8460, 0.9660, 0.8070, 0.8650, 0.9370, 0.5890, 0.5910, 0.9670, 0.9770,\n",
    "            0.9670]), tensor([0.9010, 0.9670, 0.8060, 0.8670, 0.9020, 0.0000, 0.5620, 0.9470, 0.9840,\n",
    "            0.9740]), tensor([0.8770, 0.9670, 0.8640, 0.9300, 0.7790, 0.0000, 0.5990, 0.9780, 0.9750,\n",
    "            0.9370])],\n",
    "    [tensor([0.8590, 0.9750, 0.8640, 0.9320, 0.8220, 0.9640, 0.6370, 0.9690, 0.9840,\n",
    "            0.9590]), tensor([0.8370, 0.9720, 0.8390, 0.9280, 0.8200, 0.9230, 0.6930, 0.9440, 0.9830,\n",
    "            0.9800]), tensor([0.9000, 0.9720, 0.7690, 0.8830, 0.9010, 0.8680, 0.6150, 0.9760, 0.9790,\n",
    "            0.9620]), tensor([0.8940, 0.9720, 0.8850, 0.8670, 0.8720, 0.2930, 0.4490, 0.9820, 0.9740,\n",
    "            0.9480]), tensor([0.7930, 0.9680, 0.8170, 0.9210, 0.7220, 0.0160, 0.7570, 0.9740, 0.9700,\n",
    "            0.9500]), tensor([0.8760, 0.9730, 0.7620, 0.8350, 0.8560, 0.0000, 0.7120, 0.9650, 0.9590,\n",
    "            0.9630])],\n",
    "    [tensor([0.8410, 0.9710, 0.8530, 0.8810, 0.7840, 0.9620, 0.7270, 0.9740, 0.9840,\n",
    "            0.9540]), tensor([0.8910, 0.9700, 0.8510, 0.8840, 0.8620, 0.9520, 0.6220, 0.9590, 0.9770,\n",
    "            0.9690]), tensor([0.8870, 0.9780, 0.8660, 0.8810, 0.8410, 0.8730, 0.6130, 0.9840, 0.9830,\n",
    "            0.9470]), tensor([0.8900, 0.9710, 0.8330, 0.8820, 0.8390, 0.2580, 0.6640, 0.9770, 0.9640,\n",
    "            0.9440]), tensor([0.8510, 0.9690, 0.8250, 0.8640, 0.7990, 0.0030, 0.7190, 0.9590, 0.9680,\n",
    "            0.9680]), tensor([0.8760, 0.9750, 0.8490, 0.9010, 0.8770, 0.0000, 0.5670, 0.9730, 0.9770,\n",
    "            0.9070])],\n",
    "    [tensor([0.8490, 0.9720, 0.8690, 0.8760, 0.8160, 0.9830, 0.6870, 0.9650, 0.9800,\n",
    "        0.9580]), tensor([0.8420, 0.9760, 0.8170, 0.8690, 0.8870, 0.9390, 0.6890, 0.9780, 0.9760,\n",
    "        0.9530]), tensor([0.8700, 0.9730, 0.8140, 0.9280, 0.8650, 0.8630, 0.6340, 0.9520, 0.9770,\n",
    "        0.9750]), tensor([0.8230, 0.9790, 0.8670, 0.9140, 0.7450, 0.5210, 0.7220, 0.9750, 0.9720,\n",
    "        0.9580]), tensor([0.8330, 0.9630, 0.8320, 0.9100, 0.8950, 0.0730, 0.6260, 0.9670, 0.9780,\n",
    "        0.9540]), tensor([0.8460, 0.9670, 0.8770, 0.8740, 0.7870, 0.0010, 0.6510, 0.9630, 0.9620,\n",
    "        0.9410])]\n",
    "]"
   ]
  },
  {
   "cell_type": "code",
   "execution_count": 40,
   "id": "2bbe39b8-8a4f-40b9-9a6d-808b6bd61b63",
   "metadata": {},
   "outputs": [],
   "source": [
    "recalls_5_4 = {'src': [[tensor(0.9800), tensor(0.9370), tensor(0.8720), tensor(0.4820), tensor(0.0040), tensor(0.)],\n",
    "         [tensor(0.9520), tensor(0.8990), tensor(0.8620), tensor(0.5890), tensor(0.), tensor(0.)],\n",
    "         [tensor(0.9640), tensor(0.9230), tensor(0.8680), tensor(0.2930), tensor(0.0160), tensor(0.)],\n",
    "         [tensor(0.9620), tensor(0.9520), tensor(0.8730), tensor(0.2580), tensor(0.0030), tensor(0.)],\n",
    "         [tensor(0.9830), tensor(0.9390), tensor(0.8630), tensor(0.5210), tensor(0.0730), tensor(0.0010)]],\n",
    " 'tar': [[tensor(0.8610), tensor(0.9170), tensor(0.9240), tensor(0.9100), tensor(0.9170), tensor(0.9230)],\n",
    "         [tensor(0.8470), tensor(0.8360), tensor(0.8990), tensor(0.9370), tensor(0.9020), tensor(0.7790)],\n",
    "         [tensor(0.8220), tensor(0.8200), tensor(0.9010), tensor(0.8720), tensor(0.7220), tensor(0.8560)],\n",
    "         [tensor(0.7840), tensor(0.8620), tensor(0.8410), tensor(0.8390), tensor(0.7990), tensor(0.8770)],\n",
    "         [tensor(0.8160), tensor(0.8870), tensor(0.8650), tensor(0.7450), tensor(0.8950), tensor(0.7870)]],\n",
    " 'unmod': [[tensor(0.8110), tensor(0.7870), tensor(0.8210), tensor(0.8240), tensor(0.8370), tensor(0.7470)],\n",
    "           [tensor(0.8310), tensor(0.8510), tensor(0.7710), tensor(0.8070), tensor(0.8060), tensor(0.8640)],\n",
    "           [tensor(0.8640), tensor(0.8390), tensor(0.7690), tensor(0.8850), tensor(0.8170), tensor(0.7620)],\n",
    "           [tensor(0.8530), tensor(0.8510), tensor(0.8660), tensor(0.8330), tensor(0.8250), tensor(0.8490)],\n",
    "           [tensor(0.8690), tensor(0.8170), tensor(0.8140), tensor(0.8670), tensor(0.8320), tensor(0.8770)]]}"
   ]
  },
  {
   "cell_type": "code",
   "execution_count": 71,
   "id": "a4cc7e10-9b2c-4919-916e-68a82a0fed4f",
   "metadata": {},
   "outputs": [
    {
     "data": {
      "text/plain": [
       "array([0.00136294, 0.00249046, 0.001747  , 0.01465092, 0.00674881,\n",
       "       0.00269028])"
      ]
     },
     "execution_count": 71,
     "metadata": {},
     "output_type": "execute_result"
    }
   ],
   "source": [
    "import numpy as np\n",
    "np.mean(accuracy_5_4, axis=0)\n",
    "np.std(accuracy_5_4, axis=0)"
   ]
  },
  {
   "cell_type": "code",
   "execution_count": 70,
   "id": "2c77ec6f-82a6-4ebf-bc03-777a3b9ae16d",
   "metadata": {},
   "outputs": [
    {
     "data": {
      "text/plain": [
       "array([0.01163442, 0.01802222, 0.0044989 , 0.13008396, 0.0274474 ,\n",
       "       0.0004    ], dtype=float32)"
      ]
     },
     "execution_count": 70,
     "metadata": {},
     "output_type": "execute_result"
    }
   ],
   "source": [
    "np.mean(recalls_5_4[\"src\"], axis=0)\n",
    "np.std(recalls_5_4[\"src\"], axis=0)"
   ]
  },
  {
   "cell_type": "markdown",
   "id": "a8f2a71c-3d4a-43f2-85e5-52240451dfc7",
   "metadata": {
    "jp-MarkdownHeadingCollapsed": true,
    "tags": []
   },
   "source": [
    "## alpha(1,3)"
   ]
  },
  {
   "cell_type": "code",
   "execution_count": 15,
   "id": "1667e025-f1b2-471a-9e32-44745e740423",
   "metadata": {},
   "outputs": [],
   "source": [
    "# SHAP values FMNIST 1-3 accuracy\n",
    "accuracy_1_3 = [\n",
    "    [0.8941, 0.892, 0.8713, 0.836, 0.7951, 0.7931],\n",
    "    [0.8885, 0.8952, 0.8697, 0.7939, 0.7882, 0.798],\n",
    "    [0.8944, 0.8887, 0.8745, 0.854, 0.7909, 0.7954],\n",
    "    [0.8912, 0.8898, 0.8871, 0.8231, 0.7951, 0.7916],\n",
    "    [0.8966, 0.8952, 0.8842, 0.8179, 0.7981, 0.7947],\n",
    "]"
   ]
  },
  {
   "cell_type": "code",
   "execution_count": 38,
   "id": "127a38d6-2748-48de-9c1c-10256a4876ea",
   "metadata": {},
   "outputs": [],
   "source": [
    "# SHAP values FMNIST 1-3 recall\n",
    "recalls_13 = [\n",
    "    [tensor([0.8260, 0.9710, 0.8740, 0.8970, 0.8620, 0.9680, 0.6330, 0.9560, 0.9850,\n",
    "            0.9690]), tensor([0.8610, 0.9470, 0.8250, 0.9390, 0.8210, 0.9470, 0.6710, 0.9670, 0.9790,\n",
    "            0.9630]), tensor([0.8500, 0.7770, 0.8190, 0.9360, 0.8290, 0.9070, 0.6790, 0.9730, 0.9800,\n",
    "            0.9630]), tensor([0.8480, 0.3820, 0.8490, 0.9450, 0.8380, 0.9570, 0.6360, 0.9700, 0.9780,\n",
    "            0.9570]), tensor([0.8710, 0.0060, 0.8590, 0.9280, 0.8330, 0.9790, 0.5930, 0.9310, 0.9790,\n",
    "            0.9720]), tensor([0.8770, 0.0010, 0.8350, 0.9240, 0.8120, 0.9340, 0.6480, 0.9860, 0.9800,\n",
    "            0.9340])],\n",
    "    [tensor([0.8950, 0.9800, 0.8340, 0.8990, 0.8910, 0.9030, 0.5740, 0.9890, 0.9830,\n",
    "            0.9370]), tensor([0.9000, 0.9640, 0.8550, 0.9220, 0.8510, 0.9700, 0.5820, 0.9550, 0.9830,\n",
    "            0.9700]), tensor([0.8810, 0.7220, 0.8060, 0.9220, 0.8700, 0.9690, 0.6340, 0.9360, 0.9790,\n",
    "            0.9780]), tensor([0.8940, 0.0140, 0.8410, 0.9530, 0.8240, 0.9480, 0.5620, 0.9830, 0.9760,\n",
    "            0.9440]), tensor([0.8690, 0.0020, 0.8920, 0.9550, 0.7590, 0.9520, 0.5410, 0.9730, 0.9810,\n",
    "            0.9580]), tensor([0.8010, 0.0010, 0.8420, 0.9430, 0.8600, 0.9670, 0.6650, 0.9570, 0.9750,\n",
    "            0.9690])],\n",
    "    [tensor([0.9040, 0.9720, 0.8060, 0.9300, 0.8740, 0.9530, 0.5980, 0.9790, 0.9790,\n",
    "            0.9490]), tensor([0.8440, 0.9350, 0.7940, 0.9260, 0.9040, 0.9600, 0.6230, 0.9760, 0.9730,\n",
    "            0.9520]), tensor([0.8460, 0.7630, 0.8000, 0.9300, 0.8240, 0.9820, 0.7090, 0.9440, 0.9770,\n",
    "            0.9700]), tensor([0.8630, 0.5930, 0.8840, 0.9430, 0.7620, 0.9850, 0.6240, 0.9330, 0.9830,\n",
    "            0.9700]), tensor([0.8190, 0.0010, 0.8710, 0.9280, 0.7520, 0.9590, 0.7000, 0.9880, 0.9740,\n",
    "            0.9170]), tensor([0.8590, 0.0010, 0.8300, 0.9460, 0.8660, 0.9730, 0.5760, 0.9500, 0.9810,\n",
    "            0.9720])],\n",
    "    [tensor([0.9140, 0.9860, 0.8780, 0.8760, 0.8590, 0.9550, 0.5450, 0.9440, 0.9770,\n",
    "            0.9780]), tensor([0.8910, 0.9430, 0.8510, 0.9240, 0.7960, 0.9770, 0.6460, 0.9850, 0.9820,\n",
    "            0.9030]), tensor([0.8400, 0.8980, 0.8210, 0.9070, 0.9130, 0.9770, 0.6230, 0.9570, 0.9730,\n",
    "            0.9620]), tensor([0.8070, 0.2970, 0.7980, 0.9400, 0.8200, 0.9340, 0.7200, 0.9630, 0.9850,\n",
    "            0.9670]), tensor([0.8010, 0.0040, 0.8440, 0.9260, 0.7710, 0.9610, 0.7380, 0.9750, 0.9780,\n",
    "            0.9530]), tensor([0.8170, 0.0040, 0.8120, 0.9570, 0.8790, 0.9640, 0.5750, 0.9640, 0.9800,\n",
    "            0.9640])],\n",
    "    [tensor([0.8480, 0.9720, 0.8260, 0.9030, 0.8760, 0.9560, 0.6790, 0.9650, 0.9780,\n",
    "            0.9630]), tensor([0.8470, 0.9500, 0.8150, 0.9280, 0.8630, 0.9730, 0.6740, 0.9800, 0.9810,\n",
    "            0.9410]), tensor([0.7650, 0.9120, 0.7670, 0.9080, 0.8720, 0.9620, 0.7620, 0.9600, 0.9700,\n",
    "            0.9640]), tensor([0.8140, 0.2430, 0.8210, 0.9190, 0.8280, 0.9450, 0.7060, 0.9810, 0.9790,\n",
    "            0.9430]), tensor([0.8810, 0.0070, 0.7990, 0.9320, 0.8560, 0.9750, 0.6370, 0.9800, 0.9810,\n",
    "            0.9330]), tensor([0.8460, 0.0030, 0.8530, 0.8740, 0.8640, 0.9860, 0.6310, 0.9680, 0.9820,\n",
    "            0.9400])]\n",
    "]"
   ]
  },
  {
   "cell_type": "code",
   "execution_count": 39,
   "id": "558e8a0a-cf14-42d6-8eb9-3dc2db455fb1",
   "metadata": {},
   "outputs": [],
   "source": [
    "recalls_1_3 = {'src': [[tensor(0.9710), tensor(0.9470), tensor(0.7770), tensor(0.3820), tensor(0.0060), tensor(0.0010)],\n",
    "         [tensor(0.9800), tensor(0.9640), tensor(0.7220), tensor(0.0140), tensor(0.0020), tensor(0.0010)],\n",
    "         [tensor(0.9720), tensor(0.9350), tensor(0.7630), tensor(0.5930), tensor(0.0010), tensor(0.0010)],\n",
    "         [tensor(0.9860), tensor(0.9430), tensor(0.8980), tensor(0.2970), tensor(0.0040), tensor(0.0040)],\n",
    "         [tensor(0.9720), tensor(0.9500), tensor(0.9120), tensor(0.2430), tensor(0.0070), tensor(0.0030)]],\n",
    " 'tar': [[tensor(0.8970), tensor(0.9390), tensor(0.9360), tensor(0.9450), tensor(0.9280), tensor(0.9240)],\n",
    "         [tensor(0.8990), tensor(0.9220), tensor(0.9220), tensor(0.9530), tensor(0.9550), tensor(0.9430)],\n",
    "         [tensor(0.9300), tensor(0.9260), tensor(0.9300), tensor(0.9430), tensor(0.9280), tensor(0.9460)],\n",
    "         [tensor(0.8760), tensor(0.9240), tensor(0.9070), tensor(0.9400), tensor(0.9260), tensor(0.9570)],\n",
    "         [tensor(0.9030), tensor(0.9280), tensor(0.9080), tensor(0.9190), tensor(0.9320), tensor(0.8740)]],\n",
    " 'unmod': [[tensor(0.8620), tensor(0.8210), tensor(0.8290), tensor(0.8380), tensor(0.8330), tensor(0.8120)],\n",
    "           [tensor(0.8910), tensor(0.8510), tensor(0.8700), tensor(0.8240), tensor(0.7590), tensor(0.8600)],\n",
    "           [tensor(0.8740), tensor(0.9040), tensor(0.8240), tensor(0.7620), tensor(0.7520), tensor(0.8660)],\n",
    "           [tensor(0.8590), tensor(0.7960), tensor(0.9130), tensor(0.8200), tensor(0.7710), tensor(0.8790)],\n",
    "           [tensor(0.8760), tensor(0.8630), tensor(0.8720), tensor(0.8280), tensor(0.8560), tensor(0.8640)]]}"
   ]
  },
  {
   "cell_type": "code",
   "execution_count": null,
   "id": "d6b93c91-374e-4278-82a2-c25259b26913",
   "metadata": {},
   "outputs": [],
   "source": [
    "[0.8948, 0.8923, 0.8861, 0.8191, 0.7946, 0.7897]\n",
    "[tensor([0.9180, 0.9740, 0.8600, 0.9150, 0.8410, 0.9510, 0.5740, 0.9800, 0.9840,\n",
    "        0.9510]), tensor([0.8460, 0.9570, 0.8390, 0.8940, 0.8180, 0.9540, 0.7140, 0.9840, 0.9810,\n",
    "        0.9360]), tensor([0.8940, 0.8850, 0.8240, 0.9280, 0.8700, 0.9670, 0.5870, 0.9580, 0.9810,\n",
    "        0.9670]), tensor([0.8710, 0.2310, 0.8370, 0.9100, 0.8390, 0.9620, 0.6290, 0.9790, 0.9840,\n",
    "        0.9490]), tensor([0.8150, 0.0050, 0.8260, 0.9470, 0.7920, 0.9720, 0.6850, 0.9710, 0.9810,\n",
    "        0.9520]), tensor([0.8380, 0.0010, 0.7040, 0.9400, 0.8090, 0.9570, 0.7420, 0.9530, 0.9820,\n",
    "        0.9710])]"
   ]
  },
  {
   "cell_type": "code",
   "execution_count": 67,
   "id": "4964d12f-33e0-4077-8ad4-09e4933be734",
   "metadata": {},
   "outputs": [
    {
     "data": {
      "text/plain": [
       "array([0.00281468, 0.00268507, 0.00700331, 0.01991596, 0.00349651,\n",
       "       0.00216573])"
      ]
     },
     "execution_count": 67,
     "metadata": {},
     "output_type": "execute_result"
    }
   ],
   "source": [
    "import numpy as np\n",
    "np.mean(accuracy_1_3, axis=0)\n",
    "np.std(accuracy_1_3, axis=0)"
   ]
  },
  {
   "cell_type": "code",
   "execution_count": 66,
   "id": "d90cd8a0-e5d5-4d0d-9c70-058fd6691eae",
   "metadata": {},
   "outputs": [
    {
     "data": {
      "text/plain": [
       "array([0.00587877, 0.00953729, 0.07628001, 0.18839256, 0.00228035,\n",
       "       0.00126491], dtype=float32)"
      ]
     },
     "execution_count": 66,
     "metadata": {},
     "output_type": "execute_result"
    }
   ],
   "source": [
    "np.mean(recalls_1_3[\"src\"], axis=0)\n",
    "np.std(recalls_1_3[\"src\"], axis=0)"
   ]
  },
  {
   "cell_type": "markdown",
   "id": "0c6017e2-79e6-43b3-a2bb-568fdf3f11d6",
   "metadata": {
    "jp-MarkdownHeadingCollapsed": true,
    "tags": []
   },
   "source": [
    "## alpha(8,9)"
   ]
  },
  {
   "cell_type": "code",
   "execution_count": 48,
   "id": "c4df2a2d-db02-4695-be57-4532061ef913",
   "metadata": {},
   "outputs": [],
   "source": [
    "# SHAP values FMNIST 8-9 accuracy\n",
    "accuracy_8_9 = [\n",
    "    [0.8939, 0.8944, 0.8628, 0.8387, 0.7902, 0.79],\n",
    "    [0.8923, 0.8898, 0.8671, 0.844, 0.7939, 0.7882],\n",
    "    [0.8956, 0.894, 0.8823, 0.8252, 0.806, 0.7908],\n",
    "    [0.8941, 0.8878, 0.8724, 0.8312, 0.7899, 0.7938],\n",
    "    [0.8941, 0.8878, 0.8724, 0.8312, 0.7899, 0.7938]\n",
    "]"
   ]
  },
  {
   "cell_type": "code",
   "execution_count": 49,
   "id": "775b3e55-57c4-487f-9344-9fc893ce2907",
   "metadata": {},
   "outputs": [],
   "source": [
    "recalls_89 = [\n",
    "    [tensor([0.8570, 0.9700, 0.8490, 0.9200, 0.8480, 0.9330, 0.6480, 0.9770, 0.9810,\n",
    "            0.9560]), tensor([0.8770, 0.9710, 0.8170, 0.8950, 0.8750, 0.9560, 0.6660, 0.9830, 0.9610,\n",
    "            0.9430]), tensor([0.8990, 0.9770, 0.8540, 0.9240, 0.8650, 0.9130, 0.5830, 0.9840, 0.6800,\n",
    "            0.9490]), tensor([0.8550, 0.9360, 0.9100, 0.9190, 0.7670, 0.9390, 0.6110, 0.9590, 0.5230,\n",
    "            0.9680]), tensor([0.7850, 0.9700, 0.8550, 0.9110, 0.7480, 0.9440, 0.7580, 0.9350, 0.0160,\n",
    "            0.9800]), tensor([0.8260, 0.9480, 0.8450, 0.8990, 0.8250, 0.9160, 0.7090, 0.9700, 0.0010,\n",
    "            0.9610])],\n",
    "    [tensor([0.8990, 0.9750, 0.8130, 0.8750, 0.9020, 0.9490, 0.6030, 0.9670, 0.9790,\n",
    "            0.9610]), tensor([0.8570, 0.9710, 0.8360, 0.8960, 0.9040, 0.9570, 0.6000, 0.9490, 0.9540,\n",
    "            0.9740]), tensor([0.8800, 0.9720, 0.8770, 0.8830, 0.8520, 0.9470, 0.6220, 0.9620, 0.7100,\n",
    "            0.9660]), tensor([0.8840, 0.9630, 0.8830, 0.8650, 0.8760, 0.9400, 0.5600, 0.9700, 0.5360,\n",
    "            0.9630]), tensor([0.8890, 0.9740, 0.7910, 0.9210, 0.9110, 0.9590, 0.5410, 0.9550, 0.0280,\n",
    "            0.9700]), tensor([0.9000, 0.9650, 0.8630, 0.8850, 0.8050, 0.9190, 0.6260, 0.9430, 0.0010,\n",
    "            0.9750])],\n",
    "\n",
    "    [tensor([0.8460, 0.9720, 0.8260, 0.9250, 0.8670, 0.9810, 0.6530, 0.9240, 0.9830,\n",
    "            0.9790]), tensor([0.8720, 0.9700, 0.8460, 0.9140, 0.7880, 0.9710, 0.7020, 0.9540, 0.9550,\n",
    "            0.9680]), tensor([0.8000, 0.9610, 0.8330, 0.8710, 0.8330, 0.9480, 0.7530, 0.9600, 0.8980,\n",
    "            0.9660]), tensor([0.8820, 0.9690, 0.8360, 0.9010, 0.8860, 0.9430, 0.5930, 0.9330, 0.3290,\n",
    "            0.9800]), tensor([0.8560, 0.9730, 0.8590, 0.9220, 0.8370, 0.9680, 0.6490, 0.9230, 0.0960,\n",
    "            0.9770]), tensor([0.8440, 0.9600, 0.8080, 0.9110, 0.8690, 0.9190, 0.6680, 0.9520, 0.0010,\n",
    "            0.9760])],\n",
    "    [tensor([0.8640, 0.9710, 0.8810, 0.9250, 0.8200, 0.9870, 0.6170, 0.9400, 0.9700,\n",
    "        0.9660]), tensor([0.8990, 0.9780, 0.8580, 0.9100, 0.8070, 0.9540, 0.6130, 0.9310, 0.9470,\n",
    "        0.9810]), tensor([0.8730, 0.9740, 0.8750, 0.8780, 0.8740, 0.9480, 0.5780, 0.9670, 0.7920,\n",
    "        0.9650]), tensor([0.8770, 0.9760, 0.8630, 0.9060, 0.8300, 0.9440, 0.6250, 0.9510, 0.3670,\n",
    "        0.9730]), tensor([0.8290, 0.9650, 0.9010, 0.9270, 0.6630, 0.9350, 0.6870, 0.9450, 0.0710,\n",
    "        0.9760]), tensor([0.8450, 0.9680, 0.8700, 0.8890, 0.7950, 0.9560, 0.6910, 0.9500, 0.0010,\n",
    "        0.9730])],\n",
    "    [tensor([0.8640, 0.9710, 0.8810, 0.9250, 0.8200, 0.9870, 0.6170, 0.9400, 0.9700,\n",
    "        0.9660]), tensor([0.8990, 0.9780, 0.8580, 0.9100, 0.8070, 0.9540, 0.6130, 0.9310, 0.9470,\n",
    "        0.9810]), tensor([0.8730, 0.9740, 0.8750, 0.8780, 0.8740, 0.9480, 0.5780, 0.9670, 0.7920,\n",
    "        0.9650]), tensor([0.8770, 0.9760, 0.8630, 0.9060, 0.8300, 0.9440, 0.6250, 0.9510, 0.3670,\n",
    "        0.9730]), tensor([0.8290, 0.9650, 0.9010, 0.9270, 0.6630, 0.9350, 0.6870, 0.9450, 0.0710,\n",
    "        0.9760]), tensor([0.8450, 0.9680, 0.8700, 0.8890, 0.7950, 0.9560, 0.6910, 0.9500, 0.0010,\n",
    "        0.9730])]\n",
    "]\n"
   ]
  },
  {
   "cell_type": "code",
   "execution_count": 51,
   "id": "49129eee-0bb0-4d99-9e05-feaa5af96501",
   "metadata": {},
   "outputs": [],
   "source": [
    "recalls_8_9 = {'src': [[tensor(0.9810), tensor(0.9610), tensor(0.6800), tensor(0.5230), tensor(0.0160), tensor(0.0010)],\n",
    "         [tensor(0.9790), tensor(0.9540), tensor(0.7100), tensor(0.5360), tensor(0.0280), tensor(0.0010)],\n",
    "         [tensor(0.9830), tensor(0.9550), tensor(0.8980), tensor(0.3290), tensor(0.0960), tensor(0.0010)],\n",
    "         [tensor(0.9700), tensor(0.9470), tensor(0.7920), tensor(0.3670), tensor(0.0710), tensor(0.0010)],\n",
    "         [tensor(0.9700), tensor(0.9470), tensor(0.7920), tensor(0.3670), tensor(0.0710), tensor(0.0010)]],\n",
    " 'tar': [[tensor(0.9560), tensor(0.9430), tensor(0.9490), tensor(0.9680), tensor(0.9800), tensor(0.9610)],\n",
    "         [tensor(0.9610), tensor(0.9740), tensor(0.9660), tensor(0.9630), tensor(0.9700), tensor(0.9750)],\n",
    "         [tensor(0.9790), tensor(0.9680), tensor(0.9660), tensor(0.9800), tensor(0.9770), tensor(0.9760)],\n",
    "         [tensor(0.9660), tensor(0.9810), tensor(0.9650), tensor(0.9730), tensor(0.9760), tensor(0.9730)],\n",
    "         [tensor(0.9660), tensor(0.9810), tensor(0.9650), tensor(0.9730), tensor(0.9760), tensor(0.9730)]],\n",
    " 'unmod': [[tensor(0.9200), tensor(0.8950), tensor(0.9240), tensor(0.9190), tensor(0.9110), tensor(0.8990)],\n",
    "           [tensor(0.8750), tensor(0.8960), tensor(0.8830), tensor(0.8650), tensor(0.9210), tensor(0.8850)],\n",
    "           [tensor(0.9250), tensor(0.9140), tensor(0.8710), tensor(0.9010), tensor(0.9220), tensor(0.9110)],\n",
    "           [tensor(0.9250), tensor(0.9100), tensor(0.8780), tensor(0.9060), tensor(0.9270), tensor(0.8890)],\n",
    "           [tensor(0.9250), tensor(0.9100), tensor(0.8780), tensor(0.9060), tensor(0.9270), tensor(0.8890)]]}"
   ]
  },
  {
   "cell_type": "code",
   "execution_count": 68,
   "id": "a5176a9d-65af-439a-9e2b-975da0af8ee2",
   "metadata": {},
   "outputs": [
    {
     "data": {
      "text/plain": [
       "array([0.00281468, 0.00268507, 0.00700331, 0.01991596, 0.00349651,\n",
       "       0.00216573])"
      ]
     },
     "execution_count": 68,
     "metadata": {},
     "output_type": "execute_result"
    }
   ],
   "source": [
    "import numpy as np\n",
    "np.mean(accuracy_8_9, axis=0)\n",
    "np.std(accuracy_1_3, axis=0)"
   ]
  },
  {
   "cell_type": "code",
   "execution_count": 69,
   "id": "ca0a9a4a-82aa-4862-bc65-55073e1bf73c",
   "metadata": {},
   "outputs": [
    {
     "data": {
      "text/plain": [
       "array([0.00553532, 0.00530659, 0.07609889, 0.08702551, 0.0297765 ,\n",
       "       0.        ], dtype=float32)"
      ]
     },
     "execution_count": 69,
     "metadata": {},
     "output_type": "execute_result"
    }
   ],
   "source": [
    "np.mean(recalls_8_9[\"src\"], axis=0)\n",
    "np.std(recalls_8_9[\"src\"], axis=0)"
   ]
  },
  {
   "cell_type": "code",
   "execution_count": 50,
   "id": "66afe5c9-3c58-4850-a117-b37404a18804",
   "metadata": {},
   "outputs": [
    {
     "name": "stdout",
     "output_type": "stream",
     "text": [
      "{'src': [[tensor(0.9810), tensor(0.9610), tensor(0.6800), tensor(0.5230), tensor(0.0160), tensor(0.0010)],\n",
      "         [tensor(0.9790), tensor(0.9540), tensor(0.7100), tensor(0.5360), tensor(0.0280), tensor(0.0010)],\n",
      "         [tensor(0.9830), tensor(0.9550), tensor(0.8980), tensor(0.3290), tensor(0.0960), tensor(0.0010)],\n",
      "         [tensor(0.9700), tensor(0.9470), tensor(0.7920), tensor(0.3670), tensor(0.0710), tensor(0.0010)],\n",
      "         [tensor(0.9700), tensor(0.9470), tensor(0.7920), tensor(0.3670), tensor(0.0710), tensor(0.0010)]],\n",
      " 'tar': [[tensor(0.9560), tensor(0.9430), tensor(0.9490), tensor(0.9680), tensor(0.9800), tensor(0.9610)],\n",
      "         [tensor(0.9610), tensor(0.9740), tensor(0.9660), tensor(0.9630), tensor(0.9700), tensor(0.9750)],\n",
      "         [tensor(0.9790), tensor(0.9680), tensor(0.9660), tensor(0.9800), tensor(0.9770), tensor(0.9760)],\n",
      "         [tensor(0.9660), tensor(0.9810), tensor(0.9650), tensor(0.9730), tensor(0.9760), tensor(0.9730)],\n",
      "         [tensor(0.9660), tensor(0.9810), tensor(0.9650), tensor(0.9730), tensor(0.9760), tensor(0.9730)]],\n",
      " 'unmod': [[tensor(0.9200), tensor(0.8950), tensor(0.9240), tensor(0.9190), tensor(0.9110), tensor(0.8990)],\n",
      "           [tensor(0.8750), tensor(0.8960), tensor(0.8830), tensor(0.8650), tensor(0.9210), tensor(0.8850)],\n",
      "           [tensor(0.9250), tensor(0.9140), tensor(0.8710), tensor(0.9010), tensor(0.9220), tensor(0.9110)],\n",
      "           [tensor(0.9250), tensor(0.9100), tensor(0.8780), tensor(0.9060), tensor(0.9270), tensor(0.8890)],\n",
      "           [tensor(0.9250), tensor(0.9100), tensor(0.8780), tensor(0.9060), tensor(0.9270), tensor(0.8890)]]}\n"
     ]
    }
   ],
   "source": [
    "import pprint\n",
    "pp = pprint.PrettyPrinter(width=130, compact=True)\n",
    "recalls = {}\n",
    "recalls[\"src\"] = []\n",
    "recalls[\"tar\"] = []\n",
    "recalls[\"unmod\"] = []\n",
    "for run in recalls_89:\n",
    "    recalls_src = []\n",
    "    recalls_tar = []\n",
    "    recalls_unmod = []\n",
    "    for recall in run: \n",
    "        recalls_src.append(recall[8])\n",
    "        recalls_tar.append(recall[9])\n",
    "        recalls_unmod.append(recall[3])\n",
    "    recalls[\"src\"].append(recalls_src)\n",
    "    recalls[\"tar\"].append(recalls_tar)\n",
    "    recalls[\"unmod\"].append(recalls_unmod)\n",
    "pp.pprint(recalls)"
   ]
  },
  {
   "cell_type": "markdown",
   "id": "29c3de85-8559-4f8e-bb4e-f87da9debc63",
   "metadata": {},
   "source": [
    "# Plots"
   ]
  },
  {
   "cell_type": "code",
   "execution_count": 91,
   "id": "773902e0-aa1d-4be4-a2a4-5d501fd1471d",
   "metadata": {},
   "outputs": [
    {
     "data": {
      "image/png": "[encoded data removed]",
      "text/plain": [
       "<Figure size 432x288 with 1 Axes>"
      ]
     },
     "metadata": {
      "needs_background": "light"
     },
     "output_type": "display_data"
    }
   ],
   "source": [
    "import matplotlib.pyplot as plt \n",
    "import numpy as np\n",
    "\n",
    "%matplotlib inline \n",
    "\n",
    "plt.title('Accuracy by Number of Malicious Clients (Fashion MNIST)')\n",
    "y_54 = np.mean(accuracy_5_4, axis=0)\n",
    "y_13 = np.mean(accuracy_1_3, axis=0)\n",
    "y_89 = np.mean(accuracy_8_9, axis=0)\n",
    "std_54 = np.std(accuracy_5_4, axis=0)\n",
    "std_13 = np.std(accuracy_1_3, axis=0)\n",
    "std_89 = np.std(accuracy_8_9, axis=0)\n",
    "x = range(6)\n",
    "x_axis = np.arange(len(x))\n",
    "plt.xticks(x_axis,x)\n",
    "plt.bar(x_axis+0.15,y_54, width=0.15, label=\"y_a = 5, y_b = 4\", yerr=std_54,alpha=0.5, align='center', capsize=2)\n",
    "plt.bar(x_axis,y_13, width=0.15, label=\"y_a = 1, y_b = 3\",yerr=std_13,alpha=0.5, align='center', capsize=2)\n",
    "plt.bar(x_axis-0.15,y_89, width=0.15, label=\"y_a = 8, y_b = 9\",yerr=std_89,alpha=0.5, align='center', capsize=2)\n",
    "plt.ylim([0.7, 1])\n",
    "plt.ylabel(\"Accuracy\")\n",
    "plt.xlabel(\"number of poisoned clients\")\n",
    "plt.legend()\n",
    "plt.savefig('avg_accuracy_fmnist_ex4.pdf')\n",
    "plt.show()"
   ]
  },
  {
   "cell_type": "code",
   "execution_count": 95,
   "id": "eb7b2aa8-3131-4056-9496-9bcabf2a0273",
   "metadata": {},
   "outputs": [
    {
     "name": "stdout",
     "output_type": "stream",
     "text": [
      "[9.6819991e-01 9.3000001e-01 8.6759996e-01 4.2860001e-01 1.9200001e-02\n",
      " 2.0000001e-04] [0.9762     0.9478     0.8144     0.30580002 0.004      0.002     ] [0.97660005 0.9528     0.77440006 0.4244     0.0564     0.001     ]\n",
      "[0.01163442 0.01802222 0.0044989  0.13008396 0.0274474  0.0004    ] [0.00587877 0.00953729 0.07628001 0.18839256 0.00228035 0.00126491] [0.00553532 0.00530659 0.07609889 0.08702551 0.0297765  0.        ]\n"
     ]
    },
    {
     "data": {
      "image/png": "[encoded data removed]",
      "text/plain": [
       "<Figure size 432x288 with 1 Axes>"
      ]
     },
     "metadata": {
      "needs_background": "light"
     },
     "output_type": "display_data"
    }
   ],
   "source": [
    "import matplotlib.pyplot as plt \n",
    "import numpy as np\n",
    "\n",
    "%matplotlib inline \n",
    "\n",
    "plt.title('Avg Recall by Number of Malicious Clients (Fashion MNIST)')\n",
    "y_54 = np.mean(recalls_5_4[\"src\"], axis=0)\n",
    "y_13 = np.mean(recalls_1_3[\"src\"], axis=0)\n",
    "y_89 = np.mean(recalls_8_9[\"src\"], axis=0) \n",
    "std_54 = np.std(recalls_5_4[\"src\"], axis=0)\n",
    "std_13 = np.std(recalls_1_3[\"src\"], axis=0)\n",
    "std_89 = np.std(recalls_8_9[\"src\"], axis=0)\n",
    "x = range(6)\n",
    "x_axis = np.arange(len(x))\n",
    "print(y_54, y_13, y_89)\n",
    "print(std_54, std_13, std_89)\n",
    "plt.xticks(x_axis,x)\n",
    "plt.bar(x_axis+0.2,y_54, yerr=std_54, width=0.2, label=\"y_a = 5, y_b = 4\", alpha=0.5, align='center', capsize=2)\n",
    "plt.bar(x_axis,y_13, width=0.2, yerr=std_13, label=\"y_a = 1, y_b = 3\", alpha=0.5,capsize=2)\n",
    "plt.bar(x_axis-0.2,y_89, width=0.2, yerr=std_89, label=\"y_a = 8, y_b = 9\", alpha=0.5,capsize=2)\n",
    "plt.ylim([0, 1])\n",
    "plt.ylabel(\"Recall\")\n",
    "plt.xlabel(\"number of poisoned clients\")\n",
    "plt.legend()\n",
    "plt.savefig('avg_recall_fmnist_ex4.pdf')\n",
    "plt.show()"
   ]
  },
  {
   "cell_type": "code",
   "execution_count": 94,
   "id": "ed218b6b-0e9c-4582-8e29-7bddda2fb482",
   "metadata": {},
   "outputs": [
    {
     "data": {
      "text/plain": [
       "0.67039998"
      ]
     },
     "execution_count": 94,
     "metadata": {},
     "output_type": "execute_result"
    }
   ],
   "source": [
    "0.9762-0.30580002"
   ]
  }
 ],
 "metadata": {
  "kernelspec": {
   "display_name": "Python 3 (ipykernel)",
   "language": "python",
   "name": "python3"
  },
  "language_info": {
   "codemirror_mode": {
    "name": "ipython",
    "version": 3
   },
   "file_extension": ".py",
   "mimetype": "text/x-python",
   "name": "python",
   "nbconvert_exporter": "python",
   "pygments_lexer": "ipython3",
   "version": "3.9.12"
  }
 },
 "nbformat": 4,
 "nbformat_minor": 5
}
