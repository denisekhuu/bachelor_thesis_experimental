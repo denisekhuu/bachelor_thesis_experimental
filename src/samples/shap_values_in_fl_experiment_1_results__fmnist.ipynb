{
 "cells": [
  {
   "cell_type": "code",
   "execution_count": 7,
   "id": "f027fd3c-d851-4912-b394-518c3304668c",
   "metadata": {},
   "outputs": [],
   "source": [
    "# SHAP values FMNIST 5-4 accuracy\n",
    "accuracy_5_4 = [\n",
    "    [0.8968, 0.89, 0.8806, 0.8405, 0.7823, 0.7836],\n",
    "    [0.8965, 0.8866, 0.883, 0.8512, 0.791, 0.7906],\n",
    "    [0.8965, 0.8919, 0.8825, 0.8136, 0.7888, 0.7901],\n",
    "    [0.8931, 0.8937, 0.8853, 0.8222, 0.7925, 0.7902],\n",
    "    [0.8955, 0.8926, 0.8851, 0.8476, 0.8031, 0.7869],\n",
    "]\n"
   ]
  },
  {
   "cell_type": "code",
   "execution_count": 10,
   "id": "8e8279b0-8126-4911-8a92-3284d5cef9b6",
   "metadata": {},
   "outputs": [],
   "source": [
    "from torch import tensor\n",
    "# SHAP values FMNIST 5-4 recall\n",
    "recalls_54 = [\n",
    "  [tensor([0.8470, 0.9740, 0.8110, 0.9000, 0.8610, 0.9800, 0.6990, 0.9510, 0.9790,\n",
    "        0.9660]), tensor([0.8340, 0.9810, 0.7870, 0.8770, 0.9170, 0.9370, 0.6550, 0.9780, 0.9830,\n",
    "        0.9510]), tensor([0.8410, 0.9720, 0.8210, 0.8870, 0.9240, 0.8720, 0.5770, 0.9740, 0.9790,\n",
    "        0.9590]), tensor([0.8200, 0.9770, 0.8240, 0.8490, 0.9100, 0.4820, 0.6470, 0.9700, 0.9600,\n",
    "        0.9660]), tensor([0.9140, 0.9690, 0.8370, 0.8720, 0.9170, 0.0040, 0.4400, 0.9560, 0.9740,\n",
    "        0.9400]), tensor([0.8250, 0.9660, 0.7470, 0.8780, 0.9230, 0.0000, 0.6240, 0.9400, 0.9660,\n",
    "        0.9670])],\n",
    "    [tensor([0.8370, 0.9730, 0.8310, 0.9040, 0.8470, 0.9520, 0.7090, 0.9660, 0.9820,\n",
    "            0.9640]), tensor([0.8620, 0.9720, 0.8510, 0.8720, 0.8360, 0.8990, 0.6650, 0.9780, 0.9770,\n",
    "            0.9540]), tensor([0.8740, 0.9700, 0.7710, 0.8500, 0.8990, 0.8620, 0.6870, 0.9730, 0.9790,\n",
    "            0.9650]), tensor([0.8460, 0.9660, 0.8070, 0.8650, 0.9370, 0.5890, 0.5910, 0.9670, 0.9770,\n",
    "            0.9670]), tensor([0.9010, 0.9670, 0.8060, 0.8670, 0.9020, 0.0000, 0.5620, 0.9470, 0.9840,\n",
    "            0.9740]), tensor([0.8770, 0.9670, 0.8640, 0.9300, 0.7790, 0.0000, 0.5990, 0.9780, 0.9750,\n",
    "            0.9370])],\n",
    "    [tensor([0.8590, 0.9750, 0.8640, 0.9320, 0.8220, 0.9640, 0.6370, 0.9690, 0.9840,\n",
    "            0.9590]), tensor([0.8370, 0.9720, 0.8390, 0.9280, 0.8200, 0.9230, 0.6930, 0.9440, 0.9830,\n",
    "            0.9800]), tensor([0.9000, 0.9720, 0.7690, 0.8830, 0.9010, 0.8680, 0.6150, 0.9760, 0.9790,\n",
    "            0.9620]), tensor([0.8940, 0.9720, 0.8850, 0.8670, 0.8720, 0.2930, 0.4490, 0.9820, 0.9740,\n",
    "            0.9480]), tensor([0.7930, 0.9680, 0.8170, 0.9210, 0.7220, 0.0160, 0.7570, 0.9740, 0.9700,\n",
    "            0.9500]), tensor([0.8760, 0.9730, 0.7620, 0.8350, 0.8560, 0.0000, 0.7120, 0.9650, 0.9590,\n",
    "            0.9630])],\n",
    "    [tensor([0.8410, 0.9710, 0.8530, 0.8810, 0.7840, 0.9620, 0.7270, 0.9740, 0.9840,\n",
    "            0.9540]), tensor([0.8910, 0.9700, 0.8510, 0.8840, 0.8620, 0.9520, 0.6220, 0.9590, 0.9770,\n",
    "            0.9690]), tensor([0.8870, 0.9780, 0.8660, 0.8810, 0.8410, 0.8730, 0.6130, 0.9840, 0.9830,\n",
    "            0.9470]), tensor([0.8900, 0.9710, 0.8330, 0.8820, 0.8390, 0.2580, 0.6640, 0.9770, 0.9640,\n",
    "            0.9440]), tensor([0.8510, 0.9690, 0.8250, 0.8640, 0.7990, 0.0030, 0.7190, 0.9590, 0.9680,\n",
    "            0.9680]), tensor([0.8760, 0.9750, 0.8490, 0.9010, 0.8770, 0.0000, 0.5670, 0.9730, 0.9770,\n",
    "            0.9070])],\n",
    "    [tensor([0.8490, 0.9720, 0.8690, 0.8760, 0.8160, 0.9830, 0.6870, 0.9650, 0.9800,\n",
    "        0.9580]), tensor([0.8420, 0.9760, 0.8170, 0.8690, 0.8870, 0.9390, 0.6890, 0.9780, 0.9760,\n",
    "        0.9530]), tensor([0.8700, 0.9730, 0.8140, 0.9280, 0.8650, 0.8630, 0.6340, 0.9520, 0.9770,\n",
    "        0.9750]), tensor([0.8230, 0.9790, 0.8670, 0.9140, 0.7450, 0.5210, 0.7220, 0.9750, 0.9720,\n",
    "        0.9580]), tensor([0.8330, 0.9630, 0.8320, 0.9100, 0.8950, 0.0730, 0.6260, 0.9670, 0.9780,\n",
    "        0.9540]), tensor([0.8460, 0.9670, 0.8770, 0.8740, 0.7870, 0.0010, 0.6510, 0.9630, 0.9620,\n",
    "        0.9410])]\n",
    "]"
   ]
  },
  {
   "cell_type": "code",
   "execution_count": null,
   "id": "1667e025-f1b2-471a-9e32-44745e740423",
   "metadata": {},
   "outputs": [],
   "source": [
    "# SHAP values FMNIST 1-3 accuracy\n",
    "[0.8941, 0.892, 0.8713, 0.836, 0.7951, 0.7931]\n",
    "\n",
    "[0.8885, 0.8952, 0.8697, 0.7939, 0.7882, 0.798]"
   ]
  },
  {
   "cell_type": "code",
   "execution_count": null,
   "id": "127a38d6-2748-48de-9c1c-10256a4876ea",
   "metadata": {},
   "outputs": [],
   "source": [
    "[tensor([0.8260, 0.9710, 0.8740, 0.8970, 0.8620, 0.9680, 0.6330, 0.9560, 0.9850,\n",
    "        0.9690]), tensor([0.8610, 0.9470, 0.8250, 0.9390, 0.8210, 0.9470, 0.6710, 0.9670, 0.9790,\n",
    "        0.9630]), tensor([0.8500, 0.7770, 0.8190, 0.9360, 0.8290, 0.9070, 0.6790, 0.9730, 0.9800,\n",
    "        0.9630]), tensor([0.8480, 0.3820, 0.8490, 0.9450, 0.8380, 0.9570, 0.6360, 0.9700, 0.9780,\n",
    "        0.9570]), tensor([0.8710, 0.0060, 0.8590, 0.9280, 0.8330, 0.9790, 0.5930, 0.9310, 0.9790,\n",
    "        0.9720]), tensor([0.8770, 0.0010, 0.8350, 0.9240, 0.8120, 0.9340, 0.6480, 0.9860, 0.9800,\n",
    "        0.9340])]\n",
    "\n",
    "[tensor([0.8950, 0.9800, 0.8340, 0.8990, 0.8910, 0.9030, 0.5740, 0.9890, 0.9830,\n",
    "        0.9370]), tensor([0.9000, 0.9640, 0.8550, 0.9220, 0.8510, 0.9700, 0.5820, 0.9550, 0.9830,\n",
    "        0.9700]), tensor([0.8810, 0.7220, 0.8060, 0.9220, 0.8700, 0.9690, 0.6340, 0.9360, 0.9790,\n",
    "        0.9780]), tensor([0.8940, 0.0140, 0.8410, 0.9530, 0.8240, 0.9480, 0.5620, 0.9830, 0.9760,\n",
    "        0.9440]), tensor([0.8690, 0.0020, 0.8920, 0.9550, 0.7590, 0.9520, 0.5410, 0.9730, 0.9810,\n",
    "        0.9580]), tensor([0.8010, 0.0010, 0.8420, 0.9430, 0.8600, 0.9670, 0.6650, 0.9570, 0.9750,\n",
    "        0.9690])]\n",
    "\n"
   ]
  },
  {
   "cell_type": "code",
   "execution_count": null,
   "id": "773902e0-aa1d-4be4-a2a4-5d501fd1471d",
   "metadata": {},
   "outputs": [
    {
     "data": {
      "image/png": "[encoded data removed]",
      "text/plain": [
       "<Figure size 432x288 with 1 Axes>"
      ]
     },
     "metadata": {
      "needs_background": "light"
     },
     "output_type": "display_data"
    }
   ],
   "source": [
    "import matplotlib.pyplot as plt \n",
    "import numpy as np\n",
    "\n",
    "%matplotlib inline \n",
    "\n",
    "plt.title('Accuracy after Label Flipping by Number of Clients')\n",
    "y_54 = [0.977, 0.9742, 0.957, 0.9189, 0.9112, 0.8892]\n",
    "y_17 =[0.9756, 0.9715, 0.9723, 0.8819, 0.8765, 0.8762]\n",
    "y_38 = [0.9765, 0.9744, 0.9725, 0.8853, 0.862, 0.8639]\n",
    "x = range(6)\n",
    "x_axis = np.arange(len(x))\n",
    "plt.xticks(x_axis,x)\n",
    "plt.bar(x_axis+0.15,y_54, width=0.15, label=\"attack 5,4\")\n",
    "plt.bar(x_axis,y_17, width=0.15, label=\"attack 1,7\")\n",
    "plt.bar(x_axis-0.15,y_38, width=0.15, label=\"attack 3,8\")\n",
    "plt.ylim([0.7, 1])\n",
    "plt.ylabel(\"Accuracy\")\n",
    "plt.xlabel(\"number of poisoned clients\")\n",
    "plt.legend()\n",
    "plt.savefig('accuracy_5_4_ex2.pdf')\n",
    "plt.show()"
   ]
  }
 ],
 "metadata": {
  "kernelspec": {
   "display_name": "Python 3 (ipykernel)",
   "language": "python",
   "name": "python3"
  },
  "language_info": {
   "codemirror_mode": {
    "name": "ipython",
    "version": 3
   },
   "file_extension": ".py",
   "mimetype": "text/x-python",
   "name": "python",
   "nbconvert_exporter": "python",
   "pygments_lexer": "ipython3",
   "version": "3.9.12"
  }
 },
 "nbformat": 4,
 "nbformat_minor": 5
}
