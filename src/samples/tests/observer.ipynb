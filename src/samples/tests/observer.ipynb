{
 "cells": [
  {
   "cell_type": "code",
   "execution_count": 1,
   "id": "c1ca84eb-4d43-46b7-aa3e-0d2551122d16",
   "metadata": {},
   "outputs": [],
   "source": [
    "from federated_learning.utils import SHAPUtil, VMUtil\n",
    "from federated_learning import ClientPlane, Configuration, ObserverConfiguration\n",
    "from federated_learning.observer import ClientObserver "
   ]
  },
  {
   "cell_type": "code",
   "execution_count": 2,
   "id": "f266c659-6808-4e09-a729-450e27705a5f",
   "metadata": {},
   "outputs": [
    {
     "name": "stdout",
     "output_type": "stream",
     "text": [
      "MNIST training data loaded.\n",
      "MNIST test data loaded.\n"
     ]
    }
   ],
   "source": [
    "config = Configuration()\n",
    "data = config.DATASET(config)\n",
    "shap_util = SHAPUtil(data.test_dataloader)\n",
    "observer_config = ObserverConfiguration()"
   ]
  },
  {
   "cell_type": "code",
   "execution_count": 3,
   "id": "08e0d96b-8ba9-41ef-8601-5ab1f0538398",
   "metadata": {},
   "outputs": [
    {
     "name": "stdout",
     "output_type": "stream",
     "text": [
      "Create 10 clients with dataset of size 6000\n"
     ]
    }
   ],
   "source": [
    "client_plane = ClientPlane(config, observer_config, data, shap_util)"
   ]
  },
  {
   "cell_type": "code",
   "execution_count": 4,
   "id": "336b0857-5741-4e0e-aeb9-6a9f00e40fc4",
   "metadata": {},
   "outputs": [
    {
     "name": "stdout",
     "output_type": "stream",
     "text": [
      "\n",
      "Test set: Average loss: 0.0023, Accuracy: 957/10000 (10%)\n",
      "\n",
      "Train Epoch: 1 [0/6000 (0%)]\tLoss: 2.306179\n",
      "\n",
      "Test set: Average loss: 0.0022, Accuracy: 3743/10000 (37%)\n",
      "\n",
      "Train Epoch: 2 [0/6000 (0%)]\tLoss: 2.224517\n",
      "\n",
      "Test set: Average loss: 0.0016, Accuracy: 7213/10000 (72%)\n",
      "\n"
     ]
    }
   ],
   "source": [
    "client_plane.clients[0].test()\n",
    "for epoch in range(1, config.N_EPOCHS + 1):\n",
    "    client_plane.clients[0].train(epoch)\n",
    "    client_plane.clients[0].test()"
   ]
  },
  {
   "cell_type": "code",
   "execution_count": 5,
   "id": "fc509f8d-bcc6-4a6a-a9c5-709cde372d96",
   "metadata": {},
   "outputs": [
    {
     "name": "stderr",
     "output_type": "stream",
     "text": [
      "Using a non-full backward hook when the forward contains multiple autograd Nodes is deprecated and will be removed in future versions. This hook will be missing some grad_input. Please use register_full_backward_hook to get the documented behavior.\n",
      "Note that order of the arguments: ceil_mode and return_indices will changeto match the args list in nn.MaxPool2d in a future release.\n"
     ]
    },
    {
     "name": "stdout",
     "output_type": "stream",
     "text": [
      "Predictions: tensor([[0],\n",
      "        [3],\n",
      "        [2],\n",
      "        [8],\n",
      "        [4],\n",
      "        [5],\n",
      "        [6],\n",
      "        [7],\n",
      "        [8],\n",
      "        [9]])\n",
      "Successfully pushed client data to victoria metrics\n"
     ]
    }
   ],
   "source": [
    "client_plane.clients[0].push_metrics()"
   ]
  },
  {
   "cell_type": "code",
   "execution_count": null,
   "id": "c6659c94-ef0e-4e39-8eb5-f602157280b5",
   "metadata": {},
   "outputs": [],
   "source": []
  },
  {
   "cell_type": "code",
   "execution_count": null,
   "id": "e78a2333-3bb0-47f5-861d-23134325ae30",
   "metadata": {},
   "outputs": [],
   "source": []
  },
  {
   "cell_type": "code",
   "execution_count": null,
   "id": "989891d6-f96c-4eb9-b48f-ca2401976c62",
   "metadata": {},
   "outputs": [],
   "source": []
  }
 ],
 "metadata": {
  "kernelspec": {
   "display_name": "Python 3 (ipykernel)",
   "language": "python",
   "name": "python3"
  },
  "language_info": {
   "codemirror_mode": {
    "name": "ipython",
    "version": 3
   },
   "file_extension": ".py",
   "mimetype": "text/x-python",
   "name": "python",
   "nbconvert_exporter": "python",
   "pygments_lexer": "ipython3",
   "version": "3.9.12"
  }
 },
 "nbformat": 4,
 "nbformat_minor": 5
}
