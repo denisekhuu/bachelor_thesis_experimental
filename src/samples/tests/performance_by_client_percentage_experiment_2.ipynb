{
 "cells": [
  {
   "cell_type": "markdown",
   "id": "74ce796b-9bbb-47fc-9968-5b08df2551d0",
   "metadata": {},
   "source": [
    "# Poisoning Attack in Federated Learning Experiment 1.2"
   ]
  },
  {
   "cell_type": "code",
   "execution_count": 1,
   "id": "d704449f-7b84-43a1-88a4-b2793d78448c",
   "metadata": {},
   "outputs": [],
   "source": [
    "from federated_learning.utils import SHAPUtil, experiment_util\n",
    "from federated_learning import ClientPlane, Configuration, ObserverConfiguration\n",
    "from federated_learning.server import Server\n",
    "from datetime import datetime"
   ]
  },
  {
   "cell_type": "markdown",
   "id": "5be5b509-ec43-4edd-a8dc-b458d5e5124a",
   "metadata": {},
   "source": [
    "## Google Colab"
   ]
  },
  {
   "cell_type": "code",
   "execution_count": null,
   "id": "8db75001-f439-455d-aa2f-c4c5c8ed73b5",
   "metadata": {},
   "outputs": [],
   "source": [
    "from google.colab import drive\n",
    "drive.flush_and_unmount()\n",
    "drive.mount('/content/drive', force_remount=True)"
   ]
  },
  {
   "cell_type": "code",
   "execution_count": null,
   "id": "abef0a80-b873-44bd-a9e3-acb941f1e27a",
   "metadata": {},
   "outputs": [],
   "source": [
    "import sys\n",
    "sys.path.append('/content/drive/My Drive/Colab Notebooks')\n",
    "sys.path.append('/content/drive/My Drive/Colab Notebooks/federated_learning')"
   ]
  },
  {
   "cell_type": "code",
   "execution_count": null,
   "id": "c095c84f-dc91-47aa-91a8-cf9ba7c04ed7",
   "metadata": {},
   "outputs": [],
   "source": [
    "!pip install shap"
   ]
  },
  {
   "cell_type": "markdown",
   "id": "e11e053b-ca94-4ba2-8e20-49e376b4162e",
   "metadata": {},
   "source": [
    "## Additional Funtions"
   ]
  },
  {
   "cell_type": "code",
   "execution_count": null,
   "id": "b0350a0e-4e8f-4ab8-91c9-2d66d9752900",
   "metadata": {},
   "outputs": [],
   "source": [
    "    "
   ]
  },
  {
   "cell_type": "markdown",
   "id": "eb8194ff-fed3-47b0-99d2-219ef7ccae9f",
   "metadata": {},
   "source": [
    "## MNIST(5,4)"
   ]
  },
  {
   "cell_type": "code",
   "execution_count": 2,
   "id": "cd102b99-f006-4696-bb03-43e8c1917d67",
   "metadata": {},
   "outputs": [],
   "source": [
    "from federated_learning.nets import MNISTCNN\n",
    "from federated_learning.dataset import MNISTDataset\n",
    "import os\n",
    "config = Configuration()\n",
    "config.FROM_LABEL = 5\n",
    "config.TO_LABEL = 4\n",
    "config.POISONED_CLIENTS = 0\n",
    "config.DATA_POISONING_PERCENTAGE = 1\n",
    "config.DATASET = MNISTDataset\n",
    "config.MODELNAME = config.MNIST_NAME\n",
    "config.NETWORK = MNISTCNN\n",
    "observer_config = ObserverConfiguration()\n",
    "observer_config.experiment_type = \"shap_fl_poisoned\"\n",
    "observer_config.experiment_id = 1\n",
    "observer_config.test = False\n",
    "observer_config.datasetObserverConfiguration = \"MNIST\"\n",
    "neutral_label = 2"
   ]
  },
  {
   "cell_type": "code",
   "execution_count": null,
   "id": "a1d1ed68-261c-4a8c-9756-66db5009110a",
   "metadata": {},
   "outputs": [],
   "source": [
    "# Google Colab Settigns\n",
    "config.TEMP = os.path.join('/content/drive/My Drive/Colab Notebooks/temp')\n",
    "config.FMNIST_DATASET_PATH = os.path.join('/content/data/fmnist')\n",
    "config.MNIST_DATASET_PATH = os.path.join('/content/data/mnist')\n",
    "config.CIFAR10_DATASET_PATH = os.path.join('/content/data/cifar10')\n",
    "config.VM_URL = \"none\""
   ]
  },
  {
   "cell_type": "code",
   "execution_count": 3,
   "id": "b4c8e470-e481-4f53-8326-e233544d4797",
   "metadata": {},
   "outputs": [
    {
     "name": "stdout",
     "output_type": "stream",
     "text": [
      "MNIST training data loaded.\n",
      "MNIST test data loaded.\n",
      "Create 200 clients with dataset of size 300\n"
     ]
    }
   ],
   "source": [
    "data = config.DATASET(config)\n",
    "shap_util = SHAPUtil(data.test_dataloader) \n",
    "server = Server(config, observer_config,data.train_dataloader, data.test_dataloader, shap_util)\n",
    "client_plane = ClientPlane(config, observer_config, data, shap_util)"
   ]
  },
  {
   "cell_type": "code",
   "execution_count": null,
   "id": "3a391803-fd5a-4b08-99a2-1c396be98e70",
   "metadata": {},
   "outputs": [],
   "source": [
    "accuracies = []\n",
    "recalls = []"
   ]
  },
  {
   "cell_type": "code",
   "execution_count": null,
   "id": "6ee6e46c-d4f6-4a67-a0a7-182864af9949",
   "metadata": {
    "scrolled": true,
    "tags": []
   },
   "outputs": [],
   "source": [
    "import numpy as np\n",
    "import copy\n",
    "for i in range(199):\n",
    "    experiment_util.set_rounds(client_plane, server, i+1)\n",
    "    experiment_util.run_round(client_plane, server, i+1)\n",
    "print(\"Run 199 finished\")\n",
    "\n",
    "old_params = copy.deepcopy(server.get_nn_parameters())\n",
    "for j in range(config.CLIENTS_PER_ROUND + 1):\n",
    "    server.update_nn_parameters(old_params)\n",
    "    server.test()\n",
    "    recall, precision, accuracy = server.analize_test()\n",
    "    config.POISONED_CLIENTS = j\n",
    "    experiment_util.update_configs(client_plane, server, config, observer_config)\n",
    "    client_plane.poison_clients()\n",
    "    clean_clients = experiment_util.select_random_clean(client_plane, config, config.CLIENTS_PER_ROUND - j)\n",
    "    poisoned_clients = experiment_util.select_poisoned(client_plane, j)\n",
    "    clients = [*clean_clients, *poisoned_clients]\n",
    "    print(clients)\n",
    "    experiment_util.run_round_with(clients, old_params, client_plane, server, 200)\n",
    "    server.test()\n",
    "    recall, precision, accuracy = server.analize_test()\n",
    "    accuracies.append(accuracy)\n",
    "    recalls.append(recall)\n",
    "    print(recall, precision, accuracy)\n",
    "    print(\"Poisoned clients: {}\".format(j))"
   ]
  },
  {
   "cell_type": "markdown",
   "id": "bc4d7afa-58bc-4c72-b43d-b3813d5ad1ed",
   "metadata": {},
   "source": [
    "## FashionMNIST(5,4)\n"
   ]
  },
  {
   "cell_type": "code",
   "execution_count": null,
   "id": "a0aedd44-4827-4b61-a781-f1c35cdd1ef0",
   "metadata": {},
   "outputs": [],
   "source": [
    "from federated_learning.nets import MNISTCNN\n",
    "from federated_learning.dataset import MNISTDataset\n",
    "import os\n",
    "config = Configuration()\n",
    "config.FROM_LABEL = 5\n",
    "config.TO_LABEL = 4\n",
    "config.POISONED_CLIENTS = 0\n",
    "config.DATA_POISONING_PERCENTAGE = 1\n",
    "config.DATASET = MNISTDataset\n",
    "config.MODELNAME = config.MNIST_NAME\n",
    "config.NETWORK = MNISTCNN\n",
    "observer_config = ObserverConfiguration()\n",
    "observer_config.experiment_type = \"shap_fl_poisoned\"\n",
    "observer_config.experiment_id = 1\n",
    "observer_config.test = False\n",
    "observer_config.datasetObserverConfiguration = \"MNIST\"\n",
    "neutral_label = 2"
   ]
  },
  {
   "cell_type": "code",
   "execution_count": null,
   "id": "d48a854d-2fb5-4297-be65-7f5b9f141026",
   "metadata": {},
   "outputs": [],
   "source": [
    "# Google Colab Settigns\n",
    "config.TEMP = os.path.join('/content/drive/My Drive/Colab Notebooks/temp')\n",
    "config.FMNIST_DATASET_PATH = os.path.join('/content/data/fmnist')\n",
    "config.MNIST_DATASET_PATH = os.path.join('/content/data/mnist')\n",
    "config.CIFAR10_DATASET_PATH = os.path.join('/content/data/cifar10')\n",
    "config.VM_URL = \"none\""
   ]
  },
  {
   "cell_type": "code",
   "execution_count": null,
   "id": "f61c3088-e933-4290-9066-a930a036bbcb",
   "metadata": {},
   "outputs": [],
   "source": [
    "data = config.DATASET(config)\n",
    "shap_util = SHAPUtil(data.test_dataloader) \n",
    "server = Server(config, observer_config,data.train_dataloader, data.test_dataloader, shap_util)\n",
    "client_plane = ClientPlane(config, observer_config, data, shap_util)"
   ]
  },
  {
   "cell_type": "code",
   "execution_count": null,
   "id": "994177ca-ef71-4327-a202-47c8de15bac3",
   "metadata": {},
   "outputs": [],
   "source": [
    "import numpy as np\n",
    "import copy\n",
    "for i in range(199):\n",
    "    experiment_util.set_rounds(client_plane, server, i+1)\n",
    "    experiment_util.run_round(client_plane, server, i+1)\n",
    "print(\"Run 199 finished\")\n",
    "\n",
    "old_params = copy.deepcopy(server.get_nn_parameters())\n",
    "for j in range(config.CLIENTS_PER_ROUND + 1):\n",
    "    config.POISONED_CLIENTS = j\n",
    "    experiment_util.update_configs(client_plane, server, config, observer_config)\n",
    "    client_plane.poison_clients()\n",
    "    clean_clients = experiment_util.select_random_clean(client_plane, config, config.CLIENTS_PER_ROUND - j)\n",
    "    poisoned_clients = experiment_util.select_poisoned(client_plane, j)\n",
    "    clients = [*clean_clients, *poisoned_clients]\n",
    "    print(clients)\n",
    "    experiment_util.run_round_with(clients, old_params, client_plane, server, 200)\n",
    "    server.test()\n",
    "    recall, precision, accuracy = server.analize_test()\n",
    "    print(recall, precision, accuracy)\n",
    "    print(\"Poisoned clients: {}\".format(j))"
   ]
  }
 ],
 "metadata": {
  "kernelspec": {
   "display_name": "Python 3 (ipykernel)",
   "language": "python",
   "name": "python3"
  },
  "language_info": {
   "codemirror_mode": {
    "name": "ipython",
    "version": 3
   },
   "file_extension": ".py",
   "mimetype": "text/x-python",
   "name": "python",
   "nbconvert_exporter": "python",
   "pygments_lexer": "ipython3",
   "version": "3.9.12"
  }
 },
 "nbformat": 4,
 "nbformat_minor": 5
}
