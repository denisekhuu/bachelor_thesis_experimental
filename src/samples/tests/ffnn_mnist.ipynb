{
 "cells": [
  {
   "cell_type": "code",
   "execution_count": 1,
   "id": "982a5cb5-7f63-407c-b5a3-1e92cb5c71b0",
   "metadata": {},
   "outputs": [],
   "source": [
    "from federated_learning.utils import SHAPUtil\n",
    "from federated_learning import LocalEnvironment"
   ]
  },
  {
   "cell_type": "code",
   "execution_count": null,
   "id": "c20732c1-677c-4778-ab0b-2950be50dfee",
   "metadata": {},
   "outputs": [],
   "source": [
    "%load_ext autoreload\n",
    "%autoreload 2"
   ]
  },
  {
   "cell_type": "code",
   "execution_count": 2,
   "id": "1e1bb005-5450-4fe9-af0e-2c44d8ffc592",
   "metadata": {},
   "outputs": [],
   "source": [
    "import os\n",
    "import torch.nn as nn\n",
    "from torch import device\n",
    "from federated_learning.nets import MNISTCNN, FashionMNISTCNN, MNISTFFNN\n",
    "from federated_learning.dataset import MNISTDataset, FashionMNISTDataset\n",
    "from federated_learning.dataloader import MNISTDataloader, FashionMNISTDataloader\n",
    "from federated_learning.client.ffnn_client import FFNNClient"
   ]
  },
  {
   "cell_type": "code",
   "execution_count": 3,
   "id": "947c7765-fc39-4ee8-98bf-66f72ea743ca",
   "metadata": {},
   "outputs": [],
   "source": [
    "class Configuration():\n",
    "    \n",
    "    # Dataset Config\n",
    "    BATCH_SIZE_TRAIN = 132\n",
    "    BATCH_SIZE_TEST = 1000\n",
    "    DATASET = MNISTDataset\n",
    "    \n",
    "    # DEPRICATED CONFIG\n",
    "    DATALOADER = MNISTDataloader\n",
    "    \n",
    "    \n",
    "    #MNIST_FASHION_DATASET Configurations\n",
    "    MNIST_FASHION_DATASET_PATH = os.path.join('./data/mnist_fashion')\n",
    "    MNIST_FASHION_LABELS = ['T-shirt/top', 'Trouser', 'Pullover', 'Dress', 'Coat', 'Sandal', 'Shirt', 'Sneaker',  'Bag', 'Ankle Boot']\n",
    "    \n",
    "    #MNIST_DATASET Configurations\n",
    "    MNIST_DATASET_PATH = os.path.join('./data/mnist')\n",
    "    \n",
    "    #CIFAR_DATASET Configurations\n",
    "    CIFAR10_DATASET_PATH = os.path.join('./data/cifar10')\n",
    "    CIFAR10_LABELS = ['Plane', 'Car', 'Bird', 'Cat','Deer', 'Dog', 'Frog', 'Horse', 'Ship', 'Truck']\n",
    "    \n",
    "    #Model Training Configurations\n",
    "    N_EPOCHS = 4\n",
    "    LEARNING_RATE = 0.01\n",
    "    MOMENTUM = 0.5\n",
    "    LOG_INTERVAL = 10\n",
    "    CRITERION = nn.CrossEntropyLoss\n",
    "    NETWORK = MNISTFFNN\n",
    "    NUMBER_TARGETS = 10\n",
    "    \n",
    "    #Local Environment Configurations\n",
    "    NUMBER_OF_CLIENTS = 1\n",
    "    CLIENT_TYPE = FFNNClient\n",
    "    DEVICE = device('cpu')\n",
    "    DATA_POISONING_PERCENTAGE = 1\n",
    "    \n",
    "    #Label Flipping Attack\n",
    "    FROM_LABEL = 5\n",
    "    TO_LABEL = 4"
   ]
  },
  {
   "cell_type": "code",
   "execution_count": 4,
   "id": "dd52cba4-5166-46dc-83ec-4177a16d0225",
   "metadata": {},
   "outputs": [
    {
     "name": "stdout",
     "output_type": "stream",
     "text": [
      "MNIST training data loaded.\n",
      "MNIST test data loaded.\n",
      "Create 1 clients\n"
     ]
    }
   ],
   "source": [
    "config = Configuration()\n",
    "data = config.DATASET(config)\n",
    "sim_env = LocalEnvironment(config, data)"
   ]
  },
  {
   "cell_type": "code",
   "execution_count": 5,
   "id": "8ab72e19-1bbe-4ee3-a63a-83d60cc7898d",
   "metadata": {},
   "outputs": [
    {
     "name": "stdout",
     "output_type": "stream",
     "text": [
      "\n",
      "Test set: Average loss: 0.0023, Accuracy: 349/10000 (3%)\n",
      "\n",
      "Train Epoch: 1 [0/60000 (0%)]\tLoss: 2.316008\n",
      "Train Epoch: 1 [13200/60000 (22%)]\tLoss: 2.115782\n",
      "Train Epoch: 1 [26400/60000 (44%)]\tLoss: 1.333305\n",
      "Train Epoch: 1 [39600/60000 (66%)]\tLoss: 0.775647\n",
      "Train Epoch: 1 [52800/60000 (88%)]\tLoss: 0.749972\n",
      "\n",
      "Test set: Average loss: 0.0006, Accuracy: 8948/10000 (89%)\n",
      "\n",
      "Train Epoch: 2 [0/60000 (0%)]\tLoss: 0.645308\n",
      "Train Epoch: 2 [13200/60000 (22%)]\tLoss: 0.666185\n",
      "Train Epoch: 2 [26400/60000 (44%)]\tLoss: 0.473307\n",
      "Train Epoch: 2 [39600/60000 (66%)]\tLoss: 0.476639\n",
      "Train Epoch: 2 [52800/60000 (88%)]\tLoss: 0.463574\n",
      "\n",
      "Test set: Average loss: 0.0003, Accuracy: 9376/10000 (94%)\n",
      "\n",
      "Train Epoch: 3 [0/60000 (0%)]\tLoss: 0.432303\n",
      "Train Epoch: 3 [13200/60000 (22%)]\tLoss: 0.486474\n",
      "Train Epoch: 3 [26400/60000 (44%)]\tLoss: 0.442142\n",
      "Train Epoch: 3 [39600/60000 (66%)]\tLoss: 0.211404\n",
      "Train Epoch: 3 [52800/60000 (88%)]\tLoss: 0.281465\n",
      "\n",
      "Test set: Average loss: 0.0002, Accuracy: 9500/10000 (95%)\n",
      "\n",
      "Train Epoch: 4 [0/60000 (0%)]\tLoss: 0.331038\n",
      "Train Epoch: 4 [13200/60000 (22%)]\tLoss: 0.455438\n",
      "Train Epoch: 4 [26400/60000 (44%)]\tLoss: 0.296428\n",
      "Train Epoch: 4 [39600/60000 (66%)]\tLoss: 0.377789\n",
      "Train Epoch: 4 [52800/60000 (88%)]\tLoss: 0.368306\n",
      "\n",
      "Test set: Average loss: 0.0002, Accuracy: 9583/10000 (96%)\n",
      "\n"
     ]
    }
   ],
   "source": [
    "sim_env.clients[0].test()\n",
    "for epoch in range(1, config.N_EPOCHS + 1):\n",
    "    sim_env.clients[0].train(epoch)\n",
    "    sim_env.clients[0].test()"
   ]
  },
  {
   "cell_type": "code",
   "execution_count": null,
   "id": "7083345e-8729-49ad-9195-0c8a2c0b40c0",
   "metadata": {},
   "outputs": [],
   "source": []
  },
  {
   "cell_type": "code",
   "execution_count": 6,
   "id": "9fa22508-b748-4ec0-884e-b01b2660c117",
   "metadata": {},
   "outputs": [],
   "source": [
    "sim_env.reset_client_nets()"
   ]
  },
  {
   "cell_type": "code",
   "execution_count": 7,
   "id": "5434660e-7b79-41e7-ae0e-d6fb7e3099a9",
   "metadata": {},
   "outputs": [
    {
     "name": "stdout",
     "output_type": "stream",
     "text": [
      "\n",
      "Test set: Average loss: 0.0023, Accuracy: 1033/10000 (10%)\n",
      "\n",
      "Train Epoch: 1 [0/60000 (0%)]\tLoss: 2.313848\n",
      "Train Epoch: 1 [13200/60000 (22%)]\tLoss: 2.218482\n",
      "Train Epoch: 1 [26400/60000 (44%)]\tLoss: 1.411435\n",
      "Train Epoch: 1 [39600/60000 (66%)]\tLoss: 1.061522\n",
      "Train Epoch: 1 [52800/60000 (88%)]\tLoss: 0.896461\n",
      "\n",
      "Test set: Average loss: 0.0006, Accuracy: 8911/10000 (89%)\n",
      "\n",
      "Train Epoch: 2 [0/60000 (0%)]\tLoss: 0.758947\n",
      "Train Epoch: 2 [13200/60000 (22%)]\tLoss: 0.463188\n",
      "Train Epoch: 2 [26400/60000 (44%)]\tLoss: 0.637259\n",
      "Train Epoch: 2 [39600/60000 (66%)]\tLoss: 0.782935\n",
      "Train Epoch: 2 [52800/60000 (88%)]\tLoss: 0.453076\n",
      "\n",
      "Test set: Average loss: 0.0003, Accuracy: 9354/10000 (94%)\n",
      "\n",
      "Train Epoch: 3 [0/60000 (0%)]\tLoss: 0.481281\n",
      "Train Epoch: 3 [13200/60000 (22%)]\tLoss: 0.454048\n",
      "Train Epoch: 3 [26400/60000 (44%)]\tLoss: 0.713631\n",
      "Train Epoch: 3 [39600/60000 (66%)]\tLoss: 0.445711\n",
      "Train Epoch: 3 [52800/60000 (88%)]\tLoss: 0.462656\n",
      "\n",
      "Test set: Average loss: 0.0002, Accuracy: 9479/10000 (95%)\n",
      "\n",
      "Train Epoch: 4 [0/60000 (0%)]\tLoss: 0.240448\n",
      "Train Epoch: 4 [13200/60000 (22%)]\tLoss: 0.294709\n",
      "Train Epoch: 4 [26400/60000 (44%)]\tLoss: 0.345961\n",
      "Train Epoch: 4 [39600/60000 (66%)]\tLoss: 0.366377\n",
      "Train Epoch: 4 [52800/60000 (88%)]\tLoss: 0.346200\n",
      "\n",
      "Test set: Average loss: 0.0002, Accuracy: 9580/10000 (96%)\n",
      "\n"
     ]
    }
   ],
   "source": [
    "sim_env.clients[0].test()\n",
    "for epoch in range(1, config.N_EPOCHS + 1):\n",
    "    sim_env.clients[0].train(epoch)\n",
    "    sim_env.clients[0].test()"
   ]
  },
  {
   "cell_type": "code",
   "execution_count": 6,
   "id": "3f55d84a-b1c5-4f09-84ea-6ba57b8384a4",
   "metadata": {},
   "outputs": [
    {
     "name": "stdout",
     "output_type": "stream",
     "text": [
      "1/1 clients poisoned\n",
      "tensor([[4],\n",
      "        [4],\n",
      "        [4],\n",
      "        ...,\n",
      "        [5],\n",
      "        [5],\n",
      "        [5]])\n",
      "Label Flipping 50.0% from 5 to 4\n"
     ]
    }
   ],
   "source": [
    "sim_env.reset_client_nets()\n",
    "sim_env.poison_clients()"
   ]
  },
  {
   "cell_type": "code",
   "execution_count": null,
   "id": "955d805f-7b2f-4906-bbd2-28e21a17398e",
   "metadata": {},
   "outputs": [
    {
     "name": "stdout",
     "output_type": "stream",
     "text": [
      "\n",
      "Test set: Average loss: 0.0023, Accuracy: 1009/10000 (10%)\n",
      "\n",
      "Train Epoch: 1 [0/60000 (0%)]\tLoss: 2.314118\n",
      "Train Epoch: 1 [13200/60000 (22%)]\tLoss: 2.291180\n"
     ]
    }
   ],
   "source": [
    "sim_env.clients[0].test()\n",
    "for epoch in range(1, config.N_EPOCHS + 1):\n",
    "    sim_env.clients[0].train(epoch)\n",
    "    sim_env.clients[0].test()"
   ]
  }
 ],
 "metadata": {
  "kernelspec": {
   "display_name": "Python 3 (ipykernel)",
   "language": "python",
   "name": "python3"
  },
  "language_info": {
   "codemirror_mode": {
    "name": "ipython",
    "version": 3
   },
   "file_extension": ".py",
   "mimetype": "text/x-python",
   "name": "python",
   "nbconvert_exporter": "python",
   "pygments_lexer": "ipython3",
   "version": "3.9.12"
  }
 },
 "nbformat": 4,
 "nbformat_minor": 5
}
