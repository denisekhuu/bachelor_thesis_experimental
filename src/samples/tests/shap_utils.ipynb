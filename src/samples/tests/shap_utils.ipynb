{
 "cells": [
  {
   "cell_type": "code",
   "execution_count": 1,
   "id": "304cbba3-26ad-4a9c-bc35-019525a66af0",
   "metadata": {},
   "outputs": [],
   "source": [
    "from federated_learning.utils import SHAPUtil\n",
    "from federated_learning import Configuration\n",
    "from federated_learning import LocalEnvironment"
   ]
  },
  {
   "cell_type": "code",
   "execution_count": 2,
   "id": "97f7a0f0-7390-4d00-a455-40a84af38a1a",
   "metadata": {},
   "outputs": [
    {
     "name": "stdout",
     "output_type": "stream",
     "text": [
      "MNIST training data loaded.\n",
      "MNIST test data loaded.\n",
      "Create Clients\n",
      "1 clients poisoned\n",
      "271 5421\n"
     ]
    },
    {
     "ename": "RuntimeError",
     "evalue": "selected index k out of range",
     "output_type": "error",
     "traceback": [
      "\u001b[0;31m---------------------------------------------------------------------------\u001b[0m",
      "\u001b[0;31mRuntimeError\u001b[0m                              Traceback (most recent call last)",
      "Input \u001b[0;32mIn [2]\u001b[0m, in \u001b[0;36m<cell line: 4>\u001b[0;34m()\u001b[0m\n\u001b[1;32m      2\u001b[0m data \u001b[38;5;241m=\u001b[39m config\u001b[38;5;241m.\u001b[39mDATASET(config)\n\u001b[1;32m      3\u001b[0m sim_env \u001b[38;5;241m=\u001b[39m LocalEnvironment(config, data)\n\u001b[0;32m----> 4\u001b[0m \u001b[43msim_env\u001b[49m\u001b[38;5;241;43m.\u001b[39;49m\u001b[43mpoison_clients\u001b[49m\u001b[43m(\u001b[49m\u001b[43m)\u001b[49m\n",
      "File \u001b[0;32m~/work/samples/federated_learning/local_environment.py:48\u001b[0m, in \u001b[0;36mLocalEnvironment.poison_clients\u001b[0;34m(self)\u001b[0m\n\u001b[1;32m     46\u001b[0m \u001b[38;5;28;01mfor\u001b[39;00m client \u001b[38;5;129;01min\u001b[39;00m \u001b[38;5;28mself\u001b[39m\u001b[38;5;241m.\u001b[39mclients: \n\u001b[1;32m     47\u001b[0m     \u001b[38;5;28mprint\u001b[39m(\u001b[38;5;124m\"\u001b[39m\u001b[38;5;132;01m{}\u001b[39;00m\u001b[38;5;124m clients poisoned\u001b[39m\u001b[38;5;124m\"\u001b[39m\u001b[38;5;241m.\u001b[39mformat(\u001b[38;5;28mlen\u001b[39m(\u001b[38;5;28mself\u001b[39m\u001b[38;5;241m.\u001b[39mclients)))\n\u001b[0;32m---> 48\u001b[0m     \u001b[43mclient\u001b[49m\u001b[38;5;241;43m.\u001b[39;49m\u001b[43mlabel_flipping_data\u001b[49m\u001b[43m(\u001b[49m\u001b[43mfrom_label\u001b[49m\u001b[43m \u001b[49m\u001b[38;5;241;43m=\u001b[39;49m\u001b[43m \u001b[49m\u001b[38;5;28;43mself\u001b[39;49m\u001b[38;5;241;43m.\u001b[39;49m\u001b[43mconfigs\u001b[49m\u001b[38;5;241;43m.\u001b[39;49m\u001b[43mFROM_LABEL\u001b[49m\u001b[43m,\u001b[49m\u001b[43m \u001b[49m\u001b[43mto_label\u001b[49m\u001b[43m \u001b[49m\u001b[38;5;241;43m=\u001b[39;49m\u001b[43m \u001b[49m\u001b[38;5;28;43mself\u001b[39;49m\u001b[38;5;241;43m.\u001b[39;49m\u001b[43mconfigs\u001b[49m\u001b[38;5;241;43m.\u001b[39;49m\u001b[43mTO_LABEL\u001b[49m\u001b[43m,\u001b[49m\u001b[43m \u001b[49m\u001b[43mpercentage\u001b[49m\u001b[43m \u001b[49m\u001b[38;5;241;43m=\u001b[39;49m\u001b[43m \u001b[49m\u001b[38;5;241;43m0.05\u001b[39;49m\u001b[43m)\u001b[49m\n",
      "File \u001b[0;32m~/work/samples/federated_learning/client/client.py:43\u001b[0m, in \u001b[0;36mClient.label_flipping_data\u001b[0;34m(self, from_label, to_label, percentage)\u001b[0m\n\u001b[1;32m     41\u001b[0m     last_index \u001b[38;5;241m=\u001b[39m \u001b[38;5;28mint\u001b[39m(\u001b[38;5;28mlen\u001b[39m((\u001b[38;5;28mself\u001b[39m\u001b[38;5;241m.\u001b[39mtrain_dataloader\u001b[38;5;241m.\u001b[39mdataset\u001b[38;5;241m.\u001b[39mdataset\u001b[38;5;241m.\u001b[39mtargets \u001b[38;5;241m==\u001b[39m from_label)\u001b[38;5;241m.\u001b[39mnonzero(as_tuple\u001b[38;5;241m=\u001b[39m\u001b[38;5;28;01mFalse\u001b[39;00m)) \u001b[38;5;241m*\u001b[39m percentage)\n\u001b[1;32m     42\u001b[0m     \u001b[38;5;28mprint\u001b[39m(last_index, \u001b[38;5;28mlen\u001b[39m((\u001b[38;5;28mself\u001b[39m\u001b[38;5;241m.\u001b[39mtrain_dataloader\u001b[38;5;241m.\u001b[39mdataset\u001b[38;5;241m.\u001b[39mdataset\u001b[38;5;241m.\u001b[39mtargets \u001b[38;5;241m==\u001b[39m from_label)\u001b[38;5;241m.\u001b[39mnonzero(as_tuple\u001b[38;5;241m=\u001b[39m\u001b[38;5;28;01mFalse\u001b[39;00m)))\n\u001b[0;32m---> 43\u001b[0m     indices \u001b[38;5;241m=\u001b[39m \u001b[43m(\u001b[49m\u001b[38;5;28;43mself\u001b[39;49m\u001b[38;5;241;43m.\u001b[39;49m\u001b[43mtrain_dataloader\u001b[49m\u001b[38;5;241;43m.\u001b[39;49m\u001b[43mdataset\u001b[49m\u001b[38;5;241;43m.\u001b[39;49m\u001b[43mdataset\u001b[49m\u001b[38;5;241;43m.\u001b[39;49m\u001b[43mtargets\u001b[49m\u001b[43m \u001b[49m\u001b[38;5;241;43m==\u001b[39;49m\u001b[43m \u001b[49m\u001b[43mfrom_label\u001b[49m\u001b[43m)\u001b[49m\u001b[38;5;241;43m.\u001b[39;49m\u001b[43mnonzero\u001b[49m\u001b[43m(\u001b[49m\u001b[43mas_tuple\u001b[49m\u001b[38;5;241;43m=\u001b[39;49m\u001b[38;5;28;43;01mFalse\u001b[39;49;00m\u001b[43m)\u001b[49m\u001b[38;5;241;43m.\u001b[39;49m\u001b[43mtopk\u001b[49m\u001b[43m(\u001b[49m\u001b[43mlast_index\u001b[49m\u001b[43m)\u001b[49m\n\u001b[1;32m     44\u001b[0m     \u001b[38;5;28mprint\u001b[39m(indices)\n\u001b[1;32m     46\u001b[0m \u001b[38;5;28mprint\u001b[39m(\u001b[38;5;124m\"\u001b[39m\u001b[38;5;124mLabel Flipping \u001b[39m\u001b[38;5;132;01m{}\u001b[39;00m\u001b[38;5;132;01m% f\u001b[39;00m\u001b[38;5;124mrom \u001b[39m\u001b[38;5;132;01m{}\u001b[39;00m\u001b[38;5;124m to \u001b[39m\u001b[38;5;132;01m{}\u001b[39;00m\u001b[38;5;124m\"\u001b[39m\u001b[38;5;241m.\u001b[39mformat(\u001b[38;5;241m100.\u001b[39m \u001b[38;5;241m*\u001b[39m percentage, from_label, to_label))\n",
      "\u001b[0;31mRuntimeError\u001b[0m: selected index k out of range"
     ]
    }
   ],
   "source": [
    "config = Configuration()\n",
    "data = config.DATASET(config)\n",
    "sim_env = LocalEnvironment(config, data)\n",
    "sim_env.poison_clients()"
   ]
  },
  {
   "cell_type": "code",
   "execution_count": null,
   "id": "791e475e-0443-484a-aa95-d0282cbe45d1",
   "metadata": {},
   "outputs": [],
   "source": [
    "sim_env.clients[0].test()\n",
    "for epoch in range(1, config.N_EPOCHS + 1):\n",
    "    sim_env.clients[0].train(epoch)\n",
    "    sim_env.clients[0].test()"
   ]
  },
  {
   "cell_type": "code",
   "execution_count": null,
   "id": "9e30436e-5b80-4e77-a48b-4377ce9cda7c",
   "metadata": {},
   "outputs": [],
   "source": [
    "%load_ext autoreload\n",
    "%autoreload 2"
   ]
  },
  {
   "cell_type": "code",
   "execution_count": null,
   "id": "26fa2d4c-6cf9-4d7d-8063-5eaeb8b59e95",
   "metadata": {},
   "outputs": [],
   "source": [
    "shap_util = SHAPUtil(data.test_dataloader, sim_env.clients[0].net)\n",
    "shap_util.plot()"
   ]
  },
  {
   "cell_type": "code",
   "execution_count": null,
   "id": "3048ddb7-8cd3-4e93-b71c-a870202ff2ef",
   "metadata": {},
   "outputs": [],
   "source": [
    "sim_env.clients[0].confusion_matrix"
   ]
  },
  {
   "cell_type": "code",
   "execution_count": null,
   "id": "889035da-32f5-4542-bc41-6871ad1c7851",
   "metadata": {},
   "outputs": [],
   "source": [
    "sim_env.clients[0].target_accuracy"
   ]
  }
 ],
 "metadata": {
  "kernelspec": {
   "display_name": "Python 3 (ipykernel)",
   "language": "python",
   "name": "python3"
  },
  "language_info": {
   "codemirror_mode": {
    "name": "ipython",
    "version": 3
   },
   "file_extension": ".py",
   "mimetype": "text/x-python",
   "name": "python",
   "nbconvert_exporter": "python",
   "pygments_lexer": "ipython3",
   "version": "3.9.12"
  }
 },
 "nbformat": 4,
 "nbformat_minor": 5
}
