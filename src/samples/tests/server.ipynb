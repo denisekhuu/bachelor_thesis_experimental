{
 "cells": [
  {
   "cell_type": "code",
   "execution_count": 1,
   "id": "46e6b672-725f-4550-b39b-7fe6c6a1ea3a",
   "metadata": {},
   "outputs": [],
   "source": [
    "from federated_learning.utils import SHAPUtil\n",
    "from federated_learning import ClientPlane, Configuration\n",
    "from federated_learning.server import Server"
   ]
  },
  {
   "cell_type": "code",
   "execution_count": 2,
   "id": "b4146637-5eb6-4413-994a-6868b4aa167f",
   "metadata": {},
   "outputs": [],
   "source": [
    "class ObserverConfiguration():\n",
    "    experiment_type = \"shap_clean_run\"\n",
    "    experiment_id = 0\n",
    "    test = True\n",
    "    dataset_type = \"MNIST\"\n",
    "    \n",
    "    # Client Configurations \n",
    "    client_name = \"client\"\n",
    "    client_type = \"client\"\n",
    "    \n",
    "    # Server Configurations \n",
    "    client_name = \"server\"\n",
    "    client_type = \"server\""
   ]
  },
  {
   "cell_type": "code",
   "execution_count": 3,
   "id": "b6df18c1-38ee-481e-8f48-0bff26fa1e19",
   "metadata": {},
   "outputs": [
    {
     "name": "stdout",
     "output_type": "stream",
     "text": [
      "MNIST training data loaded.\n",
      "MNIST test data loaded.\n"
     ]
    }
   ],
   "source": [
    "config = Configuration()\n",
    "data = config.DATASET(config)\n",
    "shap_util = SHAPUtil(data.test_dataloader)\n",
    "observer_config = ObserverConfiguration()"
   ]
  },
  {
   "cell_type": "code",
   "execution_count": null,
   "id": "4521dba2-fe32-4230-988f-da6b8f85f515",
   "metadata": {},
   "outputs": [
    {
     "name": "stdout",
     "output_type": "stream",
     "text": [
      "Load model successfully\n",
      "Create 200 clients with dataset of size 300\n",
      "\n",
      "Test set: Average loss: 0.0023, Accuracy: 1196/10000 (12%)\n",
      "\n",
      "Round 1 finished\n",
      "\n",
      "Test set: Average loss: 0.0023, Accuracy: 1970/10000 (20%)\n",
      "\n",
      "Round 2 finished\n",
      "\n",
      "Test set: Average loss: 0.0022, Accuracy: 3887/10000 (39%)\n",
      "\n",
      "Round 3 finished\n",
      "\n",
      "Test set: Average loss: 0.0021, Accuracy: 4571/10000 (46%)\n",
      "\n",
      "Round 4 finished\n",
      "\n",
      "Test set: Average loss: 0.0019, Accuracy: 6416/10000 (64%)\n",
      "\n",
      "Round 5 finished\n",
      "\n",
      "Test set: Average loss: 0.0016, Accuracy: 7804/10000 (78%)\n",
      "\n",
      "Round 6 finished\n",
      "\n",
      "Test set: Average loss: 0.0013, Accuracy: 7460/10000 (75%)\n",
      "\n",
      "Round 7 finished\n",
      "\n",
      "Test set: Average loss: 0.0011, Accuracy: 8360/10000 (84%)\n",
      "\n",
      "Round 8 finished\n",
      "\n",
      "Test set: Average loss: 0.0010, Accuracy: 8448/10000 (84%)\n",
      "\n",
      "Round 9 finished\n",
      "\n",
      "Test set: Average loss: 0.0009, Accuracy: 8641/10000 (86%)\n",
      "\n",
      "Round 10 finished\n",
      "\n",
      "Test set: Average loss: 0.0008, Accuracy: 8697/10000 (87%)\n",
      "\n",
      "Round 11 finished\n",
      "\n",
      "Test set: Average loss: 0.0008, Accuracy: 8800/10000 (88%)\n",
      "\n",
      "Round 12 finished\n",
      "\n",
      "Test set: Average loss: 0.0007, Accuracy: 8912/10000 (89%)\n",
      "\n",
      "Round 13 finished\n",
      "\n",
      "Test set: Average loss: 0.0006, Accuracy: 8914/10000 (89%)\n",
      "\n",
      "Round 14 finished\n",
      "\n",
      "Test set: Average loss: 0.0006, Accuracy: 8972/10000 (90%)\n",
      "\n",
      "Round 15 finished\n",
      "\n",
      "Test set: Average loss: 0.0006, Accuracy: 8959/10000 (90%)\n",
      "\n",
      "Round 16 finished\n",
      "\n",
      "Test set: Average loss: 0.0005, Accuracy: 9070/10000 (91%)\n",
      "\n",
      "Round 17 finished\n",
      "\n",
      "Test set: Average loss: 0.0005, Accuracy: 9149/10000 (91%)\n",
      "\n",
      "Round 18 finished\n",
      "\n",
      "Test set: Average loss: 0.0005, Accuracy: 9149/10000 (91%)\n",
      "\n",
      "Round 19 finished\n",
      "\n",
      "Test set: Average loss: 0.0005, Accuracy: 9077/10000 (91%)\n",
      "\n",
      "Round 20 finished\n"
     ]
    }
   ],
   "source": [
    "server = Server(config, data.test_dataloader, shap_util)\n",
    "client_plane = ClientPlane(config, observer_config, data, shap_util)\n",
    "\n",
    "def set_rounds(rounds):\n",
    "    client_plane.set_rounds(rounds)\n",
    "    server.set_rounds(rounds)\n",
    "    \n",
    "def run_round():\n",
    "    client_plane.update_clients(server.get_nn_parameters())\n",
    "    selected_clients = server.select_clients()\n",
    "    client_parameters = client_plane.train_selected_clients(selected_clients)\n",
    "    server.aggregate_model(client_parameters)\n",
    "    \n",
    "    server.test()\n",
    "    \n",
    "for i in range(config.ROUNDS):\n",
    "    set_rounds(i)\n",
    "    run_round()\n",
    "    print(\"Round {} finished\".format(i+1))"
   ]
  },
  {
   "cell_type": "code",
   "execution_count": 8,
   "id": "8e78aed1-4b36-4b4c-bd3f-187006e5e29a",
   "metadata": {},
   "outputs": [
    {
     "name": "stderr",
     "output_type": "stream",
     "text": [
      "Using a non-full backward hook when the forward contains multiple autograd Nodes is deprecated and will be removed in future versions. This hook will be missing some grad_input. Please use register_full_backward_hook to get the documented behavior.\n",
      "Note that order of the arguments: ceil_mode and return_indices will changeto match the args list in nn.MaxPool2d in a future release.\n"
     ]
    },
    {
     "name": "stdout",
     "output_type": "stream",
     "text": [
      "Predictions: tensor([[0],\n",
      "        [1],\n",
      "        [2],\n",
      "        [3],\n",
      "        [4],\n",
      "        [5],\n",
      "        [6],\n",
      "        [7],\n",
      "        [8],\n",
      "        [9]])\n"
     ]
    }
   ],
   "source": [
    "server.get_shap_values()"
   ]
  }
 ],
 "metadata": {
  "kernelspec": {
   "display_name": "Python 3 (ipykernel)",
   "language": "python",
   "name": "python3"
  },
  "language_info": {
   "codemirror_mode": {
    "name": "ipython",
    "version": 3
   },
   "file_extension": ".py",
   "mimetype": "text/x-python",
   "name": "python",
   "nbconvert_exporter": "python",
   "pygments_lexer": "ipython3",
   "version": "3.9.12"
  }
 },
 "nbformat": 4,
 "nbformat_minor": 5
}
