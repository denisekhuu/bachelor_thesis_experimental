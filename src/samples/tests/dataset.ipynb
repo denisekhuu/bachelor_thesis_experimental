{
 "cells": [
  {
   "cell_type": "markdown",
   "id": "ceca1934-ad85-4d8f-b109-fbc056369ca7",
   "metadata": {},
   "source": [
    "# Configurations"
   ]
  },
  {
   "cell_type": "code",
   "execution_count": 24,
   "id": "2e15372e-9193-492e-8a3f-4d72b8b0d5d9",
   "metadata": {},
   "outputs": [],
   "source": [
    "import os\n",
    "class Configurations():\n",
    "    \n",
    "    # Dataset Config\n",
    "    N_EPOCHS = 3\n",
    "    BATCH_SIZE_TRAIN = 64\n",
    "    BATCH_SIZE_TEST = 1000\n",
    "    LEARNING_RATE = 0.01\n",
    "    MOMENTUM = 0.5\n",
    "    LOG_INTERVAL = 10\n",
    "    \n",
    "    #MNIST_FASHION_DATASET Configurations\n",
    "    MNIST_FASHION_DATASET_PATH = os.path.join('../samples/data/mnist_fashion')\n",
    "    MNIST_FASHION_LABELS = ['T-shirt/top','Trouser','Pullover','Dress','Coat','Sandal','Shirt','Sneaker','Bag','Ankle Boot']\n",
    "    \n",
    "    #MNIST_DATASET Configurations\n",
    "    MNIST_DATASET_PATH = os.path.join('../samples/data/mnist')\n",
    "    \n",
    "    #CIFAR_DATASET Configurations\n",
    "    CIFAR10_DATASET_PATH = os.path.join('../samples/data/cifar10')\n",
    "    CIFAR10_LABELS = ['Plane', 'Car', 'Bird', 'Cat','Deer', 'Dog', 'Frog', 'Horse', 'Ship', 'Truck']"
   ]
  },
  {
   "cell_type": "markdown",
   "id": "57f30a77-2571-47eb-bf1b-34a1935c220f",
   "metadata": {},
   "source": [
    "# Dataloaders"
   ]
  },
  {
   "cell_type": "code",
   "execution_count": 2,
   "id": "2e496bbb-91b0-454f-bd5d-360ecdb6ed13",
   "metadata": {},
   "outputs": [],
   "source": [
    "from abc import abstractmethod\n",
    "class Dataloader(): \n",
    "    \n",
    "    def __init__(self, configs):\n",
    "        self.configs = configs\n",
    "        self.train_dataloader = self.load_train_dataloader()\n",
    "        self.test_dataloader = self.load_test_dataloader()\n",
    "    \n",
    "    @abstractmethod\n",
    "    def load_train_dataloader(self):\n",
    "        \"\"\"\n",
    "        Loads & returns the training dataloader.\n",
    "\n",
    "        :return: torchvision.Dataloader\n",
    "        \"\"\"\n",
    "        raise NotImplementedError(\"load_train_dataloader() isn't implemented\")\n",
    "        \n",
    "    @abstractmethod\n",
    "    def load_test_dataloader(self):\n",
    "        \"\"\"\n",
    "        Loads & returns the test dataloader.\n",
    "\n",
    "        :return:torchvision.Dataloader\n",
    "        \"\"\"\n",
    "        raise NotImplementedError(\"load_test_dataloader() isn't implemented\")\n",
    "        "
   ]
  },
  {
   "cell_type": "code",
   "execution_count": 3,
   "id": "07667995-2cb1-4eb9-b77e-78f1fb98d38a",
   "metadata": {},
   "outputs": [],
   "source": [
    "import torch, torchvision\n",
    "class MNISTDataloader(Dataloader): \n",
    "    \n",
    "    def __init__(self, configs):\n",
    "        super(MNISTDataloader, self).__init__(configs)\n",
    "        \n",
    "    def load_train_dataloader(self):\n",
    "        transform = torchvision.transforms.Compose([torchvision.transforms.transforms.ToTensor()])\n",
    "        \n",
    "        train_dataset = torchvision.datasets.MNIST(\n",
    "            self.configs.MNIST_DATASET_PATH, \n",
    "            train=True, download=True,\n",
    "            transform=transform)\n",
    "        \n",
    "        train_loader = torch.utils.data.DataLoader(\n",
    "            train_dataset,\n",
    "            batch_size=self.configs.BATCH_SIZE_TRAIN, \n",
    "            shuffle=False)\n",
    "        \n",
    "        print(\"MNIST training loader loaded.\")\n",
    "        return train_loader\n",
    "    \n",
    "    def load_test_dataloader(self):\n",
    "        transform = torchvision.transforms.Compose([torchvision.transforms.transforms.ToTensor()])\n",
    "        \n",
    "        test_dataset = torchvision.datasets.MNIST(\n",
    "            self.configs.MNIST_DATASET_PATH, \n",
    "            train=False, download=True,\n",
    "            transform=transform)\n",
    "        \n",
    "        test_loader = torch.utils.data.DataLoader(\n",
    "            test_dataset,\n",
    "            batch_size=self.configs.BATCH_SIZE_TEST, \n",
    "            shuffle=False)\n",
    "        \n",
    "        print(\"MNIST test loader loaded.\")\n",
    "        return test_loader\n"
   ]
  },
  {
   "cell_type": "code",
   "execution_count": 4,
   "id": "f16b9031-77db-40ec-aec5-1b168af8fcc7",
   "metadata": {},
   "outputs": [],
   "source": [
    "import torch, torchvision\n",
    "class FashionMNISTDataloader(Dataloader): \n",
    "    \n",
    "    def __init__(self, configs):\n",
    "        super(FashionMNISTDataloader, self).__init__(configs)\n",
    "        self.labels = self.configs.MNIST_FASHION_LABELS\n",
    "        \n",
    "    def load_train_dataloader(self):\n",
    "        transform = torchvision.transforms.Compose([\n",
    "            torchvision.transforms.ToTensor(),\n",
    "            torchvision.transforms.Normalize(\n",
    "                (0.1307,), (0.3081,))\n",
    "        ])\n",
    "        \n",
    "        train_dataset = torchvision.datasets.FashionMNIST(\n",
    "            self.configs.MNIST_FASHION_DATASET_PATH, \n",
    "            train=True, download=True,\n",
    "            transform=transform)\n",
    "        \n",
    "        train_loader = torch.utils.data.DataLoader(\n",
    "            train_dataset,\n",
    "            batch_size=self.configs.BATCH_SIZE_TRAIN, \n",
    "            shuffle=True)\n",
    "        \n",
    "        \n",
    "        print(\"FashionMnist training loader loaded.\")\n",
    "        return train_loader\n",
    "    \n",
    "    def load_test_dataloader(self):\n",
    "        transform = torchvision.transforms.Compose([\n",
    "            torchvision.transforms.ToTensor(),\n",
    "            torchvision.transforms.Normalize(\n",
    "                (0.1307,), (0.3081,))\n",
    "        ])\n",
    "        \n",
    "        test_dataset = torchvision.datasets.FashionMNIST(\n",
    "            self.configs.MNIST_FASHION_DATASET_PATH, \n",
    "            train=False, download=True,\n",
    "            transform=transform)\n",
    "        \n",
    "        test_loader = torch.utils.data.DataLoader(\n",
    "            test_dataset,\n",
    "            batch_size=self.configs.BATCH_SIZE_TEST, \n",
    "            shuffle=False)\n",
    "        \n",
    "        \n",
    "        print(\"FashionMnist training loader loaded.\")\n",
    "        return test_loader\n"
   ]
  },
  {
   "cell_type": "code",
   "execution_count": 18,
   "id": "de713812-c3c9-4ed6-bd4d-62359522ff39",
   "metadata": {},
   "outputs": [],
   "source": [
    "import torch, torchvision\n",
    "class CIFAR10Dataloader(Dataloader): \n",
    "    \n",
    "    def __init__(self, configs):\n",
    "        super(CIFAR10Dataloader, self).__init__(configs)\n",
    "        self.labels = self.configs.CIFAR10_LABELS\n",
    "        \n",
    "    def load_train_dataloader(self):\n",
    "        transform = torchvision.transforms.Compose([torchvision.transforms.transforms.ToTensor(),torchvision.transforms.transforms.Normalize((0.5, 0.5, 0.5), (0.5, 0.5, 0.5))])\n",
    "        \n",
    "        train_dataset = torchvision.datasets.CIFAR10(\n",
    "            self.configs.CIFAR10_DATASET_PATH, \n",
    "            train=True, download=True,\n",
    "            transform=transform)\n",
    "        \n",
    "        train_loader = torch.utils.data.DataLoader(\n",
    "            train_dataset,\n",
    "            batch_size=self.configs.BATCH_SIZE_TRAIN, \n",
    "            shuffle=True)\n",
    "        \n",
    "        print(\"CIFAR10 training loader loaded.\")\n",
    "        return train_loader\n",
    "    \n",
    "    def load_test_dataloader(self):\n",
    "        transform = torchvision.transforms.Compose([torchvision.transforms.transforms.ToTensor(),torchvision.transforms.transforms.Normalize((0.5, 0.5, 0.5), (0.5, 0.5, 0.5))])\n",
    "        \n",
    "        test_dataset = torchvision.datasets.CIFAR10(\n",
    "            self.configs.CIFAR10_DATASET_PATH, \n",
    "            train=False, download=True,\n",
    "            transform=transform)\n",
    "        \n",
    "        test_loader = torch.utils.data.DataLoader(\n",
    "            test_dataset,\n",
    "            batch_size=self.configs.BATCH_SIZE_TEST, \n",
    "            shuffle=False)\n",
    "        \n",
    "        print(\"CIFAR10 test loader loaded.\")\n",
    "        return test_loader\n"
   ]
  },
  {
   "cell_type": "markdown",
   "id": "57a37b61-3dfd-4730-afd8-5bf72208aa07",
   "metadata": {},
   "source": [
    "# TEST FashionMNIST"
   ]
  },
  {
   "cell_type": "code",
   "execution_count": 28,
   "id": "f88bb8a0-d489-4111-a5b1-4de7bc4a772e",
   "metadata": {},
   "outputs": [],
   "source": [
    "config = Configurations()\n",
    "\n",
    "fashion_mnist = FashionMNISTDataloader(config)\n",
    "\n",
    "examples = enumerate(fashion_mnist.test_dataloader)\n",
    "batch_idx, (example_data, example_targets) = next(examples)\n",
    "\n",
    "example_data.shape"
   ]
  },
  {
   "cell_type": "code",
   "execution_count": 29,
   "id": "7261b274-5315-4dce-b2b6-ea357d730417",
   "metadata": {},
   "outputs": [
    {
     "data": {
      "image/png": "[encoded data removed]",
      "text/plain": [
       "<Figure size 432x288 with 6 Axes>"
      ]
     },
     "metadata": {},
     "output_type": "display_data"
    }
   ],
   "source": [
    "import matplotlib.pyplot as plt\n",
    "\n",
    "fig = plt.figure()\n",
    "for i in range(6):\n",
    "    plt.subplot(2,3,i+1)\n",
    "    plt.tight_layout()\n",
    "    plt.imshow(example_data[i][0], cmap='gray', interpolation='none')\n",
    "    plt.title(\"Ground Truth: {}\".format(fashion_mnist.labels[example_targets[i]]))\n",
    "    plt.xticks([])\n",
    "    plt.yticks([])"
   ]
  },
  {
   "cell_type": "markdown",
   "id": "19618852-df2c-442c-95c7-f8ffc8d2e630",
   "metadata": {},
   "source": [
    "# TEST MNIST"
   ]
  },
  {
   "cell_type": "code",
   "execution_count": 11,
   "id": "b38fbfa1-2bab-41b0-b204-22ac9aef0356",
   "metadata": {},
   "outputs": [
    {
     "name": "stdout",
     "output_type": "stream",
     "text": [
      "MNIST training loader loaded.\n",
      "MNIST test loader loaded.\n"
     ]
    },
    {
     "data": {
      "text/plain": [
       "torch.Size([64, 1, 28, 28])"
      ]
     },
     "execution_count": 11,
     "metadata": {},
     "output_type": "execute_result"
    }
   ],
   "source": [
    "config = Configurations()\n",
    "mnist = MNISTDataloader(config)\n",
    "examples = enumerate(mnist.train_dataloader)\n",
    "batch_idx, (example_data, example_targets) = next(examples)\n",
    "example_data.shape\n"
   ]
  },
  {
   "cell_type": "code",
   "execution_count": 12,
   "id": "b29e36b3-7ff0-4ef6-9020-864d8086ec3c",
   "metadata": {},
   "outputs": [
    {
     "data": {
      "image/png": "[encoded data removed]",
      "text/plain": [
       "<Figure size 432x288 with 6 Axes>"
      ]
     },
     "metadata": {},
     "output_type": "display_data"
    }
   ],
   "source": [
    "import matplotlib.pyplot as plt\n",
    "\n",
    "fig = plt.figure()\n",
    "for i in range(6):\n",
    "    plt.subplot(2,3,i+1)\n",
    "    plt.tight_layout()\n",
    "    plt.imshow(example_data[i][0], cmap='gray', interpolation='none')\n",
    "    plt.title(\"Ground Truth: {}\".format(example_targets[i]))\n",
    "    plt.xticks([])\n",
    "    plt.yticks([])"
   ]
  },
  {
   "cell_type": "markdown",
   "id": "74487793-e4d3-4e66-8cb4-0e438843367c",
   "metadata": {},
   "source": [
    "# TEST CIFAR10"
   ]
  },
  {
   "cell_type": "code",
   "execution_count": 23,
   "id": "647319ba-9109-4df7-9a6b-5e211c719e2a",
   "metadata": {},
   "outputs": [
    {
     "name": "stdout",
     "output_type": "stream",
     "text": [
      "Files already downloaded and verified\n",
      "CIFAR10 training loader loaded.\n",
      "Files already downloaded and verified\n",
      "CIFAR10 test loader loaded.\n"
     ]
    },
    {
     "data": {
      "image/png": "[encoded data removed]",
      "text/plain": [
       "<Figure size 432x288 with 6 Axes>"
      ]
     },
     "metadata": {},
     "output_type": "display_data"
    }
   ],
   "source": [
    "config = Configurations()\n",
    "cifar10 = CIFAR10Dataloader(config)\n",
    "examples = enumerate(cifar10.test_dataloader)\n",
    "batch_idx, (example_data, example_targets) = next(examples)\n",
    "example_data.shape\n",
    "\n",
    "import matplotlib.pyplot as plt\n",
    "import numpy as np\n",
    "\n",
    "fig = plt.figure()\n",
    "\n",
    "def imshow(img):\n",
    "    img = img / 2 + 0.5     # unnormalize\n",
    "    npimg = img.numpy()\n",
    "    plt.imshow(np.transpose(npimg, (1, 2, 0)))\n",
    "\n",
    "dataiter = iter(cifar10.train_dataloader)\n",
    "images, labels = dataiter.next()\n",
    "\n",
    "for i in range(6):\n",
    "    plt.subplot(2,3,i+1)\n",
    "    img = torchvision.utils.make_grid(images[i])\n",
    "    imshow(img)\n",
    "    plt.title(\"Ground Truth: {}\".format(cifar10.labels[labels[i]]))\n",
    "    plt.xticks([])\n",
    "    plt.yticks([])"
   ]
  }
 ],
 "metadata": {
  "kernelspec": {
   "display_name": "Python 3 (ipykernel)",
   "language": "python",
   "name": "python3"
  },
  "language_info": {
   "codemirror_mode": {
    "name": "ipython",
    "version": 3
   },
   "file_extension": ".py",
   "mimetype": "text/x-python",
   "name": "python",
   "nbconvert_exporter": "python",
   "pygments_lexer": "ipython3",
   "version": "3.9.12"
  }
 },
 "nbformat": 4,
 "nbformat_minor": 5
}
