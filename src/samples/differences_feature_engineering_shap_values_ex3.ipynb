{
  "cells": [
    {
      "cell_type": "markdown",
      "id": "0b48f800-d2d2-4bd7-9bd7-f6f9cfd6740c",
      "metadata": {
        "id": "0b48f800-d2d2-4bd7-9bd7-f6f9cfd6740c"
      },
      "source": [
        "# Feature Engineering with SHAP values Experiment 2"
      ]
    },
    {
      "cell_type": "markdown",
      "id": "93a73a1f-e932-47bb-9605-f5b5c5754612",
      "metadata": {
        "tags": [],
        "id": "93a73a1f-e932-47bb-9605-f5b5c5754612"
      },
      "source": [
        "## Google Colab"
      ]
    },
    {
      "cell_type": "code",
      "execution_count": 1,
      "id": "32b4bc41-26c2-4fca-a614-ef28cea9d45d",
      "metadata": {
        "id": "32b4bc41-26c2-4fca-a614-ef28cea9d45d",
        "outputId": "dd17585a-a4c6-475b-8d7e-7ed7959e9c82",
        "colab": {
          "base_uri": "https://localhost:8080/"
        }
      },
      "outputs": [
        {
          "output_type": "stream",
          "name": "stdout",
          "text": [
            "Drive not mounted, so nothing to flush and unmount.\n",
            "Mounted at /content/drive\n",
            "Looking in indexes: https://pypi.org/simple, https://us-python.pkg.dev/colab-wheels/public/simple/\n",
            "Requirement already satisfied: shap==0.40.0 in /usr/local/lib/python3.7/dist-packages (0.40.0)\n",
            "Requirement already satisfied: numba in /usr/local/lib/python3.7/dist-packages (from shap==0.40.0) (0.51.2)\n",
            "Requirement already satisfied: numpy in /usr/local/lib/python3.7/dist-packages (from shap==0.40.0) (1.21.6)\n",
            "Requirement already satisfied: cloudpickle in /usr/local/lib/python3.7/dist-packages (from shap==0.40.0) (1.3.0)\n",
            "Requirement already satisfied: scipy in /usr/local/lib/python3.7/dist-packages (from shap==0.40.0) (1.4.1)\n",
            "Requirement already satisfied: packaging>20.9 in /usr/local/lib/python3.7/dist-packages (from shap==0.40.0) (21.3)\n",
            "Requirement already satisfied: slicer==0.0.7 in /usr/local/lib/python3.7/dist-packages (from shap==0.40.0) (0.0.7)\n",
            "Requirement already satisfied: pandas in /usr/local/lib/python3.7/dist-packages (from shap==0.40.0) (1.3.5)\n",
            "Requirement already satisfied: scikit-learn in /usr/local/lib/python3.7/dist-packages (from shap==0.40.0) (1.0.2)\n",
            "Requirement already satisfied: tqdm>4.25.0 in /usr/local/lib/python3.7/dist-packages (from shap==0.40.0) (4.64.0)\n",
            "Requirement already satisfied: pyparsing!=3.0.5,>=2.0.2 in /usr/local/lib/python3.7/dist-packages (from packaging>20.9->shap==0.40.0) (3.0.9)\n",
            "Requirement already satisfied: llvmlite<0.35,>=0.34.0.dev0 in /usr/local/lib/python3.7/dist-packages (from numba->shap==0.40.0) (0.34.0)\n",
            "Requirement already satisfied: setuptools in /usr/local/lib/python3.7/dist-packages (from numba->shap==0.40.0) (57.4.0)\n",
            "Requirement already satisfied: pytz>=2017.3 in /usr/local/lib/python3.7/dist-packages (from pandas->shap==0.40.0) (2022.1)\n",
            "Requirement already satisfied: python-dateutil>=2.7.3 in /usr/local/lib/python3.7/dist-packages (from pandas->shap==0.40.0) (2.8.2)\n",
            "Requirement already satisfied: six>=1.5 in /usr/local/lib/python3.7/dist-packages (from python-dateutil>=2.7.3->pandas->shap==0.40.0) (1.15.0)\n",
            "Requirement already satisfied: threadpoolctl>=2.0.0 in /usr/local/lib/python3.7/dist-packages (from scikit-learn->shap==0.40.0) (3.1.0)\n",
            "Requirement already satisfied: joblib>=0.11 in /usr/local/lib/python3.7/dist-packages (from scikit-learn->shap==0.40.0) (1.1.0)\n"
          ]
        }
      ],
      "source": [
        "from google.colab import drive\n",
        "drive.flush_and_unmount()\n",
        "drive.mount('/content/drive', force_remount=True)\n",
        "\n",
        "import sys\n",
        "sys.path.append('/content/drive/My Drive/Colab Notebooks')\n",
        "sys.path.append('/content/drive/My Drive/Colab Notebooks/federated_learning')\n",
        "\n",
        "!pip install shap==0.40.0"
      ]
    },
    {
      "cell_type": "code",
      "execution_count": null,
      "id": "a70021e8-dc00-42e7-8bb7-ee4301741e75",
      "metadata": {
        "id": "a70021e8-dc00-42e7-8bb7-ee4301741e75"
      },
      "outputs": [],
      "source": [
        "import sklearn"
      ]
    },
    {
      "cell_type": "markdown",
      "id": "c41448db-17cb-4a42-bacd-fd157ce28ac7",
      "metadata": {
        "tags": [],
        "id": "c41448db-17cb-4a42-bacd-fd157ce28ac7"
      },
      "source": [
        "## Experimental Setup"
      ]
    },
    {
      "cell_type": "code",
      "execution_count": 2,
      "id": "b4898aa8-0d37-4f50-b0be-e43e398612aa",
      "metadata": {
        "id": "b4898aa8-0d37-4f50-b0be-e43e398612aa"
      },
      "outputs": [],
      "source": [
        "from federated_learning.utils import SHAPUtil, experiment_util, Visualizer\n",
        "from federated_learning import ClientPlane, Configuration, ObserverConfiguration\n",
        "from federated_learning.server import Server\n",
        "from datetime import datetime"
      ]
    },
    {
      "cell_type": "code",
      "execution_count": 15,
      "id": "792ca166-f3d7-4e15-92cc-6d54c7989729",
      "metadata": {
        "id": "792ca166-f3d7-4e15-92cc-6d54c7989729"
      },
      "outputs": [],
      "source": [
        "def cos_similarity_values(s_client, s_server):\n",
        "    import numpy as np\n",
        "    cos_similarity = [[] for i in range(10)]\n",
        "    shap_subtract = np.subtract(s_client, s_server)\n",
        "    for row_idx, row in enumerate(shap_subtract):\n",
        "        for img_idx, image in enumerate(row):\n",
        "                cos_similarity[row_idx].append(round(np.sum(image.flatten()), 3))\n",
        "\n",
        "    print(np.sum(np.matrix(cos_similarity)))"
      ]
    },
    {
      "cell_type": "code",
      "execution_count": null,
      "id": "49b4532f-b186-47a9-867a-ec27ddbabe8f",
      "metadata": {
        "id": "49b4532f-b186-47a9-867a-ec27ddbabe8f"
      },
      "outputs": [],
      "source": [
        "from scipy import spatial\n",
        "import numpy"
      ]
    },
    {
      "cell_type": "code",
      "execution_count": null,
      "id": "476b47a5-87c0-49b7-8b20-cbe286c75662",
      "metadata": {
        "id": "476b47a5-87c0-49b7-8b20-cbe286c75662"
      },
      "outputs": [],
      "source": [
        "scipy.__version__\n"
      ]
    },
    {
      "cell_type": "code",
      "execution_count": null,
      "id": "d7a592b2-117f-41c4-9de1-a4150c48035f",
      "metadata": {
        "id": "d7a592b2-117f-41c4-9de1-a4150c48035f"
      },
      "outputs": [],
      "source": [
        "numpy.__version__"
      ]
    },
    {
      "cell_type": "code",
      "execution_count": 3,
      "id": "11b5b463-a3f6-4100-a908-f167b84455fe",
      "metadata": {
        "id": "11b5b463-a3f6-4100-a908-f167b84455fe"
      },
      "outputs": [],
      "source": [
        "def cos_similarity_values(s_client, s_server):\n",
        "    import numpy as np\n",
        "    from scipy import spatial\n",
        "    cos_similarity_server = [[] for i in range(10)]\n",
        "    cos_similarity_client = [[] for i in range(10)]\n",
        "    shap_subtract = np.subtract(s_client, s_server)\n",
        "    for row_idx, row in enumerate(s_server):\n",
        "        for img_idx, image in enumerate(row):\n",
        "                cos_similarity_server[row_idx].append(np.sum(image.flatten()))\n",
        "    for row_idx, row in enumerate(s_client):\n",
        "        for img_idx, image in enumerate(row):\n",
        "                cos_similarity_client[row_idx].append(np.sum(image.flatten()))\n",
        "    spatial.distance.cosine(np.array(cos_similarity_server).flatten(), np.array(cos_similarity_client).flatten())\n",
        "    print(spatial.distance.cosine(np.array(cos_similarity_server).flatten(), np.array(cos_similarity_client).flatten()))"
      ]
    },
    {
      "cell_type": "code",
      "execution_count": 17,
      "id": "844e8c3d-9ac7-49c4-b06c-ae145be6b4cb",
      "metadata": {
        "id": "844e8c3d-9ac7-49c4-b06c-ae145be6b4cb"
      },
      "outputs": [],
      "source": [
        "def cos_similarity_values(s_client, s_server):\n",
        "    from scipy import spatial\n",
        "    import numpy as np\n",
        "    cos_similarity = [[] for i in range(10)]\n",
        "    shap_subtract = np.subtract(s_client, s_server)\n",
        "    for row_idx, row in enumerate(s_client):\n",
        "        for img_idx, image in enumerate(row):\n",
        "                cos_similarity[row_idx].append(spatial.distance.cosine(image.flatten(),s_server[row_idx][img_idx].flatten()))\n",
        "    \n",
        "    print(np.sum(cos_similarity))\n",
        "    \n"
      ]
    },
    {
      "cell_type": "markdown",
      "id": "6078464c-3ec0-4085-9b9c-5a6517b5f83d",
      "metadata": {
        "tags": [],
        "id": "6078464c-3ec0-4085-9b9c-5a6517b5f83d"
      },
      "source": [
        "# MNIST"
      ]
    },
    {
      "cell_type": "code",
      "source": [
        ""
      ],
      "metadata": {
        "id": "i8nLh64V4hqM"
      },
      "id": "i8nLh64V4hqM",
      "execution_count": null,
      "outputs": []
    },
    {
      "cell_type": "code",
      "execution_count": null,
      "id": "3d70d54c-5b1f-4155-8c2f-bc504c4c5b80",
      "metadata": {
        "id": "3d70d54c-5b1f-4155-8c2f-bc504c4c5b80"
      },
      "outputs": [],
      "source": [
        "from federated_learning.nets import MNISTCNN\n",
        "from federated_learning.dataset import MNISTDataset\n",
        "import os\n",
        "config = Configuration()\n",
        "config.POISONED_CLIENTS = 0\n",
        "config.DATA_POISONING_PERCENTAGE = 1\n",
        "config.DATASET = MNISTDataset\n",
        "config.MODELNAME = config.MNIST_NAME\n",
        "config.NETWORK = MNISTCNN\n",
        "observer_config = ObserverConfiguration()\n",
        "observer_config.experiment_type = \"shap_fl_poisoned\"\n",
        "observer_config.experiment_id = 1\n",
        "observer_config.test = False\n",
        "observer_config.datasetObserverConfiguration = \"MNIST\"\n",
        "neutral_label = 2"
      ]
    },
    {
      "cell_type": "code",
      "execution_count": null,
      "id": "d7523594-78d7-4902-a244-98e371ed993c",
      "metadata": {
        "id": "d7523594-78d7-4902-a244-98e371ed993c"
      },
      "outputs": [],
      "source": [
        "# Google Colab Settigns\n",
        "config.TEMP = os.path.join('/content/drive/My Drive/Colab Notebooks/temp')\n",
        "config.FMNIST_DATASET_PATH = os.path.join('/content/data/fmnist')\n",
        "config.MNIST_DATASET_PATH = os.path.join('/content/data/mnist')\n",
        "config.CIFAR10_DATASET_PATH = os.path.join('/content/data/cifar10')\n",
        "config.VM_URL = \"none\""
      ]
    },
    {
      "cell_type": "code",
      "execution_count": null,
      "id": "b972cb31-adf5-4c27-808b-e151cecc3f90",
      "metadata": {
        "id": "b972cb31-adf5-4c27-808b-e151cecc3f90"
      },
      "outputs": [],
      "source": [
        "data = config.DATASET(config)\n",
        "shap_util = SHAPUtil(data.test_dataloader) \n",
        "server = Server(config, observer_config,data.train_dataloader, data.test_dataloader, shap_util)\n",
        "visualizer = Visualizer(shap_util)"
      ]
    },
    {
      "cell_type": "markdown",
      "id": "078b7a1b-9860-4cf6-a5bc-1b4ee4b80cf9",
      "metadata": {
        "jp-MarkdownHeadingCollapsed": true,
        "tags": [],
        "id": "078b7a1b-9860-4cf6-a5bc-1b4ee4b80cf9"
      },
      "source": [
        "## Experiment Setup "
      ]
    },
    {
      "cell_type": "code",
      "execution_count": null,
      "id": "0a070b8f-c3ee-43a8-8cf9-d6e1a791d57e",
      "metadata": {
        "id": "0a070b8f-c3ee-43a8-8cf9-d6e1a791d57e"
      },
      "outputs": [],
      "source": [
        "import numpy as np\n",
        "import copy\n",
        "import torch\n",
        "import os\n",
        "for i in range(200):\n",
        "    if (i+1) in [2, 5,10,75,100,200]:\n",
        "        file = \"./temp/models/ex6/MNIST_round_{}.model\".format(i+1)\n",
        "        if not os.path.exists(os.path.dirname(file)):\n",
        "                os.makedirs(os.path.dirname(file))\n",
        "        torch.save(server.net.state_dict(), file)\n",
        "    experiment_util.set_rounds(client_plane, server, i+1)\n",
        "    experiment_util.run_round(client_plane, server, i+1)"
      ]
    },
    {
      "cell_type": "markdown",
      "id": "53511113-cd4d-4f1e-afa1-238e6905f4d6",
      "metadata": {
        "jp-MarkdownHeadingCollapsed": true,
        "tags": [],
        "id": "53511113-cd4d-4f1e-afa1-238e6905f4d6"
      },
      "source": [
        "## Experiment"
      ]
    },
    {
      "cell_type": "code",
      "execution_count": null,
      "id": "3d857037-940c-4081-bc0f-bb14a64df276",
      "metadata": {
        "id": "3d857037-940c-4081-bc0f-bb14a64df276"
      },
      "outputs": [],
      "source": [
        "import torch\n",
        "config.FROM_LABEL = 1\n",
        "config.TO_LABEL = 7\n",
        "shap_images = [config.FROM_LABEL ,config.TO_LABEL]\n",
        "for j in [100]:\n",
        "    data = config.DATASET(config)\n",
        "    client_plane = ClientPlane(config, observer_config, data, shap_util)\n",
        "    model_file = \"./temp/models/ex5/MNIST_round_{}.model\".format(j)\n",
        "    server.net =  MNISTCNN()\n",
        "    server.net.load_state_dict(torch.load(model_file))\n",
        "\n",
        "    server.test()\n",
        "    recall, precision, accuracy = server.analize_test()\n",
        "    print(\"Original\", recall, precision, accuracy)\n",
        "    server_shap = server.get_shap_values()\n",
        "\n",
        "    config.POISONED_CLIENTS = 100\n",
        "    experiment_util.update_configs(client_plane, server, config, observer_config)\n",
        "    print(len(client_plane.clients[0].train_dataloader.dataset.dataset.targets[client_plane.clients[0].train_dataloader.dataset.dataset.targets == 5]))\n",
        "\n",
        "    client_plane.poison_clients()\n",
        "    clean_clients = experiment_util.select_random_clean(client_plane, config, 100)\n",
        "    poisoned_clients = experiment_util.select_poisoned(client_plane, 100)\n",
        "\n",
        "    clean_distance = []\n",
        "    poisoned_distance = []\n",
        "    print(\"Clean\")\n",
        "    for i in clean_clients[:2]:\n",
        "        client_plane.update_clients(server.get_nn_parameters())\n",
        "        client_plane.clients[i].train(j+1)\n",
        "        clean_client_shap = client_plane.clients[i].get_shap_values()\n",
        "        clean_distance.append(cos_similarity_values(clean_client_shap, server_shap))\n",
        "\n",
        "    print(\"Poisoned\")\n",
        "    server.net =  MNISTCNN()\n",
        "    server.net.load_state_dict(torch.load(model_file))\n",
        "    for i in poisoned_clients[:2]:\n",
        "        client_plane.update_clients(server.get_nn_parameters())    \n",
        "        client_plane.clients[i].train(j+1)\n",
        "        poisoned_client_shap = client_plane.clients[i].get_shap_values()\n",
        "        poisoned_distance.append(cos_similarity_values(poisoned_client_shap, server_shap))\n",
        "    print(len(client_plane.clients[poisoned_clients[0]].train_dataloader.dataset.dataset.targets[client_plane.clients[poisoned_clients[0]].train_dataloader.dataset.dataset.targets == 5]))\n",
        "\n",
        "    client_plane.reset_default_client_nets()\n",
        "    client_plane.reset_poisoning_attack()"
      ]
    },
    {
      "cell_type": "markdown",
      "id": "a266a1b2-03b6-47d9-a3df-f7b031b3ee3e",
      "metadata": {
        "id": "a266a1b2-03b6-47d9-a3df-f7b031b3ee3e"
      },
      "source": [
        "# Fashion MNIST"
      ]
    },
    {
      "cell_type": "code",
      "execution_count": 4,
      "id": "68aff4bd-5c29-49fd-9a9c-5139699e19cc",
      "metadata": {
        "id": "68aff4bd-5c29-49fd-9a9c-5139699e19cc"
      },
      "outputs": [],
      "source": [
        "from federated_learning.nets import FMNISTCNN\n",
        "from federated_learning.dataset import FMNISTDataset\n",
        "import os\n",
        "config = Configuration()\n",
        "config.POISONED_CLIENTS = 0\n",
        "config.DATA_POISONING_PERCENTAGE = 1\n",
        "config.DATASET = FMNISTDataset\n",
        "config.MODELNAME = config.FMNIST_NAME\n",
        "config.NETWORK = FMNISTCNN\n",
        "observer_config = ObserverConfiguration()\n",
        "observer_config.experiment_type = \"shap_fl_poisoned\"\n",
        "observer_config.experiment_id = 1\n",
        "observer_config.test = False\n",
        "observer_config.datasetObserverConfiguration = \"MNIST\"\n",
        "neutral_label = 2"
      ]
    },
    {
      "cell_type": "code",
      "execution_count": 6,
      "id": "40c9a121-61f6-4066-bdfc-07e923bb7d6e",
      "metadata": {
        "id": "40c9a121-61f6-4066-bdfc-07e923bb7d6e"
      },
      "outputs": [],
      "source": [
        "# Google Colab Settigns\n",
        "config.TEMP = os.path.join('/content/drive/My Drive/Colab Notebooks/temp')\n",
        "config.FMNIST_DATASET_PATH = os.path.join('/content/data/fmnist')\n",
        "config.MNIST_DATASET_PATH = os.path.join('/content/data/mnist')\n",
        "config.CIFAR10_DATASET_PATH = os.path.join('/content/data/cifar10')\n",
        "config.VM_URL = \"none\""
      ]
    },
    {
      "cell_type": "code",
      "execution_count": 7,
      "id": "41fb51e7-cf94-4c2c-8cff-b48065fecce0",
      "metadata": {
        "id": "41fb51e7-cf94-4c2c-8cff-b48065fecce0",
        "outputId": "dbb3fe9d-4a71-4034-f308-16dfc051f04b",
        "colab": {
          "base_uri": "https://localhost:8080/",
          "height": 502,
          "referenced_widgets": [
            "1dcaf7c5b65d4b61975e9c45f88bf03e",
            "bf71b563a9084e89a251c6957945d2e1",
            "ea2a3c221dc64525812aa71ddb49bb98",
            "7e35a2a7e8b64b4cb54672538917a0e3",
            "b6369e7eeb4d4fbfaeb7246954f85812",
            "bf768cc6ad354707976ac59e999a4587",
            "ab3bc383b9cf447a9dd1f6f48bb24a4c",
            "3aa79f9d2b954cc39b23f3ce1fa36c07",
            "d25bb6c7c49b49448ee82796f98ff3fd",
            "18e1586dacee4396b235ab4bca2ec1b5",
            "9610f2e646fc49fc9c29162d74a38940",
            "f53e640d8c614eb1aa7351fbf8d3c0ab",
            "50893fcf840f49229a7eb6a0fb82298e",
            "578d923f43fa403f8680273993e9b38b",
            "26be0f52d3cd4f25a650a2a408569eed",
            "b3139ba4cbb4465aa97825c7b149fcce",
            "2451fe9b510d4a1fbebf9026a5a33e36",
            "e52de8a3b477464394e6c7a1ecb851ec",
            "7fa5a72f22644a3082f42dcb5e6bc2e7",
            "073fc32ca58f4974b80a2540cab88dbf",
            "d6f8f4d222b84838bbf72636353547e6",
            "a0922c838781421cb1935a86f3bbd69f",
            "1a45918d1717496085b3c7612310afba",
            "87065afc1f494f3bb4c7edad03c7c6ca",
            "d12eddb004614588818205cd3564ca57",
            "088ab9ccf2424a00acfc1acbfa98873d",
            "8cb8d050ee7c49468932d2e2cc1f295c",
            "1a9ac40289d4456bb0692b07002011ee",
            "c71a918370dd4ba2aa2604827eaa3968",
            "f5df7bb50dbe4a3a8136a4fc6332a3bd",
            "0ad6516676e147339fa9a6f278940b8c",
            "cd4ff9a4f0404f39b816f2d19037d7c1",
            "a5f7ad828e68486abc8f8e5654dcaa65",
            "ce540e72c83e4b9eabb0a1f7569717e4",
            "36d74e8fd6af4787adb9ecf5630a031f",
            "8d83220577cb46f893fd609f309c50c5",
            "2fab7ba96fa84cf7a9cb6f9d07fbe3a9",
            "33d7da08cef14e3dba26129ba61dd16d",
            "0b4fc39514fe4df588146fb7943f6842",
            "9f0d13dc51c8467c8514497d465c6047",
            "e9d3a3da30a2473c94a5959ffda55f81",
            "0c44df7d4ac045439a2c5f433287f34b",
            "439d31ec160d4e92a00d827794d77a98",
            "af9affa4f5bc47328b5a00b121124646"
          ]
        }
      },
      "outputs": [
        {
          "output_type": "stream",
          "name": "stdout",
          "text": [
            "Downloading http://fashion-mnist.s3-website.eu-central-1.amazonaws.com/train-images-idx3-ubyte.gz\n",
            "Downloading http://fashion-mnist.s3-website.eu-central-1.amazonaws.com/train-images-idx3-ubyte.gz to /content/data/fmnist/FashionMNIST/raw/train-images-idx3-ubyte.gz\n"
          ]
        },
        {
          "output_type": "display_data",
          "data": {
            "text/plain": [
              "  0%|          | 0/26421880 [00:00<?, ?it/s]"
            ],
            "application/vnd.jupyter.widget-view+json": {
              "version_major": 2,
              "version_minor": 0,
              "model_id": "1dcaf7c5b65d4b61975e9c45f88bf03e"
            }
          },
          "metadata": {}
        },
        {
          "output_type": "stream",
          "name": "stdout",
          "text": [
            "Extracting /content/data/fmnist/FashionMNIST/raw/train-images-idx3-ubyte.gz to /content/data/fmnist/FashionMNIST/raw\n",
            "\n",
            "Downloading http://fashion-mnist.s3-website.eu-central-1.amazonaws.com/train-labels-idx1-ubyte.gz\n",
            "Downloading http://fashion-mnist.s3-website.eu-central-1.amazonaws.com/train-labels-idx1-ubyte.gz to /content/data/fmnist/FashionMNIST/raw/train-labels-idx1-ubyte.gz\n"
          ]
        },
        {
          "output_type": "display_data",
          "data": {
            "text/plain": [
              "  0%|          | 0/29515 [00:00<?, ?it/s]"
            ],
            "application/vnd.jupyter.widget-view+json": {
              "version_major": 2,
              "version_minor": 0,
              "model_id": "f53e640d8c614eb1aa7351fbf8d3c0ab"
            }
          },
          "metadata": {}
        },
        {
          "output_type": "stream",
          "name": "stdout",
          "text": [
            "Extracting /content/data/fmnist/FashionMNIST/raw/train-labels-idx1-ubyte.gz to /content/data/fmnist/FashionMNIST/raw\n",
            "\n",
            "Downloading http://fashion-mnist.s3-website.eu-central-1.amazonaws.com/t10k-images-idx3-ubyte.gz\n",
            "Downloading http://fashion-mnist.s3-website.eu-central-1.amazonaws.com/t10k-images-idx3-ubyte.gz to /content/data/fmnist/FashionMNIST/raw/t10k-images-idx3-ubyte.gz\n"
          ]
        },
        {
          "output_type": "display_data",
          "data": {
            "text/plain": [
              "  0%|          | 0/4422102 [00:00<?, ?it/s]"
            ],
            "application/vnd.jupyter.widget-view+json": {
              "version_major": 2,
              "version_minor": 0,
              "model_id": "1a45918d1717496085b3c7612310afba"
            }
          },
          "metadata": {}
        },
        {
          "output_type": "stream",
          "name": "stdout",
          "text": [
            "Extracting /content/data/fmnist/FashionMNIST/raw/t10k-images-idx3-ubyte.gz to /content/data/fmnist/FashionMNIST/raw\n",
            "\n",
            "Downloading http://fashion-mnist.s3-website.eu-central-1.amazonaws.com/t10k-labels-idx1-ubyte.gz\n",
            "Downloading http://fashion-mnist.s3-website.eu-central-1.amazonaws.com/t10k-labels-idx1-ubyte.gz to /content/data/fmnist/FashionMNIST/raw/t10k-labels-idx1-ubyte.gz\n"
          ]
        },
        {
          "output_type": "display_data",
          "data": {
            "text/plain": [
              "  0%|          | 0/5148 [00:00<?, ?it/s]"
            ],
            "application/vnd.jupyter.widget-view+json": {
              "version_major": 2,
              "version_minor": 0,
              "model_id": "ce540e72c83e4b9eabb0a1f7569717e4"
            }
          },
          "metadata": {}
        },
        {
          "output_type": "stream",
          "name": "stdout",
          "text": [
            "Extracting /content/data/fmnist/FashionMNIST/raw/t10k-labels-idx1-ubyte.gz to /content/data/fmnist/FashionMNIST/raw\n",
            "\n",
            "FashionMnist training data loaded.\n",
            "FashionMnist training data loaded.\n",
            "Create 200 clients with dataset of size 300\n"
          ]
        }
      ],
      "source": [
        "data = config.DATASET(config)\n",
        "shap_util = SHAPUtil(data.test_dataloader) \n",
        "server = Server(config, observer_config,data.train_dataloader, data.test_dataloader, shap_util)\n",
        "client_plane = ClientPlane(config, observer_config, data, shap_util)\n",
        "visualizer = Visualizer(shap_util)"
      ]
    },
    {
      "cell_type": "markdown",
      "source": [
        "## Experiment Setup"
      ],
      "metadata": {
        "id": "B7gCRDQJERCp"
      },
      "id": "B7gCRDQJERCp"
    },
    {
      "cell_type": "code",
      "execution_count": null,
      "id": "6bf856de-9c7d-428f-a02d-22b950def20a",
      "metadata": {
        "id": "6bf856de-9c7d-428f-a02d-22b950def20a"
      },
      "outputs": [],
      "source": [
        "import numpy as np\n",
        "import copy\n",
        "import torch\n",
        "import os\n",
        "for i in range(200):\n",
        "    if (i+1) in [2, 5,10,75,100,200]:\n",
        "        file = \"/content/drive/My Drive/Colab Notebooks/temp/models/ex6/FMNIST_round_{}.model\".format(i+1)\n",
        "        if not os.path.exists(os.path.dirname(file)):\n",
        "                os.makedirs(os.path.dirname(file))\n",
        "        torch.save(server.net.state_dict(), file)\n",
        "    experiment_util.set_rounds(client_plane, server, i+1)\n",
        "    experiment_util.run_round(client_plane, server, i+1)"
      ]
    },
    {
      "cell_type": "markdown",
      "source": [
        "## Experiment"
      ],
      "metadata": {
        "id": "6TqcbrKaEWLW"
      },
      "id": "6TqcbrKaEWLW"
    },
    {
      "cell_type": "code",
      "execution_count": 18,
      "id": "624de3f9-1c93-4a91-b05d-5b655d75d15b",
      "metadata": {
        "id": "624de3f9-1c93-4a91-b05d-5b655d75d15b",
        "outputId": "a971758a-19d8-4ad6-a136-c9806dd5dfc5",
        "colab": {
          "base_uri": "https://localhost:8080/"
        }
      },
      "outputs": [
        {
          "output_type": "stream",
          "name": "stdout",
          "text": [
            "FashionMnist training data loaded.\n",
            "FashionMnist training data loaded.\n",
            "Create 200 clients with dataset of size 300\n"
          ]
        },
        {
          "output_type": "stream",
          "name": "stderr",
          "text": [
            "dropout2d: Received a 2-D input to dropout2d, which is deprecated and will result in an error in a future release. To retain the behavior and silence this warning, please use dropout instead. Note that dropout2d exists to provide channel-wise dropout on inputs with 2 spatial dimensions, a channel dimension, and an optional batch dimension (i.e. 3D or 4D inputs).\n"
          ]
        },
        {
          "output_type": "stream",
          "name": "stdout",
          "text": [
            "\n",
            "Test set: Average loss: 0.0003, Accuracy: 8795/10000 (88%)\n",
            "\n",
            "Original tensor([0.8440, 0.9670, 0.8130, 0.9140, 0.7210, 0.9520, 0.7060, 0.9770, 0.9760,\n",
            "        0.9250]) tensor([0.8299, 0.9928, 0.8082, 0.8615, 0.8472, 0.9835, 0.6537, 0.8955, 0.9721,\n",
            "        0.9757]) 0.8795\n"
          ]
        },
        {
          "output_type": "stream",
          "name": "stderr",
          "text": [
            "Using a non-full backward hook when the forward contains multiple autograd Nodes is deprecated and will be removed in future versions. This hook will be missing some grad_input. Please use register_full_backward_hook to get the documented behavior.\n",
            "Note that order of the arguments: ceil_mode and return_indices will changeto match the args list in nn.MaxPool2d in a future release.\n"
          ]
        },
        {
          "output_type": "stream",
          "name": "stdout",
          "text": [
            "6000\n",
            "Poison 100/200 clients\n",
            "Flip 100.0% of the 5 labels to 4\n",
            "[155  92  58  33 195  32  67 181 102 145 170 103 190  41  17 117  13  12\n",
            "  55 160 167 125  22 158  69  52  70 131  59  16  60 191 127  76 140  45\n",
            " 138  66 119  11  38 133 188  31  24 173 147  99  71 189  93  54 151 134\n",
            "  53  29  48 110 123 156  75  63 142  51  68 132  20  23  18  91 108 154\n",
            "  83 157 113 121  72 124 114   0 199  79 135 162 126   2  21  27  40 149\n",
            " 172 169 152   8  87 116 148  62   1 101]\n",
            "20/100 clients poisoned\n",
            "40/100 clients poisoned\n",
            "60/100 clients poisoned\n",
            "80/100 clients poisoned\n",
            "100/100 clients poisoned\n",
            "Clean\n",
            "14.109030421788843\n",
            "9.748230516225814\n",
            "2977\n",
            "Poisoned\n",
            "21.512542489264565\n",
            "20.959055493472633\n",
            "Load default model successfully\n",
            "20/200 clients cleaned\n",
            "40/200 clients cleaned\n",
            "60/200 clients cleaned\n",
            "80/200 clients cleaned\n",
            "100/200 clients cleaned\n",
            "120/200 clients cleaned\n",
            "140/200 clients cleaned\n",
            "160/200 clients cleaned\n",
            "180/200 clients cleaned\n",
            "200/200 clients cleaned\n",
            "Cleaning successfully\n",
            "tensor([5, 5, 5, 5, 5, 5, 5, 5, 5, 5, 5, 5, 5, 5, 5, 5, 5, 5, 5, 5, 5, 5, 5, 5,\n",
            "        5, 5, 5, 5, 5, 5, 5, 5, 5, 5, 5, 5])\n",
            "6000\n"
          ]
        }
      ],
      "source": [
        "import torch\n",
        "config.FROM_LABEL = 5\n",
        "config.TO_LABEL = 4\n",
        "shap_images = [config.FROM_LABEL ,config.TO_LABEL]\n",
        "\n",
        "for j in [100]:\n",
        "    data = config.DATASET(config)\n",
        "    client_plane = ClientPlane(config, observer_config, data, shap_util)\n",
        "    model_file = file = \"/content/drive/My Drive/Colab Notebooks/temp/models/ex6/FMNIST_round_{}.model\".format(j)\n",
        "    server.net =  FMNISTCNN()\n",
        "    server.net.load_state_dict(torch.load(model_file))\n",
        "    server.test()\n",
        "    recall, precision, accuracy = server.analize_test()\n",
        "    print(\"Original\", recall, precision, accuracy)\n",
        "    server_shap = server.get_shap_values()\n",
        "    print(len(client_plane.clients[0].train_dataloader.dataset.dataset.targets[client_plane.clients[0].train_dataloader.dataset.dataset.targets == 5]))\n",
        "    config.POISONED_CLIENTS = 100\n",
        "    experiment_util.update_configs(client_plane, server, config, observer_config)\n",
        "    client_plane.poison_clients()\n",
        "    clean_clients = experiment_util.select_random_clean(client_plane, config, 100)\n",
        "    poisoned_clients = experiment_util.select_poisoned(client_plane, 100)\n",
        "    \n",
        "    print(\"Clean\")\n",
        "    for i in clean_clients[:2]:\n",
        "        client_plane.update_clients(server.get_nn_parameters())\n",
        "        client_plane.clients[i].train(j+1)\n",
        "        clean_client_shap = client_plane.clients[i].get_shap_values()\n",
        "        cos_similarity_values(clean_client_shap, server_shap)\n",
        "    print(len(client_plane.clients[poisoned_clients[0]].train_dataloader.dataset.dataset.targets[client_plane.clients[poisoned_clients[0]].train_dataloader.dataset.dataset.targets == 5]))\n",
        "\n",
        "    print(\"Poisoned\")\n",
        "    server.net =  FMNISTCNN()\n",
        "    server.net.load_state_dict(torch.load(model_file))\n",
        "    for i in poisoned_clients[:2]:\n",
        "        client_plane.update_clients(server.get_nn_parameters())    \n",
        "        client_plane.clients[i].train(j+1)\n",
        "        poisoned_client_shap = client_plane.clients[i].get_shap_values()\n",
        "        cos_similarity_values(poisoned_client_shap, server_shap)\n",
        "    client_plane.reset_default_client_nets()\n",
        "    client_plane.reset_poisoning_attack()\n",
        "    print(client_plane.clients[poisoned_clients[0]].train_dataloader.dataset.dataset.targets[client_plane.clients[poisoned_clients[0]].poisoning_indices])\n",
        "    print(len(client_plane.clients[poisoned_clients[0]].train_dataloader.dataset.dataset.targets[client_plane.clients[poisoned_clients[0]].train_dataloader.dataset.dataset.targets == 5]))"
      ]
    }
  ],
  "metadata": {
    "kernelspec": {
      "display_name": "Python 3 (ipykernel)",
      "language": "python",
      "name": "python3"
    },
    "language_info": {
      "codemirror_mode": {
        "name": "ipython",
        "version": 3
      },
      "file_extension": ".py",
      "mimetype": "text/x-python",
      "name": "python",
      "nbconvert_exporter": "python",
      "pygments_lexer": "ipython3",
      "version": "3.9.12"
    },
    "colab": {
      "name": "differences_feature_engineering_shap_values_ex3.ipynb",
      "provenance": []
    },
    "widgets": {
      "application/vnd.jupyter.widget-state+json": {
        "1dcaf7c5b65d4b61975e9c45f88bf03e": {
          "model_module": "@jupyter-widgets/controls",
          "model_name": "HBoxModel",
          "model_module_version": "1.5.0",
          "state": {
            "_dom_classes": [],
            "_model_module": "@jupyter-widgets/controls",
            "_model_module_version": "1.5.0",
            "_model_name": "HBoxModel",
            "_view_count": null,
            "_view_module": "@jupyter-widgets/controls",
            "_view_module_version": "1.5.0",
            "_view_name": "HBoxView",
            "box_style": "",
            "children": [
              "IPY_MODEL_bf71b563a9084e89a251c6957945d2e1",
              "IPY_MODEL_ea2a3c221dc64525812aa71ddb49bb98",
              "IPY_MODEL_7e35a2a7e8b64b4cb54672538917a0e3"
            ],
            "layout": "IPY_MODEL_b6369e7eeb4d4fbfaeb7246954f85812"
          }
        },
        "bf71b563a9084e89a251c6957945d2e1": {
          "model_module": "@jupyter-widgets/controls",
          "model_name": "HTMLModel",
          "model_module_version": "1.5.0",
          "state": {
            "_dom_classes": [],
            "_model_module": "@jupyter-widgets/controls",
            "_model_module_version": "1.5.0",
            "_model_name": "HTMLModel",
            "_view_count": null,
            "_view_module": "@jupyter-widgets/controls",
            "_view_module_version": "1.5.0",
            "_view_name": "HTMLView",
            "description": "",
            "description_tooltip": null,
            "layout": "IPY_MODEL_bf768cc6ad354707976ac59e999a4587",
            "placeholder": "​",
            "style": "IPY_MODEL_ab3bc383b9cf447a9dd1f6f48bb24a4c",
            "value": ""
          }
        },
        "ea2a3c221dc64525812aa71ddb49bb98": {
          "model_module": "@jupyter-widgets/controls",
          "model_name": "FloatProgressModel",
          "model_module_version": "1.5.0",
          "state": {
            "_dom_classes": [],
            "_model_module": "@jupyter-widgets/controls",
            "_model_module_version": "1.5.0",
            "_model_name": "FloatProgressModel",
            "_view_count": null,
            "_view_module": "@jupyter-widgets/controls",
            "_view_module_version": "1.5.0",
            "_view_name": "ProgressView",
            "bar_style": "success",
            "description": "",
            "description_tooltip": null,
            "layout": "IPY_MODEL_3aa79f9d2b954cc39b23f3ce1fa36c07",
            "max": 26421880,
            "min": 0,
            "orientation": "horizontal",
            "style": "IPY_MODEL_d25bb6c7c49b49448ee82796f98ff3fd",
            "value": 26421880
          }
        },
        "7e35a2a7e8b64b4cb54672538917a0e3": {
          "model_module": "@jupyter-widgets/controls",
          "model_name": "HTMLModel",
          "model_module_version": "1.5.0",
          "state": {
            "_dom_classes": [],
            "_model_module": "@jupyter-widgets/controls",
            "_model_module_version": "1.5.0",
            "_model_name": "HTMLModel",
            "_view_count": null,
            "_view_module": "@jupyter-widgets/controls",
            "_view_module_version": "1.5.0",
            "_view_name": "HTMLView",
            "description": "",
            "description_tooltip": null,
            "layout": "IPY_MODEL_18e1586dacee4396b235ab4bca2ec1b5",
            "placeholder": "​",
            "style": "IPY_MODEL_9610f2e646fc49fc9c29162d74a38940",
            "value": " 26422272/? [00:14&lt;00:00, 5954545.16it/s]"
          }
        },
        "b6369e7eeb4d4fbfaeb7246954f85812": {
          "model_module": "@jupyter-widgets/base",
          "model_name": "LayoutModel",
          "model_module_version": "1.2.0",
          "state": {
            "_model_module": "@jupyter-widgets/base",
            "_model_module_version": "1.2.0",
            "_model_name": "LayoutModel",
            "_view_count": null,
            "_view_module": "@jupyter-widgets/base",
            "_view_module_version": "1.2.0",
            "_view_name": "LayoutView",
            "align_content": null,
            "align_items": null,
            "align_self": null,
            "border": null,
            "bottom": null,
            "display": null,
            "flex": null,
            "flex_flow": null,
            "grid_area": null,
            "grid_auto_columns": null,
            "grid_auto_flow": null,
            "grid_auto_rows": null,
            "grid_column": null,
            "grid_gap": null,
            "grid_row": null,
            "grid_template_areas": null,
            "grid_template_columns": null,
            "grid_template_rows": null,
            "height": null,
            "justify_content": null,
            "justify_items": null,
            "left": null,
            "margin": null,
            "max_height": null,
            "max_width": null,
            "min_height": null,
            "min_width": null,
            "object_fit": null,
            "object_position": null,
            "order": null,
            "overflow": null,
            "overflow_x": null,
            "overflow_y": null,
            "padding": null,
            "right": null,
            "top": null,
            "visibility": null,
            "width": null
          }
        },
        "bf768cc6ad354707976ac59e999a4587": {
          "model_module": "@jupyter-widgets/base",
          "model_name": "LayoutModel",
          "model_module_version": "1.2.0",
          "state": {
            "_model_module": "@jupyter-widgets/base",
            "_model_module_version": "1.2.0",
            "_model_name": "LayoutModel",
            "_view_count": null,
            "_view_module": "@jupyter-widgets/base",
            "_view_module_version": "1.2.0",
            "_view_name": "LayoutView",
            "align_content": null,
            "align_items": null,
            "align_self": null,
            "border": null,
            "bottom": null,
            "display": null,
            "flex": null,
            "flex_flow": null,
            "grid_area": null,
            "grid_auto_columns": null,
            "grid_auto_flow": null,
            "grid_auto_rows": null,
            "grid_column": null,
            "grid_gap": null,
            "grid_row": null,
            "grid_template_areas": null,
            "grid_template_columns": null,
            "grid_template_rows": null,
            "height": null,
            "justify_content": null,
            "justify_items": null,
            "left": null,
            "margin": null,
            "max_height": null,
            "max_width": null,
            "min_height": null,
            "min_width": null,
            "object_fit": null,
            "object_position": null,
            "order": null,
            "overflow": null,
            "overflow_x": null,
            "overflow_y": null,
            "padding": null,
            "right": null,
            "top": null,
            "visibility": null,
            "width": null
          }
        },
        "ab3bc383b9cf447a9dd1f6f48bb24a4c": {
          "model_module": "@jupyter-widgets/controls",
          "model_name": "DescriptionStyleModel",
          "model_module_version": "1.5.0",
          "state": {
            "_model_module": "@jupyter-widgets/controls",
            "_model_module_version": "1.5.0",
            "_model_name": "DescriptionStyleModel",
            "_view_count": null,
            "_view_module": "@jupyter-widgets/base",
            "_view_module_version": "1.2.0",
            "_view_name": "StyleView",
            "description_width": ""
          }
        },
        "3aa79f9d2b954cc39b23f3ce1fa36c07": {
          "model_module": "@jupyter-widgets/base",
          "model_name": "LayoutModel",
          "model_module_version": "1.2.0",
          "state": {
            "_model_module": "@jupyter-widgets/base",
            "_model_module_version": "1.2.0",
            "_model_name": "LayoutModel",
            "_view_count": null,
            "_view_module": "@jupyter-widgets/base",
            "_view_module_version": "1.2.0",
            "_view_name": "LayoutView",
            "align_content": null,
            "align_items": null,
            "align_self": null,
            "border": null,
            "bottom": null,
            "display": null,
            "flex": null,
            "flex_flow": null,
            "grid_area": null,
            "grid_auto_columns": null,
            "grid_auto_flow": null,
            "grid_auto_rows": null,
            "grid_column": null,
            "grid_gap": null,
            "grid_row": null,
            "grid_template_areas": null,
            "grid_template_columns": null,
            "grid_template_rows": null,
            "height": null,
            "justify_content": null,
            "justify_items": null,
            "left": null,
            "margin": null,
            "max_height": null,
            "max_width": null,
            "min_height": null,
            "min_width": null,
            "object_fit": null,
            "object_position": null,
            "order": null,
            "overflow": null,
            "overflow_x": null,
            "overflow_y": null,
            "padding": null,
            "right": null,
            "top": null,
            "visibility": null,
            "width": null
          }
        },
        "d25bb6c7c49b49448ee82796f98ff3fd": {
          "model_module": "@jupyter-widgets/controls",
          "model_name": "ProgressStyleModel",
          "model_module_version": "1.5.0",
          "state": {
            "_model_module": "@jupyter-widgets/controls",
            "_model_module_version": "1.5.0",
            "_model_name": "ProgressStyleModel",
            "_view_count": null,
            "_view_module": "@jupyter-widgets/base",
            "_view_module_version": "1.2.0",
            "_view_name": "StyleView",
            "bar_color": null,
            "description_width": ""
          }
        },
        "18e1586dacee4396b235ab4bca2ec1b5": {
          "model_module": "@jupyter-widgets/base",
          "model_name": "LayoutModel",
          "model_module_version": "1.2.0",
          "state": {
            "_model_module": "@jupyter-widgets/base",
            "_model_module_version": "1.2.0",
            "_model_name": "LayoutModel",
            "_view_count": null,
            "_view_module": "@jupyter-widgets/base",
            "_view_module_version": "1.2.0",
            "_view_name": "LayoutView",
            "align_content": null,
            "align_items": null,
            "align_self": null,
            "border": null,
            "bottom": null,
            "display": null,
            "flex": null,
            "flex_flow": null,
            "grid_area": null,
            "grid_auto_columns": null,
            "grid_auto_flow": null,
            "grid_auto_rows": null,
            "grid_column": null,
            "grid_gap": null,
            "grid_row": null,
            "grid_template_areas": null,
            "grid_template_columns": null,
            "grid_template_rows": null,
            "height": null,
            "justify_content": null,
            "justify_items": null,
            "left": null,
            "margin": null,
            "max_height": null,
            "max_width": null,
            "min_height": null,
            "min_width": null,
            "object_fit": null,
            "object_position": null,
            "order": null,
            "overflow": null,
            "overflow_x": null,
            "overflow_y": null,
            "padding": null,
            "right": null,
            "top": null,
            "visibility": null,
            "width": null
          }
        },
        "9610f2e646fc49fc9c29162d74a38940": {
          "model_module": "@jupyter-widgets/controls",
          "model_name": "DescriptionStyleModel",
          "model_module_version": "1.5.0",
          "state": {
            "_model_module": "@jupyter-widgets/controls",
            "_model_module_version": "1.5.0",
            "_model_name": "DescriptionStyleModel",
            "_view_count": null,
            "_view_module": "@jupyter-widgets/base",
            "_view_module_version": "1.2.0",
            "_view_name": "StyleView",
            "description_width": ""
          }
        },
        "f53e640d8c614eb1aa7351fbf8d3c0ab": {
          "model_module": "@jupyter-widgets/controls",
          "model_name": "HBoxModel",
          "model_module_version": "1.5.0",
          "state": {
            "_dom_classes": [],
            "_model_module": "@jupyter-widgets/controls",
            "_model_module_version": "1.5.0",
            "_model_name": "HBoxModel",
            "_view_count": null,
            "_view_module": "@jupyter-widgets/controls",
            "_view_module_version": "1.5.0",
            "_view_name": "HBoxView",
            "box_style": "",
            "children": [
              "IPY_MODEL_50893fcf840f49229a7eb6a0fb82298e",
              "IPY_MODEL_578d923f43fa403f8680273993e9b38b",
              "IPY_MODEL_26be0f52d3cd4f25a650a2a408569eed"
            ],
            "layout": "IPY_MODEL_b3139ba4cbb4465aa97825c7b149fcce"
          }
        },
        "50893fcf840f49229a7eb6a0fb82298e": {
          "model_module": "@jupyter-widgets/controls",
          "model_name": "HTMLModel",
          "model_module_version": "1.5.0",
          "state": {
            "_dom_classes": [],
            "_model_module": "@jupyter-widgets/controls",
            "_model_module_version": "1.5.0",
            "_model_name": "HTMLModel",
            "_view_count": null,
            "_view_module": "@jupyter-widgets/controls",
            "_view_module_version": "1.5.0",
            "_view_name": "HTMLView",
            "description": "",
            "description_tooltip": null,
            "layout": "IPY_MODEL_2451fe9b510d4a1fbebf9026a5a33e36",
            "placeholder": "​",
            "style": "IPY_MODEL_e52de8a3b477464394e6c7a1ecb851ec",
            "value": ""
          }
        },
        "578d923f43fa403f8680273993e9b38b": {
          "model_module": "@jupyter-widgets/controls",
          "model_name": "FloatProgressModel",
          "model_module_version": "1.5.0",
          "state": {
            "_dom_classes": [],
            "_model_module": "@jupyter-widgets/controls",
            "_model_module_version": "1.5.0",
            "_model_name": "FloatProgressModel",
            "_view_count": null,
            "_view_module": "@jupyter-widgets/controls",
            "_view_module_version": "1.5.0",
            "_view_name": "ProgressView",
            "bar_style": "success",
            "description": "",
            "description_tooltip": null,
            "layout": "IPY_MODEL_7fa5a72f22644a3082f42dcb5e6bc2e7",
            "max": 29515,
            "min": 0,
            "orientation": "horizontal",
            "style": "IPY_MODEL_073fc32ca58f4974b80a2540cab88dbf",
            "value": 29515
          }
        },
        "26be0f52d3cd4f25a650a2a408569eed": {
          "model_module": "@jupyter-widgets/controls",
          "model_name": "HTMLModel",
          "model_module_version": "1.5.0",
          "state": {
            "_dom_classes": [],
            "_model_module": "@jupyter-widgets/controls",
            "_model_module_version": "1.5.0",
            "_model_name": "HTMLModel",
            "_view_count": null,
            "_view_module": "@jupyter-widgets/controls",
            "_view_module_version": "1.5.0",
            "_view_name": "HTMLView",
            "description": "",
            "description_tooltip": null,
            "layout": "IPY_MODEL_d6f8f4d222b84838bbf72636353547e6",
            "placeholder": "​",
            "style": "IPY_MODEL_a0922c838781421cb1935a86f3bbd69f",
            "value": " 29696/? [00:00&lt;00:00, 56095.54it/s]"
          }
        },
        "b3139ba4cbb4465aa97825c7b149fcce": {
          "model_module": "@jupyter-widgets/base",
          "model_name": "LayoutModel",
          "model_module_version": "1.2.0",
          "state": {
            "_model_module": "@jupyter-widgets/base",
            "_model_module_version": "1.2.0",
            "_model_name": "LayoutModel",
            "_view_count": null,
            "_view_module": "@jupyter-widgets/base",
            "_view_module_version": "1.2.0",
            "_view_name": "LayoutView",
            "align_content": null,
            "align_items": null,
            "align_self": null,
            "border": null,
            "bottom": null,
            "display": null,
            "flex": null,
            "flex_flow": null,
            "grid_area": null,
            "grid_auto_columns": null,
            "grid_auto_flow": null,
            "grid_auto_rows": null,
            "grid_column": null,
            "grid_gap": null,
            "grid_row": null,
            "grid_template_areas": null,
            "grid_template_columns": null,
            "grid_template_rows": null,
            "height": null,
            "justify_content": null,
            "justify_items": null,
            "left": null,
            "margin": null,
            "max_height": null,
            "max_width": null,
            "min_height": null,
            "min_width": null,
            "object_fit": null,
            "object_position": null,
            "order": null,
            "overflow": null,
            "overflow_x": null,
            "overflow_y": null,
            "padding": null,
            "right": null,
            "top": null,
            "visibility": null,
            "width": null
          }
        },
        "2451fe9b510d4a1fbebf9026a5a33e36": {
          "model_module": "@jupyter-widgets/base",
          "model_name": "LayoutModel",
          "model_module_version": "1.2.0",
          "state": {
            "_model_module": "@jupyter-widgets/base",
            "_model_module_version": "1.2.0",
            "_model_name": "LayoutModel",
            "_view_count": null,
            "_view_module": "@jupyter-widgets/base",
            "_view_module_version": "1.2.0",
            "_view_name": "LayoutView",
            "align_content": null,
            "align_items": null,
            "align_self": null,
            "border": null,
            "bottom": null,
            "display": null,
            "flex": null,
            "flex_flow": null,
            "grid_area": null,
            "grid_auto_columns": null,
            "grid_auto_flow": null,
            "grid_auto_rows": null,
            "grid_column": null,
            "grid_gap": null,
            "grid_row": null,
            "grid_template_areas": null,
            "grid_template_columns": null,
            "grid_template_rows": null,
            "height": null,
            "justify_content": null,
            "justify_items": null,
            "left": null,
            "margin": null,
            "max_height": null,
            "max_width": null,
            "min_height": null,
            "min_width": null,
            "object_fit": null,
            "object_position": null,
            "order": null,
            "overflow": null,
            "overflow_x": null,
            "overflow_y": null,
            "padding": null,
            "right": null,
            "top": null,
            "visibility": null,
            "width": null
          }
        },
        "e52de8a3b477464394e6c7a1ecb851ec": {
          "model_module": "@jupyter-widgets/controls",
          "model_name": "DescriptionStyleModel",
          "model_module_version": "1.5.0",
          "state": {
            "_model_module": "@jupyter-widgets/controls",
            "_model_module_version": "1.5.0",
            "_model_name": "DescriptionStyleModel",
            "_view_count": null,
            "_view_module": "@jupyter-widgets/base",
            "_view_module_version": "1.2.0",
            "_view_name": "StyleView",
            "description_width": ""
          }
        },
        "7fa5a72f22644a3082f42dcb5e6bc2e7": {
          "model_module": "@jupyter-widgets/base",
          "model_name": "LayoutModel",
          "model_module_version": "1.2.0",
          "state": {
            "_model_module": "@jupyter-widgets/base",
            "_model_module_version": "1.2.0",
            "_model_name": "LayoutModel",
            "_view_count": null,
            "_view_module": "@jupyter-widgets/base",
            "_view_module_version": "1.2.0",
            "_view_name": "LayoutView",
            "align_content": null,
            "align_items": null,
            "align_self": null,
            "border": null,
            "bottom": null,
            "display": null,
            "flex": null,
            "flex_flow": null,
            "grid_area": null,
            "grid_auto_columns": null,
            "grid_auto_flow": null,
            "grid_auto_rows": null,
            "grid_column": null,
            "grid_gap": null,
            "grid_row": null,
            "grid_template_areas": null,
            "grid_template_columns": null,
            "grid_template_rows": null,
            "height": null,
            "justify_content": null,
            "justify_items": null,
            "left": null,
            "margin": null,
            "max_height": null,
            "max_width": null,
            "min_height": null,
            "min_width": null,
            "object_fit": null,
            "object_position": null,
            "order": null,
            "overflow": null,
            "overflow_x": null,
            "overflow_y": null,
            "padding": null,
            "right": null,
            "top": null,
            "visibility": null,
            "width": null
          }
        },
        "073fc32ca58f4974b80a2540cab88dbf": {
          "model_module": "@jupyter-widgets/controls",
          "model_name": "ProgressStyleModel",
          "model_module_version": "1.5.0",
          "state": {
            "_model_module": "@jupyter-widgets/controls",
            "_model_module_version": "1.5.0",
            "_model_name": "ProgressStyleModel",
            "_view_count": null,
            "_view_module": "@jupyter-widgets/base",
            "_view_module_version": "1.2.0",
            "_view_name": "StyleView",
            "bar_color": null,
            "description_width": ""
          }
        },
        "d6f8f4d222b84838bbf72636353547e6": {
          "model_module": "@jupyter-widgets/base",
          "model_name": "LayoutModel",
          "model_module_version": "1.2.0",
          "state": {
            "_model_module": "@jupyter-widgets/base",
            "_model_module_version": "1.2.0",
            "_model_name": "LayoutModel",
            "_view_count": null,
            "_view_module": "@jupyter-widgets/base",
            "_view_module_version": "1.2.0",
            "_view_name": "LayoutView",
            "align_content": null,
            "align_items": null,
            "align_self": null,
            "border": null,
            "bottom": null,
            "display": null,
            "flex": null,
            "flex_flow": null,
            "grid_area": null,
            "grid_auto_columns": null,
            "grid_auto_flow": null,
            "grid_auto_rows": null,
            "grid_column": null,
            "grid_gap": null,
            "grid_row": null,
            "grid_template_areas": null,
            "grid_template_columns": null,
            "grid_template_rows": null,
            "height": null,
            "justify_content": null,
            "justify_items": null,
            "left": null,
            "margin": null,
            "max_height": null,
            "max_width": null,
            "min_height": null,
            "min_width": null,
            "object_fit": null,
            "object_position": null,
            "order": null,
            "overflow": null,
            "overflow_x": null,
            "overflow_y": null,
            "padding": null,
            "right": null,
            "top": null,
            "visibility": null,
            "width": null
          }
        },
        "a0922c838781421cb1935a86f3bbd69f": {
          "model_module": "@jupyter-widgets/controls",
          "model_name": "DescriptionStyleModel",
          "model_module_version": "1.5.0",
          "state": {
            "_model_module": "@jupyter-widgets/controls",
            "_model_module_version": "1.5.0",
            "_model_name": "DescriptionStyleModel",
            "_view_count": null,
            "_view_module": "@jupyter-widgets/base",
            "_view_module_version": "1.2.0",
            "_view_name": "StyleView",
            "description_width": ""
          }
        },
        "1a45918d1717496085b3c7612310afba": {
          "model_module": "@jupyter-widgets/controls",
          "model_name": "HBoxModel",
          "model_module_version": "1.5.0",
          "state": {
            "_dom_classes": [],
            "_model_module": "@jupyter-widgets/controls",
            "_model_module_version": "1.5.0",
            "_model_name": "HBoxModel",
            "_view_count": null,
            "_view_module": "@jupyter-widgets/controls",
            "_view_module_version": "1.5.0",
            "_view_name": "HBoxView",
            "box_style": "",
            "children": [
              "IPY_MODEL_87065afc1f494f3bb4c7edad03c7c6ca",
              "IPY_MODEL_d12eddb004614588818205cd3564ca57",
              "IPY_MODEL_088ab9ccf2424a00acfc1acbfa98873d"
            ],
            "layout": "IPY_MODEL_8cb8d050ee7c49468932d2e2cc1f295c"
          }
        },
        "87065afc1f494f3bb4c7edad03c7c6ca": {
          "model_module": "@jupyter-widgets/controls",
          "model_name": "HTMLModel",
          "model_module_version": "1.5.0",
          "state": {
            "_dom_classes": [],
            "_model_module": "@jupyter-widgets/controls",
            "_model_module_version": "1.5.0",
            "_model_name": "HTMLModel",
            "_view_count": null,
            "_view_module": "@jupyter-widgets/controls",
            "_view_module_version": "1.5.0",
            "_view_name": "HTMLView",
            "description": "",
            "description_tooltip": null,
            "layout": "IPY_MODEL_1a9ac40289d4456bb0692b07002011ee",
            "placeholder": "​",
            "style": "IPY_MODEL_c71a918370dd4ba2aa2604827eaa3968",
            "value": ""
          }
        },
        "d12eddb004614588818205cd3564ca57": {
          "model_module": "@jupyter-widgets/controls",
          "model_name": "FloatProgressModel",
          "model_module_version": "1.5.0",
          "state": {
            "_dom_classes": [],
            "_model_module": "@jupyter-widgets/controls",
            "_model_module_version": "1.5.0",
            "_model_name": "FloatProgressModel",
            "_view_count": null,
            "_view_module": "@jupyter-widgets/controls",
            "_view_module_version": "1.5.0",
            "_view_name": "ProgressView",
            "bar_style": "success",
            "description": "",
            "description_tooltip": null,
            "layout": "IPY_MODEL_f5df7bb50dbe4a3a8136a4fc6332a3bd",
            "max": 4422102,
            "min": 0,
            "orientation": "horizontal",
            "style": "IPY_MODEL_0ad6516676e147339fa9a6f278940b8c",
            "value": 4422102
          }
        },
        "088ab9ccf2424a00acfc1acbfa98873d": {
          "model_module": "@jupyter-widgets/controls",
          "model_name": "HTMLModel",
          "model_module_version": "1.5.0",
          "state": {
            "_dom_classes": [],
            "_model_module": "@jupyter-widgets/controls",
            "_model_module_version": "1.5.0",
            "_model_name": "HTMLModel",
            "_view_count": null,
            "_view_module": "@jupyter-widgets/controls",
            "_view_module_version": "1.5.0",
            "_view_name": "HTMLView",
            "description": "",
            "description_tooltip": null,
            "layout": "IPY_MODEL_cd4ff9a4f0404f39b816f2d19037d7c1",
            "placeholder": "​",
            "style": "IPY_MODEL_a5f7ad828e68486abc8f8e5654dcaa65",
            "value": " 4422656/? [00:02&lt;00:00, 3496390.79it/s]"
          }
        },
        "8cb8d050ee7c49468932d2e2cc1f295c": {
          "model_module": "@jupyter-widgets/base",
          "model_name": "LayoutModel",
          "model_module_version": "1.2.0",
          "state": {
            "_model_module": "@jupyter-widgets/base",
            "_model_module_version": "1.2.0",
            "_model_name": "LayoutModel",
            "_view_count": null,
            "_view_module": "@jupyter-widgets/base",
            "_view_module_version": "1.2.0",
            "_view_name": "LayoutView",
            "align_content": null,
            "align_items": null,
            "align_self": null,
            "border": null,
            "bottom": null,
            "display": null,
            "flex": null,
            "flex_flow": null,
            "grid_area": null,
            "grid_auto_columns": null,
            "grid_auto_flow": null,
            "grid_auto_rows": null,
            "grid_column": null,
            "grid_gap": null,
            "grid_row": null,
            "grid_template_areas": null,
            "grid_template_columns": null,
            "grid_template_rows": null,
            "height": null,
            "justify_content": null,
            "justify_items": null,
            "left": null,
            "margin": null,
            "max_height": null,
            "max_width": null,
            "min_height": null,
            "min_width": null,
            "object_fit": null,
            "object_position": null,
            "order": null,
            "overflow": null,
            "overflow_x": null,
            "overflow_y": null,
            "padding": null,
            "right": null,
            "top": null,
            "visibility": null,
            "width": null
          }
        },
        "1a9ac40289d4456bb0692b07002011ee": {
          "model_module": "@jupyter-widgets/base",
          "model_name": "LayoutModel",
          "model_module_version": "1.2.0",
          "state": {
            "_model_module": "@jupyter-widgets/base",
            "_model_module_version": "1.2.0",
            "_model_name": "LayoutModel",
            "_view_count": null,
            "_view_module": "@jupyter-widgets/base",
            "_view_module_version": "1.2.0",
            "_view_name": "LayoutView",
            "align_content": null,
            "align_items": null,
            "align_self": null,
            "border": null,
            "bottom": null,
            "display": null,
            "flex": null,
            "flex_flow": null,
            "grid_area": null,
            "grid_auto_columns": null,
            "grid_auto_flow": null,
            "grid_auto_rows": null,
            "grid_column": null,
            "grid_gap": null,
            "grid_row": null,
            "grid_template_areas": null,
            "grid_template_columns": null,
            "grid_template_rows": null,
            "height": null,
            "justify_content": null,
            "justify_items": null,
            "left": null,
            "margin": null,
            "max_height": null,
            "max_width": null,
            "min_height": null,
            "min_width": null,
            "object_fit": null,
            "object_position": null,
            "order": null,
            "overflow": null,
            "overflow_x": null,
            "overflow_y": null,
            "padding": null,
            "right": null,
            "top": null,
            "visibility": null,
            "width": null
          }
        },
        "c71a918370dd4ba2aa2604827eaa3968": {
          "model_module": "@jupyter-widgets/controls",
          "model_name": "DescriptionStyleModel",
          "model_module_version": "1.5.0",
          "state": {
            "_model_module": "@jupyter-widgets/controls",
            "_model_module_version": "1.5.0",
            "_model_name": "DescriptionStyleModel",
            "_view_count": null,
            "_view_module": "@jupyter-widgets/base",
            "_view_module_version": "1.2.0",
            "_view_name": "StyleView",
            "description_width": ""
          }
        },
        "f5df7bb50dbe4a3a8136a4fc6332a3bd": {
          "model_module": "@jupyter-widgets/base",
          "model_name": "LayoutModel",
          "model_module_version": "1.2.0",
          "state": {
            "_model_module": "@jupyter-widgets/base",
            "_model_module_version": "1.2.0",
            "_model_name": "LayoutModel",
            "_view_count": null,
            "_view_module": "@jupyter-widgets/base",
            "_view_module_version": "1.2.0",
            "_view_name": "LayoutView",
            "align_content": null,
            "align_items": null,
            "align_self": null,
            "border": null,
            "bottom": null,
            "display": null,
            "flex": null,
            "flex_flow": null,
            "grid_area": null,
            "grid_auto_columns": null,
            "grid_auto_flow": null,
            "grid_auto_rows": null,
            "grid_column": null,
            "grid_gap": null,
            "grid_row": null,
            "grid_template_areas": null,
            "grid_template_columns": null,
            "grid_template_rows": null,
            "height": null,
            "justify_content": null,
            "justify_items": null,
            "left": null,
            "margin": null,
            "max_height": null,
            "max_width": null,
            "min_height": null,
            "min_width": null,
            "object_fit": null,
            "object_position": null,
            "order": null,
            "overflow": null,
            "overflow_x": null,
            "overflow_y": null,
            "padding": null,
            "right": null,
            "top": null,
            "visibility": null,
            "width": null
          }
        },
        "0ad6516676e147339fa9a6f278940b8c": {
          "model_module": "@jupyter-widgets/controls",
          "model_name": "ProgressStyleModel",
          "model_module_version": "1.5.0",
          "state": {
            "_model_module": "@jupyter-widgets/controls",
            "_model_module_version": "1.5.0",
            "_model_name": "ProgressStyleModel",
            "_view_count": null,
            "_view_module": "@jupyter-widgets/base",
            "_view_module_version": "1.2.0",
            "_view_name": "StyleView",
            "bar_color": null,
            "description_width": ""
          }
        },
        "cd4ff9a4f0404f39b816f2d19037d7c1": {
          "model_module": "@jupyter-widgets/base",
          "model_name": "LayoutModel",
          "model_module_version": "1.2.0",
          "state": {
            "_model_module": "@jupyter-widgets/base",
            "_model_module_version": "1.2.0",
            "_model_name": "LayoutModel",
            "_view_count": null,
            "_view_module": "@jupyter-widgets/base",
            "_view_module_version": "1.2.0",
            "_view_name": "LayoutView",
            "align_content": null,
            "align_items": null,
            "align_self": null,
            "border": null,
            "bottom": null,
            "display": null,
            "flex": null,
            "flex_flow": null,
            "grid_area": null,
            "grid_auto_columns": null,
            "grid_auto_flow": null,
            "grid_auto_rows": null,
            "grid_column": null,
            "grid_gap": null,
            "grid_row": null,
            "grid_template_areas": null,
            "grid_template_columns": null,
            "grid_template_rows": null,
            "height": null,
            "justify_content": null,
            "justify_items": null,
            "left": null,
            "margin": null,
            "max_height": null,
            "max_width": null,
            "min_height": null,
            "min_width": null,
            "object_fit": null,
            "object_position": null,
            "order": null,
            "overflow": null,
            "overflow_x": null,
            "overflow_y": null,
            "padding": null,
            "right": null,
            "top": null,
            "visibility": null,
            "width": null
          }
        },
        "a5f7ad828e68486abc8f8e5654dcaa65": {
          "model_module": "@jupyter-widgets/controls",
          "model_name": "DescriptionStyleModel",
          "model_module_version": "1.5.0",
          "state": {
            "_model_module": "@jupyter-widgets/controls",
            "_model_module_version": "1.5.0",
            "_model_name": "DescriptionStyleModel",
            "_view_count": null,
            "_view_module": "@jupyter-widgets/base",
            "_view_module_version": "1.2.0",
            "_view_name": "StyleView",
            "description_width": ""
          }
        },
        "ce540e72c83e4b9eabb0a1f7569717e4": {
          "model_module": "@jupyter-widgets/controls",
          "model_name": "HBoxModel",
          "model_module_version": "1.5.0",
          "state": {
            "_dom_classes": [],
            "_model_module": "@jupyter-widgets/controls",
            "_model_module_version": "1.5.0",
            "_model_name": "HBoxModel",
            "_view_count": null,
            "_view_module": "@jupyter-widgets/controls",
            "_view_module_version": "1.5.0",
            "_view_name": "HBoxView",
            "box_style": "",
            "children": [
              "IPY_MODEL_36d74e8fd6af4787adb9ecf5630a031f",
              "IPY_MODEL_8d83220577cb46f893fd609f309c50c5",
              "IPY_MODEL_2fab7ba96fa84cf7a9cb6f9d07fbe3a9"
            ],
            "layout": "IPY_MODEL_33d7da08cef14e3dba26129ba61dd16d"
          }
        },
        "36d74e8fd6af4787adb9ecf5630a031f": {
          "model_module": "@jupyter-widgets/controls",
          "model_name": "HTMLModel",
          "model_module_version": "1.5.0",
          "state": {
            "_dom_classes": [],
            "_model_module": "@jupyter-widgets/controls",
            "_model_module_version": "1.5.0",
            "_model_name": "HTMLModel",
            "_view_count": null,
            "_view_module": "@jupyter-widgets/controls",
            "_view_module_version": "1.5.0",
            "_view_name": "HTMLView",
            "description": "",
            "description_tooltip": null,
            "layout": "IPY_MODEL_0b4fc39514fe4df588146fb7943f6842",
            "placeholder": "​",
            "style": "IPY_MODEL_9f0d13dc51c8467c8514497d465c6047",
            "value": ""
          }
        },
        "8d83220577cb46f893fd609f309c50c5": {
          "model_module": "@jupyter-widgets/controls",
          "model_name": "FloatProgressModel",
          "model_module_version": "1.5.0",
          "state": {
            "_dom_classes": [],
            "_model_module": "@jupyter-widgets/controls",
            "_model_module_version": "1.5.0",
            "_model_name": "FloatProgressModel",
            "_view_count": null,
            "_view_module": "@jupyter-widgets/controls",
            "_view_module_version": "1.5.0",
            "_view_name": "ProgressView",
            "bar_style": "success",
            "description": "",
            "description_tooltip": null,
            "layout": "IPY_MODEL_e9d3a3da30a2473c94a5959ffda55f81",
            "max": 5148,
            "min": 0,
            "orientation": "horizontal",
            "style": "IPY_MODEL_0c44df7d4ac045439a2c5f433287f34b",
            "value": 5148
          }
        },
        "2fab7ba96fa84cf7a9cb6f9d07fbe3a9": {
          "model_module": "@jupyter-widgets/controls",
          "model_name": "HTMLModel",
          "model_module_version": "1.5.0",
          "state": {
            "_dom_classes": [],
            "_model_module": "@jupyter-widgets/controls",
            "_model_module_version": "1.5.0",
            "_model_name": "HTMLModel",
            "_view_count": null,
            "_view_module": "@jupyter-widgets/controls",
            "_view_module_version": "1.5.0",
            "_view_name": "HTMLView",
            "description": "",
            "description_tooltip": null,
            "layout": "IPY_MODEL_439d31ec160d4e92a00d827794d77a98",
            "placeholder": "​",
            "style": "IPY_MODEL_af9affa4f5bc47328b5a00b121124646",
            "value": " 6144/? [00:00&lt;00:00, 102743.04it/s]"
          }
        },
        "33d7da08cef14e3dba26129ba61dd16d": {
          "model_module": "@jupyter-widgets/base",
          "model_name": "LayoutModel",
          "model_module_version": "1.2.0",
          "state": {
            "_model_module": "@jupyter-widgets/base",
            "_model_module_version": "1.2.0",
            "_model_name": "LayoutModel",
            "_view_count": null,
            "_view_module": "@jupyter-widgets/base",
            "_view_module_version": "1.2.0",
            "_view_name": "LayoutView",
            "align_content": null,
            "align_items": null,
            "align_self": null,
            "border": null,
            "bottom": null,
            "display": null,
            "flex": null,
            "flex_flow": null,
            "grid_area": null,
            "grid_auto_columns": null,
            "grid_auto_flow": null,
            "grid_auto_rows": null,
            "grid_column": null,
            "grid_gap": null,
            "grid_row": null,
            "grid_template_areas": null,
            "grid_template_columns": null,
            "grid_template_rows": null,
            "height": null,
            "justify_content": null,
            "justify_items": null,
            "left": null,
            "margin": null,
            "max_height": null,
            "max_width": null,
            "min_height": null,
            "min_width": null,
            "object_fit": null,
            "object_position": null,
            "order": null,
            "overflow": null,
            "overflow_x": null,
            "overflow_y": null,
            "padding": null,
            "right": null,
            "top": null,
            "visibility": null,
            "width": null
          }
        },
        "0b4fc39514fe4df588146fb7943f6842": {
          "model_module": "@jupyter-widgets/base",
          "model_name": "LayoutModel",
          "model_module_version": "1.2.0",
          "state": {
            "_model_module": "@jupyter-widgets/base",
            "_model_module_version": "1.2.0",
            "_model_name": "LayoutModel",
            "_view_count": null,
            "_view_module": "@jupyter-widgets/base",
            "_view_module_version": "1.2.0",
            "_view_name": "LayoutView",
            "align_content": null,
            "align_items": null,
            "align_self": null,
            "border": null,
            "bottom": null,
            "display": null,
            "flex": null,
            "flex_flow": null,
            "grid_area": null,
            "grid_auto_columns": null,
            "grid_auto_flow": null,
            "grid_auto_rows": null,
            "grid_column": null,
            "grid_gap": null,
            "grid_row": null,
            "grid_template_areas": null,
            "grid_template_columns": null,
            "grid_template_rows": null,
            "height": null,
            "justify_content": null,
            "justify_items": null,
            "left": null,
            "margin": null,
            "max_height": null,
            "max_width": null,
            "min_height": null,
            "min_width": null,
            "object_fit": null,
            "object_position": null,
            "order": null,
            "overflow": null,
            "overflow_x": null,
            "overflow_y": null,
            "padding": null,
            "right": null,
            "top": null,
            "visibility": null,
            "width": null
          }
        },
        "9f0d13dc51c8467c8514497d465c6047": {
          "model_module": "@jupyter-widgets/controls",
          "model_name": "DescriptionStyleModel",
          "model_module_version": "1.5.0",
          "state": {
            "_model_module": "@jupyter-widgets/controls",
            "_model_module_version": "1.5.0",
            "_model_name": "DescriptionStyleModel",
            "_view_count": null,
            "_view_module": "@jupyter-widgets/base",
            "_view_module_version": "1.2.0",
            "_view_name": "StyleView",
            "description_width": ""
          }
        },
        "e9d3a3da30a2473c94a5959ffda55f81": {
          "model_module": "@jupyter-widgets/base",
          "model_name": "LayoutModel",
          "model_module_version": "1.2.0",
          "state": {
            "_model_module": "@jupyter-widgets/base",
            "_model_module_version": "1.2.0",
            "_model_name": "LayoutModel",
            "_view_count": null,
            "_view_module": "@jupyter-widgets/base",
            "_view_module_version": "1.2.0",
            "_view_name": "LayoutView",
            "align_content": null,
            "align_items": null,
            "align_self": null,
            "border": null,
            "bottom": null,
            "display": null,
            "flex": null,
            "flex_flow": null,
            "grid_area": null,
            "grid_auto_columns": null,
            "grid_auto_flow": null,
            "grid_auto_rows": null,
            "grid_column": null,
            "grid_gap": null,
            "grid_row": null,
            "grid_template_areas": null,
            "grid_template_columns": null,
            "grid_template_rows": null,
            "height": null,
            "justify_content": null,
            "justify_items": null,
            "left": null,
            "margin": null,
            "max_height": null,
            "max_width": null,
            "min_height": null,
            "min_width": null,
            "object_fit": null,
            "object_position": null,
            "order": null,
            "overflow": null,
            "overflow_x": null,
            "overflow_y": null,
            "padding": null,
            "right": null,
            "top": null,
            "visibility": null,
            "width": null
          }
        },
        "0c44df7d4ac045439a2c5f433287f34b": {
          "model_module": "@jupyter-widgets/controls",
          "model_name": "ProgressStyleModel",
          "model_module_version": "1.5.0",
          "state": {
            "_model_module": "@jupyter-widgets/controls",
            "_model_module_version": "1.5.0",
            "_model_name": "ProgressStyleModel",
            "_view_count": null,
            "_view_module": "@jupyter-widgets/base",
            "_view_module_version": "1.2.0",
            "_view_name": "StyleView",
            "bar_color": null,
            "description_width": ""
          }
        },
        "439d31ec160d4e92a00d827794d77a98": {
          "model_module": "@jupyter-widgets/base",
          "model_name": "LayoutModel",
          "model_module_version": "1.2.0",
          "state": {
            "_model_module": "@jupyter-widgets/base",
            "_model_module_version": "1.2.0",
            "_model_name": "LayoutModel",
            "_view_count": null,
            "_view_module": "@jupyter-widgets/base",
            "_view_module_version": "1.2.0",
            "_view_name": "LayoutView",
            "align_content": null,
            "align_items": null,
            "align_self": null,
            "border": null,
            "bottom": null,
            "display": null,
            "flex": null,
            "flex_flow": null,
            "grid_area": null,
            "grid_auto_columns": null,
            "grid_auto_flow": null,
            "grid_auto_rows": null,
            "grid_column": null,
            "grid_gap": null,
            "grid_row": null,
            "grid_template_areas": null,
            "grid_template_columns": null,
            "grid_template_rows": null,
            "height": null,
            "justify_content": null,
            "justify_items": null,
            "left": null,
            "margin": null,
            "max_height": null,
            "max_width": null,
            "min_height": null,
            "min_width": null,
            "object_fit": null,
            "object_position": null,
            "order": null,
            "overflow": null,
            "overflow_x": null,
            "overflow_y": null,
            "padding": null,
            "right": null,
            "top": null,
            "visibility": null,
            "width": null
          }
        },
        "af9affa4f5bc47328b5a00b121124646": {
          "model_module": "@jupyter-widgets/controls",
          "model_name": "DescriptionStyleModel",
          "model_module_version": "1.5.0",
          "state": {
            "_model_module": "@jupyter-widgets/controls",
            "_model_module_version": "1.5.0",
            "_model_name": "DescriptionStyleModel",
            "_view_count": null,
            "_view_module": "@jupyter-widgets/base",
            "_view_module_version": "1.2.0",
            "_view_name": "StyleView",
            "description_width": ""
          }
        }
      }
    }
  },
  "nbformat": 4,
  "nbformat_minor": 5
}