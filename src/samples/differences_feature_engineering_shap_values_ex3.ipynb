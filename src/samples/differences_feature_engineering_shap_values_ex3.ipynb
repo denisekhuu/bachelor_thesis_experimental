{
 "cells": [
  {
   "cell_type": "markdown",
   "id": "0b48f800-d2d2-4bd7-9bd7-f6f9cfd6740c",
   "metadata": {},
   "source": [
    "# Feature Engineering with SHAP values Experiment 2"
   ]
  },
  {
   "cell_type": "markdown",
   "id": "93a73a1f-e932-47bb-9605-f5b5c5754612",
   "metadata": {
    "tags": []
   },
   "source": [
    "## Google Colab"
   ]
  },
  {
   "cell_type": "code",
   "execution_count": null,
   "id": "32b4bc41-26c2-4fca-a614-ef28cea9d45d",
   "metadata": {},
   "outputs": [],
   "source": [
    "from google.colab import drive\n",
    "drive.flush_and_unmount()\n",
    "drive.mount('/content/drive', force_remount=True)\n",
    "\n",
    "import sys\n",
    "sys.path.append('/content/drive/My Drive/Colab Notebooks')\n",
    "sys.path.append('/content/drive/My Drive/Colab Notebooks/federated_learning')\n",
    "\n",
    "!pip install shap==0.40.0"
   ]
  },
  {
   "cell_type": "code",
   "execution_count": null,
   "id": "a70021e8-dc00-42e7-8bb7-ee4301741e75",
   "metadata": {},
   "outputs": [],
   "source": [
    "import sklearn"
   ]
  },
  {
   "cell_type": "markdown",
   "id": "c41448db-17cb-4a42-bacd-fd157ce28ac7",
   "metadata": {
    "tags": []
   },
   "source": [
    "## Experimental Setup"
   ]
  },
  {
   "cell_type": "code",
   "execution_count": null,
   "id": "b4898aa8-0d37-4f50-b0be-e43e398612aa",
   "metadata": {},
   "outputs": [],
   "source": [
    "from federated_learning.utils import SHAPUtil, experiment_util, Visualizer\n",
    "from federated_learning import ClientPlane, Configuration, ObserverConfiguration\n",
    "from federated_learning.server import Server\n",
    "from datetime import datetime"
   ]
  },
  {
   "cell_type": "code",
   "execution_count": null,
   "id": "792ca166-f3d7-4e15-92cc-6d54c7989729",
   "metadata": {},
   "outputs": [],
   "source": [
    "def cos_similarity_values(s_client, s_server):\n",
    "    import numpy as np\n",
    "    cos_similarity = [[] for i in range(10)]\n",
    "    shap_subtract = np.subtract(s_client, s_server)\n",
    "    for row_idx, row in enumerate(shap_subtract):\n",
    "        for img_idx, image in enumerate(row):\n",
    "                cos_similarity[row_idx].append(round(np.sum(image.flatten()), 3))\n",
    "\n",
    "    print(np.matrix(cos_similarity))"
   ]
  },
  {
   "cell_type": "code",
   "execution_count": null,
   "id": "49b4532f-b186-47a9-867a-ec27ddbabe8f",
   "metadata": {},
   "outputs": [],
   "source": [
    "from scipy import spatial\n",
    "import numpy"
   ]
  },
  {
   "cell_type": "code",
   "execution_count": null,
   "id": "476b47a5-87c0-49b7-8b20-cbe286c75662",
   "metadata": {},
   "outputs": [],
   "source": [
    "scipy.__version__\n"
   ]
  },
  {
   "cell_type": "code",
   "execution_count": null,
   "id": "d7a592b2-117f-41c4-9de1-a4150c48035f",
   "metadata": {},
   "outputs": [],
   "source": [
    "numpy.__version__"
   ]
  },
  {
   "cell_type": "code",
   "execution_count": null,
   "id": "11b5b463-a3f6-4100-a908-f167b84455fe",
   "metadata": {},
   "outputs": [],
   "source": [
    "def cos_similarity_values(s_client, s_server):\n",
    "    import numpy as np\n",
    "    cos_similarity_server = [[] for i in range(10)]\n",
    "    cos_similarity_client = [[] for i in range(10)]\n",
    "    shap_subtract = np.subtract(s_client, s_server)\n",
    "    for row_idx, row in enumerate(s_server):\n",
    "        for img_idx, image in enumerate(row):\n",
    "                cos_similarity_server[row_idx].append(np.sum(image.flatten()))\n",
    "    for row_idx, row in enumerate(s_client):\n",
    "        for img_idx, image in enumerate(row):\n",
    "                cos_similarity_client[row_idx].append(np.sum(image.flatten()))\n",
    "    spatial.distance.cosine(np.array(cos_similarity_server).flatten(), np.array(cos_similarity_client).flatten())\n",
    "    print(spatial.distance.cosine(np.array(cos_similarity_server).flatten(), np.array(cos_similarity_client).flatten()))"
   ]
  },
  {
   "cell_type": "code",
   "execution_count": null,
   "id": "844e8c3d-9ac7-49c4-b06c-ae145be6b4cb",
   "metadata": {},
   "outputs": [],
   "source": [
    "def cos_similarity_values(s_client, s_server):\n",
    "    import numpy as np\n",
    "    cos_similarity = [[] for i in range(10)]\n",
    "    shap_subtract = np.subtract(s_client, s_server)\n",
    "    for row_idx, row in enumerate(s_client):\n",
    "        for img_idx, image in enumerate(row):\n",
    "                cos_similarity[row_idx].append(spatial.distance.cosine(image.flatten(),s_server[row_idx][img_idx].flatten()))\n",
    "    \n",
    "    print(cos_similarity[5])\n",
    "    \n"
   ]
  },
  {
   "cell_type": "markdown",
   "id": "6078464c-3ec0-4085-9b9c-5a6517b5f83d",
   "metadata": {
    "tags": []
   },
   "source": [
    "# MNIST"
   ]
  },
  {
   "cell_type": "code",
   "execution_count": null,
   "id": "3d70d54c-5b1f-4155-8c2f-bc504c4c5b80",
   "metadata": {},
   "outputs": [],
   "source": [
    "from federated_learning.nets import MNISTCNN\n",
    "from federated_learning.dataset import MNISTDataset\n",
    "import os\n",
    "config = Configuration()\n",
    "config.POISONED_CLIENTS = 0\n",
    "config.DATA_POISONING_PERCENTAGE = 1\n",
    "config.DATASET = MNISTDataset\n",
    "config.MODELNAME = config.MNIST_NAME\n",
    "config.NETWORK = MNISTCNN\n",
    "observer_config = ObserverConfiguration()\n",
    "observer_config.experiment_type = \"shap_fl_poisoned\"\n",
    "observer_config.experiment_id = 1\n",
    "observer_config.test = False\n",
    "observer_config.datasetObserverConfiguration = \"MNIST\"\n",
    "neutral_label = 2"
   ]
  },
  {
   "cell_type": "code",
   "execution_count": null,
   "id": "d7523594-78d7-4902-a244-98e371ed993c",
   "metadata": {},
   "outputs": [],
   "source": [
    "# Google Colab Settigns\n",
    "config.TEMP = os.path.join('/content/drive/My Drive/Colab Notebooks/temp')\n",
    "config.FMNIST_DATASET_PATH = os.path.join('/content/data/fmnist')\n",
    "config.MNIST_DATASET_PATH = os.path.join('/content/data/mnist')\n",
    "config.CIFAR10_DATASET_PATH = os.path.join('/content/data/cifar10')\n",
    "config.VM_URL = \"none\""
   ]
  },
  {
   "cell_type": "code",
   "execution_count": null,
   "id": "b972cb31-adf5-4c27-808b-e151cecc3f90",
   "metadata": {},
   "outputs": [],
   "source": [
    "data = config.DATASET(config)\n",
    "shap_util = SHAPUtil(data.test_dataloader) \n",
    "server = Server(config, observer_config,data.train_dataloader, data.test_dataloader, shap_util)\n",
    "visualizer = Visualizer(shap_util)"
   ]
  },
  {
   "cell_type": "markdown",
   "id": "078b7a1b-9860-4cf6-a5bc-1b4ee4b80cf9",
   "metadata": {
    "jp-MarkdownHeadingCollapsed": true,
    "tags": []
   },
   "source": [
    "## Experiment Setup "
   ]
  },
  {
   "cell_type": "code",
   "execution_count": null,
   "id": "0a070b8f-c3ee-43a8-8cf9-d6e1a791d57e",
   "metadata": {},
   "outputs": [],
   "source": [
    "import numpy as np\n",
    "import copy\n",
    "import torch\n",
    "import os\n",
    "for i in range(200):\n",
    "    if (i+1) in [2, 5,10,75,100,200]:\n",
    "        file = \"./temp/models/ex6/MNIST_round_{}.model\".format(i+1)\n",
    "        if not os.path.exists(os.path.dirname(file)):\n",
    "                os.makedirs(os.path.dirname(file))\n",
    "        torch.save(server.net.state_dict(), file)\n",
    "    experiment_util.set_rounds(client_plane, server, i+1)\n",
    "    experiment_util.run_round(client_plane, server, i+1)"
   ]
  },
  {
   "cell_type": "markdown",
   "id": "53511113-cd4d-4f1e-afa1-238e6905f4d6",
   "metadata": {
    "jp-MarkdownHeadingCollapsed": true,
    "tags": []
   },
   "source": [
    "## Experiment"
   ]
  },
  {
   "cell_type": "code",
   "execution_count": null,
   "id": "3d857037-940c-4081-bc0f-bb14a64df276",
   "metadata": {},
   "outputs": [],
   "source": [
    "import torch\n",
    "config.FROM_LABEL = 1\n",
    "config.TO_LABEL = 7\n",
    "shap_images = [config.FROM_LABEL ,config.TO_LABEL]\n",
    "for j in [100]:\n",
    "    data = config.DATASET(config)\n",
    "    client_plane = ClientPlane(config, observer_config, data, shap_util)\n",
    "    model_file = file = \"./temp/models/ex5/MNIST_round_{}.model\".format(j)\n",
    "    server.net =  MNISTCNN()\n",
    "    server.net.load_state_dict(torch.load(model_file))\n",
    "    client_plane.reset_default_client_nets()\n",
    "    client_plane.reset_poisoning_attack()\n",
    "\n",
    "    server.test()\n",
    "    recall, precision, accuracy = server.analize_test()\n",
    "    print(\"Original\", recall, precision, accuracy)\n",
    "    server_shap = server.get_shap_values()\n",
    "\n",
    "    config.POISONED_CLIENTS = 100\n",
    "    experiment_util.update_configs(client_plane, server, config, observer_config)\n",
    "    client_plane.poison_clients()\n",
    "    clean_clients = experiment_util.select_random_clean(client_plane, config, 100)\n",
    "    poisoned_clients = experiment_util.select_poisoned(client_plane, 100)\n",
    "\n",
    "    print(\"Clean\")\n",
    "    for i in clean_clients[:2]:\n",
    "        client_plane.update_clients(server.get_nn_parameters())\n",
    "        client_plane.clients[i].train(j+1)\n",
    "        clean_client_shap = client_plane.clients[i].get_shap_values()\n",
    "        cos_similarity_values(clean_client_shap, server_shap)\n",
    "\n",
    "    print(\"Poisoned\")\n",
    "    server.net =  MNISTCNN()\n",
    "    server.net.load_state_dict(torch.load(model_file))\n",
    "    for i in poisoned_clients[:2]:\n",
    "        client_plane.update_clients(server.get_nn_parameters())    \n",
    "        client_plane.clients[i].train(j+1)\n",
    "        poisoned_client_shap = client_plane.clients[i].get_shap_values()\n",
    "        cos_similarity_values(poisoned_client_shap, server_shap)\n",
    "    client_plane.reset_default_client_nets()\n",
    "    client_plane.reset_poisoning_attack()"
   ]
  },
  {
   "cell_type": "code",
   "execution_count": null,
   "id": "4da957c2-02d2-4a82-a9e1-6bc77dd37152",
   "metadata": {},
   "outputs": [],
   "source": [
    "import torch\n",
    "config.FROM_LABEL = 5\n",
    "config.TO_LABEL = 4\n",
    "shap_images = [config.FROM_LABEL ,config.TO_LABEL]\n",
    "\n",
    "for j in [100]:\n",
    "    data = config.DATASET(config)\n",
    "    client_plane = ClientPlane(config, observer_config, data, shap_util)\n",
    "    model_file = file = \"./temp/models/ex5/MNIST_round_{}.model\".format(j)\n",
    "    server.net =  MNISTCNN()\n",
    "    server.net.load_state_dict(torch.load(model_file))\n",
    "    server.test()\n",
    "    recall, precision, accuracy = server.analize_test()\n",
    "    print(\"Original\", recall, precision, accuracy)\n",
    "    server_shap = server.get_shap_values()\n",
    "    print(len(client_plane.clients[poisoned_clients[0]].train_dataloader.dataset.dataset.targets[client_plane.clients[poisoned_clients[0]].train_dataloader.dataset.dataset.targets == 5]))\n",
    "    \n",
    "    config.POISONED_CLIENTS = 100\n",
    "    experiment_util.update_configs(client_plane, server, config, observer_config)\n",
    "    client_plane.poison_clients()\n",
    "    clean_clients = experiment_util.select_random_clean(client_plane, config, 100)\n",
    "    poisoned_clients = experiment_util.select_poisoned(client_plane, 100)\n",
    "\n",
    "    print(\"Clean\")\n",
    "    for i in clean_clients[:2]:\n",
    "        client_plane.update_clients(server.get_nn_parameters())\n",
    "        client_plane.clients[i].train(j+1)\n",
    "        clean_client_shap = client_plane.clients[i].get_shap_values()\n",
    "        cos_similarity_values(clean_client_shap, server_shap)\n",
    "    print(len(client_plane.clients[poisoned_clients[0]].train_dataloader.dataset.dataset.targets[client_plane.clients[poisoned_clients[0]].train_dataloader.dataset.dataset.targets == 5]))\n",
    "\n",
    "    print(\"Poisoned\")\n",
    "    server.net =  MNISTCNN()\n",
    "    server.net.load_state_dict(torch.load(model_file))\n",
    "    for i in poisoned_clients[:2]:\n",
    "        client_plane.update_clients(server.get_nn_parameters())    \n",
    "        client_plane.clients[i].train(j+1)\n",
    "        poisoned_client_shap = client_plane.clients[i].get_shap_values()\n",
    "        cos_similarity_values(poisoned_client_shap, server_shap)\n",
    "    client_plane.reset_default_client_nets()\n",
    "    client_plane.reset_poisoning_attack()\n",
    "    print(client_plane.clients[poisoned_clients[0]].train_dataloader.dataset.dataset.targets[client_plane.clients[poisoned_clients[0]].poisoning_indices])\n",
    "    print(len(client_plane.clients[poisoned_clients[0]].train_dataloader.dataset.dataset.targets[client_plane.clients[poisoned_clients[0]].train_dataloader.dataset.dataset.targets == 5]))"
   ]
  },
  {
   "cell_type": "code",
   "execution_count": null,
   "id": "67c9ba68-588c-49d6-bc6c-8a4f99b03e55",
   "metadata": {},
   "outputs": [],
   "source": [
    "import torch\n",
    "config.FROM_LABEL = 3\n",
    "config.TO_LABEL = 8\n",
    "shap_images = [config.FROM_LABEL ,config.TO_LABEL]\n",
    "for j in [100]:\n",
    "    data = config.DATASET(config)\n",
    "    client_plane = ClientPlane(config, observer_config, data, shap_util)\n",
    "    model_file = file = \"./temp/models/ex5/MNIST_round_{}.model\".format(j)\n",
    "    server.net =  MNISTCNN()\n",
    "    server.net.load_state_dict(torch.load(model_file))\n",
    "    client_plane.reset_default_client_nets()\n",
    "    client_plane.reset_poisoning_attack()\n",
    "\n",
    "    server.test()\n",
    "    recall, precision, accuracy = server.analize_test()\n",
    "    print(\"Original\", recall, precision, accuracy)\n",
    "    server_shap = server.get_shap_values()\n",
    "\n",
    "    config.POISONED_CLIENTS = 100\n",
    "    experiment_util.update_configs(client_plane, server, config, observer_config)\n",
    "    client_plane.poison_clients()\n",
    "    clean_clients = experiment_util.select_random_clean(client_plane, config, 100)\n",
    "    poisoned_clients = experiment_util.select_poisoned(client_plane, 100)\n",
    "\n",
    "    print(\"Clean\")\n",
    "    for i in clean_clients[:2]:\n",
    "        client_plane.update_clients(server.get_nn_parameters())\n",
    "        client_plane.clients[i].train(j+1)\n",
    "        clean_client_shap = client_plane.clients[i].get_shap_values()\n",
    "        cos_similarity_values(clean_client_shap, server_shap)\n",
    "\n",
    "    print(\"Poisoned\")\n",
    "    server.net =  MNISTCNN()\n",
    "    server.net.load_state_dict(torch.load(model_file))\n",
    "    for i in poisoned_clients[:2]:\n",
    "        client_plane.update_clients(server.get_nn_parameters())    \n",
    "        client_plane.clients[i].train(j+1)\n",
    "        poisoned_client_shap = client_plane.clients[i].get_shap_values()\n",
    "        cos_similarity_values(poisoned_client_shap, server_shap)\n",
    "    client_plane.reset_default_client_nets()\n",
    "    client_plane.reset_poisoning_attack()"
   ]
  },
  {
   "cell_type": "markdown",
   "id": "a266a1b2-03b6-47d9-a3df-f7b031b3ee3e",
   "metadata": {},
   "source": [
    "# Fashion MNIST"
   ]
  },
  {
   "cell_type": "code",
   "execution_count": null,
   "id": "68aff4bd-5c29-49fd-9a9c-5139699e19cc",
   "metadata": {},
   "outputs": [],
   "source": [
    "from federated_learning.nets import FMNISTCNN\n",
    "from federated_learning.dataset import FMNISTDataset\n",
    "import os\n",
    "config = Configuration()\n",
    "config.POISONED_CLIENTS = 0\n",
    "config.DATA_POISONING_PERCENTAGE = 1\n",
    "config.DATASET = FMNISTDataset\n",
    "config.MODELNAME = config.FMNIST_NAME\n",
    "config.NETWORK = FMNISTCNN\n",
    "observer_config = ObserverConfiguration()\n",
    "observer_config.experiment_type = \"shap_fl_poisoned\"\n",
    "observer_config.experiment_id = 1\n",
    "observer_config.test = False\n",
    "observer_config.datasetObserverConfiguration = \"MNIST\"\n",
    "neutral_label = 2"
   ]
  },
  {
   "cell_type": "code",
   "execution_count": null,
   "id": "40c9a121-61f6-4066-bdfc-07e923bb7d6e",
   "metadata": {},
   "outputs": [],
   "source": [
    "# Google Colab Settigns\n",
    "config.TEMP = os.path.join('/content/drive/My Drive/Colab Notebooks/temp')\n",
    "config.FMNIST_DATASET_PATH = os.path.join('/content/data/fmnist')\n",
    "config.MNIST_DATASET_PATH = os.path.join('/content/data/mnist')\n",
    "config.CIFAR10_DATASET_PATH = os.path.join('/content/data/cifar10')\n",
    "config.VM_URL = \"none"
   ]
  },
  {
   "cell_type": "code",
   "execution_count": null,
   "id": "41fb51e7-cf94-4c2c-8cff-b48065fecce0",
   "metadata": {},
   "outputs": [],
   "source": [
    "data = config.DATASET(config)\n",
    "shap_util = SHAPUtil(data.test_dataloader) \n",
    "server = Server(config, observer_config,data.train_dataloader, data.test_dataloader, shap_util)\n",
    "client_plane = ClientPlane(config, observer_config, data, shap_util)\n",
    "visualizer = Visualizer(shap_util)"
   ]
  },
  {
   "cell_type": "code",
   "execution_count": null,
   "id": "6bf856de-9c7d-428f-a02d-22b950def20a",
   "metadata": {},
   "outputs": [],
   "source": [
    "import numpy as np\n",
    "import copy\n",
    "import torch\n",
    "import os\n",
    "for i in range(200):\n",
    "    if (i+1) in [2, 5,10,75,100,200]:\n",
    "        file = \"/content/drive/My Drive/Colab Notebooks/temp/models/ex6/FMNIST_round_{}.model\".format(i+1)\n",
    "        if not os.path.exists(os.path.dirname(file)):\n",
    "                os.makedirs(os.path.dirname(file))\n",
    "        torch.save(server.net.state_dict(), file)\n",
    "    experiment_util.set_rounds(client_plane, server, i+1)\n",
    "    experiment_util.run_round(client_plane, server, i+1)"
   ]
  },
  {
   "cell_type": "code",
   "execution_count": null,
   "id": "624de3f9-1c93-4a91-b05d-5b655d75d15b",
   "metadata": {},
   "outputs": [],
   "source": [
    "import torch\n",
    "config.FROM_LABEL = 5\n",
    "config.TO_LABEL = 4\n",
    "shap_images = [config.FROM_LABEL ,config.TO_LABEL]\n",
    "\n",
    "for j in [100]:\n",
    "    data = config.DATASET(config)\n",
    "    client_plane = ClientPlane(config, observer_config, data, shap_util)\n",
    "    model_file = file = \"./temp/models/ex5/FMNIST_round_{}.model\".format(j)\n",
    "    server.net =  FMNISTCNN()\n",
    "    server.net.load_state_dict(torch.load(model_file))\n",
    "    server.test()\n",
    "    recall, precision, accuracy = server.analize_test()\n",
    "    print(\"Original\", recall, precision, accuracy)\n",
    "    server_shap = server.get_shap_values()\n",
    "    print(len(client_plane.clients[poisoned_clients[0]].train_dataloader.dataset.dataset.targets[client_plane.clients[poisoned_clients[0]].train_dataloader.dataset.dataset.targets == 5]))\n",
    "    \n",
    "    config.POISONED_CLIENTS = 100\n",
    "    experiment_util.update_configs(client_plane, server, config, observer_config)\n",
    "    client_plane.poison_clients()\n",
    "    clean_clients = experiment_util.select_random_clean(client_plane, config, 100)\n",
    "    poisoned_clients = experiment_util.select_poisoned(client_plane, 100)\n",
    "\n",
    "    print(\"Clean\")\n",
    "    for i in clean_clients[:2]:\n",
    "        client_plane.update_clients(server.get_nn_parameters())\n",
    "        client_plane.clients[i].train(j+1)\n",
    "        clean_client_shap = client_plane.clients[i].get_shap_values()\n",
    "        cos_similarity_values(clean_client_shap, server_shap)\n",
    "    print(len(client_plane.clients[poisoned_clients[0]].train_dataloader.dataset.dataset.targets[client_plane.clients[poisoned_clients[0]].train_dataloader.dataset.dataset.targets == 5]))\n",
    "\n",
    "    print(\"Poisoned\")\n",
    "    server.net =  FMNISTCNN()\n",
    "    server.net.load_state_dict(torch.load(model_file))\n",
    "    for i in poisoned_clients[:2]:\n",
    "        client_plane.update_clients(server.get_nn_parameters())    \n",
    "        client_plane.clients[i].train(j+1)\n",
    "        poisoned_client_shap = client_plane.clients[i].get_shap_values()\n",
    "        cos_similarity_values(poisoned_client_shap, server_shap)\n",
    "    client_plane.reset_default_client_nets()\n",
    "    client_plane.reset_poisoning_attack()\n",
    "    print(client_plane.clients[poisoned_clients[0]].train_dataloader.dataset.dataset.targets[client_plane.clients[poisoned_clients[0]].poisoning_indices])\n",
    "    print(len(client_plane.clients[poisoned_clients[0]].train_dataloader.dataset.dataset.targets[client_plane.clients[poisoned_clients[0]].train_dataloader.dataset.dataset.targets == 5]))"
   ]
  }
 ],
 "metadata": {
  "kernelspec": {
   "display_name": "Python 3 (ipykernel)",
   "language": "python",
   "name": "python3"
  },
  "language_info": {
   "codemirror_mode": {
    "name": "ipython",
    "version": 3
   },
   "file_extension": ".py",
   "mimetype": "text/x-python",
   "name": "python",
   "nbconvert_exporter": "python",
   "pygments_lexer": "ipython3",
   "version": "3.9.12"
  }
 },
 "nbformat": 4,
 "nbformat_minor": 5
}
