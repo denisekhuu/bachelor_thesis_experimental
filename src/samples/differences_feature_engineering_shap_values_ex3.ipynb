{
  "cells": [
    {
      "cell_type": "markdown",
      "id": "0b48f800-d2d2-4bd7-9bd7-f6f9cfd6740c",
      "metadata": {
        "id": "0b48f800-d2d2-4bd7-9bd7-f6f9cfd6740c"
      },
      "source": [
        "# Feature Engineering with SHAP values Experiment 2"
      ]
    },
    {
      "cell_type": "markdown",
      "id": "93a73a1f-e932-47bb-9605-f5b5c5754612",
      "metadata": {
        "tags": [],
        "id": "93a73a1f-e932-47bb-9605-f5b5c5754612"
      },
      "source": [
        "## Google Colab"
      ]
    },
    {
      "cell_type": "code",
      "execution_count": 1,
      "id": "32b4bc41-26c2-4fca-a614-ef28cea9d45d",
      "metadata": {
        "id": "32b4bc41-26c2-4fca-a614-ef28cea9d45d",
        "outputId": "6f551f51-b59e-4947-b3e6-437dcb1b28ab",
        "colab": {
          "base_uri": "https://localhost:8080/"
        }
      },
      "outputs": [
        {
          "output_type": "stream",
          "name": "stdout",
          "text": [
            "Drive not mounted, so nothing to flush and unmount.\n",
            "Mounted at /content/drive\n",
            "Looking in indexes: https://pypi.org/simple, https://us-python.pkg.dev/colab-wheels/public/simple/\n",
            "Collecting shap==0.40.0\n",
            "  Downloading shap-0.40.0-cp37-cp37m-manylinux2010_x86_64.whl (564 kB)\n",
            "\u001b[K     |████████████████████████████████| 564 kB 28.5 MB/s \n",
            "\u001b[?25hRequirement already satisfied: scipy in /usr/local/lib/python3.7/dist-packages (from shap==0.40.0) (1.4.1)\n",
            "Collecting slicer==0.0.7\n",
            "  Downloading slicer-0.0.7-py3-none-any.whl (14 kB)\n",
            "Requirement already satisfied: cloudpickle in /usr/local/lib/python3.7/dist-packages (from shap==0.40.0) (1.3.0)\n",
            "Requirement already satisfied: tqdm>4.25.0 in /usr/local/lib/python3.7/dist-packages (from shap==0.40.0) (4.64.0)\n",
            "Requirement already satisfied: numpy in /usr/local/lib/python3.7/dist-packages (from shap==0.40.0) (1.21.6)\n",
            "Requirement already satisfied: numba in /usr/local/lib/python3.7/dist-packages (from shap==0.40.0) (0.51.2)\n",
            "Requirement already satisfied: scikit-learn in /usr/local/lib/python3.7/dist-packages (from shap==0.40.0) (1.0.2)\n",
            "Requirement already satisfied: pandas in /usr/local/lib/python3.7/dist-packages (from shap==0.40.0) (1.3.5)\n",
            "Requirement already satisfied: packaging>20.9 in /usr/local/lib/python3.7/dist-packages (from shap==0.40.0) (21.3)\n",
            "Requirement already satisfied: pyparsing!=3.0.5,>=2.0.2 in /usr/local/lib/python3.7/dist-packages (from packaging>20.9->shap==0.40.0) (3.0.9)\n",
            "Requirement already satisfied: setuptools in /usr/local/lib/python3.7/dist-packages (from numba->shap==0.40.0) (57.4.0)\n",
            "Requirement already satisfied: llvmlite<0.35,>=0.34.0.dev0 in /usr/local/lib/python3.7/dist-packages (from numba->shap==0.40.0) (0.34.0)\n",
            "Requirement already satisfied: pytz>=2017.3 in /usr/local/lib/python3.7/dist-packages (from pandas->shap==0.40.0) (2022.1)\n",
            "Requirement already satisfied: python-dateutil>=2.7.3 in /usr/local/lib/python3.7/dist-packages (from pandas->shap==0.40.0) (2.8.2)\n",
            "Requirement already satisfied: six>=1.5 in /usr/local/lib/python3.7/dist-packages (from python-dateutil>=2.7.3->pandas->shap==0.40.0) (1.15.0)\n",
            "Requirement already satisfied: threadpoolctl>=2.0.0 in /usr/local/lib/python3.7/dist-packages (from scikit-learn->shap==0.40.0) (3.1.0)\n",
            "Requirement already satisfied: joblib>=0.11 in /usr/local/lib/python3.7/dist-packages (from scikit-learn->shap==0.40.0) (1.1.0)\n",
            "Installing collected packages: slicer, shap\n",
            "Successfully installed shap-0.40.0 slicer-0.0.7\n"
          ]
        }
      ],
      "source": [
        "from google.colab import drive\n",
        "drive.flush_and_unmount()\n",
        "drive.mount('/content/drive', force_remount=True)\n",
        "\n",
        "import sys\n",
        "sys.path.append('/content/drive/My Drive/Colab Notebooks')\n",
        "sys.path.append('/content/drive/My Drive/Colab Notebooks/federated_learning')\n",
        "\n",
        "!pip install shap==0.40.0"
      ]
    },
    {
      "cell_type": "code",
      "execution_count": null,
      "id": "a70021e8-dc00-42e7-8bb7-ee4301741e75",
      "metadata": {
        "id": "a70021e8-dc00-42e7-8bb7-ee4301741e75"
      },
      "outputs": [],
      "source": [
        "import sklearn"
      ]
    },
    {
      "cell_type": "markdown",
      "id": "c41448db-17cb-4a42-bacd-fd157ce28ac7",
      "metadata": {
        "tags": [],
        "id": "c41448db-17cb-4a42-bacd-fd157ce28ac7"
      },
      "source": [
        "## Experimental Setup"
      ]
    },
    {
      "cell_type": "code",
      "execution_count": 2,
      "id": "b4898aa8-0d37-4f50-b0be-e43e398612aa",
      "metadata": {
        "id": "b4898aa8-0d37-4f50-b0be-e43e398612aa"
      },
      "outputs": [],
      "source": [
        "from federated_learning.utils import SHAPUtil, experiment_util, Visualizer\n",
        "from federated_learning import ClientPlane, Configuration, ObserverConfiguration\n",
        "from federated_learning.server import Server\n",
        "from datetime import datetime"
      ]
    },
    {
      "cell_type": "code",
      "execution_count": null,
      "id": "792ca166-f3d7-4e15-92cc-6d54c7989729",
      "metadata": {
        "id": "792ca166-f3d7-4e15-92cc-6d54c7989729"
      },
      "outputs": [],
      "source": [
        "def cos_similarity_values(s_client, s_server):\n",
        "    import numpy as np\n",
        "    cos_similarity = [[] for i in range(10)]\n",
        "    shap_subtract = np.subtract(s_client, s_server)\n",
        "    for row_idx, row in enumerate(shap_subtract):\n",
        "        for img_idx, image in enumerate(row):\n",
        "                cos_similarity[row_idx].append(round(np.sum(image.flatten()), 3))\n",
        "\n",
        "    print(np.matrix(cos_similarity))"
      ]
    },
    {
      "cell_type": "code",
      "execution_count": null,
      "id": "49b4532f-b186-47a9-867a-ec27ddbabe8f",
      "metadata": {
        "id": "49b4532f-b186-47a9-867a-ec27ddbabe8f"
      },
      "outputs": [],
      "source": [
        "from scipy import spatial\n",
        "import numpy"
      ]
    },
    {
      "cell_type": "code",
      "execution_count": null,
      "id": "476b47a5-87c0-49b7-8b20-cbe286c75662",
      "metadata": {
        "id": "476b47a5-87c0-49b7-8b20-cbe286c75662"
      },
      "outputs": [],
      "source": [
        "scipy.__version__\n"
      ]
    },
    {
      "cell_type": "code",
      "execution_count": null,
      "id": "d7a592b2-117f-41c4-9de1-a4150c48035f",
      "metadata": {
        "id": "d7a592b2-117f-41c4-9de1-a4150c48035f"
      },
      "outputs": [],
      "source": [
        "numpy.__version__"
      ]
    },
    {
      "cell_type": "code",
      "execution_count": null,
      "id": "11b5b463-a3f6-4100-a908-f167b84455fe",
      "metadata": {
        "id": "11b5b463-a3f6-4100-a908-f167b84455fe"
      },
      "outputs": [],
      "source": [
        "def cos_similarity_values(s_client, s_server):\n",
        "    from scipy import spatial\n",
        "    import numpy as np\n",
        "    cos_similarity_server = [[] for i in range(10)]\n",
        "    cos_similarity_client = [[] for i in range(10)]\n",
        "    shap_subtract = np.subtract(s_client, s_server)\n",
        "    for row_idx, row in enumerate(s_server):\n",
        "        for img_idx, image in enumerate(row):\n",
        "                cos_similarity_server[row_idx].append(np.sum(image.flatten()))\n",
        "    for row_idx, row in enumerate(s_client):\n",
        "        for img_idx, image in enumerate(row):\n",
        "                cos_similarity_client[row_idx].append(np.sum(image.flatten()))\n",
        "    spatial.distance.cosine(np.array(cos_similarity_server).flatten(), np.array(cos_similarity_client).flatten())\n",
        "    return spatial.distance.cosine(np.array(cos_similarity_server).flatten(), np.array(cos_similarity_client).flatten())"
      ]
    },
    {
      "cell_type": "code",
      "execution_count": null,
      "id": "fe31df9b-171e-4ca3-adb5-490ef31cb536",
      "metadata": {
        "id": "fe31df9b-171e-4ca3-adb5-490ef31cb536"
      },
      "outputs": [],
      "source": [
        "def cos_similarity_values(s_client, s_server):\n",
        "    from scipy import spatial\n",
        "    import numpy as np\n",
        "    cos_similarity = [[] for i in range(10)]\n",
        "    similarity_sum = [[] for i in range(10)]\n",
        "    shap_subtract = np.subtract(s_client, s_server)\n",
        "    for row_idx, row in enumerate(s_client):\n",
        "        for img_idx, image in enumerate(row):\n",
        "                cos_similarity[row_idx].append(spatial.distance.cosine(image.flatten(),s_server[row_idx][img_idx].flatten()))\n",
        "                \n",
        "    return np.sum(cos_similarity)\n",
        "    \n"
      ]
    },
    {
      "cell_type": "code",
      "execution_count": null,
      "id": "844e8c3d-9ac7-49c4-b06c-ae145be6b4cb",
      "metadata": {
        "id": "844e8c3d-9ac7-49c4-b06c-ae145be6b4cb"
      },
      "outputs": [],
      "source": [
        "# Works for MNIST\n",
        "def cos_similarity_values(s_client, s_server):\n",
        "    from scipy import spatial\n",
        "    import numpy as np\n",
        "    cos_similarity = [[] for i in range(10)]\n",
        "    differences_sum = [[] for i in range(10)]\n",
        "    shap_subtract = np.subtract(s_client, s_server)\n",
        "    for row_idx, row in enumerate(s_client):\n",
        "        for img_idx, image in enumerate(row):\n",
        "                cos_similarity[row_idx].append(spatial.distance.cosine(image.flatten(),s_server[row_idx][img_idx].flatten()))\n",
        "                differences_sum[row_idx].append(np.sum(shap_subtract[row_idx][img_idx].flatten()))\n",
        "    \n",
        "    return np.sum(cos_similarity), np.array(differences_sum).diagonal()[np.argmax(np.abs(np.array(differences_sum).diagonal()))]\n",
        "    \n"
      ]
    },
    {
      "cell_type": "code",
      "execution_count": null,
      "id": "63136421-a687-4053-a38d-4abf48f2693c",
      "metadata": {
        "id": "63136421-a687-4053-a38d-4abf48f2693c"
      },
      "outputs": [],
      "source": [
        "def cos_similarity_values(s_client, s_server):\n",
        "    from scipy import spatial\n",
        "    import numpy as np\n",
        "    cos_similarity = [[] for i in range(10)]\n",
        "    similarity_sum = [[] for i in range(10)]\n",
        "    shap_subtract = np.subtract(s_client, s_server)\n",
        "    for row_idx, row in enumerate(s_client):\n",
        "        for img_idx, image in enumerate(row):\n",
        "                cos_similarity[row_idx].append(spatial.distance.cosine(image.flatten(),s_server[row_idx][img_idx].flatten()))\n",
        "                similarity_sum[row_idx].append(np.sum(shap_subtract[row_idx][img_idx].flatten()))\n",
        "    argmax = np.argmax(np.array(cos_similarity).diagonal())\n",
        "    print(np.array(cos_similarity).diagonal()[argmax] * np.array(similarity_sum).diagonal()[argmax])\n",
        "    return np.sum(cos_similarity), np.array(cos_similarity).diagonal().dot(np.array(similarity_sum).diagonal())\n",
        "    \n"
      ]
    },
    {
      "cell_type": "code",
      "source": [
        "def cos_similarity_values(s_client, s_server):\n",
        "    from scipy import spatial\n",
        "    import numpy as np\n",
        "    cos_similarity = [[] for i in range(10)]\n",
        "    similarity_sum = [[] for i in range(10)]\n",
        "    #shap_subtract = np.subtract(s_client, s_server)\n",
        "    for row_idx, row in enumerate(s_client):\n",
        "        for img_idx, image in enumerate(row):\n",
        "                cos_similarity[row_idx].append(spatial.distance.cosine(image.flatten(),s_server[row_idx][img_idx].flatten()))\n",
        "                #similarity_sum[row_idx].append(np.sum(shap_subtract[row_idx][img_idx].flatten()))\n",
        "    return np.sum(cos_similarity), np.max(cos_similarity)\n",
        "    \n"
      ],
      "metadata": {
        "id": "P9NJBPFEaDB4"
      },
      "id": "P9NJBPFEaDB4",
      "execution_count": 19,
      "outputs": []
    },
    {
      "cell_type": "markdown",
      "id": "6078464c-3ec0-4085-9b9c-5a6517b5f83d",
      "metadata": {
        "tags": [],
        "id": "6078464c-3ec0-4085-9b9c-5a6517b5f83d"
      },
      "source": [
        "# MNIST"
      ]
    },
    {
      "cell_type": "code",
      "execution_count": null,
      "id": "3d70d54c-5b1f-4155-8c2f-bc504c4c5b80",
      "metadata": {
        "id": "3d70d54c-5b1f-4155-8c2f-bc504c4c5b80"
      },
      "outputs": [],
      "source": [
        "from federated_learning.nets import MNISTCNN\n",
        "from federated_learning.dataset import MNISTDataset\n",
        "import os\n",
        "config = Configuration()\n",
        "config.POISONED_CLIENTS = 0\n",
        "config.DATA_POISONING_PERCENTAGE = 1\n",
        "config.DATASET = MNISTDataset\n",
        "config.MODELNAME = config.MNIST_NAME\n",
        "config.NETWORK = MNISTCNN\n",
        "observer_config = ObserverConfiguration()\n",
        "observer_config.experiment_type = \"shap_fl_poisoned\"\n",
        "observer_config.experiment_id = 1\n",
        "observer_config.test = False\n",
        "observer_config.datasetObserverConfiguration = \"MNIST\"\n",
        "neutral_label = 2"
      ]
    },
    {
      "cell_type": "code",
      "execution_count": null,
      "id": "d7523594-78d7-4902-a244-98e371ed993c",
      "metadata": {
        "id": "d7523594-78d7-4902-a244-98e371ed993c"
      },
      "outputs": [],
      "source": [
        "# Google Colab Settigns\n",
        "config.TEMP = os.path.join('/content/drive/My Drive/Colab Notebooks/temp')\n",
        "config.FMNIST_DATASET_PATH = os.path.join('/content/data/fmnist')\n",
        "config.MNIST_DATASET_PATH = os.path.join('/content/data/mnist')\n",
        "config.CIFAR10_DATASET_PATH = os.path.join('/content/data/cifar10')\n",
        "config.VM_URL = \"none\""
      ]
    },
    {
      "cell_type": "code",
      "execution_count": null,
      "id": "b972cb31-adf5-4c27-808b-e151cecc3f90",
      "metadata": {
        "id": "b972cb31-adf5-4c27-808b-e151cecc3f90",
        "outputId": "3be761aa-c7b3-47e2-fca0-8832c35d36b2"
      },
      "outputs": [
        {
          "name": "stdout",
          "output_type": "stream",
          "text": [
            "MNIST training data loaded.\n",
            "MNIST test data loaded.\n"
          ]
        }
      ],
      "source": [
        "data = config.DATASET(config)\n",
        "shap_util = SHAPUtil(data.test_dataloader) \n",
        "server = Server(config, observer_config,data.train_dataloader, data.test_dataloader, shap_util)\n",
        "visualizer = Visualizer(shap_util)"
      ]
    },
    {
      "cell_type": "markdown",
      "id": "078b7a1b-9860-4cf6-a5bc-1b4ee4b80cf9",
      "metadata": {
        "tags": [],
        "id": "078b7a1b-9860-4cf6-a5bc-1b4ee4b80cf9"
      },
      "source": [
        "## Experiment Setup "
      ]
    },
    {
      "cell_type": "code",
      "execution_count": null,
      "id": "0a070b8f-c3ee-43a8-8cf9-d6e1a791d57e",
      "metadata": {
        "id": "0a070b8f-c3ee-43a8-8cf9-d6e1a791d57e",
        "outputId": "668fac68-8544-4cb3-ba25-8c77223e6853"
      },
      "outputs": [
        {
          "name": "stderr",
          "output_type": "stream",
          "text": [
            "\n",
            "KeyboardInterrupt\n",
            "\n"
          ]
        }
      ],
      "source": [
        "import numpy as np\n",
        "import copy\n",
        "import torch\n",
        "import os\n",
        "for i in range(200):\n",
        "    if (i+1) in [2, 5,10,75,100,200]:\n",
        "        file = \"./temp/models/ex6/MNIST_round_{}.model\".format(i+1)\n",
        "        if not os.path.exists(os.path.dirname(file)):\n",
        "                os.makedirs(os.path.dirname(file))\n",
        "        torch.save(server.net.state_dict(), file)\n",
        "    experiment_util.set_rounds(client_plane, server, i+1)\n",
        "    experiment_util.run_round(client_plane, server, i+1)"
      ]
    },
    {
      "cell_type": "markdown",
      "id": "53511113-cd4d-4f1e-afa1-238e6905f4d6",
      "metadata": {
        "tags": [],
        "id": "53511113-cd4d-4f1e-afa1-238e6905f4d6"
      },
      "source": [
        "## Experiment"
      ]
    },
    {
      "cell_type": "code",
      "execution_count": null,
      "id": "3d857037-940c-4081-bc0f-bb14a64df276",
      "metadata": {
        "id": "3d857037-940c-4081-bc0f-bb14a64df276",
        "outputId": "62063d64-b1f1-4a5a-ff3b-2559d26e3df1"
      },
      "outputs": [
        {
          "name": "stdout",
          "output_type": "stream",
          "text": [
            "MNIST training data loaded.\n",
            "MNIST test data loaded.\n",
            "Create 200 clients with dataset of size 300\n",
            "Load default model successfully\n",
            "20/200 clients cleaned\n",
            "40/200 clients cleaned\n",
            "60/200 clients cleaned\n",
            "80/200 clients cleaned\n",
            "100/200 clients cleaned\n",
            "120/200 clients cleaned\n",
            "140/200 clients cleaned\n",
            "160/200 clients cleaned\n",
            "180/200 clients cleaned\n",
            "200/200 clients cleaned\n",
            "Cleaning successfully\n",
            "\n",
            "Test set: Average loss: 0.0001, Accuracy: 9645/10000 (96%)\n",
            "\n",
            "Original tensor([0.9929, 0.9833, 0.9554, 0.9436, 0.9674, 0.9664, 0.9760, 0.9582, 0.9415,\n",
            "        0.9594]) tensor([0.9567, 0.9876, 0.9527, 0.9744, 0.9754, 0.9610, 0.9709, 0.9535, 0.9704,\n",
            "        0.9416]) 0.9645\n",
            "5421\n",
            "Poison 100/200 clients\n",
            "Flip 100.0% of the 5 labels to 4\n",
            "[ 33  81 137 195 147 128  82  89  75  30  58  99 104 132  19 153 166 182\n",
            "  17  64 140 108 129 194 133  62  91  12 191  97 124  61  60  73 145  95\n",
            "  32 109 181  11  86  67 173  35 139 148 127  21  41 149 193 163  34 184\n",
            " 159  50 141   7 198 138 168 179  76  70  71  77   0  79 155  16 157  48\n",
            " 161  84 180 187  38   2  39  88  85 113   8  47  94  20 114 144  52 188\n",
            " 143 134 142  59 185 131 126  87 172  93]\n",
            "20/100 clients poisoned\n",
            "40/100 clients poisoned\n",
            "60/100 clients poisoned\n",
            "80/100 clients poisoned\n",
            "100/100 clients poisoned\n",
            "Clean\n",
            "Poisoned\n",
            "2660\n",
            "Load default model successfully\n",
            "20/200 clients cleaned\n",
            "40/200 clients cleaned\n",
            "60/200 clients cleaned\n",
            "80/200 clients cleaned\n",
            "100/200 clients cleaned\n",
            "120/200 clients cleaned\n",
            "140/200 clients cleaned\n",
            "160/200 clients cleaned\n",
            "180/200 clients cleaned\n",
            "200/200 clients cleaned\n",
            "Cleaning successfully\n"
          ]
        }
      ],
      "source": [
        "import torch\n",
        "config.FROM_LABEL = 5\n",
        "config.TO_LABEL = 4\n",
        "shap_images = [config.FROM_LABEL ,config.TO_LABEL]\n",
        "for j in [100]:\n",
        "    data = config.DATASET(config)\n",
        "    client_plane = ClientPlane(config, observer_config, data, shap_util)\n",
        "    model_file = file = \"./temp/models/ex5/MNIST_round_{}.model\".format(j)\n",
        "    server.net =  MNISTCNN()\n",
        "    server.net.load_state_dict(torch.load(model_file))\n",
        "    client_plane.reset_default_client_nets()\n",
        "    client_plane.reset_poisoning_attack()\n",
        "\n",
        "    server.test()\n",
        "    recall, precision, accuracy = server.analize_test()\n",
        "    print(\"Original\", recall, precision, accuracy)\n",
        "    server_shap = server.get_shap_values()\n",
        "\n",
        "    config.POISONED_CLIENTS = 100\n",
        "    experiment_util.update_configs(client_plane, server, config, observer_config)\n",
        "    print(len(client_plane.clients[0].train_dataloader.dataset.dataset.targets[client_plane.clients[0].train_dataloader.dataset.dataset.targets == 5]))\n",
        "\n",
        "    client_plane.poison_clients()\n",
        "    clean_clients = experiment_util.select_random_clean(client_plane, config, 100)\n",
        "    poisoned_clients = experiment_util.select_poisoned(client_plane, 100)\n",
        "    clean_distance = []\n",
        "    poisoned_distance = []\n",
        "    clean_diff = []\n",
        "    poisoned_diff = []\n",
        "    print(\"Clean\")\n",
        "    for idx, i in enumerate(clean_clients[:100]):\n",
        "        client_plane.update_clients(server.get_nn_parameters())\n",
        "        client_plane.clients[i].train(j+1)\n",
        "        clean_client_shap = client_plane.clients[i].get_shap_values()\n",
        "        distance, diag_diff = cos_similarity_values(clean_client_shap, server_shap)\n",
        "        clean_distance.append(distance)\n",
        "        clean_diff.append(diag_diff)\n",
        "        if idx+1%100 == 0:\n",
        "            print(clean_distance[idx-50:idx])\n",
        "\n",
        "    print(\"Poisoned\")\n",
        "    server.net =  MNISTCNN()\n",
        "    server.net.load_state_dict(torch.load(model_file))\n",
        "    for idx, i in enumerate(poisoned_clients[:100]):\n",
        "        client_plane.update_clients(server.get_nn_parameters())    \n",
        "        client_plane.clients[i].train(j+1)\n",
        "        poisoned_client_shap = client_plane.clients[i].get_shap_values()\n",
        "        distance, diag_diff = cos_similarity_values(poisoned_client_shap, server_shap)\n",
        "        poisoned_distance.append(distance)\n",
        "        poisoned_diff.append(diag_diff)\n",
        "        if idx+1%50 == 0:\n",
        "            print(poisoned_distance[idx-50:idx])\n",
        "    print(len(client_plane.clients[poisoned_clients[0]].train_dataloader.dataset.dataset.targets[client_plane.clients[poisoned_clients[0]].train_dataloader.dataset.dataset.targets == 5]))\n",
        "    client_plane.reset_default_client_nets()\n",
        "    client_plane.reset_poisoning_attack()"
      ]
    },
    {
      "cell_type": "code",
      "execution_count": null,
      "id": "e24cc959-5270-4580-bdcc-398425084793",
      "metadata": {
        "id": "e24cc959-5270-4580-bdcc-398425084793",
        "outputId": "03263022-fa66-483c-95dd-209f09ef4836"
      },
      "outputs": [
        {
          "name": "stdout",
          "output_type": "stream",
          "text": [
            "[18.33311352494669, 23.201678343879784, 16.184654211062686, 15.753102699421635, 17.237769835446684, 16.41960548315498, 14.297770719013418, 18.082085301588556, 18.165814276865433, 19.333698369169255, 14.290950886508444, 16.616772819004872, 16.62331876906565, 18.488916534262152, 16.237408904996627, 16.31826953899634, 12.971845955789176, 18.657121515868454, 17.752374864399496, 16.157832538230505, 19.614810299816487, 14.056635626478528, 19.204473060330663, 17.84103346477388, 17.46101353847109, 19.125957146284346, 18.436619259397887, 13.925163162366982, 17.421578389406687, 14.910086208149771, 16.32204796829452, 26.46779754019328, 18.11025503962577, 22.1195285426384, 14.707992002033606, 17.03319440257377, 13.651158673716207, 16.453761864108053, 13.887323484648766, 17.33445269838168, 15.999753891134795, 17.554021593557373, 18.404467291406576, 15.930888234851805, 18.461599735481517, 15.464536751911217, 11.433566015365667, 14.138210196727838, 14.089079386558211, 17.619592747772888, 17.78290213012354, 18.912614312227902, 12.833148984702554, 14.72910243755367, 14.36278614982227, 13.16731447019367, 13.347559233105633, 12.478000933962132, 14.293159243223874, 11.43539670758253, 15.0548019280349, 18.84883517225554, 16.810644554496793, 22.665970476887967, 18.273303052794496, 19.106897253069935, 17.577019311186213, 19.178082846628254, 21.019181085165595, 19.67246232009558, 14.76428048380173, 17.288458002914677, 20.35804667055878, 20.507541652697117, 14.297325255538842, 16.692922472030478, 18.293386526788446, 14.31474005244709, 12.53180151774423, 17.09869066631134, 14.871419415554543, 19.003356431757457, 18.350036739020762, 18.54887095587714, 14.395283483687578, 15.778705457318658, 14.559816858730064, 13.587384864417373, 20.743153621672704, 14.961492243019684, 15.08725205229374, 10.598108703360843, 15.300901745698678, 14.71717760084819, 16.460215987804943, 19.131962048920602, 12.407098852572105, 19.02320067161787, 21.270237180907717, 16.632292202060054]\n"
          ]
        }
      ],
      "source": [
        "print(clean_distance)"
      ]
    },
    {
      "cell_type": "code",
      "execution_count": null,
      "id": "7da77ef4-06f4-4121-9e21-52c6ac093607",
      "metadata": {
        "id": "7da77ef4-06f4-4121-9e21-52c6ac093607",
        "outputId": "9d4546ae-3413-4ac8-95ce-66a16e32428d"
      },
      "outputs": [
        {
          "name": "stdout",
          "output_type": "stream",
          "text": [
            "[-0.1486991124824284, -0.09459700397036475, -0.25965698778079727, -0.12642251307241992, -0.09902670330619046, -0.13587759386584963, 0.09182233302874598, 0.1290072166706988, -0.2664530125514446, 0.12443237856291978, 0.10966485969050699, 0.12555956736753826, -0.07346741377246158, -0.10069260680532821, -0.1621928865354203, 0.09359394104269003, 0.11083005834775861, -0.1311725171908975, 0.12013834046898442, 0.12561838441053075, 0.07483562668162591, 0.13117683252161738, -0.26076982479037625, -0.14952023221607647, 0.07340427908507663, -0.2305527574564401, -0.22171318711740895, 0.05787796575308235, -0.07682500404840198, 0.11486983960705066, 0.09649084180521061, -0.16695019813241363, 0.12655395347809806, -0.24953359489396476, 0.11406822177285703, 0.12162475848954957, -0.03889586702668202, -0.25722693447841394, -0.12044171266454218, -0.2031417731858891, -0.1318321368650911, 0.08241019193192489, -0.19807406868077287, -0.14477308975543768, 0.07131651112911097, 0.10765262723114644, 0.11196431947141317, 0.09824284432185043, -0.06870817869429846, 0.042170585613500844, -0.10624742831463524, 0.1261725934021345, 0.10639692242234489, -0.09695623882265098, 0.1084190648094796, -0.26195371395209577, 0.1146436887471518, -0.11534155061750273, -0.08057237384065108, -0.08155939050092986, -0.3351693906521973, 0.12684898976581627, -0.13183783536409355, -0.08537427206597226, -0.42689145314126153, -0.08516337353189485, -0.15576316859905504, 0.09789401241338647, -0.09384309081140618, 0.10955266533049857, 0.12543438264715245, -0.20242731966219552, -0.307774969155755, 0.09666057154343788, 0.13200315390078288, -0.1364230648369542, -0.11246859965059741, 0.09820247676229066, -0.15213554363971238, 0.11797791626858278, -0.21487509397304905, -0.1415772740349044, 0.08547112779440169, -0.2073567834365142, 0.1370002236296681, 0.09620262110184852, -0.097047677732224, 0.07595570758323822, -0.33826756771547917, -0.12081178948972848, -0.3016892545513966, 0.049244736609832085, 0.11778322443114275, 0.12913894455862363, -0.11858496714913347, 0.05551678441497998, -0.12953172361313303, -0.06753665783997853, -0.20113626811477126, -0.17451091435042443]\n"
          ]
        }
      ],
      "source": [
        "print(clean_diff)"
      ]
    },
    {
      "cell_type": "code",
      "execution_count": null,
      "id": "a50c7c50-9537-4036-abeb-e9c51a20c108",
      "metadata": {
        "id": "a50c7c50-9537-4036-abeb-e9c51a20c108",
        "outputId": "404f79c6-6acc-4c50-e9fb-a526e5aa5f9b"
      },
      "outputs": [
        {
          "name": "stdout",
          "output_type": "stream",
          "text": [
            "[28.04329177855942, 22.93405699120005, 26.2990541616805, 31.190730349238464, 26.1395801053027, 26.02826795305603, 26.610442662843923, 29.948690987415024, 26.57743309560643, 20.14462525056864, 27.08486952423729, 27.39696382431955, 29.72890185947621, 23.985954493735797, 31.521471338803664, 24.037655784426835, 25.043033724471538, 27.81954652029426, 24.373356532018732, 28.484436636716737, 26.460630421096056, 25.709237106342368, 25.562342074149626, 30.342497501863292, 25.26216911372805, 24.720436185632092, 31.14751259727102, 31.626622404521026, 23.222494050134436, 28.567032546362622, 25.830699558957537, 23.498115835029374, 27.916143060260914, 27.43902306878096, 27.762799546549353, 28.18545516207597, 30.564485656712534, 27.093576917495763, 28.03259257940968, 26.103799786100293, 27.28949037104967, 25.732275693576465, 27.686556415286557, 22.558289562065987, 28.452092466335383, 25.05285428305678, 25.688484486136694, 23.4268288797131, 24.045595845195916, 23.417017701155448, 25.03938557523374, 28.32168348184093, 30.19209438574869, 26.043847051209934, 29.361076800095713, 24.337112428189403, 25.192909031639772, 25.03267725500663, 30.08916589643513, 27.922777540300338, 28.75961920319974, 30.173439176805633, 25.037880831168238, 29.446869745952753, 27.277612703524873, 29.120006446656753, 30.16336554605169, 28.08004246014861, 22.428282541921313, 28.927975915194946, 30.049802066670754, 31.74983586550315, 31.65677173490635, 29.091950383683493, 25.619420113521088, 26.20683393987021, 33.93366312386638, 30.016239012983213, 27.810526020425534, 26.906986762383625, 25.122869576215688, 28.27691089608135, 25.034941507092448, 27.53243098962178, 26.300878826361387, 28.714706104930674, 26.987185648180507, 26.556571602398584, 27.1506582375436, 24.426678836033517, 26.27882241270469, 28.526265715054766, 27.833708197716305, 27.189855776908285, 23.857964890816675, 30.271939981292064, 25.267286847131626, 25.63731390473097, 29.721700242643323, 27.101416060940604]\n"
          ]
        }
      ],
      "source": [
        "print(poisoned_distance)"
      ]
    },
    {
      "cell_type": "code",
      "execution_count": null,
      "id": "9d19ffbf-a2eb-42b8-bbce-84f03972027e",
      "metadata": {
        "id": "9d19ffbf-a2eb-42b8-bbce-84f03972027e",
        "outputId": "3ad2e94b-fc48-4306-be27-892f3502e1cf"
      },
      "outputs": [
        {
          "name": "stdout",
          "output_type": "stream",
          "text": [
            "[-0.8583076200646338, -0.569406840438363, -0.6887880949712275, -0.8248883188208039, -0.7909074141930741, -0.8487678296163182, -0.8257749522394977, -0.7392819164821521, -0.6675609808983773, -0.78294910934676, -0.8685446707718462, -0.812936969756171, -0.5400314670506599, -0.8249583526042539, -0.7890450542218508, -0.7734220995465548, -0.8987628415913675, -0.7896936976664086, -0.8097004714397675, -0.8879299197159284, -0.7321554427470038, -0.8696349906937266, -0.7240002458072565, -0.7786036951565891, -0.8098786359367081, -0.7989976901228182, -0.8387975333634969, -0.7879335318114127, -0.7126637285200674, -0.7716509459939065, -0.8262713273915361, -0.8152598042895183, -0.8615041474496457, -0.8598192093446346, -0.7563358493446029, -0.7543082148027889, -0.8562372364832118, -0.6934838069804892, -0.5192433323732462, -0.6585372632992632, -0.8059805205846072, -0.8542938496379078, -0.6438503504821602, -0.6331999060895657, -0.8474947175094347, -0.9047619906487256, -0.826799505745771, -0.7467900879026419, -0.4374822283207127, -0.7149444587628617, -0.8876210870218489, -0.6855918391532856, -0.7833113729517647, -0.7354224184212645, -0.8704396990337195, -0.7251793473862085, -0.6338427760282463, -0.8243153519482873, -0.8253952096457702, -0.8703808609001397, -0.8421670216148084, -0.7963254725898768, -0.8326676757782205, -0.7760777375903185, -0.8292680126094667, -0.6780946347682635, -0.9013414672088496, -0.6436402363982303, -0.6817602049974005, -0.7842567629816477, -0.7293316371154925, -0.8756094909706117, -0.6922935682791126, -0.7564029055426488, -0.8667358700893721, -0.8825618155335224, -0.7198946812434688, -0.7960638535079272, -0.679371490907918, -0.8357825029489834, -0.7580370131068672, -0.8700939876097703, -0.8418188251027804, -0.7525056403279446, -0.8000694737600962, -0.7401101379817275, -0.892557110482814, -0.866590834987508, -0.851448469149831, -0.7974006932842226, -0.6806328293050492, -0.7511877229881825, -0.6901186929166752, -0.842934721488942, -0.47749285698597577, -0.6114483662393526, -0.79878972570543, -0.7594892266816109, -0.8718521505011042, -0.6437824377523096]\n"
          ]
        }
      ],
      "source": [
        "print(poisoned_diff)"
      ]
    },
    {
      "cell_type": "code",
      "execution_count": null,
      "id": "50149c4b-b902-454e-961a-5178a85a8ae1",
      "metadata": {
        "id": "50149c4b-b902-454e-961a-5178a85a8ae1"
      },
      "outputs": [],
      "source": [
        "poisoned_distance = [26.304913895554467, 28.768744721294805, 24.496953324151264, 28.929839974703384, 30.041622105106505, 28.88000855001611, 22.01042583325992, 24.93373246362499, 30.829588181152587, 26.573307706218213, 29.11585749038093, 30.518763749735392, 30.470510815776617, 24.65846549799402, 27.435934338719495, 23.53978293493098, 28.903363247072992, 25.151103611455238, 24.19006292306411, 29.854129167928154, 24.24058826902404, 29.686370685796913, 23.114331351251575, 27.16563310375412, 28.005433684227697, 28.341367657991025, 20.87087301188547, 24.944001244921502, 23.613396812544753, 25.84197931185814, 25.42082457463699, 27.064802409278073, 27.169415787641523, 26.095332051218293, 23.527566277750083, 26.925788665094586, 29.32743750213389, 28.499650131001374, 23.99977229019223, 29.652332464932528, 25.86096832558339, 30.10597346446337, 27.9014589668157, 30.272807680104407, 24.57113404545461, 24.738084647096215, 28.760206459305433, 30.677700740328405, 24.90229486896232, 33.75485653580947, 22.540291472205496, 29.77253778093523, 27.579933265488734, 25.320884654836256, 26.085117157528366, 25.850617909167696, 21.02256957099018, 26.806294758842782, 28.504632803916568, 30.833328173032047, 27.27665372717368, 27.110192746325577, 31.178069113699802, 23.708229359061615, 24.98079209861254, 34.166631664311424, 24.558344975098933, 28.96271542587465, 26.53594528203352, 22.04241262903232, 24.97811138148062, 31.191584406990856, 27.94326613376075, 27.58328636428841, 33.778879817737675, 27.37516151125356, 23.45526477047413, 27.19223959911988, 24.79286884779608, 27.142371164110298, 25.502275680758405, 24.608368838030934, 30.77356991015325, 24.139080907858062, 27.66715793410768, 31.880198185299843, 28.310216677922924, 32.52280544078636, 26.41893615572775, 22.312492240637773, 25.812189401328244, 30.20124998256374, 30.233796252016315, 24.24945537877363, 28.21021020831755, 22.957231846731986, 26.68451811504838, 28.508423343006406, 26.234117161682775, 30.15992370832739]"
      ]
    },
    {
      "cell_type": "code",
      "execution_count": null,
      "id": "3d59246c-c51c-46ea-8359-40fd7ed59e31",
      "metadata": {
        "id": "3d59246c-c51c-46ea-8359-40fd7ed59e31"
      },
      "outputs": [],
      "source": [
        ""
      ]
    },
    {
      "cell_type": "code",
      "execution_count": null,
      "id": "81fe97c7-467f-45e6-8c95-48b6c86cdbc9",
      "metadata": {
        "id": "81fe97c7-467f-45e6-8c95-48b6c86cdbc9",
        "outputId": "3aca4833-53b8-49ff-a566-d33f4c34a656"
      },
      "outputs": [
        {
          "name": "stdout",
          "output_type": "stream",
          "text": [
            "[4.96583783 4.61425022 5.15367397 3.70152706 2.54571858 1.75864037\n",
            " 2.59281241 2.81507922 5.23826165 4.34160674 5.03724042 2.70055827\n",
            " 3.57846082 3.63228413 2.45018664 3.13208237 2.24805678 2.61931077\n",
            " 5.74107246 3.36515621 2.16078415 5.64317652 3.01233409 2.34380852\n",
            " 4.84338039 3.41656894 2.07963981 2.45371543 2.60570177 2.29001258\n",
            " 2.02774796 3.99754964 3.30733384 2.75574305 2.521787   2.22768301\n",
            " 2.76707482 1.72522182 3.52160862 2.58059689 3.00327736 3.19242359\n",
            " 2.1239961  2.99383676 2.33431952 4.17840191 4.64131956 2.5299296\n",
            " 4.21550609 4.09566487 5.39436675 3.40356152 3.43110258 4.50041964\n",
            " 7.15375384 2.98014552 6.4832904  2.08811485 3.52475133 2.97818815\n",
            " 4.84765422 3.52755497 3.83821563 3.77678892 2.10025973 1.89496203\n",
            " 2.10579291 1.77406834 3.8480871  5.08742284 2.0213579  2.10324355\n",
            " 3.20411096 2.20759407 3.63113669 2.87623086 3.96098894 2.83212078\n",
            " 3.00828264 4.38292435 2.08481165 2.0033856  3.40813707 2.45342042\n",
            " 5.42144955 2.43159906 3.94711871 2.24582474 3.84685947 3.1146119\n",
            " 2.72643067 2.40049023 6.14818876 2.53482823 4.65599291 1.91289077\n",
            " 2.86771525 3.61835072 4.20077977 5.30634556]\n"
          ]
        }
      ],
      "source": [
        "import numpy as np\n",
        "print(np.sum(np.array(poisoned_max), axis=1))"
      ]
    },
    {
      "cell_type": "code",
      "execution_count": null,
      "id": "143d14b0-c9a9-438b-90f2-36d38398fe8b",
      "metadata": {
        "id": "143d14b0-c9a9-438b-90f2-36d38398fe8b",
        "outputId": "1520ea52-b0d3-4bc5-8a2d-de657d702227"
      },
      "outputs": [
        {
          "name": "stdout",
          "output_type": "stream",
          "text": [
            "[4.61987687 2.87527493 4.34872613 2.3255856  4.34142862 4.62431781\n",
            " 4.39405453 4.67186702 4.63992103 2.4605668  3.22147007 2.84640077\n",
            " 3.34296018 3.09998645 2.61574937 2.9956768  2.06389271 0.6960543\n",
            " 3.01784519 1.88149864 4.48640393 2.60496103 1.90513327 2.6050237\n",
            " 3.10644562 1.37041067 4.97972843 2.08663756 2.09207863 4.99201792\n",
            " 4.31917687 2.73667933 5.12519207 4.8635525  2.47924368 4.39613882\n",
            " 4.13080474 4.30494006 3.53309687 3.50285118 5.64702299 2.50741676\n",
            " 2.43210012 0.81117507 2.26143381 3.12050934 2.68081032 4.03967061\n",
            " 6.38536298 3.81770291 4.72964121 2.31097171 2.46208599 5.05134857\n",
            " 3.53949554 2.88105052 3.99258742 4.50805574 1.98121158 2.94409352\n",
            " 2.06488533 2.53904899 3.83569395 1.18956072 3.97865149 2.49318799\n",
            " 2.61769346 2.83892953 1.37637701 5.91223576 2.65464378 2.10875774\n",
            " 3.42484292 3.4002331  5.15981937 3.98070208 2.08431699 5.07535474\n",
            " 1.86347556 2.15129874 1.80239022 4.04653238 3.42562101 2.2507038\n",
            " 3.55772528 1.76769577 5.42315649 3.00588771 2.69420352 3.07711835\n",
            " 2.8750398  3.38696565 4.66943884 7.23377803 4.15105807 1.3338116\n",
            " 5.83130424 2.0346511  2.54917132 3.20387335]\n"
          ]
        }
      ],
      "source": [
        "print(np.sum(np.array(clean_max), axis=1))"
      ]
    },
    {
      "cell_type": "code",
      "execution_count": null,
      "id": "d322a4a5-0ce2-4da3-8963-d1f775e29ea3",
      "metadata": {
        "id": "d322a4a5-0ce2-4da3-8963-d1f775e29ea3",
        "outputId": "1a4d3453-ff80-4ae1-8002-4542452efcff"
      },
      "outputs": [
        {
          "data": {
            "text/plain": [
              "[0.001277748437136239,\n",
              " 0.37562921319451104,\n",
              " 0.024410925266441397,\n",
              " 0.017548063231149436,\n",
              " 0.0013775012023081734,\n",
              " 0.0009688085656576195,\n",
              " 0.0012834730540204342,\n",
              " 0.0046157339802048725,\n",
              " 1.102438259910724,\n",
              " 0.189220115997923]"
            ]
          },
          "execution_count": 42,
          "metadata": {},
          "output_type": "execute_result"
        }
      ],
      "source": [
        "min(clean_min)"
      ]
    },
    {
      "cell_type": "code",
      "execution_count": null,
      "id": "14ca84e4-fedc-49f7-89b6-61e2853e49ac",
      "metadata": {
        "id": "14ca84e4-fedc-49f7-89b6-61e2853e49ac",
        "outputId": "f44585f3-5040-402c-ffbb-468d8bc201bc"
      },
      "outputs": [
        {
          "data": {
            "text/plain": [
              "[1.5471883774845747,\n",
              " 1.143223064492457,\n",
              " 0.13190825255036587,\n",
              " 0.05471759821022815,\n",
              " 0.0831212692487796,\n",
              " 0.05179054200449862,\n",
              " 0.057788786175582696,\n",
              " 0.7154917580150293,\n",
              " 0.030907432766011156,\n",
              " 1.031517143332881]"
            ]
          },
          "execution_count": 40,
          "metadata": {},
          "output_type": "execute_result"
        }
      ],
      "source": [
        "max(poisoned_max)"
      ]
    },
    {
      "cell_type": "code",
      "execution_count": null,
      "id": "ccfab369-b7ba-4a32-ae21-c90504d1b917",
      "metadata": {
        "id": "ccfab369-b7ba-4a32-ae21-c90504d1b917",
        "outputId": "0ba5bbb2-4a0d-48a3-c66f-c736bd4f2044"
      },
      "outputs": [
        {
          "name": "stdout",
          "output_type": "stream",
          "text": [
            "[30.755455253172272, 25.032426809456844, 30.139292061492117, 23.115211217099095, 24.155482546976998, 26.49177395325203, 24.04393426092334, 24.06141420773503, 23.42248388128856, 27.929969598658953, 25.29847049968215, 27.378213281060386, 25.650364409837888, 22.108527414659036, 24.88305289963074, 25.61555750654892, 23.514214071239884, 26.218776111140745, 18.689749127117214, 25.446594608229432, 22.934166023952542, 20.69154779561124, 21.117118541926956, 22.79689225667117, 28.25574048326921, 20.807160639199594, 24.39117699226789, 26.200097994789104, 25.98545534431143, 22.391670982395496, 24.2531107247435, 27.2166562311953, 16.188746168600527, 24.611823576150066, 24.772874681199337, 22.5107108227827, 26.758785422101038, 22.307644265229367, 20.52478105908785, 25.721204920067258, 25.174638904521274, 25.410079023881117, 28.584298505819646, 21.32697883080845, 27.85354628196658, 25.500484846525246, 24.22724135281804, 23.125231425804746, 21.79859987507048, 23.339960722091643, 25.704528498756584, 20.754881807855178, 25.474061823840746, 22.95792882038717, 23.211678780038213, 22.83837111707534, 22.629679297488092, 24.202673758695845, 25.5997827123247, 21.853690548331283, 25.58329706743382, 21.71557782603709, 20.349278830615074, 25.651274170463907, 23.254440681456845, 21.873837616106815, 22.17277738099743, 25.449085268854542, 25.206062898517263, 22.84445528424684, 28.467995003799963, 21.832147789202708, 25.117743733303296, 27.140966998736747, 20.033138711624446, 24.99764980017393, 20.089568716851655, 21.3059967957924, 22.923216951517205, 23.885110424823555, 20.804580566862874, 20.08130978440981, 22.253718969700163, 21.346169271649746, 25.966949321720445, 20.96666405937186, 27.242338103097328, 26.59465317558002, 24.028667380719767, 28.123587007818845, 24.07159711573841, 24.20368039273597, 22.570877026429663, 24.50332437217037, 29.107248885120693, 24.2434478248088, 22.984561609082906, 22.611877414209772, 26.82009905108464, 26.31787826944305]\n"
          ]
        }
      ],
      "source": [
        "print(poisoned_distance)\n"
      ]
    },
    {
      "cell_type": "code",
      "execution_count": null,
      "id": "096f13e5-d679-4644-bf9b-a37dc60f850e",
      "metadata": {
        "id": "096f13e5-d679-4644-bf9b-a37dc60f850e",
        "outputId": "d2f2a932-2848-4621-f8ed-f41ecf167d0a"
      },
      "outputs": [
        {
          "name": "stdout",
          "output_type": "stream",
          "text": [
            "[22.116639855287918, 17.774297429467715, 19.35761610162297, 18.330716405062322, 20.674600970747644, 17.47788222261395, 20.625261240838718, 17.846328787417406, 15.10062720731522, 13.736695388660236, 14.38184339517803, 16.117004489371546, 18.900725716989083, 14.424026077485538, 16.37803588326923, 17.145778382069693, 16.45641617889178, 13.53036707169336, 13.462994937275468, 15.63340457004331, 16.889812464787234, 20.599922771785085, 18.342640450421786, 12.097556153110016, 14.621062456211236, 16.290222234013616, 19.842198931578075, 17.805880036438303, 17.401179721982018, 16.03788557560193, 20.366592390888293, 17.608049777609747, 14.500922777031363, 19.215913578984267, 17.788930416082216, 15.940645952173657, 19.65821206999173, 16.378655643285583, 14.547973749189502, 16.121043469077204, 18.828194573186984, 17.817576917246985, 14.197214396406235, 16.266961717424337, 17.11472634160036, 12.60610394623252, 15.716909293700272, 16.828630370785074, 22.218944435719408, 15.480600329114425, 20.987298374006915, 12.46580830412994, 13.73590721089785, 14.341746882762857, 15.589019629015363, 18.67483700615574, 20.297084591396395, 17.200504752383672, 22.65942323950773, 13.599995255690068, 18.764885196226363, 13.584266369951676, 14.887872859625492, 13.110633818724585, 18.296546862911136, 16.769752238620416, 17.82835690031068, 20.50837943558955, 14.891452241962961, 21.055636236960453, 18.54793417019878, 20.043795857749384, 15.726015077756957, 20.608247820693016, 13.559418238722895, 12.417691413477996, 15.90305110950891, 17.85410666935194, 16.60598047734792, 19.928640487251997, 12.100533133795341, 16.062357487869257, 13.318473026330224, 18.66304171761905, 17.14361416959783, 16.865873876511802, 14.661650826400159, 14.779163607334693, 13.368223308975619, 14.874558706594966, 18.606477943595376, 15.213594379976652, 19.24465937220804, 20.300237550903145, 14.802400589931885, 16.60439971864171, 18.796882063789475, 14.738322965253328, 19.6354331867532, 13.39585157685283]\n"
          ]
        }
      ],
      "source": [
        "print(clean_distance)"
      ]
    },
    {
      "cell_type": "code",
      "execution_count": null,
      "id": "8755b71d-d0bb-44d6-8c87-abb9045f4bd4",
      "metadata": {
        "id": "8755b71d-d0bb-44d6-8c87-abb9045f4bd4",
        "outputId": "f4ef2e6a-3e65-4fb4-dc85-fff877655ef4"
      },
      "outputs": [
        {
          "name": "stdout",
          "output_type": "stream",
          "text": [
            "[24.051489495607896, 28.831008810765415, 25.632336981977335, 24.229990744870594, 23.133240916840386, 22.22363146163848, 28.73751030669847, 28.95507892990102, 27.745664489933553, 24.903737713953863, 25.027305738934977, 23.563431077466078, 24.868272206672213, 25.68136861587653, 21.965448228250217, 28.1829270040029, 27.765861896010946, 25.532401264237375, 22.700614732774035, 26.107819808253137, 20.366026567071454, 24.62883696510425, 29.50028982703323, 28.021064801743215, 28.999130073342315, 28.649752876317088, 27.204765189545064, 30.646384915713956, 24.55192724405848, 23.042745919181844, 22.468438231293433, 25.455418391059258, 20.873184739433604, 19.203837120913466, 25.638018330352995, 26.935628402720848, 24.18904194962456, 18.88016544836806, 23.717556935998314, 29.3407845948178, 30.154655846739143, 21.47844368557781, 27.383255139936125, 23.39665299612276, 26.703127682016635, 25.608637485195928, 23.127303984439013, 27.920089754701095, 23.133168816137143, 23.81959287251483, 23.138536061813976, 22.454457488199782, 24.190987405757546, 25.063096208271983, 27.349672286185857, 22.798213151281413, 22.942102257715327, 24.630652505067612, 20.253745485082206, 27.43093595357434, 23.27427632472371, 24.55972310610529, 19.892373272151012, 24.371953807464035, 26.406234578274212, 22.615280044534, 20.682350883882247, 28.99840874921709, 24.483762327213405, 20.947058515858426, 24.211561160571037, 21.887514186367145, 27.68094068086978, 26.70951921824483, 28.596769065463373, 22.75408681596587, 23.292635008856312, 23.601448018707085, 24.137440232527545, 21.753743361290304, 31.149567462751136, 25.070398941657206, 26.823878864956892, 27.11920763601336, 25.887018315908932, 23.49463804901002, 23.804015209683005, 22.463818756780594, 22.089098444335466, 24.187823501197297, 24.262978296698336, 24.243073623402907, 24.7098465713884, 25.47025056316732, 26.745364954052906, 22.839043162085122, 26.38905285398948, 20.818700897812505, 23.809967763971702, 22.683598435155773]\n"
          ]
        }
      ],
      "source": [
        "print(poisoned_distance)"
      ]
    },
    {
      "cell_type": "markdown",
      "id": "a266a1b2-03b6-47d9-a3df-f7b031b3ee3e",
      "metadata": {
        "id": "a266a1b2-03b6-47d9-a3df-f7b031b3ee3e"
      },
      "source": [
        "# Fashion MNIST"
      ]
    },
    {
      "cell_type": "code",
      "execution_count": 4,
      "id": "68aff4bd-5c29-49fd-9a9c-5139699e19cc",
      "metadata": {
        "id": "68aff4bd-5c29-49fd-9a9c-5139699e19cc"
      },
      "outputs": [],
      "source": [
        "from federated_learning.nets import FMNISTCNN\n",
        "from federated_learning.dataset import FMNISTDataset\n",
        "import os\n",
        "config = Configuration()\n",
        "config.POISONED_CLIENTS = 0\n",
        "config.DATA_POISONING_PERCENTAGE = 1\n",
        "config.DATASET = FMNISTDataset\n",
        "config.MODELNAME = config.FMNIST_NAME\n",
        "config.NETWORK = FMNISTCNN\n",
        "observer_config = ObserverConfiguration()\n",
        "observer_config.experiment_type = \"shap_fl_poisoned\"\n",
        "observer_config.experiment_id = 1\n",
        "observer_config.test = False\n",
        "observer_config.datasetObserverConfiguration = \"MNIST\"\n",
        "neutral_label = 2"
      ]
    },
    {
      "cell_type": "code",
      "execution_count": 6,
      "id": "40c9a121-61f6-4066-bdfc-07e923bb7d6e",
      "metadata": {
        "id": "40c9a121-61f6-4066-bdfc-07e923bb7d6e"
      },
      "outputs": [],
      "source": [
        "# Google Colab Settigns\n",
        "config.TEMP = os.path.join('/content/drive/My Drive/Colab Notebooks/temp')\n",
        "config.FMNIST_DATASET_PATH = os.path.join('/content/data/fmnist')\n",
        "config.MNIST_DATASET_PATH = os.path.join('/content/data/mnist')\n",
        "config.CIFAR10_DATASET_PATH = os.path.join('/content/data/cifar10')\n",
        "config.VM_URL = \"none\""
      ]
    },
    {
      "cell_type": "code",
      "execution_count": 7,
      "id": "41fb51e7-cf94-4c2c-8cff-b48065fecce0",
      "metadata": {
        "id": "41fb51e7-cf94-4c2c-8cff-b48065fecce0",
        "outputId": "2031598c-45ac-40a6-95ea-a79a5311b57c",
        "colab": {
          "base_uri": "https://localhost:8080/",
          "height": 502,
          "referenced_widgets": [
            "76d7fb538cb948ebb8f5c7f0fdd8e364",
            "51828d8518844dc1b8e2f91a3f4f6b36",
            "00061c35a0a04bfe8d7d1420d6e59c66",
            "a035f0b2551b4d4dbbad4dd9c7a8eefc",
            "cee1629ea5e041cfb32f40b588bdafbd",
            "aa77356552884ddbbcd7b4bc320414f3",
            "bff7c3ead2954ecb9ecaffc47e952e7a",
            "50b7fb177e614b219c48106d3cb73f45",
            "dd9095a327db4b00b2c039493aa12a04",
            "a921394dff694adf8069b436a167229f",
            "c77200f658fe416e8559d2411bd86ee1",
            "32e7272cfb214516b99fc0c4d91df36c",
            "148640a1429f47da891fe4231fd71693",
            "dc5a262bd30246f7a666656ca8884f0d",
            "e59f1b67dbef4d72bfead0411cad1dda",
            "a2e6175300e64514a3a7471b0a1386a5",
            "943c58488c504376b3e9623ec8b0aa62",
            "4640abb148e7470fbf7df478dbdc2c19",
            "1b868fa1592e4afeab25f0d6bed46992",
            "791ffd9e5feb42c5a30b19c585d4c8ca",
            "9b161079c4544d74a74c91daee9da9d3",
            "de9424722b03404c85fdf60c91ba1c37",
            "b62734d37476482a8f8f0e71c1ab611f",
            "33ca1dcd518846aa977faac036326846",
            "5d8028166d904a6abe44161e079f6ba0",
            "24cd61d3fa14432590b416f09246781e",
            "651ef213276044d68d0aa068897b65de",
            "1138db8ac7bd42ad98b9f468c5f8eb73",
            "7c929515a86d4c72b25cc4e37ddd5fe0",
            "91b39492002841a78595543d0daa5eb8",
            "2c7925573d934d59879bcdd856eb7f3b",
            "7455fc7f09524975803189c017f2b1b1",
            "de045f797dd84c258c59a95e1b9f16c3",
            "1318cc971ab3417585154222b62af03d",
            "b63585053506446b8b883725c70de890",
            "f068917894fa46a7806ca6c78cbea7ad",
            "2be05f7170a340699b4538bbf8876cb7",
            "36b7b00ad6f74168a1be98869abcae85",
            "34b2968a38c24feab364cdccb1865008",
            "5e919a4a1a3047fea9aea3744325106f",
            "977d7b1af1b344ffaf9ec4bafafeeaf5",
            "429f6d23bcad468eb2a711aa9fea17e9",
            "fcd9f80b6403493e9f35ad4cd09ef070",
            "3af640de0fef489ea2be1726a26c13ad"
          ]
        }
      },
      "outputs": [
        {
          "output_type": "stream",
          "name": "stdout",
          "text": [
            "Downloading http://fashion-mnist.s3-website.eu-central-1.amazonaws.com/train-images-idx3-ubyte.gz\n",
            "Downloading http://fashion-mnist.s3-website.eu-central-1.amazonaws.com/train-images-idx3-ubyte.gz to /content/data/fmnist/FashionMNIST/raw/train-images-idx3-ubyte.gz\n"
          ]
        },
        {
          "output_type": "display_data",
          "data": {
            "text/plain": [
              "  0%|          | 0/26421880 [00:00<?, ?it/s]"
            ],
            "application/vnd.jupyter.widget-view+json": {
              "version_major": 2,
              "version_minor": 0,
              "model_id": "76d7fb538cb948ebb8f5c7f0fdd8e364"
            }
          },
          "metadata": {}
        },
        {
          "output_type": "stream",
          "name": "stdout",
          "text": [
            "Extracting /content/data/fmnist/FashionMNIST/raw/train-images-idx3-ubyte.gz to /content/data/fmnist/FashionMNIST/raw\n",
            "\n",
            "Downloading http://fashion-mnist.s3-website.eu-central-1.amazonaws.com/train-labels-idx1-ubyte.gz\n",
            "Downloading http://fashion-mnist.s3-website.eu-central-1.amazonaws.com/train-labels-idx1-ubyte.gz to /content/data/fmnist/FashionMNIST/raw/train-labels-idx1-ubyte.gz\n"
          ]
        },
        {
          "output_type": "display_data",
          "data": {
            "text/plain": [
              "  0%|          | 0/29515 [00:00<?, ?it/s]"
            ],
            "application/vnd.jupyter.widget-view+json": {
              "version_major": 2,
              "version_minor": 0,
              "model_id": "32e7272cfb214516b99fc0c4d91df36c"
            }
          },
          "metadata": {}
        },
        {
          "output_type": "stream",
          "name": "stdout",
          "text": [
            "Extracting /content/data/fmnist/FashionMNIST/raw/train-labels-idx1-ubyte.gz to /content/data/fmnist/FashionMNIST/raw\n",
            "\n",
            "Downloading http://fashion-mnist.s3-website.eu-central-1.amazonaws.com/t10k-images-idx3-ubyte.gz\n",
            "Downloading http://fashion-mnist.s3-website.eu-central-1.amazonaws.com/t10k-images-idx3-ubyte.gz to /content/data/fmnist/FashionMNIST/raw/t10k-images-idx3-ubyte.gz\n"
          ]
        },
        {
          "output_type": "display_data",
          "data": {
            "text/plain": [
              "  0%|          | 0/4422102 [00:00<?, ?it/s]"
            ],
            "application/vnd.jupyter.widget-view+json": {
              "version_major": 2,
              "version_minor": 0,
              "model_id": "b62734d37476482a8f8f0e71c1ab611f"
            }
          },
          "metadata": {}
        },
        {
          "output_type": "stream",
          "name": "stdout",
          "text": [
            "Extracting /content/data/fmnist/FashionMNIST/raw/t10k-images-idx3-ubyte.gz to /content/data/fmnist/FashionMNIST/raw\n",
            "\n",
            "Downloading http://fashion-mnist.s3-website.eu-central-1.amazonaws.com/t10k-labels-idx1-ubyte.gz\n",
            "Downloading http://fashion-mnist.s3-website.eu-central-1.amazonaws.com/t10k-labels-idx1-ubyte.gz to /content/data/fmnist/FashionMNIST/raw/t10k-labels-idx1-ubyte.gz\n"
          ]
        },
        {
          "output_type": "display_data",
          "data": {
            "text/plain": [
              "  0%|          | 0/5148 [00:00<?, ?it/s]"
            ],
            "application/vnd.jupyter.widget-view+json": {
              "version_major": 2,
              "version_minor": 0,
              "model_id": "1318cc971ab3417585154222b62af03d"
            }
          },
          "metadata": {}
        },
        {
          "output_type": "stream",
          "name": "stdout",
          "text": [
            "Extracting /content/data/fmnist/FashionMNIST/raw/t10k-labels-idx1-ubyte.gz to /content/data/fmnist/FashionMNIST/raw\n",
            "\n",
            "FashionMnist training data loaded.\n",
            "FashionMnist training data loaded.\n",
            "Create 200 clients with dataset of size 300\n"
          ]
        }
      ],
      "source": [
        "data = config.DATASET(config)\n",
        "shap_util = SHAPUtil(data.test_dataloader) \n",
        "server = Server(config, observer_config,data.train_dataloader, data.test_dataloader, shap_util)\n",
        "client_plane = ClientPlane(config, observer_config, data, shap_util)\n",
        "visualizer = Visualizer(shap_util)"
      ]
    },
    {
      "cell_type": "code",
      "execution_count": null,
      "id": "6bf856de-9c7d-428f-a02d-22b950def20a",
      "metadata": {
        "id": "6bf856de-9c7d-428f-a02d-22b950def20a"
      },
      "outputs": [],
      "source": [
        "import numpy as np\n",
        "import copy\n",
        "import torch\n",
        "import os\n",
        "for i in range(200):\n",
        "    if (i+1) in [2, 5,10,75,100,200]:\n",
        "        file = \"/content/drive/My Drive/Colab Notebooks/temp/models/ex6/FMNIST_round_{}.model\".format(i+1)\n",
        "        if not os.path.exists(os.path.dirname(file)):\n",
        "                os.makedirs(os.path.dirname(file))\n",
        "        torch.save(server.net.state_dict(), file)\n",
        "    experiment_util.set_rounds(client_plane, server, i+1)\n",
        "    experiment_util.run_round(client_plane, server, i+1)"
      ]
    },
    {
      "cell_type": "code",
      "execution_count": null,
      "id": "624de3f9-1c93-4a91-b05d-5b655d75d15b",
      "metadata": {
        "id": "624de3f9-1c93-4a91-b05d-5b655d75d15b",
        "outputId": "021228e5-e26c-4e06-f7d8-791c9c670267",
        "colab": {
          "base_uri": "https://localhost:8080/"
        }
      },
      "outputs": [
        {
          "metadata": {
            "tags": null
          },
          "name": "stdout",
          "output_type": "stream",
          "text": [
            "FashionMnist training data loaded.\n",
            "FashionMnist training data loaded.\n",
            "Create 200 clients with dataset of size 300\n"
          ]
        },
        {
          "metadata": {
            "tags": null
          },
          "name": "stderr",
          "output_type": "stream",
          "text": [
            "dropout2d: Received a 2-D input to dropout2d, which is deprecated and will result in an error in a future release. To retain the behavior and silence this warning, please use dropout instead. Note that dropout2d exists to provide channel-wise dropout on inputs with 2 spatial dimensions, a channel dimension, and an optional batch dimension (i.e. 3D or 4D inputs).\n"
          ]
        },
        {
          "metadata": {
            "tags": null
          },
          "name": "stdout",
          "output_type": "stream",
          "text": [
            "\n",
            "Test set: Average loss: 0.0003, Accuracy: 8795/10000 (88%)\n",
            "\n",
            "Original tensor([0.8440, 0.9670, 0.8130, 0.9140, 0.7210, 0.9520, 0.7060, 0.9770, 0.9760,\n",
            "        0.9250]) tensor([0.8299, 0.9928, 0.8082, 0.8615, 0.8472, 0.9835, 0.6537, 0.8955, 0.9721,\n",
            "        0.9757]) 0.8795\n"
          ]
        },
        {
          "metadata": {
            "tags": null
          },
          "name": "stderr",
          "output_type": "stream",
          "text": [
            "Using a non-full backward hook when the forward contains multiple autograd Nodes is deprecated and will be removed in future versions. This hook will be missing some grad_input. Please use register_full_backward_hook to get the documented behavior.\n",
            "Note that order of the arguments: ceil_mode and return_indices will changeto match the args list in nn.MaxPool2d in a future release.\n"
          ]
        },
        {
          "output_type": "stream",
          "name": "stdout",
          "text": [
            "6000\n",
            "Poison 100/200 clients\n",
            "Flip 100.0% of the 5 labels to 4\n",
            "[130  54   8 184 169 182 123  78 112  67 177  79  50 164 155  89 121 157\n",
            "  90   4 183 172 162 175  36 125 173 124 137  43 149  61 159 117 135 114\n",
            "  25 127 174 171 101  33  58  16   2  32 179 103 144 113  35 195  68 170\n",
            "  19  71  51  95  48 166  99  12  91 140  53  75  23 104  81 190  83 105\n",
            " 192 168 152 118 109 115 154  82  62 126  15 100 163 122   9 199  41  69\n",
            "  38  87 198  13  20 165  92 180 102 193]\n",
            "20/100 clients poisoned\n",
            "40/100 clients poisoned\n",
            "60/100 clients poisoned\n",
            "80/100 clients poisoned\n",
            "100/100 clients poisoned\n",
            "Clean\n",
            "2941\n",
            "Poisoned\n"
          ]
        }
      ],
      "source": [
        "import torch\n",
        "config.FROM_LABEL = 5\n",
        "config.TO_LABEL = 4\n",
        "shap_images = [config.FROM_LABEL ,config.TO_LABEL]\n",
        "for j in [100]:\n",
        "    data = config.DATASET(config)\n",
        "    client_plane = ClientPlane(config, observer_config, data, shap_util)\n",
        "    model_file = file = \"/content/drive/My Drive/Colab Notebooks/temp/models/ex6/FMNIST_round_{}.model\".format(j)\n",
        "    server.net =  FMNISTCNN()\n",
        "    server.net.load_state_dict(torch.load(model_file))\n",
        "\n",
        "    server.test()\n",
        "    recall, precision, accuracy = server.analize_test()\n",
        "    print(\"Original\", recall, precision, accuracy)\n",
        "    server_shap = server.get_shap_values()\n",
        "\n",
        "    config.POISONED_CLIENTS = 100\n",
        "    experiment_util.update_configs(client_plane, server, config, observer_config)\n",
        "    print(len(client_plane.clients[0].train_dataloader.dataset.dataset.targets[client_plane.clients[0].train_dataloader.dataset.dataset.targets == 5]))\n",
        "\n",
        "    client_plane.poison_clients()\n",
        "    clean_clients = experiment_util.select_random_clean(client_plane, config, 100)\n",
        "    poisoned_clients = experiment_util.select_poisoned(client_plane, 100)\n",
        "    clean_distance = []\n",
        "    poisoned_distance = []\n",
        "    clean_diff = []\n",
        "    poisoned_diff = []\n",
        "    print(\"Clean\")\n",
        "    print(len(client_plane.clients[0].train_dataloader.dataset.dataset.targets[client_plane.clients[0].train_dataloader.dataset.dataset.targets == 5]))\n",
        "    for idx, i in enumerate(clean_clients[:100]):\n",
        "        client_plane.update_clients(server.get_nn_parameters())\n",
        "        client_plane.clients[i].train(j+1)\n",
        "        clean_client_shap = client_plane.clients[i].get_shap_values()\n",
        "        distance, diag = cos_similarity_values(clean_client_shap, server_shap)\n",
        "        clean_distance.append(distance)\n",
        "        clean_diff.append(diag)\n",
        "        if (idx+1)%25 == 0:\n",
        "            print(clean_distance[idx-25:idx])\n",
        "\n",
        "    print(\"Poisoned\")\n",
        "    server.net =  FMNISTCNN()\n",
        "    server.net.load_state_dict(torch.load(model_file))\n",
        "    for idx, i in enumerate(poisoned_clients[:100]):\n",
        "        client_plane.update_clients(server.get_nn_parameters())    \n",
        "        client_plane.clients[i].train(j+1)\n",
        "        poisoned_client_shap = client_plane.clients[i].get_shap_values()\n",
        "        distance, diag = cos_similarity_values(poisoned_client_shap, server_shap)\n",
        "        poisoned_distance.append(distance)\n",
        "        poisoned_diff.append(diag)\n",
        "        if (idx+1)%25 == 0:\n",
        "            print(poisoned_distance[idx-25:idx])\n",
        "    print(len(client_plane.clients[poisoned_clients[0]].train_dataloader.dataset.dataset.targets[client_plane.clients[poisoned_clients[0]].train_dataloader.dataset.dataset.targets == 5]))\n",
        "    client_plane.reset_default_client_nets()\n",
        "    client_plane.reset_poisoning_attack()"
      ]
    },
    {
      "cell_type": "code",
      "source": [
        "print(clean_distance)"
      ],
      "metadata": {
        "id": "KB0rSu-UbnAD"
      },
      "id": "KB0rSu-UbnAD",
      "execution_count": null,
      "outputs": []
    },
    {
      "cell_type": "code",
      "source": [
        "print(poisoned_distance)"
      ],
      "metadata": {
        "id": "qmv2FvMVbqOw"
      },
      "id": "qmv2FvMVbqOw",
      "execution_count": null,
      "outputs": []
    },
    {
      "cell_type": "code",
      "source": [
        "print(clean_diff)"
      ],
      "metadata": {
        "id": "-6ljp1O0bINO"
      },
      "id": "-6ljp1O0bINO",
      "execution_count": null,
      "outputs": []
    },
    {
      "cell_type": "code",
      "source": [
        "print(poisoned_diff)"
      ],
      "metadata": {
        "id": "LazBwD4abIWV"
      },
      "id": "LazBwD4abIWV",
      "execution_count": null,
      "outputs": []
    },
    {
      "cell_type": "code",
      "source": [
        ""
      ],
      "metadata": {
        "id": "fj9jQYHhbIbq"
      },
      "id": "fj9jQYHhbIbq",
      "execution_count": null,
      "outputs": []
    },
    {
      "cell_type": "code",
      "source": [
        ""
      ],
      "metadata": {
        "id": "Bh5EJEWVbIjX"
      },
      "id": "Bh5EJEWVbIjX",
      "execution_count": null,
      "outputs": []
    }
  ],
  "metadata": {
    "kernelspec": {
      "display_name": "Python 3 (ipykernel)",
      "language": "python",
      "name": "python3"
    },
    "language_info": {
      "codemirror_mode": {
        "name": "ipython",
        "version": 3
      },
      "file_extension": ".py",
      "mimetype": "text/x-python",
      "name": "python",
      "nbconvert_exporter": "python",
      "pygments_lexer": "ipython3",
      "version": "3.9.12"
    },
    "colab": {
      "name": "differences_feature_engineering_shap_values_ex3.ipynb",
      "provenance": []
    },
    "widgets": {
      "application/vnd.jupyter.widget-state+json": {
        "76d7fb538cb948ebb8f5c7f0fdd8e364": {
          "model_module": "@jupyter-widgets/controls",
          "model_name": "HBoxModel",
          "model_module_version": "1.5.0",
          "state": {
            "_dom_classes": [],
            "_model_module": "@jupyter-widgets/controls",
            "_model_module_version": "1.5.0",
            "_model_name": "HBoxModel",
            "_view_count": null,
            "_view_module": "@jupyter-widgets/controls",
            "_view_module_version": "1.5.0",
            "_view_name": "HBoxView",
            "box_style": "",
            "children": [
              "IPY_MODEL_51828d8518844dc1b8e2f91a3f4f6b36",
              "IPY_MODEL_00061c35a0a04bfe8d7d1420d6e59c66",
              "IPY_MODEL_a035f0b2551b4d4dbbad4dd9c7a8eefc"
            ],
            "layout": "IPY_MODEL_cee1629ea5e041cfb32f40b588bdafbd"
          }
        },
        "51828d8518844dc1b8e2f91a3f4f6b36": {
          "model_module": "@jupyter-widgets/controls",
          "model_name": "HTMLModel",
          "model_module_version": "1.5.0",
          "state": {
            "_dom_classes": [],
            "_model_module": "@jupyter-widgets/controls",
            "_model_module_version": "1.5.0",
            "_model_name": "HTMLModel",
            "_view_count": null,
            "_view_module": "@jupyter-widgets/controls",
            "_view_module_version": "1.5.0",
            "_view_name": "HTMLView",
            "description": "",
            "description_tooltip": null,
            "layout": "IPY_MODEL_aa77356552884ddbbcd7b4bc320414f3",
            "placeholder": "​",
            "style": "IPY_MODEL_bff7c3ead2954ecb9ecaffc47e952e7a",
            "value": ""
          }
        },
        "00061c35a0a04bfe8d7d1420d6e59c66": {
          "model_module": "@jupyter-widgets/controls",
          "model_name": "FloatProgressModel",
          "model_module_version": "1.5.0",
          "state": {
            "_dom_classes": [],
            "_model_module": "@jupyter-widgets/controls",
            "_model_module_version": "1.5.0",
            "_model_name": "FloatProgressModel",
            "_view_count": null,
            "_view_module": "@jupyter-widgets/controls",
            "_view_module_version": "1.5.0",
            "_view_name": "ProgressView",
            "bar_style": "success",
            "description": "",
            "description_tooltip": null,
            "layout": "IPY_MODEL_50b7fb177e614b219c48106d3cb73f45",
            "max": 26421880,
            "min": 0,
            "orientation": "horizontal",
            "style": "IPY_MODEL_dd9095a327db4b00b2c039493aa12a04",
            "value": 26421880
          }
        },
        "a035f0b2551b4d4dbbad4dd9c7a8eefc": {
          "model_module": "@jupyter-widgets/controls",
          "model_name": "HTMLModel",
          "model_module_version": "1.5.0",
          "state": {
            "_dom_classes": [],
            "_model_module": "@jupyter-widgets/controls",
            "_model_module_version": "1.5.0",
            "_model_name": "HTMLModel",
            "_view_count": null,
            "_view_module": "@jupyter-widgets/controls",
            "_view_module_version": "1.5.0",
            "_view_name": "HTMLView",
            "description": "",
            "description_tooltip": null,
            "layout": "IPY_MODEL_a921394dff694adf8069b436a167229f",
            "placeholder": "​",
            "style": "IPY_MODEL_c77200f658fe416e8559d2411bd86ee1",
            "value": " 26422272/? [00:01&lt;00:00, 27083201.33it/s]"
          }
        },
        "cee1629ea5e041cfb32f40b588bdafbd": {
          "model_module": "@jupyter-widgets/base",
          "model_name": "LayoutModel",
          "model_module_version": "1.2.0",
          "state": {
            "_model_module": "@jupyter-widgets/base",
            "_model_module_version": "1.2.0",
            "_model_name": "LayoutModel",
            "_view_count": null,
            "_view_module": "@jupyter-widgets/base",
            "_view_module_version": "1.2.0",
            "_view_name": "LayoutView",
            "align_content": null,
            "align_items": null,
            "align_self": null,
            "border": null,
            "bottom": null,
            "display": null,
            "flex": null,
            "flex_flow": null,
            "grid_area": null,
            "grid_auto_columns": null,
            "grid_auto_flow": null,
            "grid_auto_rows": null,
            "grid_column": null,
            "grid_gap": null,
            "grid_row": null,
            "grid_template_areas": null,
            "grid_template_columns": null,
            "grid_template_rows": null,
            "height": null,
            "justify_content": null,
            "justify_items": null,
            "left": null,
            "margin": null,
            "max_height": null,
            "max_width": null,
            "min_height": null,
            "min_width": null,
            "object_fit": null,
            "object_position": null,
            "order": null,
            "overflow": null,
            "overflow_x": null,
            "overflow_y": null,
            "padding": null,
            "right": null,
            "top": null,
            "visibility": null,
            "width": null
          }
        },
        "aa77356552884ddbbcd7b4bc320414f3": {
          "model_module": "@jupyter-widgets/base",
          "model_name": "LayoutModel",
          "model_module_version": "1.2.0",
          "state": {
            "_model_module": "@jupyter-widgets/base",
            "_model_module_version": "1.2.0",
            "_model_name": "LayoutModel",
            "_view_count": null,
            "_view_module": "@jupyter-widgets/base",
            "_view_module_version": "1.2.0",
            "_view_name": "LayoutView",
            "align_content": null,
            "align_items": null,
            "align_self": null,
            "border": null,
            "bottom": null,
            "display": null,
            "flex": null,
            "flex_flow": null,
            "grid_area": null,
            "grid_auto_columns": null,
            "grid_auto_flow": null,
            "grid_auto_rows": null,
            "grid_column": null,
            "grid_gap": null,
            "grid_row": null,
            "grid_template_areas": null,
            "grid_template_columns": null,
            "grid_template_rows": null,
            "height": null,
            "justify_content": null,
            "justify_items": null,
            "left": null,
            "margin": null,
            "max_height": null,
            "max_width": null,
            "min_height": null,
            "min_width": null,
            "object_fit": null,
            "object_position": null,
            "order": null,
            "overflow": null,
            "overflow_x": null,
            "overflow_y": null,
            "padding": null,
            "right": null,
            "top": null,
            "visibility": null,
            "width": null
          }
        },
        "bff7c3ead2954ecb9ecaffc47e952e7a": {
          "model_module": "@jupyter-widgets/controls",
          "model_name": "DescriptionStyleModel",
          "model_module_version": "1.5.0",
          "state": {
            "_model_module": "@jupyter-widgets/controls",
            "_model_module_version": "1.5.0",
            "_model_name": "DescriptionStyleModel",
            "_view_count": null,
            "_view_module": "@jupyter-widgets/base",
            "_view_module_version": "1.2.0",
            "_view_name": "StyleView",
            "description_width": ""
          }
        },
        "50b7fb177e614b219c48106d3cb73f45": {
          "model_module": "@jupyter-widgets/base",
          "model_name": "LayoutModel",
          "model_module_version": "1.2.0",
          "state": {
            "_model_module": "@jupyter-widgets/base",
            "_model_module_version": "1.2.0",
            "_model_name": "LayoutModel",
            "_view_count": null,
            "_view_module": "@jupyter-widgets/base",
            "_view_module_version": "1.2.0",
            "_view_name": "LayoutView",
            "align_content": null,
            "align_items": null,
            "align_self": null,
            "border": null,
            "bottom": null,
            "display": null,
            "flex": null,
            "flex_flow": null,
            "grid_area": null,
            "grid_auto_columns": null,
            "grid_auto_flow": null,
            "grid_auto_rows": null,
            "grid_column": null,
            "grid_gap": null,
            "grid_row": null,
            "grid_template_areas": null,
            "grid_template_columns": null,
            "grid_template_rows": null,
            "height": null,
            "justify_content": null,
            "justify_items": null,
            "left": null,
            "margin": null,
            "max_height": null,
            "max_width": null,
            "min_height": null,
            "min_width": null,
            "object_fit": null,
            "object_position": null,
            "order": null,
            "overflow": null,
            "overflow_x": null,
            "overflow_y": null,
            "padding": null,
            "right": null,
            "top": null,
            "visibility": null,
            "width": null
          }
        },
        "dd9095a327db4b00b2c039493aa12a04": {
          "model_module": "@jupyter-widgets/controls",
          "model_name": "ProgressStyleModel",
          "model_module_version": "1.5.0",
          "state": {
            "_model_module": "@jupyter-widgets/controls",
            "_model_module_version": "1.5.0",
            "_model_name": "ProgressStyleModel",
            "_view_count": null,
            "_view_module": "@jupyter-widgets/base",
            "_view_module_version": "1.2.0",
            "_view_name": "StyleView",
            "bar_color": null,
            "description_width": ""
          }
        },
        "a921394dff694adf8069b436a167229f": {
          "model_module": "@jupyter-widgets/base",
          "model_name": "LayoutModel",
          "model_module_version": "1.2.0",
          "state": {
            "_model_module": "@jupyter-widgets/base",
            "_model_module_version": "1.2.0",
            "_model_name": "LayoutModel",
            "_view_count": null,
            "_view_module": "@jupyter-widgets/base",
            "_view_module_version": "1.2.0",
            "_view_name": "LayoutView",
            "align_content": null,
            "align_items": null,
            "align_self": null,
            "border": null,
            "bottom": null,
            "display": null,
            "flex": null,
            "flex_flow": null,
            "grid_area": null,
            "grid_auto_columns": null,
            "grid_auto_flow": null,
            "grid_auto_rows": null,
            "grid_column": null,
            "grid_gap": null,
            "grid_row": null,
            "grid_template_areas": null,
            "grid_template_columns": null,
            "grid_template_rows": null,
            "height": null,
            "justify_content": null,
            "justify_items": null,
            "left": null,
            "margin": null,
            "max_height": null,
            "max_width": null,
            "min_height": null,
            "min_width": null,
            "object_fit": null,
            "object_position": null,
            "order": null,
            "overflow": null,
            "overflow_x": null,
            "overflow_y": null,
            "padding": null,
            "right": null,
            "top": null,
            "visibility": null,
            "width": null
          }
        },
        "c77200f658fe416e8559d2411bd86ee1": {
          "model_module": "@jupyter-widgets/controls",
          "model_name": "DescriptionStyleModel",
          "model_module_version": "1.5.0",
          "state": {
            "_model_module": "@jupyter-widgets/controls",
            "_model_module_version": "1.5.0",
            "_model_name": "DescriptionStyleModel",
            "_view_count": null,
            "_view_module": "@jupyter-widgets/base",
            "_view_module_version": "1.2.0",
            "_view_name": "StyleView",
            "description_width": ""
          }
        },
        "32e7272cfb214516b99fc0c4d91df36c": {
          "model_module": "@jupyter-widgets/controls",
          "model_name": "HBoxModel",
          "model_module_version": "1.5.0",
          "state": {
            "_dom_classes": [],
            "_model_module": "@jupyter-widgets/controls",
            "_model_module_version": "1.5.0",
            "_model_name": "HBoxModel",
            "_view_count": null,
            "_view_module": "@jupyter-widgets/controls",
            "_view_module_version": "1.5.0",
            "_view_name": "HBoxView",
            "box_style": "",
            "children": [
              "IPY_MODEL_148640a1429f47da891fe4231fd71693",
              "IPY_MODEL_dc5a262bd30246f7a666656ca8884f0d",
              "IPY_MODEL_e59f1b67dbef4d72bfead0411cad1dda"
            ],
            "layout": "IPY_MODEL_a2e6175300e64514a3a7471b0a1386a5"
          }
        },
        "148640a1429f47da891fe4231fd71693": {
          "model_module": "@jupyter-widgets/controls",
          "model_name": "HTMLModel",
          "model_module_version": "1.5.0",
          "state": {
            "_dom_classes": [],
            "_model_module": "@jupyter-widgets/controls",
            "_model_module_version": "1.5.0",
            "_model_name": "HTMLModel",
            "_view_count": null,
            "_view_module": "@jupyter-widgets/controls",
            "_view_module_version": "1.5.0",
            "_view_name": "HTMLView",
            "description": "",
            "description_tooltip": null,
            "layout": "IPY_MODEL_943c58488c504376b3e9623ec8b0aa62",
            "placeholder": "​",
            "style": "IPY_MODEL_4640abb148e7470fbf7df478dbdc2c19",
            "value": ""
          }
        },
        "dc5a262bd30246f7a666656ca8884f0d": {
          "model_module": "@jupyter-widgets/controls",
          "model_name": "FloatProgressModel",
          "model_module_version": "1.5.0",
          "state": {
            "_dom_classes": [],
            "_model_module": "@jupyter-widgets/controls",
            "_model_module_version": "1.5.0",
            "_model_name": "FloatProgressModel",
            "_view_count": null,
            "_view_module": "@jupyter-widgets/controls",
            "_view_module_version": "1.5.0",
            "_view_name": "ProgressView",
            "bar_style": "success",
            "description": "",
            "description_tooltip": null,
            "layout": "IPY_MODEL_1b868fa1592e4afeab25f0d6bed46992",
            "max": 29515,
            "min": 0,
            "orientation": "horizontal",
            "style": "IPY_MODEL_791ffd9e5feb42c5a30b19c585d4c8ca",
            "value": 29515
          }
        },
        "e59f1b67dbef4d72bfead0411cad1dda": {
          "model_module": "@jupyter-widgets/controls",
          "model_name": "HTMLModel",
          "model_module_version": "1.5.0",
          "state": {
            "_dom_classes": [],
            "_model_module": "@jupyter-widgets/controls",
            "_model_module_version": "1.5.0",
            "_model_name": "HTMLModel",
            "_view_count": null,
            "_view_module": "@jupyter-widgets/controls",
            "_view_module_version": "1.5.0",
            "_view_name": "HTMLView",
            "description": "",
            "description_tooltip": null,
            "layout": "IPY_MODEL_9b161079c4544d74a74c91daee9da9d3",
            "placeholder": "​",
            "style": "IPY_MODEL_de9424722b03404c85fdf60c91ba1c37",
            "value": " 29696/? [00:00&lt;00:00, 328375.27it/s]"
          }
        },
        "a2e6175300e64514a3a7471b0a1386a5": {
          "model_module": "@jupyter-widgets/base",
          "model_name": "LayoutModel",
          "model_module_version": "1.2.0",
          "state": {
            "_model_module": "@jupyter-widgets/base",
            "_model_module_version": "1.2.0",
            "_model_name": "LayoutModel",
            "_view_count": null,
            "_view_module": "@jupyter-widgets/base",
            "_view_module_version": "1.2.0",
            "_view_name": "LayoutView",
            "align_content": null,
            "align_items": null,
            "align_self": null,
            "border": null,
            "bottom": null,
            "display": null,
            "flex": null,
            "flex_flow": null,
            "grid_area": null,
            "grid_auto_columns": null,
            "grid_auto_flow": null,
            "grid_auto_rows": null,
            "grid_column": null,
            "grid_gap": null,
            "grid_row": null,
            "grid_template_areas": null,
            "grid_template_columns": null,
            "grid_template_rows": null,
            "height": null,
            "justify_content": null,
            "justify_items": null,
            "left": null,
            "margin": null,
            "max_height": null,
            "max_width": null,
            "min_height": null,
            "min_width": null,
            "object_fit": null,
            "object_position": null,
            "order": null,
            "overflow": null,
            "overflow_x": null,
            "overflow_y": null,
            "padding": null,
            "right": null,
            "top": null,
            "visibility": null,
            "width": null
          }
        },
        "943c58488c504376b3e9623ec8b0aa62": {
          "model_module": "@jupyter-widgets/base",
          "model_name": "LayoutModel",
          "model_module_version": "1.2.0",
          "state": {
            "_model_module": "@jupyter-widgets/base",
            "_model_module_version": "1.2.0",
            "_model_name": "LayoutModel",
            "_view_count": null,
            "_view_module": "@jupyter-widgets/base",
            "_view_module_version": "1.2.0",
            "_view_name": "LayoutView",
            "align_content": null,
            "align_items": null,
            "align_self": null,
            "border": null,
            "bottom": null,
            "display": null,
            "flex": null,
            "flex_flow": null,
            "grid_area": null,
            "grid_auto_columns": null,
            "grid_auto_flow": null,
            "grid_auto_rows": null,
            "grid_column": null,
            "grid_gap": null,
            "grid_row": null,
            "grid_template_areas": null,
            "grid_template_columns": null,
            "grid_template_rows": null,
            "height": null,
            "justify_content": null,
            "justify_items": null,
            "left": null,
            "margin": null,
            "max_height": null,
            "max_width": null,
            "min_height": null,
            "min_width": null,
            "object_fit": null,
            "object_position": null,
            "order": null,
            "overflow": null,
            "overflow_x": null,
            "overflow_y": null,
            "padding": null,
            "right": null,
            "top": null,
            "visibility": null,
            "width": null
          }
        },
        "4640abb148e7470fbf7df478dbdc2c19": {
          "model_module": "@jupyter-widgets/controls",
          "model_name": "DescriptionStyleModel",
          "model_module_version": "1.5.0",
          "state": {
            "_model_module": "@jupyter-widgets/controls",
            "_model_module_version": "1.5.0",
            "_model_name": "DescriptionStyleModel",
            "_view_count": null,
            "_view_module": "@jupyter-widgets/base",
            "_view_module_version": "1.2.0",
            "_view_name": "StyleView",
            "description_width": ""
          }
        },
        "1b868fa1592e4afeab25f0d6bed46992": {
          "model_module": "@jupyter-widgets/base",
          "model_name": "LayoutModel",
          "model_module_version": "1.2.0",
          "state": {
            "_model_module": "@jupyter-widgets/base",
            "_model_module_version": "1.2.0",
            "_model_name": "LayoutModel",
            "_view_count": null,
            "_view_module": "@jupyter-widgets/base",
            "_view_module_version": "1.2.0",
            "_view_name": "LayoutView",
            "align_content": null,
            "align_items": null,
            "align_self": null,
            "border": null,
            "bottom": null,
            "display": null,
            "flex": null,
            "flex_flow": null,
            "grid_area": null,
            "grid_auto_columns": null,
            "grid_auto_flow": null,
            "grid_auto_rows": null,
            "grid_column": null,
            "grid_gap": null,
            "grid_row": null,
            "grid_template_areas": null,
            "grid_template_columns": null,
            "grid_template_rows": null,
            "height": null,
            "justify_content": null,
            "justify_items": null,
            "left": null,
            "margin": null,
            "max_height": null,
            "max_width": null,
            "min_height": null,
            "min_width": null,
            "object_fit": null,
            "object_position": null,
            "order": null,
            "overflow": null,
            "overflow_x": null,
            "overflow_y": null,
            "padding": null,
            "right": null,
            "top": null,
            "visibility": null,
            "width": null
          }
        },
        "791ffd9e5feb42c5a30b19c585d4c8ca": {
          "model_module": "@jupyter-widgets/controls",
          "model_name": "ProgressStyleModel",
          "model_module_version": "1.5.0",
          "state": {
            "_model_module": "@jupyter-widgets/controls",
            "_model_module_version": "1.5.0",
            "_model_name": "ProgressStyleModel",
            "_view_count": null,
            "_view_module": "@jupyter-widgets/base",
            "_view_module_version": "1.2.0",
            "_view_name": "StyleView",
            "bar_color": null,
            "description_width": ""
          }
        },
        "9b161079c4544d74a74c91daee9da9d3": {
          "model_module": "@jupyter-widgets/base",
          "model_name": "LayoutModel",
          "model_module_version": "1.2.0",
          "state": {
            "_model_module": "@jupyter-widgets/base",
            "_model_module_version": "1.2.0",
            "_model_name": "LayoutModel",
            "_view_count": null,
            "_view_module": "@jupyter-widgets/base",
            "_view_module_version": "1.2.0",
            "_view_name": "LayoutView",
            "align_content": null,
            "align_items": null,
            "align_self": null,
            "border": null,
            "bottom": null,
            "display": null,
            "flex": null,
            "flex_flow": null,
            "grid_area": null,
            "grid_auto_columns": null,
            "grid_auto_flow": null,
            "grid_auto_rows": null,
            "grid_column": null,
            "grid_gap": null,
            "grid_row": null,
            "grid_template_areas": null,
            "grid_template_columns": null,
            "grid_template_rows": null,
            "height": null,
            "justify_content": null,
            "justify_items": null,
            "left": null,
            "margin": null,
            "max_height": null,
            "max_width": null,
            "min_height": null,
            "min_width": null,
            "object_fit": null,
            "object_position": null,
            "order": null,
            "overflow": null,
            "overflow_x": null,
            "overflow_y": null,
            "padding": null,
            "right": null,
            "top": null,
            "visibility": null,
            "width": null
          }
        },
        "de9424722b03404c85fdf60c91ba1c37": {
          "model_module": "@jupyter-widgets/controls",
          "model_name": "DescriptionStyleModel",
          "model_module_version": "1.5.0",
          "state": {
            "_model_module": "@jupyter-widgets/controls",
            "_model_module_version": "1.5.0",
            "_model_name": "DescriptionStyleModel",
            "_view_count": null,
            "_view_module": "@jupyter-widgets/base",
            "_view_module_version": "1.2.0",
            "_view_name": "StyleView",
            "description_width": ""
          }
        },
        "b62734d37476482a8f8f0e71c1ab611f": {
          "model_module": "@jupyter-widgets/controls",
          "model_name": "HBoxModel",
          "model_module_version": "1.5.0",
          "state": {
            "_dom_classes": [],
            "_model_module": "@jupyter-widgets/controls",
            "_model_module_version": "1.5.0",
            "_model_name": "HBoxModel",
            "_view_count": null,
            "_view_module": "@jupyter-widgets/controls",
            "_view_module_version": "1.5.0",
            "_view_name": "HBoxView",
            "box_style": "",
            "children": [
              "IPY_MODEL_33ca1dcd518846aa977faac036326846",
              "IPY_MODEL_5d8028166d904a6abe44161e079f6ba0",
              "IPY_MODEL_24cd61d3fa14432590b416f09246781e"
            ],
            "layout": "IPY_MODEL_651ef213276044d68d0aa068897b65de"
          }
        },
        "33ca1dcd518846aa977faac036326846": {
          "model_module": "@jupyter-widgets/controls",
          "model_name": "HTMLModel",
          "model_module_version": "1.5.0",
          "state": {
            "_dom_classes": [],
            "_model_module": "@jupyter-widgets/controls",
            "_model_module_version": "1.5.0",
            "_model_name": "HTMLModel",
            "_view_count": null,
            "_view_module": "@jupyter-widgets/controls",
            "_view_module_version": "1.5.0",
            "_view_name": "HTMLView",
            "description": "",
            "description_tooltip": null,
            "layout": "IPY_MODEL_1138db8ac7bd42ad98b9f468c5f8eb73",
            "placeholder": "​",
            "style": "IPY_MODEL_7c929515a86d4c72b25cc4e37ddd5fe0",
            "value": ""
          }
        },
        "5d8028166d904a6abe44161e079f6ba0": {
          "model_module": "@jupyter-widgets/controls",
          "model_name": "FloatProgressModel",
          "model_module_version": "1.5.0",
          "state": {
            "_dom_classes": [],
            "_model_module": "@jupyter-widgets/controls",
            "_model_module_version": "1.5.0",
            "_model_name": "FloatProgressModel",
            "_view_count": null,
            "_view_module": "@jupyter-widgets/controls",
            "_view_module_version": "1.5.0",
            "_view_name": "ProgressView",
            "bar_style": "success",
            "description": "",
            "description_tooltip": null,
            "layout": "IPY_MODEL_91b39492002841a78595543d0daa5eb8",
            "max": 4422102,
            "min": 0,
            "orientation": "horizontal",
            "style": "IPY_MODEL_2c7925573d934d59879bcdd856eb7f3b",
            "value": 4422102
          }
        },
        "24cd61d3fa14432590b416f09246781e": {
          "model_module": "@jupyter-widgets/controls",
          "model_name": "HTMLModel",
          "model_module_version": "1.5.0",
          "state": {
            "_dom_classes": [],
            "_model_module": "@jupyter-widgets/controls",
            "_model_module_version": "1.5.0",
            "_model_name": "HTMLModel",
            "_view_count": null,
            "_view_module": "@jupyter-widgets/controls",
            "_view_module_version": "1.5.0",
            "_view_name": "HTMLView",
            "description": "",
            "description_tooltip": null,
            "layout": "IPY_MODEL_7455fc7f09524975803189c017f2b1b1",
            "placeholder": "​",
            "style": "IPY_MODEL_de045f797dd84c258c59a95e1b9f16c3",
            "value": " 4422656/? [00:00&lt;00:00, 6562032.22it/s]"
          }
        },
        "651ef213276044d68d0aa068897b65de": {
          "model_module": "@jupyter-widgets/base",
          "model_name": "LayoutModel",
          "model_module_version": "1.2.0",
          "state": {
            "_model_module": "@jupyter-widgets/base",
            "_model_module_version": "1.2.0",
            "_model_name": "LayoutModel",
            "_view_count": null,
            "_view_module": "@jupyter-widgets/base",
            "_view_module_version": "1.2.0",
            "_view_name": "LayoutView",
            "align_content": null,
            "align_items": null,
            "align_self": null,
            "border": null,
            "bottom": null,
            "display": null,
            "flex": null,
            "flex_flow": null,
            "grid_area": null,
            "grid_auto_columns": null,
            "grid_auto_flow": null,
            "grid_auto_rows": null,
            "grid_column": null,
            "grid_gap": null,
            "grid_row": null,
            "grid_template_areas": null,
            "grid_template_columns": null,
            "grid_template_rows": null,
            "height": null,
            "justify_content": null,
            "justify_items": null,
            "left": null,
            "margin": null,
            "max_height": null,
            "max_width": null,
            "min_height": null,
            "min_width": null,
            "object_fit": null,
            "object_position": null,
            "order": null,
            "overflow": null,
            "overflow_x": null,
            "overflow_y": null,
            "padding": null,
            "right": null,
            "top": null,
            "visibility": null,
            "width": null
          }
        },
        "1138db8ac7bd42ad98b9f468c5f8eb73": {
          "model_module": "@jupyter-widgets/base",
          "model_name": "LayoutModel",
          "model_module_version": "1.2.0",
          "state": {
            "_model_module": "@jupyter-widgets/base",
            "_model_module_version": "1.2.0",
            "_model_name": "LayoutModel",
            "_view_count": null,
            "_view_module": "@jupyter-widgets/base",
            "_view_module_version": "1.2.0",
            "_view_name": "LayoutView",
            "align_content": null,
            "align_items": null,
            "align_self": null,
            "border": null,
            "bottom": null,
            "display": null,
            "flex": null,
            "flex_flow": null,
            "grid_area": null,
            "grid_auto_columns": null,
            "grid_auto_flow": null,
            "grid_auto_rows": null,
            "grid_column": null,
            "grid_gap": null,
            "grid_row": null,
            "grid_template_areas": null,
            "grid_template_columns": null,
            "grid_template_rows": null,
            "height": null,
            "justify_content": null,
            "justify_items": null,
            "left": null,
            "margin": null,
            "max_height": null,
            "max_width": null,
            "min_height": null,
            "min_width": null,
            "object_fit": null,
            "object_position": null,
            "order": null,
            "overflow": null,
            "overflow_x": null,
            "overflow_y": null,
            "padding": null,
            "right": null,
            "top": null,
            "visibility": null,
            "width": null
          }
        },
        "7c929515a86d4c72b25cc4e37ddd5fe0": {
          "model_module": "@jupyter-widgets/controls",
          "model_name": "DescriptionStyleModel",
          "model_module_version": "1.5.0",
          "state": {
            "_model_module": "@jupyter-widgets/controls",
            "_model_module_version": "1.5.0",
            "_model_name": "DescriptionStyleModel",
            "_view_count": null,
            "_view_module": "@jupyter-widgets/base",
            "_view_module_version": "1.2.0",
            "_view_name": "StyleView",
            "description_width": ""
          }
        },
        "91b39492002841a78595543d0daa5eb8": {
          "model_module": "@jupyter-widgets/base",
          "model_name": "LayoutModel",
          "model_module_version": "1.2.0",
          "state": {
            "_model_module": "@jupyter-widgets/base",
            "_model_module_version": "1.2.0",
            "_model_name": "LayoutModel",
            "_view_count": null,
            "_view_module": "@jupyter-widgets/base",
            "_view_module_version": "1.2.0",
            "_view_name": "LayoutView",
            "align_content": null,
            "align_items": null,
            "align_self": null,
            "border": null,
            "bottom": null,
            "display": null,
            "flex": null,
            "flex_flow": null,
            "grid_area": null,
            "grid_auto_columns": null,
            "grid_auto_flow": null,
            "grid_auto_rows": null,
            "grid_column": null,
            "grid_gap": null,
            "grid_row": null,
            "grid_template_areas": null,
            "grid_template_columns": null,
            "grid_template_rows": null,
            "height": null,
            "justify_content": null,
            "justify_items": null,
            "left": null,
            "margin": null,
            "max_height": null,
            "max_width": null,
            "min_height": null,
            "min_width": null,
            "object_fit": null,
            "object_position": null,
            "order": null,
            "overflow": null,
            "overflow_x": null,
            "overflow_y": null,
            "padding": null,
            "right": null,
            "top": null,
            "visibility": null,
            "width": null
          }
        },
        "2c7925573d934d59879bcdd856eb7f3b": {
          "model_module": "@jupyter-widgets/controls",
          "model_name": "ProgressStyleModel",
          "model_module_version": "1.5.0",
          "state": {
            "_model_module": "@jupyter-widgets/controls",
            "_model_module_version": "1.5.0",
            "_model_name": "ProgressStyleModel",
            "_view_count": null,
            "_view_module": "@jupyter-widgets/base",
            "_view_module_version": "1.2.0",
            "_view_name": "StyleView",
            "bar_color": null,
            "description_width": ""
          }
        },
        "7455fc7f09524975803189c017f2b1b1": {
          "model_module": "@jupyter-widgets/base",
          "model_name": "LayoutModel",
          "model_module_version": "1.2.0",
          "state": {
            "_model_module": "@jupyter-widgets/base",
            "_model_module_version": "1.2.0",
            "_model_name": "LayoutModel",
            "_view_count": null,
            "_view_module": "@jupyter-widgets/base",
            "_view_module_version": "1.2.0",
            "_view_name": "LayoutView",
            "align_content": null,
            "align_items": null,
            "align_self": null,
            "border": null,
            "bottom": null,
            "display": null,
            "flex": null,
            "flex_flow": null,
            "grid_area": null,
            "grid_auto_columns": null,
            "grid_auto_flow": null,
            "grid_auto_rows": null,
            "grid_column": null,
            "grid_gap": null,
            "grid_row": null,
            "grid_template_areas": null,
            "grid_template_columns": null,
            "grid_template_rows": null,
            "height": null,
            "justify_content": null,
            "justify_items": null,
            "left": null,
            "margin": null,
            "max_height": null,
            "max_width": null,
            "min_height": null,
            "min_width": null,
            "object_fit": null,
            "object_position": null,
            "order": null,
            "overflow": null,
            "overflow_x": null,
            "overflow_y": null,
            "padding": null,
            "right": null,
            "top": null,
            "visibility": null,
            "width": null
          }
        },
        "de045f797dd84c258c59a95e1b9f16c3": {
          "model_module": "@jupyter-widgets/controls",
          "model_name": "DescriptionStyleModel",
          "model_module_version": "1.5.0",
          "state": {
            "_model_module": "@jupyter-widgets/controls",
            "_model_module_version": "1.5.0",
            "_model_name": "DescriptionStyleModel",
            "_view_count": null,
            "_view_module": "@jupyter-widgets/base",
            "_view_module_version": "1.2.0",
            "_view_name": "StyleView",
            "description_width": ""
          }
        },
        "1318cc971ab3417585154222b62af03d": {
          "model_module": "@jupyter-widgets/controls",
          "model_name": "HBoxModel",
          "model_module_version": "1.5.0",
          "state": {
            "_dom_classes": [],
            "_model_module": "@jupyter-widgets/controls",
            "_model_module_version": "1.5.0",
            "_model_name": "HBoxModel",
            "_view_count": null,
            "_view_module": "@jupyter-widgets/controls",
            "_view_module_version": "1.5.0",
            "_view_name": "HBoxView",
            "box_style": "",
            "children": [
              "IPY_MODEL_b63585053506446b8b883725c70de890",
              "IPY_MODEL_f068917894fa46a7806ca6c78cbea7ad",
              "IPY_MODEL_2be05f7170a340699b4538bbf8876cb7"
            ],
            "layout": "IPY_MODEL_36b7b00ad6f74168a1be98869abcae85"
          }
        },
        "b63585053506446b8b883725c70de890": {
          "model_module": "@jupyter-widgets/controls",
          "model_name": "HTMLModel",
          "model_module_version": "1.5.0",
          "state": {
            "_dom_classes": [],
            "_model_module": "@jupyter-widgets/controls",
            "_model_module_version": "1.5.0",
            "_model_name": "HTMLModel",
            "_view_count": null,
            "_view_module": "@jupyter-widgets/controls",
            "_view_module_version": "1.5.0",
            "_view_name": "HTMLView",
            "description": "",
            "description_tooltip": null,
            "layout": "IPY_MODEL_34b2968a38c24feab364cdccb1865008",
            "placeholder": "​",
            "style": "IPY_MODEL_5e919a4a1a3047fea9aea3744325106f",
            "value": ""
          }
        },
        "f068917894fa46a7806ca6c78cbea7ad": {
          "model_module": "@jupyter-widgets/controls",
          "model_name": "FloatProgressModel",
          "model_module_version": "1.5.0",
          "state": {
            "_dom_classes": [],
            "_model_module": "@jupyter-widgets/controls",
            "_model_module_version": "1.5.0",
            "_model_name": "FloatProgressModel",
            "_view_count": null,
            "_view_module": "@jupyter-widgets/controls",
            "_view_module_version": "1.5.0",
            "_view_name": "ProgressView",
            "bar_style": "success",
            "description": "",
            "description_tooltip": null,
            "layout": "IPY_MODEL_977d7b1af1b344ffaf9ec4bafafeeaf5",
            "max": 5148,
            "min": 0,
            "orientation": "horizontal",
            "style": "IPY_MODEL_429f6d23bcad468eb2a711aa9fea17e9",
            "value": 5148
          }
        },
        "2be05f7170a340699b4538bbf8876cb7": {
          "model_module": "@jupyter-widgets/controls",
          "model_name": "HTMLModel",
          "model_module_version": "1.5.0",
          "state": {
            "_dom_classes": [],
            "_model_module": "@jupyter-widgets/controls",
            "_model_module_version": "1.5.0",
            "_model_name": "HTMLModel",
            "_view_count": null,
            "_view_module": "@jupyter-widgets/controls",
            "_view_module_version": "1.5.0",
            "_view_name": "HTMLView",
            "description": "",
            "description_tooltip": null,
            "layout": "IPY_MODEL_fcd9f80b6403493e9f35ad4cd09ef070",
            "placeholder": "​",
            "style": "IPY_MODEL_3af640de0fef489ea2be1726a26c13ad",
            "value": " 6144/? [00:00&lt;00:00, 156578.24it/s]"
          }
        },
        "36b7b00ad6f74168a1be98869abcae85": {
          "model_module": "@jupyter-widgets/base",
          "model_name": "LayoutModel",
          "model_module_version": "1.2.0",
          "state": {
            "_model_module": "@jupyter-widgets/base",
            "_model_module_version": "1.2.0",
            "_model_name": "LayoutModel",
            "_view_count": null,
            "_view_module": "@jupyter-widgets/base",
            "_view_module_version": "1.2.0",
            "_view_name": "LayoutView",
            "align_content": null,
            "align_items": null,
            "align_self": null,
            "border": null,
            "bottom": null,
            "display": null,
            "flex": null,
            "flex_flow": null,
            "grid_area": null,
            "grid_auto_columns": null,
            "grid_auto_flow": null,
            "grid_auto_rows": null,
            "grid_column": null,
            "grid_gap": null,
            "grid_row": null,
            "grid_template_areas": null,
            "grid_template_columns": null,
            "grid_template_rows": null,
            "height": null,
            "justify_content": null,
            "justify_items": null,
            "left": null,
            "margin": null,
            "max_height": null,
            "max_width": null,
            "min_height": null,
            "min_width": null,
            "object_fit": null,
            "object_position": null,
            "order": null,
            "overflow": null,
            "overflow_x": null,
            "overflow_y": null,
            "padding": null,
            "right": null,
            "top": null,
            "visibility": null,
            "width": null
          }
        },
        "34b2968a38c24feab364cdccb1865008": {
          "model_module": "@jupyter-widgets/base",
          "model_name": "LayoutModel",
          "model_module_version": "1.2.0",
          "state": {
            "_model_module": "@jupyter-widgets/base",
            "_model_module_version": "1.2.0",
            "_model_name": "LayoutModel",
            "_view_count": null,
            "_view_module": "@jupyter-widgets/base",
            "_view_module_version": "1.2.0",
            "_view_name": "LayoutView",
            "align_content": null,
            "align_items": null,
            "align_self": null,
            "border": null,
            "bottom": null,
            "display": null,
            "flex": null,
            "flex_flow": null,
            "grid_area": null,
            "grid_auto_columns": null,
            "grid_auto_flow": null,
            "grid_auto_rows": null,
            "grid_column": null,
            "grid_gap": null,
            "grid_row": null,
            "grid_template_areas": null,
            "grid_template_columns": null,
            "grid_template_rows": null,
            "height": null,
            "justify_content": null,
            "justify_items": null,
            "left": null,
            "margin": null,
            "max_height": null,
            "max_width": null,
            "min_height": null,
            "min_width": null,
            "object_fit": null,
            "object_position": null,
            "order": null,
            "overflow": null,
            "overflow_x": null,
            "overflow_y": null,
            "padding": null,
            "right": null,
            "top": null,
            "visibility": null,
            "width": null
          }
        },
        "5e919a4a1a3047fea9aea3744325106f": {
          "model_module": "@jupyter-widgets/controls",
          "model_name": "DescriptionStyleModel",
          "model_module_version": "1.5.0",
          "state": {
            "_model_module": "@jupyter-widgets/controls",
            "_model_module_version": "1.5.0",
            "_model_name": "DescriptionStyleModel",
            "_view_count": null,
            "_view_module": "@jupyter-widgets/base",
            "_view_module_version": "1.2.0",
            "_view_name": "StyleView",
            "description_width": ""
          }
        },
        "977d7b1af1b344ffaf9ec4bafafeeaf5": {
          "model_module": "@jupyter-widgets/base",
          "model_name": "LayoutModel",
          "model_module_version": "1.2.0",
          "state": {
            "_model_module": "@jupyter-widgets/base",
            "_model_module_version": "1.2.0",
            "_model_name": "LayoutModel",
            "_view_count": null,
            "_view_module": "@jupyter-widgets/base",
            "_view_module_version": "1.2.0",
            "_view_name": "LayoutView",
            "align_content": null,
            "align_items": null,
            "align_self": null,
            "border": null,
            "bottom": null,
            "display": null,
            "flex": null,
            "flex_flow": null,
            "grid_area": null,
            "grid_auto_columns": null,
            "grid_auto_flow": null,
            "grid_auto_rows": null,
            "grid_column": null,
            "grid_gap": null,
            "grid_row": null,
            "grid_template_areas": null,
            "grid_template_columns": null,
            "grid_template_rows": null,
            "height": null,
            "justify_content": null,
            "justify_items": null,
            "left": null,
            "margin": null,
            "max_height": null,
            "max_width": null,
            "min_height": null,
            "min_width": null,
            "object_fit": null,
            "object_position": null,
            "order": null,
            "overflow": null,
            "overflow_x": null,
            "overflow_y": null,
            "padding": null,
            "right": null,
            "top": null,
            "visibility": null,
            "width": null
          }
        },
        "429f6d23bcad468eb2a711aa9fea17e9": {
          "model_module": "@jupyter-widgets/controls",
          "model_name": "ProgressStyleModel",
          "model_module_version": "1.5.0",
          "state": {
            "_model_module": "@jupyter-widgets/controls",
            "_model_module_version": "1.5.0",
            "_model_name": "ProgressStyleModel",
            "_view_count": null,
            "_view_module": "@jupyter-widgets/base",
            "_view_module_version": "1.2.0",
            "_view_name": "StyleView",
            "bar_color": null,
            "description_width": ""
          }
        },
        "fcd9f80b6403493e9f35ad4cd09ef070": {
          "model_module": "@jupyter-widgets/base",
          "model_name": "LayoutModel",
          "model_module_version": "1.2.0",
          "state": {
            "_model_module": "@jupyter-widgets/base",
            "_model_module_version": "1.2.0",
            "_model_name": "LayoutModel",
            "_view_count": null,
            "_view_module": "@jupyter-widgets/base",
            "_view_module_version": "1.2.0",
            "_view_name": "LayoutView",
            "align_content": null,
            "align_items": null,
            "align_self": null,
            "border": null,
            "bottom": null,
            "display": null,
            "flex": null,
            "flex_flow": null,
            "grid_area": null,
            "grid_auto_columns": null,
            "grid_auto_flow": null,
            "grid_auto_rows": null,
            "grid_column": null,
            "grid_gap": null,
            "grid_row": null,
            "grid_template_areas": null,
            "grid_template_columns": null,
            "grid_template_rows": null,
            "height": null,
            "justify_content": null,
            "justify_items": null,
            "left": null,
            "margin": null,
            "max_height": null,
            "max_width": null,
            "min_height": null,
            "min_width": null,
            "object_fit": null,
            "object_position": null,
            "order": null,
            "overflow": null,
            "overflow_x": null,
            "overflow_y": null,
            "padding": null,
            "right": null,
            "top": null,
            "visibility": null,
            "width": null
          }
        },
        "3af640de0fef489ea2be1726a26c13ad": {
          "model_module": "@jupyter-widgets/controls",
          "model_name": "DescriptionStyleModel",
          "model_module_version": "1.5.0",
          "state": {
            "_model_module": "@jupyter-widgets/controls",
            "_model_module_version": "1.5.0",
            "_model_name": "DescriptionStyleModel",
            "_view_count": null,
            "_view_module": "@jupyter-widgets/base",
            "_view_module_version": "1.2.0",
            "_view_name": "StyleView",
            "description_width": ""
          }
        }
      }
    }
  },
  "nbformat": 4,
  "nbformat_minor": 5
}