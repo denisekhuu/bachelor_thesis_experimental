{
 "cells": [
  {
   "cell_type": "markdown",
   "id": "0b48f800-d2d2-4bd7-9bd7-f6f9cfd6740c",
   "metadata": {
    "id": "0b48f800-d2d2-4bd7-9bd7-f6f9cfd6740c"
   },
   "source": [
    "# Feature Engineering with SHAP values Experiment 2"
   ]
  },
  {
   "cell_type": "markdown",
   "id": "93a73a1f-e932-47bb-9605-f5b5c5754612",
   "metadata": {
    "id": "93a73a1f-e932-47bb-9605-f5b5c5754612",
    "tags": []
   },
   "source": [
    "## Google Colab"
   ]
  },
  {
   "cell_type": "code",
   "execution_count": null,
   "id": "32b4bc41-26c2-4fca-a614-ef28cea9d45d",
   "metadata": {
    "colab": {
     "base_uri": "https://localhost:8080/"
    },
    "id": "32b4bc41-26c2-4fca-a614-ef28cea9d45d",
    "outputId": "6f551f51-b59e-4947-b3e6-437dcb1b28ab"
   },
   "outputs": [],
   "source": [
    "from google.colab import drive\n",
    "drive.flush_and_unmount()\n",
    "drive.mount('/content/drive', force_remount=True)\n",
    "\n",
    "import sys\n",
    "sys.path.append('/content/drive/My Drive/Colab Notebooks')\n",
    "sys.path.append('/content/drive/My Drive/Colab Notebooks/federated_learning')\n",
    "\n",
    "!pip install shap==0.40.0"
   ]
  },
  {
   "cell_type": "code",
   "execution_count": null,
   "id": "a70021e8-dc00-42e7-8bb7-ee4301741e75",
   "metadata": {
    "id": "a70021e8-dc00-42e7-8bb7-ee4301741e75"
   },
   "outputs": [],
   "source": [
    "import sklearn"
   ]
  },
  {
   "cell_type": "markdown",
   "id": "c41448db-17cb-4a42-bacd-fd157ce28ac7",
   "metadata": {
    "id": "c41448db-17cb-4a42-bacd-fd157ce28ac7",
    "tags": []
   },
   "source": [
    "## Experimental Setup"
   ]
  },
  {
   "cell_type": "code",
   "execution_count": 1,
   "id": "b4898aa8-0d37-4f50-b0be-e43e398612aa",
   "metadata": {
    "id": "b4898aa8-0d37-4f50-b0be-e43e398612aa"
   },
   "outputs": [],
   "source": [
    "from federated_learning.utils import SHAPUtil, experiment_util, Visualizer\n",
    "from federated_learning import ClientPlane, Configuration, ObserverConfiguration\n",
    "from federated_learning.server import Server\n",
    "from datetime import datetime"
   ]
  },
  {
   "cell_type": "code",
   "execution_count": null,
   "id": "792ca166-f3d7-4e15-92cc-6d54c7989729",
   "metadata": {
    "id": "792ca166-f3d7-4e15-92cc-6d54c7989729"
   },
   "outputs": [],
   "source": [
    "def cos_similarity_values(s_client, s_server):\n",
    "    import numpy as np\n",
    "    cos_similarity = [[] for i in range(10)]\n",
    "    shap_subtract = np.subtract(s_client, s_server)\n",
    "    for row_idx, row in enumerate(shap_subtract):\n",
    "        for img_idx, image in enumerate(row):\n",
    "                cos_similarity[row_idx].append(round(np.sum(image.flatten()), 3))\n",
    "\n",
    "    print(np.matrix(cos_similarity))"
   ]
  },
  {
   "cell_type": "code",
   "execution_count": null,
   "id": "49b4532f-b186-47a9-867a-ec27ddbabe8f",
   "metadata": {
    "id": "49b4532f-b186-47a9-867a-ec27ddbabe8f"
   },
   "outputs": [],
   "source": [
    "from scipy import spatial\n",
    "import numpy"
   ]
  },
  {
   "cell_type": "code",
   "execution_count": null,
   "id": "476b47a5-87c0-49b7-8b20-cbe286c75662",
   "metadata": {
    "id": "476b47a5-87c0-49b7-8b20-cbe286c75662"
   },
   "outputs": [],
   "source": [
    "scipy.__version__\n"
   ]
  },
  {
   "cell_type": "code",
   "execution_count": null,
   "id": "d7a592b2-117f-41c4-9de1-a4150c48035f",
   "metadata": {
    "id": "d7a592b2-117f-41c4-9de1-a4150c48035f"
   },
   "outputs": [],
   "source": [
    "numpy.__version__"
   ]
  },
  {
   "cell_type": "code",
   "execution_count": null,
   "id": "11b5b463-a3f6-4100-a908-f167b84455fe",
   "metadata": {
    "id": "11b5b463-a3f6-4100-a908-f167b84455fe"
   },
   "outputs": [],
   "source": [
    "def cos_similarity_values(s_client, s_server):\n",
    "    from scipy import spatial\n",
    "    import numpy as np\n",
    "    cos_similarity_server = [[] for i in range(10)]\n",
    "    cos_similarity_client = [[] for i in range(10)]\n",
    "    shap_subtract = np.subtract(s_client, s_server)\n",
    "    for row_idx, row in enumerate(s_server):\n",
    "        for img_idx, image in enumerate(row):\n",
    "                cos_similarity_server[row_idx].append(np.sum(image.flatten()))\n",
    "    for row_idx, row in enumerate(s_client):\n",
    "        for img_idx, image in enumerate(row):\n",
    "                cos_similarity_client[row_idx].append(np.sum(image.flatten()))\n",
    "    spatial.distance.cosine(np.array(cos_similarity_server).flatten(), np.array(cos_similarity_client).flatten())\n",
    "    return spatial.distance.cosine(np.array(cos_similarity_server).flatten(), np.array(cos_similarity_client).flatten())"
   ]
  },
  {
   "cell_type": "code",
   "execution_count": null,
   "id": "fe31df9b-171e-4ca3-adb5-490ef31cb536",
   "metadata": {
    "id": "fe31df9b-171e-4ca3-adb5-490ef31cb536"
   },
   "outputs": [],
   "source": [
    "def cos_similarity_values(s_client, s_server):\n",
    "    from scipy import spatial\n",
    "    import numpy as np\n",
    "    cos_similarity = [[] for i in range(10)]\n",
    "    similarity_sum = [[] for i in range(10)]\n",
    "    shap_subtract = np.subtract(s_client, s_server)\n",
    "    for row_idx, row in enumerate(s_client):\n",
    "        for img_idx, image in enumerate(row):\n",
    "                cos_similarity[row_idx].append(spatial.distance.cosine(image.flatten(),s_server[row_idx][img_idx].flatten()))\n",
    "                \n",
    "    return np.sum(cos_similarity)\n",
    "    \n"
   ]
  },
  {
   "cell_type": "code",
   "execution_count": null,
   "id": "844e8c3d-9ac7-49c4-b06c-ae145be6b4cb",
   "metadata": {
    "id": "844e8c3d-9ac7-49c4-b06c-ae145be6b4cb"
   },
   "outputs": [],
   "source": [
    "# Works for MNIST\n",
    "def cos_similarity_values(s_client, s_server):\n",
    "    from scipy import spatial\n",
    "    import numpy as np\n",
    "    cos_similarity = [[] for i in range(10)]\n",
    "    differences_sum = [[] for i in range(10)]\n",
    "    shap_subtract = np.subtract(s_client, s_server)\n",
    "    for row_idx, row in enumerate(s_client):\n",
    "        for img_idx, image in enumerate(row):\n",
    "                cos_similarity[row_idx].append(spatial.distance.cosine(image.flatten(),s_server[row_idx][img_idx].flatten()))\n",
    "                differences_sum[row_idx].append(np.sum(shap_subtract[row_idx][img_idx].flatten()))\n",
    "    \n",
    "    return np.sum(cos_similarity), np.array(differences_sum).diagonal()[np.argmax(np.abs(np.array(differences_sum).diagonal()))]\n",
    "    \n"
   ]
  },
  {
   "cell_type": "code",
   "execution_count": null,
   "id": "63136421-a687-4053-a38d-4abf48f2693c",
   "metadata": {
    "id": "63136421-a687-4053-a38d-4abf48f2693c"
   },
   "outputs": [],
   "source": [
    "def cos_similarity_values(s_client, s_server):\n",
    "    from scipy import spatial\n",
    "    import numpy as np\n",
    "    cos_similarity = [[] for i in range(10)]\n",
    "    similarity_sum = [[] for i in range(10)]\n",
    "    shap_subtract = np.subtract(s_client, s_server)\n",
    "    for row_idx, row in enumerate(s_client):\n",
    "        for img_idx, image in enumerate(row):\n",
    "                cos_similarity[row_idx].append(spatial.distance.cosine(image.flatten(),s_server[row_idx][img_idx].flatten()))\n",
    "                similarity_sum[row_idx].append(np.sum(shap_subtract[row_idx][img_idx].flatten()))\n",
    "    argmax = np.argmax(np.array(cos_similarity).diagonal())\n",
    "    print(np.array(cos_similarity).diagonal()[argmax] * np.array(similarity_sum).diagonal()[argmax])\n",
    "    return np.sum(cos_similarity), np.array(cos_similarity).diagonal().dot(np.array(similarity_sum).diagonal())\n",
    "    \n"
   ]
  },
  {
   "cell_type": "code",
   "execution_count": 13,
   "id": "P9NJBPFEaDB4",
   "metadata": {
    "id": "P9NJBPFEaDB4"
   },
   "outputs": [],
   "source": [
    "def cos_similarity_values(s_client, s_server):\n",
    "    from scipy import spatial\n",
    "    import numpy as np\n",
    "    cos_similarity = [[] for i in range(10)]\n",
    "    differences_sum = [[] for i in range(10)]\n",
    "    shap_subtract = np.subtract(s_client, s_server)\n",
    "    for row_idx, row in enumerate(s_client):\n",
    "        for img_idx, image in enumerate(row):\n",
    "                cos_similarity[row_idx].append(spatial.distance.cosine(image.flatten(),s_server[row_idx][img_idx].flatten()))\n",
    "                differences_sum[row_idx].append(np.sum(shap_subtract[row_idx][img_idx].flatten()))\n",
    "    #print(cos_similarity[5][5], cos_similarity[5][4],cos_similarity[4][5])\n",
    "    return np.sum(cos_similarity), np.max(cos_similarity), np.array(differences_sum).flatten()[np.argmax(np.abs(np.array(differences_sum).flatten()))]\n",
    "    \n"
   ]
  },
  {
   "cell_type": "markdown",
   "id": "6078464c-3ec0-4085-9b9c-5a6517b5f83d",
   "metadata": {
    "id": "6078464c-3ec0-4085-9b9c-5a6517b5f83d",
    "tags": []
   },
   "source": [
    "# MNIST"
   ]
  },
  {
   "cell_type": "code",
   "execution_count": 3,
   "id": "3d70d54c-5b1f-4155-8c2f-bc504c4c5b80",
   "metadata": {
    "id": "3d70d54c-5b1f-4155-8c2f-bc504c4c5b80"
   },
   "outputs": [],
   "source": [
    "from federated_learning.nets import MNISTCNN\n",
    "from federated_learning.dataset import MNISTDataset\n",
    "import os\n",
    "config = Configuration()\n",
    "config.POISONED_CLIENTS = 0\n",
    "config.DATA_POISONING_PERCENTAGE = 1\n",
    "config.DATASET = MNISTDataset\n",
    "config.MODELNAME = config.MNIST_NAME\n",
    "config.NETWORK = MNISTCNN\n",
    "observer_config = ObserverConfiguration()\n",
    "observer_config.experiment_type = \"shap_fl_poisoned\"\n",
    "observer_config.experiment_id = 1\n",
    "observer_config.test = False\n",
    "observer_config.datasetObserverConfiguration = \"MNIST\"\n",
    "neutral_label = 2"
   ]
  },
  {
   "cell_type": "code",
   "execution_count": null,
   "id": "d7523594-78d7-4902-a244-98e371ed993c",
   "metadata": {
    "id": "d7523594-78d7-4902-a244-98e371ed993c"
   },
   "outputs": [],
   "source": [
    "# Google Colab Settigns\n",
    "config.TEMP = os.path.join('/content/drive/My Drive/Colab Notebooks/temp')\n",
    "config.FMNIST_DATASET_PATH = os.path.join('/content/data/fmnist')\n",
    "config.MNIST_DATASET_PATH = os.path.join('/content/data/mnist')\n",
    "config.CIFAR10_DATASET_PATH = os.path.join('/content/data/cifar10')\n",
    "config.VM_URL = \"none\""
   ]
  },
  {
   "cell_type": "code",
   "execution_count": 4,
   "id": "b972cb31-adf5-4c27-808b-e151cecc3f90",
   "metadata": {
    "id": "b972cb31-adf5-4c27-808b-e151cecc3f90",
    "outputId": "3be761aa-c7b3-47e2-fca0-8832c35d36b2"
   },
   "outputs": [
    {
     "name": "stdout",
     "output_type": "stream",
     "text": [
      "MNIST training data loaded.\n",
      "MNIST test data loaded.\n"
     ]
    }
   ],
   "source": [
    "data = config.DATASET(config)\n",
    "shap_util = SHAPUtil(data.test_dataloader) \n",
    "server = Server(config, observer_config,data.train_dataloader, data.test_dataloader, shap_util)\n",
    "visualizer = Visualizer(shap_util)"
   ]
  },
  {
   "cell_type": "markdown",
   "id": "078b7a1b-9860-4cf6-a5bc-1b4ee4b80cf9",
   "metadata": {
    "id": "078b7a1b-9860-4cf6-a5bc-1b4ee4b80cf9",
    "tags": []
   },
   "source": [
    "## Experiment Setup "
   ]
  },
  {
   "cell_type": "code",
   "execution_count": null,
   "id": "0a070b8f-c3ee-43a8-8cf9-d6e1a791d57e",
   "metadata": {
    "id": "0a070b8f-c3ee-43a8-8cf9-d6e1a791d57e",
    "outputId": "668fac68-8544-4cb3-ba25-8c77223e6853"
   },
   "outputs": [],
   "source": [
    "import numpy as np\n",
    "import copy\n",
    "import torch\n",
    "import os\n",
    "for i in range(200):\n",
    "    if (i+1) in [2, 5,10,75,100,200]:\n",
    "        file = \"./temp/models/ex6/MNIST_round_{}.model\".format(i+1)\n",
    "        if not os.path.exists(os.path.dirname(file)):\n",
    "                os.makedirs(os.path.dirname(file))\n",
    "        torch.save(server.net.state_dict(), file)\n",
    "    experiment_util.set_rounds(client_plane, server, i+1)\n",
    "    experiment_util.run_round(client_plane, server, i+1)"
   ]
  },
  {
   "cell_type": "markdown",
   "id": "53511113-cd4d-4f1e-afa1-238e6905f4d6",
   "metadata": {
    "id": "53511113-cd4d-4f1e-afa1-238e6905f4d6",
    "tags": []
   },
   "source": [
    "## Experiment"
   ]
  },
  {
   "cell_type": "code",
   "execution_count": null,
   "id": "3d857037-940c-4081-bc0f-bb14a64df276",
   "metadata": {
    "id": "3d857037-940c-4081-bc0f-bb14a64df276",
    "outputId": "62063d64-b1f1-4a5a-ff3b-2559d26e3df1"
   },
   "outputs": [
    {
     "name": "stdout",
     "output_type": "stream",
     "text": [
      "MNIST training data loaded.\n",
      "MNIST test data loaded.\n",
      "Create 200 clients with dataset of size 300\n",
      "\n",
      "Test set: Average loss: 0.0002, Accuracy: 9625/10000 (96%)\n",
      "\n",
      "Original tensor([0.9929, 0.9833, 0.9612, 0.9525, 0.9562, 0.9720, 0.9729, 0.9523, 0.9446,\n",
      "        0.9366]) tensor([0.9615, 0.9867, 0.9350, 0.9649, 0.9812, 0.9527, 0.9739, 0.9459, 0.9664,\n",
      "        0.9565]) 0.9625\n",
      "5421\n",
      "Poison 100/200 clients\n",
      "Flip 100.0% of the 3 labels to 8\n",
      "[112  85  73 138 118 134 182 123 162   7  31  57 178  51 121 192 193  56\n",
      "  49  59   6 141 154  35 107 190  10  41  83 180  50 110  40 194 173 113\n",
      " 140  17  27  52 163 177  70  24  92 165  62  36 169  84 195  30 120  47\n",
      "  67 171 157  82 139  63  11  81  58  69  99  77 179   9 147 151 124 127\n",
      "  76 117  12   3 145  21  53   5  13 148  78 115 129   2   4 161 143 181\n",
      "  68  55  97  90 186  29 184  66  79  74]\n",
      "20/100 clients poisoned\n",
      "40/100 clients poisoned\n",
      "60/100 clients poisoned\n",
      "80/100 clients poisoned\n",
      "100/100 clients poisoned\n",
      "Clean\n",
      "5421\n",
      "[]\n",
      "[21.53802743052501, 14.717665282654568, 24.849916971755047, 21.296506387231116, 20.390169737836327, 18.948457979007664, 18.543202275854014, 23.747372249938746, 18.56792489073116, 21.872255216746776, 19.379412021748816, 19.985785039684977, 23.697747653282143, 17.382529968830077, 17.805282352518063, 19.611251980369, 21.592436629411335, 17.81769483692241, 18.28023643400877, 23.07714262299427, 24.304775348021845, 16.933359275361887, 22.139604338804915, 24.530775372174283, 24.12473298919851]\n",
      "[16.774431491986785, 18.95285159027638, 21.024152975196436, 19.84685284938457, 24.68582834850739, 20.04948649216706, 26.340960263737408, 17.054694966157513, 12.997583429433659, 13.760421770351808, 20.748947382918367, 19.792024211312444, 17.730933530990075, 19.970582184781634, 21.85887820175073, 14.58798436567491, 20.937083763001787, 17.81155285634062, 22.38894311910306, 18.7102588004579, 24.88258562476446, 22.524238169643752, 19.46149232989198, 19.039951998526146, 21.841766913816254]\n",
      "[21.675831496550746, 19.240120225432268, 19.29654495264606, 19.736417027426622, 23.031423074708805, 21.4385405052997, 14.714227926075642, 19.17990226688139, 21.538177269814852, 19.86540260989546, 28.146019734827853, 21.32810532173635, 20.759734403140893, 21.265690856586733, 17.137855180484912, 25.780196235959934, 17.635072779701883, 24.05244728796144, 19.15215231424509, 18.75029385341184, 20.034080902393743, 20.983189557644153, 15.623542596418673, 19.660391101098888, 20.538465071155223]\n",
      "Poisoned\n",
      "[]\n",
      "[23.083101693307505, 21.82774555101824, 27.330097156354626, 25.87259208482654, 25.139267029663976, 26.4014933203969, 23.43837911048436, 25.70393730388087, 22.6358558860246, 22.605726061445804, 24.803048381944983, 23.951535675679335, 25.344558231599372, 25.029682720081663, 27.473386648511624, 24.323786519357952, 22.10297175893764, 22.22706703815827, 24.264385454799317, 23.482146231217207, 27.781233964347706, 27.12747596633376, 21.30138265076058, 28.073422887454306, 18.760802528510684]\n"
     ]
    }
   ],
   "source": [
    "import torch\n",
    "config.FROM_LABEL = 3\n",
    "config.TO_LABEL = 8\n",
    "shap_images = [config.FROM_LABEL ,config.TO_LABEL]\n",
    "for j in [100]:\n",
    "    data = config.DATASET(config)\n",
    "    client_plane = ClientPlane(config, observer_config, data, shap_util)\n",
    "    model_file = file = \"./temp/models/ex6/MNIST_round_{}.model\".format(j)\n",
    "    server.net =  MNISTCNN()\n",
    "    server.net.load_state_dict(torch.load(model_file))\n",
    "\n",
    "    server.test()\n",
    "    recall, precision, accuracy = server.analize_test()\n",
    "    print(\"Original\", recall, precision, accuracy)\n",
    "    server_shap = server.get_shap_values()\n",
    "\n",
    "    config.POISONED_CLIENTS = 100\n",
    "    experiment_util.update_configs(client_plane, server, config, observer_config)\n",
    "    print(len(client_plane.clients[0].train_dataloader.dataset.dataset.targets[client_plane.clients[0].train_dataloader.dataset.dataset.targets == 5]))\n",
    "\n",
    "    client_plane.poison_clients()\n",
    "    clean_clients = experiment_util.select_random_clean(client_plane, config, 100)\n",
    "    poisoned_clients = experiment_util.select_poisoned(client_plane, 100)\n",
    "    clean_distance = []\n",
    "    poisoned_distance = []\n",
    "    clean_diff = []\n",
    "    poisoned_diff = []\n",
    "    clean_max = []\n",
    "    poisoned_max = []\n",
    "    print(\"Clean\")\n",
    "    print(len(client_plane.clients[0].train_dataloader.dataset.dataset.targets[client_plane.clients[0].train_dataloader.dataset.dataset.targets == 5]))\n",
    "    for idx, i in enumerate(clean_clients[:100]):\n",
    "        client_plane.update_clients(server.get_nn_parameters())\n",
    "        client_plane.clients[i].train(j+1)\n",
    "        clean_client_shap = client_plane.clients[i].get_shap_values()\n",
    "        distance, distance_max, diag_diff = cos_similarity_values(clean_client_shap, server_shap)\n",
    "        clean_distance.append(distance)\n",
    "        clean_max.append(distance_max)\n",
    "        clean_diff.append(diag_diff)\n",
    "        if (idx+1)%25 == 0:\n",
    "            print(clean_distance[idx-25:idx])\n",
    "\n",
    "    print(\"Poisoned\")\n",
    "    server.net =  MNISTCNN()\n",
    "    server.net.load_state_dict(torch.load(model_file))\n",
    "    for idx, i in enumerate(poisoned_clients[:100]):\n",
    "        client_plane.update_clients(server.get_nn_parameters())    \n",
    "        client_plane.clients[i].train(j+1)\n",
    "        poisoned_client_shap = client_plane.clients[i].get_shap_values()\n",
    "        distance, distance_max, diag_diff  = cos_similarity_values(poisoned_client_shap, server_shap)\n",
    "        poisoned_distance.append(distance)\n",
    "        poisoned_max.append(distance_max)\n",
    "        poisoned_diff.append(diag_diff)\n",
    "        if (idx+1)%25 == 0:\n",
    "            print(poisoned_distance[idx-25:idx])\n",
    "    print(len(client_plane.clients[poisoned_clients[0]].train_dataloader.dataset.dataset.targets[client_plane.clients[poisoned_clients[0]].train_dataloader.dataset.dataset.targets == 5]))\n",
    "    client_plane.reset_default_client_nets()\n",
    "    client_plane.reset_poisoning_attack()"
   ]
  },
  {
   "cell_type": "code",
   "execution_count": null,
   "id": "e24cc959-5270-4580-bdcc-398425084793",
   "metadata": {
    "id": "e24cc959-5270-4580-bdcc-398425084793",
    "outputId": "03263022-fa66-483c-95dd-209f09ef4836"
   },
   "outputs": [],
   "source": [
    "print(clean_distance)"
   ]
  },
  {
   "cell_type": "code",
   "execution_count": null,
   "id": "7da77ef4-06f4-4121-9e21-52c6ac093607",
   "metadata": {
    "id": "7da77ef4-06f4-4121-9e21-52c6ac093607",
    "outputId": "9d4546ae-3413-4ac8-95ce-66a16e32428d"
   },
   "outputs": [],
   "source": [
    "print(clean_max)"
   ]
  },
  {
   "cell_type": "code",
   "execution_count": null,
   "id": "319b2797-1d3a-43de-9155-c58b9c2d90ff",
   "metadata": {},
   "outputs": [],
   "source": [
    "print(clean_diff)"
   ]
  },
  {
   "cell_type": "code",
   "execution_count": null,
   "id": "a50c7c50-9537-4036-abeb-e9c51a20c108",
   "metadata": {
    "id": "a50c7c50-9537-4036-abeb-e9c51a20c108",
    "outputId": "404f79c6-6acc-4c50-e9fb-a526e5aa5f9b"
   },
   "outputs": [],
   "source": [
    "print(poisoned_distance)"
   ]
  },
  {
   "cell_type": "code",
   "execution_count": null,
   "id": "9d19ffbf-a2eb-42b8-bbce-84f03972027e",
   "metadata": {
    "id": "9d19ffbf-a2eb-42b8-bbce-84f03972027e",
    "outputId": "3ad2e94b-fc48-4306-be27-892f3502e1cf"
   },
   "outputs": [],
   "source": [
    "print(poisoned_max)"
   ]
  },
  {
   "cell_type": "code",
   "execution_count": null,
   "id": "50149c4b-b902-454e-961a-5178a85a8ae1",
   "metadata": {
    "id": "50149c4b-b902-454e-961a-5178a85a8ae1"
   },
   "outputs": [],
   "source": [
    "print(poisoned_diff)"
   ]
  },
  {
   "cell_type": "markdown",
   "id": "a266a1b2-03b6-47d9-a3df-f7b031b3ee3e",
   "metadata": {
    "id": "a266a1b2-03b6-47d9-a3df-f7b031b3ee3e",
    "jp-MarkdownHeadingCollapsed": true,
    "tags": []
   },
   "source": [
    "# Fashion MNIST"
   ]
  },
  {
   "cell_type": "code",
   "execution_count": null,
   "id": "68aff4bd-5c29-49fd-9a9c-5139699e19cc",
   "metadata": {
    "id": "68aff4bd-5c29-49fd-9a9c-5139699e19cc"
   },
   "outputs": [],
   "source": [
    "from federated_learning.nets import FMNISTCNN\n",
    "from federated_learning.dataset import FMNISTDataset\n",
    "import os\n",
    "config = Configuration()\n",
    "config.POISONED_CLIENTS = 0\n",
    "config.DATA_POISONING_PERCENTAGE = 1\n",
    "config.DATASET = FMNISTDataset\n",
    "config.MODELNAME = config.FMNIST_NAME\n",
    "config.NETWORK = FMNISTCNN\n",
    "observer_config = ObserverConfiguration()\n",
    "observer_config.experiment_type = \"shap_fl_poisoned\"\n",
    "observer_config.experiment_id = 1\n",
    "observer_config.test = False\n",
    "observer_config.datasetObserverConfiguration = \"MNIST\"\n",
    "neutral_label = 2"
   ]
  },
  {
   "cell_type": "code",
   "execution_count": null,
   "id": "40c9a121-61f6-4066-bdfc-07e923bb7d6e",
   "metadata": {
    "id": "40c9a121-61f6-4066-bdfc-07e923bb7d6e"
   },
   "outputs": [],
   "source": [
    "# Google Colab Settigns\n",
    "config.TEMP = os.path.join('/content/drive/My Drive/Colab Notebooks/temp')\n",
    "config.FMNIST_DATASET_PATH = os.path.join('/content/data/fmnist')\n",
    "config.MNIST_DATASET_PATH = os.path.join('/content/data/mnist')\n",
    "config.CIFAR10_DATASET_PATH = os.path.join('/content/data/cifar10')\n",
    "config.VM_URL = \"none\""
   ]
  },
  {
   "cell_type": "code",
   "execution_count": null,
   "id": "41fb51e7-cf94-4c2c-8cff-b48065fecce0",
   "metadata": {
    "colab": {
     "base_uri": "https://localhost:8080/",
     "height": 502,
     "referenced_widgets": [
      "76d7fb538cb948ebb8f5c7f0fdd8e364",
      "51828d8518844dc1b8e2f91a3f4f6b36",
      "00061c35a0a04bfe8d7d1420d6e59c66",
      "a035f0b2551b4d4dbbad4dd9c7a8eefc",
      "cee1629ea5e041cfb32f40b588bdafbd",
      "aa77356552884ddbbcd7b4bc320414f3",
      "bff7c3ead2954ecb9ecaffc47e952e7a",
      "50b7fb177e614b219c48106d3cb73f45",
      "dd9095a327db4b00b2c039493aa12a04",
      "a921394dff694adf8069b436a167229f",
      "c77200f658fe416e8559d2411bd86ee1",
      "32e7272cfb214516b99fc0c4d91df36c",
      "148640a1429f47da891fe4231fd71693",
      "dc5a262bd30246f7a666656ca8884f0d",
      "e59f1b67dbef4d72bfead0411cad1dda",
      "a2e6175300e64514a3a7471b0a1386a5",
      "943c58488c504376b3e9623ec8b0aa62",
      "4640abb148e7470fbf7df478dbdc2c19",
      "1b868fa1592e4afeab25f0d6bed46992",
      "791ffd9e5feb42c5a30b19c585d4c8ca",
      "9b161079c4544d74a74c91daee9da9d3",
      "de9424722b03404c85fdf60c91ba1c37",
      "b62734d37476482a8f8f0e71c1ab611f",
      "33ca1dcd518846aa977faac036326846",
      "5d8028166d904a6abe44161e079f6ba0",
      "24cd61d3fa14432590b416f09246781e",
      "651ef213276044d68d0aa068897b65de",
      "1138db8ac7bd42ad98b9f468c5f8eb73",
      "7c929515a86d4c72b25cc4e37ddd5fe0",
      "91b39492002841a78595543d0daa5eb8",
      "2c7925573d934d59879bcdd856eb7f3b",
      "7455fc7f09524975803189c017f2b1b1",
      "de045f797dd84c258c59a95e1b9f16c3",
      "1318cc971ab3417585154222b62af03d",
      "b63585053506446b8b883725c70de890",
      "f068917894fa46a7806ca6c78cbea7ad",
      "2be05f7170a340699b4538bbf8876cb7",
      "36b7b00ad6f74168a1be98869abcae85",
      "34b2968a38c24feab364cdccb1865008",
      "5e919a4a1a3047fea9aea3744325106f",
      "977d7b1af1b344ffaf9ec4bafafeeaf5",
      "429f6d23bcad468eb2a711aa9fea17e9",
      "fcd9f80b6403493e9f35ad4cd09ef070",
      "3af640de0fef489ea2be1726a26c13ad"
     ]
    },
    "id": "41fb51e7-cf94-4c2c-8cff-b48065fecce0",
    "outputId": "2031598c-45ac-40a6-95ea-a79a5311b57c"
   },
   "outputs": [],
   "source": [
    "data = config.DATASET(config)\n",
    "shap_util = SHAPUtil(data.test_dataloader) \n",
    "server = Server(config, observer_config,data.train_dataloader, data.test_dataloader, shap_util)\n",
    "client_plane = ClientPlane(config, observer_config, data, shap_util)\n",
    "visualizer = Visualizer(shap_util)"
   ]
  },
  {
   "cell_type": "code",
   "execution_count": null,
   "id": "6bf856de-9c7d-428f-a02d-22b950def20a",
   "metadata": {
    "id": "6bf856de-9c7d-428f-a02d-22b950def20a"
   },
   "outputs": [],
   "source": [
    "import numpy as np\n",
    "import copy\n",
    "import torch\n",
    "import os\n",
    "for i in range(200):\n",
    "    if (i+1) in [2, 5,10,75,100,200]:\n",
    "        file = \"/content/drive/My Drive/Colab Notebooks/temp/models/ex6/FMNIST_round_{}.model\".format(i+1)\n",
    "        if not os.path.exists(os.path.dirname(file)):\n",
    "                os.makedirs(os.path.dirname(file))\n",
    "        torch.save(server.net.state_dict(), file)\n",
    "    experiment_util.set_rounds(client_plane, server, i+1)\n",
    "    experiment_util.run_round(client_plane, server, i+1)"
   ]
  },
  {
   "cell_type": "code",
   "execution_count": null,
   "id": "624de3f9-1c93-4a91-b05d-5b655d75d15b",
   "metadata": {
    "colab": {
     "base_uri": "https://localhost:8080/"
    },
    "id": "624de3f9-1c93-4a91-b05d-5b655d75d15b",
    "outputId": "021228e5-e26c-4e06-f7d8-791c9c670267"
   },
   "outputs": [],
   "source": [
    "import torch\n",
    "config.FROM_LABEL = 5\n",
    "config.TO_LABEL = 4\n",
    "shap_images = [config.FROM_LABEL ,config.TO_LABEL]\n",
    "for j in [100]:\n",
    "    data = config.DATASET(config)\n",
    "    client_plane = ClientPlane(config, observer_config, data, shap_util)\n",
    "    model_file = file = \"/content/drive/My Drive/Colab Notebooks/temp/models/ex6/FMNIST_round_{}.model\".format(j)\n",
    "    server.net =  FMNISTCNN()\n",
    "    server.net.load_state_dict(torch.load(model_file))\n",
    "\n",
    "    server.test()\n",
    "    recall, precision, accuracy = server.analize_test()\n",
    "    print(\"Original\", recall, precision, accuracy)\n",
    "    server_shap = server.get_shap_values()\n",
    "\n",
    "    config.POISONED_CLIENTS = 100\n",
    "    experiment_util.update_configs(client_plane, server, config, observer_config)\n",
    "    print(len(client_plane.clients[0].train_dataloader.dataset.dataset.targets[client_plane.clients[0].train_dataloader.dataset.dataset.targets == 5]))\n",
    "\n",
    "    client_plane.poison_clients()\n",
    "    clean_clients = experiment_util.select_random_clean(client_plane, config, 100)\n",
    "    poisoned_clients = experiment_util.select_poisoned(client_plane, 100)\n",
    "    clean_distance = []\n",
    "    poisoned_distance = []\n",
    "    clean_diff = []\n",
    "    poisoned_diff = []\n",
    "    print(\"Clean\")\n",
    "    print(len(client_plane.clients[0].train_dataloader.dataset.dataset.targets[client_plane.clients[0].train_dataloader.dataset.dataset.targets == 5]))\n",
    "    for idx, i in enumerate(clean_clients[:100]):\n",
    "        client_plane.update_clients(server.get_nn_parameters())\n",
    "        client_plane.clients[i].train(j+1)\n",
    "        clean_client_shap = client_plane.clients[i].get_shap_values()\n",
    "        distance, diag = cos_similarity_values(clean_client_shap, server_shap)\n",
    "        clean_distance.append(distance)\n",
    "        clean_diff.append(diag)\n",
    "        if (idx+1)%25 == 0:\n",
    "            print(clean_distance[idx-25:idx])\n",
    "\n",
    "    print(\"Poisoned\")\n",
    "    server.net =  FMNISTCNN()\n",
    "    server.net.load_state_dict(torch.load(model_file))\n",
    "    for idx, i in enumerate(poisoned_clients[:100]):\n",
    "        client_plane.update_clients(server.get_nn_parameters())    \n",
    "        client_plane.clients[i].train(j+1)\n",
    "        poisoned_client_shap = client_plane.clients[i].get_shap_values()\n",
    "        distance, diag = cos_similarity_values(poisoned_client_shap, server_shap)\n",
    "        poisoned_distance.append(distance)\n",
    "        poisoned_diff.append(diag)\n",
    "        if (idx+1)%25 == 0:\n",
    "            print(poisoned_distance[idx-25:idx])\n",
    "    print(len(client_plane.clients[poisoned_clients[0]].train_dataloader.dataset.dataset.targets[client_plane.clients[poisoned_clients[0]].train_dataloader.dataset.dataset.targets == 5]))\n",
    "    client_plane.reset_default_client_nets()\n",
    "    client_plane.reset_poisoning_attack()"
   ]
  },
  {
   "cell_type": "code",
   "execution_count": null,
   "id": "KB0rSu-UbnAD",
   "metadata": {
    "id": "KB0rSu-UbnAD"
   },
   "outputs": [],
   "source": [
    "print(clean_distance)"
   ]
  },
  {
   "cell_type": "code",
   "execution_count": null,
   "id": "qmv2FvMVbqOw",
   "metadata": {
    "id": "qmv2FvMVbqOw"
   },
   "outputs": [],
   "source": [
    "print(poisoned_distance)"
   ]
  },
  {
   "cell_type": "code",
   "execution_count": null,
   "id": "-6ljp1O0bINO",
   "metadata": {
    "id": "-6ljp1O0bINO"
   },
   "outputs": [],
   "source": [
    "print(clean_diff)"
   ]
  },
  {
   "cell_type": "code",
   "execution_count": null,
   "id": "LazBwD4abIWV",
   "metadata": {
    "id": "LazBwD4abIWV"
   },
   "outputs": [],
   "source": [
    "print(poisoned_diff)"
   ]
  },
  {
   "cell_type": "code",
   "execution_count": null,
   "id": "fj9jQYHhbIbq",
   "metadata": {
    "id": "fj9jQYHhbIbq"
   },
   "outputs": [],
   "source": []
  },
  {
   "cell_type": "code",
   "execution_count": null,
   "id": "Bh5EJEWVbIjX",
   "metadata": {
    "id": "Bh5EJEWVbIjX"
   },
   "outputs": [],
   "source": []
  }
 ],
 "metadata": {
  "colab": {
   "name": "differences_feature_engineering_shap_values_ex3.ipynb",
   "provenance": []
  },
  "kernelspec": {
   "display_name": "Python 3 (ipykernel)",
   "language": "python",
   "name": "python3"
  },
  "language_info": {
   "codemirror_mode": {
    "name": "ipython",
    "version": 3
   },
   "file_extension": ".py",
   "mimetype": "text/x-python",
   "name": "python",
   "nbconvert_exporter": "python",
   "pygments_lexer": "ipython3",
   "version": "3.9.12"
  },
  "widgets": {
   "application/vnd.jupyter.widget-state+json": {
    "00061c35a0a04bfe8d7d1420d6e59c66": {
     "model_module": "@jupyter-widgets/controls",
     "model_module_version": "1.5.0",
     "model_name": "FloatProgressModel",
     "state": {
      "_dom_classes": [],
      "_model_module": "@jupyter-widgets/controls",
      "_model_module_version": "1.5.0",
      "_model_name": "FloatProgressModel",
      "_view_count": null,
      "_view_module": "@jupyter-widgets/controls",
      "_view_module_version": "1.5.0",
      "_view_name": "ProgressView",
      "bar_style": "success",
      "description": "",
      "description_tooltip": null,
      "layout": "IPY_MODEL_50b7fb177e614b219c48106d3cb73f45",
      "max": 26421880,
      "min": 0,
      "orientation": "horizontal",
      "style": "IPY_MODEL_dd9095a327db4b00b2c039493aa12a04",
      "value": 26421880
     }
    },
    "1138db8ac7bd42ad98b9f468c5f8eb73": {
     "model_module": "@jupyter-widgets/base",
     "model_module_version": "1.2.0",
     "model_name": "LayoutModel",
     "state": {
      "_model_module": "@jupyter-widgets/base",
      "_model_module_version": "1.2.0",
      "_model_name": "LayoutModel",
      "_view_count": null,
      "_view_module": "@jupyter-widgets/base",
      "_view_module_version": "1.2.0",
      "_view_name": "LayoutView",
      "align_content": null,
      "align_items": null,
      "align_self": null,
      "border": null,
      "bottom": null,
      "display": null,
      "flex": null,
      "flex_flow": null,
      "grid_area": null,
      "grid_auto_columns": null,
      "grid_auto_flow": null,
      "grid_auto_rows": null,
      "grid_column": null,
      "grid_gap": null,
      "grid_row": null,
      "grid_template_areas": null,
      "grid_template_columns": null,
      "grid_template_rows": null,
      "height": null,
      "justify_content": null,
      "justify_items": null,
      "left": null,
      "margin": null,
      "max_height": null,
      "max_width": null,
      "min_height": null,
      "min_width": null,
      "object_fit": null,
      "object_position": null,
      "order": null,
      "overflow": null,
      "overflow_x": null,
      "overflow_y": null,
      "padding": null,
      "right": null,
      "top": null,
      "visibility": null,
      "width": null
     }
    },
    "1318cc971ab3417585154222b62af03d": {
     "model_module": "@jupyter-widgets/controls",
     "model_module_version": "1.5.0",
     "model_name": "HBoxModel",
     "state": {
      "_dom_classes": [],
      "_model_module": "@jupyter-widgets/controls",
      "_model_module_version": "1.5.0",
      "_model_name": "HBoxModel",
      "_view_count": null,
      "_view_module": "@jupyter-widgets/controls",
      "_view_module_version": "1.5.0",
      "_view_name": "HBoxView",
      "box_style": "",
      "children": [
       "IPY_MODEL_b63585053506446b8b883725c70de890",
       "IPY_MODEL_f068917894fa46a7806ca6c78cbea7ad",
       "IPY_MODEL_2be05f7170a340699b4538bbf8876cb7"
      ],
      "layout": "IPY_MODEL_36b7b00ad6f74168a1be98869abcae85"
     }
    },
    "148640a1429f47da891fe4231fd71693": {
     "model_module": "@jupyter-widgets/controls",
     "model_module_version": "1.5.0",
     "model_name": "HTMLModel",
     "state": {
      "_dom_classes": [],
      "_model_module": "@jupyter-widgets/controls",
      "_model_module_version": "1.5.0",
      "_model_name": "HTMLModel",
      "_view_count": null,
      "_view_module": "@jupyter-widgets/controls",
      "_view_module_version": "1.5.0",
      "_view_name": "HTMLView",
      "description": "",
      "description_tooltip": null,
      "layout": "IPY_MODEL_943c58488c504376b3e9623ec8b0aa62",
      "placeholder": "​",
      "style": "IPY_MODEL_4640abb148e7470fbf7df478dbdc2c19",
      "value": ""
     }
    },
    "1b868fa1592e4afeab25f0d6bed46992": {
     "model_module": "@jupyter-widgets/base",
     "model_module_version": "1.2.0",
     "model_name": "LayoutModel",
     "state": {
      "_model_module": "@jupyter-widgets/base",
      "_model_module_version": "1.2.0",
      "_model_name": "LayoutModel",
      "_view_count": null,
      "_view_module": "@jupyter-widgets/base",
      "_view_module_version": "1.2.0",
      "_view_name": "LayoutView",
      "align_content": null,
      "align_items": null,
      "align_self": null,
      "border": null,
      "bottom": null,
      "display": null,
      "flex": null,
      "flex_flow": null,
      "grid_area": null,
      "grid_auto_columns": null,
      "grid_auto_flow": null,
      "grid_auto_rows": null,
      "grid_column": null,
      "grid_gap": null,
      "grid_row": null,
      "grid_template_areas": null,
      "grid_template_columns": null,
      "grid_template_rows": null,
      "height": null,
      "justify_content": null,
      "justify_items": null,
      "left": null,
      "margin": null,
      "max_height": null,
      "max_width": null,
      "min_height": null,
      "min_width": null,
      "object_fit": null,
      "object_position": null,
      "order": null,
      "overflow": null,
      "overflow_x": null,
      "overflow_y": null,
      "padding": null,
      "right": null,
      "top": null,
      "visibility": null,
      "width": null
     }
    },
    "24cd61d3fa14432590b416f09246781e": {
     "model_module": "@jupyter-widgets/controls",
     "model_module_version": "1.5.0",
     "model_name": "HTMLModel",
     "state": {
      "_dom_classes": [],
      "_model_module": "@jupyter-widgets/controls",
      "_model_module_version": "1.5.0",
      "_model_name": "HTMLModel",
      "_view_count": null,
      "_view_module": "@jupyter-widgets/controls",
      "_view_module_version": "1.5.0",
      "_view_name": "HTMLView",
      "description": "",
      "description_tooltip": null,
      "layout": "IPY_MODEL_7455fc7f09524975803189c017f2b1b1",
      "placeholder": "​",
      "style": "IPY_MODEL_de045f797dd84c258c59a95e1b9f16c3",
      "value": " 4422656/? [00:00&lt;00:00, 6562032.22it/s]"
     }
    },
    "2be05f7170a340699b4538bbf8876cb7": {
     "model_module": "@jupyter-widgets/controls",
     "model_module_version": "1.5.0",
     "model_name": "HTMLModel",
     "state": {
      "_dom_classes": [],
      "_model_module": "@jupyter-widgets/controls",
      "_model_module_version": "1.5.0",
      "_model_name": "HTMLModel",
      "_view_count": null,
      "_view_module": "@jupyter-widgets/controls",
      "_view_module_version": "1.5.0",
      "_view_name": "HTMLView",
      "description": "",
      "description_tooltip": null,
      "layout": "IPY_MODEL_fcd9f80b6403493e9f35ad4cd09ef070",
      "placeholder": "​",
      "style": "IPY_MODEL_3af640de0fef489ea2be1726a26c13ad",
      "value": " 6144/? [00:00&lt;00:00, 156578.24it/s]"
     }
    },
    "2c7925573d934d59879bcdd856eb7f3b": {
     "model_module": "@jupyter-widgets/controls",
     "model_module_version": "1.5.0",
     "model_name": "ProgressStyleModel",
     "state": {
      "_model_module": "@jupyter-widgets/controls",
      "_model_module_version": "1.5.0",
      "_model_name": "ProgressStyleModel",
      "_view_count": null,
      "_view_module": "@jupyter-widgets/base",
      "_view_module_version": "1.2.0",
      "_view_name": "StyleView",
      "bar_color": null,
      "description_width": ""
     }
    },
    "32e7272cfb214516b99fc0c4d91df36c": {
     "model_module": "@jupyter-widgets/controls",
     "model_module_version": "1.5.0",
     "model_name": "HBoxModel",
     "state": {
      "_dom_classes": [],
      "_model_module": "@jupyter-widgets/controls",
      "_model_module_version": "1.5.0",
      "_model_name": "HBoxModel",
      "_view_count": null,
      "_view_module": "@jupyter-widgets/controls",
      "_view_module_version": "1.5.0",
      "_view_name": "HBoxView",
      "box_style": "",
      "children": [
       "IPY_MODEL_148640a1429f47da891fe4231fd71693",
       "IPY_MODEL_dc5a262bd30246f7a666656ca8884f0d",
       "IPY_MODEL_e59f1b67dbef4d72bfead0411cad1dda"
      ],
      "layout": "IPY_MODEL_a2e6175300e64514a3a7471b0a1386a5"
     }
    },
    "33ca1dcd518846aa977faac036326846": {
     "model_module": "@jupyter-widgets/controls",
     "model_module_version": "1.5.0",
     "model_name": "HTMLModel",
     "state": {
      "_dom_classes": [],
      "_model_module": "@jupyter-widgets/controls",
      "_model_module_version": "1.5.0",
      "_model_name": "HTMLModel",
      "_view_count": null,
      "_view_module": "@jupyter-widgets/controls",
      "_view_module_version": "1.5.0",
      "_view_name": "HTMLView",
      "description": "",
      "description_tooltip": null,
      "layout": "IPY_MODEL_1138db8ac7bd42ad98b9f468c5f8eb73",
      "placeholder": "​",
      "style": "IPY_MODEL_7c929515a86d4c72b25cc4e37ddd5fe0",
      "value": ""
     }
    },
    "34b2968a38c24feab364cdccb1865008": {
     "model_module": "@jupyter-widgets/base",
     "model_module_version": "1.2.0",
     "model_name": "LayoutModel",
     "state": {
      "_model_module": "@jupyter-widgets/base",
      "_model_module_version": "1.2.0",
      "_model_name": "LayoutModel",
      "_view_count": null,
      "_view_module": "@jupyter-widgets/base",
      "_view_module_version": "1.2.0",
      "_view_name": "LayoutView",
      "align_content": null,
      "align_items": null,
      "align_self": null,
      "border": null,
      "bottom": null,
      "display": null,
      "flex": null,
      "flex_flow": null,
      "grid_area": null,
      "grid_auto_columns": null,
      "grid_auto_flow": null,
      "grid_auto_rows": null,
      "grid_column": null,
      "grid_gap": null,
      "grid_row": null,
      "grid_template_areas": null,
      "grid_template_columns": null,
      "grid_template_rows": null,
      "height": null,
      "justify_content": null,
      "justify_items": null,
      "left": null,
      "margin": null,
      "max_height": null,
      "max_width": null,
      "min_height": null,
      "min_width": null,
      "object_fit": null,
      "object_position": null,
      "order": null,
      "overflow": null,
      "overflow_x": null,
      "overflow_y": null,
      "padding": null,
      "right": null,
      "top": null,
      "visibility": null,
      "width": null
     }
    },
    "36b7b00ad6f74168a1be98869abcae85": {
     "model_module": "@jupyter-widgets/base",
     "model_module_version": "1.2.0",
     "model_name": "LayoutModel",
     "state": {
      "_model_module": "@jupyter-widgets/base",
      "_model_module_version": "1.2.0",
      "_model_name": "LayoutModel",
      "_view_count": null,
      "_view_module": "@jupyter-widgets/base",
      "_view_module_version": "1.2.0",
      "_view_name": "LayoutView",
      "align_content": null,
      "align_items": null,
      "align_self": null,
      "border": null,
      "bottom": null,
      "display": null,
      "flex": null,
      "flex_flow": null,
      "grid_area": null,
      "grid_auto_columns": null,
      "grid_auto_flow": null,
      "grid_auto_rows": null,
      "grid_column": null,
      "grid_gap": null,
      "grid_row": null,
      "grid_template_areas": null,
      "grid_template_columns": null,
      "grid_template_rows": null,
      "height": null,
      "justify_content": null,
      "justify_items": null,
      "left": null,
      "margin": null,
      "max_height": null,
      "max_width": null,
      "min_height": null,
      "min_width": null,
      "object_fit": null,
      "object_position": null,
      "order": null,
      "overflow": null,
      "overflow_x": null,
      "overflow_y": null,
      "padding": null,
      "right": null,
      "top": null,
      "visibility": null,
      "width": null
     }
    },
    "3af640de0fef489ea2be1726a26c13ad": {
     "model_module": "@jupyter-widgets/controls",
     "model_module_version": "1.5.0",
     "model_name": "DescriptionStyleModel",
     "state": {
      "_model_module": "@jupyter-widgets/controls",
      "_model_module_version": "1.5.0",
      "_model_name": "DescriptionStyleModel",
      "_view_count": null,
      "_view_module": "@jupyter-widgets/base",
      "_view_module_version": "1.2.0",
      "_view_name": "StyleView",
      "description_width": ""
     }
    },
    "429f6d23bcad468eb2a711aa9fea17e9": {
     "model_module": "@jupyter-widgets/controls",
     "model_module_version": "1.5.0",
     "model_name": "ProgressStyleModel",
     "state": {
      "_model_module": "@jupyter-widgets/controls",
      "_model_module_version": "1.5.0",
      "_model_name": "ProgressStyleModel",
      "_view_count": null,
      "_view_module": "@jupyter-widgets/base",
      "_view_module_version": "1.2.0",
      "_view_name": "StyleView",
      "bar_color": null,
      "description_width": ""
     }
    },
    "4640abb148e7470fbf7df478dbdc2c19": {
     "model_module": "@jupyter-widgets/controls",
     "model_module_version": "1.5.0",
     "model_name": "DescriptionStyleModel",
     "state": {
      "_model_module": "@jupyter-widgets/controls",
      "_model_module_version": "1.5.0",
      "_model_name": "DescriptionStyleModel",
      "_view_count": null,
      "_view_module": "@jupyter-widgets/base",
      "_view_module_version": "1.2.0",
      "_view_name": "StyleView",
      "description_width": ""
     }
    },
    "50b7fb177e614b219c48106d3cb73f45": {
     "model_module": "@jupyter-widgets/base",
     "model_module_version": "1.2.0",
     "model_name": "LayoutModel",
     "state": {
      "_model_module": "@jupyter-widgets/base",
      "_model_module_version": "1.2.0",
      "_model_name": "LayoutModel",
      "_view_count": null,
      "_view_module": "@jupyter-widgets/base",
      "_view_module_version": "1.2.0",
      "_view_name": "LayoutView",
      "align_content": null,
      "align_items": null,
      "align_self": null,
      "border": null,
      "bottom": null,
      "display": null,
      "flex": null,
      "flex_flow": null,
      "grid_area": null,
      "grid_auto_columns": null,
      "grid_auto_flow": null,
      "grid_auto_rows": null,
      "grid_column": null,
      "grid_gap": null,
      "grid_row": null,
      "grid_template_areas": null,
      "grid_template_columns": null,
      "grid_template_rows": null,
      "height": null,
      "justify_content": null,
      "justify_items": null,
      "left": null,
      "margin": null,
      "max_height": null,
      "max_width": null,
      "min_height": null,
      "min_width": null,
      "object_fit": null,
      "object_position": null,
      "order": null,
      "overflow": null,
      "overflow_x": null,
      "overflow_y": null,
      "padding": null,
      "right": null,
      "top": null,
      "visibility": null,
      "width": null
     }
    },
    "51828d8518844dc1b8e2f91a3f4f6b36": {
     "model_module": "@jupyter-widgets/controls",
     "model_module_version": "1.5.0",
     "model_name": "HTMLModel",
     "state": {
      "_dom_classes": [],
      "_model_module": "@jupyter-widgets/controls",
      "_model_module_version": "1.5.0",
      "_model_name": "HTMLModel",
      "_view_count": null,
      "_view_module": "@jupyter-widgets/controls",
      "_view_module_version": "1.5.0",
      "_view_name": "HTMLView",
      "description": "",
      "description_tooltip": null,
      "layout": "IPY_MODEL_aa77356552884ddbbcd7b4bc320414f3",
      "placeholder": "​",
      "style": "IPY_MODEL_bff7c3ead2954ecb9ecaffc47e952e7a",
      "value": ""
     }
    },
    "5d8028166d904a6abe44161e079f6ba0": {
     "model_module": "@jupyter-widgets/controls",
     "model_module_version": "1.5.0",
     "model_name": "FloatProgressModel",
     "state": {
      "_dom_classes": [],
      "_model_module": "@jupyter-widgets/controls",
      "_model_module_version": "1.5.0",
      "_model_name": "FloatProgressModel",
      "_view_count": null,
      "_view_module": "@jupyter-widgets/controls",
      "_view_module_version": "1.5.0",
      "_view_name": "ProgressView",
      "bar_style": "success",
      "description": "",
      "description_tooltip": null,
      "layout": "IPY_MODEL_91b39492002841a78595543d0daa5eb8",
      "max": 4422102,
      "min": 0,
      "orientation": "horizontal",
      "style": "IPY_MODEL_2c7925573d934d59879bcdd856eb7f3b",
      "value": 4422102
     }
    },
    "5e919a4a1a3047fea9aea3744325106f": {
     "model_module": "@jupyter-widgets/controls",
     "model_module_version": "1.5.0",
     "model_name": "DescriptionStyleModel",
     "state": {
      "_model_module": "@jupyter-widgets/controls",
      "_model_module_version": "1.5.0",
      "_model_name": "DescriptionStyleModel",
      "_view_count": null,
      "_view_module": "@jupyter-widgets/base",
      "_view_module_version": "1.2.0",
      "_view_name": "StyleView",
      "description_width": ""
     }
    },
    "651ef213276044d68d0aa068897b65de": {
     "model_module": "@jupyter-widgets/base",
     "model_module_version": "1.2.0",
     "model_name": "LayoutModel",
     "state": {
      "_model_module": "@jupyter-widgets/base",
      "_model_module_version": "1.2.0",
      "_model_name": "LayoutModel",
      "_view_count": null,
      "_view_module": "@jupyter-widgets/base",
      "_view_module_version": "1.2.0",
      "_view_name": "LayoutView",
      "align_content": null,
      "align_items": null,
      "align_self": null,
      "border": null,
      "bottom": null,
      "display": null,
      "flex": null,
      "flex_flow": null,
      "grid_area": null,
      "grid_auto_columns": null,
      "grid_auto_flow": null,
      "grid_auto_rows": null,
      "grid_column": null,
      "grid_gap": null,
      "grid_row": null,
      "grid_template_areas": null,
      "grid_template_columns": null,
      "grid_template_rows": null,
      "height": null,
      "justify_content": null,
      "justify_items": null,
      "left": null,
      "margin": null,
      "max_height": null,
      "max_width": null,
      "min_height": null,
      "min_width": null,
      "object_fit": null,
      "object_position": null,
      "order": null,
      "overflow": null,
      "overflow_x": null,
      "overflow_y": null,
      "padding": null,
      "right": null,
      "top": null,
      "visibility": null,
      "width": null
     }
    },
    "7455fc7f09524975803189c017f2b1b1": {
     "model_module": "@jupyter-widgets/base",
     "model_module_version": "1.2.0",
     "model_name": "LayoutModel",
     "state": {
      "_model_module": "@jupyter-widgets/base",
      "_model_module_version": "1.2.0",
      "_model_name": "LayoutModel",
      "_view_count": null,
      "_view_module": "@jupyter-widgets/base",
      "_view_module_version": "1.2.0",
      "_view_name": "LayoutView",
      "align_content": null,
      "align_items": null,
      "align_self": null,
      "border": null,
      "bottom": null,
      "display": null,
      "flex": null,
      "flex_flow": null,
      "grid_area": null,
      "grid_auto_columns": null,
      "grid_auto_flow": null,
      "grid_auto_rows": null,
      "grid_column": null,
      "grid_gap": null,
      "grid_row": null,
      "grid_template_areas": null,
      "grid_template_columns": null,
      "grid_template_rows": null,
      "height": null,
      "justify_content": null,
      "justify_items": null,
      "left": null,
      "margin": null,
      "max_height": null,
      "max_width": null,
      "min_height": null,
      "min_width": null,
      "object_fit": null,
      "object_position": null,
      "order": null,
      "overflow": null,
      "overflow_x": null,
      "overflow_y": null,
      "padding": null,
      "right": null,
      "top": null,
      "visibility": null,
      "width": null
     }
    },
    "76d7fb538cb948ebb8f5c7f0fdd8e364": {
     "model_module": "@jupyter-widgets/controls",
     "model_module_version": "1.5.0",
     "model_name": "HBoxModel",
     "state": {
      "_dom_classes": [],
      "_model_module": "@jupyter-widgets/controls",
      "_model_module_version": "1.5.0",
      "_model_name": "HBoxModel",
      "_view_count": null,
      "_view_module": "@jupyter-widgets/controls",
      "_view_module_version": "1.5.0",
      "_view_name": "HBoxView",
      "box_style": "",
      "children": [
       "IPY_MODEL_51828d8518844dc1b8e2f91a3f4f6b36",
       "IPY_MODEL_00061c35a0a04bfe8d7d1420d6e59c66",
       "IPY_MODEL_a035f0b2551b4d4dbbad4dd9c7a8eefc"
      ],
      "layout": "IPY_MODEL_cee1629ea5e041cfb32f40b588bdafbd"
     }
    },
    "791ffd9e5feb42c5a30b19c585d4c8ca": {
     "model_module": "@jupyter-widgets/controls",
     "model_module_version": "1.5.0",
     "model_name": "ProgressStyleModel",
     "state": {
      "_model_module": "@jupyter-widgets/controls",
      "_model_module_version": "1.5.0",
      "_model_name": "ProgressStyleModel",
      "_view_count": null,
      "_view_module": "@jupyter-widgets/base",
      "_view_module_version": "1.2.0",
      "_view_name": "StyleView",
      "bar_color": null,
      "description_width": ""
     }
    },
    "7c929515a86d4c72b25cc4e37ddd5fe0": {
     "model_module": "@jupyter-widgets/controls",
     "model_module_version": "1.5.0",
     "model_name": "DescriptionStyleModel",
     "state": {
      "_model_module": "@jupyter-widgets/controls",
      "_model_module_version": "1.5.0",
      "_model_name": "DescriptionStyleModel",
      "_view_count": null,
      "_view_module": "@jupyter-widgets/base",
      "_view_module_version": "1.2.0",
      "_view_name": "StyleView",
      "description_width": ""
     }
    },
    "91b39492002841a78595543d0daa5eb8": {
     "model_module": "@jupyter-widgets/base",
     "model_module_version": "1.2.0",
     "model_name": "LayoutModel",
     "state": {
      "_model_module": "@jupyter-widgets/base",
      "_model_module_version": "1.2.0",
      "_model_name": "LayoutModel",
      "_view_count": null,
      "_view_module": "@jupyter-widgets/base",
      "_view_module_version": "1.2.0",
      "_view_name": "LayoutView",
      "align_content": null,
      "align_items": null,
      "align_self": null,
      "border": null,
      "bottom": null,
      "display": null,
      "flex": null,
      "flex_flow": null,
      "grid_area": null,
      "grid_auto_columns": null,
      "grid_auto_flow": null,
      "grid_auto_rows": null,
      "grid_column": null,
      "grid_gap": null,
      "grid_row": null,
      "grid_template_areas": null,
      "grid_template_columns": null,
      "grid_template_rows": null,
      "height": null,
      "justify_content": null,
      "justify_items": null,
      "left": null,
      "margin": null,
      "max_height": null,
      "max_width": null,
      "min_height": null,
      "min_width": null,
      "object_fit": null,
      "object_position": null,
      "order": null,
      "overflow": null,
      "overflow_x": null,
      "overflow_y": null,
      "padding": null,
      "right": null,
      "top": null,
      "visibility": null,
      "width": null
     }
    },
    "943c58488c504376b3e9623ec8b0aa62": {
     "model_module": "@jupyter-widgets/base",
     "model_module_version": "1.2.0",
     "model_name": "LayoutModel",
     "state": {
      "_model_module": "@jupyter-widgets/base",
      "_model_module_version": "1.2.0",
      "_model_name": "LayoutModel",
      "_view_count": null,
      "_view_module": "@jupyter-widgets/base",
      "_view_module_version": "1.2.0",
      "_view_name": "LayoutView",
      "align_content": null,
      "align_items": null,
      "align_self": null,
      "border": null,
      "bottom": null,
      "display": null,
      "flex": null,
      "flex_flow": null,
      "grid_area": null,
      "grid_auto_columns": null,
      "grid_auto_flow": null,
      "grid_auto_rows": null,
      "grid_column": null,
      "grid_gap": null,
      "grid_row": null,
      "grid_template_areas": null,
      "grid_template_columns": null,
      "grid_template_rows": null,
      "height": null,
      "justify_content": null,
      "justify_items": null,
      "left": null,
      "margin": null,
      "max_height": null,
      "max_width": null,
      "min_height": null,
      "min_width": null,
      "object_fit": null,
      "object_position": null,
      "order": null,
      "overflow": null,
      "overflow_x": null,
      "overflow_y": null,
      "padding": null,
      "right": null,
      "top": null,
      "visibility": null,
      "width": null
     }
    },
    "977d7b1af1b344ffaf9ec4bafafeeaf5": {
     "model_module": "@jupyter-widgets/base",
     "model_module_version": "1.2.0",
     "model_name": "LayoutModel",
     "state": {
      "_model_module": "@jupyter-widgets/base",
      "_model_module_version": "1.2.0",
      "_model_name": "LayoutModel",
      "_view_count": null,
      "_view_module": "@jupyter-widgets/base",
      "_view_module_version": "1.2.0",
      "_view_name": "LayoutView",
      "align_content": null,
      "align_items": null,
      "align_self": null,
      "border": null,
      "bottom": null,
      "display": null,
      "flex": null,
      "flex_flow": null,
      "grid_area": null,
      "grid_auto_columns": null,
      "grid_auto_flow": null,
      "grid_auto_rows": null,
      "grid_column": null,
      "grid_gap": null,
      "grid_row": null,
      "grid_template_areas": null,
      "grid_template_columns": null,
      "grid_template_rows": null,
      "height": null,
      "justify_content": null,
      "justify_items": null,
      "left": null,
      "margin": null,
      "max_height": null,
      "max_width": null,
      "min_height": null,
      "min_width": null,
      "object_fit": null,
      "object_position": null,
      "order": null,
      "overflow": null,
      "overflow_x": null,
      "overflow_y": null,
      "padding": null,
      "right": null,
      "top": null,
      "visibility": null,
      "width": null
     }
    },
    "9b161079c4544d74a74c91daee9da9d3": {
     "model_module": "@jupyter-widgets/base",
     "model_module_version": "1.2.0",
     "model_name": "LayoutModel",
     "state": {
      "_model_module": "@jupyter-widgets/base",
      "_model_module_version": "1.2.0",
      "_model_name": "LayoutModel",
      "_view_count": null,
      "_view_module": "@jupyter-widgets/base",
      "_view_module_version": "1.2.0",
      "_view_name": "LayoutView",
      "align_content": null,
      "align_items": null,
      "align_self": null,
      "border": null,
      "bottom": null,
      "display": null,
      "flex": null,
      "flex_flow": null,
      "grid_area": null,
      "grid_auto_columns": null,
      "grid_auto_flow": null,
      "grid_auto_rows": null,
      "grid_column": null,
      "grid_gap": null,
      "grid_row": null,
      "grid_template_areas": null,
      "grid_template_columns": null,
      "grid_template_rows": null,
      "height": null,
      "justify_content": null,
      "justify_items": null,
      "left": null,
      "margin": null,
      "max_height": null,
      "max_width": null,
      "min_height": null,
      "min_width": null,
      "object_fit": null,
      "object_position": null,
      "order": null,
      "overflow": null,
      "overflow_x": null,
      "overflow_y": null,
      "padding": null,
      "right": null,
      "top": null,
      "visibility": null,
      "width": null
     }
    },
    "a035f0b2551b4d4dbbad4dd9c7a8eefc": {
     "model_module": "@jupyter-widgets/controls",
     "model_module_version": "1.5.0",
     "model_name": "HTMLModel",
     "state": {
      "_dom_classes": [],
      "_model_module": "@jupyter-widgets/controls",
      "_model_module_version": "1.5.0",
      "_model_name": "HTMLModel",
      "_view_count": null,
      "_view_module": "@jupyter-widgets/controls",
      "_view_module_version": "1.5.0",
      "_view_name": "HTMLView",
      "description": "",
      "description_tooltip": null,
      "layout": "IPY_MODEL_a921394dff694adf8069b436a167229f",
      "placeholder": "​",
      "style": "IPY_MODEL_c77200f658fe416e8559d2411bd86ee1",
      "value": " 26422272/? [00:01&lt;00:00, 27083201.33it/s]"
     }
    },
    "a2e6175300e64514a3a7471b0a1386a5": {
     "model_module": "@jupyter-widgets/base",
     "model_module_version": "1.2.0",
     "model_name": "LayoutModel",
     "state": {
      "_model_module": "@jupyter-widgets/base",
      "_model_module_version": "1.2.0",
      "_model_name": "LayoutModel",
      "_view_count": null,
      "_view_module": "@jupyter-widgets/base",
      "_view_module_version": "1.2.0",
      "_view_name": "LayoutView",
      "align_content": null,
      "align_items": null,
      "align_self": null,
      "border": null,
      "bottom": null,
      "display": null,
      "flex": null,
      "flex_flow": null,
      "grid_area": null,
      "grid_auto_columns": null,
      "grid_auto_flow": null,
      "grid_auto_rows": null,
      "grid_column": null,
      "grid_gap": null,
      "grid_row": null,
      "grid_template_areas": null,
      "grid_template_columns": null,
      "grid_template_rows": null,
      "height": null,
      "justify_content": null,
      "justify_items": null,
      "left": null,
      "margin": null,
      "max_height": null,
      "max_width": null,
      "min_height": null,
      "min_width": null,
      "object_fit": null,
      "object_position": null,
      "order": null,
      "overflow": null,
      "overflow_x": null,
      "overflow_y": null,
      "padding": null,
      "right": null,
      "top": null,
      "visibility": null,
      "width": null
     }
    },
    "a921394dff694adf8069b436a167229f": {
     "model_module": "@jupyter-widgets/base",
     "model_module_version": "1.2.0",
     "model_name": "LayoutModel",
     "state": {
      "_model_module": "@jupyter-widgets/base",
      "_model_module_version": "1.2.0",
      "_model_name": "LayoutModel",
      "_view_count": null,
      "_view_module": "@jupyter-widgets/base",
      "_view_module_version": "1.2.0",
      "_view_name": "LayoutView",
      "align_content": null,
      "align_items": null,
      "align_self": null,
      "border": null,
      "bottom": null,
      "display": null,
      "flex": null,
      "flex_flow": null,
      "grid_area": null,
      "grid_auto_columns": null,
      "grid_auto_flow": null,
      "grid_auto_rows": null,
      "grid_column": null,
      "grid_gap": null,
      "grid_row": null,
      "grid_template_areas": null,
      "grid_template_columns": null,
      "grid_template_rows": null,
      "height": null,
      "justify_content": null,
      "justify_items": null,
      "left": null,
      "margin": null,
      "max_height": null,
      "max_width": null,
      "min_height": null,
      "min_width": null,
      "object_fit": null,
      "object_position": null,
      "order": null,
      "overflow": null,
      "overflow_x": null,
      "overflow_y": null,
      "padding": null,
      "right": null,
      "top": null,
      "visibility": null,
      "width": null
     }
    },
    "aa77356552884ddbbcd7b4bc320414f3": {
     "model_module": "@jupyter-widgets/base",
     "model_module_version": "1.2.0",
     "model_name": "LayoutModel",
     "state": {
      "_model_module": "@jupyter-widgets/base",
      "_model_module_version": "1.2.0",
      "_model_name": "LayoutModel",
      "_view_count": null,
      "_view_module": "@jupyter-widgets/base",
      "_view_module_version": "1.2.0",
      "_view_name": "LayoutView",
      "align_content": null,
      "align_items": null,
      "align_self": null,
      "border": null,
      "bottom": null,
      "display": null,
      "flex": null,
      "flex_flow": null,
      "grid_area": null,
      "grid_auto_columns": null,
      "grid_auto_flow": null,
      "grid_auto_rows": null,
      "grid_column": null,
      "grid_gap": null,
      "grid_row": null,
      "grid_template_areas": null,
      "grid_template_columns": null,
      "grid_template_rows": null,
      "height": null,
      "justify_content": null,
      "justify_items": null,
      "left": null,
      "margin": null,
      "max_height": null,
      "max_width": null,
      "min_height": null,
      "min_width": null,
      "object_fit": null,
      "object_position": null,
      "order": null,
      "overflow": null,
      "overflow_x": null,
      "overflow_y": null,
      "padding": null,
      "right": null,
      "top": null,
      "visibility": null,
      "width": null
     }
    },
    "b62734d37476482a8f8f0e71c1ab611f": {
     "model_module": "@jupyter-widgets/controls",
     "model_module_version": "1.5.0",
     "model_name": "HBoxModel",
     "state": {
      "_dom_classes": [],
      "_model_module": "@jupyter-widgets/controls",
      "_model_module_version": "1.5.0",
      "_model_name": "HBoxModel",
      "_view_count": null,
      "_view_module": "@jupyter-widgets/controls",
      "_view_module_version": "1.5.0",
      "_view_name": "HBoxView",
      "box_style": "",
      "children": [
       "IPY_MODEL_33ca1dcd518846aa977faac036326846",
       "IPY_MODEL_5d8028166d904a6abe44161e079f6ba0",
       "IPY_MODEL_24cd61d3fa14432590b416f09246781e"
      ],
      "layout": "IPY_MODEL_651ef213276044d68d0aa068897b65de"
     }
    },
    "b63585053506446b8b883725c70de890": {
     "model_module": "@jupyter-widgets/controls",
     "model_module_version": "1.5.0",
     "model_name": "HTMLModel",
     "state": {
      "_dom_classes": [],
      "_model_module": "@jupyter-widgets/controls",
      "_model_module_version": "1.5.0",
      "_model_name": "HTMLModel",
      "_view_count": null,
      "_view_module": "@jupyter-widgets/controls",
      "_view_module_version": "1.5.0",
      "_view_name": "HTMLView",
      "description": "",
      "description_tooltip": null,
      "layout": "IPY_MODEL_34b2968a38c24feab364cdccb1865008",
      "placeholder": "​",
      "style": "IPY_MODEL_5e919a4a1a3047fea9aea3744325106f",
      "value": ""
     }
    },
    "bff7c3ead2954ecb9ecaffc47e952e7a": {
     "model_module": "@jupyter-widgets/controls",
     "model_module_version": "1.5.0",
     "model_name": "DescriptionStyleModel",
     "state": {
      "_model_module": "@jupyter-widgets/controls",
      "_model_module_version": "1.5.0",
      "_model_name": "DescriptionStyleModel",
      "_view_count": null,
      "_view_module": "@jupyter-widgets/base",
      "_view_module_version": "1.2.0",
      "_view_name": "StyleView",
      "description_width": ""
     }
    },
    "c77200f658fe416e8559d2411bd86ee1": {
     "model_module": "@jupyter-widgets/controls",
     "model_module_version": "1.5.0",
     "model_name": "DescriptionStyleModel",
     "state": {
      "_model_module": "@jupyter-widgets/controls",
      "_model_module_version": "1.5.0",
      "_model_name": "DescriptionStyleModel",
      "_view_count": null,
      "_view_module": "@jupyter-widgets/base",
      "_view_module_version": "1.2.0",
      "_view_name": "StyleView",
      "description_width": ""
     }
    },
    "cee1629ea5e041cfb32f40b588bdafbd": {
     "model_module": "@jupyter-widgets/base",
     "model_module_version": "1.2.0",
     "model_name": "LayoutModel",
     "state": {
      "_model_module": "@jupyter-widgets/base",
      "_model_module_version": "1.2.0",
      "_model_name": "LayoutModel",
      "_view_count": null,
      "_view_module": "@jupyter-widgets/base",
      "_view_module_version": "1.2.0",
      "_view_name": "LayoutView",
      "align_content": null,
      "align_items": null,
      "align_self": null,
      "border": null,
      "bottom": null,
      "display": null,
      "flex": null,
      "flex_flow": null,
      "grid_area": null,
      "grid_auto_columns": null,
      "grid_auto_flow": null,
      "grid_auto_rows": null,
      "grid_column": null,
      "grid_gap": null,
      "grid_row": null,
      "grid_template_areas": null,
      "grid_template_columns": null,
      "grid_template_rows": null,
      "height": null,
      "justify_content": null,
      "justify_items": null,
      "left": null,
      "margin": null,
      "max_height": null,
      "max_width": null,
      "min_height": null,
      "min_width": null,
      "object_fit": null,
      "object_position": null,
      "order": null,
      "overflow": null,
      "overflow_x": null,
      "overflow_y": null,
      "padding": null,
      "right": null,
      "top": null,
      "visibility": null,
      "width": null
     }
    },
    "dc5a262bd30246f7a666656ca8884f0d": {
     "model_module": "@jupyter-widgets/controls",
     "model_module_version": "1.5.0",
     "model_name": "FloatProgressModel",
     "state": {
      "_dom_classes": [],
      "_model_module": "@jupyter-widgets/controls",
      "_model_module_version": "1.5.0",
      "_model_name": "FloatProgressModel",
      "_view_count": null,
      "_view_module": "@jupyter-widgets/controls",
      "_view_module_version": "1.5.0",
      "_view_name": "ProgressView",
      "bar_style": "success",
      "description": "",
      "description_tooltip": null,
      "layout": "IPY_MODEL_1b868fa1592e4afeab25f0d6bed46992",
      "max": 29515,
      "min": 0,
      "orientation": "horizontal",
      "style": "IPY_MODEL_791ffd9e5feb42c5a30b19c585d4c8ca",
      "value": 29515
     }
    },
    "dd9095a327db4b00b2c039493aa12a04": {
     "model_module": "@jupyter-widgets/controls",
     "model_module_version": "1.5.0",
     "model_name": "ProgressStyleModel",
     "state": {
      "_model_module": "@jupyter-widgets/controls",
      "_model_module_version": "1.5.0",
      "_model_name": "ProgressStyleModel",
      "_view_count": null,
      "_view_module": "@jupyter-widgets/base",
      "_view_module_version": "1.2.0",
      "_view_name": "StyleView",
      "bar_color": null,
      "description_width": ""
     }
    },
    "de045f797dd84c258c59a95e1b9f16c3": {
     "model_module": "@jupyter-widgets/controls",
     "model_module_version": "1.5.0",
     "model_name": "DescriptionStyleModel",
     "state": {
      "_model_module": "@jupyter-widgets/controls",
      "_model_module_version": "1.5.0",
      "_model_name": "DescriptionStyleModel",
      "_view_count": null,
      "_view_module": "@jupyter-widgets/base",
      "_view_module_version": "1.2.0",
      "_view_name": "StyleView",
      "description_width": ""
     }
    },
    "de9424722b03404c85fdf60c91ba1c37": {
     "model_module": "@jupyter-widgets/controls",
     "model_module_version": "1.5.0",
     "model_name": "DescriptionStyleModel",
     "state": {
      "_model_module": "@jupyter-widgets/controls",
      "_model_module_version": "1.5.0",
      "_model_name": "DescriptionStyleModel",
      "_view_count": null,
      "_view_module": "@jupyter-widgets/base",
      "_view_module_version": "1.2.0",
      "_view_name": "StyleView",
      "description_width": ""
     }
    },
    "e59f1b67dbef4d72bfead0411cad1dda": {
     "model_module": "@jupyter-widgets/controls",
     "model_module_version": "1.5.0",
     "model_name": "HTMLModel",
     "state": {
      "_dom_classes": [],
      "_model_module": "@jupyter-widgets/controls",
      "_model_module_version": "1.5.0",
      "_model_name": "HTMLModel",
      "_view_count": null,
      "_view_module": "@jupyter-widgets/controls",
      "_view_module_version": "1.5.0",
      "_view_name": "HTMLView",
      "description": "",
      "description_tooltip": null,
      "layout": "IPY_MODEL_9b161079c4544d74a74c91daee9da9d3",
      "placeholder": "​",
      "style": "IPY_MODEL_de9424722b03404c85fdf60c91ba1c37",
      "value": " 29696/? [00:00&lt;00:00, 328375.27it/s]"
     }
    },
    "f068917894fa46a7806ca6c78cbea7ad": {
     "model_module": "@jupyter-widgets/controls",
     "model_module_version": "1.5.0",
     "model_name": "FloatProgressModel",
     "state": {
      "_dom_classes": [],
      "_model_module": "@jupyter-widgets/controls",
      "_model_module_version": "1.5.0",
      "_model_name": "FloatProgressModel",
      "_view_count": null,
      "_view_module": "@jupyter-widgets/controls",
      "_view_module_version": "1.5.0",
      "_view_name": "ProgressView",
      "bar_style": "success",
      "description": "",
      "description_tooltip": null,
      "layout": "IPY_MODEL_977d7b1af1b344ffaf9ec4bafafeeaf5",
      "max": 5148,
      "min": 0,
      "orientation": "horizontal",
      "style": "IPY_MODEL_429f6d23bcad468eb2a711aa9fea17e9",
      "value": 5148
     }
    },
    "fcd9f80b6403493e9f35ad4cd09ef070": {
     "model_module": "@jupyter-widgets/base",
     "model_module_version": "1.2.0",
     "model_name": "LayoutModel",
     "state": {
      "_model_module": "@jupyter-widgets/base",
      "_model_module_version": "1.2.0",
      "_model_name": "LayoutModel",
      "_view_count": null,
      "_view_module": "@jupyter-widgets/base",
      "_view_module_version": "1.2.0",
      "_view_name": "LayoutView",
      "align_content": null,
      "align_items": null,
      "align_self": null,
      "border": null,
      "bottom": null,
      "display": null,
      "flex": null,
      "flex_flow": null,
      "grid_area": null,
      "grid_auto_columns": null,
      "grid_auto_flow": null,
      "grid_auto_rows": null,
      "grid_column": null,
      "grid_gap": null,
      "grid_row": null,
      "grid_template_areas": null,
      "grid_template_columns": null,
      "grid_template_rows": null,
      "height": null,
      "justify_content": null,
      "justify_items": null,
      "left": null,
      "margin": null,
      "max_height": null,
      "max_width": null,
      "min_height": null,
      "min_width": null,
      "object_fit": null,
      "object_position": null,
      "order": null,
      "overflow": null,
      "overflow_x": null,
      "overflow_y": null,
      "padding": null,
      "right": null,
      "top": null,
      "visibility": null,
      "width": null
     }
    }
   }
  }
 },
 "nbformat": 4,
 "nbformat_minor": 5
}
