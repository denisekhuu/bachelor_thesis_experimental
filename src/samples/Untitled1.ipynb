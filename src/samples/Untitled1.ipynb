{
 "cells": [
  {
   "cell_type": "code",
   "execution_count": null,
   "id": "cd478158-9722-4f94-9f49-77e397321206",
   "metadata": {},
   "outputs": [],
   "source": []
  },
  {
   "cell_type": "code",
   "execution_count": 2,
   "id": "b73721b1-9f7f-461b-8cc2-e39bf7a1f9de",
   "metadata": {},
   "outputs": [],
   "source": [
    "f_accuracy = [0.94, 0.95, 0.935, 0.94, 0.94, 0.955, 0.93, 0.91, 0.95, 0.96, 0.95, 0.94, 0.95, 0.955, 0.945, 0.95, 0.9, 0.94, 0.94, 0.925, 0.93, 0.95, 0.95, 0.93, 0.95, 0.935, 0.94, 0.94, 0.945, 0.945, 0.95, 0.945, 0.905, 0.95, 0.945, 0.945, 0.95, 0.95, 0.93, 0.945, 0.95, 0.93, 0.945, 0.92, 0.94, 0.955, 0.92, 0.94, 0.94, 0.94]\n",
    "f_recall = [0.92, 0.97, 0.95, 0.92, 0.96, 0.97, 0.91, 0.9, 0.98, 0.97, 0.94, 0.97, 0.96, 0.97, 0.98, 0.95, 0.86, 0.97, 0.97, 0.92, 0.94, 0.94, 0.95, 0.9, 0.98, 0.93, 0.96, 0.96, 0.96, 0.96, 0.97, 0.94, 0.89, 0.97, 0.96, 0.96, 0.98, 0.94, 0.94, 0.95, 0.98, 0.9, 0.96, 0.93, 0.93, 0.97, 0.92, 0.95, 0.94, 0.96]"
   ]
  },
  {
   "cell_type": "code",
   "execution_count": 3,
   "id": "d7987477-2ce7-4cf7-8116-4e2976cfe364",
   "metadata": {},
   "outputs": [],
   "source": [
    "m_accuracy = [1.0, 1.0, 0.98, 1.0, 0.995, 1.0, 0.985, 0.995, 0.995, 0.98, 0.995, 1.0, 0.995, 0.985, 1.0, 0.98, 1.0, 0.995, 0.955, 1.0, 0.985, 1.0, 1.0, 0.985, 0.98, 0.995, 0.975, 1.0, 0.995, 1.0, 1.0, 1.0, 0.99, 0.995, 1.0, 0.995, 1.0, 0.995, 1.0, 0.995, 0.985, 0.975, 1.0, 0.955, 0.98, 1.0, 0.995, 1.0, 1.0, 0.98]\n",
    "m_recall = [1.0, 1.0, 0.96, 1.0, 1.0, 1.0, 0.97, 0.99, 0.99, 0.96, 0.99, 1.0, 1.0, 0.97, 1.0, 0.96, 1.0, 1.0, 0.91, 1.0, 0.97, 1.0, 1.0, 0.97, 0.96, 0.99, 0.95, 1.0, 1.0, 1.0, 1.0, 1.0, 0.98, 1.0, 1.0, 1.0, 1.0, 1.0, 1.0, 1.0, 0.97, 0.95, 1.0, 0.91, 0.96, 1.0, 1.0, 1.0, 1.0, 0.96]"
   ]
  },
  {
   "cell_type": "code",
   "execution_count": 10,
   "id": "642fd2fc-b415-4ef7-9498-6c50b58f1229",
   "metadata": {},
   "outputs": [
    {
     "name": "stdout",
     "output_type": "stream",
     "text": [
      "0.9402999999999999 0.9471999999999998 0.9917999999999999 0.9854\n"
     ]
    }
   ],
   "source": [
    "f_acc = np.mean(f_accuracy, axis=0)\n",
    "f_re  = np.mean(f_recall , axis=0)\n",
    "m_acc = np.mean(m_accuracy , axis=0)\n",
    "m_re = np.mean(m_recall  , axis=0)\n",
    "print(f_acc,f_re, m_acc, m_re)"
   ]
  },
  {
   "cell_type": "code",
   "execution_count": 12,
   "id": "63d60a3b-d35b-4aa7-933b-52fbe24b4b07",
   "metadata": {},
   "outputs": [
    {
     "name": "stdout",
     "output_type": "stream",
     "text": [
      "0.01254631419979586 0.02661127580556782 0.01085172797300044 0.022557482128996584\n"
     ]
    }
   ],
   "source": [
    "f_acc = np.std(f_accuracy, axis=0)\n",
    "f_re  = np.std(f_recall , axis=0)\n",
    "m_acc = np.std(m_accuracy, axis=0)\n",
    "m_re = np.std(m_recall, axis=0)\n",
    "print(f_acc,f_re, m_acc, m_re)"
   ]
  }
 ],
 "metadata": {
  "kernelspec": {
   "display_name": "Python 3 (ipykernel)",
   "language": "python",
   "name": "python3"
  },
  "language_info": {
   "codemirror_mode": {
    "name": "ipython",
    "version": 3
   },
   "file_extension": ".py",
   "mimetype": "text/x-python",
   "name": "python",
   "nbconvert_exporter": "python",
   "pygments_lexer": "ipython3",
   "version": "3.9.12"
  }
 },
 "nbformat": 4,
 "nbformat_minor": 5
}
