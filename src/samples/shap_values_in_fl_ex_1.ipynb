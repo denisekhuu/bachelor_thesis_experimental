{
 "cells": [
  {
   "cell_type": "markdown",
   "id": "298dfa70-a46d-4329-b1e5-b7944d8ade29",
   "metadata": {
    "tags": []
   },
   "source": [
    "# Feature Engineering with SHAP values Experiment 1"
   ]
  },
  {
   "cell_type": "markdown",
   "id": "cfadba9b-4644-4998-bdeb-39dee05965cc",
   "metadata": {},
   "source": [
    "SHAP Images of server with different number of poisoned clients\n",
    "* number of malicious clients [0,1,2,3,4,5]"
   ]
  },
  {
   "cell_type": "markdown",
   "id": "0fa09c19-b79a-4d04-91f1-d27bd6be9260",
   "metadata": {},
   "source": [
    "SHAP Images right after poisoning attack\n",
    "* rounds [1,2,10,75,200]"
   ]
  },
  {
   "cell_type": "markdown",
   "id": "2a2f5fea-12fa-4413-be81-1126656be438",
   "metadata": {},
   "source": [
    "Summation of Differences SHAP Images right after poisoning attack\n",
    "* rounds [1,2,10,75,200]\n",
    "* 5 times"
   ]
  },
  {
   "cell_type": "markdown",
   "id": "2ccac5ea-7b1d-47c8-8a4e-c3d18bfe5c81",
   "metadata": {},
   "source": [
    "## Google Colab"
   ]
  },
  {
   "cell_type": "code",
   "execution_count": null,
   "id": "0265651c-c72f-43f7-b5e9-a3ea624b981c",
   "metadata": {},
   "outputs": [],
   "source": [
    "from google.colab import drive\n",
    "drive.flush_and_unmount()\n",
    "drive.mount('/content/drive', force_remount=True)"
   ]
  },
  {
   "cell_type": "code",
   "execution_count": null,
   "id": "c746fc0b-bb90-4b51-ac7d-fc778b8a9438",
   "metadata": {},
   "outputs": [],
   "source": [
    "import sys\n",
    "sys.path.append('/content/drive/My Drive/Colab Notebooks')\n",
    "sys.path.append('/content/drive/My Drive/Colab Notebooks/federated_learning')"
   ]
  },
  {
   "cell_type": "code",
   "execution_count": null,
   "id": "32d30812-8784-458b-9f75-c3b9dccff418",
   "metadata": {},
   "outputs": [],
   "source": [
    "!pip install shap==0.40.0"
   ]
  },
  {
   "cell_type": "markdown",
   "id": "b3550e57-ade5-4232-86c0-4030585df070",
   "metadata": {
    "tags": []
   },
   "source": [
    "## Experiments"
   ]
  },
  {
   "cell_type": "code",
   "execution_count": null,
   "id": "652af317-4a22-4efc-adda-a19cb17141dd",
   "metadata": {},
   "outputs": [],
   "source": [
    "from federated_learning.utils import SHAPUtil, experiment_util, Visualizer\n",
    "from federated_learning import ClientPlane, Configuration, ObserverConfiguration\n",
    "from federated_learning.server import Server\n",
    "from datetime import datetime"
   ]
  },
  {
   "cell_type": "markdown",
   "id": "04d5a68f-c527-4aef-86b3-0f8ef24ec205",
   "metadata": {
    "tags": []
   },
   "source": [
    "## MNIST\n",
    "(1) 5 → 4,\n",
    "(2) 1 → 7,\n",
    "(3) 3 → 8,"
   ]
  },
  {
   "cell_type": "code",
   "execution_count": null,
   "id": "263060ac-7edc-4e96-8a27-5cea91b7618d",
   "metadata": {},
   "outputs": [],
   "source": [
    "from federated_learning.nets import MNISTCNN\n",
    "from federated_learning.dataset import MNISTDataset\n",
    "import os\n",
    "config = Configuration()\n",
    "config.POISONED_CLIENTS = 0\n",
    "config.DATA_POISONING_PERCENTAGE = 1\n",
    "config.DATASET = MNISTDataset\n",
    "config.MODELNAME = config.MNIST_NAME\n",
    "config.NETWORK = MNISTCNN\n",
    "observer_config = ObserverConfiguration()\n",
    "observer_config.experiment_type = \"shap_fl_poisoned\"\n",
    "observer_config.experiment_id = 1\n",
    "observer_config.test = False\n",
    "observer_config.datasetObserverConfiguration = \"MNIST\"\n",
    "neutral_label = 2"
   ]
  },
  {
   "cell_type": "code",
   "execution_count": null,
   "id": "00c85810-ebed-4b4e-a093-5fd61d41f194",
   "metadata": {},
   "outputs": [],
   "source": [
    "# Google Colab Settigns\n",
    "config.TEMP = os.path.join('/content/drive/My Drive/Colab Notebooks/temp')\n",
    "config.FMNIST_DATASET_PATH = os.path.join('/content/data/fmnist')\n",
    "config.MNIST_DATASET_PATH = os.path.join('/content/data/mnist')\n",
    "config.CIFAR10_DATASET_PATH = os.path.join('/content/data/cifar10')\n",
    "config.VM_URL = \"none\""
   ]
  },
  {
   "cell_type": "code",
   "execution_count": null,
   "id": "4f8e9163-199f-4570-9e62-06c76a1099c6",
   "metadata": {},
   "outputs": [],
   "source": [
    "data = config.DATASET(config)\n",
    "shap_util = SHAPUtil(data.test_dataloader) \n",
    "server = Server(config, observer_config,data.train_dataloader, data.test_dataloader, shap_util)\n",
    "client_plane = ClientPlane(config, observer_config, data, shap_util)\n",
    "visualizer = Visualizer(shap_util)"
   ]
  },
  {
   "cell_type": "code",
   "execution_count": null,
   "id": "fed17f23-8466-4113-9aac-1f1f2d467afa",
   "metadata": {
    "scrolled": true,
    "tags": []
   },
   "outputs": [],
   "source": [
    "import numpy as np\n",
    "import copy\n",
    "for i in range(199):\n",
    "    experiment_util.set_rounds(client_plane, server, i+1)\n",
    "    experiment_util.run_round(client_plane, server, i+1)\n",
    "print(\"Run 199 finished\")\n",
    "old_params = copy.deepcopy(server.get_nn_parameters())"
   ]
  },
  {
   "cell_type": "code",
   "execution_count": null,
   "id": "dfa35924-ee48-42ce-95aa-ee77a851bad1",
   "metadata": {},
   "outputs": [],
   "source": [
    "\n",
    "#import torch\n",
    "#torch.save(server.net.state_dict(), \"temp/models/MNISTtrained2.model\")"
   ]
  },
  {
   "cell_type": "markdown",
   "id": "18e51796-b060-459a-a750-f2fc8c673fc8",
   "metadata": {
    "jp-MarkdownHeadingCollapsed": true,
    "tags": []
   },
   "source": [
    "### alpha (5,4)"
   ]
  },
  {
   "cell_type": "code",
   "execution_count": null,
   "id": "e88c1f0e-8a6c-4c66-81b8-53b4988c8063",
   "metadata": {},
   "outputs": [],
   "source": [
    "config.FROM_LABEL = 5\n",
    "config.TO_LABEL = 4\n",
    "\n",
    "accuracies = []\n",
    "recalls = []\n",
    "\n",
    "import torch\n",
    "torch.save(server.net.state_dict(), \"temp/models/MNISTtrained.model\")"
   ]
  },
  {
   "cell_type": "code",
   "execution_count": null,
   "id": "f95d8664-1a63-45c1-a86f-d7c71e684370",
   "metadata": {
    "scrolled": true,
    "tags": []
   },
   "outputs": [],
   "source": [
    "for j in range(config.CLIENTS_PER_ROUND + 1):\n",
    "    server.update_nn_parameters(old_params)\n",
    "    server.test()\n",
    "    recall, precision, accuracy = server.analize_test()\n",
    "    print(\"Original\", recall, precision, accuracy)\n",
    "    file_name = './results/ex3/MNIST/5_4/_run_shap_values_{}_poisoned_clients_alpha_5_4.pdf'.format(j)\n",
    "    config.POISONED_CLIENTS = j\n",
    "    experiment_util.update_configs(client_plane, server, config, observer_config)\n",
    "    client_plane.poison_clients()\n",
    "    clean_clients = experiment_util.select_random_clean(client_plane, config, config.CLIENTS_PER_ROUND - j)\n",
    "    poisoned_clients = experiment_util.select_poisoned(client_plane, j)\n",
    "    clients = [*clean_clients, *poisoned_clients]\n",
    "    print(clients)\n",
    "    experiment_util.run_round_with(clients, old_params, client_plane, server, 200)\n",
    "    server.test()\n",
    "    server_shap = server.get_shap_values()\n",
    "    recall, precision, accuracy = server.analize_test()\n",
    "    accuracies.append(accuracy)\n",
    "    recalls.append(recall)\n",
    "    visualizer.plot_shap_values(server_shap,file_name)\n",
    "    print(recall, precision, accuracy)\n",
    "    print(\"Poisoned clients: {}\".format(j))"
   ]
  },
  {
   "cell_type": "code",
   "execution_count": null,
   "id": "9c951659-99b5-4bf1-a915-ddf91539e15d",
   "metadata": {},
   "outputs": [],
   "source": [
    "# Run 0\n",
    "print(accuracies)\n",
    "print(recalls)"
   ]
  },
  {
   "cell_type": "code",
   "execution_count": null,
   "id": "ac70cccf-6929-4a0f-b1b6-4db2b04ace36",
   "metadata": {},
   "outputs": [],
   "source": [
    "# Run 1\n",
    "print(accuracies[6:])\n",
    "print(recalls[6:])"
   ]
  },
  {
   "cell_type": "code",
   "execution_count": null,
   "id": "427b85f7-5b3a-4666-b80a-f104fcee1827",
   "metadata": {},
   "outputs": [],
   "source": [
    "# Run 2\n",
    "print(accuracies[12:])\n",
    "print(recalls[12:])"
   ]
  },
  {
   "cell_type": "code",
   "execution_count": null,
   "id": "475413a4-4b12-4cea-82f2-d9ae34e15663",
   "metadata": {},
   "outputs": [],
   "source": [
    "# Run 3\n",
    "print(accuracies)\n",
    "print(recalls)"
   ]
  },
  {
   "cell_type": "code",
   "execution_count": null,
   "id": "b0e50740-62b8-431a-aec4-06be737f828e",
   "metadata": {},
   "outputs": [],
   "source": [
    "# Run 4\n",
    "print(accuracies)\n",
    "print(recalls)"
   ]
  },
  {
   "cell_type": "markdown",
   "id": "195fed49-30dc-4953-b63f-f5627d9bfafe",
   "metadata": {
    "jp-MarkdownHeadingCollapsed": true,
    "tags": []
   },
   "source": [
    "### alpha (1,7)"
   ]
  },
  {
   "cell_type": "code",
   "execution_count": null,
   "id": "c0e9c720-bc7a-425a-82ad-9bc3d44455f9",
   "metadata": {},
   "outputs": [],
   "source": [
    "import copy\n",
    "import torch\n",
    "from federated_learning.nets import MNISTCNN\n",
    "config.FROM_LABEL = 1\n",
    "config.TO_LABEL = 7\n",
    "\n",
    "server.net =  MNISTCNN()\n",
    "server.net.load_state_dict(torch.load('temp/models/MNISTtrained2.model'))\n",
    "old_params = copy.deepcopy(server.get_nn_parameters())"
   ]
  },
  {
   "cell_type": "code",
   "execution_count": null,
   "id": "6c6b3328-8cc6-4f3d-ae03-c823f5a7a635",
   "metadata": {},
   "outputs": [],
   "source": [
    "accuracies = []\n",
    "recalls = []"
   ]
  },
  {
   "cell_type": "code",
   "execution_count": null,
   "id": "902b92fd-1b96-4596-bc9a-b746e0f4ddb2",
   "metadata": {
    "scrolled": true,
    "tags": []
   },
   "outputs": [],
   "source": [
    "for j in range(config.CLIENTS_PER_ROUND + 1):\n",
    "    server.update_nn_parameters(old_params)\n",
    "    server.test()\n",
    "    recall, precision, accuracy = server.analize_test()\n",
    "    print(\"Original\", recall, precision, accuracy)\n",
    "    file_name = './results/ex3/MNIST/1_7/4_run_shap_values_{}_poisoned_clients_alpha_1_7.pdf'.format(j)\n",
    "    config.POISONED_CLIENTS = j\n",
    "    experiment_util.update_configs(client_plane, server, config, observer_config)\n",
    "    client_plane.poison_clients()\n",
    "    clean_clients = experiment_util.select_random_clean(client_plane, config, config.CLIENTS_PER_ROUND - j)\n",
    "    poisoned_clients = experiment_util.select_poisoned(client_plane, j)\n",
    "    clients = [*clean_clients, *poisoned_clients]\n",
    "    print(clients)\n",
    "    experiment_util.run_round_with(clients, old_params, client_plane, server, 200)\n",
    "    server.test()\n",
    "    server_shap = server.get_shap_values()\n",
    "    recall, precision, accuracy = server.analize_test()\n",
    "    accuracies.append(accuracy)\n",
    "    recalls.append(recall)\n",
    "    visualizer.plot_shap_values(server_shap,file_name)\n",
    "    print(recall, precision, accuracy)\n",
    "    print(\"Poisoned clients: {}\".format(j))"
   ]
  },
  {
   "cell_type": "code",
   "execution_count": null,
   "id": "742ecd9a-4249-4dbf-a115-54b2f320fbd2",
   "metadata": {},
   "outputs": [],
   "source": [
    "# Run 0\n",
    "print(accuracies)\n",
    "print(recalls)"
   ]
  },
  {
   "cell_type": "code",
   "execution_count": null,
   "id": "3477daf9-52b9-490d-b0a7-74b849a0f1b1",
   "metadata": {},
   "outputs": [],
   "source": [
    "# Run 1\n",
    "print(accuracies[6:])\n",
    "print(recalls[6:])"
   ]
  },
  {
   "cell_type": "code",
   "execution_count": null,
   "id": "c2735af4-a18d-4bd5-8ede-b54c1ba4f28f",
   "metadata": {},
   "outputs": [],
   "source": [
    "# Run 2\n",
    "print(accuracies)\n",
    "print(recalls)"
   ]
  },
  {
   "cell_type": "code",
   "execution_count": null,
   "id": "5447830e-a036-43a5-a63a-d8f3a4785fb4",
   "metadata": {},
   "outputs": [],
   "source": [
    "# Run 3\n",
    "print(accuracies[6:])\n",
    "print(recalls[6:])"
   ]
  },
  {
   "cell_type": "code",
   "execution_count": null,
   "id": "6cb27cec-5749-440a-a660-6ded56aad068",
   "metadata": {},
   "outputs": [],
   "source": [
    "# Run 4\n",
    "print(accuracies)\n",
    "print(recalls)"
   ]
  },
  {
   "cell_type": "markdown",
   "id": "80de1ca5-accc-426b-ba3d-4db2f72c388d",
   "metadata": {
    "jp-MarkdownHeadingCollapsed": true,
    "tags": []
   },
   "source": [
    "### alpha (3,8)"
   ]
  },
  {
   "cell_type": "code",
   "execution_count": null,
   "id": "3001db44-38e1-4185-81db-718ce2606f7a",
   "metadata": {},
   "outputs": [],
   "source": [
    "import copy\n",
    "import torch\n",
    "from federated_learning.nets import MNISTCNN\n",
    "config.FROM_LABEL = 3\n",
    "config.TO_LABEL = 8\n",
    "\n",
    "server.net =  MNISTCNN()\n",
    "server.net.load_state_dict(torch.load('temp/models/MNISTtrained2.model'))\n",
    "old_params = copy.deepcopy(server.get_nn_parameters())"
   ]
  },
  {
   "cell_type": "code",
   "execution_count": null,
   "id": "b6f60fe6-04eb-4f3d-8108-c10448e514d6",
   "metadata": {},
   "outputs": [],
   "source": [
    "accuracies = []\n",
    "recalls = []"
   ]
  },
  {
   "cell_type": "code",
   "execution_count": null,
   "id": "dd7aa466-5bc3-4c0d-a43d-67bd47310079",
   "metadata": {
    "scrolled": true,
    "tags": []
   },
   "outputs": [],
   "source": [
    "for j in range(config.CLIENTS_PER_ROUND + 1):\n",
    "    server.update_nn_parameters(old_params)\n",
    "    server.test()\n",
    "    recall, precision, accuracy = server.analize_test()\n",
    "    print(\"Original\", recall, precision, accuracy)\n",
    "    file_name = './results/ex3/MNIST/3_8/4_run_shap_values_{}_poisoned_clients_alpha_3_8.pdf'.format(j)\n",
    "    config.POISONED_CLIENTS = j\n",
    "    experiment_util.update_configs(client_plane, server, config, observer_config)\n",
    "    client_plane.poison_clients()\n",
    "    clean_clients = experiment_util.select_random_clean(client_plane, config, config.CLIENTS_PER_ROUND - j)\n",
    "    poisoned_clients = experiment_util.select_poisoned(client_plane, j)\n",
    "    clients = [*clean_clients, *poisoned_clients]\n",
    "    print(clients)\n",
    "    experiment_util.run_round_with(clients, old_params, client_plane, server, 200)\n",
    "    server.test()\n",
    "    server_shap = server.get_shap_values()\n",
    "    recall, precision, accuracy = server.analize_test()\n",
    "    accuracies.append(accuracy)\n",
    "    recalls.append(recall)\n",
    "    visualizer.plot_shap_values(server_shap,file_name)\n",
    "    print(recall, precision, accuracy)\n",
    "    print(\"Poisoned clients: {}\".format(j))"
   ]
  },
  {
   "cell_type": "code",
   "execution_count": null,
   "id": "567554ad-b82d-4fca-975a-c32c2b46c8f1",
   "metadata": {},
   "outputs": [],
   "source": [
    "# Run 0\n",
    "print(accuracies)\n",
    "print(recalls)"
   ]
  },
  {
   "cell_type": "code",
   "execution_count": null,
   "id": "9d5c5688-1d89-477c-9ca8-d6307bda0f95",
   "metadata": {},
   "outputs": [],
   "source": [
    "# Run 1\n",
    "print(accuracies)\n",
    "print(recalls)"
   ]
  },
  {
   "cell_type": "code",
   "execution_count": null,
   "id": "d0240c2c-e2b4-4d04-8162-977e2e32555d",
   "metadata": {},
   "outputs": [],
   "source": [
    "# Run 2\n",
    "print(accuracies)\n",
    "print(recalls)"
   ]
  },
  {
   "cell_type": "code",
   "execution_count": null,
   "id": "5213b7bb-a2b7-4abf-b7e2-b6c1875e376f",
   "metadata": {},
   "outputs": [],
   "source": [
    "# Run 3\n",
    "print(accuracies[6:])\n",
    "print(recalls[6:])"
   ]
  },
  {
   "cell_type": "code",
   "execution_count": null,
   "id": "c95c778c-df08-463a-963b-53cdf9edf951",
   "metadata": {},
   "outputs": [],
   "source": [
    "# Run 4\n",
    "print(accuracies)\n",
    "print(recalls)"
   ]
  },
  {
   "cell_type": "markdown",
   "id": "b7af53b1-4d1f-458d-aa3c-c119135fd323",
   "metadata": {
    "jp-MarkdownHeadingCollapsed": true,
    "tags": []
   },
   "source": [
    "### FashionMNIST\n",
    "For Fashion-MNIST we experiment with \n",
    "(1) 5: sandal → 4: coat,\n",
    "(2) 2: pullover → 3: shirt, and \n",
    "(3) 4: coat → 6: dress.\n",
    "['T-shirt/top', 'Trouser', 'Pullover', 'Dress', 'Coat', 'Sandal', 'Shirt', 'Sneaker',  'Bag', 'Ankle Boot']\n"
   ]
  }
 ],
 "metadata": {
  "kernelspec": {
   "display_name": "Python 3 (ipykernel)",
   "language": "python",
   "name": "python3"
  },
  "language_info": {
   "codemirror_mode": {
    "name": "ipython",
    "version": 3
   },
   "file_extension": ".py",
   "mimetype": "text/x-python",
   "name": "python",
   "nbconvert_exporter": "python",
   "pygments_lexer": "ipython3",
   "version": "3.9.12"
  }
 },
 "nbformat": 4,
 "nbformat_minor": 5
}
