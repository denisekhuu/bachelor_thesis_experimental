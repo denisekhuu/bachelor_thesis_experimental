{
  "cells": [
    {
      "cell_type": "markdown",
      "id": "298dfa70-a46d-4329-b1e5-b7944d8ade29",
      "metadata": {
        "tags": [],
        "id": "298dfa70-a46d-4329-b1e5-b7944d8ade29"
      },
      "source": [
        "# Feature Engineering with SHAP values Experiment 1"
      ]
    },
    {
      "cell_type": "markdown",
      "id": "cfadba9b-4644-4998-bdeb-39dee05965cc",
      "metadata": {
        "id": "cfadba9b-4644-4998-bdeb-39dee05965cc"
      },
      "source": [
        "SHAP Images of server with different number of poisoned clients\n",
        "* number of malicious clients [0,1,2,3,4,5]"
      ]
    },
    {
      "cell_type": "markdown",
      "id": "0fa09c19-b79a-4d04-91f1-d27bd6be9260",
      "metadata": {
        "id": "0fa09c19-b79a-4d04-91f1-d27bd6be9260"
      },
      "source": [
        "SHAP Images right after poisoning attack\n",
        "* rounds [1,2,10,75,200]"
      ]
    },
    {
      "cell_type": "markdown",
      "id": "2a2f5fea-12fa-4413-be81-1126656be438",
      "metadata": {
        "id": "2a2f5fea-12fa-4413-be81-1126656be438"
      },
      "source": [
        "Summation of Differences SHAP Images right after poisoning attack\n",
        "* rounds [1,2,10,75,200]\n",
        "* 5 times"
      ]
    },
    {
      "cell_type": "markdown",
      "id": "2ccac5ea-7b1d-47c8-8a4e-c3d18bfe5c81",
      "metadata": {
        "id": "2ccac5ea-7b1d-47c8-8a4e-c3d18bfe5c81"
      },
      "source": [
        "## Google Colab"
      ]
    },
    {
      "cell_type": "code",
      "execution_count": 1,
      "id": "0265651c-c72f-43f7-b5e9-a3ea624b981c",
      "metadata": {
        "colab": {
          "base_uri": "https://localhost:8080/"
        },
        "id": "0265651c-c72f-43f7-b5e9-a3ea624b981c",
        "outputId": "8dda17ef-d274-4cc9-81b5-5a13b9a3c1fc"
      },
      "outputs": [
        {
          "output_type": "stream",
          "name": "stdout",
          "text": [
            "Mounted at /content/drive\n"
          ]
        }
      ],
      "source": [
        "from google.colab import drive\n",
        "drive.flush_and_unmount()\n",
        "drive.mount('/content/drive', force_remount=True)"
      ]
    },
    {
      "cell_type": "code",
      "execution_count": 2,
      "id": "c746fc0b-bb90-4b51-ac7d-fc778b8a9438",
      "metadata": {
        "id": "c746fc0b-bb90-4b51-ac7d-fc778b8a9438"
      },
      "outputs": [],
      "source": [
        "import sys\n",
        "sys.path.append('/content/drive/My Drive/Colab Notebooks')\n",
        "sys.path.append('/content/drive/My Drive/Colab Notebooks/federated_learning')"
      ]
    },
    {
      "cell_type": "code",
      "execution_count": 3,
      "id": "32d30812-8784-458b-9f75-c3b9dccff418",
      "metadata": {
        "colab": {
          "base_uri": "https://localhost:8080/"
        },
        "id": "32d30812-8784-458b-9f75-c3b9dccff418",
        "outputId": "54dbdcdc-91f4-43d3-bd8d-df678b279c14"
      },
      "outputs": [
        {
          "output_type": "stream",
          "name": "stdout",
          "text": [
            "Looking in indexes: https://pypi.org/simple, https://us-python.pkg.dev/colab-wheels/public/simple/\n",
            "Requirement already satisfied: shap==0.40.0 in /usr/local/lib/python3.7/dist-packages (0.40.0)\n",
            "Requirement already satisfied: numpy in /usr/local/lib/python3.7/dist-packages (from shap==0.40.0) (1.21.6)\n",
            "Requirement already satisfied: pandas in /usr/local/lib/python3.7/dist-packages (from shap==0.40.0) (1.3.5)\n",
            "Requirement already satisfied: tqdm>4.25.0 in /usr/local/lib/python3.7/dist-packages (from shap==0.40.0) (4.64.0)\n",
            "Requirement already satisfied: scikit-learn in /usr/local/lib/python3.7/dist-packages (from shap==0.40.0) (1.0.2)\n",
            "Requirement already satisfied: scipy in /usr/local/lib/python3.7/dist-packages (from shap==0.40.0) (1.4.1)\n",
            "Requirement already satisfied: numba in /usr/local/lib/python3.7/dist-packages (from shap==0.40.0) (0.51.2)\n",
            "Requirement already satisfied: cloudpickle in /usr/local/lib/python3.7/dist-packages (from shap==0.40.0) (1.3.0)\n",
            "Requirement already satisfied: slicer==0.0.7 in /usr/local/lib/python3.7/dist-packages (from shap==0.40.0) (0.0.7)\n",
            "Requirement already satisfied: packaging>20.9 in /usr/local/lib/python3.7/dist-packages (from shap==0.40.0) (21.3)\n",
            "Requirement already satisfied: pyparsing!=3.0.5,>=2.0.2 in /usr/local/lib/python3.7/dist-packages (from packaging>20.9->shap==0.40.0) (3.0.9)\n",
            "Requirement already satisfied: setuptools in /usr/local/lib/python3.7/dist-packages (from numba->shap==0.40.0) (57.4.0)\n",
            "Requirement already satisfied: llvmlite<0.35,>=0.34.0.dev0 in /usr/local/lib/python3.7/dist-packages (from numba->shap==0.40.0) (0.34.0)\n",
            "Requirement already satisfied: python-dateutil>=2.7.3 in /usr/local/lib/python3.7/dist-packages (from pandas->shap==0.40.0) (2.8.2)\n",
            "Requirement already satisfied: pytz>=2017.3 in /usr/local/lib/python3.7/dist-packages (from pandas->shap==0.40.0) (2022.1)\n",
            "Requirement already satisfied: six>=1.5 in /usr/local/lib/python3.7/dist-packages (from python-dateutil>=2.7.3->pandas->shap==0.40.0) (1.15.0)\n",
            "Requirement already satisfied: joblib>=0.11 in /usr/local/lib/python3.7/dist-packages (from scikit-learn->shap==0.40.0) (1.1.0)\n",
            "Requirement already satisfied: threadpoolctl>=2.0.0 in /usr/local/lib/python3.7/dist-packages (from scikit-learn->shap==0.40.0) (3.1.0)\n"
          ]
        }
      ],
      "source": [
        "!pip install shap==0.40.0"
      ]
    },
    {
      "cell_type": "markdown",
      "id": "b3550e57-ade5-4232-86c0-4030585df070",
      "metadata": {
        "tags": [],
        "id": "b3550e57-ade5-4232-86c0-4030585df070"
      },
      "source": [
        "## Experiments"
      ]
    },
    {
      "cell_type": "code",
      "execution_count": 4,
      "id": "652af317-4a22-4efc-adda-a19cb17141dd",
      "metadata": {
        "id": "652af317-4a22-4efc-adda-a19cb17141dd"
      },
      "outputs": [],
      "source": [
        "from federated_learning.utils import SHAPUtil, experiment_util, Visualizer\n",
        "from federated_learning import ClientPlane, Configuration, ObserverConfiguration\n",
        "from federated_learning.server import Server\n",
        "from datetime import datetime"
      ]
    },
    {
      "cell_type": "markdown",
      "id": "04d5a68f-c527-4aef-86b3-0f8ef24ec205",
      "metadata": {
        "tags": [],
        "id": "04d5a68f-c527-4aef-86b3-0f8ef24ec205"
      },
      "source": [
        "## MNIST\n",
        "(1) 5 → 4,\n",
        "(2) 1 → 7,\n",
        "(3) 3 → 8,"
      ]
    },
    {
      "cell_type": "code",
      "execution_count": 5,
      "id": "263060ac-7edc-4e96-8a27-5cea91b7618d",
      "metadata": {
        "id": "263060ac-7edc-4e96-8a27-5cea91b7618d"
      },
      "outputs": [],
      "source": [
        "from federated_learning.nets import MNISTCNN\n",
        "from federated_learning.dataset import MNISTDataset\n",
        "import os\n",
        "config = Configuration()\n",
        "config.POISONED_CLIENTS = 0\n",
        "config.DATA_POISONING_PERCENTAGE = 1\n",
        "config.DATASET = MNISTDataset\n",
        "config.MODELNAME = config.MNIST_NAME\n",
        "config.NETWORK = MNISTCNN\n",
        "observer_config = ObserverConfiguration()\n",
        "observer_config.experiment_type = \"shap_fl_poisoned\"\n",
        "observer_config.experiment_id = 1\n",
        "observer_config.test = False\n",
        "observer_config.datasetObserverConfiguration = \"MNIST\"\n",
        "neutral_label = 2"
      ]
    },
    {
      "cell_type": "code",
      "execution_count": 6,
      "id": "00c85810-ebed-4b4e-a093-5fd61d41f194",
      "metadata": {
        "id": "00c85810-ebed-4b4e-a093-5fd61d41f194"
      },
      "outputs": [],
      "source": [
        "# Google Colab Settigns\n",
        "config.TEMP = os.path.join('/content/drive/My Drive/Colab Notebooks/temp')\n",
        "config.FMNIST_DATASET_PATH = os.path.join('/content/data/fmnist')\n",
        "config.MNIST_DATASET_PATH = os.path.join('/content/data/mnist')\n",
        "config.CIFAR10_DATASET_PATH = os.path.join('/content/data/cifar10')\n",
        "config.VM_URL = \"none\""
      ]
    },
    {
      "cell_type": "code",
      "execution_count": 11,
      "id": "4f8e9163-199f-4570-9e62-06c76a1099c6",
      "metadata": {
        "colab": {
          "base_uri": "https://localhost:8080/"
        },
        "id": "4f8e9163-199f-4570-9e62-06c76a1099c6",
        "outputId": "158fe6e4-81c5-4a2a-9cb7-95acde4245b1"
      },
      "outputs": [
        {
          "output_type": "stream",
          "name": "stdout",
          "text": [
            "MNIST training data loaded.\n",
            "MNIST test data loaded.\n",
            "Create 200 clients with dataset of size 300\n"
          ]
        }
      ],
      "source": [
        "data = config.DATASET(config)\n",
        "shap_util = SHAPUtil(data.test_dataloader) \n",
        "server = Server(config, observer_config,data.train_dataloader, data.test_dataloader, shap_util)\n",
        "client_plane = ClientPlane(config, observer_config, data, shap_util)\n",
        "visualizer = Visualizer(shap_util)"
      ]
    },
    {
      "cell_type": "code",
      "execution_count": null,
      "id": "fed17f23-8466-4113-9aac-1f1f2d467afa",
      "metadata": {
        "scrolled": true,
        "tags": [],
        "id": "fed17f23-8466-4113-9aac-1f1f2d467afa"
      },
      "outputs": [],
      "source": [
        "import numpy as np\n",
        "import copy\n",
        "for i in range(199):\n",
        "    experiment_util.set_rounds(client_plane, server, i+1)\n",
        "    experiment_util.run_round(client_plane, server, i+1)\n",
        "print(\"Run 199 finished\")\n",
        "old_params = copy.deepcopy(server.get_nn_parameters())"
      ]
    },
    {
      "cell_type": "code",
      "execution_count": null,
      "id": "dfa35924-ee48-42ce-95aa-ee77a851bad1",
      "metadata": {
        "id": "dfa35924-ee48-42ce-95aa-ee77a851bad1"
      },
      "outputs": [],
      "source": [
        "\n",
        "#import torch\n",
        "#torch.save(server.net.state_dict(), \"/content/drive/My Drive/Colab Notebooks/temp/models/MNISTtrained2.model\")"
      ]
    },
    {
      "cell_type": "markdown",
      "id": "18e51796-b060-459a-a750-f2fc8c673fc8",
      "metadata": {
        "tags": [],
        "id": "18e51796-b060-459a-a750-f2fc8c673fc8"
      },
      "source": [
        "### alpha (5,4)"
      ]
    },
    {
      "cell_type": "code",
      "execution_count": null,
      "id": "e88c1f0e-8a6c-4c66-81b8-53b4988c8063",
      "metadata": {
        "id": "e88c1f0e-8a6c-4c66-81b8-53b4988c8063"
      },
      "outputs": [],
      "source": [
        "config.FROM_LABEL = 5\n",
        "config.TO_LABEL = 4\n",
        "\n",
        "accuracies = []\n",
        "recalls = []\n",
        "\n",
        "server.net =  MNISTCNN()\n",
        "server.net.load_state_dict(torch.load('/content/drive/My Drive/Colab Notebooks/temp/models/MNISTtrained2.model'))\n",
        "old_params = copy.deepcopy(server.get_nn_parameters())"
      ]
    },
    {
      "cell_type": "code",
      "execution_count": null,
      "id": "f95d8664-1a63-45c1-a86f-d7c71e684370",
      "metadata": {
        "scrolled": true,
        "tags": [],
        "id": "f95d8664-1a63-45c1-a86f-d7c71e684370"
      },
      "outputs": [],
      "source": [
        "for j in range(config.CLIENTS_PER_ROUND + 1):\n",
        "    client_plane.reset_default_client_nets()\n",
        "    client_plane.reset_poisoning_attack()\n",
        "    server.update_nn_parameters(old_params)\n",
        "    server.test()\n",
        "    recall, precision, accuracy = server.analize_test()\n",
        "    print(\"Original\", recall, precision, accuracy)\n",
        "    file_name = './results/ex3/MNIST/5_4/_run_shap_values_{}_poisoned_clients_alpha_5_4.pdf'.format(j)\n",
        "    config.POISONED_CLIENTS = j\n",
        "    experiment_util.update_configs(client_plane, server, config, observer_config)\n",
        "    client_plane.poison_clients()\n",
        "    clean_clients = experiment_util.select_random_clean(client_plane, config, config.CLIENTS_PER_ROUND - j)\n",
        "    poisoned_clients = experiment_util.select_poisoned(client_plane, j)\n",
        "    clients = [*clean_clients, *poisoned_clients]\n",
        "    print(clients)\n",
        "    experiment_util.run_round_with(clients, old_params, client_plane, server, 200)\n",
        "    server.test()\n",
        "    server_shap = server.get_shap_values()\n",
        "    recall, precision, accuracy = server.analize_test()\n",
        "    accuracies.append(accuracy)\n",
        "    recalls.append(recall)\n",
        "    visualizer.plot_shap_values(server_shap,file_name)\n",
        "    print(recall, precision, accuracy)\n",
        "    print(\"Poisoned clients: {}\".format(j))"
      ]
    },
    {
      "cell_type": "code",
      "execution_count": null,
      "id": "9c951659-99b5-4bf1-a915-ddf91539e15d",
      "metadata": {
        "id": "9c951659-99b5-4bf1-a915-ddf91539e15d"
      },
      "outputs": [],
      "source": [
        "# Run 0\n",
        "print(accuracies)\n",
        "print(recalls)"
      ]
    },
    {
      "cell_type": "markdown",
      "id": "195fed49-30dc-4953-b63f-f5627d9bfafe",
      "metadata": {
        "jp-MarkdownHeadingCollapsed": true,
        "tags": [],
        "id": "195fed49-30dc-4953-b63f-f5627d9bfafe"
      },
      "source": [
        "### alpha (1,7)"
      ]
    },
    {
      "cell_type": "code",
      "execution_count": null,
      "id": "c0e9c720-bc7a-425a-82ad-9bc3d44455f9",
      "metadata": {
        "id": "c0e9c720-bc7a-425a-82ad-9bc3d44455f9"
      },
      "outputs": [],
      "source": [
        "import copy\n",
        "import torch\n",
        "from federated_learning.nets import MNISTCNN\n",
        "config.FROM_LABEL = 1\n",
        "config.TO_LABEL = 7\n",
        "\n",
        "server.net =  MNISTCNN()\n",
        "server.net.load_state_dict(torch.load('temp/models/MNISTtrained2.model'))\n",
        "old_params = copy.deepcopy(server.get_nn_parameters())"
      ]
    },
    {
      "cell_type": "code",
      "execution_count": null,
      "id": "6c6b3328-8cc6-4f3d-ae03-c823f5a7a635",
      "metadata": {
        "id": "6c6b3328-8cc6-4f3d-ae03-c823f5a7a635"
      },
      "outputs": [],
      "source": [
        "accuracies = []\n",
        "recalls = []"
      ]
    },
    {
      "cell_type": "code",
      "execution_count": null,
      "id": "902b92fd-1b96-4596-bc9a-b746e0f4ddb2",
      "metadata": {
        "scrolled": true,
        "tags": [],
        "id": "902b92fd-1b96-4596-bc9a-b746e0f4ddb2"
      },
      "outputs": [],
      "source": [
        "for j in range(config.CLIENTS_PER_ROUND + 1):\n",
        "    client_plane.reset_default_client_nets()\n",
        "    client_plane.reset_poisoning_attack()\n",
        "    server.update_nn_parameters(old_params)\n",
        "    server.test()\n",
        "    recall, precision, accuracy = server.analize_test()\n",
        "    print(\"Original\", recall, precision, accuracy)\n",
        "    file_name = './results/ex3/MNIST/1_7/4_run_shap_values_{}_poisoned_clients_alpha_1_7.pdf'.format(j)\n",
        "    config.POISONED_CLIENTS = j\n",
        "    experiment_util.update_configs(client_plane, server, config, observer_config)\n",
        "    client_plane.poison_clients()\n",
        "    clean_clients = experiment_util.select_random_clean(client_plane, config, config.CLIENTS_PER_ROUND - j)\n",
        "    poisoned_clients = experiment_util.select_poisoned(client_plane, j)\n",
        "    clients = [*clean_clients, *poisoned_clients]\n",
        "    print(clients)\n",
        "    experiment_util.run_round_with(clients, old_params, client_plane, server, 200)\n",
        "    server.test()\n",
        "    server_shap = server.get_shap_values()\n",
        "    recall, precision, accuracy = server.analize_test()\n",
        "    accuracies.append(accuracy)\n",
        "    recalls.append(recall)\n",
        "    visualizer.plot_shap_values(server_shap,file_name)\n",
        "    print(recall, precision, accuracy)\n",
        "    print(\"Poisoned clients: {}\".format(j))"
      ]
    },
    {
      "cell_type": "code",
      "execution_count": null,
      "id": "742ecd9a-4249-4dbf-a115-54b2f320fbd2",
      "metadata": {
        "id": "742ecd9a-4249-4dbf-a115-54b2f320fbd2"
      },
      "outputs": [],
      "source": [
        "# Run 0\n",
        "print(accuracies)\n",
        "print(recalls)"
      ]
    },
    {
      "cell_type": "markdown",
      "id": "80de1ca5-accc-426b-ba3d-4db2f72c388d",
      "metadata": {
        "jp-MarkdownHeadingCollapsed": true,
        "tags": [],
        "id": "80de1ca5-accc-426b-ba3d-4db2f72c388d"
      },
      "source": [
        "### alpha (3,8)"
      ]
    },
    {
      "cell_type": "code",
      "execution_count": null,
      "id": "3001db44-38e1-4185-81db-718ce2606f7a",
      "metadata": {
        "id": "3001db44-38e1-4185-81db-718ce2606f7a"
      },
      "outputs": [],
      "source": [
        "import copy\n",
        "import torch\n",
        "from federated_learning.nets import MNISTCNN\n",
        "config.FROM_LABEL = 3\n",
        "config.TO_LABEL = 8\n",
        "\n",
        "server.net =  MNISTCNN()\n",
        "server.net.load_state_dict(torch.load('temp/models/MNISTtrained2.model'))\n",
        "old_params = copy.deepcopy(server.get_nn_parameters())"
      ]
    },
    {
      "cell_type": "code",
      "execution_count": null,
      "id": "b6f60fe6-04eb-4f3d-8108-c10448e514d6",
      "metadata": {
        "id": "b6f60fe6-04eb-4f3d-8108-c10448e514d6"
      },
      "outputs": [],
      "source": [
        "accuracies = []\n",
        "recalls = []"
      ]
    },
    {
      "cell_type": "code",
      "execution_count": null,
      "id": "dd7aa466-5bc3-4c0d-a43d-67bd47310079",
      "metadata": {
        "scrolled": true,
        "tags": [],
        "id": "dd7aa466-5bc3-4c0d-a43d-67bd47310079"
      },
      "outputs": [],
      "source": [
        "for j in range(config.CLIENTS_PER_ROUND + 1):\n",
        "    client_plane.reset_default_client_nets()\n",
        "    client_plane.reset_poisoning_attack()\n",
        "    server.update_nn_parameters(old_params)\n",
        "    server.test()\n",
        "    recall, precision, accuracy = server.analize_test()\n",
        "    print(\"Original\", recall, precision, accuracy)\n",
        "    file_name = './results/ex3/MNIST/3_8/4_run_shap_values_{}_poisoned_clients_alpha_3_8.pdf'.format(j)\n",
        "    config.POISONED_CLIENTS = j\n",
        "    experiment_util.update_configs(client_plane, server, config, observer_config)\n",
        "    client_plane.poison_clients()\n",
        "    clean_clients = experiment_util.select_random_clean(client_plane, config, config.CLIENTS_PER_ROUND - j)\n",
        "    poisoned_clients = experiment_util.select_poisoned(client_plane, j)\n",
        "    clients = [*clean_clients, *poisoned_clients]\n",
        "    print(clients)\n",
        "    experiment_util.run_round_with(clients, old_params, client_plane, server, 200)\n",
        "    server.test()\n",
        "    server_shap = server.get_shap_values()\n",
        "    recall, precision, accuracy = server.analize_test()\n",
        "    accuracies.append(accuracy)\n",
        "    recalls.append(recall)\n",
        "    visualizer.plot_shap_values(server_shap,file_name)\n",
        "    print(recall, precision, accuracy)\n",
        "    print(\"Poisoned clients: {}\".format(j))"
      ]
    },
    {
      "cell_type": "code",
      "execution_count": null,
      "id": "567554ad-b82d-4fca-975a-c32c2b46c8f1",
      "metadata": {
        "id": "567554ad-b82d-4fca-975a-c32c2b46c8f1"
      },
      "outputs": [],
      "source": [
        "# Run 0\n",
        "print(accuracies)\n",
        "print(recalls)"
      ]
    },
    {
      "cell_type": "markdown",
      "id": "b7af53b1-4d1f-458d-aa3c-c119135fd323",
      "metadata": {
        "tags": [],
        "id": "b7af53b1-4d1f-458d-aa3c-c119135fd323"
      },
      "source": [
        "## FashionMNIST\n",
        "For Fashion-MNIST we experiment with \n",
        "(1) 5: sandal → 4: coat,\n",
        "(2) 1: trouser → 3: dress, and \n",
        "(3) 8: Bag → 9: Ankle Boot.\n",
        "['T-shirt/top', 'Trouser', 'Pullover', 'Dress', 'Coat', 'Sandal', 'Shirt', 'Sneaker',  'Bag', 'Ankle Boot']\n"
      ]
    },
    {
      "cell_type": "code",
      "execution_count": 5,
      "id": "e5fc8f48-d7cc-4a72-a41d-407fe9945f01",
      "metadata": {
        "id": "e5fc8f48-d7cc-4a72-a41d-407fe9945f01"
      },
      "outputs": [],
      "source": [
        "from federated_learning.nets import FMNISTCNN\n",
        "from federated_learning.dataset import FMNISTDataset\n",
        "import os\n",
        "config = Configuration()\n",
        "config.POISONED_CLIENTS = 0\n",
        "config.DATA_POISONING_PERCENTAGE = 1\n",
        "config.DATASET = FMNISTDataset\n",
        "config.MODELNAME = config.FMNIST_NAME\n",
        "config.NETWORK = FMNISTCNN\n",
        "observer_config = ObserverConfiguration()\n",
        "observer_config.experiment_type = \"shap_fl_poisoned\"\n",
        "observer_config.experiment_id = 1\n",
        "observer_config.test = False\n",
        "observer_config.datasetObserverConfiguration = \"MNIST\"\n",
        "neutral_label = 2"
      ]
    },
    {
      "cell_type": "code",
      "execution_count": 6,
      "id": "62280406-ac53-4bdb-8552-25cf625637e7",
      "metadata": {
        "id": "62280406-ac53-4bdb-8552-25cf625637e7"
      },
      "outputs": [],
      "source": [
        "# Google Colab Settigns\n",
        "config.TEMP = os.path.join('/content/drive/My Drive/Colab Notebooks/temp')\n",
        "config.FMNIST_DATASET_PATH = os.path.join('/content/data/fmnist')\n",
        "config.MNIST_DATASET_PATH = os.path.join('/content/data/mnist')\n",
        "config.CIFAR10_DATASET_PATH = os.path.join('/content/data/cifar10')\n",
        "config.VM_URL = \"none\""
      ]
    },
    {
      "cell_type": "code",
      "execution_count": 7,
      "id": "5a07d207-0c52-4996-a50d-7955e9b4cb14",
      "metadata": {
        "colab": {
          "base_uri": "https://localhost:8080/"
        },
        "id": "5a07d207-0c52-4996-a50d-7955e9b4cb14",
        "outputId": "fa5126db-3bc6-4969-c14b-fcd7aa370d6f"
      },
      "outputs": [
        {
          "output_type": "stream",
          "name": "stdout",
          "text": [
            "FashionMnist training data loaded.\n",
            "FashionMnist training data loaded.\n",
            "Create 200 clients with dataset of size 300\n"
          ]
        }
      ],
      "source": [
        "data = config.DATASET(config)\n",
        "shap_util = SHAPUtil(data.test_dataloader) \n",
        "server = Server(config, observer_config,data.train_dataloader, data.test_dataloader, shap_util)\n",
        "client_plane = ClientPlane(config, observer_config, data, shap_util)\n",
        "visualizer = Visualizer(shap_util)"
      ]
    },
    {
      "cell_type": "code",
      "execution_count": null,
      "id": "ad911429-cded-423d-9841-e367cde55b02",
      "metadata": {
        "id": "ad911429-cded-423d-9841-e367cde55b02"
      },
      "outputs": [],
      "source": [
        "import numpy as np\n",
        "import copy\n",
        "for i in range(199):\n",
        "    experiment_util.set_rounds(client_plane, server, i+1)\n",
        "    experiment_util.run_round(client_plane, server, i+1)\n",
        "print(\"Run 199 finished\")\n",
        "old_params = copy.deepcopy(server.get_nn_parameters())"
      ]
    },
    {
      "cell_type": "code",
      "execution_count": null,
      "id": "1a102031-3f72-4c0a-8235-e181df397be1",
      "metadata": {
        "id": "1a102031-3f72-4c0a-8235-e181df397be1"
      },
      "outputs": [],
      "source": [
        "import torch\n",
        "torch.save(server.net.state_dict(), \"/content/drive/My Drive/Colab Notebooks/temp/models/FMNISTtrained.model\")"
      ]
    },
    {
      "cell_type": "markdown",
      "id": "8e79c752-2627-438b-bf30-09231f37200f",
      "metadata": {
        "id": "8e79c752-2627-438b-bf30-09231f37200f"
      },
      "source": [
        "### alpha (5,4)"
      ]
    },
    {
      "cell_type": "code",
      "execution_count": 8,
      "id": "1f6442e6-d766-48e9-81fd-2e73df4479ef",
      "metadata": {
        "id": "1f6442e6-d766-48e9-81fd-2e73df4479ef"
      },
      "outputs": [],
      "source": [
        "from federated_learning.nets import FMNISTCNN\n",
        "import torch\n",
        "import copy\n",
        "config.FROM_LABEL = 5\n",
        "config.TO_LABEL = 4\n",
        "\n",
        "server.net =  FMNISTCNN()\n",
        "server.net.load_state_dict(torch.load('/content/drive/My Drive/Colab Notebooks/temp/models/FMNISTtrained.model'))\n",
        "old_params = copy.deepcopy(server.get_nn_parameters())"
      ]
    },
    {
      "cell_type": "code",
      "source": [
        "accuracies = []\n",
        "recalls = []"
      ],
      "metadata": {
        "id": "8Mn5gS3FHndG"
      },
      "id": "8Mn5gS3FHndG",
      "execution_count": 27,
      "outputs": []
    },
    {
      "cell_type": "code",
      "execution_count": null,
      "id": "c965950d-2974-4156-8ba2-fb8d5fd635f6",
      "metadata": {
        "id": "c965950d-2974-4156-8ba2-fb8d5fd635f6"
      },
      "outputs": [],
      "source": [
        "for j in range(config.CLIENTS_PER_ROUND + 1):\n",
        "    client_plane.reset_default_client_nets()\n",
        "    client_plane.reset_poisoning_attack()\n",
        "    server.update_nn_parameters(old_params)\n",
        "    server.test()\n",
        "    recall, precision, accuracy = server.analize_test()\n",
        "    print(\"Original\", recall, precision, accuracy)\n",
        "    file_name = '/content/drive/My Drive/Colab Notebooks/results/ex3/FMNIST/5_4/3_run_shap_values_{}_poisoned_clients_alpha_5_4.pdf'.format(j)\n",
        "    config.POISONED_CLIENTS = j\n",
        "    experiment_util.update_configs(client_plane, server, config, observer_config)\n",
        "    client_plane.poison_clients()\n",
        "    clean_clients = experiment_util.select_random_clean(client_plane, config, config.CLIENTS_PER_ROUND - j)\n",
        "    poisoned_clients = experiment_util.select_poisoned(client_plane, j)\n",
        "    clients = [*clean_clients, *poisoned_clients]\n",
        "    print(clients)\n",
        "    experiment_util.run_round_with(clients, old_params, client_plane, server, 200)\n",
        "    server.test()\n",
        "    server_shap = server.get_shap_values()\n",
        "    recall, precision, accuracy = server.analize_test()\n",
        "    accuracies.append(accuracy)\n",
        "    recalls.append(recall)\n",
        "    visualizer.plot_shap_values(server_shap,file_name)\n",
        "    print(recall, precision, accuracy)\n",
        "    print(\"Poisoned clients: {}\".format(j))"
      ]
    },
    {
      "cell_type": "code",
      "source": [
        "\n",
        "print(accuracies)\n",
        "print(recalls)"
      ],
      "metadata": {
        "id": "LeiZ0vabCKHe"
      },
      "id": "LeiZ0vabCKHe",
      "execution_count": null,
      "outputs": []
    },
    {
      "cell_type": "markdown",
      "source": [
        "## alpha(1,3)"
      ],
      "metadata": {
        "id": "sNI22TZYbqT7"
      },
      "id": "sNI22TZYbqT7"
    },
    {
      "cell_type": "code",
      "source": [
        "from federated_learning.nets import FMNISTCNN\n",
        "import torch\n",
        "import copy\n",
        "config.FROM_LABEL = 1\n",
        "config.TO_LABEL = 3\n",
        "\n",
        "server.net =  FMNISTCNN()\n",
        "server.net.load_state_dict(torch.load('/content/drive/My Drive/Colab Notebooks/temp/models/FMNISTtrained.model'))\n",
        "old_params = copy.deepcopy(server.get_nn_parameters())"
      ],
      "metadata": {
        "id": "M-vCK_q5bpXc"
      },
      "id": "M-vCK_q5bpXc",
      "execution_count": 47,
      "outputs": []
    },
    {
      "cell_type": "code",
      "source": [
        "accuracies = []\n",
        "recalls = []"
      ],
      "metadata": {
        "id": "8G55CB7McHXj"
      },
      "id": "8G55CB7McHXj",
      "execution_count": 48,
      "outputs": []
    },
    {
      "cell_type": "code",
      "source": [
        "for j in range(config.CLIENTS_PER_ROUND + 1):\n",
        "    client_plane.reset_default_client_nets()\n",
        "    client_plane.reset_poisoning_attack()\n",
        "    server.update_nn_parameters(old_params)\n",
        "    server.test()\n",
        "    recall, precision, accuracy = server.analize_test()\n",
        "    print(\"Original\", recall, precision, accuracy)\n",
        "    file_name = '/content/drive/My Drive/Colab Notebooks/results/ex3/FMNIST/1_3/3_run_shap_values_{}_poisoned_clients_alpha_1_3.pdf'.format(j)\n",
        "    config.POISONED_CLIENTS = j\n",
        "    experiment_util.update_configs(client_plane, server, config, observer_config)\n",
        "    client_plane.poison_clients()\n",
        "    clean_clients = experiment_util.select_random_clean(client_plane, config, config.CLIENTS_PER_ROUND - j)\n",
        "    poisoned_clients = experiment_util.select_poisoned(client_plane, j)\n",
        "    clients = [*clean_clients, *poisoned_clients]\n",
        "    print(clients)\n",
        "    experiment_util.run_round_with(clients, old_params, client_plane, server, 200)\n",
        "    server.test()\n",
        "    server_shap = server.get_shap_values()\n",
        "    recall, precision, accuracy = server.analize_test()\n",
        "    accuracies.append(accuracy)\n",
        "    recalls.append(recall)\n",
        "    visualizer.plot_shap_values(server_shap,file_name)\n",
        "    print(recall, precision, accuracy)\n",
        "    print(\"Poisoned clients: {}\".format(j))"
      ],
      "metadata": {
        "id": "cd35FGdWcJ8X"
      },
      "id": "cd35FGdWcJ8X",
      "execution_count": null,
      "outputs": []
    },
    {
      "cell_type": "code",
      "source": [
        "print(accuracies)\n",
        "print(recalls)"
      ],
      "metadata": {
        "id": "PfcnvlZpds50"
      },
      "id": "PfcnvlZpds50",
      "execution_count": null,
      "outputs": []
    },
    {
      "cell_type": "markdown",
      "source": [
        "alpha(8,9)"
      ],
      "metadata": {
        "id": "9g8U-X0H6Xqh"
      },
      "id": "9g8U-X0H6Xqh"
    },
    {
      "cell_type": "code",
      "source": [
        "from federated_learning.nets import FMNISTCNN\n",
        "import torch\n",
        "import copy\n",
        "config.FROM_LABEL = 8\n",
        "config.TO_LABEL = 9\n",
        "\n",
        "server.net =  FMNISTCNN()\n",
        "server.net.load_state_dict(torch.load('/content/drive/My Drive/Colab Notebooks/temp/models/FMNISTtrained.model'))\n",
        "old_params = copy.deepcopy(server.get_nn_parameters())"
      ],
      "metadata": {
        "id": "Jik-XtJU6xcK"
      },
      "id": "Jik-XtJU6xcK",
      "execution_count": 55,
      "outputs": []
    },
    {
      "cell_type": "code",
      "source": [
        "accuracies = []\n",
        "recalls = []"
      ],
      "metadata": {
        "id": "b4PFzaop694G"
      },
      "id": "b4PFzaop694G",
      "execution_count": 68,
      "outputs": []
    },
    {
      "cell_type": "code",
      "source": [
        "for j in range(config.CLIENTS_PER_ROUND + 1):\n",
        "    client_plane.reset_default_client_nets()\n",
        "    client_plane.reset_poisoning_attack()\n",
        "    server.update_nn_parameters(old_params)\n",
        "    server.test()\n",
        "    recall, precision, accuracy = server.analize_test()\n",
        "    print(\"Original\", recall, precision, accuracy)\n",
        "    file_name = '/content/drive/My Drive/Colab Notebooks/results/ex3/FMNIST/8_9/4_run_shap_values_{}_poisoned_clients_alpha_8_9.pdf'.format(j)\n",
        "    config.POISONED_CLIENTS = j\n",
        "    experiment_util.update_configs(client_plane, server, config, observer_config)\n",
        "    client_plane.poison_clients()\n",
        "    clean_clients = experiment_util.select_random_clean(client_plane, config, config.CLIENTS_PER_ROUND - j)\n",
        "    poisoned_clients = experiment_util.select_poisoned(client_plane, j)\n",
        "    clients = [*clean_clients, *poisoned_clients]\n",
        "    print(clients)\n",
        "    experiment_util.run_round_with(clients, old_params, client_plane, server, 200)\n",
        "    server.test()\n",
        "    server_shap = server.get_shap_values()\n",
        "    recall, precision, accuracy = server.analize_test()\n",
        "    accuracies.append(accuracy)\n",
        "    recalls.append(recall)\n",
        "    visualizer.plot_shap_values(server_shap,file_name)\n",
        "    print(recall, precision, accuracy)\n",
        "    print(\"Poisoned clients: {}\".format(j))"
      ],
      "metadata": {
        "id": "ljP_Dmdz7A6k"
      },
      "id": "ljP_Dmdz7A6k",
      "execution_count": null,
      "outputs": []
    },
    {
      "cell_type": "code",
      "source": [
        "print(accuracies)\n",
        "print(recalls)"
      ],
      "metadata": {
        "id": "ADUV7FxI7JyE"
      },
      "id": "ADUV7FxI7JyE",
      "execution_count": null,
      "outputs": []
    }
  ],
  "metadata": {
    "kernelspec": {
      "display_name": "Python 3 (ipykernel)",
      "language": "python",
      "name": "python3"
    },
    "language_info": {
      "codemirror_mode": {
        "name": "ipython",
        "version": 3
      },
      "file_extension": ".py",
      "mimetype": "text/x-python",
      "name": "python",
      "nbconvert_exporter": "python",
      "pygments_lexer": "ipython3",
      "version": "3.9.12"
    },
    "colab": {
      "name": "shap_values_in_fl_ex_1.ipynb",
      "provenance": []
    }
  },
  "nbformat": 4,
  "nbformat_minor": 5
}