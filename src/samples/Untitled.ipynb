{
 "cells": [
  {
   "cell_type": "code",
   "execution_count": 2,
   "id": "60d05001-b09a-4466-a625-9b84a8498a0f",
   "metadata": {},
   "outputs": [
    {
     "name": "stdout",
     "output_type": "stream",
     "text": [
      "victoria_metrics:8428\n",
      "200 OK {\"status\":\"success\",\"data\":{\"resultType\":\"matrix\",\"result\":[{\"metric\":{\"__name__\":\"npn_downloads\",\"artifactid\":\"testid\",\"organization\":\"testorganization\"},\"values\":[[1653342036,\"1234\"],[1653343239,\"1234\"]]}]}}\n"
     ]
    }
   ],
   "source": [
    "from urllib.request import Request, urlopen\n",
    "from urllib.error import HTTPError\n",
    "import os\n",
    "\n",
    "db_url = os.getenv('VM_URL')\n",
    "print(db_url)\n",
    "#target_url = \"http://\"+ db_url + \"/write?precision=s\"\n",
    "#target_url = \"http://\"+ db_url\n",
    "target_url = \"http://\"+ db_url +\"/api/v1/query?query=npn_downloads{}[2y]\"\n",
    "data_str = \"npm,organization=testorganization,artifactid=testid downloads=1234\"\n",
    "#request = Request(target_url, data=data_str.encode('ascii', 'ignore'))\n",
    "request = Request(target_url)\n",
    "response = urlopen(request)\n",
    "print(response.status, response.msg, response.read().decode(\"utf-8\"))\n"
   ]
  },
  {
   "cell_type": "code",
   "execution_count": 1,
   "id": "87258560-de05-4840-986e-a8045cf1b728",
   "metadata": {},
   "outputs": [
    {
     "name": "stdout",
     "output_type": "stream",
     "text": [
      "victoria_metrics:8428\n",
      "b'npn,organization=testorganization,artifactid=testid downloads=1234'\n",
      "204 No Content \n"
     ]
    }
   ],
   "source": [
    "import os\n",
    "from urllib.request import Request, urlopen\n",
    "from urllib.error import HTTPError\n",
    "\n",
    "db_url = os.getenv('VM_URL')\n",
    "print(db_url)\n",
    "target_url = \"http://\"+ db_url + \"/write?precision=s\"\n",
    "data_str = \"npn,organization=testorganization,artifactid=testid downloads=1234\"\n",
    "request = Request(target_url, data=data_str.encode('ascii', 'ignore'))\n",
    "response = urlopen(request)\n",
    "print(request.data)\n",
    "print(response.status, response.msg, response.read().decode('ascii'))"
   ]
  }
 ],
 "metadata": {
  "kernelspec": {
   "display_name": "Python 3 (ipykernel)",
   "language": "python",
   "name": "python3"
  },
  "language_info": {
   "codemirror_mode": {
    "name": "ipython",
    "version": 3
   },
   "file_extension": ".py",
   "mimetype": "text/x-python",
   "name": "python",
   "nbconvert_exporter": "python",
   "pygments_lexer": "ipython3",
   "version": "3.9.12"
  }
 },
 "nbformat": 4,
 "nbformat_minor": 5
}
