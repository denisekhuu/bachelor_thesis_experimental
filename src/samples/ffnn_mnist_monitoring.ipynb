{
 "cells": [
  {
   "cell_type": "code",
   "execution_count": null,
   "id": "982a5cb5-7f63-407c-b5a3-1e92cb5c71b0",
   "metadata": {},
   "outputs": [],
   "source": [
    "from federated_learning.utils import SHAPUtil, VMUtil\n",
    "from federated_learning import ClientPlane"
   ]
  },
  {
   "cell_type": "code",
   "execution_count": null,
   "id": "c20732c1-677c-4778-ab0b-2950be50dfee",
   "metadata": {},
   "outputs": [],
   "source": [
    "%load_ext autoreload\n",
    "%autoreload 2"
   ]
  },
  {
   "cell_type": "markdown",
   "id": "f829f89f-d235-4be5-af3a-17a0156d2d20",
   "metadata": {},
   "source": [
    "# Configuration"
   ]
  },
  {
   "cell_type": "code",
   "execution_count": null,
   "id": "1e1bb005-5450-4fe9-af0e-2c44d8ffc592",
   "metadata": {},
   "outputs": [],
   "source": [
    "import os\n",
    "import torch.nn as nn\n",
    "from torch import device\n",
    "from federated_learning.nets import MNISTFFNN, FMNISTCNN, FashionMNISTCNN\n",
    "from federated_learning.dataset import MNISTDataset, FashionMNISTDataset\n",
    "from federated_learning.client import FFNNClient, CNNClient"
   ]
  },
  {
   "cell_type": "code",
   "execution_count": null,
   "id": "947c7765-fc39-4ee8-98bf-66f72ea743ca",
   "metadata": {},
   "outputs": [],
   "source": [
    "class Configuration():\n",
    "    \n",
    "    # Dataset Config\n",
    "    BATCH_SIZE_TRAIN = 132\n",
    "    BATCH_SIZE_TEST = 1000\n",
    "    DATASET = FashionMNISTDataset\n",
    "    \n",
    "    #MNIST_FASHION_DATASET Configurations\n",
    "    MNIST_FASHION_DATASET_PATH = os.path.join('./data/mnist_fashion')\n",
    "    MNIST_FASHION_LABELS = ['T-shirt/top', 'Trouser', 'Pullover', 'Dress', 'Coat', 'Sandal', 'Shirt', 'Sneaker',  'Bag', 'Ankle Boot']\n",
    "    \n",
    "    #MNIST_DATASET Configurations\n",
    "    MNIST_DATASET_PATH = os.path.join('./data/mnist')\n",
    "    \n",
    "    #CIFAR_DATASET Configurations\n",
    "    CIFAR10_DATASET_PATH = os.path.join('./data/cifar10')\n",
    "    CIFAR10_LABELS = ['Plane', 'Car', 'Bird', 'Cat','Deer', 'Dog', 'Frog', 'Horse', 'Ship', 'Truck']\n",
    "    \n",
    "    #Model Training Configurations\n",
    "    N_EPOCHS = 2\n",
    "    LEARNING_RATE = 0.01\n",
    "    MOMENTUM = 0.5\n",
    "    LOG_INTERVAL = 10\n",
    "    CRITERION = nn.CrossEntropyLoss\n",
    "    NETWORK = FashionMNISTCNN\n",
    "    NUMBER_TARGETS = 10\n",
    "    \n",
    "    #Local Environment Configurations\n",
    "    NUMBER_OF_CLIENTS = 1\n",
    "    CLIENT_TYPE = CNNClient\n",
    "    DEVICE = device('cpu')\n",
    "    \n",
    "    #Label Flipping Attack\n",
    "    DATA_POISONING_PERCENTAGE = 1\n",
    "    FROM_LABEL = 5\n",
    "    TO_LABEL = 4\n",
    "    \n",
    "    #Victoria Metrics Configurations\n",
    "    VM_URL = os.getenv('VM_URL') #URL settings in docker-compose.yml"
   ]
  },
  {
   "cell_type": "markdown",
   "id": "16187c8c-1798-4bb3-bf0d-3976d01e5dae",
   "metadata": {},
   "source": [
    "# Monitoring"
   ]
  },
  {
   "cell_type": "code",
   "execution_count": null,
   "id": "c6210a2e-feb8-4c80-9599-7d396320a66b",
   "metadata": {},
   "outputs": [],
   "source": [
    "class Observer():\n",
    "    pass"
   ]
  },
  {
   "cell_type": "code",
   "execution_count": null,
   "id": "1cc63734-22d5-40b4-8bfd-3b327ab1fee7",
   "metadata": {},
   "outputs": [],
   "source": [
    "class ClientObserver():"
   ]
  },
  {
   "cell_type": "code",
   "execution_count": null,
   "id": "dd52cba4-5166-46dc-83ec-4177a16d0225",
   "metadata": {},
   "outputs": [],
   "source": [
    "config = Configuration()\n",
    "vm = VMUtil(config)\n",
    "data = config.DATASET(config)\n",
    "shap_util = SHAPUtil(data.test_dataloader)\n",
    "client_plane = ClientPlane(config, data, shap_util)"
   ]
  },
  {
   "cell_type": "code",
   "execution_count": null,
   "id": "8ab72e19-1bbe-4ee3-a63a-83d60cc7898d",
   "metadata": {},
   "outputs": [],
   "source": [
    "client_plane.clients[0].test()\n",
    "for epoch in range(1, config.N_EPOCHS + 1):\n",
    "    client_plane.clients[0].train(epoch)\n",
    "    client_plane.clients[0].test()"
   ]
  },
  {
   "cell_type": "code",
   "execution_count": null,
   "id": "6fe4a635-3298-44f0-91ee-bd7fa94cf868",
   "metadata": {},
   "outputs": [],
   "source": [
    "client_plane.clients[0].analize()"
   ]
  },
  {
   "cell_type": "code",
   "execution_count": null,
   "id": "efa7a0d9-b83a-40f9-b303-3aea124cb2df",
   "metadata": {},
   "outputs": [],
   "source": [
    "client_plane.clients[0].get_shap_values()"
   ]
  },
  {
   "cell_type": "code",
   "execution_count": null,
   "id": "0a309fc0-f836-43b1-9d2b-e244245ccd85",
   "metadata": {},
   "outputs": [],
   "source": [
    "client_plane.clients[0].analize_shap_values()"
   ]
  },
  {
   "cell_type": "code",
   "execution_count": null,
   "id": "e85fb3a2-d51c-4f19-8022-7e4c248646e0",
   "metadata": {},
   "outputs": [],
   "source": [
    "import numpy as np\n",
    "array = np.array(client_plane.clients[0].positive_shap)/(28*28)\n",
    "array.round(2)"
   ]
  },
  {
   "cell_type": "code",
   "execution_count": null,
   "id": "d8a63929-cf6f-4328-b6bb-51453c18cc8b",
   "metadata": {},
   "outputs": [],
   "source": [
    "client_plane.clients[0].shap_values[0].shape"
   ]
  }
 ],
 "metadata": {
  "kernelspec": {
   "display_name": "Python 3 (ipykernel)",
   "language": "python",
   "name": "python3"
  },
  "language_info": {
   "codemirror_mode": {
    "name": "ipython",
    "version": 3
   },
   "file_extension": ".py",
   "mimetype": "text/x-python",
   "name": "python",
   "nbconvert_exporter": "python",
   "pygments_lexer": "ipython3",
   "version": "3.9.12"
  }
 },
 "nbformat": 4,
 "nbformat_minor": 5
}
