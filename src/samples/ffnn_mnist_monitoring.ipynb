{
 "cells": [
  {
   "cell_type": "code",
   "execution_count": 1,
   "id": "982a5cb5-7f63-407c-b5a3-1e92cb5c71b0",
   "metadata": {},
   "outputs": [],
   "source": [
    "from federated_learning.utils import SHAPUtil, VMUtil\n",
    "from federated_learning import ClientPlane"
   ]
  },
  {
   "cell_type": "code",
   "execution_count": null,
   "id": "c20732c1-677c-4778-ab0b-2950be50dfee",
   "metadata": {},
   "outputs": [],
   "source": [
    "%load_ext autoreload\n",
    "%autoreload 2"
   ]
  },
  {
   "cell_type": "markdown",
   "id": "f829f89f-d235-4be5-af3a-17a0156d2d20",
   "metadata": {},
   "source": [
    "# Configuration"
   ]
  },
  {
   "cell_type": "code",
   "execution_count": 2,
   "id": "1e1bb005-5450-4fe9-af0e-2c44d8ffc592",
   "metadata": {},
   "outputs": [],
   "source": [
    "import os\n",
    "import torch.nn as nn\n",
    "from torch import device\n",
    "from federated_learning.nets import MNISTFFNN, FMNISTCNN, FashionMNISTCNN\n",
    "from federated_learning.dataset import MNISTDataset, FashionMNISTDataset\n",
    "from federated_learning.client import FFNNClient, CNNClient"
   ]
  },
  {
   "cell_type": "code",
   "execution_count": 3,
   "id": "947c7765-fc39-4ee8-98bf-66f72ea743ca",
   "metadata": {},
   "outputs": [],
   "source": [
    "class Configuration():\n",
    "    \n",
    "    # Dataset Config\n",
    "    BATCH_SIZE_TRAIN = 64\n",
    "    BATCH_SIZE_TEST = 1000\n",
    "    DATASET = MNISTDataset\n",
    "    \n",
    "    #MNIST_FASHION_DATASET Configurations\n",
    "    MNIST_FASHION_DATASET_PATH = os.path.join('./data/mnist_fashion')\n",
    "    MNIST_FASHION_LABELS = ['T-shirt/top', 'Trouser', 'Pullover', 'Dress', 'Coat', 'Sandal', 'Shirt', 'Sneaker',  'Bag', 'Ankle Boot']\n",
    "    \n",
    "    #MNIST_DATASET Configurations\n",
    "    MNIST_DATASET_PATH = os.path.join('./data/mnist')\n",
    "    \n",
    "    #CIFAR_DATASET Configurations\n",
    "    CIFAR10_DATASET_PATH = os.path.join('./data/cifar10')\n",
    "    CIFAR10_LABELS = ['Plane', 'Car', 'Bird', 'Cat','Deer', 'Dog', 'Frog', 'Horse', 'Ship', 'Truck']\n",
    "    \n",
    "    #Model Training Configurations\n",
    "    N_EPOCHS = 2\n",
    "    LEARNING_RATE = 0.01\n",
    "    MOMENTUM = 0.5\n",
    "    LOG_INTERVAL = 10\n",
    "    CRITERION = nn.CrossEntropyLoss\n",
    "    NETWORK = MNISTFFNN\n",
    "    NUMBER_TARGETS = 10\n",
    "    \n",
    "    #Local Environment Configurations\n",
    "    NUMBER_OF_CLIENTS = 200\n",
    "    CLIENT_TYPE = FFNNClient\n",
    "    DEVICE = device('cpu')\n",
    "    \n",
    "    #Label Flipping Attack\n",
    "    DATA_POISONING_PERCENTAGE = 1\n",
    "    FROM_LABEL = 5\n",
    "    TO_LABEL = 4\n",
    "    \n",
    "    #Victoria Metrics Configurations\n",
    "    VM_URL = os.getenv('VM_URL') #URL settings in docker-compose.yml"
   ]
  },
  {
   "cell_type": "markdown",
   "id": "16187c8c-1798-4bb3-bf0d-3976d01e5dae",
   "metadata": {},
   "source": [
    "# Monitoring"
   ]
  },
  {
   "cell_type": "code",
   "execution_count": null,
   "id": "c6210a2e-feb8-4c80-9599-7d396320a66b",
   "metadata": {},
   "outputs": [],
   "source": [
    "class Observer(VMUtil):\n",
    "    pass"
   ]
  },
  {
   "cell_type": "code",
   "execution_count": null,
   "id": "1cc63734-22d5-40b4-8bfd-3b327ab1fee7",
   "metadata": {},
   "outputs": [],
   "source": [
    "class ClientObserver(Observer):\n",
    "    "
   ]
  },
  {
   "cell_type": "code",
   "execution_count": 4,
   "id": "dd52cba4-5166-46dc-83ec-4177a16d0225",
   "metadata": {},
   "outputs": [
    {
     "name": "stdout",
     "output_type": "stream",
     "text": [
      "FashionMnist training data loaded.\n",
      "FashionMnist training data loaded.\n",
      "Create 3 clients with dataset of size 20000\n"
     ]
    }
   ],
   "source": [
    "config = Configuration()\n",
    "data = config.DATASET(config)\n",
    "shap_util = SHAPUtil(data.test_dataloader)\n",
    "client_plane = ClientPlane(config, data, shap_util)"
   ]
  },
  {
   "cell_type": "code",
   "execution_count": 5,
   "id": "8ab72e19-1bbe-4ee3-a63a-83d60cc7898d",
   "metadata": {},
   "outputs": [
    {
     "name": "stdout",
     "output_type": "stream",
     "text": [
      "\n",
      "Test set: Avg. loss: 2.3418, Accuracy: 1056/10000 (11%)\n",
      "\n",
      "Train Epoch: 1 [0/20000 (0%)]\tLoss: 2.631050\n",
      "Train Epoch: 1 [1320/20000 (7%)]\tLoss: 0.983430\n",
      "Train Epoch: 1 [2640/20000 (13%)]\tLoss: 0.688976\n",
      "Train Epoch: 1 [3960/20000 (20%)]\tLoss: 0.757346\n",
      "Train Epoch: 1 [5280/20000 (26%)]\tLoss: 0.549256\n",
      "Train Epoch: 1 [6600/20000 (33%)]\tLoss: 0.630884\n",
      "Train Epoch: 1 [7920/20000 (39%)]\tLoss: 0.565685\n",
      "Train Epoch: 1 [9240/20000 (46%)]\tLoss: 0.552106\n",
      "Train Epoch: 1 [10560/20000 (53%)]\tLoss: 0.482197\n",
      "Train Epoch: 1 [11880/20000 (59%)]\tLoss: 0.464277\n",
      "Train Epoch: 1 [13200/20000 (66%)]\tLoss: 0.531150\n",
      "Train Epoch: 1 [14520/20000 (72%)]\tLoss: 0.603596\n",
      "Train Epoch: 1 [15840/20000 (79%)]\tLoss: 0.359823\n",
      "Train Epoch: 1 [17160/20000 (86%)]\tLoss: 0.428192\n",
      "Train Epoch: 1 [18480/20000 (92%)]\tLoss: 0.497864\n",
      "Train Epoch: 1 [19800/20000 (99%)]\tLoss: 0.429435\n",
      "\n",
      "Test set: Avg. loss: 0.4777, Accuracy: 8268/10000 (83%)\n",
      "\n",
      "Train Epoch: 2 [0/20000 (0%)]\tLoss: 0.448606\n",
      "Train Epoch: 2 [1320/20000 (7%)]\tLoss: 0.412025\n",
      "Train Epoch: 2 [2640/20000 (13%)]\tLoss: 0.426566\n",
      "Train Epoch: 2 [3960/20000 (20%)]\tLoss: 0.559257\n",
      "Train Epoch: 2 [5280/20000 (26%)]\tLoss: 0.388654\n",
      "Train Epoch: 2 [6600/20000 (33%)]\tLoss: 0.345990\n",
      "Train Epoch: 2 [7920/20000 (39%)]\tLoss: 0.474267\n",
      "Train Epoch: 2 [9240/20000 (46%)]\tLoss: 0.576543\n",
      "Train Epoch: 2 [10560/20000 (53%)]\tLoss: 0.382013\n",
      "Train Epoch: 2 [11880/20000 (59%)]\tLoss: 0.347622\n",
      "Train Epoch: 2 [13200/20000 (66%)]\tLoss: 0.343635\n",
      "Train Epoch: 2 [14520/20000 (72%)]\tLoss: 0.333647\n",
      "Train Epoch: 2 [15840/20000 (79%)]\tLoss: 0.310652\n",
      "Train Epoch: 2 [17160/20000 (86%)]\tLoss: 0.452352\n",
      "Train Epoch: 2 [18480/20000 (92%)]\tLoss: 0.422870\n",
      "Train Epoch: 2 [19800/20000 (99%)]\tLoss: 0.363094\n",
      "\n",
      "Test set: Avg. loss: 0.4066, Accuracy: 8535/10000 (85%)\n",
      "\n"
     ]
    }
   ],
   "source": [
    "client_plane.clients[0].test()\n",
    "for epoch in range(1, config.N_EPOCHS + 1):\n",
    "    client_plane.clients[0].train(epoch)\n",
    "    client_plane.clients[0].test()"
   ]
  },
  {
   "cell_type": "code",
   "execution_count": 6,
   "id": "6fe4a635-3298-44f0-91ee-bd7fa94cf868",
   "metadata": {},
   "outputs": [],
   "source": [
    "client_plane.clients[0].analize()"
   ]
  },
  {
   "cell_type": "code",
   "execution_count": 7,
   "id": "efa7a0d9-b83a-40f9-b303-3aea124cb2df",
   "metadata": {},
   "outputs": [
    {
     "ename": "AttributeError",
     "evalue": "'SHAPUtil' object has no attribute 'deep_explainer'",
     "output_type": "error",
     "traceback": [
      "\u001b[0;31m---------------------------------------------------------------------------\u001b[0m",
      "\u001b[0;31mAttributeError\u001b[0m                            Traceback (most recent call last)",
      "Input \u001b[0;32mIn [7]\u001b[0m, in \u001b[0;36m<cell line: 1>\u001b[0;34m()\u001b[0m\n\u001b[0;32m----> 1\u001b[0m \u001b[43mclient_plane\u001b[49m\u001b[38;5;241;43m.\u001b[39;49m\u001b[43mclients\u001b[49m\u001b[43m[\u001b[49m\u001b[38;5;241;43m0\u001b[39;49m\u001b[43m]\u001b[49m\u001b[38;5;241;43m.\u001b[39;49m\u001b[43mget_shap_values\u001b[49m\u001b[43m(\u001b[49m\u001b[43m)\u001b[49m\n",
      "File \u001b[0;32m~/work/samples/federated_learning/client/client.py:96\u001b[0m, in \u001b[0;36mClient.get_shap_values\u001b[0;34m(self)\u001b[0m\n\u001b[1;32m     92\u001b[0m \u001b[38;5;124;03m\"\"\"\u001b[39;00m\n\u001b[1;32m     93\u001b[0m \u001b[38;5;124;03mCalculate SHAP values and SHAP image predictions \u001b[39;00m\n\u001b[1;32m     94\u001b[0m \u001b[38;5;124;03m\"\"\"\u001b[39;00m\n\u001b[1;32m     95\u001b[0m \u001b[38;5;28;01mif\u001b[39;00m \u001b[38;5;129;01mnot\u001b[39;00m \u001b[38;5;28mself\u001b[39m\u001b[38;5;241m.\u001b[39me: \n\u001b[0;32m---> 96\u001b[0m     \u001b[38;5;28mself\u001b[39m\u001b[38;5;241m.\u001b[39me \u001b[38;5;241m=\u001b[39m \u001b[38;5;28;43mself\u001b[39;49m\u001b[38;5;241;43m.\u001b[39;49m\u001b[43mshap_util\u001b[49m\u001b[38;5;241;43m.\u001b[39;49m\u001b[43mdeep_explainer\u001b[49m(\u001b[38;5;28mself\u001b[39m\u001b[38;5;241m.\u001b[39mnet)\n\u001b[1;32m     97\u001b[0m \u001b[38;5;28mself\u001b[39m\u001b[38;5;241m.\u001b[39mshap_values \u001b[38;5;241m=\u001b[39m \u001b[38;5;28mself\u001b[39m\u001b[38;5;241m.\u001b[39mshap_util\u001b[38;5;241m.\u001b[39mget_shap_values()\n\u001b[1;32m     98\u001b[0m \u001b[38;5;28mself\u001b[39m\u001b[38;5;241m.\u001b[39mshap_prediction \u001b[38;5;241m=\u001b[39m \u001b[38;5;28mself\u001b[39m\u001b[38;5;241m.\u001b[39mshap_util\u001b[38;5;241m.\u001b[39mpredict(\u001b[38;5;28mself\u001b[39m\u001b[38;5;241m.\u001b[39mnet)\n",
      "\u001b[0;31mAttributeError\u001b[0m: 'SHAPUtil' object has no attribute 'deep_explainer'"
     ]
    }
   ],
   "source": [
    "client_plane.clients[0].get_shap_values()"
   ]
  },
  {
   "cell_type": "code",
   "execution_count": null,
   "id": "0a309fc0-f836-43b1-9d2b-e244245ccd85",
   "metadata": {},
   "outputs": [],
   "source": [
    "client_plane.clients[0].analize_shap_values()"
   ]
  },
  {
   "cell_type": "code",
   "execution_count": null,
   "id": "e85fb3a2-d51c-4f19-8022-7e4c248646e0",
   "metadata": {},
   "outputs": [],
   "source": [
    "import numpy as np\n",
    "array = np.array(client_plane.clients[0].positive_shap)/(28*28)\n",
    "array.round(2)"
   ]
  },
  {
   "cell_type": "code",
   "execution_count": null,
   "id": "d8a63929-cf6f-4328-b6bb-51453c18cc8b",
   "metadata": {},
   "outputs": [],
   "source": [
    "client_plane.clients[0].shap_values[0].shape"
   ]
  }
 ],
 "metadata": {
  "kernelspec": {
   "display_name": "Python 3 (ipykernel)",
   "language": "python",
   "name": "python3"
  },
  "language_info": {
   "codemirror_mode": {
    "name": "ipython",
    "version": 3
   },
   "file_extension": ".py",
   "mimetype": "text/x-python",
   "name": "python",
   "nbconvert_exporter": "python",
   "pygments_lexer": "ipython3",
   "version": "3.9.12"
  }
 },
 "nbformat": 4,
 "nbformat_minor": 5
}
