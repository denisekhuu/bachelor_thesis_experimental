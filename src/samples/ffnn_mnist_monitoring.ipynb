{
 "cells": [
  {
   "cell_type": "code",
   "execution_count": 1,
   "id": "982a5cb5-7f63-407c-b5a3-1e92cb5c71b0",
   "metadata": {},
   "outputs": [],
   "source": [
    "from federated_learning.utils import SHAPUtil, VMUtil\n",
    "from federated_learning import ClientPlane"
   ]
  },
  {
   "cell_type": "code",
   "execution_count": 2,
   "id": "c20732c1-677c-4778-ab0b-2950be50dfee",
   "metadata": {},
   "outputs": [],
   "source": [
    "%load_ext autoreload\n",
    "%autoreload 2"
   ]
  },
  {
   "cell_type": "markdown",
   "id": "f829f89f-d235-4be5-af3a-17a0156d2d20",
   "metadata": {},
   "source": [
    "# Configuration"
   ]
  },
  {
   "cell_type": "code",
   "execution_count": 3,
   "id": "1e1bb005-5450-4fe9-af0e-2c44d8ffc592",
   "metadata": {},
   "outputs": [],
   "source": [
    "import os\n",
    "import torch.nn as nn\n",
    "from torch import device\n",
    "from federated_learning.nets import MNISTCNN, FashionMNISTCNN, MNISTFFNN\n",
    "from federated_learning.dataset import MNISTDataset, FashionMNISTDataset\n",
    "from federated_learning.client.ffnn_client import FFNNClient"
   ]
  },
  {
   "cell_type": "code",
   "execution_count": 4,
   "id": "947c7765-fc39-4ee8-98bf-66f72ea743ca",
   "metadata": {},
   "outputs": [],
   "source": [
    "class Configuration():\n",
    "    \n",
    "    # Dataset Config\n",
    "    BATCH_SIZE_TRAIN = 132\n",
    "    BATCH_SIZE_TEST = 1000\n",
    "    DATASET = MNISTDataset\n",
    "    \n",
    "    #MNIST_FASHION_DATASET Configurations\n",
    "    MNIST_FASHION_DATASET_PATH = os.path.join('./data/mnist_fashion')\n",
    "    MNIST_FASHION_LABELS = ['T-shirt/top', 'Trouser', 'Pullover', 'Dress', 'Coat', 'Sandal', 'Shirt', 'Sneaker',  'Bag', 'Ankle Boot']\n",
    "    \n",
    "    #MNIST_DATASET Configurations\n",
    "    MNIST_DATASET_PATH = os.path.join('./data/mnist')\n",
    "    \n",
    "    #CIFAR_DATASET Configurations\n",
    "    CIFAR10_DATASET_PATH = os.path.join('./data/cifar10')\n",
    "    CIFAR10_LABELS = ['Plane', 'Car', 'Bird', 'Cat','Deer', 'Dog', 'Frog', 'Horse', 'Ship', 'Truck']\n",
    "    \n",
    "    #Model Training Configurations\n",
    "    N_EPOCHS = 4\n",
    "    LEARNING_RATE = 0.01\n",
    "    MOMENTUM = 0.5\n",
    "    LOG_INTERVAL = 10\n",
    "    CRITERION = nn.CrossEntropyLoss\n",
    "    NETWORK = MNISTFFNN\n",
    "    NUMBER_TARGETS = 10\n",
    "    \n",
    "    #Local Environment Configurations\n",
    "    NUMBER_OF_CLIENTS = 4\n",
    "    CLIENT_TYPE = FFNNClient\n",
    "    DEVICE = device('cpu')\n",
    "    \n",
    "    #Label Flipping Attack\n",
    "    DATA_POISONING_PERCENTAGE = 1\n",
    "    FROM_LABEL = 5\n",
    "    TO_LABEL = 4\n",
    "    \n",
    "    #Victoria Metrics Configurations\n",
    "    VM_URL = os.getenv('VM_URL') #URL settings in docker-compose.yml"
   ]
  },
  {
   "cell_type": "markdown",
   "id": "16187c8c-1798-4bb3-bf0d-3976d01e5dae",
   "metadata": {},
   "source": [
    "# Monitoring"
   ]
  },
  {
   "cell_type": "code",
   "execution_count": null,
   "id": "c6210a2e-feb8-4c80-9599-7d396320a66b",
   "metadata": {},
   "outputs": [],
   "source": [
    "class Observer():\n",
    "    pass"
   ]
  },
  {
   "cell_type": "code",
   "execution_count": null,
   "id": "1cc63734-22d5-40b4-8bfd-3b327ab1fee7",
   "metadata": {},
   "outputs": [],
   "source": [
    "class ClientObserver():"
   ]
  },
  {
   "cell_type": "code",
   "execution_count": 5,
   "id": "dd52cba4-5166-46dc-83ec-4177a16d0225",
   "metadata": {},
   "outputs": [
    {
     "name": "stdout",
     "output_type": "stream",
     "text": [
      "MNIST training data loaded.\n",
      "MNIST test data loaded.\n",
      "Create 4 clients\n"
     ]
    }
   ],
   "source": [
    "config = Configuration()\n",
    "vm = VMUtil(config)\n",
    "data = config.DATASET(config)\n",
    "shap_util = SHAPUtil(data.test_dataloader)\n",
    "client_plane = ClientPlane(config, data, shap_util)"
   ]
  },
  {
   "cell_type": "code",
   "execution_count": 6,
   "id": "8ab72e19-1bbe-4ee3-a63a-83d60cc7898d",
   "metadata": {},
   "outputs": [
    {
     "name": "stdout",
     "output_type": "stream",
     "text": [
      "\n",
      "Test set: Average loss: 0.0023, Accuracy: 1010/10000 (10%)\n",
      "\n",
      "Train Epoch: 1 [0/15000 (0%)]\tLoss: 2.305683\n",
      "Train Epoch: 1 [13200/15000 (88%)]\tLoss: 2.299002\n",
      "\n",
      "Test set: Average loss: 0.0023, Accuracy: 1011/10000 (10%)\n",
      "\n",
      "Train Epoch: 2 [0/15000 (0%)]\tLoss: 2.280546\n",
      "Train Epoch: 2 [13200/15000 (88%)]\tLoss: 2.179739\n",
      "\n",
      "Test set: Average loss: 0.0022, Accuracy: 3653/10000 (37%)\n",
      "\n",
      "Train Epoch: 3 [0/15000 (0%)]\tLoss: 2.068100\n",
      "Train Epoch: 3 [13200/15000 (88%)]\tLoss: 1.311837\n",
      "\n",
      "Test set: Average loss: 0.0013, Accuracy: 7950/10000 (80%)\n",
      "\n",
      "Train Epoch: 4 [0/15000 (0%)]\tLoss: 1.288617\n",
      "Train Epoch: 4 [13200/15000 (88%)]\tLoss: 0.990910\n",
      "\n",
      "Test set: Average loss: 0.0008, Accuracy: 8414/10000 (84%)\n",
      "\n"
     ]
    }
   ],
   "source": [
    "client_plane.clients[0].test()\n",
    "for epoch in range(1, config.N_EPOCHS + 1):\n",
    "    client_plane.clients[0].train(epoch)\n",
    "    client_plane.clients[0].test()"
   ]
  },
  {
   "cell_type": "code",
   "execution_count": 7,
   "id": "6fe4a635-3298-44f0-91ee-bd7fa94cf868",
   "metadata": {},
   "outputs": [],
   "source": [
    "client_plane.clients[0].analize()"
   ]
  },
  {
   "cell_type": "code",
   "execution_count": 8,
   "id": "335361fd-7307-4f37-bfe6-803dd114c7d3",
   "metadata": {},
   "outputs": [
    {
     "data": {
      "text/plain": [
       "tensor([4900., 5675., 5160., 5050., 4910., 4460., 4790., 5140., 4870., 5045.])"
      ]
     },
     "execution_count": 8,
     "metadata": {},
     "output_type": "execute_result"
    }
   ],
   "source": [
    "client_plane.clients[0].confusion_matrix.sum(1) #recall 1 for row"
   ]
  },
  {
   "cell_type": "code",
   "execution_count": 9,
   "id": "587e41d8-c0d8-46fa-a2c0-e614b85242d9",
   "metadata": {},
   "outputs": [
    {
     "data": {
      "text/plain": [
       "tensor([ 4516.,  4855.,  2141., 22188.,  2204.,  1492.,  2316.,  6315.,  2268.,\n",
       "         1705.])"
      ]
     },
     "execution_count": 9,
     "metadata": {},
     "output_type": "execute_result"
    }
   ],
   "source": [
    "client_plane.clients[0].confusion_matrix.sum(0) #precision 1 for collumn"
   ]
  },
  {
   "cell_type": "code",
   "execution_count": null,
   "id": "52ba4774-ba89-4fef-93ef-03bb7a8b2aa6",
   "metadata": {},
   "outputs": [],
   "source": [
    "client_plane.clients[0].confusion_matrix"
   ]
  },
  {
   "cell_type": "code",
   "execution_count": 10,
   "id": "0df1f57c-3dda-46b1-87eb-8187fbeb330c",
   "metadata": {},
   "outputs": [
    {
     "data": {
      "text/plain": [
       "0.8414"
      ]
     },
     "execution_count": 10,
     "metadata": {},
     "output_type": "execute_result"
    }
   ],
   "source": [
    "client_plane.clients[0].accuracy"
   ]
  },
  {
   "cell_type": "code",
   "execution_count": 11,
   "id": "ae18a1e1-ee1c-47e8-a0ea-ed8682856b17",
   "metadata": {},
   "outputs": [
    {
     "data": {
      "text/plain": [
       "tensor([0.5882, 0.5611, 0.3442, 0.7790, 0.3273, 0.2812, 0.4073, 0.5165, 0.3193,\n",
       "        0.2458])"
      ]
     },
     "execution_count": 11,
     "metadata": {},
     "output_type": "execute_result"
    }
   ],
   "source": [
    "client_plane.clients[0].recall"
   ]
  },
  {
   "cell_type": "code",
   "execution_count": 12,
   "id": "b3d50a0b-d71c-4fb1-acd4-aedf539a0611",
   "metadata": {},
   "outputs": [
    {
     "data": {
      "text/plain": [
       "tensor([0.6382, 0.6558, 0.8295, 0.1773, 0.7291, 0.8405, 0.8424, 0.4204, 0.6856,\n",
       "        0.7273])"
      ]
     },
     "execution_count": 12,
     "metadata": {},
     "output_type": "execute_result"
    }
   ],
   "source": [
    "client_plane.clients[0].precision"
   ]
  },
  {
   "cell_type": "code",
   "execution_count": null,
   "id": "6fc1c5f8-5436-4a25-84d7-85bfd5b3d0a8",
   "metadata": {},
   "outputs": [],
   "source": [
    "print(client_plane.clients[0].shap_values[4][0])"
   ]
  },
  {
   "cell_type": "markdown",
   "id": "8d66973f-f57a-4905-bd50-314ff5be5cde",
   "metadata": {},
   "source": [
    "# SHAP Metrics"
   ]
  },
  {
   "cell_type": "code",
   "execution_count": null,
   "id": "983b1c15-8b2c-4fba-a9cb-dae3883f7e37",
   "metadata": {},
   "outputs": [],
   "source": [
    "client_plane.clients[0].get_shap_values()\n",
    "len(client_plane.clients[0].shap_values)"
   ]
  },
  {
   "cell_type": "code",
   "execution_count": null,
   "id": "b176b221-0e0d-4c88-9f3f-563ffb8832b4",
   "metadata": {},
   "outputs": [],
   "source": [
    "client_plane.clients[0].plot_shap_values(\"./test.png\")"
   ]
  },
  {
   "cell_type": "code",
   "execution_count": null,
   "id": "d86997d1-c91c-41c1-a442-7e0252839375",
   "metadata": {},
   "outputs": [],
   "source": [
    "import numpy as np"
   ]
  },
  {
   "cell_type": "code",
   "execution_count": null,
   "id": "9fcdf0eb-673e-45fd-b9fd-b4e702991c41",
   "metadata": {},
   "outputs": [],
   "source": [
    "pos = np.sum(np.array(client_plane.clients[0].shap_values[4][0]) > 0)"
   ]
  },
  {
   "cell_type": "code",
   "execution_count": null,
   "id": "2c306b8a-8ccb-46b3-a53a-b52a41c605a5",
   "metadata": {},
   "outputs": [],
   "source": [
    "neg = np.sum(np.array(client_plane.clients[0].shap_values[4][0]) < 0)"
   ]
  },
  {
   "cell_type": "code",
   "execution_count": null,
   "id": "f2c2284f-9764-47ab-9a0a-4e8939e877ff",
   "metadata": {},
   "outputs": [],
   "source": [
    "neu =np.sum(np.array(client_plane.clients[0].shap_values[4][0]) == 0)"
   ]
  },
  {
   "cell_type": "code",
   "execution_count": null,
   "id": "f0dcc687-9807-43db-9e17-6da6faf3d513",
   "metadata": {},
   "outputs": [],
   "source": [
    "pos + neg + neu"
   ]
  },
  {
   "cell_type": "code",
   "execution_count": null,
   "id": "f48019fd-f9d3-4230-a969-e6834ac2a3fe",
   "metadata": {},
   "outputs": [],
   "source": [
    "28*28 "
   ]
  },
  {
   "cell_type": "code",
   "execution_count": null,
   "id": "00d67220-ea42-410d-89d9-8bc391cfcdfa",
   "metadata": {},
   "outputs": [],
   "source": [
    "arr = client_plane.clients[0].shap_values[4][4]\n",
    "arr[np.nonzero(arr)].mean()"
   ]
  },
  {
   "cell_type": "code",
   "execution_count": null,
   "id": "884807f3-c999-41ac-a9ea-47ae25a7c0d0",
   "metadata": {},
   "outputs": [],
   "source": [
    "arr = client_plane.clients[0].shap_values[4][4]\n",
    "arr.mean()"
   ]
  },
  {
   "cell_type": "code",
   "execution_count": null,
   "id": "ef229259-44bf-473f-9331-9acef398338f",
   "metadata": {},
   "outputs": [],
   "source": [
    "def analize_shap():\n",
    "    pass"
   ]
  }
 ],
 "metadata": {
  "kernelspec": {
   "display_name": "Python 3 (ipykernel)",
   "language": "python",
   "name": "python3"
  },
  "language_info": {
   "codemirror_mode": {
    "name": "ipython",
    "version": 3
   },
   "file_extension": ".py",
   "mimetype": "text/x-python",
   "name": "python",
   "nbconvert_exporter": "python",
   "pygments_lexer": "ipython3",
   "version": "3.9.12"
  }
 },
 "nbformat": 4,
 "nbformat_minor": 5
}
