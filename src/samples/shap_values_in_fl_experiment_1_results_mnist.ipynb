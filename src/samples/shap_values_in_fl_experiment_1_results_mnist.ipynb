{
 "cells": [
  {
   "cell_type": "code",
   "execution_count": null,
   "id": "f027fd3c-d851-4912-b394-518c3304668c",
   "metadata": {},
   "outputs": [],
   "source": [
    "# SHAP values MNIST 5-4 run 0\n",
    "[0.977, 0.9742, 0.957, 0.9189, 0.9112, 0.8892]\n",
    "[tensor([0.9939, 0.9930, 0.9777, 0.9752, 0.9817, 0.9798, 0.9812, 0.9679, 0.9497,\n",
    "        0.9683]), tensor([0.9949, 0.9903, 0.9777, 0.9822, 0.9715, 0.9563, 0.9802, 0.9737, 0.9405,\n",
    "        0.9703]), tensor([0.9939, 0.9930, 0.9787, 0.9673, 0.9847, 0.7691, 0.9823, 0.9601, 0.9466,\n",
    "        0.9703]), tensor([0.9918, 0.9921, 0.9835, 0.9713, 0.9908, 0.3565, 0.9760, 0.9601, 0.9374,\n",
    "        0.9604]), tensor([0.9939, 0.9912, 0.9787, 0.9614, 0.9837, 0.2601, 0.9833, 0.9669, 0.9559,\n",
    "        0.9584]), tensor([0.9908, 0.9903, 0.9806, 0.9653, 0.9837, 0.0359, 0.9749, 0.9523, 0.9528,\n",
    "        0.9623])]"
   ]
  },
  {
   "cell_type": "code",
   "execution_count": null,
   "id": "8e8279b0-8126-4911-8a92-3284d5cef9b6",
   "metadata": {},
   "outputs": [],
   "source": [
    "# SHAP values MNIST 5-4 run 1\n",
    "[0.9774, 0.976, 0.9728, 0.963, 0.9205, 0.8853]\n",
    "[tensor([0.9939, 0.9912, 0.9758, 0.9703, 0.9878, 0.9854, 0.9781, 0.9630, 0.9620,\n",
    "        0.9663]), tensor([0.9929, 0.9956, 0.9787, 0.9752, 0.9857, 0.9574, 0.9802, 0.9591, 0.9589,\n",
    "        0.9722]), tensor([0.9939, 0.9912, 0.9797, 0.9723, 0.9766, 0.9305, 0.9823, 0.9640, 0.9579,\n",
    "        0.9732]), tensor([0.9929, 0.9877, 0.9826, 0.9703, 0.9857, 0.8363, 0.9812, 0.9630, 0.9476,\n",
    "        0.9663]), tensor([0.9929, 0.9930, 0.9787, 0.9614, 0.9756, 0.3823, 0.9812, 0.9640, 0.9487,\n",
    "        0.9613]), tensor([0.9929, 0.9921, 0.9797, 0.9495, 0.9919, 0.0224, 0.9812, 0.9630, 0.9333,\n",
    "        0.9425])]"
   ]
  },
  {
   "cell_type": "code",
   "execution_count": null,
   "id": "b16b6dde-9b91-4b71-81c0-6738a1f108e0",
   "metadata": {},
   "outputs": [],
   "source": [
    "# SHAP values MNIST 5-4 run 2\n",
    "[0.9743, 0.9756, 0.9583, 0.9177, 0.9233, 0.8886]\n",
    "[tensor([0.9939, 0.9921, 0.9806, 0.9703, 0.9817, 0.9574, 0.9833, 0.9640, 0.9476,\n",
    "        0.9683]), tensor([0.9949, 0.9912, 0.9748, 0.9762, 0.9857, 0.9686, 0.9791, 0.9718, 0.9405,\n",
    "        0.9703]), tensor([0.9939, 0.9938, 0.9787, 0.9634, 0.9837, 0.7915, 0.9791, 0.9621, 0.9466,\n",
    "        0.9683]), tensor([0.9949, 0.9903, 0.9835, 0.9683, 0.9786, 0.3700, 0.9781, 0.9533, 0.9240,\n",
    "        0.9683]), tensor([0.9929, 0.9903, 0.9806, 0.9604, 0.9868, 0.4170, 0.9802, 0.9621, 0.9405,\n",
    "        0.9604]), tensor([0.9918, 0.9894, 0.9758, 0.9653, 0.9847, 0.0359, 0.9823, 0.9660, 0.9281,\n",
    "        0.9633])]"
   ]
  },
  {
   "cell_type": "code",
   "execution_count": null,
   "id": "58477566-64a8-4ba9-a806-f604997357ec",
   "metadata": {},
   "outputs": [],
   "source": [
    "# SHAP values MNIST 5-4 run 3\n",
    "[0.9751, 0.975, 0.9701, 0.9292, 0.9078, 0.8914]\n",
    "[tensor([0.9929, 0.9903, 0.9797, 0.9723, 0.9796, 0.9630, 0.9823, 0.9601, 0.9548,\n",
    "        0.9732]), tensor([0.9939, 0.9930, 0.9777, 0.9782, 0.9827, 0.9585, 0.9812, 0.9611, 0.9487,\n",
    "        0.9713]), tensor([0.9939, 0.9877, 0.9855, 0.9752, 0.9745, 0.9081, 0.9802, 0.9640, 0.9487,\n",
    "        0.9742]), tensor([0.9918, 0.9894, 0.9787, 0.9723, 0.9776, 0.4720, 0.9802, 0.9621, 0.9435,\n",
    "        0.9683]), tensor([0.9918, 0.9930, 0.9816, 0.9653, 0.9786, 0.2388, 0.9843, 0.9630, 0.9322,\n",
    "        0.9673]), tensor([0.9939, 0.9894, 0.9797, 0.9653, 0.9735, 0.0617, 0.9791, 0.9669, 0.9415,\n",
    "        0.9623])]"
   ]
  },
  {
   "cell_type": "code",
   "execution_count": null,
   "id": "b5657575-e53e-4d7d-977b-140cc7743365",
   "metadata": {},
   "outputs": [],
   "source": [
    "# SHAP values MNIST 5-4 run 4\n",
    "[0.9703, 0.9739, 0.974, 0.9218, 0.8833, 0.8868]\n",
    "[tensor([0.9939, 0.9921, 0.9826, 0.9772, 0.9807, 0.9137, 0.9781, 0.9669, 0.9363,\n",
    "        0.9722]), tensor([0.9929, 0.9903, 0.9826, 0.9752, 0.9756, 0.9383, 0.9802, 0.9630, 0.9589,\n",
    "        0.9762]), tensor([0.9908, 0.9930, 0.9806, 0.9703, 0.9919, 0.9372, 0.9802, 0.9679, 0.9559,\n",
    "        0.9663]), tensor([0.9929, 0.9903, 0.9787, 0.9584, 0.9878, 0.4025, 0.9802, 0.9621, 0.9425,\n",
    "        0.9594]), tensor([0.9929, 0.9912, 0.9738, 0.9525, 0.9817, 0.0056, 0.9833, 0.9689, 0.9240,\n",
    "        0.9524]), tensor([0.9929, 0.9885, 0.9816, 0.9673, 0.9878, 0.0168, 0.9781, 0.9601, 0.9333,\n",
    "        0.9564])]"
   ]
  },
  {
   "cell_type": "code",
   "execution_count": null,
   "id": "686d80ce-7013-4ccf-b9c1-a8782370cd27",
   "metadata": {},
   "outputs": [],
   "source": [
    "# SHAP values MNIST 1-7 run 0\n",
    "[0.9767, 0.977, 0.9735, 0.9482, 0.879, 0.8629]\n",
    "[tensor([0.9939, 0.9912, 0.9738, 0.9792, 0.9705, 0.9798, 0.9791, 0.9669, 0.9630,\n",
    "        0.9683]), tensor([0.9929, 0.9894, 0.9797, 0.9772, 0.9766, 0.9765, 0.9802, 0.9630, 0.9641,\n",
    "        0.9693]), tensor([0.9929, 0.9718, 0.9787, 0.9713, 0.9735, 0.9787, 0.9770, 0.9698, 0.9517,\n",
    "        0.9703]), tensor([0.9929, 0.7542, 0.9826, 0.9683, 0.9745, 0.9809, 0.9812, 0.9757, 0.9425,\n",
    "        0.9594]), tensor([0.9939, 0.1551, 0.9680, 0.9614, 0.9715, 0.9843, 0.9802, 0.9767, 0.9466,\n",
    "        0.9643]), tensor([0.9929, 0.0264, 0.9690, 0.9673, 0.9542, 0.9843, 0.9781, 0.9786, 0.9405,\n",
    "        0.9663])]"
   ]
  },
  {
   "cell_type": "code",
   "execution_count": null,
   "id": "2794fd4f-2221-4c9c-a922-38cb126bd971",
   "metadata": {},
   "outputs": [],
   "source": [
    "# SHAP values MNIST 1-7 run 1\n",
    "[0.9766, 0.9265, 0.937, 0.9369, 0.8734, 0.8674]\n",
    "[tensor([0.9929, 0.9824, 0.9855, 0.9743, 0.9827, 0.9709, 0.9823, 0.9669, 0.9610,\n",
    "        0.9663]), tensor([0.9949, 0.5780, 0.9777, 0.9792, 0.9644, 0.9686, 0.9749, 0.9747, 0.9374,\n",
    "        0.9673]), tensor([0.9939, 0.6626, 0.9758, 0.9653, 0.9674, 0.9854, 0.9749, 0.9747, 0.9446,\n",
    "        0.9683]), tensor([0.9929, 0.6493, 0.9748, 0.9703, 0.9695, 0.9809, 0.9823, 0.9757, 0.9528,\n",
    "        0.9653]), tensor([0.9929, 0.1110, 0.9709, 0.9812, 0.9623, 0.9709, 0.9812, 0.9796, 0.9394,\n",
    "        0.9604]), tensor([0.9929, 0.0476, 0.9729, 0.9683, 0.9715, 0.9832, 0.9812, 0.9805, 0.9374,\n",
    "        0.9643])]"
   ]
  },
  {
   "cell_type": "code",
   "execution_count": null,
   "id": "f1432d28-c689-48ed-ba03-90a91b135cbb",
   "metadata": {},
   "outputs": [],
   "source": [
    "# SHAP values MNIST 1-7 run 2\n",
    "[0.9757, 0.9736, 0.9601, 0.8744, 0.8765, 0.8673]\n",
    "[tensor([0.9929, 0.9903, 0.9758, 0.9762, 0.9735, 0.9821, 0.9833, 0.9611, 0.9559,\n",
    "        0.9653]), tensor([0.9929, 0.9762, 0.9816, 0.9733, 0.9674, 0.9809, 0.9833, 0.9689, 0.9435,\n",
    "        0.9683]), tensor([0.9929, 0.8608, 0.9719, 0.9703, 0.9705, 0.9809, 0.9812, 0.9767, 0.9466,\n",
    "        0.9653]), tensor([0.9939, 0.1286, 0.9680, 0.9673, 0.9684, 0.9832, 0.9781, 0.9805, 0.9394,\n",
    "        0.9514]), tensor([0.9929, 0.1410, 0.9700, 0.9822, 0.9562, 0.9697, 0.9739, 0.9796, 0.9425,\n",
    "        0.9683]), tensor([0.9929, 0.0396, 0.9661, 0.9693, 0.9674, 0.9832, 0.9823, 0.9767, 0.9569,\n",
    "        0.9663])]"
   ]
  },
  {
   "cell_type": "code",
   "execution_count": null,
   "id": "2d3b2380-c8df-4880-9c24-247daaed6877",
   "metadata": {},
   "outputs": [],
   "source": [
    "# SHAP values MNIST 1-7 run 3\n",
    "[0.9765, 0.9744, 0.9725, 0.8853, 0.862, 0.8639]\n",
    "[tensor([0.9929, 0.9912, 0.9826, 0.9772, 0.9796, 0.9742, 0.9823, 0.9562, 0.9620,\n",
    "        0.9653]), tensor([0.9949, 0.9841, 0.9748, 0.9782, 0.9695, 0.9742, 0.9739, 0.9718, 0.9579,\n",
    "        0.9633]), tensor([0.9929, 0.9727, 0.9777, 0.9762, 0.9623, 0.9832, 0.9781, 0.9747, 0.9415,\n",
    "        0.9663]), tensor([0.9929, 0.2097, 0.9671, 0.9762, 0.9705, 0.9798, 0.9791, 0.9747, 0.9425,\n",
    "        0.9643]), tensor([0.9929, 0.0088, 0.9738, 0.9743, 0.9654, 0.9697, 0.9823, 0.9796, 0.9559,\n",
    "        0.9475]), tensor([0.9929, 0.0291, 0.9622, 0.9713, 0.9633, 0.9787, 0.9791, 0.9805, 0.9497,\n",
    "        0.9604])]"
   ]
  },
  {
   "cell_type": "code",
   "execution_count": null,
   "id": "1973209b-ca68-4058-9e3b-62f4b038bc8d",
   "metadata": {},
   "outputs": [],
   "source": [
    "# SHAP values MNIST 1-7 run 4\n",
    "[0.9733, 0.9363, 0.9758, 0.9372, 0.8759, 0.8616]\n",
    "[tensor([0.9929, 0.9877, 0.9767, 0.9762, 0.9654, 0.9742, 0.9749, 0.9737, 0.9384,\n",
    "        0.9703]), tensor([0.9929, 0.6608, 0.9816, 0.9604, 0.9613, 0.9865, 0.9802, 0.9708, 0.9466,\n",
    "        0.9653]), tensor([0.9929, 0.9815, 0.9729, 0.9683, 0.9807, 0.9798, 0.9843, 0.9708, 0.9600,\n",
    "        0.9673]), tensor([0.9929, 0.6599, 0.9777, 0.9762, 0.9654, 0.9731, 0.9781, 0.9708, 0.9517,\n",
    "        0.9683]), tensor([0.9929, 0.1269, 0.9787, 0.9683, 0.9613, 0.9787, 0.9802, 0.9708, 0.9487,\n",
    "        0.9673]), tensor([0.9929, 0.0070, 0.9748, 0.9614, 0.9705, 0.9821, 0.9770, 0.9796, 0.9446,\n",
    "        0.9574])]"
   ]
  },
  {
   "cell_type": "code",
   "execution_count": null,
   "id": "f1f8f640-ec33-44ab-aafa-bb9d61a67b60",
   "metadata": {},
   "outputs": [],
   "source": [
    "# SHAP values MNIST 3-8 run 0\n",
    "[0.9764, 0.9754, 0.9727, 0.9529, 0.8817, 0.8767]\n",
    "[tensor([0.9939, 0.9938, 0.9738, 0.9812, 0.9766, 0.9731, 0.9770, 0.9669, 0.9610,\n",
    "        0.9643]), tensor([0.9929, 0.9903, 0.9806, 0.9693, 0.9633, 0.9798, 0.9823, 0.9523, 0.9733,\n",
    "        0.9693]), tensor([0.9929, 0.9903, 0.9758, 0.9218, 0.9776, 0.9854, 0.9823, 0.9640, 0.9723,\n",
    "        0.9653]), tensor([0.9949, 0.9912, 0.9671, 0.7287, 0.9817, 0.9843, 0.9812, 0.9737, 0.9661,\n",
    "        0.9623]), tensor([0.9929, 0.9921, 0.9826, 0.0307, 0.9776, 0.9765, 0.9812, 0.9562, 0.9702,\n",
    "        0.9653]), tensor([0.9929, 0.9930, 0.9641, 0.0000, 0.9786, 0.9630, 0.9833, 0.9650, 0.9743,\n",
    "        0.9604])]"
   ]
  },
  {
   "cell_type": "code",
   "execution_count": null,
   "id": "8c501ccf-8d04-438f-8b7e-d8f43f659c05",
   "metadata": {},
   "outputs": [],
   "source": [
    "# SHAP values MNIST 3-8 run 1\n",
    "[0.9761, 0.9562, 0.9728, 0.9531, 0.8871, 0.8793]\n",
    "[tensor([0.9929, 0.9894, 0.9748, 0.9673, 0.9735, 0.9809, 0.9791, 0.9689, 0.9702,\n",
    "        0.9633]), tensor([0.9929, 0.9921, 0.9758, 0.7653, 0.9786, 0.9787, 0.9854, 0.9660, 0.9702,\n",
    "        0.9584]), tensor([0.9929, 0.9903, 0.9816, 0.9168, 0.9695, 0.9843, 0.9833, 0.9650, 0.9754,\n",
    "        0.9693]), tensor([0.9918, 0.9921, 0.9758, 0.7366, 0.9766, 0.9798, 0.9854, 0.9640, 0.9723,\n",
    "        0.9584]), tensor([0.9918, 0.9885, 0.9729, 0.0871, 0.9735, 0.9787, 0.9854, 0.9640, 0.9733,\n",
    "        0.9643]), tensor([0.9918, 0.9894, 0.9758, 0.0000, 0.9837, 0.9865, 0.9760, 0.9611, 0.9764,\n",
    "        0.9623])]"
   ]
  },
  {
   "cell_type": "code",
   "execution_count": null,
   "id": "9a59cfec-9943-434e-87c8-467d71210e6b",
   "metadata": {},
   "outputs": [],
   "source": [
    "# SHAP values MNIST 3-8 run 2\n",
    "[0.9721, 0.9738, 0.9733, 0.8774, 0.8741, 0.8773]\n",
    "[tensor([0.9929, 0.9903, 0.9816, 0.9168, 0.9796, 0.9798, 0.9833, 0.9611, 0.9702,\n",
    "        0.9653]), tensor([0.9918, 0.9938, 0.9787, 0.9317, 0.9807, 0.9798, 0.9843, 0.9591, 0.9713,\n",
    "        0.9663]), tensor([0.9918, 0.9921, 0.9826, 0.9178, 0.9847, 0.9910, 0.9843, 0.9562, 0.9692,\n",
    "        0.9643]), tensor([0.9918, 0.9903, 0.9690, 0.0000, 0.9776, 0.9742, 0.9864, 0.9660, 0.9702,\n",
    "        0.9574]), tensor([0.9918, 0.9903, 0.9700, 0.0000, 0.9644, 0.9529, 0.9854, 0.9572, 0.9825,\n",
    "        0.9534]), tensor([0.9918, 0.9877, 0.9797, 0.0000, 0.9603, 0.9776, 0.9802, 0.9630, 0.9774,\n",
    "        0.9643])]"
   ]
  },
  {
   "cell_type": "code",
   "execution_count": null,
   "id": "f24dfdab-96a0-4dd8-bf33-e975e71023ae",
   "metadata": {},
   "outputs": [],
   "source": [
    "# SHAP values MNIST 3-8 run 3\n",
    "[0.9549, 0.9565, 0.9727, 0.8844, 0.8913, 0.8776]\n",
    "[tensor([0.9918, 0.9903, 0.9729, 0.7525, 0.9776, 0.9821, 0.9854, 0.9650, 0.9692,\n",
    "        0.9643]), tensor([0.9918, 0.9894, 0.9661, 0.7693, 0.9735, 0.9877, 0.9833, 0.9689, 0.9733,\n",
    "        0.9643]), tensor([0.9918, 0.9894, 0.9845, 0.9267, 0.9725, 0.9888, 0.9791, 0.9640, 0.9600,\n",
    "        0.9703]), tensor([0.9918, 0.9894, 0.9748, 0.0564, 0.9817, 0.9809, 0.9760, 0.9591, 0.9805,\n",
    "        0.9623]), tensor([0.9918, 0.9912, 0.9787, 0.1347, 0.9786, 0.9652, 0.9854, 0.9591, 0.9805,\n",
    "        0.9544]), tensor([0.9908, 0.9859, 0.9719, 0.0000, 0.9715, 0.9798, 0.9823, 0.9660, 0.9764,\n",
    "        0.9613])]"
   ]
  },
  {
   "cell_type": "code",
   "execution_count": null,
   "id": "5c3a23f4-66e0-4d67-ba74-13f37556036a",
   "metadata": {},
   "outputs": [],
   "source": [
    "# SHAP values MNIST 3-8 run 4\n",
    "[0.9756, 0.9715, 0.9723, 0.8819, 0.8765, 0.8762]\n",
    "[tensor([0.9929, 0.9885, 0.9806, 0.9614, 0.9766, 0.9865, 0.9781, 0.9650, 0.9589,\n",
    "        0.9673]), tensor([0.9929, 0.9903, 0.9845, 0.9297, 0.9735, 0.9821, 0.9812, 0.9543, 0.9692,\n",
    "        0.9574]), tensor([0.9939, 0.9930, 0.9845, 0.9317, 0.9725, 0.9809, 0.9812, 0.9562, 0.9692,\n",
    "        0.9594]), tensor([0.9918, 0.9903, 0.9787, 0.0267, 0.9756, 0.9865, 0.9791, 0.9591, 0.9795,\n",
    "        0.9613]), tensor([0.9929, 0.9850, 0.9758, 0.0000, 0.9521, 0.9809, 0.9760, 0.9650, 0.9836,\n",
    "        0.9633]), tensor([0.9918, 0.9877, 0.9709, 0.0000, 0.9735, 0.9742, 0.9823, 0.9591, 0.9805,\n",
    "        0.9514])]"
   ]
  },
  {
   "cell_type": "code",
   "execution_count": null,
   "id": "6179ba18-6341-493a-ba09-d48af4b8a7d4",
   "metadata": {},
   "outputs": [],
   "source": [
    "results = {}"
   ]
  },
  {
   "cell_type": "code",
   "execution_count": 6,
   "id": "773902e0-aa1d-4be4-a2a4-5d501fd1471d",
   "metadata": {},
   "outputs": [
    {
     "data": {
      "image/png": "[encoded data removed]",
      "text/plain": [
       "<Figure size 432x288 with 1 Axes>"
      ]
     },
     "metadata": {
      "needs_background": "light"
     },
     "output_type": "display_data"
    }
   ],
   "source": [
    "import matplotlib.pyplot as plt \n",
    "import numpy as np\n",
    "\n",
    "%matplotlib inline \n",
    "\n",
    "plt.title('Accuracy after Label Flipping by Number of Clients')\n",
    "y_54 = [0.977, 0.9742, 0.957, 0.9189, 0.9112, 0.8892]\n",
    "y_17 =[0.9756, 0.9715, 0.9723, 0.8819, 0.8765, 0.8762]\n",
    "y_38 = [0.9765, 0.9744, 0.9725, 0.8853, 0.862, 0.8639]\n",
    "x = range(6)\n",
    "x_axis = np.arange(len(x))\n",
    "plt.xticks(x_axis,x)\n",
    "plt.bar(x_axis+0.15,y_54, width=0.15, label=\"attack 5,4\")\n",
    "plt.bar(x_axis,y_17, width=0.15, label=\"attack 1,7\")\n",
    "plt.bar(x_axis-0.15,y_38, width=0.15, label=\"attack 3,8\")\n",
    "plt.ylim([0.7, 1])\n",
    "plt.ylabel(\"Accuracy\")\n",
    "plt.xlabel(\"number of poisoned clients\")\n",
    "plt.legend()\n",
    "plt.savefig('accuracy_5_4_ex2.pdf')\n",
    "plt.show()"
   ]
  }
 ],
 "metadata": {
  "kernelspec": {
   "display_name": "Python 3 (ipykernel)",
   "language": "python",
   "name": "python3"
  },
  "language_info": {
   "codemirror_mode": {
    "name": "ipython",
    "version": 3
   },
   "file_extension": ".py",
   "mimetype": "text/x-python",
   "name": "python",
   "nbconvert_exporter": "python",
   "pygments_lexer": "ipython3",
   "version": "3.9.12"
  }
 },
 "nbformat": 4,
 "nbformat_minor": 5
}
