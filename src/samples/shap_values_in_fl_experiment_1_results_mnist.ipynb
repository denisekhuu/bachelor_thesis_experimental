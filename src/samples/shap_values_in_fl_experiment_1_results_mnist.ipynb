{
 "cells": [
  {
   "cell_type": "code",
   "execution_count": 1,
   "id": "f027fd3c-d851-4912-b394-518c3304668c",
   "metadata": {},
   "outputs": [],
   "source": [
    "from torch import tensor"
   ]
  },
  {
   "cell_type": "markdown",
   "id": "5b0fa36b-f3ad-4905-83b2-c0eafd335445",
   "metadata": {
    "tags": []
   },
   "source": [
    "## 5_4"
   ]
  },
  {
   "cell_type": "code",
   "execution_count": 117,
   "id": "41ffae5a-9bf5-4be5-9787-3b4489480f31",
   "metadata": {},
   "outputs": [],
   "source": [
    "accuracy_5_4 = [\n",
    "    [0.977, 0.9742, 0.957, 0.9189, 0.9112, 0.8892],\n",
    "    [0.9774, 0.976, 0.9728, 0.963, 0.9205, 0.8853],\n",
    "    [0.9743, 0.9756, 0.9583, 0.9177, 0.9233, 0.8886],\n",
    "    [0.9751, 0.975, 0.9701, 0.9292, 0.9078, 0.8914],\n",
    "    [0.9703, 0.9739, 0.974, 0.9218, 0.8833, 0.8868]\n",
    "]\n",
    "\n",
    "recalls_54 = [\n",
    "    [tensor([0.9939, 0.9930, 0.9777, 0.9752, 0.9817, 0.9798, 0.9812, 0.9679, 0.9497,\n",
    "        0.9683]), tensor([0.9949, 0.9903, 0.9777, 0.9822, 0.9715, 0.9563, 0.9802, 0.9737, 0.9405,\n",
    "        0.9703]), tensor([0.9939, 0.9930, 0.9787, 0.9673, 0.9847, 0.7691, 0.9823, 0.9601, 0.9466,\n",
    "        0.9703]), tensor([0.9918, 0.9921, 0.9835, 0.9713, 0.9908, 0.3565, 0.9760, 0.9601, 0.9374,\n",
    "        0.9604]), tensor([0.9939, 0.9912, 0.9787, 0.9614, 0.9837, 0.2601, 0.9833, 0.9669, 0.9559,\n",
    "        0.9584]), tensor([0.9908, 0.9903, 0.9806, 0.9653, 0.9837, 0.0359, 0.9749, 0.9523, 0.9528,\n",
    "        0.9623])],\n",
    "    \n",
    "    [tensor([0.9939, 0.9912, 0.9758, 0.9703, 0.9878, 0.9854, 0.9781, 0.9630, 0.9620,\n",
    "        0.9663]), tensor([0.9929, 0.9956, 0.9787, 0.9752, 0.9857, 0.9574, 0.9802, 0.9591, 0.9589,\n",
    "        0.9722]), tensor([0.9939, 0.9912, 0.9797, 0.9723, 0.9766, 0.9305, 0.9823, 0.9640, 0.9579,\n",
    "        0.9732]), tensor([0.9929, 0.9877, 0.9826, 0.9703, 0.9857, 0.8363, 0.9812, 0.9630, 0.9476,\n",
    "        0.9663]), tensor([0.9929, 0.9930, 0.9787, 0.9614, 0.9756, 0.3823, 0.9812, 0.9640, 0.9487,\n",
    "        0.9613]), tensor([0.9929, 0.9921, 0.9797, 0.9495, 0.9919, 0.0224, 0.9812, 0.9630, 0.9333,\n",
    "        0.9425])],\n",
    "    \n",
    "    [tensor([0.9939, 0.9921, 0.9806, 0.9703, 0.9817, 0.9574, 0.9833, 0.9640, 0.9476,\n",
    "        0.9683]), tensor([0.9949, 0.9912, 0.9748, 0.9762, 0.9857, 0.9686, 0.9791, 0.9718, 0.9405,\n",
    "        0.9703]), tensor([0.9939, 0.9938, 0.9787, 0.9634, 0.9837, 0.7915, 0.9791, 0.9621, 0.9466,\n",
    "        0.9683]), tensor([0.9949, 0.9903, 0.9835, 0.9683, 0.9786, 0.3700, 0.9781, 0.9533, 0.9240,\n",
    "        0.9683]), tensor([0.9929, 0.9903, 0.9806, 0.9604, 0.9868, 0.4170, 0.9802, 0.9621, 0.9405,\n",
    "        0.9604]), tensor([0.9918, 0.9894, 0.9758, 0.9653, 0.9847, 0.0359, 0.9823, 0.9660, 0.9281,\n",
    "        0.9633])],\n",
    "    \n",
    "    [tensor([0.9929, 0.9903, 0.9797, 0.9723, 0.9796, 0.9630, 0.9823, 0.9601, 0.9548,\n",
    "        0.9732]), tensor([0.9939, 0.9930, 0.9777, 0.9782, 0.9827, 0.9585, 0.9812, 0.9611, 0.9487,\n",
    "        0.9713]), tensor([0.9939, 0.9877, 0.9855, 0.9752, 0.9745, 0.9081, 0.9802, 0.9640, 0.9487,\n",
    "        0.9742]), tensor([0.9918, 0.9894, 0.9787, 0.9723, 0.9776, 0.4720, 0.9802, 0.9621, 0.9435,\n",
    "        0.9683]), tensor([0.9918, 0.9930, 0.9816, 0.9653, 0.9786, 0.2388, 0.9843, 0.9630, 0.9322,\n",
    "        0.9673]), tensor([0.9939, 0.9894, 0.9797, 0.9653, 0.9735, 0.0617, 0.9791, 0.9669, 0.9415,\n",
    "        0.9623])],\n",
    "    \n",
    "    [tensor([0.9939, 0.9921, 0.9826, 0.9772, 0.9807, 0.9137, 0.9781, 0.9669, 0.9363,\n",
    "        0.9722]), tensor([0.9929, 0.9903, 0.9826, 0.9752, 0.9756, 0.9383, 0.9802, 0.9630, 0.9589,\n",
    "        0.9762]), tensor([0.9908, 0.9930, 0.9806, 0.9703, 0.9919, 0.9372, 0.9802, 0.9679, 0.9559,\n",
    "        0.9663]), tensor([0.9929, 0.9903, 0.9787, 0.9584, 0.9878, 0.4025, 0.9802, 0.9621, 0.9425,\n",
    "        0.9594]), tensor([0.9929, 0.9912, 0.9738, 0.9525, 0.9817, 0.0056, 0.9833, 0.9689, 0.9240,\n",
    "        0.9524]), tensor([0.9929, 0.9885, 0.9816, 0.9673, 0.9878, 0.0168, 0.9781, 0.9601, 0.9333,\n",
    "        0.9564])],\n",
    "]"
   ]
  },
  {
   "cell_type": "code",
   "execution_count": 118,
   "id": "d0a14584-06d8-40c0-8c11-7e3ceba36c40",
   "metadata": {},
   "outputs": [],
   "source": [
    "#5,4,2\n",
    "recalls_5_4 = {\n",
    "    \"src\" : [\n",
    "        [tensor(0.9798), tensor(0.9563), tensor(0.7691), tensor(0.3565), tensor(0.2601), tensor(0.0359)],\n",
    "        [tensor(0.9854), tensor(0.9574), tensor(0.9305), tensor(0.8363), tensor(0.3823), tensor(0.0224)],\n",
    "        [tensor(0.9574), tensor(0.9686), tensor(0.7915), tensor(0.3700), tensor(0.4170), tensor(0.0359)],\n",
    "        [tensor(0.9630), tensor(0.9585), tensor(0.9081), tensor(0.4720), tensor(0.2388), tensor(0.0617)],\n",
    "        [tensor(0.9137), tensor(0.9383), tensor(0.9372), tensor(0.4025), tensor(0.0056), tensor(0.0168)],\n",
    "    ],\n",
    "    \n",
    "    \"tar\": [\n",
    "        [tensor(0.9817), tensor(0.9715), tensor(0.9847), tensor(0.9908), tensor(0.9837), tensor(0.9837)],\n",
    "        [tensor(0.9878), tensor(0.9857), tensor(0.9766), tensor(0.9857), tensor(0.9756), tensor(0.9919)],\n",
    "        [tensor(0.9817), tensor(0.9857), tensor(0.9837), tensor(0.9786), tensor(0.9868), tensor(0.9847)],\n",
    "        [tensor(0.9796), tensor(0.9827), tensor(0.9745), tensor(0.9776), tensor(0.9786), tensor(0.9735)],\n",
    "        [tensor(0.9807), tensor(0.9756), tensor(0.9919), tensor(0.9878), tensor(0.9817), tensor(0.9878)],\n",
    "        \n",
    "    ],\n",
    "    \"unmod\": [\n",
    "        [tensor(0.9777), tensor(0.9777), tensor(0.9787), tensor(0.9835), tensor(0.9787), tensor(0.9806)],\n",
    "        [tensor(0.9758), tensor(0.9787), tensor(0.9797), tensor(0.9826), tensor(0.9787), tensor(0.9797)],\n",
    "        [tensor(0.9806), tensor(0.9748), tensor(0.9787), tensor(0.9835), tensor(0.9806), tensor(0.9758)],\n",
    "        [tensor(0.9797), tensor(0.9777), tensor(0.9855), tensor(0.9787), tensor(0.9816), tensor(0.9797)],\n",
    "        [tensor(0.9826), tensor(0.9826), tensor(0.9806), tensor(0.9787), tensor(0.9738), tensor(0.9816)],\n",
    "    ],\n",
    "    \n",
    "}"
   ]
  },
  {
   "cell_type": "code",
   "execution_count": 25,
   "id": "a9e455eb-db61-4ee9-8c94-9da92b611df4",
   "metadata": {},
   "outputs": [
    {
     "data": {
      "text/plain": [
       "array([0.97482, 0.97494, 0.96644, 0.93012, 0.90922, 0.88826])"
      ]
     },
     "execution_count": 25,
     "metadata": {},
     "output_type": "execute_result"
    }
   ],
   "source": [
    "import numpy as np\n",
    "np.mean(results_5_4[\"accuracies\"], axis=0)"
   ]
  },
  {
   "cell_type": "code",
   "execution_count": 55,
   "id": "f66eed92-4750-4bd8-81b3-b0106dc9dbb0",
   "metadata": {},
   "outputs": [
    {
     "data": {
      "text/plain": [
       "array([0.95986  , 0.9558201, 0.86728  , 0.48746  , 0.26076  , 0.03454  ],\n",
       "      dtype=float32)"
      ]
     },
     "execution_count": 55,
     "metadata": {},
     "output_type": "execute_result"
    }
   ],
   "source": [
    "import numpy as np\n",
    "np.mean(recalls_5_4[\"src\"], axis=0)"
   ]
  },
  {
   "cell_type": "markdown",
   "id": "50336e4c-6e6e-43c5-9922-eefa74ff26b4",
   "metadata": {
    "tags": []
   },
   "source": [
    "## 1_7"
   ]
  },
  {
   "cell_type": "code",
   "execution_count": 119,
   "id": "b03d4a82-bc46-4581-8721-88167e5af178",
   "metadata": {},
   "outputs": [
    {
     "data": {
      "text/plain": [
       "[tensor([0.9929, 0.9921, 0.9767, 0.9723, 0.9725, 0.9809, 0.9823, 0.9708, 0.9487,\n",
       "         0.9653]),\n",
       " tensor([0.9939, 0.9850, 0.9816, 0.9772, 0.9735, 0.9742, 0.9770, 0.9601, 0.9600,\n",
       "         0.9713]),\n",
       " tensor([0.9939, 0.9674, 0.9729, 0.9733, 0.9776, 0.9798, 0.9812, 0.9796, 0.9425,\n",
       "         0.9673]),\n",
       " tensor([0.9929, 0.8529, 0.9797, 0.9683, 0.9674, 0.9798, 0.9823, 0.9776, 0.9435,\n",
       "         0.9643]),\n",
       " tensor([0.9949, 0.1066, 0.9748, 0.9673, 0.9644, 0.9787, 0.9802, 0.9728, 0.9456,\n",
       "         0.9673]),\n",
       " tensor([0.9929, 0.0211, 0.9738, 0.9673, 0.9623, 0.9787, 0.9843, 0.9757, 0.9425,\n",
       "         0.9693])]"
      ]
     },
     "execution_count": 119,
     "metadata": {},
     "output_type": "execute_result"
    }
   ],
   "source": [
    "accuracy_1_7 = [\n",
    "    [0.9767, 0.977, 0.9735, 0.9482, 0.879, 0.8629],\n",
    "    [0.9766, 0.9265, 0.937, 0.9369, 0.8734, 0.8674],\n",
    "    [0.9757, 0.9736, 0.9601, 0.8744, 0.8765, 0.8673],\n",
    "    [0.9765, 0.9744, 0.9725, 0.8853, 0.862, 0.8639],\n",
    "    [0.9733, 0.9363, 0.9758, 0.9372, 0.8759, 0.8616],\n",
    "]\n",
    "[0.9756, 0.9755, 0.9734, 0.9592, 0.8735, 0.8639]\n",
    "\n",
    "recalls_17 = [\n",
    "    [tensor([0.9939, 0.9912, 0.9738, 0.9792, 0.9705, 0.9798, 0.9791, 0.9669, 0.9630,\n",
    "            0.9683]), tensor([0.9929, 0.9894, 0.9797, 0.9772, 0.9766, 0.9765, 0.9802, 0.9630, 0.9641,\n",
    "            0.9693]), tensor([0.9929, 0.9718, 0.9787, 0.9713, 0.9735, 0.9787, 0.9770, 0.9698, 0.9517,\n",
    "            0.9703]), tensor([0.9929, 0.7542, 0.9826, 0.9683, 0.9745, 0.9809, 0.9812, 0.9757, 0.9425,\n",
    "            0.9594]), tensor([0.9939, 0.1551, 0.9680, 0.9614, 0.9715, 0.9843, 0.9802, 0.9767, 0.9466,\n",
    "            0.9643]), tensor([0.9929, 0.0264, 0.9690, 0.9673, 0.9542, 0.9843, 0.9781, 0.9786, 0.9405,\n",
    "            0.9663])],\n",
    "    [tensor([0.9929, 0.9824, 0.9855, 0.9743, 0.9827, 0.9709, 0.9823, 0.9669, 0.9610,\n",
    "        0.9663]), tensor([0.9949, 0.5780, 0.9777, 0.9792, 0.9644, 0.9686, 0.9749, 0.9747, 0.9374,\n",
    "        0.9673]), tensor([0.9939, 0.6626, 0.9758, 0.9653, 0.9674, 0.9854, 0.9749, 0.9747, 0.9446,\n",
    "        0.9683]), tensor([0.9929, 0.6493, 0.9748, 0.9703, 0.9695, 0.9809, 0.9823, 0.9757, 0.9528,\n",
    "        0.9653]), tensor([0.9929, 0.1110, 0.9709, 0.9812, 0.9623, 0.9709, 0.9812, 0.9796, 0.9394,\n",
    "        0.9604]), tensor([0.9929, 0.0476, 0.9729, 0.9683, 0.9715, 0.9832, 0.9812, 0.9805, 0.9374,\n",
    "        0.9643])],\n",
    "    [tensor([0.9929, 0.9903, 0.9758, 0.9762, 0.9735, 0.9821, 0.9833, 0.9611, 0.9559,\n",
    "        0.9653]), tensor([0.9929, 0.9762, 0.9816, 0.9733, 0.9674, 0.9809, 0.9833, 0.9689, 0.9435,\n",
    "        0.9683]), tensor([0.9929, 0.8608, 0.9719, 0.9703, 0.9705, 0.9809, 0.9812, 0.9767, 0.9466,\n",
    "        0.9653]), tensor([0.9939, 0.1286, 0.9680, 0.9673, 0.9684, 0.9832, 0.9781, 0.9805, 0.9394,\n",
    "        0.9514]), tensor([0.9929, 0.1410, 0.9700, 0.9822, 0.9562, 0.9697, 0.9739, 0.9796, 0.9425,\n",
    "        0.9683]), tensor([0.9929, 0.0396, 0.9661, 0.9693, 0.9674, 0.9832, 0.9823, 0.9767, 0.9569,\n",
    "        0.9663])],\n",
    "    [tensor([0.9929, 0.9912, 0.9826, 0.9772, 0.9796, 0.9742, 0.9823, 0.9562, 0.9620,\n",
    "        0.9653]), tensor([0.9949, 0.9841, 0.9748, 0.9782, 0.9695, 0.9742, 0.9739, 0.9718, 0.9579,\n",
    "        0.9633]), tensor([0.9929, 0.9727, 0.9777, 0.9762, 0.9623, 0.9832, 0.9781, 0.9747, 0.9415,\n",
    "        0.9663]), tensor([0.9929, 0.2097, 0.9671, 0.9762, 0.9705, 0.9798, 0.9791, 0.9747, 0.9425,\n",
    "        0.9643]), tensor([0.9929, 0.0088, 0.9738, 0.9743, 0.9654, 0.9697, 0.9823, 0.9796, 0.9559,\n",
    "        0.9475]), tensor([0.9929, 0.0291, 0.9622, 0.9713, 0.9633, 0.9787, 0.9791, 0.9805, 0.9497,\n",
    "        0.9604])],\n",
    "    [tensor([0.9929, 0.9877, 0.9767, 0.9762, 0.9654, 0.9742, 0.9749, 0.9737, 0.9384,\n",
    "        0.9703]), tensor([0.9929, 0.6608, 0.9816, 0.9604, 0.9613, 0.9865, 0.9802, 0.9708, 0.9466,\n",
    "        0.9653]), tensor([0.9929, 0.9815, 0.9729, 0.9683, 0.9807, 0.9798, 0.9843, 0.9708, 0.9600,\n",
    "        0.9673]), tensor([0.9929, 0.6599, 0.9777, 0.9762, 0.9654, 0.9731, 0.9781, 0.9708, 0.9517,\n",
    "        0.9683]), tensor([0.9929, 0.1269, 0.9787, 0.9683, 0.9613, 0.9787, 0.9802, 0.9708, 0.9487,\n",
    "        0.9673]), tensor([0.9929, 0.0070, 0.9748, 0.9614, 0.9705, 0.9821, 0.9770, 0.9796, 0.9446,\n",
    "        0.9574])]\n",
    "]\n",
    "[tensor([0.9929, 0.9921, 0.9767, 0.9723, 0.9725, 0.9809, 0.9823, 0.9708, 0.9487,\n",
    "        0.9653]), tensor([0.9939, 0.9850, 0.9816, 0.9772, 0.9735, 0.9742, 0.9770, 0.9601, 0.9600,\n",
    "        0.9713]), tensor([0.9939, 0.9674, 0.9729, 0.9733, 0.9776, 0.9798, 0.9812, 0.9796, 0.9425,\n",
    "        0.9673]), tensor([0.9929, 0.8529, 0.9797, 0.9683, 0.9674, 0.9798, 0.9823, 0.9776, 0.9435,\n",
    "        0.9643]), tensor([0.9949, 0.1066, 0.9748, 0.9673, 0.9644, 0.9787, 0.9802, 0.9728, 0.9456,\n",
    "        0.9673]), tensor([0.9929, 0.0211, 0.9738, 0.9673, 0.9623, 0.9787, 0.9843, 0.9757, 0.9425,\n",
    "        0.9693])]"
   ]
  },
  {
   "cell_type": "code",
   "execution_count": 120,
   "id": "000f9c6f-6f69-4fcc-8569-6772895faa42",
   "metadata": {},
   "outputs": [],
   "source": [
    "#1,7,5\n",
    "recalls_1_7 = {'src': [[tensor(0.9912), tensor(0.9894), tensor(0.9718), tensor(0.7542), tensor(0.1551), tensor(0.0264)],\n",
    "         [tensor(0.9824), tensor(0.5780), tensor(0.6626), tensor(0.6493), tensor(0.1110), tensor(0.0476)],\n",
    "         [tensor(0.9903), tensor(0.9762), tensor(0.8608), tensor(0.1286), tensor(0.1410), tensor(0.0396)],\n",
    "         [tensor(0.9912), tensor(0.9841), tensor(0.9727), tensor(0.2097), tensor(0.0088), tensor(0.0291)],\n",
    "         [tensor(0.9877), tensor(0.6608), tensor(0.9815), tensor(0.6599), tensor(0.1269), tensor(0.0070)]],\n",
    " 'tar': [[tensor(0.9669), tensor(0.9630), tensor(0.9698), tensor(0.9757), tensor(0.9767), tensor(0.9786)],\n",
    "         [tensor(0.9669), tensor(0.9747), tensor(0.9747), tensor(0.9757), tensor(0.9796), tensor(0.9805)],\n",
    "         [tensor(0.9611), tensor(0.9689), tensor(0.9767), tensor(0.9805), tensor(0.9796), tensor(0.9767)],\n",
    "         [tensor(0.9562), tensor(0.9718), tensor(0.9747), tensor(0.9747), tensor(0.9796), tensor(0.9805)],\n",
    "         [tensor(0.9737), tensor(0.9708), tensor(0.9708), tensor(0.9708), tensor(0.9708), tensor(0.9796)]],\n",
    " 'unmod': [[tensor(0.9798), tensor(0.9765), tensor(0.9787), tensor(0.9809), tensor(0.9843), tensor(0.9843)],\n",
    "           [tensor(0.9709), tensor(0.9686), tensor(0.9854), tensor(0.9809), tensor(0.9709), tensor(0.9832)],\n",
    "           [tensor(0.9821), tensor(0.9809), tensor(0.9809), tensor(0.9832), tensor(0.9697), tensor(0.9832)],\n",
    "           [tensor(0.9742), tensor(0.9742), tensor(0.9832), tensor(0.9798), tensor(0.9697), tensor(0.9787)],\n",
    "           [tensor(0.9742), tensor(0.9865), tensor(0.9798), tensor(0.9731), tensor(0.9787), tensor(0.9821)]]}"
   ]
  },
  {
   "cell_type": "code",
   "execution_count": 52,
   "id": "156c76cc-364c-4ae8-aa0c-d08aa345ed75",
   "metadata": {},
   "outputs": [
    {
     "data": {
      "text/plain": [
       "array([0.9885599 , 0.8377    , 0.88988006, 0.48034   , 0.10856   ,\n",
       "       0.02994   ], dtype=float32)"
      ]
     },
     "execution_count": 52,
     "metadata": {},
     "output_type": "execute_result"
    }
   ],
   "source": [
    "import numpy as np\n",
    "np.mean(recalls_1_7[\"src\"], axis=0)"
   ]
  },
  {
   "cell_type": "markdown",
   "id": "356fa33d-d1ba-4e4d-9df0-746469a939dc",
   "metadata": {
    "tags": []
   },
   "source": [
    "## 3:8"
   ]
  },
  {
   "cell_type": "code",
   "execution_count": 121,
   "id": "f1f8f640-ec33-44ab-aafa-bb9d61a67b60",
   "metadata": {},
   "outputs": [],
   "source": [
    "# SHAP values MNIST 3-8 run 0\n",
    "accuracy_3_8 = [\n",
    "    [0.9766, 0.9741, 0.9724, 0.9439, 0.8908, 0.8779],\n",
    "    [0.976, 0.9762, 0.9728, 0.9675, 0.8796, 0.8767],\n",
    "    [0.9768, 0.9764, 0.9722, 0.9553, 0.885, 0.8769],\n",
    "    [0.9777, 0.975, 0.9737, 0.9488, 0.8787, 0.8768],\n",
    "    [0.9757, 0.9773, 0.9735, 0.9498, 0.882, 0.8779]\n",
    "    \n",
    "]"
   ]
  },
  {
   "cell_type": "code",
   "execution_count": 149,
   "id": "8c501ccf-8d04-438f-8b7e-d8f43f659c05",
   "metadata": {},
   "outputs": [],
   "source": [
    "# SHAP values MNIST 3-8 run 1\n",
    "\n",
    "recalls_38 = [\n",
    "    [tensor([0.9929, 0.9921, 0.9787, 0.9802, 0.9817, 0.9731, 0.9823, 0.9660, 0.9548,\n",
    "        0.9623]), tensor([0.9929, 0.9789, 0.9835, 0.9693, 0.9725, 0.9821, 0.9781, 0.9504, 0.9682,\n",
    "        0.9663]), tensor([0.9929, 0.9903, 0.9806, 0.9178, 0.9807, 0.9832, 0.9843, 0.9630, 0.9682,\n",
    "        0.9633]), tensor([0.9918, 0.9815, 0.9797, 0.6515, 0.9786, 0.9787, 0.9843, 0.9562, 0.9743,\n",
    "        0.9663]), tensor([0.9918, 0.9903, 0.9748, 0.1257, 0.9786, 0.9765, 0.9823, 0.9660, 0.9743,\n",
    "        0.9554]), tensor([0.9918, 0.9877, 0.9738, 0.0000, 0.9776, 0.9765, 0.9843, 0.9621, 0.9764,\n",
    "        0.9584])],\n",
    "    [tensor([0.9929, 0.9885, 0.9816, 0.9733, 0.9705, 0.9776, 0.9833, 0.9650, 0.9630,\n",
    "        0.9633]), tensor([0.9929, 0.9894, 0.9816, 0.9634, 0.9756, 0.9888, 0.9833, 0.9621, 0.9630,\n",
    "        0.9623]), tensor([0.9929, 0.9912, 0.9816, 0.9277, 0.9766, 0.9821, 0.9833, 0.9601, 0.9671,\n",
    "        0.9653]), tensor([0.9929, 0.9903, 0.9738, 0.8723, 0.9735, 0.9899, 0.9833, 0.9630, 0.9784,\n",
    "        0.9594]), tensor([0.9918, 0.9885, 0.9719, 0.0238, 0.9796, 0.9686, 0.9843, 0.9582, 0.9805,\n",
    "        0.9574]), tensor([0.9908, 0.9912, 0.9748, 0.0000, 0.9807, 0.9742, 0.9843, 0.9553, 0.9774,\n",
    "        0.9475])],\n",
    "    [tensor([0.9929, 0.9912, 0.9767, 0.9733, 0.9735, 0.9865, 0.9823, 0.9640, 0.9692,\n",
    "        0.9584]), tensor([0.9929, 0.9903, 0.9758, 0.9525, 0.9817, 0.9821, 0.9854, 0.9679, 0.9671,\n",
    "        0.9683]), tensor([0.9918, 0.9903, 0.9826, 0.9119, 0.9725, 0.9798, 0.9823, 0.9630, 0.9774,\n",
    "        0.9703]), tensor([0.9939, 0.9921, 0.9767, 0.7554, 0.9796, 0.9821, 0.9833, 0.9679, 0.9559,\n",
    "        0.9673]), tensor([0.9918, 0.9912, 0.9748, 0.0545, 0.9786, 0.9821, 0.9864, 0.9650, 0.9723,\n",
    "        0.9623]), tensor([0.9918, 0.9894, 0.9767, 0.0000, 0.9756, 0.9720, 0.9843, 0.9514, 0.9702,\n",
    "        0.9663])],\n",
    "    [tensor([0.9949, 0.9903, 0.9758, 0.9802, 0.9807, 0.9776, 0.9791, 0.9689, 0.9610,\n",
    "        0.9673]), tensor([0.9918, 0.9938, 0.9758, 0.9446, 0.9766, 0.9843, 0.9833, 0.9669, 0.9692,\n",
    "        0.9633]), tensor([0.9929, 0.9912, 0.9777, 0.9198, 0.9807, 0.9877, 0.9770, 0.9698, 0.9754,\n",
    "        0.9653]), tensor([0.9918, 0.9912, 0.9787, 0.6980, 0.9756, 0.9787, 0.9823, 0.9640, 0.9723,\n",
    "        0.9574]), tensor([0.9918, 0.9903, 0.9719, 0.0109, 0.9827, 0.9731, 0.9812, 0.9572, 0.9784,\n",
    "        0.9584]), tensor([0.9939, 0.9868, 0.9748, 0.0000, 0.9756, 0.9765, 0.9718, 0.9591, 0.9784,\n",
    "        0.9604])],\n",
    "    [tensor([0.9929, 0.9930, 0.9787, 0.9812, 0.9745, 0.9798, 0.9833, 0.9601, 0.9456,\n",
    "        0.9663]), tensor([0.9949, 0.9938, 0.9787, 0.9743, 0.9766, 0.9798, 0.9770, 0.9679, 0.9641,\n",
    "        0.9643]), tensor([0.9929, 0.9938, 0.9797, 0.9228, 0.9796, 0.9798, 0.9833, 0.9679, 0.9671,\n",
    "        0.9673]), tensor([0.9918, 0.9894, 0.9738, 0.7050, 0.9644, 0.9888, 0.9843, 0.9660, 0.9774,\n",
    "        0.9604]), tensor([0.9918, 0.9930, 0.9758, 0.0228, 0.9776, 0.9809, 0.9770, 0.9708, 0.9733,\n",
    "        0.9653]), tensor([0.9918, 0.9912, 0.9738, 0.0000, 0.9827, 0.9731, 0.9812, 0.9630, 0.9713,\n",
    "        0.9594])],\n",
    "]"
   ]
  },
  {
   "cell_type": "code",
   "execution_count": 148,
   "id": "164a589b-e10d-4b75-a330-bfa63dec7f78",
   "metadata": {},
   "outputs": [
    {
     "data": {
      "text/plain": [
       "[tensor([0.9929, 0.9885, 0.9767, 0.9733, 0.9613, 0.9821, 0.9843, 0.9689, 0.9528,\n",
       "         0.9722]),\n",
       " tensor([0.9929, 0.9885, 0.9835, 0.9584, 0.9654, 0.9865, 0.9823, 0.9572, 0.9682,\n",
       "         0.9653]),\n",
       " tensor([0.9918, 0.9930, 0.9797, 0.9079, 0.9807, 0.9865, 0.9843, 0.9630, 0.9733,\n",
       "         0.9643]),\n",
       " tensor([0.9918, 0.9912, 0.9806, 0.8634, 0.9745, 0.9843, 0.9791, 0.9669, 0.9754,\n",
       "         0.9613]),\n",
       " tensor([0.9918, 0.9912, 0.9758, 0.0257, 0.9756, 0.9686, 0.9823, 0.9621, 0.9784,\n",
       "         0.9613]),\n",
       " tensor([0.9918, 0.9903, 0.9709, 0.0000, 0.9745, 0.9664, 0.9833, 0.9582, 0.9805,\n",
       "         0.9594])]"
      ]
     },
     "execution_count": 148,
     "metadata": {},
     "output_type": "execute_result"
    }
   ],
   "source": [
    "[0.9754, 0.9748, 0.9724, 0.9668, 0.8805, 0.8767],\n",
    "[tensor([0.9929, 0.9885, 0.9767, 0.9733, 0.9613, 0.9821, 0.9843, 0.9689, 0.9528,\n",
    "    0.9722]), tensor([0.9929, 0.9885, 0.9835, 0.9584, 0.9654, 0.9865, 0.9823, 0.9572, 0.9682,\n",
    "    0.9653]), tensor([0.9918, 0.9930, 0.9797, 0.9079, 0.9807, 0.9865, 0.9843, 0.9630, 0.9733,\n",
    "    0.9643]), tensor([0.9918, 0.9912, 0.9806, 0.8634, 0.9745, 0.9843, 0.9791, 0.9669, 0.9754,\n",
    "    0.9613]), tensor([0.9918, 0.9912, 0.9758, 0.0257, 0.9756, 0.9686, 0.9823, 0.9621, 0.9784,\n",
    "    0.9613]), tensor([0.9918, 0.9903, 0.9709, 0.0000, 0.9745, 0.9664, 0.9833, 0.9582, 0.9805,\n",
    "    0.9594])]\n"
   ]
  },
  {
   "cell_type": "code",
   "execution_count": 154,
   "id": "6a97a916-d9e4-4692-993e-9a4c1497fff1",
   "metadata": {},
   "outputs": [],
   "source": [
    "#3,8,6\n",
    "recalls_3_8 = {'src': [[tensor(0.9802), tensor(0.9693), tensor(0.9178), tensor(0.6515), tensor(0.1257), tensor(0.)],\n",
    "         [tensor(0.9733), tensor(0.9634), tensor(0.9277), tensor(0.8723), tensor(0.0238), tensor(0.)],\n",
    "         [tensor(0.9733), tensor(0.9525), tensor(0.9119), tensor(0.7554), tensor(0.0545), tensor(0.)],\n",
    "         [tensor(0.9802), tensor(0.9446), tensor(0.9198), tensor(0.6980), tensor(0.0109), tensor(0.)],\n",
    "         [tensor(0.9812), tensor(0.9743), tensor(0.9228), tensor(0.7050), tensor(0.0228), tensor(0.)]],\n",
    " 'tar': [[tensor(0.9548), tensor(0.9682), tensor(0.9682), tensor(0.9743), tensor(0.9743), tensor(0.9764)],\n",
    "         [tensor(0.9630), tensor(0.9630), tensor(0.9671), tensor(0.9784), tensor(0.9805), tensor(0.9774)],\n",
    "         [tensor(0.9692), tensor(0.9671), tensor(0.9774), tensor(0.9559), tensor(0.9723), tensor(0.9702)],\n",
    "         [tensor(0.9610), tensor(0.9692), tensor(0.9754), tensor(0.9723), tensor(0.9784), tensor(0.9784)],\n",
    "         [tensor(0.9456), tensor(0.9641), tensor(0.9671), tensor(0.9774), tensor(0.9733), tensor(0.9713)]],\n",
    " 'unmod': [[tensor(0.9823), tensor(0.9781), tensor(0.9843), tensor(0.9843), tensor(0.9823), tensor(0.9843)],\n",
    "           [tensor(0.9833), tensor(0.9833), tensor(0.9833), tensor(0.9833), tensor(0.9843), tensor(0.9843)],\n",
    "           [tensor(0.9823), tensor(0.9854), tensor(0.9823), tensor(0.9833), tensor(0.9864), tensor(0.9843)],\n",
    "           [tensor(0.9791), tensor(0.9833), tensor(0.9770), tensor(0.9823), tensor(0.9812), tensor(0.9718)],\n",
    "           [tensor(0.9833), tensor(0.9770), tensor(0.9833), tensor(0.9843), tensor(0.9770), tensor(0.9812)]]}"
   ]
  },
  {
   "cell_type": "code",
   "execution_count": 101,
   "id": "ee0acda7-e3a1-4f8d-aaad-f91949b30014",
   "metadata": {},
   "outputs": [
    {
     "data": {
      "text/plain": [
       "array([0.97102, 0.96668, 0.97276, 0.90994, 0.88214, 0.87742])"
      ]
     },
     "execution_count": 101,
     "metadata": {},
     "output_type": "execute_result"
    }
   ],
   "source": [
    "import numpy as np\n",
    "np.mean(accuracy_3_8, axis=0)"
   ]
  },
  {
   "cell_type": "code",
   "execution_count": 106,
   "id": "261bd2b8-4b59-4e02-9b2b-29dacb98bb8e",
   "metadata": {},
   "outputs": [
    {
     "data": {
      "text/plain": [
       "array([0.97606003, 0.95764005, 0.91702   , 0.76812   , 0.04812   ,\n",
       "       0.        ], dtype=float32)"
      ]
     },
     "execution_count": 106,
     "metadata": {},
     "output_type": "execute_result"
    }
   ],
   "source": [
    "np.mean(recalls_3_8[\"src\"], axis=0)"
   ]
  },
  {
   "cell_type": "code",
   "execution_count": 151,
   "id": "4c4f3785-02ba-4102-bc8b-40071118e70f",
   "metadata": {},
   "outputs": [
    {
     "name": "stdout",
     "output_type": "stream",
     "text": [
      "{'src': [[tensor(0.9802), tensor(0.9693), tensor(0.9178), tensor(0.6515), tensor(0.1257), tensor(0.)],\n",
      "         [tensor(0.9733), tensor(0.9634), tensor(0.9277), tensor(0.8723), tensor(0.0238), tensor(0.)],\n",
      "         [tensor(0.9733), tensor(0.9525), tensor(0.9119), tensor(0.7554), tensor(0.0545), tensor(0.)],\n",
      "         [tensor(0.9802), tensor(0.9446), tensor(0.9198), tensor(0.6980), tensor(0.0109), tensor(0.)],\n",
      "         [tensor(0.9812), tensor(0.9743), tensor(0.9228), tensor(0.7050), tensor(0.0228), tensor(0.)]],\n",
      " 'tar': [[tensor(0.9548), tensor(0.9682), tensor(0.9682), tensor(0.9743), tensor(0.9743), tensor(0.9764)],\n",
      "         [tensor(0.9630), tensor(0.9630), tensor(0.9671), tensor(0.9784), tensor(0.9805), tensor(0.9774)],\n",
      "         [tensor(0.9692), tensor(0.9671), tensor(0.9774), tensor(0.9559), tensor(0.9723), tensor(0.9702)],\n",
      "         [tensor(0.9610), tensor(0.9692), tensor(0.9754), tensor(0.9723), tensor(0.9784), tensor(0.9784)],\n",
      "         [tensor(0.9456), tensor(0.9641), tensor(0.9671), tensor(0.9774), tensor(0.9733), tensor(0.9713)]],\n",
      " 'unmod': [[tensor(0.9823), tensor(0.9781), tensor(0.9843), tensor(0.9843), tensor(0.9823), tensor(0.9843)],\n",
      "           [tensor(0.9833), tensor(0.9833), tensor(0.9833), tensor(0.9833), tensor(0.9843), tensor(0.9843)],\n",
      "           [tensor(0.9823), tensor(0.9854), tensor(0.9823), tensor(0.9833), tensor(0.9864), tensor(0.9843)],\n",
      "           [tensor(0.9791), tensor(0.9833), tensor(0.9770), tensor(0.9823), tensor(0.9812), tensor(0.9718)],\n",
      "           [tensor(0.9833), tensor(0.9770), tensor(0.9833), tensor(0.9843), tensor(0.9770), tensor(0.9812)]]}\n"
     ]
    }
   ],
   "source": [
    "import pprint\n",
    "pp = pprint.PrettyPrinter(width=130, compact=True)\n",
    "recalls = {}\n",
    "recalls[\"src\"] = []\n",
    "recalls[\"tar\"] = []\n",
    "recalls[\"unmod\"] = []\n",
    "for run in recalls_38:\n",
    "    recalls_src = []\n",
    "    recalls_tar = []\n",
    "    recalls_unmod = []\n",
    "    for recall in run: \n",
    "        recalls_src.append(recall[3])\n",
    "        recalls_tar.append(recall[8])\n",
    "        recalls_unmod.append(recall[6])\n",
    "    recalls[\"src\"].append(recalls_src)\n",
    "    recalls[\"tar\"].append(recalls_tar)\n",
    "    recalls[\"unmod\"].append(recalls_unmod)\n",
    "pp.pprint(recalls)"
   ]
  },
  {
   "cell_type": "markdown",
   "id": "6f9ca2a0-2370-4d85-9711-cf509cd559c1",
   "metadata": {
    "tags": []
   },
   "source": [
    "## Visualizations"
   ]
  },
  {
   "cell_type": "code",
   "execution_count": 155,
   "id": "773902e0-aa1d-4be4-a2a4-5d501fd1471d",
   "metadata": {},
   "outputs": [
    {
     "name": "stdout",
     "output_type": "stream",
     "text": [
      "[0.97482 0.97494 0.96644 0.93012 0.90922 0.88826] [0.97576 0.95756 0.96378 0.9164  0.87336 0.86462] [0.9765  0.9753  0.9727  0.95646 0.88292 0.877  ]\n",
      "[0.00253724 0.000799   0.00729893 0.01691927 0.01416523 0.00208576] [0.00128    0.02161246 0.01446173 0.03031613 0.00595268 0.00234555] [0.0007746  0.00087178 0.00053666 0.00945063 0.00449684 0.00045607]\n"
     ]
    },
    {
     "data": {
      "image/png": "[encoded data removed]",
      "text/plain": [
       "<Figure size 432x288 with 1 Axes>"
      ]
     },
     "metadata": {
      "needs_background": "light"
     },
     "output_type": "display_data"
    }
   ],
   "source": [
    "import matplotlib.pyplot as plt \n",
    "import numpy as np\n",
    "\n",
    "%matplotlib inline \n",
    "\n",
    "plt.title('Avg Accuracy by Number of Malicious Clients (MNIST)')\n",
    "y_54 = np.mean(accuracy_5_4, axis=0)\n",
    "y_17 = np.mean(accuracy_1_7, axis=0)\n",
    "y_38 = np.mean(accuracy_3_8, axis=0)\n",
    "std_54 = np.std(accuracy_5_4, axis=0)\n",
    "std_17 = np.std(accuracy_1_7, axis=0)\n",
    "std_38 = np.std(accuracy_3_8, axis=0)\n",
    "print(y_54, y_17, y_38)\n",
    "print(std_54, std_17, std_38)\n",
    "x = range(6)\n",
    "x_axis = np.arange(len(x))\n",
    "plt.xticks(x_axis,x)\n",
    "plt.bar(x_axis+0.15,y_54, width=0.15, label=\"y_a = 5, y_b = 4\", yerr=std_54,alpha=0.5, align='center', capsize=2)\n",
    "plt.bar(x_axis,y_17, width=0.15, label=\"y_a = 1, y_b = 7\", yerr=std_17,alpha=0.5, align='center', capsize=2)\n",
    "plt.bar(x_axis-0.15,y_38, width=0.15, label=\"y_a = 3, y_b = 8\", yerr=std_28,alpha=0.5, align='center', capsize=2)\n",
    "plt.ylim([0.7, 1])\n",
    "plt.ylabel(\"Accuracy\")\n",
    "plt.xlabel(\"number of poisoned clients\")\n",
    "plt.legend(loc=3)\n",
    "plt.savefig('avg_accuracy_mnist_ex4.pdf')\n",
    "plt.show()"
   ]
  },
  {
   "cell_type": "code",
   "execution_count": 156,
   "id": "0588ab3d-14cc-450e-9d7b-49f010cb5bd1",
   "metadata": {},
   "outputs": [
    {
     "name": "stdout",
     "output_type": "stream",
     "text": [
      "[0.95986   0.9558201 0.86728   0.48746   0.26076   0.03454  ] [0.9885599  0.8377     0.88988006 0.48034    0.10856    0.02994   ] [0.97764    0.96082    0.91999996 0.73644    0.04754    0.        ]\n",
      "[0.0252846  0.00979987 0.07201912 0.17893794 0.1447565  0.0155142 ] [0.00333622 0.18020311 0.12203781 0.25797504 0.05198595 0.01374534] [0.00356236 0.01088659 0.00524633 0.07549615 0.0416547  0.        ]\n"
     ]
    },
    {
     "data": {
      "image/png": "[encoded data removed]",
      "text/plain": [
       "<Figure size 432x288 with 1 Axes>"
      ]
     },
     "metadata": {
      "needs_background": "light"
     },
     "output_type": "display_data"
    }
   ],
   "source": [
    "import matplotlib.pyplot as plt \n",
    "import numpy as np\n",
    "\n",
    "%matplotlib inline \n",
    "\n",
    "plt.title('Avg Recall by Number of Malicious Clients (MNIST)')\n",
    "y_54 = np.mean(recalls_5_4[\"src\"], axis=0)\n",
    "y_17 = np.mean(recalls_1_7[\"src\"], axis=0)\n",
    "y_38 = np.mean(recalls_3_8[\"src\"], axis=0)\n",
    "std_54 = np.std(recalls_5_4[\"src\"], axis=0)\n",
    "std_17= np.std(recalls_1_7[\"src\"], axis=0)\n",
    "std_38 = np.std(recalls_3_8[\"src\"], axis=0) \n",
    "print(y_54, y_17, y_38)\n",
    "print(std_54, std_17, std_38)\n",
    "x = range(6)\n",
    "x_axis = np.arange(len(x))\n",
    "plt.xticks(x_axis,x)\n",
    "plt.bar(x_axis+0.15,y_54, width=0.15, label=\"y_a = 5, y_b = 4\",yerr=std_54, alpha=0.5, align='center', capsize=2)\n",
    "plt.bar(x_axis,y_17, width=0.15, label=\"y_a = 1, y_b = 7\",yerr=std_17,alpha=0.5, align='center', capsize=2)\n",
    "plt.bar(x_axis-0.15,y_38, width=0.15, label=\"y_a = 3, y_b = 8\", yerr=std_38,alpha=0.5, align='center', capsize=2)\n",
    "plt.ylim([0, 1])\n",
    "plt.ylabel(\"Recall\")\n",
    "plt.xlabel(\"number of poisoned clients\")\n",
    "plt.legend()\n",
    "plt.savefig('avg_recall_mnist_ex4.pdf')\n",
    "plt.show()"
   ]
  },
  {
   "cell_type": "code",
   "execution_count": 157,
   "id": "fb2de644-09ba-4382-bd0b-42ec4c0a42a9",
   "metadata": {},
   "outputs": [
    {
     "data": {
      "text/plain": [
       "0.24119999999999997"
      ]
     },
     "execution_count": 157,
     "metadata": {},
     "output_type": "execute_result"
    }
   ],
   "source": [
    "0.97764 -0.73644"
   ]
  }
 ],
 "metadata": {
  "kernelspec": {
   "display_name": "Python 3 (ipykernel)",
   "language": "python",
   "name": "python3"
  },
  "language_info": {
   "codemirror_mode": {
    "name": "ipython",
    "version": 3
   },
   "file_extension": ".py",
   "mimetype": "text/x-python",
   "name": "python",
   "nbconvert_exporter": "python",
   "pygments_lexer": "ipython3",
   "version": "3.9.12"
  }
 },
 "nbformat": 4,
 "nbformat_minor": 5
}
