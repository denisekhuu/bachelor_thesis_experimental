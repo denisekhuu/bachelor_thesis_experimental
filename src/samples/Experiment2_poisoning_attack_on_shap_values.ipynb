{
 "cells": [
  {
   "cell_type": "markdown",
   "id": "d9e64d47-f232-4dc4-b7cb-a5589d56a5e8",
   "metadata": {},
   "source": [
    "# Experiment 2: SHAP values in different poisoning percentages"
   ]
  },
  {
   "cell_type": "markdown",
   "id": "59eafe75-6bc1-48df-83da-cb2bef3fcef8",
   "metadata": {},
   "source": [
    "This experiment should visualize the effect of label flipping on SHAP values.\n",
    "\n",
    "Experimental Setup: \n",
    "* number of clients: (1, 100, 200)\n",
    "* dataset size respectively: (60000, 600, 300)\n",
    "* percentage (0, 0.1, 0.2, 0.25, 0.3, 0.4, 0.425, 0.45, 0.475, 0.5, 0.6, 1)"
   ]
  },
  {
   "cell_type": "code",
   "execution_count": 1,
   "id": "ed1e8edc-57d3-44ed-9b8d-1de166f7d8de",
   "metadata": {},
   "outputs": [],
   "source": [
    "from federated_learning.utils import SHAPUtil\n",
    "from federated_learning import ClientPlane, Configuration"
   ]
  },
  {
   "cell_type": "code",
   "execution_count": 2,
   "id": "866a158d-a3df-46db-9c20-118b6d3a828b",
   "metadata": {},
   "outputs": [],
   "source": [
    "class ObserverConfiguration():\n",
    "    experiment_type = \"data_poisoning_shap\"\n",
    "    experiment_id = 0\n",
    "    test = False\n",
    "    dataset_type = \"MNIST\"\n",
    "    # Client Configurations \n",
    "    client_name = \"client\"\n",
    "    client_type = \"client\""
   ]
  },
  {
   "cell_type": "code",
   "execution_count": 3,
   "id": "f9b41e47-0969-489b-8133-f6e72e2a6c83",
   "metadata": {},
   "outputs": [
    {
     "name": "stdout",
     "output_type": "stream",
     "text": [
      "MNIST training data loaded.\n",
      "MNIST test data loaded.\n"
     ]
    }
   ],
   "source": [
    "config = Configuration()\n",
    "data = config.DATASET(config)\n",
    "shap_util = SHAPUtil(data.test_dataloader)\n",
    "observer_config = ObserverConfiguration()"
   ]
  },
  {
   "cell_type": "code",
   "execution_count": null,
   "id": "6a4ee406-5f38-4c88-943a-cf03838134f6",
   "metadata": {},
   "outputs": [],
   "source": [
    "for i in range(10, 20, 1):\n",
    "    observer_config.experiment_id = i\n",
    "    for number_client in [1, 200]:\n",
    "        config.NUMBER_OF_CLIENTS = number_client\n",
    "        client_plane = ClientPlane(config, observer_config, data, shap_util)\n",
    "        for percentage in [0, 0.1, 0.2, 0.25, 0.3, 0.4, 0.425, 0.45, 0.475, 0.5, 0.6, 1]:\n",
    "            config.DATA_POISONING_PERCENTAGE = percentage\n",
    "            client_plane.update_config(config, observer_config)\n",
    "            client_plane.poison_clients()\n",
    "            client_plane.clients[0].test()\n",
    "            for epoch in range(1, config.N_EPOCHS + 1):\n",
    "                client_plane.clients[0].train(epoch)\n",
    "                client_plane.clients[0].test()\n",
    "            client_plane.clients[0].push_metrics()\n",
    "            client_plane.reset_client_nets()\n",
    "            client_plane.reset_poisoning_attack()"
   ]
  },
  {
   "cell_type": "code",
   "execution_count": null,
   "id": "a9861f95-883e-41b8-8051-0ee031879a10",
   "metadata": {},
   "outputs": [],
   "source": []
  }
 ],
 "metadata": {
  "kernelspec": {
   "display_name": "Python 3 (ipykernel)",
   "language": "python",
   "name": "python3"
  },
  "language_info": {
   "codemirror_mode": {
    "name": "ipython",
    "version": 3
   },
   "file_extension": ".py",
   "mimetype": "text/x-python",
   "name": "python",
   "nbconvert_exporter": "python",
   "pygments_lexer": "ipython3",
   "version": "3.9.12"
  }
 },
 "nbformat": 4,
 "nbformat_minor": 5
}
