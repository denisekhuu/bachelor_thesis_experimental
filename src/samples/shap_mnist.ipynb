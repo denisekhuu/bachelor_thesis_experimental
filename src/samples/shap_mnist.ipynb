{
 "cells": [
  {
   "cell_type": "code",
   "execution_count": 1,
   "id": "f79d1e08-00ec-406e-88c6-2ac6a6d0fc54",
   "metadata": {},
   "outputs": [],
   "source": [
    "from federated_learning import Configuration\n",
    "from federated_learning import LocalEnvironment"
   ]
  },
  {
   "cell_type": "code",
   "execution_count": null,
   "id": "279b30b1-b2c1-47c1-b0c4-caeb17355a59",
   "metadata": {},
   "outputs": [],
   "source": [
    "%load_ext autoreload\n",
    "%autoreload 2"
   ]
  },
  {
   "cell_type": "code",
   "execution_count": 3,
   "id": "b2e30420-f370-40cc-befb-a4f1e58029e1",
   "metadata": {},
   "outputs": [],
   "source": [
    "import torch\n",
    "from torchvision import datasets, transforms\n",
    "BATCH_SIZE = 128\n",
    "test_loader = torch.utils.data.DataLoader(\n",
    "    datasets.MNIST('data/mnist', train=False, transform=transforms.Compose([\n",
    "                       transforms.ToTensor()\n",
    "                   ])),\n",
    "    batch_size=BATCH_SIZE, shuffle=True)"
   ]
  },
  {
   "cell_type": "code",
   "execution_count": 4,
   "id": "38661561-2bcc-4fb7-a69b-a68ec6499727",
   "metadata": {},
   "outputs": [
    {
     "name": "stdout",
     "output_type": "stream",
     "text": [
      "MNIST training data loaded.\n",
      "MNIST test data loaded.\n",
      "Create Clients\n"
     ]
    },
    {
     "ename": "NameError",
     "evalue": "name 'Client' is not defined",
     "output_type": "error",
     "traceback": [
      "\u001b[0;31m---------------------------------------------------------------------------\u001b[0m",
      "\u001b[0;31mNameError\u001b[0m                                 Traceback (most recent call last)",
      "Input \u001b[0;32mIn [4]\u001b[0m, in \u001b[0;36m<cell line: 3>\u001b[0;34m()\u001b[0m\n\u001b[1;32m      1\u001b[0m config \u001b[38;5;241m=\u001b[39m Configuration()\n\u001b[1;32m      2\u001b[0m data \u001b[38;5;241m=\u001b[39m config\u001b[38;5;241m.\u001b[39mDATASET(config)\n\u001b[0;32m----> 3\u001b[0m sim_env \u001b[38;5;241m=\u001b[39m \u001b[43mLocalEnvironment\u001b[49m\u001b[43m(\u001b[49m\u001b[43mconfig\u001b[49m\u001b[43m,\u001b[49m\u001b[43m \u001b[49m\u001b[43mdata\u001b[49m\u001b[43m)\u001b[49m\n\u001b[1;32m      4\u001b[0m sim_env\u001b[38;5;241m.\u001b[39mpoison_clients()\n",
      "File \u001b[0;32m~/work/samples/federated_learning/local_environment.py:20\u001b[0m, in \u001b[0;36mLocalEnvironment.__init__\u001b[0;34m(self, configs, data)\u001b[0m\n\u001b[1;32m     18\u001b[0m \u001b[38;5;28mself\u001b[39m\u001b[38;5;241m.\u001b[39mtrain_dataloader \u001b[38;5;241m=\u001b[39m data\u001b[38;5;241m.\u001b[39mtrain_dataloader\n\u001b[1;32m     19\u001b[0m \u001b[38;5;28mself\u001b[39m\u001b[38;5;241m.\u001b[39mtest_dataloader \u001b[38;5;241m=\u001b[39m data\u001b[38;5;241m.\u001b[39mtest_dataloader\n\u001b[0;32m---> 20\u001b[0m \u001b[38;5;28mself\u001b[39m\u001b[38;5;241m.\u001b[39mclients \u001b[38;5;241m=\u001b[39m \u001b[38;5;28;43mself\u001b[39;49m\u001b[38;5;241;43m.\u001b[39;49m\u001b[43mcreate_clients\u001b[49m\u001b[43m(\u001b[49m\u001b[43m)\u001b[49m\n",
      "File \u001b[0;32m~/work/samples/federated_learning/local_environment.py:52\u001b[0m, in \u001b[0;36mLocalEnvironment.create_clients\u001b[0;34m(self)\u001b[0m\n\u001b[1;32m     50\u001b[0m distributed_dataloaders \u001b[38;5;241m=\u001b[39m \u001b[38;5;28mself\u001b[39m\u001b[38;5;241m.\u001b[39mcreate_distributed_dataloaders(distributed_datasets)\n\u001b[1;32m     51\u001b[0m \u001b[38;5;28mprint\u001b[39m(\u001b[38;5;124m\"\u001b[39m\u001b[38;5;124mCreate Clients\u001b[39m\u001b[38;5;124m\"\u001b[39m)\n\u001b[0;32m---> 52\u001b[0m \u001b[38;5;28;01mreturn\u001b[39;00m [Client(\u001b[38;5;28mself\u001b[39m\u001b[38;5;241m.\u001b[39mconfigs, dataloader, \u001b[38;5;28mself\u001b[39m\u001b[38;5;241m.\u001b[39mtest_dataloader) \u001b[38;5;28;01mfor\u001b[39;00m dataloader \u001b[38;5;129;01min\u001b[39;00m distributed_dataloaders]\n\u001b[1;32m     53\u001b[0m \u001b[38;5;28mprint\u001b[39m(\u001b[38;5;28mself\u001b[39m\u001b[38;5;241m.\u001b[39mclients[\u001b[38;5;241m0\u001b[39m])\n",
      "File \u001b[0;32m~/work/samples/federated_learning/local_environment.py:52\u001b[0m, in \u001b[0;36m<listcomp>\u001b[0;34m(.0)\u001b[0m\n\u001b[1;32m     50\u001b[0m distributed_dataloaders \u001b[38;5;241m=\u001b[39m \u001b[38;5;28mself\u001b[39m\u001b[38;5;241m.\u001b[39mcreate_distributed_dataloaders(distributed_datasets)\n\u001b[1;32m     51\u001b[0m \u001b[38;5;28mprint\u001b[39m(\u001b[38;5;124m\"\u001b[39m\u001b[38;5;124mCreate Clients\u001b[39m\u001b[38;5;124m\"\u001b[39m)\n\u001b[0;32m---> 52\u001b[0m \u001b[38;5;28;01mreturn\u001b[39;00m [\u001b[43mClient\u001b[49m(\u001b[38;5;28mself\u001b[39m\u001b[38;5;241m.\u001b[39mconfigs, dataloader, \u001b[38;5;28mself\u001b[39m\u001b[38;5;241m.\u001b[39mtest_dataloader) \u001b[38;5;28;01mfor\u001b[39;00m dataloader \u001b[38;5;129;01min\u001b[39;00m distributed_dataloaders]\n\u001b[1;32m     53\u001b[0m \u001b[38;5;28mprint\u001b[39m(\u001b[38;5;28mself\u001b[39m\u001b[38;5;241m.\u001b[39mclients[\u001b[38;5;241m0\u001b[39m])\n",
      "\u001b[0;31mNameError\u001b[0m: name 'Client' is not defined"
     ]
    }
   ],
   "source": [
    "config = Configuration()\n",
    "data = config.DATASET(config)\n",
    "sim_env = LocalEnvironment(config, data)\n",
    "sim_env.poison_clients()"
   ]
  },
  {
   "cell_type": "code",
   "execution_count": null,
   "id": "51586810-7b55-4cc3-8b3e-f2c3e82366b1",
   "metadata": {},
   "outputs": [],
   "source": [
    "# print(torch.where(sim_env.clients[0].train_dataloader.dataset.dataset.targets == 5, 3, sim_env.clients[0].train_dataloader.dataset.dataset.targets))"
   ]
  },
  {
   "cell_type": "code",
   "execution_count": null,
   "id": "feddb79f-ef4b-43b2-9064-ee096c7b04d5",
   "metadata": {},
   "outputs": [],
   "source": [
    "sim_env.clients[0].test()\n",
    "for epoch in range(1, config.N_EPOCHS + 1):\n",
    "    sim_env.clients[0].train(epoch)\n",
    "    sim_env.clients[0].test()"
   ]
  },
  {
   "cell_type": "code",
   "execution_count": null,
   "id": "66983778-d4b8-4549-a192-7a844d4a1652",
   "metadata": {},
   "outputs": [],
   "source": [
    "import numpy as np\n",
    "import shap\n",
    "examples = enumerate(test_loader)\n",
    "batch_idx, (images, example_targets) = next(examples)\n",
    "first_index=[]\n",
    "for i in range(10):\n",
    "    try:\n",
    "        index = torch.where(example_targets==i)\n",
    "        first_index.append(index[0][-1].item())\n",
    "    except: \n",
    "        print(\"does not exist\")\n",
    "print(first_index)\n",
    "\n",
    "background = images[:50]\n",
    "test_images = images[first_index]\n",
    "\n",
    "e = shap.DeepExplainer(sim_env.clients[0].net, background)\n",
    "shap_values = e.shap_values(test_images)"
   ]
  },
  {
   "cell_type": "code",
   "execution_count": null,
   "id": "69a222ac-38a0-4ffa-bfee-717bea50b16a",
   "metadata": {},
   "outputs": [],
   "source": [
    "import matplotlib.pyplot as plt\n",
    "\n",
    "fig = plt.figure()\n",
    "for i, idx in enumerate(first_index):\n",
    "    plt.subplot(3,4,i+1)\n",
    "    plt.tight_layout()\n",
    "    plt.imshow(images[idx][0], cmap='gray', interpolation='none')\n",
    "    plt.title(\"Ground Truth: {}\".format(example_targets[idx]))\n",
    "    plt.xticks([])\n",
    "    plt.yticks([])\n",
    "plt.show()"
   ]
  },
  {
   "cell_type": "code",
   "execution_count": null,
   "id": "0a837010-288e-4fc9-a0f4-6e21d8e70278",
   "metadata": {},
   "outputs": [],
   "source": [
    "output = sim_env.clients[0].net(images[first_index])\n",
    "pred = output.data.max(1, keepdim=True)[1]\n",
    "print(pred)"
   ]
  },
  {
   "cell_type": "code",
   "execution_count": null,
   "id": "8e4b228e-926b-4157-8b61-46730f9119c6",
   "metadata": {},
   "outputs": [],
   "source": [
    "shap_numpy = [np.swapaxes(np.swapaxes(s, 1, -1), 1, 2) for s in shap_values]\n",
    "test_numpy = np.swapaxes(np.swapaxes(test_images.numpy(), 1, -1), 1, 2)"
   ]
  },
  {
   "cell_type": "code",
   "execution_count": null,
   "id": "47a22766-4c0b-4f42-b049-e9752ccfd6f1",
   "metadata": {},
   "outputs": [],
   "source": [
    "shap.image_plot(shap_numpy, -test_numpy)"
   ]
  },
  {
   "cell_type": "code",
   "execution_count": null,
   "id": "3dac9d43-2ea7-4529-82bc-1cb1622985d6",
   "metadata": {},
   "outputs": [],
   "source": []
  },
  {
   "cell_type": "code",
   "execution_count": null,
   "id": "2cd3619d-0695-462b-bd33-3723c5029d1a",
   "metadata": {},
   "outputs": [],
   "source": []
  }
 ],
 "metadata": {
  "kernelspec": {
   "display_name": "Python 3 (ipykernel)",
   "language": "python",
   "name": "python3"
  },
  "language_info": {
   "codemirror_mode": {
    "name": "ipython",
    "version": 3
   },
   "file_extension": ".py",
   "mimetype": "text/x-python",
   "name": "python",
   "nbconvert_exporter": "python",
   "pygments_lexer": "ipython3",
   "version": "3.9.12"
  }
 },
 "nbformat": 4,
 "nbformat_minor": 5
}
