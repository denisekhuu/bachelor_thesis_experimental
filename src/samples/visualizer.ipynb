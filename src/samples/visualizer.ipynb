{
 "cells": [
  {
   "cell_type": "code",
   "execution_count": 1,
   "id": "3cd970ef-a100-441b-993b-5ffc0866af2e",
   "metadata": {},
   "outputs": [],
   "source": [
    "from federated_learning.utils import SHAPUtil, experiment_util\n",
    "from federated_learning import ClientPlane, Configuration, ObserverConfiguration\n",
    "from federated_learning.server import Server\n",
    "from datetime import datetime\n",
    "import random"
   ]
  },
  {
   "cell_type": "code",
   "execution_count": null,
   "id": "1f2dd3aa-ce9c-45ae-b49b-a98b9ae1a42e",
   "metadata": {
    "tags": []
   },
   "outputs": [],
   "source": [
    "import shap\n",
    "import numpy as np\n",
    "class Visualizer():\n",
    "    \n",
    "    def __init__(self, shap_util):\n",
    "        self.shap_util = shap_util\n",
    "        \n",
    "    def plot_shap_images(shap_indices, shap_images):\n",
    "        \"\"\"\n",
    "        Plot sample images and their target labels\n",
    "        \"\"\"\n",
    "        import matplotlib.pyplot as plt\n",
    "        fig = plt.figure()\n",
    "        for i, idx in enumerate(shap_indices):\n",
    "            plt.subplot(3,4,i+1)\n",
    "            plt.tight_layout()\n",
    "            plt.imshow(shap_images[idx][0], cmap='gray', interpolation='none')\n",
    "            plt.title(\"Ground Truth: {}\".format(self.targets[idx]))\n",
    "            plt.xticks([])\n",
    "            plt.yticks([])\n",
    "        plt.show()\n",
    "        \n",
    "    def plot_shap_values(self, shap_values, file=None):\n",
    "        \"\"\"\n",
    "        Plot SHAP values and image\n",
    "        :param shap_values: name of file\n",
    "        :type shap_values: Tensor\n",
    "        :param file: name of file\n",
    "        :type file: os.path\n",
    "        \"\"\"\n",
    "        import matplotlib.pyplot as plt\n",
    "        shap_numpy = [np.swapaxes(np.swapaxes(s, 1, -1), 1, 2) for s in shap_values]\n",
    "        test_numpy = np.swapaxes(np.swapaxes(self.shap_util.shap_images.numpy(), 1, -1), 1, 2)\n",
    "        if file:\n",
    "            shap.image_plot(shap_numpy*1000, -test_numpy, show=False)\n",
    "            if not os.path.exists(os.path.dirname(file)):\n",
    "                os.makedirs(os.path.dirname(file))\n",
    "            plt.savefig(file)\n",
    "        else: \n",
    "            shap.image_plot(shap_numpy, -test_numpy)\n",
    "            \n",
    "    def compare_shap_values(self, shap_values, server_shap, file=None):\n",
    "        \"\"\"\n",
    "        Plot SHAP values and image\n",
    "        :param shap_values: name of file\n",
    "        :type shap_values: Tensor\n",
    "        :param file: name of file\n",
    "        :type file: os.path\n",
    "        \"\"\"\n",
    "        import matplotlib.pyplot as plt\n",
    "        for row_idx, row in enumerate(shap_values):\n",
    "            for img_idx, image in enumerate(row):\n",
    "                shap_values[row_idx][img_idx]= np.subtract(image, server_shap[row_idx][img_idx])\n",
    "        shap_numpy = [np.swapaxes(np.swapaxes(s, 1, -1), 1, 2) for s in shap_values]\n",
    "        test_numpy = np.swapaxes(np.swapaxes(self.shap_util.shap_images.numpy(), 1, -1), 1, 2)\n",
    "        if file:\n",
    "            shap.image_plot(shap_numpy, -test_numpy, show=False)\n",
    "            if not os.path.exists(os.path.dirname(file)):\n",
    "                os.makedirs(os.path.dirname(file))\n",
    "            plt.savefig(file)\n",
    "        else: \n",
    "            shap.image_plot(shap_numpy, -test_numpy)"
   ]
  },
  {
   "cell_type": "code",
   "execution_count": null,
   "id": "bfcb3382-d87c-409a-b8fb-699a53d32c5a",
   "metadata": {},
   "outputs": [],
   "source": [
    "class SHAPStats():\n",
    "    "
   ]
  },
  {
   "cell_type": "markdown",
   "id": "61c85f51-2d2d-4199-bf96-97b61c3a462c",
   "metadata": {},
   "source": [
    "## Configurations"
   ]
  },
  {
   "cell_type": "code",
   "execution_count": null,
   "id": "0e5726a0-45ec-41cc-aa85-1242984fddce",
   "metadata": {},
   "outputs": [],
   "source": [
    "config = Configuration()\n",
    "config.FROM_LABEL = 5\n",
    "config.TO_LABEL = 4\n",
    "config.POISONED_CLIENTS = 10\n",
    "data = config.DATASET(config)\n",
    "shap_util = SHAPUtil(data.test_dataloader)\n",
    "observer_config = ObserverConfiguration()\n",
    "visualizer = Visualizer(shap_util)"
   ]
  },
  {
   "cell_type": "markdown",
   "id": "f1675afc-7902-42b1-8d8c-d63f277a6d02",
   "metadata": {},
   "source": [
    "## Experimental Setup"
   ]
  },
  {
   "cell_type": "code",
   "execution_count": null,
   "id": "d83c37ae-601e-421a-a0f7-3947c7f37a79",
   "metadata": {},
   "outputs": [],
   "source": [
    "server = Server(config, observer_config,data.train_dataloader, data.test_dataloader, shap_util)\n",
    "client_plane = ClientPlane(config, observer_config, data, shap_util)\n",
    "client_plane.poison_clients()\n",
    "clean_idx = experiment_util.select_random_clean(10, config, client_plane)\n",
    "poisoned_idx = experiment_util.select_poisoned(10, client_plane)\n",
    "print(clean_idx, poisoned_idx)"
   ]
  },
  {
   "cell_type": "code",
   "execution_count": null,
   "id": "fc4eae2c-a30a-4407-9c44-4533aa635eab",
   "metadata": {},
   "outputs": [],
   "source": [
    "clean_idx = experiment_util.select_random_clean(10, config, client_plane)\n",
    "poisoned_idx = experiment_util.select_poisoned(10, client_plane)\n",
    "print(clean_idx, poisoned_idx)\n"
   ]
  },
  {
   "cell_type": "markdown",
   "id": "78097ba0-ee32-4f32-a789-cb8a1e557d2f",
   "metadata": {},
   "source": [
    "## Experiment"
   ]
  },
  {
   "cell_type": "code",
   "execution_count": null,
   "id": "4ddc69c5-a6e1-4f83-b691-a7fa1511a74c",
   "metadata": {
    "scrolled": true,
    "tags": []
   },
   "outputs": [],
   "source": [
    "for i in range(20):\n",
    "    experiment_util.run_round(i+1, client_plane, server)\n",
    "for i in range(1):\n",
    "    experiment_util.run_round(i+1, client_plane, server)\n",
    "    server.test()\n",
    "    print(\"Server {}\".format(i+1))\n",
    "    server_shap = server.get_shap_values()\n",
    "    visualizer.plot_shap_values(server_shap)\n",
    "    client_plane.update_clients(server.get_nn_parameters())\n",
    "    for j in range(10):\n",
    "        print(\"Client Clean {}\".format(i+1))\n",
    "        client_plane.clients[clean_idx[j]].train(i+1)\n",
    "        client_shap = client_plane.clients[clean_idx[j]].get_shap_values()\n",
    "        visualizer.compare_shap_values(client_shap, server_shap)\n",
    "    for j in range(10):\n",
    "        print(\"Client Poisoned {}\".format(i+1))\n",
    "        client_plane.clients[poisoned_idx[j]].train(i+1)\n",
    "        client_shap = client_plane.clients[poisoned_idx[j]].get_shap_values()\n",
    "        visualizer.compare_shap_values(client_shap, server_shap)\n",
    "    print(\"Round {} finished\".format(i+1))"
   ]
  },
  {
   "cell_type": "code",
   "execution_count": null,
   "id": "877294c6-0962-43b9-b823-05bc5b2b92b2",
   "metadata": {},
   "outputs": [],
   "source": []
  },
  {
   "cell_type": "code",
   "execution_count": null,
   "id": "8cdcbe78-7dea-4623-b031-e40d7a0b4c55",
   "metadata": {},
   "outputs": [],
   "source": [
    "for i in range(10):\n",
    "    experiment_util.run_round(i+1, client_plane, server)"
   ]
  },
  {
   "cell_type": "code",
   "execution_count": null,
   "id": "9f043a0e-be83-4a50-abcc-c9a84de6e5fd",
   "metadata": {},
   "outputs": [],
   "source": [
    "server_shap = server.get_shap_values()\n",
    "client_plane.update_clients(server.get_nn_parameters())\n",
    "for j in range(1):\n",
    "    print(\"Client Clean {}\".format(10))\n",
    "    client_plane.clients[clean_idx[j]].train(10)\n",
    "    client_shap = client_plane.clients[clean_idx[j]].get_shap_values()\n",
    "    visualizer.compare_shap_values(client_shap, server_shap)"
   ]
  }
 ],
 "metadata": {
  "kernelspec": {
   "display_name": "Python 3 (ipykernel)",
   "language": "python",
   "name": "python3"
  },
  "language_info": {
   "codemirror_mode": {
    "name": "ipython",
    "version": 3
   },
   "file_extension": ".py",
   "mimetype": "text/x-python",
   "name": "python",
   "nbconvert_exporter": "python",
   "pygments_lexer": "ipython3",
   "version": "3.9.12"
  }
 },
 "nbformat": 4,
 "nbformat_minor": 5
}
