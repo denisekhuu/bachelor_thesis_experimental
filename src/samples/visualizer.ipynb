{
 "cells": [
  {
   "cell_type": "code",
   "execution_count": 1,
   "id": "3cd970ef-a100-441b-993b-5ffc0866af2e",
   "metadata": {},
   "outputs": [],
   "source": [
    "from federated_learning.utils import SHAPUtil, experiment_util\n",
    "from federated_learning import ClientPlane, Configuration, ObserverConfiguration\n",
    "from federated_learning.server import Server\n",
    "from datetime import datetime\n",
    "import random"
   ]
  },
  {
   "cell_type": "code",
   "execution_count": 2,
   "id": "1f2dd3aa-ce9c-45ae-b49b-a98b9ae1a42e",
   "metadata": {},
   "outputs": [],
   "source": [
    "import shap\n",
    "class Visualizer():\n",
    "    def plot_shap_images(shap_indices, shap_images):\n",
    "        \"\"\"\n",
    "        Plot sample images and their target labels\n",
    "        \"\"\"\n",
    "        import matplotlib.pyplot as plt\n",
    "        fig = plt.figure()\n",
    "        for i, idx in enumerate(shap_indices):\n",
    "            plt.subplot(3,4,i+1)\n",
    "            plt.tight_layout()\n",
    "            plt.imshow(shap_images[idx][0], cmap='gray', interpolation='none')\n",
    "            plt.title(\"Ground Truth: {}\".format(self.targets[idx]))\n",
    "            plt.xticks([])\n",
    "            plt.yticks([])\n",
    "        plt.show()\n",
    "        \n",
    "    def plot_shap_values(self,shap_images, shap_values, file=None):\n",
    "        \"\"\"\n",
    "        Plot SHAP values and image\n",
    "        :param shap_values: name of file\n",
    "        :type shap_values: Tensor\n",
    "        :param file: name of file\n",
    "        :type file: os.path\n",
    "        \"\"\"\n",
    "        import matplotlib.pyplot as plt\n",
    "        shap_numpy = [np.swapaxes(np.swapaxes(s, 1, -1), 1, 2) for s in shap_values]\n",
    "        test_numpy = np.swapaxes(np.swapaxes(shap_images.numpy(), 1, -1), 1, 2)\n",
    "        if file:\n",
    "            shap.image_plot(shap_numpy, -test_numpy, show=False)\n",
    "            if not os.path.exists(os.path.dirname(file)):\n",
    "                os.makedirs(os.path.dirname(file))\n",
    "            plt.savefig(file)\n",
    "        else: \n",
    "            shap.image_plot(shap_numpy, -test_numpy)"
   ]
  },
  {
   "cell_type": "markdown",
   "id": "61c85f51-2d2d-4199-bf96-97b61c3a462c",
   "metadata": {},
   "source": [
    "## Configurations"
   ]
  },
  {
   "cell_type": "code",
   "execution_count": 3,
   "id": "0e5726a0-45ec-41cc-aa85-1242984fddce",
   "metadata": {},
   "outputs": [
    {
     "name": "stdout",
     "output_type": "stream",
     "text": [
      "MNIST training data loaded.\n",
      "MNIST test data loaded.\n"
     ]
    }
   ],
   "source": [
    "config = Configuration()\n",
    "config.FROM_LABEL = 5\n",
    "config.TO_LABEL = 4\n",
    "config.POISONED_CLIENTS = 10\n",
    "data = config.DATASET(config)\n",
    "shap_util = SHAPUtil(data.test_dataloader)\n",
    "observer_config = ObserverConfiguration()"
   ]
  },
  {
   "cell_type": "markdown",
   "id": "f1675afc-7902-42b1-8d8c-d63f277a6d02",
   "metadata": {},
   "source": [
    "## Experimental Setup"
   ]
  },
  {
   "cell_type": "code",
   "execution_count": 4,
   "id": "d83c37ae-601e-421a-a0f7-3947c7f37a79",
   "metadata": {},
   "outputs": [
    {
     "name": "stdout",
     "output_type": "stream",
     "text": [
      "Load model successfully\n",
      "Create 200 clients with dataset of size 300\n",
      "Poison 10/200 clients\n",
      "Flip 100.0% of the 5 labels to 4\n",
      "[69, 193, 0, 159, 113, 74, 133, 66, 89, 58] [135 197  40 108 171  65  39 147 116  90]\n"
     ]
    }
   ],
   "source": [
    "server = Server(config, observer_config, data.test_dataloader, shap_util)\n",
    "client_plane = ClientPlane(config, observer_config, data, shap_util)\n",
    "client_plane.poison_clients()\n",
    "clean_idx = experiment_util.select_random_clean(1, config, client_plane)\n",
    "poisoned_idx = experiment_util.select_poisoned(1, client_plane)\n",
    "print(clean_idx, poisoned_idx)"
   ]
  },
  {
   "cell_type": "markdown",
   "id": "78097ba0-ee32-4f32-a789-cb8a1e557d2f",
   "metadata": {},
   "source": [
    "## Experiment"
   ]
  },
  {
   "cell_type": "code",
   "execution_count": null,
   "id": "4ddc69c5-a6e1-4f83-b691-a7fa1511a74c",
   "metadata": {},
   "outputs": [],
   "source": [
    "for i in range(25):\n",
    "    experiment_util.run_round(i+1, client_plane, server)\n",
    "    if (i+1)%5 == 0:\n",
    "        server.test()\n",
    "        client_plane.update_clients(server.get_nn_parameters())\n",
    "        for i in range(1):\n",
    "            experiment_util.train_client(clean_idx[i], i+1, client_plane)\n",
    "            experiment_util.train_client(poisoned_idx[i], i+1, client_plane)\n",
    "    print(\"Round {} finished\".format(i+1))"
   ]
  }
 ],
 "metadata": {
  "kernelspec": {
   "display_name": "Python 3 (ipykernel)",
   "language": "python",
   "name": "python3"
  },
  "language_info": {
   "codemirror_mode": {
    "name": "ipython",
    "version": 3
   },
   "file_extension": ".py",
   "mimetype": "text/x-python",
   "name": "python",
   "nbconvert_exporter": "python",
   "pygments_lexer": "ipython3",
   "version": "3.9.12"
  }
 },
 "nbformat": 4,
 "nbformat_minor": 5
}
