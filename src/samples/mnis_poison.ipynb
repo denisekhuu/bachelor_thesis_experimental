{
 "cells": [
  {
   "cell_type": "code",
   "execution_count": 1,
   "id": "d91c5a86-2173-4938-b072-60b6b688e75a",
   "metadata": {},
   "outputs": [],
   "source": [
    "from federated_learning.dataloader import MNISTDataloader\n",
    "from federated_learning.configuration import Configuration\n",
    "import torch \n"
   ]
  },
  {
   "cell_type": "code",
   "execution_count": 2,
   "id": "a4f3037c-68f9-4a6d-af05-97b8aba74f0d",
   "metadata": {},
   "outputs": [],
   "source": [
    "%load_ext autoreload\n",
    "%autoreload 2"
   ]
  },
  {
   "cell_type": "code",
   "execution_count": 3,
   "id": "2a6f3d4e-5db9-4b39-80ee-23b0429a2f57",
   "metadata": {},
   "outputs": [
    {
     "data": {
      "text/plain": [
       "<torch._C.Generator at 0x7fb3fc09bf90>"
      ]
     },
     "execution_count": 3,
     "metadata": {},
     "output_type": "execute_result"
    }
   ],
   "source": [
    "# Configuration \n",
    "\n",
    "n_epochs = 3\n",
    "batch_size_train = 64\n",
    "batch_size_test = 1000\n",
    "learning_rate = 0.01\n",
    "momentum = 0.5\n",
    "log_interval = 10\n",
    "\n",
    "random_seed = 1\n",
    "torch.backends.cudnn.enabled = False\n",
    "torch.manual_seed(random_seed)"
   ]
  },
  {
   "cell_type": "code",
   "execution_count": 4,
   "id": "2e6d65b2-1ccf-444b-8bd8-3646431804cf",
   "metadata": {},
   "outputs": [
    {
     "name": "stdout",
     "output_type": "stream",
     "text": [
      "MNIST training loader loaded.\n",
      "MNIST test loader loaded.\n"
     ]
    },
    {
     "data": {
      "text/plain": [
       "torch.Size([64, 1, 28, 28])"
      ]
     },
     "execution_count": 4,
     "metadata": {},
     "output_type": "execute_result"
    }
   ],
   "source": [
    "config = Configuration()\n",
    "mnist = MNISTDataloader(config)\n",
    "examples = enumerate(mnist.train_dataloader)\n",
    "batch_idx, (example_data, example_targets) = next(examples)\n",
    "example_data.shape\n"
   ]
  },
  {
   "cell_type": "code",
   "execution_count": 5,
   "id": "cfbc5dde-946d-4eb7-912c-f795032455f5",
   "metadata": {},
   "outputs": [
    {
     "data": {
      "image/png": "[encoded data removed]",
      "text/plain": [
       "<Figure size 432x288 with 6 Axes>"
      ]
     },
     "metadata": {},
     "output_type": "display_data"
    }
   ],
   "source": [
    "import matplotlib.pyplot as plt\n",
    "\n",
    "fig = plt.figure()\n",
    "for i in range(6):\n",
    "    plt.subplot(2,3,i+1)\n",
    "    plt.tight_layout()\n",
    "    plt.imshow(example_data[i][0], cmap='gray', interpolation='none')\n",
    "    plt.title(\"Ground Truth: {}\".format(example_targets[i]))\n",
    "    plt.xticks([])\n",
    "    plt.yticks([])"
   ]
  },
  {
   "cell_type": "markdown",
   "id": "21b69606-ee6b-458e-83db-fcb2285c047c",
   "metadata": {},
   "source": [
    "# Poison Data\n"
   ]
  },
  {
   "cell_type": "code",
   "execution_count": 6,
   "id": "969199f5-6296-4b4b-9ba1-0fd83aaab4de",
   "metadata": {},
   "outputs": [
    {
     "name": "stderr",
     "output_type": "stream",
     "text": [
      "/opt/conda/lib/python3.9/site-packages/torchvision/datasets/mnist.py:65: UserWarning: train_labels has been renamed targets\n",
      "  warnings.warn(\"train_labels has been renamed targets\")\n"
     ]
    }
   ],
   "source": [
    "import numpy as np\n",
    "from torch.utils.data import DataLoader, TensorDataset\n",
    "from torch import Tensor\n",
    "\n",
    "def poison_data(): \n",
    "    data = mnist.train_dataloader.dataset.data.numpy()\n",
    "    labels = mnist.train_dataloader.dataset.train_labels.numpy()\n",
    "    #labels = np.where(labels==4, 5, labels) \n",
    "    dataset = TensorDataset(Tensor(data).unsqueeze(1), Tensor(labels) )\n",
    "    return torch.utils.data.DataLoader(dataset, shuffle=True, batch_size=batch_size_train)\n",
    "\n",
    "def poison_test_data(): \n",
    "    data = mnist.test_dataloader.dataset.data.numpy()\n",
    "    labels = mnist.test_dataloader.dataset.train_labels.numpy()\n",
    "    dataset = TensorDataset(Tensor(data).unsqueeze(1), Tensor(labels) )\n",
    "    return torch.utils.data.DataLoader(dataset, shuffle=True, batch_size=batch_size_train)\n",
    "\n",
    "poison_loader = poison_data()\n",
    "poison_test_loader = poison_test_data()"
   ]
  },
  {
   "cell_type": "code",
   "execution_count": 7,
   "id": "f2120803-f55d-41b4-a1df-25bc8dd44e0a",
   "metadata": {},
   "outputs": [
    {
     "data": {
      "text/plain": [
       "torch.Size([64, 1, 28, 28])"
      ]
     },
     "execution_count": 7,
     "metadata": {},
     "output_type": "execute_result"
    }
   ],
   "source": [
    "examples = enumerate(poison_loader)\n",
    "batch_idx, (example_data, example_targets) = next(examples)\n",
    "example_data.shape\n"
   ]
  },
  {
   "cell_type": "code",
   "execution_count": 8,
   "id": "17cc91e6-9959-44b3-a207-3753a61d519e",
   "metadata": {},
   "outputs": [],
   "source": [
    "import matplotlib.pyplot as plt\n",
    "#for batch_ndx, sample in enumerate(poison_loader):\n",
    "#    print(sample)"
   ]
  },
  {
   "cell_type": "code",
   "execution_count": 9,
   "id": "566b834e-79b9-4d25-bd55-87b3e18c0e30",
   "metadata": {},
   "outputs": [],
   "source": [
    "# SHAP index\n",
    "#first_index = []\n",
    "##for i in range(10):\n",
    "#    index = np.where(example_targets==i)\n",
    "#    first_index.append(index[0][0])\n",
    "#print(first_index)"
   ]
  },
  {
   "cell_type": "code",
   "execution_count": 10,
   "id": "69e3b551-69d2-440d-b28c-270733e2add2",
   "metadata": {},
   "outputs": [
    {
     "data": {
      "image/png": "[encoded data removed]",
      "text/plain": [
       "<Figure size 432x288 with 25 Axes>"
      ]
     },
     "metadata": {},
     "output_type": "display_data"
    }
   ],
   "source": [
    "import matplotlib.pyplot as plt\n",
    "\n",
    "\n",
    "fig = plt.figure()\n",
    "for i in range(25):\n",
    "    plt.subplot(5,5,i+1)\n",
    "    plt.tight_layout()\n",
    "    plt.imshow(example_data[i][0], cmap='gray', interpolation='none')\n",
    "    plt.title(\"{}\".format(example_targets[i]))\n",
    "    plt.xticks([])\n",
    "    plt.yticks([])"
   ]
  },
  {
   "cell_type": "markdown",
   "id": "72b0095f-268d-4547-a439-0db4b9dd722c",
   "metadata": {},
   "source": [
    "# Train Model"
   ]
  },
  {
   "cell_type": "markdown",
   "id": "dbdcea48-257a-4b31-8f64-85c8f56fa051",
   "metadata": {},
   "source": [
    "## Network"
   ]
  },
  {
   "cell_type": "code",
   "execution_count": 11,
   "id": "93547285-24f5-4945-91da-19242a7e1808",
   "metadata": {},
   "outputs": [],
   "source": [
    "import torch.nn as nn\n",
    "import torch.nn.functional as F\n",
    "import torch.optim as optim"
   ]
  },
  {
   "cell_type": "code",
   "execution_count": 12,
   "id": "c0c8f6f4-dcd0-4ecf-acf3-33d05518a22a",
   "metadata": {},
   "outputs": [],
   "source": [
    "class Net(nn.Module):\n",
    "    def __init__(self):\n",
    "        super(Net, self).__init__()\n",
    "        self.conv1 = nn.Conv2d(1, 10, kernel_size=5)\n",
    "        self.conv2 = nn.Conv2d(10, 20, kernel_size=5)\n",
    "        self.conv2_drop = nn.Dropout2d()\n",
    "        self.fc1 = nn.Linear(320, 50)\n",
    "        self.fc2 = nn.Linear(50, 10)\n",
    "\n",
    "    def forward(self, x):\n",
    "        x = F.relu(F.max_pool2d(self.conv1(x), 2))\n",
    "        x = F.relu(F.max_pool2d(self.conv2_drop(self.conv2(x)), 2))\n",
    "        x = x.view(-1, 320)\n",
    "        x = F.relu(self.fc1(x))\n",
    "        x = F.dropout(x, training=self.training)\n",
    "        x = self.fc2(x)\n",
    "        return F.log_softmax(x)"
   ]
  },
  {
   "cell_type": "code",
   "execution_count": 13,
   "id": "310f1903-285c-4320-ad7c-efb84f65649c",
   "metadata": {},
   "outputs": [],
   "source": [
    "network = Net()\n",
    "optimizer = optim.SGD(network.parameters(), lr=learning_rate,\n",
    "                      momentum=momentum)\n",
    "criterion = nn.CrossEntropyLoss()"
   ]
  },
  {
   "cell_type": "code",
   "execution_count": 14,
   "id": "10292430-56cb-4518-9d0e-022c75e60d66",
   "metadata": {},
   "outputs": [],
   "source": [
    "train_losses = []\n",
    "train_counter = []\n",
    "test_losses = []\n",
    "test_counter = [i*len(poison_loader.dataset) for i in range(n_epochs)]"
   ]
  },
  {
   "cell_type": "code",
   "execution_count": 20,
   "id": "9d179f4d-4d8e-4c25-8437-591f9773fbe8",
   "metadata": {},
   "outputs": [],
   "source": [
    "# Train and Test Funktions\n",
    "def train(epoch):\n",
    "    network.train()\n",
    "    for batch_idx, (data, target) in enumerate(poison_loader):\n",
    "        optimizer.zero_grad()\n",
    "        output = network(data)\n",
    "        loss = criterion(output, target.long())\n",
    "        loss.backward()\n",
    "        optimizer.step()\n",
    "        if batch_idx % log_interval == 0:\n",
    "            print('Train Epoch: {} [{}/{} ({:.0f}%)]\\tLoss: {:.6f}'.format(epoch, batch_idx * len(data), len(poison_loader.dataset),100. * batch_idx / len(poison_loader), loss.item()))\n",
    "            train_losses.append(loss.item())\n",
    "            train_counter.append((batch_idx*64) + ((epoch-1)*len(poison_loader.dataset)))\n",
    "            torch.save(network.state_dict(), './results/model.pth')\n",
    "            torch.save(optimizer.state_dict(), './results/optimizer.pth')\n",
    "\n",
    "def test():\n",
    "    network.eval()\n",
    "    test_loss = 0\n",
    "    correct = 0\n",
    "    total = 0\n",
    "    with torch.no_grad():\n",
    "        for data, target in poison_test_loader:\n",
    "            output = network(data)\n",
    "            loss = criterion(output, target.long())\n",
    "            test_loss += loss.item()\n",
    "            pred = output.data.max(1, keepdim=True)[1]\n",
    "            correct += pred.eq(target.data.view_as(pred)).sum()\n",
    "            total += 1\n",
    "    test_loss /= total\n",
    "    test_losses.append(test_loss)\n",
    "    print('\\nTest set: Avg. loss: {:.4f}, Accuracy: {}/{} ({:.0f}%)\\n'.format(test_loss, correct, len(poison_test_loader.dataset), 100. * correct / len(poison_test_loader.dataset)))"
   ]
  },
  {
   "cell_type": "code",
   "execution_count": 21,
   "id": "cd299bbf-63fd-40af-a08e-42e931300747",
   "metadata": {},
   "outputs": [
    {
     "name": "stderr",
     "output_type": "stream",
     "text": [
      "/tmp/ipykernel_16311/161431047.py:17: UserWarning: Implicit dimension choice for log_softmax has been deprecated. Change the call to include dim=X as an argument.\n",
      "  return F.log_softmax(x)\n"
     ]
    },
    {
     "name": "stdout",
     "output_type": "stream",
     "text": [
      "\n",
      "Test set: Avg. loss: 0.1098, Accuracy: 9669/10000 (97%)\n",
      "\n",
      "Train Epoch: 1 [0/60000 (0%)]\tLoss: 0.392011\n",
      "Train Epoch: 1 [640/60000 (1%)]\tLoss: 0.490355\n",
      "Train Epoch: 1 [1280/60000 (2%)]\tLoss: 0.498950\n",
      "Train Epoch: 1 [1920/60000 (3%)]\tLoss: 0.219832\n",
      "Train Epoch: 1 [2560/60000 (4%)]\tLoss: 0.362239\n",
      "Train Epoch: 1 [3200/60000 (5%)]\tLoss: 0.365335\n",
      "Train Epoch: 1 [3840/60000 (6%)]\tLoss: 0.485063\n",
      "Train Epoch: 1 [4480/60000 (7%)]\tLoss: 0.284468\n",
      "Train Epoch: 1 [5120/60000 (9%)]\tLoss: 0.329052\n",
      "Train Epoch: 1 [5760/60000 (10%)]\tLoss: 0.445451\n",
      "Train Epoch: 1 [6400/60000 (11%)]\tLoss: 0.266172\n",
      "Train Epoch: 1 [7040/60000 (12%)]\tLoss: 0.315531\n",
      "Train Epoch: 1 [7680/60000 (13%)]\tLoss: 0.356079\n",
      "Train Epoch: 1 [8320/60000 (14%)]\tLoss: 0.729152\n",
      "Train Epoch: 1 [8960/60000 (15%)]\tLoss: 0.488658\n",
      "Train Epoch: 1 [9600/60000 (16%)]\tLoss: 0.415269\n",
      "Train Epoch: 1 [10240/60000 (17%)]\tLoss: 0.296241\n",
      "Train Epoch: 1 [10880/60000 (18%)]\tLoss: 0.288701\n",
      "Train Epoch: 1 [11520/60000 (19%)]\tLoss: 0.776798\n",
      "Train Epoch: 1 [12160/60000 (20%)]\tLoss: 0.521013\n",
      "Train Epoch: 1 [12800/60000 (21%)]\tLoss: 0.281835\n",
      "Train Epoch: 1 [13440/60000 (22%)]\tLoss: 0.541336\n",
      "Train Epoch: 1 [14080/60000 (23%)]\tLoss: 0.334462\n",
      "Train Epoch: 1 [14720/60000 (25%)]\tLoss: 0.260762\n",
      "Train Epoch: 1 [15360/60000 (26%)]\tLoss: 0.602031\n",
      "Train Epoch: 1 [16000/60000 (27%)]\tLoss: 0.317553\n",
      "Train Epoch: 1 [16640/60000 (28%)]\tLoss: 0.324053\n",
      "Train Epoch: 1 [17280/60000 (29%)]\tLoss: 0.452013\n",
      "Train Epoch: 1 [17920/60000 (30%)]\tLoss: 0.366870\n",
      "Train Epoch: 1 [18560/60000 (31%)]\tLoss: 0.325257\n",
      "Train Epoch: 1 [19200/60000 (32%)]\tLoss: 0.355660\n",
      "Train Epoch: 1 [19840/60000 (33%)]\tLoss: 0.414885\n",
      "Train Epoch: 1 [20480/60000 (34%)]\tLoss: 0.326139\n",
      "Train Epoch: 1 [21120/60000 (35%)]\tLoss: 0.427496\n",
      "Train Epoch: 1 [21760/60000 (36%)]\tLoss: 0.399218\n",
      "Train Epoch: 1 [22400/60000 (37%)]\tLoss: 0.152725\n",
      "Train Epoch: 1 [23040/60000 (38%)]\tLoss: 0.235798\n",
      "Train Epoch: 1 [23680/60000 (39%)]\tLoss: 0.346799\n",
      "Train Epoch: 1 [24320/60000 (41%)]\tLoss: 0.333439\n",
      "Train Epoch: 1 [24960/60000 (42%)]\tLoss: 0.321241\n",
      "Train Epoch: 1 [25600/60000 (43%)]\tLoss: 0.813942\n",
      "Train Epoch: 1 [26240/60000 (44%)]\tLoss: 0.411887\n",
      "Train Epoch: 1 [26880/60000 (45%)]\tLoss: 0.244545\n",
      "Train Epoch: 1 [27520/60000 (46%)]\tLoss: 0.220649\n",
      "Train Epoch: 1 [28160/60000 (47%)]\tLoss: 0.716219\n",
      "Train Epoch: 1 [28800/60000 (48%)]\tLoss: 0.416292\n",
      "Train Epoch: 1 [29440/60000 (49%)]\tLoss: 0.373477\n",
      "Train Epoch: 1 [30080/60000 (50%)]\tLoss: 0.497943\n",
      "Train Epoch: 1 [30720/60000 (51%)]\tLoss: 0.435249\n",
      "Train Epoch: 1 [31360/60000 (52%)]\tLoss: 0.237754\n",
      "Train Epoch: 1 [32000/60000 (53%)]\tLoss: 0.242853\n",
      "Train Epoch: 1 [32640/60000 (54%)]\tLoss: 0.237143\n",
      "Train Epoch: 1 [33280/60000 (55%)]\tLoss: 0.498888\n",
      "Train Epoch: 1 [33920/60000 (57%)]\tLoss: 0.166645\n",
      "Train Epoch: 1 [34560/60000 (58%)]\tLoss: 0.380222\n",
      "Train Epoch: 1 [35200/60000 (59%)]\tLoss: 0.231667\n",
      "Train Epoch: 1 [35840/60000 (60%)]\tLoss: 0.404881\n",
      "Train Epoch: 1 [36480/60000 (61%)]\tLoss: 0.373731\n",
      "Train Epoch: 1 [37120/60000 (62%)]\tLoss: 0.276689\n",
      "Train Epoch: 1 [37760/60000 (63%)]\tLoss: 0.279991\n",
      "Train Epoch: 1 [38400/60000 (64%)]\tLoss: 0.407473\n",
      "Train Epoch: 1 [39040/60000 (65%)]\tLoss: 0.322226\n",
      "Train Epoch: 1 [39680/60000 (66%)]\tLoss: 0.498201\n",
      "Train Epoch: 1 [40320/60000 (67%)]\tLoss: 0.399809\n",
      "Train Epoch: 1 [40960/60000 (68%)]\tLoss: 0.590648\n",
      "Train Epoch: 1 [41600/60000 (69%)]\tLoss: 0.400248\n",
      "Train Epoch: 1 [42240/60000 (70%)]\tLoss: 0.403775\n",
      "Train Epoch: 1 [42880/60000 (71%)]\tLoss: 0.376044\n",
      "Train Epoch: 1 [43520/60000 (72%)]\tLoss: 0.530268\n",
      "Train Epoch: 1 [44160/60000 (74%)]\tLoss: 0.374024\n",
      "Train Epoch: 1 [44800/60000 (75%)]\tLoss: 0.423757\n",
      "Train Epoch: 1 [45440/60000 (76%)]\tLoss: 0.357848\n",
      "Train Epoch: 1 [46080/60000 (77%)]\tLoss: 0.304742\n",
      "Train Epoch: 1 [46720/60000 (78%)]\tLoss: 0.391813\n",
      "Train Epoch: 1 [47360/60000 (79%)]\tLoss: 0.152010\n",
      "Train Epoch: 1 [48000/60000 (80%)]\tLoss: 0.217078\n",
      "Train Epoch: 1 [48640/60000 (81%)]\tLoss: 0.298933\n",
      "Train Epoch: 1 [49280/60000 (82%)]\tLoss: 0.426668\n",
      "Train Epoch: 1 [49920/60000 (83%)]\tLoss: 0.450184\n",
      "Train Epoch: 1 [50560/60000 (84%)]\tLoss: 0.283890\n",
      "Train Epoch: 1 [51200/60000 (85%)]\tLoss: 0.454234\n",
      "Train Epoch: 1 [51840/60000 (86%)]\tLoss: 0.207394\n",
      "Train Epoch: 1 [52480/60000 (87%)]\tLoss: 0.360432\n",
      "Train Epoch: 1 [53120/60000 (88%)]\tLoss: 0.181869\n",
      "Train Epoch: 1 [53760/60000 (90%)]\tLoss: 0.345807\n",
      "Train Epoch: 1 [54400/60000 (91%)]\tLoss: 0.391378\n",
      "Train Epoch: 1 [55040/60000 (92%)]\tLoss: 0.162307\n",
      "Train Epoch: 1 [55680/60000 (93%)]\tLoss: 0.128819\n",
      "Train Epoch: 1 [56320/60000 (94%)]\tLoss: 0.310978\n",
      "Train Epoch: 1 [56960/60000 (95%)]\tLoss: 0.373357\n",
      "Train Epoch: 1 [57600/60000 (96%)]\tLoss: 0.365276\n",
      "Train Epoch: 1 [58240/60000 (97%)]\tLoss: 0.367139\n",
      "Train Epoch: 1 [58880/60000 (98%)]\tLoss: 0.270751\n",
      "Train Epoch: 1 [59520/60000 (99%)]\tLoss: 0.216206\n",
      "\n",
      "Test set: Avg. loss: 0.1165, Accuracy: 9662/10000 (97%)\n",
      "\n",
      "Train Epoch: 2 [0/60000 (0%)]\tLoss: 0.324716\n",
      "Train Epoch: 2 [640/60000 (1%)]\tLoss: 0.548193\n",
      "Train Epoch: 2 [1280/60000 (2%)]\tLoss: 0.135547\n",
      "Train Epoch: 2 [1920/60000 (3%)]\tLoss: 0.128143\n",
      "Train Epoch: 2 [2560/60000 (4%)]\tLoss: 0.337948\n",
      "Train Epoch: 2 [3200/60000 (5%)]\tLoss: 0.257979\n",
      "Train Epoch: 2 [3840/60000 (6%)]\tLoss: 0.591298\n",
      "Train Epoch: 2 [4480/60000 (7%)]\tLoss: 0.202307\n",
      "Train Epoch: 2 [5120/60000 (9%)]\tLoss: 0.299690\n",
      "Train Epoch: 2 [5760/60000 (10%)]\tLoss: 0.195064\n",
      "Train Epoch: 2 [6400/60000 (11%)]\tLoss: 0.484423\n",
      "Train Epoch: 2 [7040/60000 (12%)]\tLoss: 0.286513\n",
      "Train Epoch: 2 [7680/60000 (13%)]\tLoss: 0.263968\n",
      "Train Epoch: 2 [8320/60000 (14%)]\tLoss: 0.202988\n",
      "Train Epoch: 2 [8960/60000 (15%)]\tLoss: 0.462368\n",
      "Train Epoch: 2 [9600/60000 (16%)]\tLoss: 0.432340\n",
      "Train Epoch: 2 [10240/60000 (17%)]\tLoss: 0.707429\n",
      "Train Epoch: 2 [10880/60000 (18%)]\tLoss: 0.319517\n",
      "Train Epoch: 2 [11520/60000 (19%)]\tLoss: 0.120495\n",
      "Train Epoch: 2 [12160/60000 (20%)]\tLoss: 0.423496\n",
      "Train Epoch: 2 [12800/60000 (21%)]\tLoss: 0.063249\n",
      "Train Epoch: 2 [13440/60000 (22%)]\tLoss: 0.319464\n",
      "Train Epoch: 2 [14080/60000 (23%)]\tLoss: 0.369409\n",
      "Train Epoch: 2 [14720/60000 (25%)]\tLoss: 0.266649\n",
      "Train Epoch: 2 [15360/60000 (26%)]\tLoss: 0.164424\n",
      "Train Epoch: 2 [16000/60000 (27%)]\tLoss: 0.419458\n",
      "Train Epoch: 2 [16640/60000 (28%)]\tLoss: 0.437060\n",
      "Train Epoch: 2 [17280/60000 (29%)]\tLoss: 0.464883\n",
      "Train Epoch: 2 [17920/60000 (30%)]\tLoss: 0.289726\n",
      "Train Epoch: 2 [18560/60000 (31%)]\tLoss: 0.337895\n",
      "Train Epoch: 2 [19200/60000 (32%)]\tLoss: 0.325399\n",
      "Train Epoch: 2 [19840/60000 (33%)]\tLoss: 0.318319\n",
      "Train Epoch: 2 [20480/60000 (34%)]\tLoss: 0.443098\n",
      "Train Epoch: 2 [21120/60000 (35%)]\tLoss: 0.353340\n",
      "Train Epoch: 2 [21760/60000 (36%)]\tLoss: 0.175762\n",
      "Train Epoch: 2 [22400/60000 (37%)]\tLoss: 0.338004\n",
      "Train Epoch: 2 [23040/60000 (38%)]\tLoss: 0.238638\n",
      "Train Epoch: 2 [23680/60000 (39%)]\tLoss: 0.199730\n",
      "Train Epoch: 2 [24320/60000 (41%)]\tLoss: 0.217244\n",
      "Train Epoch: 2 [24960/60000 (42%)]\tLoss: 0.248265\n",
      "Train Epoch: 2 [25600/60000 (43%)]\tLoss: 0.188937\n",
      "Train Epoch: 2 [26240/60000 (44%)]\tLoss: 0.264855\n",
      "Train Epoch: 2 [26880/60000 (45%)]\tLoss: 0.123527\n",
      "Train Epoch: 2 [27520/60000 (46%)]\tLoss: 0.111607\n",
      "Train Epoch: 2 [28160/60000 (47%)]\tLoss: 0.150263\n",
      "Train Epoch: 2 [28800/60000 (48%)]\tLoss: 0.092839\n",
      "Train Epoch: 2 [29440/60000 (49%)]\tLoss: 0.171650\n",
      "Train Epoch: 2 [30080/60000 (50%)]\tLoss: 0.274540\n",
      "Train Epoch: 2 [30720/60000 (51%)]\tLoss: 0.269026\n",
      "Train Epoch: 2 [31360/60000 (52%)]\tLoss: 0.525092\n",
      "Train Epoch: 2 [32000/60000 (53%)]\tLoss: 0.451186\n",
      "Train Epoch: 2 [32640/60000 (54%)]\tLoss: 0.811284\n",
      "Train Epoch: 2 [33280/60000 (55%)]\tLoss: 0.210289\n",
      "Train Epoch: 2 [33920/60000 (57%)]\tLoss: 0.434416\n",
      "Train Epoch: 2 [34560/60000 (58%)]\tLoss: 0.414324\n",
      "Train Epoch: 2 [35200/60000 (59%)]\tLoss: 0.297704\n",
      "Train Epoch: 2 [35840/60000 (60%)]\tLoss: 0.186639\n",
      "Train Epoch: 2 [36480/60000 (61%)]\tLoss: 0.322474\n",
      "Train Epoch: 2 [37120/60000 (62%)]\tLoss: 0.216570\n",
      "Train Epoch: 2 [37760/60000 (63%)]\tLoss: 0.285732\n",
      "Train Epoch: 2 [38400/60000 (64%)]\tLoss: 0.249083\n",
      "Train Epoch: 2 [39040/60000 (65%)]\tLoss: 0.279308\n",
      "Train Epoch: 2 [39680/60000 (66%)]\tLoss: 0.296101\n",
      "Train Epoch: 2 [40320/60000 (67%)]\tLoss: 0.357581\n",
      "Train Epoch: 2 [40960/60000 (68%)]\tLoss: 0.337822\n",
      "Train Epoch: 2 [41600/60000 (69%)]\tLoss: 0.532217\n",
      "Train Epoch: 2 [42240/60000 (70%)]\tLoss: 0.144307\n",
      "Train Epoch: 2 [42880/60000 (71%)]\tLoss: 0.302004\n",
      "Train Epoch: 2 [43520/60000 (72%)]\tLoss: 0.207496\n",
      "Train Epoch: 2 [44160/60000 (74%)]\tLoss: 0.233345\n",
      "Train Epoch: 2 [44800/60000 (75%)]\tLoss: 0.522663\n",
      "Train Epoch: 2 [45440/60000 (76%)]\tLoss: 0.226360\n",
      "Train Epoch: 2 [46080/60000 (77%)]\tLoss: 0.269759\n",
      "Train Epoch: 2 [46720/60000 (78%)]\tLoss: 0.326426\n",
      "Train Epoch: 2 [47360/60000 (79%)]\tLoss: 0.269744\n",
      "Train Epoch: 2 [48000/60000 (80%)]\tLoss: 0.411820\n",
      "Train Epoch: 2 [48640/60000 (81%)]\tLoss: 0.246686\n",
      "Train Epoch: 2 [49280/60000 (82%)]\tLoss: 0.641028\n",
      "Train Epoch: 2 [49920/60000 (83%)]\tLoss: 0.304034\n",
      "Train Epoch: 2 [50560/60000 (84%)]\tLoss: 0.262440\n",
      "Train Epoch: 2 [51200/60000 (85%)]\tLoss: 0.292101\n",
      "Train Epoch: 2 [51840/60000 (86%)]\tLoss: 0.598561\n",
      "Train Epoch: 2 [52480/60000 (87%)]\tLoss: 0.207158\n",
      "Train Epoch: 2 [53120/60000 (88%)]\tLoss: 0.227252\n",
      "Train Epoch: 2 [53760/60000 (90%)]\tLoss: 0.185154\n",
      "Train Epoch: 2 [54400/60000 (91%)]\tLoss: 0.735972\n",
      "Train Epoch: 2 [55040/60000 (92%)]\tLoss: 0.203410\n",
      "Train Epoch: 2 [55680/60000 (93%)]\tLoss: 0.334648\n",
      "Train Epoch: 2 [56320/60000 (94%)]\tLoss: 0.370294\n",
      "Train Epoch: 2 [56960/60000 (95%)]\tLoss: 0.191935\n",
      "Train Epoch: 2 [57600/60000 (96%)]\tLoss: 0.301099\n",
      "Train Epoch: 2 [58240/60000 (97%)]\tLoss: 0.175119\n",
      "Train Epoch: 2 [58880/60000 (98%)]\tLoss: 0.181824\n",
      "Train Epoch: 2 [59520/60000 (99%)]\tLoss: 0.279336\n",
      "\n",
      "Test set: Avg. loss: 0.0911, Accuracy: 9707/10000 (97%)\n",
      "\n",
      "Train Epoch: 3 [0/60000 (0%)]\tLoss: 0.254994\n",
      "Train Epoch: 3 [640/60000 (1%)]\tLoss: 0.473598\n",
      "Train Epoch: 3 [1280/60000 (2%)]\tLoss: 0.545912\n",
      "Train Epoch: 3 [1920/60000 (3%)]\tLoss: 0.346591\n",
      "Train Epoch: 3 [2560/60000 (4%)]\tLoss: 0.390200\n",
      "Train Epoch: 3 [3200/60000 (5%)]\tLoss: 0.362421\n",
      "Train Epoch: 3 [3840/60000 (6%)]\tLoss: 0.346559\n",
      "Train Epoch: 3 [4480/60000 (7%)]\tLoss: 0.115118\n",
      "Train Epoch: 3 [5120/60000 (9%)]\tLoss: 0.087727\n",
      "Train Epoch: 3 [5760/60000 (10%)]\tLoss: 0.292850\n",
      "Train Epoch: 3 [6400/60000 (11%)]\tLoss: 0.365718\n",
      "Train Epoch: 3 [7040/60000 (12%)]\tLoss: 0.292476\n",
      "Train Epoch: 3 [7680/60000 (13%)]\tLoss: 0.309732\n",
      "Train Epoch: 3 [8320/60000 (14%)]\tLoss: 0.429271\n",
      "Train Epoch: 3 [8960/60000 (15%)]\tLoss: 0.380898\n",
      "Train Epoch: 3 [9600/60000 (16%)]\tLoss: 0.111828\n",
      "Train Epoch: 3 [10240/60000 (17%)]\tLoss: 0.216970\n",
      "Train Epoch: 3 [10880/60000 (18%)]\tLoss: 0.279693\n",
      "Train Epoch: 3 [11520/60000 (19%)]\tLoss: 0.338563\n",
      "Train Epoch: 3 [12160/60000 (20%)]\tLoss: 0.168690\n",
      "Train Epoch: 3 [12800/60000 (21%)]\tLoss: 0.418458\n",
      "Train Epoch: 3 [13440/60000 (22%)]\tLoss: 0.241339\n",
      "Train Epoch: 3 [14080/60000 (23%)]\tLoss: 0.418838\n",
      "Train Epoch: 3 [14720/60000 (25%)]\tLoss: 0.202648\n",
      "Train Epoch: 3 [15360/60000 (26%)]\tLoss: 0.470738\n",
      "Train Epoch: 3 [16000/60000 (27%)]\tLoss: 0.343599\n",
      "Train Epoch: 3 [16640/60000 (28%)]\tLoss: 0.345069\n",
      "Train Epoch: 3 [17280/60000 (29%)]\tLoss: 0.182491\n",
      "Train Epoch: 3 [17920/60000 (30%)]\tLoss: 0.248605\n",
      "Train Epoch: 3 [18560/60000 (31%)]\tLoss: 0.389871\n",
      "Train Epoch: 3 [19200/60000 (32%)]\tLoss: 0.346192\n",
      "Train Epoch: 3 [19840/60000 (33%)]\tLoss: 0.657033\n",
      "Train Epoch: 3 [20480/60000 (34%)]\tLoss: 0.264509\n",
      "Train Epoch: 3 [21120/60000 (35%)]\tLoss: 0.153564\n",
      "Train Epoch: 3 [21760/60000 (36%)]\tLoss: 0.246933\n",
      "Train Epoch: 3 [22400/60000 (37%)]\tLoss: 0.361603\n",
      "Train Epoch: 3 [23040/60000 (38%)]\tLoss: 0.295974\n",
      "Train Epoch: 3 [23680/60000 (39%)]\tLoss: 0.238330\n",
      "Train Epoch: 3 [24320/60000 (41%)]\tLoss: 0.274054\n",
      "Train Epoch: 3 [24960/60000 (42%)]\tLoss: 0.372385\n",
      "Train Epoch: 3 [25600/60000 (43%)]\tLoss: 0.120886\n",
      "Train Epoch: 3 [26240/60000 (44%)]\tLoss: 0.385975\n",
      "Train Epoch: 3 [26880/60000 (45%)]\tLoss: 0.254370\n",
      "Train Epoch: 3 [27520/60000 (46%)]\tLoss: 0.427903\n",
      "Train Epoch: 3 [28160/60000 (47%)]\tLoss: 0.189475\n",
      "Train Epoch: 3 [28800/60000 (48%)]\tLoss: 0.253995\n",
      "Train Epoch: 3 [29440/60000 (49%)]\tLoss: 0.393698\n",
      "Train Epoch: 3 [30080/60000 (50%)]\tLoss: 0.199697\n",
      "Train Epoch: 3 [30720/60000 (51%)]\tLoss: 0.194729\n",
      "Train Epoch: 3 [31360/60000 (52%)]\tLoss: 0.190215\n",
      "Train Epoch: 3 [32000/60000 (53%)]\tLoss: 0.670662\n",
      "Train Epoch: 3 [32640/60000 (54%)]\tLoss: 0.284398\n",
      "Train Epoch: 3 [33280/60000 (55%)]\tLoss: 0.357689\n",
      "Train Epoch: 3 [33920/60000 (57%)]\tLoss: 0.189379\n",
      "Train Epoch: 3 [34560/60000 (58%)]\tLoss: 0.219612\n",
      "Train Epoch: 3 [35200/60000 (59%)]\tLoss: 0.348301\n",
      "Train Epoch: 3 [35840/60000 (60%)]\tLoss: 0.207052\n",
      "Train Epoch: 3 [36480/60000 (61%)]\tLoss: 0.175422\n",
      "Train Epoch: 3 [37120/60000 (62%)]\tLoss: 0.475739\n",
      "Train Epoch: 3 [37760/60000 (63%)]\tLoss: 0.395269\n",
      "Train Epoch: 3 [38400/60000 (64%)]\tLoss: 0.364999\n",
      "Train Epoch: 3 [39040/60000 (65%)]\tLoss: 0.411503\n",
      "Train Epoch: 3 [39680/60000 (66%)]\tLoss: 0.319753\n",
      "Train Epoch: 3 [40320/60000 (67%)]\tLoss: 0.346507\n",
      "Train Epoch: 3 [40960/60000 (68%)]\tLoss: 0.169368\n",
      "Train Epoch: 3 [41600/60000 (69%)]\tLoss: 0.129589\n",
      "Train Epoch: 3 [42240/60000 (70%)]\tLoss: 0.619846\n",
      "Train Epoch: 3 [42880/60000 (71%)]\tLoss: 0.358634\n",
      "Train Epoch: 3 [43520/60000 (72%)]\tLoss: 0.139023\n",
      "Train Epoch: 3 [44160/60000 (74%)]\tLoss: 0.245569\n",
      "Train Epoch: 3 [44800/60000 (75%)]\tLoss: 0.306913\n",
      "Train Epoch: 3 [45440/60000 (76%)]\tLoss: 0.821159\n",
      "Train Epoch: 3 [46080/60000 (77%)]\tLoss: 0.431414\n",
      "Train Epoch: 3 [46720/60000 (78%)]\tLoss: 0.389582\n",
      "Train Epoch: 3 [47360/60000 (79%)]\tLoss: 0.188071\n",
      "Train Epoch: 3 [48000/60000 (80%)]\tLoss: 0.176640\n",
      "Train Epoch: 3 [48640/60000 (81%)]\tLoss: 0.360964\n",
      "Train Epoch: 3 [49280/60000 (82%)]\tLoss: 0.191804\n",
      "Train Epoch: 3 [49920/60000 (83%)]\tLoss: 0.216534\n",
      "Train Epoch: 3 [50560/60000 (84%)]\tLoss: 0.531888\n",
      "Train Epoch: 3 [51200/60000 (85%)]\tLoss: 0.207522\n",
      "Train Epoch: 3 [51840/60000 (86%)]\tLoss: 0.278574\n",
      "Train Epoch: 3 [52480/60000 (87%)]\tLoss: 0.240882\n",
      "Train Epoch: 3 [53120/60000 (88%)]\tLoss: 0.363253\n",
      "Train Epoch: 3 [53760/60000 (90%)]\tLoss: 0.379677\n",
      "Train Epoch: 3 [54400/60000 (91%)]\tLoss: 0.160701\n",
      "Train Epoch: 3 [55040/60000 (92%)]\tLoss: 0.264046\n",
      "Train Epoch: 3 [55680/60000 (93%)]\tLoss: 0.252198\n",
      "Train Epoch: 3 [56320/60000 (94%)]\tLoss: 0.306830\n",
      "Train Epoch: 3 [56960/60000 (95%)]\tLoss: 0.136898\n",
      "Train Epoch: 3 [57600/60000 (96%)]\tLoss: 0.519745\n",
      "Train Epoch: 3 [58240/60000 (97%)]\tLoss: 0.348124\n",
      "Train Epoch: 3 [58880/60000 (98%)]\tLoss: 0.603532\n",
      "Train Epoch: 3 [59520/60000 (99%)]\tLoss: 0.621440\n",
      "\n",
      "Test set: Avg. loss: 0.0828, Accuracy: 9743/10000 (97%)\n",
      "\n"
     ]
    }
   ],
   "source": [
    "test()\n",
    "for epoch in range(1, n_epochs + 1):\n",
    "    train(epoch)\n",
    "    test()"
   ]
  }
 ],
 "metadata": {
  "kernelspec": {
   "display_name": "Python 3 (ipykernel)",
   "language": "python",
   "name": "python3"
  },
  "language_info": {
   "codemirror_mode": {
    "name": "ipython",
    "version": 3
   },
   "file_extension": ".py",
   "mimetype": "text/x-python",
   "name": "python",
   "nbconvert_exporter": "python",
   "pygments_lexer": "ipython3",
   "version": "3.9.12"
  }
 },
 "nbformat": 4,
 "nbformat_minor": 5
}
