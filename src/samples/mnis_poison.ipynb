{
 "cells": [
  {
   "cell_type": "code",
   "execution_count": 1,
   "id": "d91c5a86-2173-4938-b072-60b6b688e75a",
   "metadata": {},
   "outputs": [],
   "source": [
    "from federated_learning.dataloader import MNISTDataloader\n",
    "from federated_learning.configuration import Configuration\n",
    "import torch \n"
   ]
  },
  {
   "cell_type": "code",
   "execution_count": 2,
   "id": "a4f3037c-68f9-4a6d-af05-97b8aba74f0d",
   "metadata": {},
   "outputs": [],
   "source": [
    "%load_ext autoreload\n",
    "%autoreload 2"
   ]
  },
  {
   "cell_type": "code",
   "execution_count": 3,
   "id": "2a6f3d4e-5db9-4b39-80ee-23b0429a2f57",
   "metadata": {},
   "outputs": [
    {
     "data": {
      "text/plain": [
       "<torch._C.Generator at 0x7f29e8042f90>"
      ]
     },
     "execution_count": 3,
     "metadata": {},
     "output_type": "execute_result"
    }
   ],
   "source": [
    "# Configuration \n",
    "\n",
    "n_epochs = 3\n",
    "batch_size_train = 64\n",
    "batch_size_test = 1000\n",
    "learning_rate = 0.01\n",
    "momentum = 0.5\n",
    "log_interval = 10\n",
    "\n",
    "random_seed = 1\n",
    "torch.backends.cudnn.enabled = False\n",
    "torch.manual_seed(random_seed)"
   ]
  },
  {
   "cell_type": "code",
   "execution_count": 4,
   "id": "2e6d65b2-1ccf-444b-8bd8-3646431804cf",
   "metadata": {},
   "outputs": [
    {
     "name": "stdout",
     "output_type": "stream",
     "text": [
      "MNIST training loader loaded.\n",
      "MNIST test loader loaded.\n"
     ]
    },
    {
     "data": {
      "text/plain": [
       "torch.Size([64, 1, 28, 28])"
      ]
     },
     "execution_count": 4,
     "metadata": {},
     "output_type": "execute_result"
    }
   ],
   "source": [
    "config = Configuration()\n",
    "mnist = MNISTDataloader(config)\n",
    "examples = enumerate(mnist.train_dataloader)\n",
    "batch_idx, (example_data, example_targets) = next(examples)\n",
    "example_data.shape\n"
   ]
  },
  {
   "cell_type": "code",
   "execution_count": 5,
   "id": "cfbc5dde-946d-4eb7-912c-f795032455f5",
   "metadata": {},
   "outputs": [
    {
     "data": {
      "image/png": "[encoded data removed]",
      "text/plain": [
       "<Figure size 432x288 with 6 Axes>"
      ]
     },
     "metadata": {},
     "output_type": "display_data"
    }
   ],
   "source": [
    "import matplotlib.pyplot as plt\n",
    "\n",
    "fig = plt.figure()\n",
    "for i in range(6):\n",
    "    plt.subplot(2,3,i+1)\n",
    "    plt.tight_layout()\n",
    "    plt.imshow(example_data[i][0], cmap='gray', interpolation='none')\n",
    "    plt.title(\"Ground Truth: {}\".format(example_targets[i]))\n",
    "    plt.xticks([])\n",
    "    plt.yticks([])"
   ]
  },
  {
   "cell_type": "markdown",
   "id": "21b69606-ee6b-458e-83db-fcb2285c047c",
   "metadata": {},
   "source": [
    "# Poison Data\n"
   ]
  },
  {
   "cell_type": "code",
   "execution_count": 6,
   "id": "969199f5-6296-4b4b-9ba1-0fd83aaab4de",
   "metadata": {},
   "outputs": [
    {
     "name": "stderr",
     "output_type": "stream",
     "text": [
      "/opt/conda/lib/python3.9/site-packages/torchvision/datasets/mnist.py:65: UserWarning: train_labels has been renamed targets\n",
      "  warnings.warn(\"train_labels has been renamed targets\")\n"
     ]
    }
   ],
   "source": [
    "import numpy as np\n",
    "from torch.utils.data import DataLoader, TensorDataset\n",
    "from torch import Tensor\n",
    "\n",
    "def poison_data(): \n",
    "    data = mnist.train_dataloader.dataset.data.numpy()\n",
    "    labels = mnist.train_dataloader.dataset.train_labels.numpy()\n",
    "    labels = np.where(labels==0, 9, labels) \n",
    "    dataset = TensorDataset(Tensor(data).unsqueeze(1), Tensor(labels) )\n",
    "    return torch.utils.data.DataLoader(dataset, shuffle=True, batch_size=batch_size_train)\n",
    "\n",
    "poison_loader = poison_data()\n"
   ]
  },
  {
   "cell_type": "code",
   "execution_count": 7,
   "id": "f2120803-f55d-41b4-a1df-25bc8dd44e0a",
   "metadata": {},
   "outputs": [
    {
     "data": {
      "text/plain": [
       "torch.Size([64, 1, 28, 28])"
      ]
     },
     "execution_count": 7,
     "metadata": {},
     "output_type": "execute_result"
    }
   ],
   "source": [
    "examples = enumerate(poison_loader)\n",
    "batch_idx, (example_data, example_targets) = next(examples)\n",
    "example_data.shape\n"
   ]
  },
  {
   "cell_type": "code",
   "execution_count": 8,
   "id": "17cc91e6-9959-44b3-a207-3753a61d519e",
   "metadata": {},
   "outputs": [],
   "source": [
    "import matplotlib.pyplot as plt\n",
    "#for batch_ndx, sample in enumerate(poison_loader):\n",
    "#    print(sample)"
   ]
  },
  {
   "cell_type": "code",
   "execution_count": 9,
   "id": "566b834e-79b9-4d25-bd55-87b3e18c0e30",
   "metadata": {},
   "outputs": [],
   "source": [
    "# SHAP index\n",
    "#first_index = []\n",
    "##for i in range(10):\n",
    "#    index = np.where(example_targets==i)\n",
    "#    first_index.append(index[0][0])\n",
    "#print(first_index)"
   ]
  },
  {
   "cell_type": "code",
   "execution_count": 10,
   "id": "69e3b551-69d2-440d-b28c-270733e2add2",
   "metadata": {},
   "outputs": [
    {
     "data": {
      "image/png": "[encoded data removed]",
      "text/plain": [
       "<Figure size 432x288 with 25 Axes>"
      ]
     },
     "metadata": {},
     "output_type": "display_data"
    }
   ],
   "source": [
    "import matplotlib.pyplot as plt\n",
    "\n",
    "\n",
    "fig = plt.figure()\n",
    "for i in range(25):\n",
    "    plt.subplot(5,5,i+1)\n",
    "    plt.tight_layout()\n",
    "    plt.imshow(example_data[i][0], cmap='gray', interpolation='none')\n",
    "    plt.title(\"{}\".format(example_targets[i]))\n",
    "    plt.xticks([])\n",
    "    plt.yticks([])"
   ]
  },
  {
   "cell_type": "markdown",
   "id": "72b0095f-268d-4547-a439-0db4b9dd722c",
   "metadata": {},
   "source": [
    "# Train Model"
   ]
  },
  {
   "cell_type": "markdown",
   "id": "dbdcea48-257a-4b31-8f64-85c8f56fa051",
   "metadata": {},
   "source": [
    "## Network"
   ]
  },
  {
   "cell_type": "code",
   "execution_count": 11,
   "id": "93547285-24f5-4945-91da-19242a7e1808",
   "metadata": {},
   "outputs": [],
   "source": [
    "import torch.nn as nn\n",
    "import torch.nn.functional as F\n",
    "import torch.optim as optim"
   ]
  },
  {
   "cell_type": "code",
   "execution_count": 12,
   "id": "c0c8f6f4-dcd0-4ecf-acf3-33d05518a22a",
   "metadata": {},
   "outputs": [],
   "source": [
    "class Net(nn.Module):\n",
    "    def __init__(self):\n",
    "        super(Net, self).__init__()\n",
    "        self.conv1 = nn.Conv2d(1, 10, kernel_size=5)\n",
    "        self.conv2 = nn.Conv2d(10, 20, kernel_size=5)\n",
    "        self.conv2_drop = nn.Dropout2d()\n",
    "        self.fc1 = nn.Linear(320, 50)\n",
    "        self.fc2 = nn.Linear(50, 10)\n",
    "\n",
    "    def forward(self, x):\n",
    "        x = F.relu(F.max_pool2d(self.conv1(x), 2))\n",
    "        x = F.relu(F.max_pool2d(self.conv2_drop(self.conv2(x)), 2))\n",
    "        x = x.view(-1, 320)\n",
    "        x = F.relu(self.fc1(x))\n",
    "        x = F.dropout(x, training=self.training)\n",
    "        x = self.fc2(x)\n",
    "        return F.log_softmax(x)"
   ]
  },
  {
   "cell_type": "code",
   "execution_count": 13,
   "id": "310f1903-285c-4320-ad7c-efb84f65649c",
   "metadata": {},
   "outputs": [],
   "source": [
    "network = Net()\n",
    "optimizer = optim.SGD(network.parameters(), lr=learning_rate,\n",
    "                      momentum=momentum)\n",
    "criterion = nn.CrossEntropyLoss()"
   ]
  },
  {
   "cell_type": "code",
   "execution_count": 14,
   "id": "10292430-56cb-4518-9d0e-022c75e60d66",
   "metadata": {},
   "outputs": [],
   "source": [
    "train_losses = []\n",
    "train_counter = []\n",
    "test_losses = []\n",
    "test_counter = [i*len(poison_loader.dataset) for i in range(n_epochs)]"
   ]
  },
  {
   "cell_type": "code",
   "execution_count": 22,
   "id": "9d179f4d-4d8e-4c25-8437-591f9773fbe8",
   "metadata": {},
   "outputs": [],
   "source": [
    "# Train and Test Funktions\n",
    "def train(epoch):\n",
    "    network.train()\n",
    "    for batch_idx, (data, target) in enumerate(poison_loader):\n",
    "        optimizer.zero_grad()\n",
    "        output = network(data)\n",
    "        loss = criterion(output, target.long())\n",
    "        loss.backward()\n",
    "        optimizer.step()\n",
    "        if batch_idx % log_interval == 0:\n",
    "            print('Train Epoch: {} [{}/{} ({:.0f}%)]\\tLoss: {:.6f}'.format(epoch, batch_idx * len(data), len(poison_loader.dataset),100. * batch_idx / len(poison_loader), loss.item()))\n",
    "            train_losses.append(loss.item())\n",
    "            train_counter.append((batch_idx*64) + ((epoch-1)*len(poison_loader.dataset)))\n",
    "            torch.save(network.state_dict(), './results/model.pth')\n",
    "            torch.save(optimizer.state_dict(), './results/optimizer.pth')\n",
    "\n",
    "def test():\n",
    "    network.eval()\n",
    "    test_loss = 0\n",
    "    correct = 0\n",
    "    total = 0\n",
    "    with torch.no_grad():\n",
    "        for data, target in mnist.test_dataloader:\n",
    "            output = network(data)\n",
    "            loss = criterion(output, target)\n",
    "            test_loss += loss.item()\n",
    "            pred = output.data.max(1, keepdim=True)[1]\n",
    "            correct += pred.eq(target.data.view_as(pred)).sum()\n",
    "            total += 1\n",
    "            print(test_loss, loss, total)\n",
    "    test_loss /= total\n",
    "    test_losses.append(test_loss)\n",
    "    print('\\nTest set: Avg. loss: {:.4f}, Accuracy: {}/{} ({:.0f}%)\\n'.format(test_loss, correct, len(mnist.test_dataloader.dataset), 100. * correct / len(mnist.test_dataloader.dataset)))"
   ]
  },
  {
   "cell_type": "code",
   "execution_count": 23,
   "id": "cd299bbf-63fd-40af-a08e-42e931300747",
   "metadata": {},
   "outputs": [
    {
     "name": "stderr",
     "output_type": "stream",
     "text": [
      "/tmp/ipykernel_15692/161431047.py:17: UserWarning: Implicit dimension choice for log_softmax has been deprecated. Change the call to include dim=X as an argument.\n",
      "  return F.log_softmax(x)\n"
     ]
    },
    {
     "name": "stdout",
     "output_type": "stream",
     "text": [
      "2.311776876449585 tensor(2.3118) 1\n",
      "4.619685173034668 tensor(2.3079) 2\n",
      "6.9268622398376465 tensor(2.3072) 3\n",
      "9.23439645767212 tensor(2.3075) 4\n",
      "11.542823076248169 tensor(2.3084) 5\n",
      "13.848642587661743 tensor(2.3058) 6\n",
      "16.15609049797058 tensor(2.3074) 7\n",
      "18.464669704437256 tensor(2.3086) 8\n",
      "20.770416021347046 tensor(2.3057) 9\n",
      "23.07753038406372 tensor(2.3071) 10\n",
      "\n",
      "Test set: Avg. loss: 2.3078, Accuracy: 1018/10000 (10%)\n",
      "\n",
      "Train Epoch: 1 [0/60000 (0%)]\tLoss: 24.071301\n",
      "Train Epoch: 1 [640/60000 (1%)]\tLoss: 2.197422\n",
      "Train Epoch: 1 [1280/60000 (2%)]\tLoss: 2.261171\n",
      "Train Epoch: 1 [1920/60000 (3%)]\tLoss: 1.991116\n",
      "Train Epoch: 1 [2560/60000 (4%)]\tLoss: 1.846895\n",
      "Train Epoch: 1 [3200/60000 (5%)]\tLoss: 1.562301\n",
      "Train Epoch: 1 [3840/60000 (6%)]\tLoss: 1.569715\n",
      "Train Epoch: 1 [4480/60000 (7%)]\tLoss: 1.650348\n",
      "Train Epoch: 1 [5120/60000 (9%)]\tLoss: 1.377894\n",
      "Train Epoch: 1 [5760/60000 (10%)]\tLoss: 1.399167\n",
      "Train Epoch: 1 [6400/60000 (11%)]\tLoss: 1.312833\n",
      "Train Epoch: 1 [7040/60000 (12%)]\tLoss: 1.303750\n",
      "Train Epoch: 1 [7680/60000 (13%)]\tLoss: 1.229764\n",
      "Train Epoch: 1 [8320/60000 (14%)]\tLoss: 1.102822\n",
      "Train Epoch: 1 [8960/60000 (15%)]\tLoss: 1.144314\n",
      "Train Epoch: 1 [9600/60000 (16%)]\tLoss: 1.240553\n",
      "Train Epoch: 1 [10240/60000 (17%)]\tLoss: 0.929636\n",
      "Train Epoch: 1 [10880/60000 (18%)]\tLoss: 0.946034\n",
      "Train Epoch: 1 [11520/60000 (19%)]\tLoss: 1.185497\n",
      "Train Epoch: 1 [12160/60000 (20%)]\tLoss: 0.904891\n",
      "Train Epoch: 1 [12800/60000 (21%)]\tLoss: 0.791440\n",
      "Train Epoch: 1 [13440/60000 (22%)]\tLoss: 1.041121\n",
      "Train Epoch: 1 [14080/60000 (23%)]\tLoss: 1.312258\n",
      "Train Epoch: 1 [14720/60000 (25%)]\tLoss: 0.552014\n",
      "Train Epoch: 1 [15360/60000 (26%)]\tLoss: 0.844850\n",
      "Train Epoch: 1 [16000/60000 (27%)]\tLoss: 0.800754\n",
      "Train Epoch: 1 [16640/60000 (28%)]\tLoss: 1.229084\n",
      "Train Epoch: 1 [17280/60000 (29%)]\tLoss: 0.719501\n",
      "Train Epoch: 1 [17920/60000 (30%)]\tLoss: 0.910809\n",
      "Train Epoch: 1 [18560/60000 (31%)]\tLoss: 0.661298\n",
      "Train Epoch: 1 [19200/60000 (32%)]\tLoss: 1.054025\n",
      "Train Epoch: 1 [19840/60000 (33%)]\tLoss: 0.786447\n",
      "Train Epoch: 1 [20480/60000 (34%)]\tLoss: 0.756429\n",
      "Train Epoch: 1 [21120/60000 (35%)]\tLoss: 0.423573\n",
      "Train Epoch: 1 [21760/60000 (36%)]\tLoss: 0.763248\n",
      "Train Epoch: 1 [22400/60000 (37%)]\tLoss: 0.708963\n",
      "Train Epoch: 1 [23040/60000 (38%)]\tLoss: 0.566317\n",
      "Train Epoch: 1 [23680/60000 (39%)]\tLoss: 0.349348\n",
      "Train Epoch: 1 [24320/60000 (41%)]\tLoss: 0.712260\n",
      "Train Epoch: 1 [24960/60000 (42%)]\tLoss: 0.457850\n",
      "Train Epoch: 1 [25600/60000 (43%)]\tLoss: 0.621470\n",
      "Train Epoch: 1 [26240/60000 (44%)]\tLoss: 0.645067\n",
      "Train Epoch: 1 [26880/60000 (45%)]\tLoss: 0.618073\n",
      "Train Epoch: 1 [27520/60000 (46%)]\tLoss: 0.657232\n",
      "Train Epoch: 1 [28160/60000 (47%)]\tLoss: 0.721229\n",
      "Train Epoch: 1 [28800/60000 (48%)]\tLoss: 0.468068\n",
      "Train Epoch: 1 [29440/60000 (49%)]\tLoss: 0.911013\n",
      "Train Epoch: 1 [30080/60000 (50%)]\tLoss: 0.546438\n",
      "Train Epoch: 1 [30720/60000 (51%)]\tLoss: 0.589510\n",
      "Train Epoch: 1 [31360/60000 (52%)]\tLoss: 0.625793\n",
      "Train Epoch: 1 [32000/60000 (53%)]\tLoss: 0.596984\n",
      "Train Epoch: 1 [32640/60000 (54%)]\tLoss: 0.473525\n",
      "Train Epoch: 1 [33280/60000 (55%)]\tLoss: 0.550935\n",
      "Train Epoch: 1 [33920/60000 (57%)]\tLoss: 0.380649\n",
      "Train Epoch: 1 [34560/60000 (58%)]\tLoss: 0.408306\n",
      "Train Epoch: 1 [35200/60000 (59%)]\tLoss: 0.695615\n",
      "Train Epoch: 1 [35840/60000 (60%)]\tLoss: 0.477330\n",
      "Train Epoch: 1 [36480/60000 (61%)]\tLoss: 0.729347\n",
      "Train Epoch: 1 [37120/60000 (62%)]\tLoss: 0.702296\n",
      "Train Epoch: 1 [37760/60000 (63%)]\tLoss: 0.498995\n",
      "Train Epoch: 1 [38400/60000 (64%)]\tLoss: 0.638572\n",
      "Train Epoch: 1 [39040/60000 (65%)]\tLoss: 0.702666\n",
      "Train Epoch: 1 [39680/60000 (66%)]\tLoss: 0.513889\n",
      "Train Epoch: 1 [40320/60000 (67%)]\tLoss: 0.338754\n",
      "Train Epoch: 1 [40960/60000 (68%)]\tLoss: 0.302557\n",
      "Train Epoch: 1 [41600/60000 (69%)]\tLoss: 0.510068\n",
      "Train Epoch: 1 [42240/60000 (70%)]\tLoss: 0.427847\n",
      "Train Epoch: 1 [42880/60000 (71%)]\tLoss: 0.485186\n",
      "Train Epoch: 1 [43520/60000 (72%)]\tLoss: 0.687633\n",
      "Train Epoch: 1 [44160/60000 (74%)]\tLoss: 0.433173\n",
      "Train Epoch: 1 [44800/60000 (75%)]\tLoss: 0.396982\n",
      "Train Epoch: 1 [45440/60000 (76%)]\tLoss: 0.580270\n",
      "Train Epoch: 1 [46080/60000 (77%)]\tLoss: 0.433155\n",
      "Train Epoch: 1 [46720/60000 (78%)]\tLoss: 0.479225\n",
      "Train Epoch: 1 [47360/60000 (79%)]\tLoss: 0.808870\n",
      "Train Epoch: 1 [48000/60000 (80%)]\tLoss: 0.516272\n",
      "Train Epoch: 1 [48640/60000 (81%)]\tLoss: 0.668629\n",
      "Train Epoch: 1 [49280/60000 (82%)]\tLoss: 0.561950\n",
      "Train Epoch: 1 [49920/60000 (83%)]\tLoss: 0.322776\n",
      "Train Epoch: 1 [50560/60000 (84%)]\tLoss: 0.560150\n",
      "Train Epoch: 1 [51200/60000 (85%)]\tLoss: 0.620754\n",
      "Train Epoch: 1 [51840/60000 (86%)]\tLoss: 0.603148\n",
      "Train Epoch: 1 [52480/60000 (87%)]\tLoss: 0.461740\n",
      "Train Epoch: 1 [53120/60000 (88%)]\tLoss: 0.819995\n",
      "Train Epoch: 1 [53760/60000 (90%)]\tLoss: 0.369225\n",
      "Train Epoch: 1 [54400/60000 (91%)]\tLoss: 0.464083\n",
      "Train Epoch: 1 [55040/60000 (92%)]\tLoss: 0.567189\n",
      "Train Epoch: 1 [55680/60000 (93%)]\tLoss: 0.353076\n",
      "Train Epoch: 1 [56320/60000 (94%)]\tLoss: 0.548875\n",
      "Train Epoch: 1 [56960/60000 (95%)]\tLoss: 0.256570\n",
      "Train Epoch: 1 [57600/60000 (96%)]\tLoss: 0.517168\n",
      "Train Epoch: 1 [58240/60000 (97%)]\tLoss: 0.316883\n",
      "Train Epoch: 1 [58880/60000 (98%)]\tLoss: 0.617481\n",
      "Train Epoch: 1 [59520/60000 (99%)]\tLoss: 0.401128\n",
      "2.281047821044922 tensor(2.2810) 1\n",
      "4.561534404754639 tensor(2.2805) 2\n",
      "6.842929363250732 tensor(2.2814) 3\n",
      "9.124959468841553 tensor(2.2820) 4\n",
      "11.40250039100647 tensor(2.2775) 5\n",
      "13.681944131851196 tensor(2.2794) 6\n",
      "15.963680982589722 tensor(2.2817) 7\n",
      "18.245404481887817 tensor(2.2817) 8\n",
      "20.52282190322876 tensor(2.2774) 9\n",
      "22.806341886520386 tensor(2.2835) 10\n",
      "\n",
      "Test set: Avg. loss: 2.2806, Accuracy: 1009/10000 (10%)\n",
      "\n",
      "Train Epoch: 2 [0/60000 (0%)]\tLoss: 0.758510\n",
      "Train Epoch: 2 [640/60000 (1%)]\tLoss: 0.242159\n",
      "Train Epoch: 2 [1280/60000 (2%)]\tLoss: 0.519766\n",
      "Train Epoch: 2 [1920/60000 (3%)]\tLoss: 0.317243\n",
      "Train Epoch: 2 [2560/60000 (4%)]\tLoss: 0.392129\n",
      "Train Epoch: 2 [3200/60000 (5%)]\tLoss: 0.396386\n",
      "Train Epoch: 2 [3840/60000 (6%)]\tLoss: 0.468012\n",
      "Train Epoch: 2 [4480/60000 (7%)]\tLoss: 0.408524\n",
      "Train Epoch: 2 [5120/60000 (9%)]\tLoss: 0.395947\n",
      "Train Epoch: 2 [5760/60000 (10%)]\tLoss: 0.373972\n",
      "Train Epoch: 2 [6400/60000 (11%)]\tLoss: 0.451564\n",
      "Train Epoch: 2 [7040/60000 (12%)]\tLoss: 0.472594\n",
      "Train Epoch: 2 [7680/60000 (13%)]\tLoss: 0.685793\n",
      "Train Epoch: 2 [8320/60000 (14%)]\tLoss: 0.307254\n",
      "Train Epoch: 2 [8960/60000 (15%)]\tLoss: 0.441413\n",
      "Train Epoch: 2 [9600/60000 (16%)]\tLoss: 0.347311\n",
      "Train Epoch: 2 [10240/60000 (17%)]\tLoss: 0.730556\n",
      "Train Epoch: 2 [10880/60000 (18%)]\tLoss: 0.478542\n",
      "Train Epoch: 2 [11520/60000 (19%)]\tLoss: 0.324182\n",
      "Train Epoch: 2 [12160/60000 (20%)]\tLoss: 0.474316\n",
      "Train Epoch: 2 [12800/60000 (21%)]\tLoss: 0.221512\n",
      "Train Epoch: 2 [13440/60000 (22%)]\tLoss: 0.403086\n",
      "Train Epoch: 2 [14080/60000 (23%)]\tLoss: 0.457832\n",
      "Train Epoch: 2 [14720/60000 (25%)]\tLoss: 0.660391\n",
      "Train Epoch: 2 [15360/60000 (26%)]\tLoss: 0.332962\n",
      "Train Epoch: 2 [16000/60000 (27%)]\tLoss: 0.293811\n",
      "Train Epoch: 2 [16640/60000 (28%)]\tLoss: 0.274240\n",
      "Train Epoch: 2 [17280/60000 (29%)]\tLoss: 0.290093\n",
      "Train Epoch: 2 [17920/60000 (30%)]\tLoss: 0.415010\n",
      "Train Epoch: 2 [18560/60000 (31%)]\tLoss: 0.472091\n",
      "Train Epoch: 2 [19200/60000 (32%)]\tLoss: 0.718886\n",
      "Train Epoch: 2 [19840/60000 (33%)]\tLoss: 0.626619\n",
      "Train Epoch: 2 [20480/60000 (34%)]\tLoss: 0.442983\n",
      "Train Epoch: 2 [21120/60000 (35%)]\tLoss: 0.415725\n",
      "Train Epoch: 2 [21760/60000 (36%)]\tLoss: 0.407242\n",
      "Train Epoch: 2 [22400/60000 (37%)]\tLoss: 0.451912\n",
      "Train Epoch: 2 [23040/60000 (38%)]\tLoss: 0.417396\n",
      "Train Epoch: 2 [23680/60000 (39%)]\tLoss: 0.407667\n",
      "Train Epoch: 2 [24320/60000 (41%)]\tLoss: 0.436121\n",
      "Train Epoch: 2 [24960/60000 (42%)]\tLoss: 0.192651\n",
      "Train Epoch: 2 [25600/60000 (43%)]\tLoss: 0.319104\n",
      "Train Epoch: 2 [26240/60000 (44%)]\tLoss: 0.348663\n",
      "Train Epoch: 2 [26880/60000 (45%)]\tLoss: 0.394162\n",
      "Train Epoch: 2 [27520/60000 (46%)]\tLoss: 0.204324\n",
      "Train Epoch: 2 [28160/60000 (47%)]\tLoss: 0.289772\n",
      "Train Epoch: 2 [28800/60000 (48%)]\tLoss: 0.286977\n",
      "Train Epoch: 2 [29440/60000 (49%)]\tLoss: 0.275398\n",
      "Train Epoch: 2 [30080/60000 (50%)]\tLoss: 0.268155\n",
      "Train Epoch: 2 [30720/60000 (51%)]\tLoss: 0.403209\n",
      "Train Epoch: 2 [31360/60000 (52%)]\tLoss: 0.561742\n",
      "Train Epoch: 2 [32000/60000 (53%)]\tLoss: 0.695050\n",
      "Train Epoch: 2 [32640/60000 (54%)]\tLoss: 0.323518\n",
      "Train Epoch: 2 [33280/60000 (55%)]\tLoss: 0.315060\n",
      "Train Epoch: 2 [33920/60000 (57%)]\tLoss: 0.500526\n",
      "Train Epoch: 2 [34560/60000 (58%)]\tLoss: 0.378496\n",
      "Train Epoch: 2 [35200/60000 (59%)]\tLoss: 0.475135\n",
      "Train Epoch: 2 [35840/60000 (60%)]\tLoss: 0.350409\n",
      "Train Epoch: 2 [36480/60000 (61%)]\tLoss: 0.269098\n",
      "Train Epoch: 2 [37120/60000 (62%)]\tLoss: 0.303659\n",
      "Train Epoch: 2 [37760/60000 (63%)]\tLoss: 0.307158\n",
      "Train Epoch: 2 [38400/60000 (64%)]\tLoss: 0.393011\n",
      "Train Epoch: 2 [39040/60000 (65%)]\tLoss: 0.172126\n",
      "Train Epoch: 2 [39680/60000 (66%)]\tLoss: 0.336638\n",
      "Train Epoch: 2 [40320/60000 (67%)]\tLoss: 0.415345\n",
      "Train Epoch: 2 [40960/60000 (68%)]\tLoss: 0.261383\n",
      "Train Epoch: 2 [41600/60000 (69%)]\tLoss: 0.649925\n",
      "Train Epoch: 2 [42240/60000 (70%)]\tLoss: 0.222090\n",
      "Train Epoch: 2 [42880/60000 (71%)]\tLoss: 0.268804\n",
      "Train Epoch: 2 [43520/60000 (72%)]\tLoss: 0.375044\n",
      "Train Epoch: 2 [44160/60000 (74%)]\tLoss: 0.371038\n",
      "Train Epoch: 2 [44800/60000 (75%)]\tLoss: 0.357151\n",
      "Train Epoch: 2 [45440/60000 (76%)]\tLoss: 0.407320\n",
      "Train Epoch: 2 [46080/60000 (77%)]\tLoss: 0.296123\n",
      "Train Epoch: 2 [46720/60000 (78%)]\tLoss: 0.297888\n",
      "Train Epoch: 2 [47360/60000 (79%)]\tLoss: 0.280918\n",
      "Train Epoch: 2 [48000/60000 (80%)]\tLoss: 0.511938\n",
      "Train Epoch: 2 [48640/60000 (81%)]\tLoss: 0.404432\n",
      "Train Epoch: 2 [49280/60000 (82%)]\tLoss: 0.257805\n",
      "Train Epoch: 2 [49920/60000 (83%)]\tLoss: 0.168561\n",
      "Train Epoch: 2 [50560/60000 (84%)]\tLoss: 0.537434\n",
      "Train Epoch: 2 [51200/60000 (85%)]\tLoss: 0.334434\n",
      "Train Epoch: 2 [51840/60000 (86%)]\tLoss: 0.358433\n",
      "Train Epoch: 2 [52480/60000 (87%)]\tLoss: 0.155531\n",
      "Train Epoch: 2 [53120/60000 (88%)]\tLoss: 0.400484\n",
      "Train Epoch: 2 [53760/60000 (90%)]\tLoss: 0.512906\n",
      "Train Epoch: 2 [54400/60000 (91%)]\tLoss: 0.402908\n",
      "Train Epoch: 2 [55040/60000 (92%)]\tLoss: 0.317135\n",
      "Train Epoch: 2 [55680/60000 (93%)]\tLoss: 0.574701\n",
      "Train Epoch: 2 [56320/60000 (94%)]\tLoss: 0.342347\n",
      "Train Epoch: 2 [56960/60000 (95%)]\tLoss: 0.555251\n",
      "Train Epoch: 2 [57600/60000 (96%)]\tLoss: 0.419254\n",
      "Train Epoch: 2 [58240/60000 (97%)]\tLoss: 0.200850\n",
      "Train Epoch: 2 [58880/60000 (98%)]\tLoss: 0.418848\n",
      "Train Epoch: 2 [59520/60000 (99%)]\tLoss: 0.585162\n",
      "2.2768468856811523 tensor(2.2768) 1\n",
      "4.553596019744873 tensor(2.2767) 2\n",
      "6.831230878829956 tensor(2.2776) 3\n",
      "9.109660148620605 tensor(2.2784) 4\n",
      "11.381379842758179 tensor(2.2717) 5\n",
      "13.657383441925049 tensor(2.2760) 6\n",
      "15.936323642730713 tensor(2.2789) 7\n",
      "18.2141330242157 tensor(2.2778) 8\n",
      "20.488478660583496 tensor(2.2743) 9\n",
      "22.767591953277588 tensor(2.2791) 10\n",
      "\n",
      "Test set: Avg. loss: 2.2768, Accuracy: 1009/10000 (10%)\n",
      "\n",
      "Train Epoch: 3 [0/60000 (0%)]\tLoss: 0.398671\n",
      "Train Epoch: 3 [640/60000 (1%)]\tLoss: 0.255802\n",
      "Train Epoch: 3 [1280/60000 (2%)]\tLoss: 0.489660\n",
      "Train Epoch: 3 [1920/60000 (3%)]\tLoss: 0.468618\n",
      "Train Epoch: 3 [2560/60000 (4%)]\tLoss: 0.455650\n",
      "Train Epoch: 3 [3200/60000 (5%)]\tLoss: 0.247020\n",
      "Train Epoch: 3 [3840/60000 (6%)]\tLoss: 0.306880\n",
      "Train Epoch: 3 [4480/60000 (7%)]\tLoss: 0.633643\n",
      "Train Epoch: 3 [5120/60000 (9%)]\tLoss: 0.226866\n",
      "Train Epoch: 3 [5760/60000 (10%)]\tLoss: 0.148761\n",
      "Train Epoch: 3 [6400/60000 (11%)]\tLoss: 0.241318\n",
      "Train Epoch: 3 [7040/60000 (12%)]\tLoss: 0.305377\n",
      "Train Epoch: 3 [7680/60000 (13%)]\tLoss: 0.223446\n",
      "Train Epoch: 3 [8320/60000 (14%)]\tLoss: 0.439697\n",
      "Train Epoch: 3 [8960/60000 (15%)]\tLoss: 0.227403\n",
      "Train Epoch: 3 [9600/60000 (16%)]\tLoss: 0.322049\n",
      "Train Epoch: 3 [10240/60000 (17%)]\tLoss: 0.338128\n",
      "Train Epoch: 3 [10880/60000 (18%)]\tLoss: 0.228578\n",
      "Train Epoch: 3 [11520/60000 (19%)]\tLoss: 0.542609\n",
      "Train Epoch: 3 [12160/60000 (20%)]\tLoss: 0.440911\n",
      "Train Epoch: 3 [12800/60000 (21%)]\tLoss: 0.417624\n",
      "Train Epoch: 3 [13440/60000 (22%)]\tLoss: 0.348027\n",
      "Train Epoch: 3 [14080/60000 (23%)]\tLoss: 0.383667\n",
      "Train Epoch: 3 [14720/60000 (25%)]\tLoss: 0.270358\n",
      "Train Epoch: 3 [15360/60000 (26%)]\tLoss: 0.207683\n",
      "Train Epoch: 3 [16000/60000 (27%)]\tLoss: 0.379304\n",
      "Train Epoch: 3 [16640/60000 (28%)]\tLoss: 0.227362\n",
      "Train Epoch: 3 [17280/60000 (29%)]\tLoss: 0.419517\n",
      "Train Epoch: 3 [17920/60000 (30%)]\tLoss: 0.256898\n",
      "Train Epoch: 3 [18560/60000 (31%)]\tLoss: 0.702987\n",
      "Train Epoch: 3 [19200/60000 (32%)]\tLoss: 0.093425\n",
      "Train Epoch: 3 [19840/60000 (33%)]\tLoss: 0.217847\n",
      "Train Epoch: 3 [20480/60000 (34%)]\tLoss: 0.626031\n",
      "Train Epoch: 3 [21120/60000 (35%)]\tLoss: 0.474905\n",
      "Train Epoch: 3 [21760/60000 (36%)]\tLoss: 0.350319\n",
      "Train Epoch: 3 [22400/60000 (37%)]\tLoss: 0.574623\n",
      "Train Epoch: 3 [23040/60000 (38%)]\tLoss: 0.576743\n",
      "Train Epoch: 3 [23680/60000 (39%)]\tLoss: 0.433023\n",
      "Train Epoch: 3 [24320/60000 (41%)]\tLoss: 0.309816\n",
      "Train Epoch: 3 [24960/60000 (42%)]\tLoss: 0.376513\n",
      "Train Epoch: 3 [25600/60000 (43%)]\tLoss: 0.108402\n",
      "Train Epoch: 3 [26240/60000 (44%)]\tLoss: 0.221261\n",
      "Train Epoch: 3 [26880/60000 (45%)]\tLoss: 0.404631\n",
      "Train Epoch: 3 [27520/60000 (46%)]\tLoss: 0.244384\n",
      "Train Epoch: 3 [28160/60000 (47%)]\tLoss: 0.424808\n",
      "Train Epoch: 3 [28800/60000 (48%)]\tLoss: 0.237498\n",
      "Train Epoch: 3 [29440/60000 (49%)]\tLoss: 0.476693\n",
      "Train Epoch: 3 [30080/60000 (50%)]\tLoss: 0.555264\n",
      "Train Epoch: 3 [30720/60000 (51%)]\tLoss: 0.282538\n",
      "Train Epoch: 3 [31360/60000 (52%)]\tLoss: 0.209890\n",
      "Train Epoch: 3 [32000/60000 (53%)]\tLoss: 0.390657\n",
      "Train Epoch: 3 [32640/60000 (54%)]\tLoss: 0.515835\n",
      "Train Epoch: 3 [33280/60000 (55%)]\tLoss: 0.220452\n",
      "Train Epoch: 3 [33920/60000 (57%)]\tLoss: 0.359162\n",
      "Train Epoch: 3 [34560/60000 (58%)]\tLoss: 0.593061\n",
      "Train Epoch: 3 [35200/60000 (59%)]\tLoss: 0.269183\n",
      "Train Epoch: 3 [35840/60000 (60%)]\tLoss: 0.452121\n",
      "Train Epoch: 3 [36480/60000 (61%)]\tLoss: 0.245512\n",
      "Train Epoch: 3 [37120/60000 (62%)]\tLoss: 0.255206\n",
      "Train Epoch: 3 [37760/60000 (63%)]\tLoss: 0.460184\n",
      "Train Epoch: 3 [38400/60000 (64%)]\tLoss: 0.207511\n",
      "Train Epoch: 3 [39040/60000 (65%)]\tLoss: 0.212554\n",
      "Train Epoch: 3 [39680/60000 (66%)]\tLoss: 0.503764\n",
      "Train Epoch: 3 [40320/60000 (67%)]\tLoss: 0.201193\n",
      "Train Epoch: 3 [40960/60000 (68%)]\tLoss: 0.598561\n",
      "Train Epoch: 3 [41600/60000 (69%)]\tLoss: 0.197737\n",
      "Train Epoch: 3 [42240/60000 (70%)]\tLoss: 0.222494\n",
      "Train Epoch: 3 [42880/60000 (71%)]\tLoss: 0.387258\n",
      "Train Epoch: 3 [43520/60000 (72%)]\tLoss: 0.479467\n",
      "Train Epoch: 3 [44160/60000 (74%)]\tLoss: 0.253600\n",
      "Train Epoch: 3 [44800/60000 (75%)]\tLoss: 0.430351\n",
      "Train Epoch: 3 [45440/60000 (76%)]\tLoss: 0.324346\n",
      "Train Epoch: 3 [46080/60000 (77%)]\tLoss: 0.404285\n",
      "Train Epoch: 3 [46720/60000 (78%)]\tLoss: 0.332422\n",
      "Train Epoch: 3 [47360/60000 (79%)]\tLoss: 0.285793\n",
      "Train Epoch: 3 [48000/60000 (80%)]\tLoss: 0.282167\n",
      "Train Epoch: 3 [48640/60000 (81%)]\tLoss: 0.150273\n",
      "Train Epoch: 3 [49280/60000 (82%)]\tLoss: 0.295465\n",
      "Train Epoch: 3 [49920/60000 (83%)]\tLoss: 0.460287\n",
      "Train Epoch: 3 [50560/60000 (84%)]\tLoss: 0.140565\n",
      "Train Epoch: 3 [51200/60000 (85%)]\tLoss: 0.292218\n",
      "Train Epoch: 3 [51840/60000 (86%)]\tLoss: 0.240701\n",
      "Train Epoch: 3 [52480/60000 (87%)]\tLoss: 0.196831\n",
      "Train Epoch: 3 [53120/60000 (88%)]\tLoss: 0.133461\n",
      "Train Epoch: 3 [53760/60000 (90%)]\tLoss: 0.168634\n",
      "Train Epoch: 3 [54400/60000 (91%)]\tLoss: 0.109624\n",
      "Train Epoch: 3 [55040/60000 (92%)]\tLoss: 0.469054\n",
      "Train Epoch: 3 [55680/60000 (93%)]\tLoss: 0.337190\n",
      "Train Epoch: 3 [56320/60000 (94%)]\tLoss: 0.311379\n",
      "Train Epoch: 3 [56960/60000 (95%)]\tLoss: 0.352923\n",
      "Train Epoch: 3 [57600/60000 (96%)]\tLoss: 0.171872\n",
      "Train Epoch: 3 [58240/60000 (97%)]\tLoss: 0.119556\n",
      "Train Epoch: 3 [58880/60000 (98%)]\tLoss: 0.470151\n",
      "Train Epoch: 3 [59520/60000 (99%)]\tLoss: 0.214067\n",
      "2.2779953479766846 tensor(2.2780) 1\n",
      "4.556065559387207 tensor(2.2781) 2\n",
      "6.8351006507873535 tensor(2.2790) 3\n",
      "9.114903926849365 tensor(2.2798) 4\n",
      "11.386188745498657 tensor(2.2713) 5\n",
      "13.663037538528442 tensor(2.2768) 6\n",
      "15.943131446838379 tensor(2.2801) 7\n",
      "18.221932888031006 tensor(2.2788) 8\n",
      "20.49727964401245 tensor(2.2753) 9\n",
      "22.777320384979248 tensor(2.2800) 10\n",
      "\n",
      "Test set: Avg. loss: 2.2777, Accuracy: 1009/10000 (10%)\n",
      "\n"
     ]
    }
   ],
   "source": [
    "test()\n",
    "for epoch in range(1, n_epochs + 1):\n",
    "    train(epoch)\n",
    "    test()"
   ]
  }
 ],
 "metadata": {
  "kernelspec": {
   "display_name": "Python 3 (ipykernel)",
   "language": "python",
   "name": "python3"
  },
  "language_info": {
   "codemirror_mode": {
    "name": "ipython",
    "version": 3
   },
   "file_extension": ".py",
   "mimetype": "text/x-python",
   "name": "python",
   "nbconvert_exporter": "python",
   "pygments_lexer": "ipython3",
   "version": "3.9.12"
  }
 },
 "nbformat": 4,
 "nbformat_minor": 5
}
