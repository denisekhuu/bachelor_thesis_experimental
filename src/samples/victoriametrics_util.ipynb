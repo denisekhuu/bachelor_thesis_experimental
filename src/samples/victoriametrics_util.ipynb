{
 "cells": [
  {
   "cell_type": "markdown",
   "id": "f56813a0-4f4e-41ed-8a78-4a124acd994d",
   "metadata": {},
   "source": [
    "# Configurations"
   ]
  },
  {
   "cell_type": "code",
   "execution_count": 9,
   "id": "628ca891-58f0-4265-91ba-7da61c41aa91",
   "metadata": {},
   "outputs": [],
   "source": [
    "import os\n",
    "import torch.nn as nn\n",
    "from torch import device\n",
    "from federated_learning.nets import MNISTCNN, FashionMNISTCNN, MNISTFFNN\n",
    "from federated_learning.dataset import MNISTDataset, FashionMNISTDataset\n",
    "from federated_learning.client.ffnn_client import FFNNClient"
   ]
  },
  {
   "cell_type": "code",
   "execution_count": 10,
   "id": "f3de2b78-ad75-4d73-95c9-44edab2828c7",
   "metadata": {},
   "outputs": [],
   "source": [
    "class Configuration():\n",
    "    \n",
    "    # Dataset Config\n",
    "    BATCH_SIZE_TRAIN = 132\n",
    "    BATCH_SIZE_TEST = 1000\n",
    "    DATASET = MNISTDataset\n",
    "    \n",
    "    #MNIST_FASHION_DATASET Configurations\n",
    "    MNIST_FASHION_DATASET_PATH = os.path.join('./data/mnist_fashion')\n",
    "    MNIST_FASHION_LABELS = ['T-shirt/top', 'Trouser', 'Pullover', 'Dress', 'Coat', 'Sandal', 'Shirt', 'Sneaker',  'Bag', 'Ankle Boot']\n",
    "    \n",
    "    #MNIST_DATASET Configurations\n",
    "    MNIST_DATASET_PATH = os.path.join('./data/mnist')\n",
    "    \n",
    "    #CIFAR_DATASET Configurations\n",
    "    CIFAR10_DATASET_PATH = os.path.join('./data/cifar10')\n",
    "    CIFAR10_LABELS = ['Plane', 'Car', 'Bird', 'Cat','Deer', 'Dog', 'Frog', 'Horse', 'Ship', 'Truck']\n",
    "    \n",
    "    #Model Training Configurations\n",
    "    N_EPOCHS = 10\n",
    "    LEARNING_RATE = 0.01\n",
    "    MOMENTUM = 0.5\n",
    "    LOG_INTERVAL = 10\n",
    "    CRITERION = nn.CrossEntropyLoss\n",
    "    NETWORK = MNISTFFNN\n",
    "    NUMBER_TARGETS = 10\n",
    "    \n",
    "    #Local Environment Configurations\n",
    "    NUMBER_OF_CLIENTS = 3\n",
    "    CLIENT_TYPE = FFNNClient\n",
    "    DEVICE = device('cpu')\n",
    "    \n",
    "    #Label Flipping Attack\n",
    "    DATA_POISONING_PERCENTAGE = 1\n",
    "    FROM_LABEL = 5\n",
    "    TO_LABEL = 4\n",
    "    \n",
    "    #Victoria Metrics Configurations\n",
    "    VM_URL = os.getenv('VM_URL') #URL settings in docker-compose.yml\n",
    "    "
   ]
  },
  {
   "cell_type": "code",
   "execution_count": 69,
   "id": "cc3d5ac2-d983-4643-af32-f1f2da8c4adc",
   "metadata": {},
   "outputs": [],
   "source": [
    "from datetime import datetime\n",
    "from urllib.request import Request, urlopen\n",
    "from urllib.error import HTTPError\n",
    "\n",
    "class VMUtil(): \n",
    "    def __init__(self, configs): \n",
    "        \"\"\"\n",
    "        :param configs: experiment configurations\n",
    "        :type configs: Configuration\n",
    "        \"\"\"\n",
    "        self.configs = configs\n",
    "        self.vm_url = \"http://\"+ configs.VM_URL\n",
    "        \n",
    "    def http_request(self, url, data=None):\n",
    "        \"\"\"\n",
    "        Sends a http request with to an url\n",
    "        :param url: target url\n",
    "        :type url: string\n",
    "        :param data: data for a post request\n",
    "        :type data: string\n",
    "        return urllib.Request, object\n",
    "        \"\"\"\n",
    "        try:\n",
    "            request = Request(url, data=data.encode('ascii', 'ignore')) if data else Request(url)\n",
    "            response = urlopen(request)\n",
    "            return request, response\n",
    "        except HTTPError as e: \n",
    "            return None, None\n",
    "            print(\"ERROR: {}\".format(e))\n",
    "\n",
    "    def get_data_by(self, name):\n",
    "        \"\"\"\n",
    "        Returns all entries of a metrics \n",
    "        :param name: metrics __name__\n",
    "        :type name: string\n",
    "        return string\n",
    "        \"\"\"\n",
    "        url = self.vm_url +\"/api/v1/query?query=%s{}[2y]\"% (name)\n",
    "        request, response = self.http_request(url)\n",
    "        return response.read().decode(\"utf-8\")\n",
    "        \n",
    "    def push_data(self, data):\n",
    "        \"\"\"\n",
    "        Push data to Victoria Metrics Database\n",
    "        \"\"\"\n",
    "        timestamp = int(datetime.timestamp(datetime.now()))\n",
    "        url = self.vm_url + \"/write?precision=s\"\n",
    "        try:\n",
    "            request, response = self.http_request(url, data=data.format(timestamp))\n",
    "        except HTTPError as e: \n",
    "            print(\"ERROR: {}\".format(e))"
   ]
  },
  {
   "cell_type": "code",
   "execution_count": 72,
   "id": "28ca6414-d3a0-4084-9537-7512e515235c",
   "metadata": {},
   "outputs": [],
   "source": [
    "configs = Configuration()\n",
    "vm = VMUtil(configs)"
   ]
  },
  {
   "cell_type": "code",
   "execution_count": 73,
   "id": "afb9ba45-2d21-448e-af2a-b492bdb52102",
   "metadata": {},
   "outputs": [],
   "source": [
    "vm.push_data(data = \"npn,organization=testorganization,artifactid=testid downloads=1273 {}\")"
   ]
  },
  {
   "cell_type": "code",
   "execution_count": 74,
   "id": "5e92f6f0-9a8b-4615-8e9e-c90af46f6018",
   "metadata": {},
   "outputs": [],
   "source": [
    "vm.push_data(data = \"npm,organization=testorganization,artifactid=testid downloads=1276 {}\")"
   ]
  },
  {
   "cell_type": "code",
   "execution_count": 75,
   "id": "697f4c5c-736b-4732-8523-6fdc8bbd467c",
   "metadata": {},
   "outputs": [
    {
     "data": {
      "text/plain": [
       "'{\"status\":\"success\",\"data\":{\"resultType\":\"matrix\",\"result\":[{\"metric\":{\"__name__\":\"npn_downloads\",\"artifactid\":\"testid\",\"organization\":\"testorganization\"},\"values\":[[1653342036,\"1234\"],[1653343239,\"1234\"],[1653559922,\"1234\"],[1653560727,\"1234\"],[1653561830,\"1239\"],[1653561905,\"1251\"],[1653563039,\"1259\"],[1653563039,\"1259\"],[1653563039,\"1259\"],[1653563039,\"1259\"],[1653563948,\"1273\"],[1653564944,\"1273\"]]}]}}'"
      ]
     },
     "execution_count": 75,
     "metadata": {},
     "output_type": "execute_result"
    }
   ],
   "source": [
    "vm.get_data_by(\"npn_downloads\")"
   ]
  },
  {
   "cell_type": "code",
   "execution_count": 76,
   "id": "bd370d54-71ae-4905-b762-2c4c5fd0ff05",
   "metadata": {},
   "outputs": [
    {
     "data": {
      "text/plain": [
       "'{\"status\":\"success\",\"data\":{\"resultType\":\"matrix\",\"result\":[{\"metric\":{\"__name__\":\"npm_downloads\",\"artifactid\":\"testid\",\"organization\":\"testorganization\"},\"values\":[[1653561482,\"1239\"],[1653561797,\"1239\"],[1653563931,\"1267\"],[1653564949,\"1276\"]]}]}}'"
      ]
     },
     "execution_count": 76,
     "metadata": {},
     "output_type": "execute_result"
    }
   ],
   "source": [
    "vm.get_data_by(\"npm_downloads\")"
   ]
  }
 ],
 "metadata": {
  "kernelspec": {
   "display_name": "Python 3 (ipykernel)",
   "language": "python",
   "name": "python3"
  },
  "language_info": {
   "codemirror_mode": {
    "name": "ipython",
    "version": 3
   },
   "file_extension": ".py",
   "mimetype": "text/x-python",
   "name": "python",
   "nbconvert_exporter": "python",
   "pygments_lexer": "ipython3",
   "version": "3.9.12"
  }
 },
 "nbformat": 4,
 "nbformat_minor": 5
}
